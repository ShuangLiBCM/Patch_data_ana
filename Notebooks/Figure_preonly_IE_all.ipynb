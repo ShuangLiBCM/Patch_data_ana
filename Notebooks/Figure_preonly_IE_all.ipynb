{
 "cells": [
  {
   "cell_type": "code",
   "execution_count": 17,
   "metadata": {
    "collapsed": false,
    "deletable": true,
    "editable": true
   },
   "outputs": [
    {
     "name": "stdout",
     "output_type": "stream",
     "text": [
      "The autoreload extension is already loaded. To reload it, use:\n",
      "  %reload_ext autoreload\n"
     ]
    }
   ],
   "source": [
    "import numpy as np\n",
    "import pandas as pd\n",
    "import scipy.io as sio\n",
    "import matplotlib.pyplot as plt\n",
    "from scipy.optimize import curve_fit\n",
    "import pdb\n",
    "from Patch_ana import patch_pip\n",
    "import seaborn as sns\n",
    "\n",
    "% matplotlib inline\n",
    "%load_ext autoreload\n",
    "% autoreload 2"
   ]
  },
  {
   "cell_type": "code",
   "execution_count": 18,
   "metadata": {
    "collapsed": false,
    "deletable": true,
    "editable": true
   },
   "outputs": [],
   "source": [
    "pre_IE50_reci = pd.read_pickle('/data/ana_pre_IE50Hz_reci')\n",
    "pre_IE50_uni = pd.read_pickle('/data/ana_pre_IE50Hz_uni')\n",
    "pre_IE50 = pd.read_pickle('/data/ana_pre_IE50Hz')"
   ]
  },
  {
   "cell_type": "code",
   "execution_count": 19,
   "metadata": {
    "collapsed": false,
    "deletable": true,
    "editable": true
   },
   "outputs": [
    {
     "data": {
      "text/html": [
       "<div>\n",
       "<table border=\"1\" class=\"dataframe\">\n",
       "  <thead>\n",
       "    <tr style=\"text-align: right;\">\n",
       "      <th></th>\n",
       "      <th>Before</th>\n",
       "      <th>After</th>\n",
       "      <th>File name</th>\n",
       "      <th>elimi</th>\n",
       "    </tr>\n",
       "  </thead>\n",
       "  <tbody>\n",
       "    <tr>\n",
       "      <th>4</th>\n",
       "      <td>{'PPR': [[nan], [nan], [nan], [nan], [nan], [n...</td>\n",
       "      <td>{'PPR': [[0.864008411867], [0.599862875009], [...</td>\n",
       "      <td>2016072902</td>\n",
       "      <td>45</td>\n",
       "    </tr>\n",
       "    <tr>\n",
       "      <th>5</th>\n",
       "      <td>{'PPR': [[nan], [0.852533592635], [0.918682127...</td>\n",
       "      <td>{'PPR': [[0.659544505951], [0.776028618866], [...</td>\n",
       "      <td>2017021501</td>\n",
       "      <td>12</td>\n",
       "    </tr>\n",
       "    <tr>\n",
       "      <th>6</th>\n",
       "      <td>{'PPR': [[nan], [0.725135908131], [0.915149097...</td>\n",
       "      <td>{'PPR': [[0.864175229092], [0.923992477401], [...</td>\n",
       "      <td>2016092601</td>\n",
       "      <td>28</td>\n",
       "    </tr>\n",
       "    <tr>\n",
       "      <th>7</th>\n",
       "      <td>{'PPR': [[0.690709404248], [0.576432570197], [...</td>\n",
       "      <td>{'PPR': [[0.725465816524], [0.791597161754], [...</td>\n",
       "      <td>2016091502</td>\n",
       "      <td>33</td>\n",
       "    </tr>\n",
       "    <tr>\n",
       "      <th>8</th>\n",
       "      <td>{'PPR': [[0.875572408754], [0.962634620777], [...</td>\n",
       "      <td>{'PPR': [[0.782979529747], [0.844272082926], [...</td>\n",
       "      <td>2017052201</td>\n",
       "      <td>24</td>\n",
       "    </tr>\n",
       "  </tbody>\n",
       "</table>\n",
       "</div>"
      ],
      "text/plain": [
       "                                              Before  \\\n",
       "4  {'PPR': [[nan], [nan], [nan], [nan], [nan], [n...   \n",
       "5  {'PPR': [[nan], [0.852533592635], [0.918682127...   \n",
       "6  {'PPR': [[nan], [0.725135908131], [0.915149097...   \n",
       "7  {'PPR': [[0.690709404248], [0.576432570197], [...   \n",
       "8  {'PPR': [[0.875572408754], [0.962634620777], [...   \n",
       "\n",
       "                                               After   File name  elimi  \n",
       "4  {'PPR': [[0.864008411867], [0.599862875009], [...  2016072902     45  \n",
       "5  {'PPR': [[0.659544505951], [0.776028618866], [...  2017021501     12  \n",
       "6  {'PPR': [[0.864175229092], [0.923992477401], [...  2016092601     28  \n",
       "7  {'PPR': [[0.725465816524], [0.791597161754], [...  2016091502     33  \n",
       "8  {'PPR': [[0.782979529747], [0.844272082926], [...  2017052201     24  "
      ]
     },
     "execution_count": 19,
     "metadata": {},
     "output_type": "execute_result"
    }
   ],
   "source": [
    "pre_IE50_reci"
   ]
  },
  {
   "cell_type": "code",
   "execution_count": 20,
   "metadata": {
    "collapsed": false,
    "deletable": true,
    "editable": true
   },
   "outputs": [
    {
     "data": {
      "text/html": [
       "<div>\n",
       "<table border=\"1\" class=\"dataframe\">\n",
       "  <thead>\n",
       "    <tr style=\"text-align: right;\">\n",
       "      <th></th>\n",
       "      <th>Before</th>\n",
       "      <th>After</th>\n",
       "      <th>File name</th>\n",
       "      <th>elimi</th>\n",
       "    </tr>\n",
       "  </thead>\n",
       "  <tbody>\n",
       "    <tr>\n",
       "      <th>0</th>\n",
       "      <td>{'PPR': [[0.842328799793], [0.817033354844], [...</td>\n",
       "      <td>{'PPR': [[1.03222323614], [1.18164478998], [0....</td>\n",
       "      <td>2016072704</td>\n",
       "      <td>50</td>\n",
       "    </tr>\n",
       "    <tr>\n",
       "      <th>1</th>\n",
       "      <td>{'PPR': [[0.792311470187], [1.02509588856], [n...</td>\n",
       "      <td>{'PPR': [[0.593310637344], [0.653890684742], [...</td>\n",
       "      <td>2017021501</td>\n",
       "      <td>32</td>\n",
       "    </tr>\n",
       "    <tr>\n",
       "      <th>2</th>\n",
       "      <td>{'PPR': [[0.875471250679], [0.813153734038], [...</td>\n",
       "      <td>{'PPR': [[0.921805499317], [0.608724627909], [...</td>\n",
       "      <td>2016091403</td>\n",
       "      <td>30</td>\n",
       "    </tr>\n",
       "    <tr>\n",
       "      <th>3</th>\n",
       "      <td>{'PPR': [[0.615197013101], [0.441674060862], [...</td>\n",
       "      <td>{'PPR': [[0.622102703769], [0.644206674013], [...</td>\n",
       "      <td>2017062202</td>\n",
       "      <td>50</td>\n",
       "    </tr>\n",
       "  </tbody>\n",
       "</table>\n",
       "</div>"
      ],
      "text/plain": [
       "                                              Before  \\\n",
       "0  {'PPR': [[0.842328799793], [0.817033354844], [...   \n",
       "1  {'PPR': [[0.792311470187], [1.02509588856], [n...   \n",
       "2  {'PPR': [[0.875471250679], [0.813153734038], [...   \n",
       "3  {'PPR': [[0.615197013101], [0.441674060862], [...   \n",
       "\n",
       "                                               After   File name  elimi  \n",
       "0  {'PPR': [[1.03222323614], [1.18164478998], [0....  2016072704     50  \n",
       "1  {'PPR': [[0.593310637344], [0.653890684742], [...  2017021501     32  \n",
       "2  {'PPR': [[0.921805499317], [0.608724627909], [...  2016091403     30  \n",
       "3  {'PPR': [[0.622102703769], [0.644206674013], [...  2017062202     50  "
      ]
     },
     "execution_count": 20,
     "metadata": {},
     "output_type": "execute_result"
    }
   ],
   "source": [
    "pre_IE50_uni"
   ]
  },
  {
   "cell_type": "code",
   "execution_count": 24,
   "metadata": {
    "collapsed": false,
    "deletable": true,
    "editable": true
   },
   "outputs": [
    {
     "name": "stderr",
     "output_type": "stream",
     "text": [
      "/src/Patch_ana/Patch_ana/patch_pip.py:457: RuntimeWarning: Mean of empty slice\n",
      "  if aft_resp.shape[0] < 52:\n",
      "/src/Patch_ana/Patch_ana/patch_pip.py:472: RuntimeWarning: Mean of empty slice\n",
      "  ave_ptl_ste = np.nanstd(ave_ptl_resp, axis=0) / np.sqrt(i)\n",
      "/usr/local/lib/python3.5/dist-packages/numpy/lib/nanfunctions.py:1423: RuntimeWarning: Degrees of freedom <= 0 for slice.\n",
      "  keepdims=keepdims)\n"
     ]
    },
    {
     "data": {
      "text/plain": [
       "<Container object of 3 artists>"
      ]
     },
     "execution_count": 24,
     "metadata": {},
     "output_type": "execute_result"
    },
    {
     "name": "stderr",
     "output_type": "stream",
     "text": [
      "/usr/local/lib/python3.5/dist-packages/matplotlib/font_manager.py:1297: UserWarning: findfont: Font family ['sans-serif'] not found. Falling back to DejaVu Sans\n",
      "  (prop.get_family(), self.defaultFamily[fontext]))\n"
     ]
    },
    {
     "data": {
      "image/png": "[encoded data removed]",
      "text/plain": [
       "<matplotlib.figure.Figure at 0x7fb400e4bb38>"
      ]
     },
     "metadata": {},
     "output_type": "display_data"
    }
   ],
   "source": [
    "ave_ptl_resp = np.ones((len(pre_IE50_reci), 60))*np.nan\n",
    "\n",
    "ave_ptl_mean_50reci,ave_ptl_ste_50reci = patch_pip.samp_ave(pre_IE50_reci, ave_ptl_resp)\n",
    "plt.errorbar(x=np.arange(len(ave_ptl_mean_50reci)), y=ave_ptl_mean_50reci, yerr=ave_ptl_ste_50reci, fmt='bo')\n",
    "\n",
    "ave_ptl_resp = np.ones((len(pre_IE50_uni), 60))*np.nan\n",
    "ave_ptl_mean_50uni,ave_ptl_ste_50uni = patch_pip.samp_ave(pre_IE50_uni, ave_ptl_resp)\n",
    "plt.errorbar(x=np.arange(len(ave_ptl_mean_50uni)), y=ave_ptl_mean_50uni, yerr=ave_ptl_ste_50uni, fmt='ro')\n"
   ]
  },
  {
   "cell_type": "code",
   "execution_count": 25,
   "metadata": {
    "collapsed": false
   },
   "outputs": [
    {
     "name": "stderr",
     "output_type": "stream",
     "text": [
      "/src/Patch_ana/Patch_ana/patch_pip.py:457: RuntimeWarning: Mean of empty slice\n",
      "  if aft_resp.shape[0] < 52:\n",
      "/src/Patch_ana/Patch_ana/patch_pip.py:472: RuntimeWarning: Mean of empty slice\n",
      "  ave_ptl_ste = np.nanstd(ave_ptl_resp, axis=0) / np.sqrt(i)\n",
      "/usr/local/lib/python3.5/dist-packages/numpy/lib/nanfunctions.py:1423: RuntimeWarning: Degrees of freedom <= 0 for slice.\n",
      "  keepdims=keepdims)\n"
     ]
    },
    {
     "data": {
      "text/plain": [
       "<Container object of 3 artists>"
      ]
     },
     "execution_count": 25,
     "metadata": {},
     "output_type": "execute_result"
    },
    {
     "name": "stderr",
     "output_type": "stream",
     "text": [
      "/usr/local/lib/python3.5/dist-packages/matplotlib/font_manager.py:1297: UserWarning: findfont: Font family ['sans-serif'] not found. Falling back to DejaVu Sans\n",
      "  (prop.get_family(), self.defaultFamily[fontext]))\n"
     ]
    },
    {
     "data": {
      "image/png": "[encoded data removed]",
      "text/plain": [
       "<matplotlib.figure.Figure at 0x7fb400d90128>"
      ]
     },
     "metadata": {},
     "output_type": "display_data"
    }
   ],
   "source": [
    "ave_ptl_resp = np.ones((len(pre_IE50), 60))*np.nan\n",
    "ave_ptl_mean_50,ave_ptl_ste_50 = patch_pip.samp_ave(pre_IE50, ave_ptl_resp)\n",
    "plt.errorbar(x=np.arange(len(ave_ptl_mean_50)), y=ave_ptl_mean_50, yerr=ave_ptl_ste_50, fmt='ko')"
   ]
  },
  {
   "cell_type": "code",
   "execution_count": 28,
   "metadata": {
    "collapsed": false,
    "deletable": true,
    "editable": true
   },
   "outputs": [
    {
     "data": {
      "text/plain": [
       "[0, 60, 0.2, 2]"
      ]
     },
     "execution_count": 28,
     "metadata": {},
     "output_type": "execute_result"
    },
    {
     "name": "stderr",
     "output_type": "stream",
     "text": [
      "/usr/local/lib/python3.5/dist-packages/matplotlib/font_manager.py:1297: UserWarning: findfont: Font family ['sans-serif'] not found. Falling back to DejaVu Sans\n",
      "  (prop.get_family(), self.defaultFamily[fontext]))\n"
     ]
    },
    {
     "data": {
      "image/png": "[encoded data removed]",
      "text/plain": [
       "<matplotlib.figure.Figure at 0x7fb400f0d438>"
      ]
     },
     "metadata": {},
     "output_type": "display_data"
    }
   ],
   "source": [
    "ave_ptl_mean_2cp, ave_ptl_ste_2cp =  ave_ptl_mean_50reci,ave_ptl_ste_50reci \n",
    "ave_ptl_mean, ave_ptl_ste = patch_pip.pro_bef(ave_ptl_mean_2cp[:5], ave_ptl_ste_2cp[:5])\n",
    "ave_ptl_mean_2cp[:5], ave_ptl_ste_2cp[:5] = ave_ptl_mean, ave_ptl_ste \n",
    "plt.errorbar(x=np.arange(len(ave_ptl_mean_2cp)), y=ave_ptl_mean_2cp, yerr=ave_ptl_ste_2cp, fmt='ro', label='Reci (n={a})'.format(a=len(pre_IE50_reci)))\n",
    "\n",
    "ave_ptl_mean_50cp, ave_ptl_ste_50cp =  ave_ptl_mean_50uni,ave_ptl_ste_50uni\n",
    "ave_ptl_mean, ave_ptl_ste= patch_pip.pro_bef(ave_ptl_mean_50cp[:5], ave_ptl_ste_50cp[:5])\n",
    "ave_ptl_mean_50cp[:5], ave_ptl_ste_50cp[:5] = ave_ptl_mean, ave_ptl_ste \n",
    "plt.errorbar(x=np.arange(len(ave_ptl_mean_50cp)), y=ave_ptl_mean_50cp, yerr=ave_ptl_ste_50cp, fmt='ko', label='Uni (n={a})'.format(a=len(pre_IE50_uni)))\n",
    "\n",
    "plt.plot(np.ones((60))*1, 'k--')\n",
    "plt.xlabel('Time (min)')\n",
    "plt.ylabel('Normalized EPSC')\n",
    "plt.legend()\n",
    "plt.title('Pre-synaptic only (-70 mV)')\n",
    "plt.axis([0,60,0.2,2])"
   ]
  },
  {
   "cell_type": "code",
   "execution_count": 9,
   "metadata": {
    "collapsed": false,
    "deletable": true,
    "editable": true
   },
   "outputs": [
    {
     "data": {
      "text/plain": [
       "<matplotlib.text.Text at 0x7f9bcb7952e8>"
      ]
     },
     "execution_count": 9,
     "metadata": {},
     "output_type": "execute_result"
    },
    {
     "name": "stderr",
     "output_type": "stream",
     "text": [
      "/usr/local/lib/python3.5/dist-packages/matplotlib/font_manager.py:1297: UserWarning: findfont: Font family ['sans-serif'] not found. Falling back to DejaVu Sans\n",
      "  (prop.get_family(), self.defaultFamily[fontext]))\n"
     ]
    },
    {
     "data": {
      "image/png": "[encoded data removed]",
      "text/plain": [
       "<matplotlib.figure.Figure at 0x7f9bc9528438>"
      ]
     },
     "metadata": {},
     "output_type": "display_data"
    }
   ],
   "source": [
    "ave_ptl_mean_50cp, ave_ptl_ste_50cp =  ave_ptl_mean_50_uni, ave_ptl_ste_50_uni\n",
    "ave_ptl_mean, ave_ptl_ste = patch_pip.pro_bef(ave_ptl_mean_50cp[:5], ave_ptl_ste_50cp[:5])\n",
    "ave_ptl_mean_50cp[:5], ave_ptl_ste_50cp[:5] = ave_ptl_mean, ave_ptl_ste \n",
    "plt.errorbar(x=np.arange(len(ave_ptl_mean_2cp)), y=ave_ptl_mean_50cp, yerr=ave_ptl_ste_50cp, fmt='ko', label='Uni (n={a})'.format(a=len(pre_LTD50_uni)))\n",
    "plt.plot(np.ones((60))*1, 'k--')\n",
    "\n",
    "ave_ptl_mean_2cp, ave_ptl_ste_2cp =  ave_ptl_mean_50, ave_ptl_ste_50\n",
    "ave_ptl_mean, ave_ptl_ste = patch_pip.pro_bef(ave_ptl_mean_2cp[:5], ave_ptl_ste_2cp[:5])\n",
    "ave_ptl_mean_2cp[:5], ave_ptl_ste_2cp[:5] = ave_ptl_mean, ave_ptl_ste \n",
    "plt.errorbar(x=np.arange(len(ave_ptl_mean_2cp)), y=ave_ptl_mean_2cp, yerr=ave_ptl_ste_2cp, fmt='ro', label='Reci (n={a})'.format(a=len(pre_LTD50)))\n",
    "\n",
    "plt.xlabel('Time (min)')\n",
    "plt.ylabel('Normalized EPSC')\n",
    "plt.legend()\n",
    "plt.title('Pre-synaptic only (-70 mV)')"
   ]
  },
  {
   "cell_type": "code",
   "execution_count": null,
   "metadata": {
    "collapsed": true,
    "deletable": true,
    "editable": true
   },
   "outputs": [],
   "source": []
  }
 ],
 "metadata": {
  "kernelspec": {
   "display_name": "Python 3",
   "language": "python",
   "name": "python3"
  },
  "language_info": {
   "codemirror_mode": {
    "name": "ipython",
    "version": 3
   },
   "file_extension": ".py",
   "mimetype": "text/x-python",
   "name": "python",
   "nbconvert_exporter": "python",
   "pygments_lexer": "ipython3",
   "version": "3.5.2"
  }
 },
 "nbformat": 4,
 "nbformat_minor": 2
}
