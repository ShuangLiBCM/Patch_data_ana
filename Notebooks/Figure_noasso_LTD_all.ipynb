{
 "cells": [
  {
   "cell_type": "code",
   "execution_count": 1,
   "metadata": {
    "collapsed": false,
    "deletable": true,
    "editable": true
   },
   "outputs": [],
   "source": [
    "import numpy as np\n",
    "import pandas as pd\n",
    "import scipy.io as sio\n",
    "import matplotlib.pyplot as plt\n",
    "from scipy.optimize import curve_fit\n",
    "import pdb\n",
    "from Patch_ana import patch_pip\n",
    "import seaborn as sns\n",
    "from matplotlib.backends.backend_pdf import PdfPages\n",
    "from scipy import stats\n",
    "\n",
    "plt.style.use('classic')\n",
    "% matplotlib inline\n",
    "%load_ext autoreload\n",
    "% autoreload"
   ]
  },
  {
   "cell_type": "code",
   "execution_count": 2,
   "metadata": {
    "collapsed": false,
    "deletable": true,
    "editable": true
   },
   "outputs": [],
   "source": [
    "post_LTD2 = pd.read_pickle('/data/ana_post_2Hz_reci')\n",
    "post_LTD50 = pd.read_pickle('/data/ana_post_EI_50Hz_reci')\n",
    "post_LTD50_uni = pd.read_pickle('/data/ana_post_EI_50Hz_uni')"
   ]
  },
  {
   "cell_type": "code",
   "execution_count": 3,
   "metadata": {
    "collapsed": false,
    "deletable": true,
    "editable": true
   },
   "outputs": [
    {
     "data": {
      "text/html": [
       "<div>\n",
       "<table border=\"1\" class=\"dataframe\">\n",
       "  <thead>\n",
       "    <tr style=\"text-align: right;\">\n",
       "      <th></th>\n",
       "      <th>Before</th>\n",
       "      <th>After</th>\n",
       "      <th>File name</th>\n",
       "      <th>elimi</th>\n",
       "      <th>spon_elimi_bef</th>\n",
       "      <th>spon_elimi_aft</th>\n",
       "    </tr>\n",
       "  </thead>\n",
       "  <tbody>\n",
       "    <tr>\n",
       "      <th>121</th>\n",
       "      <td>{'x': [1, 2, 3, 4, 5, 6, 7, 8, 9, 10, 11, 12, ...</td>\n",
       "      <td>{'x': [1, 2, 3, 4, 5, 6, 7, 8, 9, 10, 11, 12, ...</td>\n",
       "      <td>2017081802</td>\n",
       "      <td>30</td>\n",
       "      <td>[0, 1, 15, 20, 21, 22, 25, 32, 39, 42, 78]</td>\n",
       "      <td>[52, 57, 64, 65]</td>\n",
       "    </tr>\n",
       "    <tr>\n",
       "      <th>122</th>\n",
       "      <td>{'x': [1, 2, 3, 4, 5, 6, 7, 8, 9, 10, 11, 12, ...</td>\n",
       "      <td>{'x': [1, 2, 3, 4, 5, 6, 7, 8, 9, 10, 11, 12, ...</td>\n",
       "      <td>2017082302</td>\n",
       "      <td>50</td>\n",
       "      <td>[0, 3, 24, 25, 26, 37, 47, 50]</td>\n",
       "      <td>[67, 73, 80, 81, 82, 84, 88, 90, 96, 101, 116,...</td>\n",
       "    </tr>\n",
       "    <tr>\n",
       "      <th>123</th>\n",
       "      <td>{'x': [1, 2, 3, 4, 5, 6, 7, 8, 9, 10, 11, 12, ...</td>\n",
       "      <td>{'x': [1, 2, 3, 4, 5, 6, 7, 8, 9, 10, 11, 12, ...</td>\n",
       "      <td>2017082304</td>\n",
       "      <td>40</td>\n",
       "      <td>[16, 18, 19]</td>\n",
       "      <td>[38, 44, 50, 56, 57, 71, 84, 88, 95]</td>\n",
       "    </tr>\n",
       "    <tr>\n",
       "      <th>124</th>\n",
       "      <td>{'x': [1, 2, 3, 4, 5, 6, 7, 8, 9, 10, 11, 12, ...</td>\n",
       "      <td>{'x': [1, 2, 3, 4, 5, 6, 7, 8, 9, 10, 11, 12, ...</td>\n",
       "      <td>2017082402</td>\n",
       "      <td>40</td>\n",
       "      <td>[0, 2, 4, 10, 35, 54]</td>\n",
       "      <td>[37]</td>\n",
       "    </tr>\n",
       "    <tr>\n",
       "      <th>125</th>\n",
       "      <td>{'x': [1, 2, 3, 4, 5, 6, 7, 8, 9, 10, 11, 12, ...</td>\n",
       "      <td>{'x': [1, 2, 3, 4, 5, 6, 7, 8, 9, 10, 11, 12, ...</td>\n",
       "      <td>2017083001</td>\n",
       "      <td>45</td>\n",
       "      <td>[0, 9, 20, 22, 25, 31, 35, 49, 52, 56, 59]</td>\n",
       "      <td>[57, 63, 67, 70, 71, 80, 104]</td>\n",
       "    </tr>\n",
       "    <tr>\n",
       "      <th>126</th>\n",
       "      <td>{'x': [1, 2, 3, 4, 5, 6, 7, 8, 9, 10, 11, 12, ...</td>\n",
       "      <td>{'x': [1, 2, 3, 4, 5, 6, 7, 8, 9, 10, 11, 12, ...</td>\n",
       "      <td>2017083101</td>\n",
       "      <td>30</td>\n",
       "      <td>[3, 5, 12, 13, 14, 15, 16, 19, 24, 44, 50, 67,...</td>\n",
       "      <td>[37, 39, 45, 46, 59, 60]</td>\n",
       "    </tr>\n",
       "  </tbody>\n",
       "</table>\n",
       "</div>"
      ],
      "text/plain": [
       "                                                Before  \\\n",
       "121  {'x': [1, 2, 3, 4, 5, 6, 7, 8, 9, 10, 11, 12, ...   \n",
       "122  {'x': [1, 2, 3, 4, 5, 6, 7, 8, 9, 10, 11, 12, ...   \n",
       "123  {'x': [1, 2, 3, 4, 5, 6, 7, 8, 9, 10, 11, 12, ...   \n",
       "124  {'x': [1, 2, 3, 4, 5, 6, 7, 8, 9, 10, 11, 12, ...   \n",
       "125  {'x': [1, 2, 3, 4, 5, 6, 7, 8, 9, 10, 11, 12, ...   \n",
       "126  {'x': [1, 2, 3, 4, 5, 6, 7, 8, 9, 10, 11, 12, ...   \n",
       "\n",
       "                                                 After   File name  elimi  \\\n",
       "121  {'x': [1, 2, 3, 4, 5, 6, 7, 8, 9, 10, 11, 12, ...  2017081802     30   \n",
       "122  {'x': [1, 2, 3, 4, 5, 6, 7, 8, 9, 10, 11, 12, ...  2017082302     50   \n",
       "123  {'x': [1, 2, 3, 4, 5, 6, 7, 8, 9, 10, 11, 12, ...  2017082304     40   \n",
       "124  {'x': [1, 2, 3, 4, 5, 6, 7, 8, 9, 10, 11, 12, ...  2017082402     40   \n",
       "125  {'x': [1, 2, 3, 4, 5, 6, 7, 8, 9, 10, 11, 12, ...  2017083001     45   \n",
       "126  {'x': [1, 2, 3, 4, 5, 6, 7, 8, 9, 10, 11, 12, ...  2017083101     30   \n",
       "\n",
       "                                        spon_elimi_bef  \\\n",
       "121         [0, 1, 15, 20, 21, 22, 25, 32, 39, 42, 78]   \n",
       "122                     [0, 3, 24, 25, 26, 37, 47, 50]   \n",
       "123                                       [16, 18, 19]   \n",
       "124                              [0, 2, 4, 10, 35, 54]   \n",
       "125         [0, 9, 20, 22, 25, 31, 35, 49, 52, 56, 59]   \n",
       "126  [3, 5, 12, 13, 14, 15, 16, 19, 24, 44, 50, 67,...   \n",
       "\n",
       "                                        spon_elimi_aft  \n",
       "121                                   [52, 57, 64, 65]  \n",
       "122  [67, 73, 80, 81, 82, 84, 88, 90, 96, 101, 116,...  \n",
       "123               [38, 44, 50, 56, 57, 71, 84, 88, 95]  \n",
       "124                                               [37]  \n",
       "125                      [57, 63, 67, 70, 71, 80, 104]  \n",
       "126                           [37, 39, 45, 46, 59, 60]  "
      ]
     },
     "execution_count": 3,
     "metadata": {},
     "output_type": "execute_result"
    }
   ],
   "source": [
    "post_LTD2"
   ]
  },
  {
   "cell_type": "code",
   "execution_count": 4,
   "metadata": {
    "collapsed": false,
    "deletable": true,
    "editable": true
   },
   "outputs": [
    {
     "data": {
      "text/html": [
       "<div>\n",
       "<table border=\"1\" class=\"dataframe\">\n",
       "  <thead>\n",
       "    <tr style=\"text-align: right;\">\n",
       "      <th></th>\n",
       "      <th>Before</th>\n",
       "      <th>After</th>\n",
       "      <th>File name</th>\n",
       "      <th>elimi</th>\n",
       "      <th>spon_elimi_bef</th>\n",
       "      <th>spon_elimi_aft</th>\n",
       "    </tr>\n",
       "  </thead>\n",
       "  <tbody>\n",
       "    <tr>\n",
       "      <th>36</th>\n",
       "      <td>{'x': [1, 2, 3, 4, 5, 6, 7, 8, 9, 10, 11, 12, ...</td>\n",
       "      <td>{'x': [1, 2, 3, 4, 5, 6, 7, 8, 9, 10, 11, 12, ...</td>\n",
       "      <td>2017032701</td>\n",
       "      <td>40</td>\n",
       "      <td>[15, 16, 17, 18, 19, 20, 21, 22, 23, 24, 27, 3...</td>\n",
       "      <td>[]</td>\n",
       "    </tr>\n",
       "    <tr>\n",
       "      <th>37</th>\n",
       "      <td>{'x': [1, 2, 3, 4, 5, 6, 7, 8, 9, 10, 11, 12, ...</td>\n",
       "      <td>{'x': [1, 2, 3, 4, 5, 6, 7, 8, 9, 10, 11, 12, ...</td>\n",
       "      <td>2017032802</td>\n",
       "      <td>40</td>\n",
       "      <td>[]</td>\n",
       "      <td>[126, 128, 130, 137, 139, 141, 146, 150]</td>\n",
       "    </tr>\n",
       "    <tr>\n",
       "      <th>38</th>\n",
       "      <td>{'x': [1, 2, 3, 4, 5, 6, 7, 8, 9, 10, 11, 12, ...</td>\n",
       "      <td>{'x': [1, 2, 3, 4, 5, 6, 7, 8, 9, 10, 11, 12, ...</td>\n",
       "      <td>2017032905</td>\n",
       "      <td>20</td>\n",
       "      <td>[9, 10, 22, 29, 30, 32, 33, 36, 37]</td>\n",
       "      <td>[6, 8, 11, 14, 22, 27, 29]</td>\n",
       "    </tr>\n",
       "    <tr>\n",
       "      <th>39</th>\n",
       "      <td>{'x': [1, 2, 3, 4, 5, 6, 7, 8, 9, 10, 11, 12],...</td>\n",
       "      <td>{'x': [1, 2, 3, 4, 5, 6, 7, 8, 9, 10, 11, 12, ...</td>\n",
       "      <td>2017053102</td>\n",
       "      <td>20</td>\n",
       "      <td>[19, 22, 26, 39]</td>\n",
       "      <td>[14, 19, 24, 25, 34, 36]</td>\n",
       "    </tr>\n",
       "    <tr>\n",
       "      <th>172</th>\n",
       "      <td>{'x': [1, 2, 3, 4, 5, 6, 7, 8, 9, 10], 'raw_am...</td>\n",
       "      <td>{'x': [1, 2, 3, 4, 5, 6, 7, 8, 9, 10, 11, 12, ...</td>\n",
       "      <td>2018032301</td>\n",
       "      <td>30</td>\n",
       "      <td>[0, 1, 4, 8, 10, 19, 26, 29, 30, 31]</td>\n",
       "      <td>[37, 41, 42, 53, 62, 69, 70, 72, 87, 88, 92]</td>\n",
       "    </tr>\n",
       "    <tr>\n",
       "      <th>175</th>\n",
       "      <td>{'x': [1, 2, 3, 4, 5, 6, 7, 8, 9], 'raw_amp1':...</td>\n",
       "      <td>{'x': [1, 2, 3, 4, 5, 6, 7, 8, 9, 10, 11, 12, ...</td>\n",
       "      <td>2018032802</td>\n",
       "      <td>25</td>\n",
       "      <td>[23]</td>\n",
       "      <td>[51, 60, 62]</td>\n",
       "    </tr>\n",
       "  </tbody>\n",
       "</table>\n",
       "</div>"
      ],
      "text/plain": [
       "                                                Before  \\\n",
       "36   {'x': [1, 2, 3, 4, 5, 6, 7, 8, 9, 10, 11, 12, ...   \n",
       "37   {'x': [1, 2, 3, 4, 5, 6, 7, 8, 9, 10, 11, 12, ...   \n",
       "38   {'x': [1, 2, 3, 4, 5, 6, 7, 8, 9, 10, 11, 12, ...   \n",
       "39   {'x': [1, 2, 3, 4, 5, 6, 7, 8, 9, 10, 11, 12],...   \n",
       "172  {'x': [1, 2, 3, 4, 5, 6, 7, 8, 9, 10], 'raw_am...   \n",
       "175  {'x': [1, 2, 3, 4, 5, 6, 7, 8, 9], 'raw_amp1':...   \n",
       "\n",
       "                                                 After   File name  elimi  \\\n",
       "36   {'x': [1, 2, 3, 4, 5, 6, 7, 8, 9, 10, 11, 12, ...  2017032701     40   \n",
       "37   {'x': [1, 2, 3, 4, 5, 6, 7, 8, 9, 10, 11, 12, ...  2017032802     40   \n",
       "38   {'x': [1, 2, 3, 4, 5, 6, 7, 8, 9, 10, 11, 12, ...  2017032905     20   \n",
       "39   {'x': [1, 2, 3, 4, 5, 6, 7, 8, 9, 10, 11, 12, ...  2017053102     20   \n",
       "172  {'x': [1, 2, 3, 4, 5, 6, 7, 8, 9, 10, 11, 12, ...  2018032301     30   \n",
       "175  {'x': [1, 2, 3, 4, 5, 6, 7, 8, 9, 10, 11, 12, ...  2018032802     25   \n",
       "\n",
       "                                        spon_elimi_bef  \\\n",
       "36   [15, 16, 17, 18, 19, 20, 21, 22, 23, 24, 27, 3...   \n",
       "37                                                  []   \n",
       "38                 [9, 10, 22, 29, 30, 32, 33, 36, 37]   \n",
       "39                                    [19, 22, 26, 39]   \n",
       "172               [0, 1, 4, 8, 10, 19, 26, 29, 30, 31]   \n",
       "175                                               [23]   \n",
       "\n",
       "                                   spon_elimi_aft  \n",
       "36                                             []  \n",
       "37       [126, 128, 130, 137, 139, 141, 146, 150]  \n",
       "38                     [6, 8, 11, 14, 22, 27, 29]  \n",
       "39                       [14, 19, 24, 25, 34, 36]  \n",
       "172  [37, 41, 42, 53, 62, 69, 70, 72, 87, 88, 92]  \n",
       "175                                  [51, 60, 62]  "
      ]
     },
     "execution_count": 4,
     "metadata": {},
     "output_type": "execute_result"
    }
   ],
   "source": [
    "post_LTD50"
   ]
  },
  {
   "cell_type": "code",
   "execution_count": 5,
   "metadata": {
    "collapsed": false,
    "deletable": true,
    "editable": true
   },
   "outputs": [
    {
     "data": {
      "text/html": [
       "<div>\n",
       "<table border=\"1\" class=\"dataframe\">\n",
       "  <thead>\n",
       "    <tr style=\"text-align: right;\">\n",
       "      <th></th>\n",
       "      <th>Before</th>\n",
       "      <th>After</th>\n",
       "      <th>File name</th>\n",
       "      <th>elimi</th>\n",
       "    </tr>\n",
       "  </thead>\n",
       "  <tbody>\n",
       "    <tr>\n",
       "      <th>30</th>\n",
       "      <td>{'x': [1, 2, 3, 4, 5, 6, 7, 8, 9, 10, 11], 'ra...</td>\n",
       "      <td>{'x': [1, 2, 3, 4, 5, 6, 7, 8, 9, 10, 11, 12, ...</td>\n",
       "      <td>2017032401</td>\n",
       "      <td>50</td>\n",
       "    </tr>\n",
       "    <tr>\n",
       "      <th>31</th>\n",
       "      <td>{'x': [1, 2, 3, 4, 5, 6, 7, 8, 9, 10, 11, 12],...</td>\n",
       "      <td>{'x': [1, 2, 3, 4, 5, 6, 7, 8, 9, 10, 11, 12, ...</td>\n",
       "      <td>2017032803</td>\n",
       "      <td>60</td>\n",
       "    </tr>\n",
       "    <tr>\n",
       "      <th>32</th>\n",
       "      <td>{'x': [1, 2, 3, 4, 5, 6, 7, 8, 9, 10, 11, 12, ...</td>\n",
       "      <td>{'x': [1, 2, 3, 4, 5, 6, 7, 8, 9, 10, 11, 12, ...</td>\n",
       "      <td>2017062304</td>\n",
       "      <td>40</td>\n",
       "    </tr>\n",
       "    <tr>\n",
       "      <th>33</th>\n",
       "      <td>{'x': [1, 2, 3, 4, 5, 6, 7, 8, 9, 10, 11, 12],...</td>\n",
       "      <td>{'x': [1, 2, 3, 4, 5, 6, 7, 8, 9, 10, 11, 12, ...</td>\n",
       "      <td>2017062701</td>\n",
       "      <td>24</td>\n",
       "    </tr>\n",
       "    <tr>\n",
       "      <th>34</th>\n",
       "      <td>{'x': [1, 2, 3, 4, 5, 6, 7, 8], 'raw_amp1': [2...</td>\n",
       "      <td>{'x': [1, 2, 3, 4, 5, 6, 7, 8, 9, 10, 11, 12, ...</td>\n",
       "      <td>2017060803</td>\n",
       "      <td>50</td>\n",
       "    </tr>\n",
       "  </tbody>\n",
       "</table>\n",
       "</div>"
      ],
      "text/plain": [
       "                                               Before  \\\n",
       "30  {'x': [1, 2, 3, 4, 5, 6, 7, 8, 9, 10, 11], 'ra...   \n",
       "31  {'x': [1, 2, 3, 4, 5, 6, 7, 8, 9, 10, 11, 12],...   \n",
       "32  {'x': [1, 2, 3, 4, 5, 6, 7, 8, 9, 10, 11, 12, ...   \n",
       "33  {'x': [1, 2, 3, 4, 5, 6, 7, 8, 9, 10, 11, 12],...   \n",
       "34  {'x': [1, 2, 3, 4, 5, 6, 7, 8], 'raw_amp1': [2...   \n",
       "\n",
       "                                                After   File name  elimi  \n",
       "30  {'x': [1, 2, 3, 4, 5, 6, 7, 8, 9, 10, 11, 12, ...  2017032401     50  \n",
       "31  {'x': [1, 2, 3, 4, 5, 6, 7, 8, 9, 10, 11, 12, ...  2017032803     60  \n",
       "32  {'x': [1, 2, 3, 4, 5, 6, 7, 8, 9, 10, 11, 12, ...  2017062304     40  \n",
       "33  {'x': [1, 2, 3, 4, 5, 6, 7, 8, 9, 10, 11, 12, ...  2017062701     24  \n",
       "34  {'x': [1, 2, 3, 4, 5, 6, 7, 8, 9, 10, 11, 12, ...  2017060803     50  "
      ]
     },
     "execution_count": 5,
     "metadata": {},
     "output_type": "execute_result"
    }
   ],
   "source": [
    "post_LTD50_uni"
   ]
  },
  {
   "cell_type": "code",
   "execution_count": 6,
   "metadata": {
    "collapsed": false,
    "deletable": true,
    "editable": true
   },
   "outputs": [
    {
     "name": "stderr",
     "output_type": "stream",
     "text": [
      "/src/Patch_ana/Patch_ana/patch_pip.py:489: RuntimeWarning: Mean of empty slice\n",
      "  ave_ptl_mean = np.nanmean(ave_ptl_resp_rm, axis=0)\n",
      "/usr/local/lib/python3.5/dist-packages/numpy/lib/nanfunctions.py:1423: RuntimeWarning: Degrees of freedom <= 0 for slice.\n",
      "  keepdims=keepdims)\n"
     ]
    },
    {
     "data": {
      "text/plain": [
       "<Container object of 3 artists>"
      ]
     },
     "execution_count": 6,
     "metadata": {},
     "output_type": "execute_result"
    },
    {
     "data": {
      "image/png": "[encoded data removed]",
      "text/plain": [
       "<matplotlib.figure.Figure at 0x7f34671d28d0>"
      ]
     },
     "metadata": {},
     "output_type": "display_data"
    }
   ],
   "source": [
    "ave_ptl_resp = np.ones((len( post_LTD2), 60))*np.nan\n",
    "\n",
    "ave_ptl_mean_2,ave_ptl_ste_2, ave_ptl_2 = patch_pip.samp_ave( post_LTD2, ave_ptl_resp)\n",
    "ave_ptl_mean_2 = ave_ptl_mean_2[:-12]\n",
    "ave_ptl_ste_2 = ave_ptl_ste_2[:-12]\n",
    "ave_ptl_2 = ave_ptl_2[:, :-12]\n",
    "plt.errorbar(x=np.arange(len(ave_ptl_mean_2)), y=ave_ptl_mean_2, yerr=ave_ptl_ste_2, fmt='bo')\n",
    "\n",
    "ave_ptl_resp = np.ones((len(post_LTD50), 60))*np.nan\n",
    "ave_ptl_mean_50,ave_ptl_ste_50, ave_ptl_50 = patch_pip.samp_ave(post_LTD50, ave_ptl_resp)\n",
    "ave_ptl_mean_50 = ave_ptl_mean_50[:-12]\n",
    "ave_ptl_ste_50 = ave_ptl_ste_50[:-12]\n",
    "ave_ptl_50 = ave_ptl_50[:, :-12]\n",
    "\n",
    "plt.errorbar(x=np.arange(len(ave_ptl_mean_50)), y=ave_ptl_mean_50, yerr=ave_ptl_ste_50, fmt='ro')\n",
    "\n",
    "ave_ptl_resp = np.ones((len(post_LTD50_uni), 60))*np.nan\n",
    "ave_ptl_mean_50_uni,ave_ptl_ste_50_uni, ave_ptl_50_uni = patch_pip.samp_ave(post_LTD50_uni, ave_ptl_resp)\n",
    "ave_ptl_mean_50_uni = ave_ptl_mean_50_uni[:-12]\n",
    "ave_ptl_ste_50_uni = ave_ptl_ste_50_uni[:-12]\n",
    "ave_ptl_50_uni = ave_ptl_50_uni[:, :-12]\n",
    "\n",
    "plt.errorbar(x=np.arange(len(ave_ptl_mean_50_uni)), y=ave_ptl_mean_50_uni, yerr=ave_ptl_ste_50_uni, fmt='ko')"
   ]
  },
  {
   "cell_type": "code",
   "execution_count": 22,
   "metadata": {
    "collapsed": false,
    "deletable": true,
    "editable": true
   },
   "outputs": [
    {
     "data": {
      "image/png": "[encoded data removed]",
      "text/plain": [
       "<matplotlib.figure.Figure at 0x7f3464d71e80>"
      ]
     },
     "metadata": {},
     "output_type": "display_data"
    }
   ],
   "source": [
    "ave_ptl_mean_2cp, ave_ptl_ste_2cp =  ave_ptl_mean_2, ave_ptl_ste_2\n",
    "ave_ptl_mean, ave_ptl_ste = patch_pip.pro_bef(ave_ptl_mean_2cp[:5], ave_ptl_ste_2cp[:5])\n",
    "ave_ptl_mean_2cp[:5], ave_ptl_ste_2cp[:5] = ave_ptl_mean, ave_ptl_ste \n",
    "plt.errorbar(x=np.linspace(-6 * 4/3, len(ave_ptl_mean_2cp) - 6 * 4/3, len(ave_ptl_mean_2cp)), y=ave_ptl_mean_2cp, yerr=ave_ptl_ste_2cp, fmt='bo', label='2Hz (n={a})'.format(a=len(post_LTD2)))\n",
    "\n",
    "ave_ptl_mean_50cp, ave_ptl_ste_50cp =  ave_ptl_mean_50, ave_ptl_ste_50\n",
    "ave_ptl_mean, ave_ptl_ste= patch_pip.pro_bef(ave_ptl_mean_50cp[:5], ave_ptl_ste_50cp[:5])\n",
    "ave_ptl_mean_50cp[:5], ave_ptl_ste_50cp[:5] = ave_ptl_mean, ave_ptl_ste \n",
    "plt.errorbar(x=np.linspace(-6 * 4/3, len(ave_ptl_mean_50cp)- 6 * 4/3, len(ave_ptl_mean_50cp)), y=ave_ptl_mean_50cp, yerr=ave_ptl_ste_50cp, fmt='ro', label='50Hz (n={a})'.format(a=len(post_LTD50)))\n",
    "\n",
    "plt.plot(np.ones((50))*1, 'k--')\n",
    "plt.xlabel('Time (min)')\n",
    "plt.ylabel('Normalized EPSC')\n",
    "# plt.legend()\n",
    "plt.ylim([0.2, 1.8])\n",
    "plt.title('Post-synaptic Only')\n",
    "\n",
    "with PdfPages('/data/Figure5_3.pdf') as pdf:\n",
    "    pdf.savefig()"
   ]
  },
  {
   "cell_type": "code",
   "execution_count": 23,
   "metadata": {
    "collapsed": false,
    "deletable": true,
    "editable": true
   },
   "outputs": [
    {
     "data": {
      "image/png": "[encoded data removed]",
      "text/plain": [
       "<matplotlib.figure.Figure at 0x7f3464db1630>"
      ]
     },
     "metadata": {},
     "output_type": "display_data"
    }
   ],
   "source": [
    "# Compare amplitude\n",
    "mean_amp_aft_2Hz = np.nanmean(np.nanmean(ave_ptl_2[:, -10:], axis=1))\n",
    "mean_amp_aft_50Hz = np.nanmean(np.nanmean(ave_ptl_50[:, -10:], axis=1))\n",
    "\n",
    "std_amp_aft_2Hz = np.nanstd(np.nanmean(ave_ptl_2[:, -10:], axis=1))/np.sqrt(6)\n",
    "std_amp_aft_50Hz = np.nanstd(np.nanmean(ave_ptl_50[:, -10:], axis=1))/np.sqrt(6)\n",
    "plt.bar([1,2,3], [1, mean_amp_aft_2Hz, mean_amp_aft_50Hz], align='center', width=0.4)\n",
    "plt.errorbar(x=[1,2,3], y=[1, mean_amp_aft_2Hz, mean_amp_aft_50Hz],yerr = [0, std_amp_aft_2Hz, std_amp_aft_50Hz], fmt='')\n",
    "plt.ylim([0,1.5])\n",
    "\n",
    "with PdfPages('/data/Figure3_4.pdf') as pdf:\n",
    "    pdf.savefig()"
   ]
  },
  {
   "cell_type": "code",
   "execution_count": 16,
   "metadata": {
    "collapsed": false,
    "deletable": true,
    "editable": true
   },
   "outputs": [
    {
     "data": {
      "image/png": "[encoded data removed]",
      "text/plain": [
       "<matplotlib.figure.Figure at 0x7f3464d59160>"
      ]
     },
     "metadata": {},
     "output_type": "display_data"
    }
   ],
   "source": [
    "# Compare PPR\n",
    "mean_PPR_bef = [np.nanmean(post_LTD2['Before'].loc[i]['PPR']) for i in post_LTD2['Before'].index]\n",
    "mean_PPR_aft = [np.nanmean(post_LTD2['After'].loc[i]['PPR'][-10:]) for i in post_LTD2['After'].index]\n",
    "\n",
    "mean_PPR_ave_bef = np.mean(mean_PPR_bef)\n",
    "mean_PPR_std_bef = np.std(mean_PPR_bef)/np.sqrt(6)\n",
    "mean_PPR_ave_aft = np.mean(mean_PPR_aft)\n",
    "mean_PPR_std_aft = np.std(mean_PPR_aft)/np.sqrt(6)\n",
    "\n",
    "for i, j in zip(mean_PPR_bef, mean_PPR_aft):\n",
    "    plt.plot([0.5,1.5], [i, j], 'ko-', alpha=0.3, markersize=10)\n",
    "plt.errorbar([0.5,1.5], [mean_PPR_ave_bef, mean_PPR_ave_aft], [mean_PPR_std_bef, mean_PPR_std_aft], fmt='k-o', markersize=10)\n",
    "plt.xlim([0,2])\n",
    "plt.ylim([0,3])\n",
    "with PdfPages('/data/Supp3_1.pdf') as pdf:\n",
    "    pdf.savefig()"
   ]
  },
  {
   "cell_type": "code",
   "execution_count": 17,
   "metadata": {
    "collapsed": false,
    "deletable": true,
    "editable": true
   },
   "outputs": [
    {
     "name": "stderr",
     "output_type": "stream",
     "text": [
      "/usr/local/lib/python3.5/dist-packages/ipykernel/__main__.py:3: RuntimeWarning: Mean of empty slice\n",
      "  app.launch_new_instance()\n"
     ]
    },
    {
     "data": {
      "image/png": "[encoded data removed]",
      "text/plain": [
       "<matplotlib.figure.Figure at 0x7f3464de6b00>"
      ]
     },
     "metadata": {},
     "output_type": "display_data"
    }
   ],
   "source": [
    "# Compare PPR\n",
    "mean_PPR_bef = [np.nanmean(post_LTD50['Before'].loc[i]['PPR']) for i in post_LTD50['Before'].index]\n",
    "mean_PPR_aft = [np.nanmean(post_LTD50['After'].loc[i]['PPR'][-10:]) for i in post_LTD50['After'].index]\n",
    "\n",
    "mean_PPR_ave_bef = np.nanmean(mean_PPR_bef)\n",
    "mean_PPR_std_bef = np.nanstd(mean_PPR_bef)/np.sqrt(6)\n",
    "mean_PPR_ave_aft = np.nanmean(mean_PPR_aft)\n",
    "mean_PPR_std_aft = np.nanstd(mean_PPR_aft)/np.sqrt(6)\n",
    "\n",
    "for i, j in zip(mean_PPR_bef, mean_PPR_aft):\n",
    "    plt.plot([0.5,1.5], [i, j], 'ko-', alpha=0.3, markersize=10)\n",
    "plt.errorbar([0.5,1.5], [mean_PPR_ave_bef, mean_PPR_ave_aft], [mean_PPR_std_bef, mean_PPR_std_aft], fmt='k-o', markersize=10)\n",
    "plt.xlim([0,2])\n",
    "plt.ylim([0,3])\n",
    "with PdfPages('/data/Supp3_2.pdf') as pdf:\n",
    "    pdf.savefig()"
   ]
  },
  {
   "cell_type": "code",
   "execution_count": 18,
   "metadata": {
    "collapsed": false,
    "deletable": true,
    "editable": true
   },
   "outputs": [
    {
     "name": "stdout",
     "output_type": "stream",
     "text": [
      "Ttest_relResult(statistic=-3.531330222442409, pvalue=0.016716070579629472)\n"
     ]
    },
    {
     "data": {
      "image/png": "[encoded data removed]",
      "text/plain": [
       "<matplotlib.figure.Figure at 0x7f3464f2fcc0>"
      ]
     },
     "metadata": {},
     "output_type": "display_data"
    }
   ],
   "source": [
    "# Compare failure rate\n",
    "mean_fail_bef = [np.sum(post_LTD2['Before'].loc[i]['failure'])/len(post_LTD2['Before'].loc[i]['failure']) for i in post_LTD2['Before'].index]\n",
    "mean_fail_aft = [np.sum(post_LTD2['After'].loc[i]['failure'][-40:])/40 for i in post_LTD2['After'].index]\n",
    "print(stats.ttest_rel(mean_fail_bef, mean_fail_aft))\n",
    "\n",
    "mean_fail_ave_bef = np.mean(mean_fail_bef)\n",
    "mean_fail_std_bef = np.std(mean_fail_bef)/np.sqrt(6)\n",
    "mean_fail_ave_aft = np.mean(mean_fail_aft)\n",
    "mean_fail_std_aft = np.std(mean_fail_aft)/np.sqrt(6)\n",
    "\n",
    "for i, j in zip(mean_fail_bef, mean_fail_aft):\n",
    "    plt.plot([0.5,1.5], [i, j], 'bo-', alpha=0.3, markersize=10)\n",
    "plt.errorbar([0.5,1.5], [mean_fail_ave_bef, mean_fail_ave_aft], [mean_fail_std_bef, mean_fail_std_aft], fmt='k-o', markersize=10)\n",
    "\n",
    "plt.xlim([0,2])\n",
    "plt.ylim([-0.05,0.5])\n",
    "\n",
    "with PdfPages('/data/Figure3_5.pdf') as pdf:\n",
    "    pdf.savefig()"
   ]
  },
  {
   "cell_type": "code",
   "execution_count": 19,
   "metadata": {
    "collapsed": false,
    "deletable": true,
    "editable": true
   },
   "outputs": [
    {
     "name": "stdout",
     "output_type": "stream",
     "text": [
      "Ttest_relResult(statistic=-2.9347424320758018, pvalue=0.032453784035746447)\n"
     ]
    },
    {
     "data": {
      "image/png": "[encoded data removed]",
      "text/plain": [
       "<matplotlib.figure.Figure at 0x7f34672a1e80>"
      ]
     },
     "metadata": {},
     "output_type": "display_data"
    }
   ],
   "source": [
    "# Compare failure rate\n",
    "mean_fail_bef = [np.sum(post_LTD50['Before'].loc[i]['failure'])/len(post_LTD50['Before'].loc[i]['failure']) for i in post_LTD50['Before'].index]\n",
    "mean_fail_aft = [np.sum(post_LTD50['After'].loc[i]['failure'][-60:])/60 for i in post_LTD50['After'].index]\n",
    "print(stats.ttest_rel(mean_fail_bef, mean_fail_aft))\n",
    "\n",
    "\n",
    "mean_fail_ave_bef = np.mean(mean_fail_bef)\n",
    "mean_fail_std_bef = np.std(mean_fail_bef)/np.sqrt(6)\n",
    "mean_fail_ave_aft = np.mean(mean_fail_aft)\n",
    "mean_fail_std_aft = np.std(mean_fail_aft)/np.sqrt(6)\n",
    "\n",
    "for i, j in zip(mean_fail_bef, mean_fail_aft):\n",
    "    plt.plot([0.5,1.5], [i, j], 'bo-', alpha=0.3, markersize=10)\n",
    "plt.errorbar([0.5,1.5], [mean_fail_ave_bef, mean_fail_ave_aft], [mean_fail_std_bef, mean_fail_std_aft], fmt='k-o', markersize=10)\n",
    "\n",
    "plt.xlim([0,2])\n",
    "plt.ylim([-0.05,0.5])\n",
    "\n",
    "with PdfPages('/data/Figure3_6.pdf') as pdf:\n",
    "    pdf.savefig()"
   ]
  },
  {
   "cell_type": "code",
   "execution_count": 20,
   "metadata": {
    "collapsed": false,
    "deletable": true,
    "editable": true
   },
   "outputs": [
    {
     "data": {
      "image/png": "[encoded data removed]",
      "text/plain": [
       "<matplotlib.figure.Figure at 0x7f3465050ef0>"
      ]
     },
     "metadata": {},
     "output_type": "display_data"
    }
   ],
   "source": [
    "# CV analysis\n",
    "cv_mean_bef = [np.nanmean(post_LTD2['Before'].loc[i]['raw_amp1'][-20:]) for i in post_LTD2['Before'].index]\n",
    "cv_mean_aft = [np.nanmean(ave_ptl_2[i, -10:]) * cv_mean_bef[i] for i in range(ave_ptl_2.shape[0])]\n",
    "               \n",
    "cv_std_bef = [np.nanstd(post_LTD2['Before'].loc[i]['raw_amp1'][-6:]) for i in post_LTD2['Before'].index]\n",
    "end_aft = [post_LTD2['elimi'].values[i] for i in range(len(post_LTD2))]\n",
    "cv_std_aft = [np.nanstd(post_LTD2['After'].loc[i]['raw_amp1'][max(end_aft[k]*3-100,0):end_aft[k]*3]) for k,i in enumerate(post_LTD2['After'].index)]\n",
    "\n",
    "r = [i ** 2/j ** 2 for i, j in zip([k/m for k, m in zip(cv_std_bef,cv_mean_bef)], [k/m for k, m in zip(cv_std_aft,cv_mean_aft)])]\n",
    "pi = [i/j for i, j in zip(cv_mean_aft, cv_mean_bef)]\n",
    "\n",
    "\n",
    "plt.errorbar(np.mean(pi), np.mean(r), np.std(r)/np.sqrt(len(r)), np.std(pi)/np.sqrt(len(pi)),  'o', markersize=10)\n",
    "\n",
    "# CV analysis\n",
    "cv_mean_bef = [np.nanmean(post_LTD50['Before'].loc[i]['raw_amp1'][-20:]) for i in post_LTD50['Before'].index]\n",
    "cv_mean_aft = [np.nanmean(ave_ptl_50[i, -10:]) * cv_mean_bef[i] for i in range(ave_ptl_50.shape[0])]\n",
    "               \n",
    "cv_std_bef = [np.nanstd(post_LTD50['Before'].loc[i]['raw_amp1'][-15:]) for i in post_LTD50['Before'].index]\n",
    "end_aft = [post_LTD50['elimi'].values[i] for i in range(len(post_LTD50))]\n",
    "cv_std_aft = [np.nanstd(post_LTD50['After'].loc[i]['raw_amp1'][max(end_aft[k]*3-100,0):end_aft[k]*3]) for k,i in enumerate(post_LTD50['After'].index)]\n",
    "\n",
    "r = [i ** 2/j ** 2 for i, j in zip([k/m for k, m in zip(cv_std_bef,cv_mean_bef)], [k/m for k, m in zip(cv_std_aft,cv_mean_aft)])]\n",
    "pi = [i/j for i, j in zip(cv_mean_aft, cv_mean_bef)]\n",
    "\n",
    "\n",
    "plt.errorbar(np.mean(pi), np.mean(r), np.std(r)/np.sqrt(len(r)), np.std(pi)/np.sqrt(len(pi)),  'o', markersize=10)\n",
    "\n",
    "plt.plot(np.arange(0, 4, 0.5),np.arange(0, 4, 0.5), 'k--')\n",
    "plt.plot(np.arange(0, 4, 0.5), np.ones(8),'k--')\n",
    "plt.plot(np.ones(8),np.arange(0, 4, 0.5),'k--')\n",
    "plt.xlim([0, 1.5])\n",
    "plt.ylim([0, 1.5])\n",
    "plt.axes().set_aspect('equal')\n",
    "with PdfPages('/data/Figure3_7.pdf') as pdf:\n",
    "    pdf.savefig()"
   ]
  },
  {
   "cell_type": "code",
   "execution_count": 21,
   "metadata": {
    "collapsed": false,
    "deletable": true,
    "editable": true
   },
   "outputs": [
    {
     "data": {
      "text/plain": [
       "[0, 60, 0.1, 1.7]"
      ]
     },
     "execution_count": 21,
     "metadata": {},
     "output_type": "execute_result"
    },
    {
     "data": {
      "image/png": "[encoded data removed]",
      "text/plain": [
       "<matplotlib.figure.Figure at 0x7f3464dd6b70>"
      ]
     },
     "metadata": {},
     "output_type": "display_data"
    }
   ],
   "source": [
    "ave_ptl_mean_2cp, ave_ptl_ste_2cp =  ave_ptl_mean_50_uni, ave_ptl_ste_50_uni\n",
    "ave_ptl_mean, ave_ptl_ste = patch_pip.pro_bef(ave_ptl_mean_2cp[:5], ave_ptl_ste_2cp[:5])\n",
    "ave_ptl_mean_2cp[:5], ave_ptl_ste_2cp[:5] = ave_ptl_mean, ave_ptl_ste \n",
    "plt.errorbar(x=np.arange(len(ave_ptl_mean_2cp)), y=ave_ptl_mean_2cp, yerr=ave_ptl_ste_2cp, fmt='ko', label='Uni (n={a})'.format(a=len(post_LTD50_uni)))\n",
    "ave_ptl_mean_50cp, ave_ptl_ste_50cp =  ave_ptl_mean_50, ave_ptl_ste_50\n",
    "ave_ptl_mean, ave_ptl_ste = patch_pip.pro_bef(ave_ptl_mean_50cp[:5], ave_ptl_ste_50cp[:5])\n",
    "ave_ptl_mean_50cp[:5], ave_ptl_ste_50cp[:5] = ave_ptl_mean, ave_ptl_ste \n",
    "plt.errorbar(x=np.arange(len(ave_ptl_mean_2cp)), y=ave_ptl_mean_50cp, yerr=ave_ptl_ste_50cp, fmt='ro', label='Reci (n={a})'.format(a=len(post_LTD50)))\n",
    "plt.plot(np.ones((60))*1, 'k--')\n",
    "plt.xlabel('Time (min)')\n",
    "plt.ylabel('Normalized EPSC')\n",
    "plt.legend()\n",
    "plt.title('Post-synaptic only')\n",
    "plt.axis([0,60,0.1,1.7])"
   ]
  },
  {
   "cell_type": "code",
   "execution_count": null,
   "metadata": {
    "collapsed": true,
    "deletable": true,
    "editable": true
   },
   "outputs": [],
   "source": []
  }
 ],
 "metadata": {
  "kernelspec": {
   "display_name": "Python 3",
   "language": "python",
   "name": "python3"
  },
  "language_info": {
   "codemirror_mode": {
    "name": "ipython",
    "version": 3
   },
   "file_extension": ".py",
   "mimetype": "text/x-python",
   "name": "python",
   "nbconvert_exporter": "python",
   "pygments_lexer": "ipython3",
   "version": "3.5.2"
  }
 },
 "nbformat": 4,
 "nbformat_minor": 2
}
