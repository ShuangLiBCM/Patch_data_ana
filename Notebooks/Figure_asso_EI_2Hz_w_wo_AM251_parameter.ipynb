{
 "cells": [
  {
   "cell_type": "code",
   "execution_count": 1,
   "metadata": {
    "collapsed": false,
    "deletable": true,
    "editable": true
   },
   "outputs": [],
   "source": [
    "import numpy as np\n",
    "import pandas as pd\n",
    "import scipy.io as sio\n",
    "import matplotlib.pyplot as plt\n",
    "from scipy.optimize import curve_fit\n",
    "import pdb\n",
    "from Patch_ana import patch_pip\n",
    "from matplotlib.backends.backend_pdf import PdfPages\n",
    "plt.style.use('classic')\n",
    "from scipy import stats\n",
    "from scipy import stats\n",
    "\n",
    "% matplotlib inline\n",
    "%load_ext autoreload\n",
    "% autoreload 2"
   ]
  },
  {
   "cell_type": "code",
   "execution_count": 2,
   "metadata": {
    "collapsed": false,
    "deletable": true,
    "editable": true
   },
   "outputs": [],
   "source": [
    "pre_LTD2 = pd.read_pickle('/data/ana_asso_2Hz_reci')\n",
    "pre_LTD50 = pd.read_pickle('/data/ana_am_asso_2')"
   ]
  },
  {
   "cell_type": "code",
   "execution_count": 3,
   "metadata": {
    "collapsed": false,
    "deletable": true,
    "editable": true
   },
   "outputs": [
    {
     "data": {
      "text/html": [
       "<div>\n",
       "<table border=\"1\" class=\"dataframe\">\n",
       "  <thead>\n",
       "    <tr style=\"text-align: right;\">\n",
       "      <th></th>\n",
       "      <th>Before</th>\n",
       "      <th>After</th>\n",
       "      <th>File name</th>\n",
       "      <th>elimi</th>\n",
       "    </tr>\n",
       "  </thead>\n",
       "  <tbody>\n",
       "    <tr>\n",
       "      <th>139</th>\n",
       "      <td>{'trace_rin': [3.86196970741e-11, 3.8648274590...</td>\n",
       "      <td>{'trace_rin': [4.21175796418e-11, 4.2103935232...</td>\n",
       "      <td>2017111401</td>\n",
       "      <td>50</td>\n",
       "    </tr>\n",
       "    <tr>\n",
       "      <th>140</th>\n",
       "      <td>{'trace_rin': [3.74555394564e-11, 3.7471033419...</td>\n",
       "      <td>{'trace_rin': [3.84797525789e-11, 3.8503178262...</td>\n",
       "      <td>2017111402</td>\n",
       "      <td>35</td>\n",
       "    </tr>\n",
       "    <tr>\n",
       "      <th>141</th>\n",
       "      <td>{'trace_rin': [4.12172903257e-11, 4.1297308500...</td>\n",
       "      <td>{'trace_rin': [4.45998437971e-11, 4.4546053918...</td>\n",
       "      <td>2017111501</td>\n",
       "      <td>16</td>\n",
       "    </tr>\n",
       "    <tr>\n",
       "      <th>142</th>\n",
       "      <td>{'trace_rin': [3.14814635126e-11, 3.1404884561...</td>\n",
       "      <td>{'trace_rin': [3.60903098711e-11, 3.6117397344...</td>\n",
       "      <td>2017111601</td>\n",
       "      <td>50</td>\n",
       "    </tr>\n",
       "    <tr>\n",
       "      <th>143</th>\n",
       "      <td>{'trace_rin': [3.43393644915e-11, 3.4278176482...</td>\n",
       "      <td>{'trace_rin': [3.75717010635e-11, 3.7497515930...</td>\n",
       "      <td>2017111601</td>\n",
       "      <td>30</td>\n",
       "    </tr>\n",
       "    <tr>\n",
       "      <th>144</th>\n",
       "      <td>{'trace_rin': [4.14986093563e-11, 4.1475948743...</td>\n",
       "      <td>{'trace_rin': [4.47581554167e-11, 4.4750351242...</td>\n",
       "      <td>2017111602</td>\n",
       "      <td>17</td>\n",
       "    </tr>\n",
       "    <tr>\n",
       "      <th>145</th>\n",
       "      <td>{'trace_rin': [3.46480271252e-11, 3.46916042e-...</td>\n",
       "      <td>{'trace_rin': [3.92400267884e-11, 3.9242537946...</td>\n",
       "      <td>2017111001</td>\n",
       "      <td>25</td>\n",
       "    </tr>\n",
       "    <tr>\n",
       "      <th>146</th>\n",
       "      <td>{'trace_rin': [6.91681019102e-11, 6.9174593137...</td>\n",
       "      <td>{'trace_rin': [7.13688036835e-11, 7.1335200827...</td>\n",
       "      <td>2017111002</td>\n",
       "      <td>25</td>\n",
       "    </tr>\n",
       "  </tbody>\n",
       "</table>\n",
       "</div>"
      ],
      "text/plain": [
       "                                                Before  \\\n",
       "139  {'trace_rin': [3.86196970741e-11, 3.8648274590...   \n",
       "140  {'trace_rin': [3.74555394564e-11, 3.7471033419...   \n",
       "141  {'trace_rin': [4.12172903257e-11, 4.1297308500...   \n",
       "142  {'trace_rin': [3.14814635126e-11, 3.1404884561...   \n",
       "143  {'trace_rin': [3.43393644915e-11, 3.4278176482...   \n",
       "144  {'trace_rin': [4.14986093563e-11, 4.1475948743...   \n",
       "145  {'trace_rin': [3.46480271252e-11, 3.46916042e-...   \n",
       "146  {'trace_rin': [6.91681019102e-11, 6.9174593137...   \n",
       "\n",
       "                                                 After   File name  elimi  \n",
       "139  {'trace_rin': [4.21175796418e-11, 4.2103935232...  2017111401     50  \n",
       "140  {'trace_rin': [3.84797525789e-11, 3.8503178262...  2017111402     35  \n",
       "141  {'trace_rin': [4.45998437971e-11, 4.4546053918...  2017111501     16  \n",
       "142  {'trace_rin': [3.60903098711e-11, 3.6117397344...  2017111601     50  \n",
       "143  {'trace_rin': [3.75717010635e-11, 3.7497515930...  2017111601     30  \n",
       "144  {'trace_rin': [4.47581554167e-11, 4.4750351242...  2017111602     17  \n",
       "145  {'trace_rin': [3.92400267884e-11, 3.9242537946...  2017111001     25  \n",
       "146  {'trace_rin': [7.13688036835e-11, 7.1335200827...  2017111002     25  "
      ]
     },
     "execution_count": 3,
     "metadata": {},
     "output_type": "execute_result"
    }
   ],
   "source": [
    "pre_LTD2"
   ]
  },
  {
   "cell_type": "code",
   "execution_count": 4,
   "metadata": {
    "collapsed": false,
    "deletable": true,
    "editable": true
   },
   "outputs": [
    {
     "data": {
      "text/html": [
       "<div>\n",
       "<table border=\"1\" class=\"dataframe\">\n",
       "  <thead>\n",
       "    <tr style=\"text-align: right;\">\n",
       "      <th></th>\n",
       "      <th>Before</th>\n",
       "      <th>After</th>\n",
       "      <th>File name</th>\n",
       "      <th>elimi</th>\n",
       "    </tr>\n",
       "  </thead>\n",
       "  <tbody>\n",
       "    <tr>\n",
       "      <th>154</th>\n",
       "      <td>{'trace_rin': [2.93775786802e-11, 2.9309182653...</td>\n",
       "      <td>{'trace_rin': [3.15531559202e-11, 3.1597319733...</td>\n",
       "      <td>2017121201</td>\n",
       "      <td>20</td>\n",
       "    </tr>\n",
       "    <tr>\n",
       "      <th>155</th>\n",
       "      <td>{'trace_rin': [3.66591733919e-11, 3.6624256723...</td>\n",
       "      <td>{'trace_rin': [4.26547937185e-11, 4.2691145519...</td>\n",
       "      <td>2017121501</td>\n",
       "      <td>30</td>\n",
       "    </tr>\n",
       "    <tr>\n",
       "      <th>158</th>\n",
       "      <td>{'trace_rin': [3.77196074606e-11, 3.7599658902...</td>\n",
       "      <td>{'trace_rin': [3.45373470961e-11, 3.4505945131...</td>\n",
       "      <td>2017122701</td>\n",
       "      <td>20</td>\n",
       "    </tr>\n",
       "    <tr>\n",
       "      <th>159</th>\n",
       "      <td>{'trace_rin': [4.38817684595e-11, 4.3801473522...</td>\n",
       "      <td>{'trace_rin': [5.03121939614e-11, 5.0295916561...</td>\n",
       "      <td>2017122801</td>\n",
       "      <td>40</td>\n",
       "    </tr>\n",
       "    <tr>\n",
       "      <th>160</th>\n",
       "      <td>{'trace_rin': [4.02908604433e-11, 4.0395494159...</td>\n",
       "      <td>{'trace_rin': [4.64239995341e-11, 4.6347323795...</td>\n",
       "      <td>2017122902</td>\n",
       "      <td>25</td>\n",
       "    </tr>\n",
       "    <tr>\n",
       "      <th>161</th>\n",
       "      <td>{'trace_rin': [4.05373274453e-11, 4.0521693770...</td>\n",
       "      <td>{'trace_rin': [4.34676211437e-11, 4.3430556744...</td>\n",
       "      <td>2017122903</td>\n",
       "      <td>25</td>\n",
       "    </tr>\n",
       "    <tr>\n",
       "      <th>163</th>\n",
       "      <td>{'trace_rin': [5.08899887527e-11, 5.0888262355...</td>\n",
       "      <td>{'trace_rin': [7.07517184113e-11, 7.0727090995...</td>\n",
       "      <td>2018012902</td>\n",
       "      <td>23</td>\n",
       "    </tr>\n",
       "  </tbody>\n",
       "</table>\n",
       "</div>"
      ],
      "text/plain": [
       "                                                Before  \\\n",
       "154  {'trace_rin': [2.93775786802e-11, 2.9309182653...   \n",
       "155  {'trace_rin': [3.66591733919e-11, 3.6624256723...   \n",
       "158  {'trace_rin': [3.77196074606e-11, 3.7599658902...   \n",
       "159  {'trace_rin': [4.38817684595e-11, 4.3801473522...   \n",
       "160  {'trace_rin': [4.02908604433e-11, 4.0395494159...   \n",
       "161  {'trace_rin': [4.05373274453e-11, 4.0521693770...   \n",
       "163  {'trace_rin': [5.08899887527e-11, 5.0888262355...   \n",
       "\n",
       "                                                 After   File name  elimi  \n",
       "154  {'trace_rin': [3.15531559202e-11, 3.1597319733...  2017121201     20  \n",
       "155  {'trace_rin': [4.26547937185e-11, 4.2691145519...  2017121501     30  \n",
       "158  {'trace_rin': [3.45373470961e-11, 3.4505945131...  2017122701     20  \n",
       "159  {'trace_rin': [5.03121939614e-11, 5.0295916561...  2017122801     40  \n",
       "160  {'trace_rin': [4.64239995341e-11, 4.6347323795...  2017122902     25  \n",
       "161  {'trace_rin': [4.34676211437e-11, 4.3430556744...  2017122903     25  \n",
       "163  {'trace_rin': [7.07517184113e-11, 7.0727090995...  2018012902     23  "
      ]
     },
     "execution_count": 4,
     "metadata": {},
     "output_type": "execute_result"
    }
   ],
   "source": [
    "pre_LTD50"
   ]
  },
  {
   "cell_type": "code",
   "execution_count": 5,
   "metadata": {
    "collapsed": false,
    "deletable": true,
    "editable": true
   },
   "outputs": [
    {
     "data": {
      "image/png": "[encoded data removed]",
      "text/plain": [
       "<matplotlib.figure.Figure at 0x7f3d5f0d6dd8>"
      ]
     },
     "metadata": {},
     "output_type": "display_data"
    }
   ],
   "source": [
    "ir_bef_2 = []\n",
    "ir_bef_50 = []\n",
    "ir_aft_2 = []\n",
    "ir_aft_50 = []\n",
    "\n",
    "for i in range(len(pre_LTD2)):\n",
    "    ir_bef_2.append(np.mean(pre_LTD2.Before.iloc[i]['ir']))\n",
    "    ir_aft_2.append(np.mean(pre_LTD2.After.iloc[i]['ir'][-10:]))\n",
    "    \n",
    "for i in range(len(pre_LTD50)):\n",
    "    ir_bef_50.append(np.mean(pre_LTD50.Before.iloc[i]['ir']))\n",
    "    ir_aft_50.append(np.mean(pre_LTD50.After.iloc[i]['ir'][-10:]))\n",
    "\n",
    "\n",
    "ir_bef2_mean = np.mean(ir_bef_2)\n",
    "ir_bef2_std = np.std(ir_bef_2)\n",
    "ir_aft2_mean = np.mean(ir_aft_2)\n",
    "ir_aft2_std = np.std(ir_aft_2)\n",
    "ir_bef50_mean = np.mean(ir_bef_50)\n",
    "ir_bef50_std = np.std(ir_bef_50)\n",
    "ir_aft50_mean = np.mean(ir_aft_50)\n",
    "ir_aft50_std = np.std(ir_aft_50)\n",
    "\n",
    "fig, ax = plt.subplots(1,2, sharex=True)\n",
    "ax[0].bar([1,2], [ir_bef2_mean, ir_aft2_mean], align='center', width=0.6)\n",
    "ax[0].errorbar(x=[1,2],y=[ir_bef2_mean, ir_aft2_mean], yerr=[ir_bef2_std, ir_aft2_std], fmt='')\n",
    "ax[0].set_xlim(0,3)\n",
    "ax[1].bar([1,2], [ir_bef50_mean, ir_aft50_mean], align='center', width=0.6)\n",
    "ax[1].errorbar(x=[1,2],y=[ir_bef50_mean, ir_aft50_mean], yerr=[ir_bef50_std, ir_aft50_std], fmt='')\n",
    "ax[1].set_xlim(0,3)\n",
    "\n",
    "plt.tight_layout()\n",
    "\n",
    "with PdfPages('/data/Supp2_B.pdf') as pdf:\n",
    "    pdf.savefig()"
   ]
  },
  {
   "cell_type": "code",
   "execution_count": 8,
   "metadata": {
    "collapsed": false,
    "deletable": true,
    "editable": true
   },
   "outputs": [
    {
     "data": {
      "image/png": "[encoded data removed]",
      "text/plain": [
       "<matplotlib.figure.Figure at 0x7f3d5f49d048>"
      ]
     },
     "metadata": {},
     "output_type": "display_data"
    }
   ],
   "source": [
    "ir_bef_2 = []\n",
    "ir_bef_50 = []\n",
    "ir_aft_2 = []\n",
    "ir_aft_50 = []\n",
    "\n",
    "for i in range(len(pre_LTD2)):\n",
    "    ir_bef_2.append(np.nanmean(pre_LTD2.Before.iloc[i]['onset_tau']))\n",
    "    ir_aft_2.append(np.nanmean(pre_LTD2.After.iloc[i]['onset_tau']))\n",
    "    \n",
    "for i in range(len(pre_LTD50)):\n",
    "    ir_bef_50.append(np.nanmean(pre_LTD50.Before.iloc[i]['onset_tau']))\n",
    "    ir_aft_50.append(np.nanmean(pre_LTD50.After.iloc[i]['onset_tau']))\n",
    "\n",
    "\n",
    "ir_bef2_mean = np.nanmean(ir_bef_2)\n",
    "ir_bef2_std = np.nanstd(ir_bef_2)\n",
    "ir_aft2_mean = np.nanmean(ir_aft_2)\n",
    "ir_aft2_std = np.nanstd(ir_aft_2)\n",
    "ir_bef50_mean = np.nanmean(ir_bef_50)\n",
    "ir_bef50_std = np.nanstd(ir_bef_50)\n",
    "ir_aft50_mean = np.nanmean(ir_aft_50)\n",
    "ir_aft50_std = np.nanstd(ir_aft_50)\n",
    "\n",
    "fig, ax = plt.subplots(1,2, sharex=True)\n",
    "ax[0].bar([1,2], [ir_bef2_mean, ir_aft2_mean], align='center', width=0.6)\n",
    "ax[0].errorbar(x=[1,2],y=[ir_bef2_mean, ir_aft2_mean], yerr=[ir_bef2_std, ir_aft2_std], fmt='')\n",
    "ax[0].set_xlim(0,3)\n",
    "ax[1].bar([1,2], [ir_bef50_mean, ir_aft50_mean], align='center', width=0.6)\n",
    "ax[1].errorbar(x=[1,2],y=[ir_bef50_mean, ir_aft50_mean], yerr=[ir_bef50_std, ir_aft50_std], fmt='')\n",
    "ax[1].set_xlim(0,3)\n",
    "\n",
    "plt.tight_layout()\n",
    "with PdfPages('/data/Supp2_C.pdf') as pdf:\n",
    "    pdf.savefig()\n"
   ]
  },
  {
   "cell_type": "code",
   "execution_count": 9,
   "metadata": {
    "collapsed": false,
    "deletable": true,
    "editable": true
   },
   "outputs": [
    {
     "data": {
      "image/png": "[encoded data removed]",
      "text/plain": [
       "<matplotlib.figure.Figure at 0x7f3d5f083ac8>"
      ]
     },
     "metadata": {},
     "output_type": "display_data"
    }
   ],
   "source": [
    "ir_bef_2 = []\n",
    "ir_bef_50 = []\n",
    "ir_aft_2 = []\n",
    "ir_aft_50 = []\n",
    "\n",
    "for i in range(len(pre_LTD2)):\n",
    "    ir_bef_2.append(np.nanmean(pre_LTD2.Before.iloc[i]['decay_tau']))\n",
    "    ir_aft_2.append(np.nanmean(pre_LTD2.After.iloc[i]['decay_tau']))\n",
    "    \n",
    "for i in range(len(pre_LTD50)):\n",
    "    ir_bef_50.append(np.nanmean(pre_LTD50.Before.iloc[i]['decay_tau']))\n",
    "    ir_aft_50.append(np.nanmean(pre_LTD50.After.iloc[i]['decay_tau']))\n",
    "\n",
    "\n",
    "ir_bef2_mean = np.nanmean(ir_bef_2)\n",
    "ir_bef2_std = np.nanstd(ir_bef_2)\n",
    "ir_aft2_mean = np.nanmean(ir_aft_2)\n",
    "ir_aft2_std = np.nanstd(ir_aft_2)\n",
    "ir_bef50_mean = np.nanmean(ir_bef_50)\n",
    "ir_bef50_std = np.nanstd(ir_bef_50)\n",
    "ir_aft50_mean = np.nanmean(ir_aft_50)\n",
    "ir_aft50_std = np.nanstd(ir_aft_50)\n",
    "\n",
    "fig, ax = plt.subplots(1,2, sharex=True)\n",
    "ax[0].bar([1,2], [ir_bef2_mean, ir_aft2_mean], align='center', width=0.6)\n",
    "ax[0].errorbar(x=[1,2],y=[ir_bef2_mean, ir_aft2_mean], yerr=[ir_bef2_std, ir_aft2_std], fmt='')\n",
    "ax[0].set_xlim(0,3)\n",
    "ax[1].bar([1,2], [ir_bef50_mean, ir_aft50_mean], align='center', width=0.6)\n",
    "ax[1].errorbar(x=[1,2],y=[ir_bef50_mean, ir_aft50_mean], yerr=[ir_bef50_std, ir_aft50_std], fmt='')\n",
    "ax[1].set_xlim(0,3)\n",
    "\n",
    "plt.tight_layout()\n",
    "with PdfPages('/data/Supp2_D.pdf') as pdf:\n",
    "    pdf.savefig()\n"
   ]
  },
  {
   "cell_type": "code",
   "execution_count": 10,
   "metadata": {
    "collapsed": false,
    "deletable": true,
    "editable": true
   },
   "outputs": [
    {
     "name": "stderr",
     "output_type": "stream",
     "text": [
      "/src/Patch_ana/Patch_ana/patch_pip.py:500: RuntimeWarning: Mean of empty slice\n",
      "  ave_ptl_mean = np.nanmean(ave_ptl_resp_rm, axis=0)\n",
      "/usr/local/lib/python3.5/dist-packages/numpy/lib/nanfunctions.py:1423: RuntimeWarning: Degrees of freedom <= 0 for slice.\n",
      "  keepdims=keepdims)\n"
     ]
    },
    {
     "ename": "NameError",
     "evalue": "name 'pre_LTD50_uni' is not defined",
     "output_type": "error",
     "traceback": [
      "\u001b[0;31m---------------------------------------------------------------------------\u001b[0m",
      "\u001b[0;31mNameError\u001b[0m                                 Traceback (most recent call last)",
      "\u001b[0;32m<ipython-input-10-d86ec369e60e>\u001b[0m in \u001b[0;36m<module>\u001b[0;34m()\u001b[0m\n\u001b[1;32m     16\u001b[0m \u001b[0mplt\u001b[0m\u001b[0;34m.\u001b[0m\u001b[0merrorbar\u001b[0m\u001b[0;34m(\u001b[0m\u001b[0mx\u001b[0m\u001b[0;34m=\u001b[0m\u001b[0mnp\u001b[0m\u001b[0;34m.\u001b[0m\u001b[0marange\u001b[0m\u001b[0;34m(\u001b[0m\u001b[0mlen\u001b[0m\u001b[0;34m(\u001b[0m\u001b[0mave_ptl_mean_50\u001b[0m\u001b[0;34m)\u001b[0m\u001b[0;34m)\u001b[0m\u001b[0;34m,\u001b[0m \u001b[0my\u001b[0m\u001b[0;34m=\u001b[0m\u001b[0mave_ptl_mean_50\u001b[0m\u001b[0;34m,\u001b[0m \u001b[0myerr\u001b[0m\u001b[0;34m=\u001b[0m\u001b[0mave_ptl_ste_50\u001b[0m\u001b[0;34m,\u001b[0m \u001b[0mfmt\u001b[0m\u001b[0;34m=\u001b[0m\u001b[0;34m'ro'\u001b[0m\u001b[0;34m)\u001b[0m\u001b[0;34m\u001b[0m\u001b[0m\n\u001b[1;32m     17\u001b[0m \u001b[0;34m\u001b[0m\u001b[0m\n\u001b[0;32m---> 18\u001b[0;31m \u001b[0mave_ptl_resp\u001b[0m \u001b[0;34m=\u001b[0m \u001b[0mnp\u001b[0m\u001b[0;34m.\u001b[0m\u001b[0mones\u001b[0m\u001b[0;34m(\u001b[0m\u001b[0;34m(\u001b[0m\u001b[0mlen\u001b[0m\u001b[0;34m(\u001b[0m\u001b[0mpre_LTD50_uni\u001b[0m\u001b[0;34m)\u001b[0m\u001b[0;34m,\u001b[0m \u001b[0;36m60\u001b[0m\u001b[0;34m)\u001b[0m\u001b[0;34m)\u001b[0m\u001b[0;34m*\u001b[0m\u001b[0mnp\u001b[0m\u001b[0;34m.\u001b[0m\u001b[0mnan\u001b[0m\u001b[0;34m\u001b[0m\u001b[0m\n\u001b[0m\u001b[1;32m     19\u001b[0m \u001b[0mave_ptl_mean_50_uni\u001b[0m\u001b[0;34m,\u001b[0m\u001b[0mave_ptl_ste_50_uni\u001b[0m\u001b[0;34m,\u001b[0m \u001b[0mave_ptl_50_uni\u001b[0m \u001b[0;34m=\u001b[0m \u001b[0mpatch_pip\u001b[0m\u001b[0;34m.\u001b[0m\u001b[0msamp_ave\u001b[0m\u001b[0;34m(\u001b[0m\u001b[0mpre_LTD50_uni\u001b[0m\u001b[0;34m,\u001b[0m \u001b[0mave_ptl_resp\u001b[0m\u001b[0;34m)\u001b[0m\u001b[0;34m\u001b[0m\u001b[0m\n\u001b[1;32m     20\u001b[0m \u001b[0mave_ptl_mean_50_uni\u001b[0m \u001b[0;34m=\u001b[0m \u001b[0mave_ptl_mean_50_uni\u001b[0m\u001b[0;34m[\u001b[0m\u001b[0;34m:\u001b[0m\u001b[0;34m-\u001b[0m\u001b[0;36m12\u001b[0m\u001b[0;34m]\u001b[0m\u001b[0;34m\u001b[0m\u001b[0m\n",
      "\u001b[0;31mNameError\u001b[0m: name 'pre_LTD50_uni' is not defined"
     ]
    },
    {
     "data": {
      "image/png": "[encoded data removed]",
      "text/plain": [
       "<matplotlib.figure.Figure at 0x7f3d5f13ae10>"
      ]
     },
     "metadata": {},
     "output_type": "display_data"
    }
   ],
   "source": [
    "ave_ptl_resp = np.ones((len(pre_LTD2), 60))*np.nan\n",
    "\n",
    "ave_ptl_mean_2,ave_ptl_ste_2,ave_ptl_2  = patch_pip.samp_ave(pre_LTD2, ave_ptl_resp)\n",
    "ave_ptl_mean_2 = ave_ptl_mean_2[:-12]\n",
    "ave_ptl_ste_2 = ave_ptl_ste_2[:-12]\n",
    "ave_ptl_2 = ave_ptl_2[:, :-12]\n",
    "\n",
    "plt.errorbar(x=np.arange(len(ave_ptl_mean_2)), y=ave_ptl_mean_2, yerr=ave_ptl_ste_2, fmt='bo')\n",
    "\n",
    "ave_ptl_resp = np.ones((len(pre_LTD50), 60))*np.nan\n",
    "ave_ptl_mean_50,ave_ptl_ste_50, ave_ptl_50 = patch_pip.samp_ave(pre_LTD50, ave_ptl_resp)\n",
    "ave_ptl_mean_50 = ave_ptl_mean_50[:-12]\n",
    "ave_ptl_ste_50 = ave_ptl_ste_50[:-12]\n",
    "ave_ptl_50 = ave_ptl_50[:, :-12]\n",
    "\n",
    "plt.errorbar(x=np.arange(len(ave_ptl_mean_50)), y=ave_ptl_mean_50, yerr=ave_ptl_ste_50, fmt='ro')\n",
    "\n",
    "ave_ptl_resp = np.ones((len(pre_LTD50_uni), 60))*np.nan\n",
    "ave_ptl_mean_50_uni,ave_ptl_ste_50_uni, ave_ptl_50_uni = patch_pip.samp_ave(pre_LTD50_uni, ave_ptl_resp)\n",
    "ave_ptl_mean_50_uni = ave_ptl_mean_50_uni[:-12]\n",
    "ave_ptl_ste_50_uni = ave_ptl_ste_50_uni[:-12]\n",
    "ave_ptl_50_uni = ave_ptl_50_uni[:, :-12]\n",
    "plt.errorbar(x=np.arange(len(ave_ptl_mean_50_uni)), y=ave_ptl_mean_50_uni, yerr=ave_ptl_ste_50_uni, fmt='ko')"
   ]
  },
  {
   "cell_type": "code",
   "execution_count": null,
   "metadata": {
    "collapsed": false,
    "deletable": true,
    "editable": true
   },
   "outputs": [],
   "source": [
    "ave_ptl_mean_2cp, ave_ptl_ste_2cp =  ave_ptl_mean_2, ave_ptl_ste_2\n",
    "ave_ptl_mean, ave_ptl_ste = patch_pip.pro_bef(ave_ptl_mean_2cp[:5], ave_ptl_ste_2cp[:5])\n",
    "ave_ptl_mean_2cp[:5], ave_ptl_ste_2cp[:5] = ave_ptl_mean, ave_ptl_ste \n",
    "plt.errorbar(x=np.linspace(-6 * 4/3, len(ave_ptl_mean_2cp) - 6 * 4/3, len(ave_ptl_mean_2cp)), y=ave_ptl_mean_2cp, yerr=ave_ptl_ste_2cp, fmt='bo', label='2Hz (n={a})'.format(a=len(pre_LTD2)))\n",
    "\n",
    "ave_ptl_mean_50cp, ave_ptl_ste_50cp =  ave_ptl_mean_50, ave_ptl_ste_50\n",
    "ave_ptl_mean, ave_ptl_ste= patch_pip.pro_bef(ave_ptl_mean_50cp[:5], ave_ptl_ste_50cp[:5])\n",
    "ave_ptl_mean_50cp[:5], ave_ptl_ste_50cp[:5] = ave_ptl_mean, ave_ptl_ste \n",
    "plt.errorbar(x=np.linspace(-6 * 4/3, len(ave_ptl_mean_50cp)- 6 * 4/3, len(ave_ptl_mean_50cp)), y=ave_ptl_mean_50cp, yerr=ave_ptl_ste_50cp, fmt='ro', label='50Hz (n={a})'.format(a=len(pre_LTD50)))\n",
    "\n",
    "plt.plot(np.ones((50))*1, 'k--')\n",
    "plt.xlabel('Time (min)')\n",
    "plt.ylabel('Normalized EPSC')\n",
    "# plt.legend()\n",
    "plt.ylim([0.2, 1.8])\n",
    "plt.title('Pre-synaptic only (-70 mV)')\n",
    "\n",
    "with PdfPages('/data/Figure1_1.pdf') as pdf:\n",
    "    pdf.savefig()"
   ]
  },
  {
   "cell_type": "code",
   "execution_count": null,
   "metadata": {
    "collapsed": false,
    "deletable": true,
    "editable": true
   },
   "outputs": [],
   "source": [
    "# Compare amplitude\n",
    "mean_amp_aft_2Hz = np.nanmean(np.nanmean(ave_ptl_2[:, -5:], axis=1))\n",
    "mean_amp_aft_50Hz = np.nanmean(np.nanmean(ave_ptl_50[:, -5:], axis=1))\n",
    "\n",
    "std_amp_aft_2Hz = np.nanstd(np.nanmean(ave_ptl_2[:, -5:], axis=1))/np.sqrt(6)\n",
    "std_amp_aft_50Hz = np.nanstd(np.nanmean(ave_ptl_50[:, -5:], axis=1))/np.sqrt(6)\n",
    "plt.bar([1,2,3], [1, mean_amp_aft_2Hz, mean_amp_aft_50Hz], align='center', width=0.4)\n",
    "plt.errorbar(x=[1,2,3], y=[1, mean_amp_aft_2Hz, mean_amp_aft_50Hz],yerr = [0, std_amp_aft_2Hz, std_amp_aft_50Hz], fmt='')\n",
    "plt.ylim([0,1.5])\n",
    "\n",
    "_, p_val = stats.ttest_ind(np.nanmean(ave_ptl_2[:, -5:], axis=1), np.nanmean(ave_ptl_50[:, -5:], axis=1), nan_policy='omit')\n",
    "print(p_val)\n",
    "\n",
    "with PdfPages('/data/Figure1_4.pdf') as pdf:\n",
    "    pdf.savefig()"
   ]
  },
  {
   "cell_type": "code",
   "execution_count": null,
   "metadata": {
    "collapsed": false,
    "deletable": true,
    "editable": true
   },
   "outputs": [],
   "source": [
    "# Compare PPR\n",
    "mean_PPR_bef = [np.nanmean(pre_LTD50['Before'].loc[i]['PPR']) for i in pre_LTD50['Before'].index]\n",
    "mean_PPR_aft = [np.nanmean(pre_LTD50['After'].loc[i]['PPR'][-10:]) for i in pre_LTD50['After'].index]\n",
    "\n",
    "mean_PPR_ave_bef = np.mean(mean_PPR_bef)\n",
    "mean_PPR_std_bef = np.std(mean_PPR_bef)/np.sqrt(6)\n",
    "mean_PPR_ave_aft = np.mean(mean_PPR_aft)\n",
    "mean_PPR_std_aft = np.std(mean_PPR_aft)/np.sqrt(6)\n",
    "\n",
    "for i, j in zip(mean_PPR_bef, mean_PPR_aft):\n",
    "    plt.plot([0.5,1.5], [i, j], 'bo-', alpha=0.3, markersize=10)\n",
    "plt.errorbar([0.5,1.5], [mean_PPR_ave_bef, mean_PPR_ave_aft], [mean_PPR_std_bef, mean_PPR_std_aft], fmt='r-o', markersize=10)\n",
    "plt.xlim([0,2])\n",
    "plt.ylim([0,3])\n",
    "with PdfPages('/data/Supp1_1.pdf') as pdf:\n",
    "    pdf.savefig()"
   ]
  },
  {
   "cell_type": "code",
   "execution_count": null,
   "metadata": {
    "collapsed": false,
    "deletable": true,
    "editable": true
   },
   "outputs": [],
   "source": [
    "# Compare PPR\n",
    "mean_PPR_bef = [np.nanmean(pre_LTD2['Before'].loc[i]['PPR']) for i in pre_LTD2['Before'].index]\n",
    "mean_PPR_aft = [np.nanmean(pre_LTD2['After'].loc[i]['PPR'][-10:]) for i in pre_LTD2['After'].index]\n",
    "\n",
    "mean_PPR_ave_bef = np.mean(mean_PPR_bef)\n",
    "mean_PPR_std_bef = np.std(mean_PPR_bef)/np.sqrt(6)\n",
    "mean_PPR_ave_aft = np.mean(mean_PPR_aft)\n",
    "mean_PPR_std_aft = np.std(mean_PPR_aft)/np.sqrt(6)\n",
    "\n",
    "for i, j in zip(mean_PPR_bef, mean_PPR_aft):\n",
    "    plt.plot([0.5,1.5], [i, j], 'bo-', alpha=0.3, markersize=10)\n",
    "plt.errorbar([0.5,1.5], [mean_PPR_ave_bef, mean_PPR_ave_aft], [mean_PPR_std_bef, mean_PPR_std_aft], fmt='r-o', markersize=10)\n",
    "plt.xlim([0,2])\n",
    "plt.ylim([0,3])\n",
    "with PdfPages('/data/Supp1_2.pdf') as pdf:\n",
    "    pdf.savefig()"
   ]
  },
  {
   "cell_type": "code",
   "execution_count": null,
   "metadata": {
    "collapsed": false,
    "deletable": true,
    "editable": true
   },
   "outputs": [],
   "source": [
    "# Compare failure rate\n",
    "\n",
    "mean_fail_bef = [np.sum(pre_LTD2['Before'].loc[i]['failure'])/len(pre_LTD2['Before'].loc[i]['failure']) for i in pre_LTD2['Before'].index]\n",
    "mean_fail_aft = [np.sum(pre_LTD2['After'].loc[i]['failure'][-40:])/40 for i in pre_LTD2['After'].index]\n",
    "\n",
    "\n",
    "print(stats.ttest_rel(mean_fail_bef, mean_fail_aft))\n",
    "\n",
    "mean_fail_ave_bef = np.mean(mean_fail_bef)\n",
    "mean_fail_std_bef = np.std(mean_fail_bef)/np.sqrt(6)\n",
    "mean_fail_ave_aft = np.mean(mean_fail_aft)\n",
    "mean_fail_std_aft = np.std(mean_fail_aft)/np.sqrt(6)\n",
    "\n",
    "for i, j in zip(mean_fail_bef, mean_fail_aft):\n",
    "    plt.plot([0.5,1.5], [i, j], 'bo-', alpha=0.3, markersize=10)\n",
    "plt.errorbar([0.5,1.5], [mean_fail_ave_bef, mean_fail_ave_aft], [mean_fail_std_bef, mean_fail_std_aft], fmt='k-o', markersize=10)\n",
    "\n",
    "plt.xlim([0,2])\n",
    "plt.ylim([-0.05,0.3])\n",
    "\n",
    "with PdfPages('/data/Figure1_5.pdf') as pdf:\n",
    "    pdf.savefig()"
   ]
  },
  {
   "cell_type": "code",
   "execution_count": null,
   "metadata": {
    "collapsed": false,
    "deletable": true,
    "editable": true
   },
   "outputs": [],
   "source": [
    "# Compare failure rate\n",
    "\n",
    "mean_fail_bef = [np.sum(pre_LTD50['Before'].loc[i]['failure'])/len(pre_LTD50['Before'].loc[i]['failure']) for i in pre_LTD50['Before'].index]\n",
    "mean_fail_aft = [np.sum(pre_LTD50['After'].loc[i]['failure'][-40:])/40 for i in pre_LTD50['After'].index]\n",
    "\n",
    "\n",
    "print(stats.ttest_rel(mean_fail_bef, mean_fail_aft))\n",
    "\n",
    "mean_fail_ave_bef = np.mean(mean_fail_bef)\n",
    "mean_fail_std_bef = np.std(mean_fail_bef)/np.sqrt(6)\n",
    "mean_fail_ave_aft = np.mean(mean_fail_aft)\n",
    "mean_fail_std_aft = np.std(mean_fail_aft)/np.sqrt(6)\n",
    "\n",
    "for i, j in zip(mean_fail_bef, mean_fail_aft):\n",
    "    plt.plot([0.5,1.5], [i, j], 'bo-', alpha=0.3, markersize=10)\n",
    "plt.errorbar([0.5,1.5], [mean_fail_ave_bef, mean_fail_ave_aft], [mean_fail_std_bef, mean_fail_std_aft], fmt='k-o', markersize=10)\n",
    "\n",
    "plt.xlim([0,2])\n",
    "plt.ylim([-0.05,0.3])\n",
    "\n",
    "with PdfPages('/data/Figure1_6.pdf') as pdf:\n",
    "    pdf.savefig()"
   ]
  },
  {
   "cell_type": "code",
   "execution_count": null,
   "metadata": {
    "collapsed": false,
    "deletable": true,
    "editable": true
   },
   "outputs": [],
   "source": [
    "# CV analysis\n",
    "r_50, pi_50 = patch_pip.cv_analysis(pre_LTD50, bef_len=15, aft_len=100)\n",
    "r_50.pop(2)\n",
    "pi_50.pop(2)\n",
    "\n",
    "plt.errorbar(np.mean(pi_50), np.mean(r_50), np.std(r_50)/np.sqrt(len(r_50)), np.std(pi_50)/np.sqrt(len(pi_50)),  'o', markersize=10)\n",
    "\n",
    "# CV analysis\n",
    "r_2, pi_2 = patch_pip.cv_analysis(pre_LTD2, bef_len=15, aft_len=100)\n",
    "plt.errorbar(np.mean(pi_2), np.mean(r_2), np.std(r_2)/np.sqrt(len(r_2)), np.std(pi_2)/np.sqrt(len(pi_2)),  'o', markersize=10)\n",
    "\n",
    "plt.plot(np.arange(0, 4, 0.5),np.arange(0, 4, 0.5), 'k--')\n",
    "plt.plot(np.arange(0, 4, 0.5), np.ones(8),'k--')\n",
    "plt.plot(np.ones(8),np.arange(0, 4, 0.5),'k--')\n",
    "plt.xlim([0, 1.5])\n",
    "plt.ylim([0, 1.5])\n",
    "plt.axes().set_aspect('equal')"
   ]
  },
  {
   "cell_type": "code",
   "execution_count": null,
   "metadata": {
    "collapsed": false,
    "deletable": true,
    "editable": true
   },
   "outputs": [],
   "source": [
    "# CV analysis\n",
    "cv_mean_bef = [np.nanmean(pre_LTD50['Before'].loc[i]['raw_amp1'][-20:]) for i in pre_LTD50['Before'].index]\n",
    "cv_mean_aft = [np.nanmean(ave_ptl_50[i, -10:]) * cv_mean_bef[i] for i in range(ave_ptl_50.shape[0])]\n",
    "               \n",
    "cv_std_bef = [np.nanstd(pre_LTD50['Before'].loc[i]['raw_amp1'][-15:]) for i in pre_LTD50['Before'].index]\n",
    "end_aft = [pre_LTD50['elimi'].values[i] for i in range(len(pre_LTD50))]\n",
    "cv_std_aft = [np.nanstd(pre_LTD50['After'].loc[i]['raw_amp1'][max(end_aft[k]*3-100,0):end_aft[k]*3]) for k,i in enumerate(pre_LTD50['After'].index)]\n",
    "\n",
    "r = [i ** 2/j ** 2 for i, j in zip([k/m for k, m in zip(cv_std_bef,cv_mean_bef)], [k/m for k, m in zip(cv_std_aft,cv_mean_aft)])]\n",
    "pi = [i/j for i, j in zip(cv_mean_aft, cv_mean_bef)]\n",
    "\n",
    "\n",
    "plt.errorbar(np.mean(pi), np.mean(r), np.std(r)/np.sqrt(len(r)), np.std(pi)/np.sqrt(len(pi)),  'o', markersize=10)\n",
    "\n",
    "# CV analysis\n",
    "cv_mean_bef = [np.nanmean(pre_LTD2['Before'].loc[i]['raw_amp1'][-20:]) for i in pre_LTD2['Before'].index]\n",
    "cv_mean_aft = [np.nanmean(ave_ptl_2[i, -10:]) * cv_mean_bef[i] for i in range(ave_ptl_2.shape[0])]\n",
    "               \n",
    "cv_std_bef = [np.nanstd(pre_LTD2['Before'].loc[i]['raw_amp1'][-15:]) for i in pre_LTD2['Before'].index]\n",
    "end_aft = [pre_LTD2['elimi'].values[i] for i in range(len(pre_LTD2))]\n",
    "cv_std_aft = [np.nanstd(pre_LTD2['After'].loc[i]['raw_amp1'][max(end_aft[k]*3-100,0):end_aft[k]*3]) for k,i in enumerate(pre_LTD2['After'].index)]\n",
    "\n",
    "r = [i ** 2/j ** 2 for i, j in zip([k/m for k, m in zip(cv_std_bef,cv_mean_bef)], [k/m for k, m in zip(cv_std_aft,cv_mean_aft)])]\n",
    "pi = [i/j for i, j in zip(cv_mean_aft, cv_mean_bef)]\n",
    "\n",
    "\n",
    "plt.errorbar(np.mean(pi), np.mean(r), np.std(r)/np.sqrt(len(r)), np.std(pi)/np.sqrt(len(pi)),  'o', markersize=10)\n",
    "\n",
    "plt.plot(np.arange(0, 4, 0.5),np.arange(0, 4, 0.5), 'k--')\n",
    "plt.plot(np.arange(0, 4, 0.5), np.ones(8),'k--')\n",
    "plt.plot(np.ones(8),np.arange(0, 4, 0.5),'k--')\n",
    "plt.xlim([0, 1.5])\n",
    "plt.ylim([0, 1.5])\n",
    "plt.axes().set_aspect('equal')\n",
    "with PdfPages('/data/Figure1_7.pdf') as pdf:\n",
    "    pdf.savefig()"
   ]
  },
  {
   "cell_type": "code",
   "execution_count": null,
   "metadata": {
    "collapsed": false,
    "deletable": true,
    "editable": true
   },
   "outputs": [],
   "source": [
    "ave_ptl_mean_50cp, ave_ptl_ste_50cp =  ave_ptl_mean_50_uni, ave_ptl_ste_50_uni\n",
    "ave_ptl_mean, ave_ptl_ste = patch_pip.pro_bef(ave_ptl_mean_50cp[:5], ave_ptl_ste_50cp[:5])\n",
    "ave_ptl_mean_50cp[:5], ave_ptl_ste_50cp[:5] = ave_ptl_mean, ave_ptl_ste \n",
    "plt.errorbar(x=np.arange(len(ave_ptl_mean_2cp)), y=ave_ptl_mean_50cp, yerr=ave_ptl_ste_50cp, fmt='ko', label='Uni (n={a})'.format(a=len(pre_LTD50_uni)))\n",
    "plt.plot(np.ones((60))*1, 'k--')\n",
    "\n",
    "ave_ptl_mean_2cp, ave_ptl_ste_2cp =  ave_ptl_mean_50, ave_ptl_ste_50\n",
    "ave_ptl_mean, ave_ptl_ste = patch_pip.pro_bef(ave_ptl_mean_2cp[:5], ave_ptl_ste_2cp[:5])\n",
    "ave_ptl_mean_2cp[:5], ave_ptl_ste_2cp[:5] = ave_ptl_mean, ave_ptl_ste \n",
    "plt.errorbar(x=np.arange(len(ave_ptl_mean_2cp)), y=ave_ptl_mean_2cp, yerr=ave_ptl_ste_2cp, fmt='ro', label='Reci (n={a})'.format(a=len(pre_LTD50)))\n",
    "\n",
    "plt.xlabel('Time (min)')\n",
    "plt.ylabel('Normalized EPSC')\n",
    "plt.legend()\n",
    "plt.title('Pre-synaptic only (-70 mV)')\n",
    "plt.axis([0,60,0.2,2])"
   ]
  }
 ],
 "metadata": {
  "kernelspec": {
   "display_name": "Python 3",
   "language": "python",
   "name": "python3"
  },
  "language_info": {
   "codemirror_mode": {
    "name": "ipython",
    "version": 3
   },
   "file_extension": ".py",
   "mimetype": "text/x-python",
   "name": "python",
   "nbconvert_exporter": "python",
   "pygments_lexer": "ipython3",
   "version": "3.5.2"
  }
 },
 "nbformat": 4,
 "nbformat_minor": 2
}
