{
 "cells": [
  {
   "cell_type": "markdown",
   "metadata": {
    "deletable": true,
    "editable": true
   },
   "source": [
    "Implement modules for psc detection. Select traces for spontaneous PSC analysis"
   ]
  },
  {
   "cell_type": "code",
   "execution_count": 1,
   "metadata": {
    "collapsed": false,
    "deletable": true,
    "editable": true
   },
   "outputs": [],
   "source": [
    "import numpy as np\n",
    "import pandas as pd\n",
    "import scipy.io as sio\n",
    "import matplotlib.pyplot as plt\n",
    "from scipy.optimize import curve_fit\n",
    "import pdb\n",
    "from Patch_ana import patch_pip, spon_ana\n",
    "import seaborn as sns\n",
    "from matplotlib.backends.backend_pdf import PdfPages\n",
    "plt.style.use('classic')\n",
    "\n",
    "% matplotlib inline\n",
    "# % matplotlib notebook\n",
    "\n",
    "\n",
    "%load_ext autoreload\n",
    "% autoreload"
   ]
  },
  {
   "cell_type": "code",
   "execution_count": 3,
   "metadata": {
    "collapsed": false
   },
   "outputs": [
    {
     "name": "stdout",
     "output_type": "stream",
     "text": [
      "/data\n"
     ]
    }
   ],
   "source": [
    "cd /data"
   ]
  },
  {
   "cell_type": "code",
   "execution_count": 4,
   "metadata": {
    "collapsed": false
   },
   "outputs": [
    {
     "name": "stdout",
     "output_type": "stream",
     "text": [
      "Decay_tau_reci_uni.pdf                            \u001b[0m\u001b[01;32mtest2016051004.mat\u001b[0m*\r\n",
      "E_I_age_PPR.pdf                                   \u001b[01;32mtest2016051005.mat\u001b[0m*\r\n",
      "E_I_age_decay_tau.pdf                             \u001b[01;32mtest2016051006.mat\u001b[0m*\r\n",
      "E_I_age_fail.pdf                                  \u001b[01;32mtest2016051501.mat\u001b[0m*\r\n",
      "E_I_age_onset_tau.pdf                             \u001b[01;32mtest2016051801.mat\u001b[0m*\r\n",
      "Failure_rate_reci_uni.pdf                         \u001b[01;32mtest2016051802.mat\u001b[0m*\r\n",
      "Failure_reci.pdf                                  \u001b[01;32mtest2016051804.mat\u001b[0m*\r\n",
      "Failure_uni.pdf                                   \u001b[01;32mtest2016051805.mat\u001b[0m*\r\n",
      "Figure0_3.pdf                                     \u001b[01;32mtest2016051806.mat\u001b[0m*\r\n",
      "Figure0_4.pdf                                     \u001b[01;32mtest2016051808.mat\u001b[0m*\r\n",
      "Figure0_5.pdf                                     \u001b[01;32mtest2016051809.mat\u001b[0m*\r\n",
      "Figure0_6.pdf                                     \u001b[01;32mtest2016052301.mat\u001b[0m*\r\n",
      "Figure0_7.pdf                                     \u001b[01;32mtest2016052302.mat\u001b[0m*\r\n",
      "\u001b[01;32mFigure1A_1.pdf\u001b[0m*                                   \u001b[01;32mtest2016052303.mat\u001b[0m*\r\n",
      "\u001b[01;32mFigure1A_10.pdf\u001b[0m*                                  \u001b[01;32mtest2016052304.mat\u001b[0m*\r\n",
      "\u001b[01;32mFigure1A_11.pdf\u001b[0m*                                  \u001b[01;32mtest2016060801.mat\u001b[0m*\r\n",
      "\u001b[01;32mFigure1A_12.pdf\u001b[0m*                                  \u001b[01;32mtest2016061001.mat\u001b[0m*\r\n",
      "\u001b[01;32mFigure1A_13.pdf\u001b[0m*                                  \u001b[01;32mtest2016061002.mat\u001b[0m*\r\n",
      "\u001b[01;32mFigure1A_14.pdf\u001b[0m*                                  \u001b[01;32mtest2016061003.mat\u001b[0m*\r\n",
      "\u001b[01;32mFigure1A_15.pdf\u001b[0m*                                  \u001b[01;32mtest2016061401.mat\u001b[0m*\r\n",
      "\u001b[01;32mFigure1A_16.pdf\u001b[0m*                                  \u001b[01;32mtest2016061402.mat\u001b[0m*\r\n",
      "\u001b[01;32mFigure1A_2.pdf\u001b[0m*                                   \u001b[01;32mtest2016062801.mat\u001b[0m*\r\n",
      "\u001b[01;32mFigure1A_3.pdf\u001b[0m*                                   \u001b[01;32mtest2016062802.mat\u001b[0m*\r\n",
      "\u001b[01;32mFigure1A_4.pdf\u001b[0m*                                   \u001b[01;32mtest2016062803.mat\u001b[0m*\r\n",
      "\u001b[01;32mFigure1A_5.pdf\u001b[0m*                                   \u001b[01;32mtest2016071504.mat\u001b[0m*\r\n",
      "\u001b[01;32mFigure1A_6.pdf\u001b[0m*                                   \u001b[01;32mtest2016071505.mat\u001b[0m*\r\n",
      "\u001b[01;32mFigure1A_7.pdf\u001b[0m*                                   \u001b[01;32mtest2016071603.mat\u001b[0m*\r\n",
      "\u001b[01;32mFigure1A_8.pdf\u001b[0m*                                   \u001b[01;32mtest2016072501.mat\u001b[0m*\r\n",
      "\u001b[01;32mFigure1A_9.pdf\u001b[0m*                                   \u001b[01;32mtest2016072701.mat\u001b[0m*\r\n",
      "\u001b[01;32mFigure1_1.pdf\u001b[0m*                                    \u001b[01;32mtest2016072702.mat\u001b[0m*\r\n",
      "\u001b[01;32mFigure1_12.pdf\u001b[0m*                                   \u001b[01;32mtest2016072703.mat\u001b[0m*\r\n",
      "\u001b[01;32mFigure1_13.pdf\u001b[0m*                                   \u001b[01;32mtest2016072704.mat\u001b[0m*\r\n",
      "\u001b[01;32mFigure1_14.pdf\u001b[0m*                                   \u001b[01;32mtest2016072705.mat\u001b[0m*\r\n",
      "\u001b[01;32mFigure1_15.pdf\u001b[0m*                                   \u001b[01;32mtest2016072901.mat\u001b[0m*\r\n",
      "\u001b[01;32mFigure1_4.pdf\u001b[0m*                                    \u001b[01;32mtest2016072902.mat\u001b[0m*\r\n",
      "\u001b[01;32mFigure1_5.pdf\u001b[0m*                                    \u001b[01;32mtest2016081001.mat\u001b[0m*\r\n",
      "\u001b[01;32mFigure1_6.pdf\u001b[0m*                                    \u001b[01;32mtest2016081002.mat\u001b[0m*\r\n",
      "\u001b[01;32mFigure1_7.pdf\u001b[0m*                                    \u001b[01;32mtest2016081701.mat\u001b[0m*\r\n",
      "\u001b[01;32mFigure1_9.pdf\u001b[0m*                                    \u001b[01;32mtest2016081703.mat\u001b[0m*\r\n",
      "\u001b[01;32mFigure1a_8\u001b[0m*                                       \u001b[01;32mtest2016081704.mat\u001b[0m*\r\n",
      "\u001b[01;32mFigure2_1.pdf\u001b[0m*                                    \u001b[01;32mtest2016081801.mat\u001b[0m*\r\n",
      "\u001b[01;32mFigure2_2.pdf\u001b[0m*                                    \u001b[01;32mtest2016081802.mat\u001b[0m*\r\n",
      "\u001b[01;32mFigure2_3.pdf\u001b[0m*                                    \u001b[01;32mtest2016081901.mat\u001b[0m*\r\n",
      "\u001b[01;32mFigure2_4.pdf\u001b[0m*                                    \u001b[01;32mtest2016081902.mat\u001b[0m*\r\n",
      "\u001b[01;32mFigure2_5.pdf\u001b[0m*                                    \u001b[01;32mtest2016082101.mat\u001b[0m*\r\n",
      "\u001b[01;32mFigure2_6.pdf\u001b[0m*                                    \u001b[01;32mtest2016082102.mat\u001b[0m*\r\n",
      "\u001b[01;32mFigure2_7.pdf\u001b[0m*                                    \u001b[01;32mtest2016082601.mat\u001b[0m*\r\n",
      "\u001b[01;32mFigure2_8.pdf\u001b[0m*                                    \u001b[01;32mtest2016091201.mat\u001b[0m*\r\n",
      "\u001b[01;32mFigure2_9.pdf\u001b[0m*                                    \u001b[01;32mtest2016091401.mat\u001b[0m*\r\n",
      "\u001b[01;32mFigure3_1.pdf\u001b[0m*                                    \u001b[01;32mtest2016091402.mat\u001b[0m*\r\n",
      "\u001b[01;32mFigure3_10.pdf\u001b[0m*                                   \u001b[01;32mtest2016091403.mat\u001b[0m*\r\n",
      "\u001b[01;32mFigure3_11.pdf\u001b[0m*                                   \u001b[01;32mtest2016091502.mat\u001b[0m*\r\n",
      "\u001b[01;32mFigure3_12.pdf\u001b[0m*                                   \u001b[01;32mtest2016092601.mat\u001b[0m*\r\n",
      "\u001b[01;32mFigure3_13.pdf\u001b[0m*                                   \u001b[01;32mtest2016092801.mat\u001b[0m*\r\n",
      "\u001b[01;32mFigure3_2.pdf\u001b[0m*                                    \u001b[01;32mtest2016092802.mat\u001b[0m*\r\n",
      "\u001b[01;32mFigure3_2_2.pdf\u001b[0m*                                  \u001b[01;32mtest2016092805.mat\u001b[0m*\r\n",
      "\u001b[01;32mFigure3_3.pdf\u001b[0m*                                    \u001b[01;32mtest2016092901.mat\u001b[0m*\r\n",
      "\u001b[01;32mFigure3_4.pdf\u001b[0m*                                    \u001b[01;32mtest2016092903.mat\u001b[0m*\r\n",
      "\u001b[01;32mFigure3_5.pdf\u001b[0m*                                    \u001b[01;32mtest2016093001.mat\u001b[0m*\r\n",
      "\u001b[01;32mFigure3_6.pdf\u001b[0m*                                    \u001b[01;32mtest2016093003.mat\u001b[0m*\r\n",
      "\u001b[01;32mFigure3_7.pdf\u001b[0m*                                    \u001b[01;32mtest2016100201.mat\u001b[0m*\r\n",
      "\u001b[01;32mFigure3_8.pdf\u001b[0m*                                    \u001b[01;32mtest2016100202.mat\u001b[0m*\r\n",
      "\u001b[01;32mFigure4_1.pdf\u001b[0m*                                    \u001b[01;32mtest2016100203.mat\u001b[0m*\r\n",
      "\u001b[01;32mFigure4_10.pdf\u001b[0m*                                   \u001b[01;32mtest2016100302.mat\u001b[0m*\r\n",
      "\u001b[01;32mFigure4_11.pdf\u001b[0m*                                   \u001b[01;32mtest2016100303.mat\u001b[0m*\r\n",
      "\u001b[01;32mFigure4_12.pdf\u001b[0m*                                   \u001b[01;32mtest2016100304.mat\u001b[0m*\r\n",
      "\u001b[01;32mFigure4_13.pdf\u001b[0m*                                   \u001b[01;32mtest2016100701.mat\u001b[0m*\r\n",
      "\u001b[01;32mFigure4_15.pdf\u001b[0m*                                   \u001b[01;32mtest2016100702.mat\u001b[0m*\r\n",
      "\u001b[01;32mFigure4_16.pdf\u001b[0m*                                   \u001b[01;32mtest2016101201.mat\u001b[0m*\r\n",
      "\u001b[01;32mFigure4_2.pdf\u001b[0m*                                    \u001b[01;32mtest2016101202.mat\u001b[0m*\r\n",
      "\u001b[01;32mFigure4_20.pdf\u001b[0m*                                   \u001b[01;32mtest2016101301.mat\u001b[0m*\r\n",
      "\u001b[01;32mFigure4_21.pdf\u001b[0m*                                   \u001b[01;32mtest2016101302.mat\u001b[0m*\r\n",
      "\u001b[01;32mFigure4_3.pdf\u001b[0m*                                    \u001b[01;32mtest2016101503.mat\u001b[0m*\r\n",
      "\u001b[01;32mFigure4_4.pdf\u001b[0m*                                    \u001b[01;32mtest2016101701.mat\u001b[0m*\r\n",
      "\u001b[01;32mFigure4_5.pdf\u001b[0m*                                    \u001b[01;32mtest2016101902.mat\u001b[0m*\r\n",
      "\u001b[01;32mFigure4_6.pdf\u001b[0m*                                    \u001b[01;32mtest2016102001.mat\u001b[0m*\r\n",
      "\u001b[01;32mFigure4_7.pdf\u001b[0m*                                    \u001b[01;32mtest2016102101.mat\u001b[0m*\r\n",
      "\u001b[01;32mFigure4_8.pdf\u001b[0m*                                    \u001b[01;32mtest2016102601.mat\u001b[0m*\r\n",
      "\u001b[01;32mFigure4_9.pdf\u001b[0m*                                    \u001b[01;32mtest2016102701.mat\u001b[0m*\r\n",
      "\u001b[01;32mFigure5_1.pdf\u001b[0m*                                    \u001b[01;32mtest2016102702.mat\u001b[0m*\r\n",
      "\u001b[01;32mFigure5_2.pdf\u001b[0m*                                    \u001b[01;32mtest2016102703.mat\u001b[0m*\r\n",
      "\u001b[01;32mFigure5_3.pdf\u001b[0m*                                    \u001b[01;32mtest2016103101.mat\u001b[0m*\r\n",
      "\u001b[01;32mFigure5_4.pdf\u001b[0m*                                    \u001b[01;32mtest2016110101.mat\u001b[0m*\r\n",
      "Figure5_5.pdf                                     \u001b[01;32mtest2016110102.mat\u001b[0m*\r\n",
      "\u001b[01;32mGood data storage.csv\u001b[0m*                            \u001b[01;32mtest2016110103.mat\u001b[0m*\r\n",
      "\u001b[01;32mGood data_store.csv\u001b[0m*                              \u001b[01;32mtest2016110201.mat\u001b[0m*\r\n",
      "Onset_tau_reci_uni.pdf                            \u001b[01;32mtest2016110202.mat\u001b[0m*\r\n",
      "PPR_reci_uni.pdf                                  \u001b[01;32mtest2016110203.mat\u001b[0m*\r\n",
      "\u001b[01;32mSupp1_1.pdf\u001b[0m*                                      \u001b[01;32mtest2016111001.mat\u001b[0m*\r\n",
      "\u001b[01;32mSupp1_2.pdf\u001b[0m*                                      \u001b[01;32mtest2016111101.mat\u001b[0m*\r\n",
      "\u001b[01;32mSupp1_3.pdf\u001b[0m*                                      \u001b[01;32mtest2016111103.mat\u001b[0m*\r\n",
      "\u001b[01;32mSupp1_4.pdf\u001b[0m*                                      \u001b[01;32mtest2016111104.mat\u001b[0m*\r\n",
      "\u001b[01;32mSupp1_5.pdf\u001b[0m*                                      \u001b[01;32mtest2016111801.mat\u001b[0m*\r\n",
      "\u001b[01;32mSupp2_1.pdf\u001b[0m*                                      \u001b[01;32mtest2016111802.mat\u001b[0m*\r\n",
      "Supp2_B.p df                                      \u001b[01;32mtest2016111803.mat\u001b[0m*\r\n",
      "Supp2_B.pdf                                       \u001b[01;32mtest2016111804.mat\u001b[0m*\r\n",
      "Supp2_C.pdf                                       \u001b[01;32mtest2016120201.mat\u001b[0m*\r\n",
      "Supp2_D.pdf                                       \u001b[01;32mtest2016120202.mat\u001b[0m*\r\n",
      "Supp2_F.pdf                                       \u001b[01;32mtest2016120203.mat\u001b[0m*\r\n",
      "Supp2_G.pdf                                       \u001b[01;32mtest2016120301.mat\u001b[0m*\r\n",
      "Supp2_H.pdf                                       \u001b[01;32mtest2016120401.mat\u001b[0m*\r\n",
      "Supp2_I.pdf                                       \u001b[01;32mtest2016120402.mat\u001b[0m*\r\n",
      "Supp2_J1.pdf                                      \u001b[01;32mtest2016120403.mat\u001b[0m*\r\n",
      "Supp2_J2.pdf                                      \u001b[01;32mtest2016120501.mat\u001b[0m*\r\n",
      "Supp2_J3.pdf                                      \u001b[01;32mtest2016120502.mat\u001b[0m*\r\n",
      "\u001b[01;32mSupp3_1.pdf\u001b[0m*                                      \u001b[01;32mtest2016120503.mat\u001b[0m*\r\n",
      "\u001b[01;32mSupp3_2.pdf\u001b[0m*                                      \u001b[01;32mtest2016120504.mat\u001b[0m*\r\n",
      "\u001b[01;32mSupp3_3.pdf\u001b[0m*                                      \u001b[01;32mtest2017011701.mat\u001b[0m*\r\n",
      "\u001b[01;32mSupp4_1.pdf\u001b[0m*                                      \u001b[01;32mtest2017011801.mat\u001b[0m*\r\n",
      "\u001b[01;32mSupp4_2.pdf\u001b[0m*                                      \u001b[01;32mtest2017011803.mat\u001b[0m*\r\n",
      "age_PPR_reci                                      \u001b[01;32mtest2017011901.mat\u001b[0m*\r\n",
      "age_PPR_reci_rin_rs                               \u001b[01;32mtest2017021301.mat\u001b[0m*\r\n",
      "\u001b[01;32mana_am_asso\u001b[0m*                                      \u001b[01;32mtest2017021302.mat\u001b[0m*\r\n",
      "\u001b[01;32mana_am_asso_2\u001b[0m*                                    \u001b[01;32mtest2017021401.mat\u001b[0m*\r\n",
      "\u001b[01;32mana_am_asso_50\u001b[0m*                                   \u001b[01;32mtest2017021501.mat\u001b[0m*\r\n",
      "\u001b[01;32mana_am_nonasso\u001b[0m*                                   \u001b[01;32mtest2017021502.mat\u001b[0m*\r\n",
      "\u001b[01;32mana_asso_2Hz_reci\u001b[0m*                                \u001b[01;32mtest2017022301.mat\u001b[0m*\r\n",
      "\u001b[01;32mana_asso_2Hz_reci_MPEP\u001b[0m*                           \u001b[01;32mtest2017032102.mat\u001b[0m*\r\n",
      "\u001b[01;32mana_asso_50Hz_reci\u001b[0m*                               \u001b[01;32mtest2017032103.mat\u001b[0m*\r\n",
      "\u001b[01;32mana_asso_50Hz_uni\u001b[0m*                                \u001b[01;32mtest2017032202.mat\u001b[0m*\r\n",
      "\u001b[01;32mana_asso_EI_50Hz_reci\u001b[0m*                            \u001b[01;32mtest2017032203.mat\u001b[0m*\r\n",
      "\u001b[01;32mana_asso_IE_50Hz\u001b[0m*                                 \u001b[01;32mtest2017032206.mat\u001b[0m*\r\n",
      "\u001b[01;32mana_asso_IE_50Hz_reci\u001b[0m*                            \u001b[01;32mtest2017032207.mat\u001b[0m*\r\n",
      "\u001b[01;32mana_asso_IE_50Hz_uni\u001b[0m*                             \u001b[01;32mtest2017032301.mat\u001b[0m*\r\n",
      "\u001b[01;32mana_naspm\u001b[0m*                                        \u001b[01;32mtest2017032401.mat\u001b[0m*\r\n",
      "\u001b[01;32mana_naspm_loc_con\u001b[0m*                                \u001b[01;32mtest2017032402.mat\u001b[0m*\r\n",
      "\u001b[01;32mana_naspm_low_con\u001b[0m*                                \u001b[01;32mtest2017032403.mat\u001b[0m*\r\n",
      "\u001b[01;32mana_no_ptl\u001b[0m*                                       \u001b[01;32mtest2017032701.mat\u001b[0m*\r\n",
      "\u001b[01;32mana_post_2Hz_reci\u001b[0m*                                \u001b[01;32mtest2017032703.mat\u001b[0m*\r\n",
      "\u001b[01;32mana_post_50Hz_reci\u001b[0m*                               \u001b[01;32mtest2017032801.mat\u001b[0m*\r\n",
      "\u001b[01;32mana_post_50Hz_uni\u001b[0m*                                \u001b[01;32mtest2017032802.mat\u001b[0m*\r\n",
      "\u001b[01;32mana_post_EI_50Hz_reci\u001b[0m*                            \u001b[01;32mtest2017032803.mat\u001b[0m*\r\n",
      "\u001b[01;32mana_post_EI_50Hz_uni\u001b[0m*                             \u001b[01;32mtest2017032901.mat\u001b[0m*\r\n",
      "\u001b[01;32mana_post_IE50Hz\u001b[0m*                                  \u001b[01;32mtest2017032902.mat\u001b[0m*\r\n",
      "\u001b[01;32mana_post_IE50Hz_reci\u001b[0m*                             \u001b[01;32mtest2017032903.mat\u001b[0m*\r\n",
      "\u001b[01;32mana_post_IE50Hz_uni\u001b[0m*                              \u001b[01;32mtest2017032905.mat\u001b[0m*\r\n",
      "\u001b[01;32mana_pre_2Hz_reci\u001b[0m*                                 \u001b[01;32mtest2017041701.mat\u001b[0m*\r\n",
      "\u001b[01;32mana_pre_50Hz_reci\u001b[0m*                                \u001b[01;32mtest2017041702.mat\u001b[0m*\r\n",
      "\u001b[01;32mana_pre_50Hz_uni\u001b[0m*                                 \u001b[01;32mtest2017041801.mat\u001b[0m*\r\n",
      "\u001b[01;32mana_pre_50_depo_reci\u001b[0m*                             \u001b[01;32mtest2017041901.mat\u001b[0m*\r\n",
      "\u001b[01;32mana_pre_50_hypo_reci\u001b[0m*                             \u001b[01;32mtest2017041905.mat\u001b[0m*\r\n",
      "\u001b[01;32mana_pre_IE50Hz\u001b[0m*                                   \u001b[01;32mtest2017042101.mat\u001b[0m*\r\n",
      "\u001b[01;32mana_pre_IE50Hz_reci\u001b[0m*                              \u001b[01;32mtest2017042102.mat\u001b[0m*\r\n",
      "\u001b[01;32mana_pre_IE50Hz_uni\u001b[0m*                               \u001b[01;32mtest2017042401.mat\u001b[0m*\r\n",
      "cv_uni_reci.pdf                                   \u001b[01;32mtest2017042402.mat\u001b[0m*\r\n",
      "\u001b[01;32mdata_E_I_time_constant\u001b[0m*                           \u001b[01;32mtest2017042403.mat\u001b[0m*\r\n",
      "\u001b[01;32mdata_IE50Hz_uni\u001b[0m*                                  \u001b[01;32mtest2017042501.mat\u001b[0m*\r\n",
      "\u001b[01;32mdata_I_I_time_constant\u001b[0m*                           \u001b[01;32mtest2017042502.mat\u001b[0m*\r\n",
      "\u001b[01;32mdata_am_asso\u001b[0m*                                     \u001b[01;32mtest2017042503.mat\u001b[0m*\r\n",
      "\u001b[01;32mdata_am_asso_2Hz_reci\u001b[0m*                            \u001b[01;32mtest2017042601.mat\u001b[0m*\r\n",
      "\u001b[01;32mdata_am_asso_50\u001b[0m*                                  \u001b[01;32mtest2017042602.mat\u001b[0m*\r\n",
      "\u001b[01;32mdata_am_asso_50Hz_reci\u001b[0m*                           \u001b[01;32mtest2017042603.mat\u001b[0m*\r\n",
      "\u001b[01;32mdata_am_nonasso\u001b[0m*                                  \u001b[01;32mtest2017042701.mat\u001b[0m*\r\n",
      "\u001b[01;32mdata_asso_2Hz_MPEP\u001b[0m*                               \u001b[01;32mtest2017042702.mat\u001b[0m*\r\n",
      "\u001b[01;32mdata_asso_2Hz_reci\u001b[0m*                               \u001b[01;32mtest2017050901.mat\u001b[0m*\r\n",
      "\u001b[01;32mdata_asso_50Hz_reci\u001b[0m*                              \u001b[01;32mtest2017050902.mat\u001b[0m*\r\n",
      "\u001b[01;32mdata_asso_50Hz_uni\u001b[0m*                               \u001b[01;32mtest2017051001.mat\u001b[0m*\r\n",
      "\u001b[01;32mdata_asso_IE_50Hz_reci\u001b[0m*                           \u001b[01;32mtest2017051002.mat\u001b[0m*\r\n",
      "\u001b[01;32mdata_asso_IE_50Hz_uni\u001b[0m*                            \u001b[01;32mtest2017051201.mat\u001b[0m*\r\n",
      "\u001b[01;32mdata_no_protocol\u001b[0m*                                 \u001b[01;32mtest2017051202.mat\u001b[0m*\r\n",
      "\u001b[01;32mdata_np\u001b[0m*                                          \u001b[01;32mtest2017051203.mat\u001b[0m*\r\n",
      "\u001b[01;32mdata_post_2Hz_reci\u001b[0m*                               \u001b[01;32mtest2017051501.mat\u001b[0m*\r\n",
      "\u001b[01;32mdata_post_50Hz_reci\u001b[0m*                              \u001b[01;32mtest2017051502.mat\u001b[0m*\r\n",
      "\u001b[01;32mdata_post_50Hz_uni\u001b[0m*                               \u001b[01;32mtest2017051503.mat\u001b[0m*\r\n",
      "\u001b[01;32mdata_post_EI_50Hz_reci\u001b[0m*                           \u001b[01;32mtest2017051601.mat\u001b[0m*\r\n",
      "\u001b[01;32mdata_post_EI_50Hz_uni\u001b[0m*                            \u001b[01;32mtest2017052201.mat\u001b[0m*\r\n",
      "\u001b[01;32mdata_post_IE50Hz_reci\u001b[0m*                            \u001b[01;32mtest2017052202.mat\u001b[0m*\r\n",
      "\u001b[01;32mdata_post_IE50Hz_uni\u001b[0m*                             \u001b[01;32mtest2017052203.mat\u001b[0m*\r\n",
      "\u001b[01;32mdata_pre2Hz_reci\u001b[0m*                                 \u001b[01;32mtest2017052301.mat\u001b[0m*\r\n",
      "\u001b[01;32mdata_pre_2Hz_reci\u001b[0m*                                \u001b[01;32mtest2017052302.mat\u001b[0m*\r\n",
      "\u001b[01;32mdata_pre_50Hz_reci\u001b[0m*                               \u001b[01;32mtest2017053101.mat\u001b[0m*\r\n",
      "\u001b[01;32mdata_pre_50Hz_uni\u001b[0m*                                \u001b[01;32mtest2017053102.mat\u001b[0m*\r\n",
      "\u001b[01;32mdata_pre_50Hz_uni (Whitespace Conflict)\u001b[0m*          \u001b[01;32mtest2017060101.mat\u001b[0m*\r\n",
      "\u001b[01;32mdata_pre_50_depo_reci\u001b[0m*                            \u001b[01;32mtest2017060102.mat\u001b[0m*\r\n",
      "\u001b[01;32mdata_pre_50_hypo_reci\u001b[0m*                            \u001b[01;32mtest2017060201.mat\u001b[0m*\r\n",
      "\u001b[01;32mdata_pre_EI_depo_reci\u001b[0m*                            \u001b[01;32mtest2017060501.mat\u001b[0m*\r\n",
      "\u001b[01;32mdata_pre_IE50Hz_reci\u001b[0m*                             \u001b[01;32mtest2017060502.mat\u001b[0m*\r\n",
      "\u001b[01;32mdata_pre_IE50Hz_uni\u001b[0m*                              \u001b[01;32mtest2017060801.mat\u001b[0m*\r\n",
      "\u001b[01;32mdata_pre_naspm_reci\u001b[0m*                              \u001b[01;32mtest2017060802.mat\u001b[0m*\r\n",
      "\u001b[01;32mdata_pre_naspm_reci_low_con\u001b[0m*                      \u001b[01;32mtest2017060803.mat\u001b[0m*\r\n",
      "figure_0_10.pdf                                   \u001b[01;32mtest2017062101.mat\u001b[0m*\r\n",
      "figure_0_7.pdf                                    \u001b[01;32mtest2017062201.mat\u001b[0m*\r\n",
      "figure_0_8.pdf                                    \u001b[01;32mtest2017062202.mat\u001b[0m*\r\n",
      "figure_0_9.pdf                                    \u001b[01;32mtest2017062203.mat\u001b[0m*\r\n",
      "\u001b[01;32mpre_2Hz_reci\u001b[0m*                                     \u001b[01;32mtest2017062301.mat\u001b[0m*\r\n",
      "\u001b[01;32mpre_50Hz_reci\u001b[0m*                                    \u001b[01;32mtest2017062304.mat\u001b[0m*\r\n",
      "processed_EI_reci_all_0                           \u001b[01;32mtest2017062601.mat\u001b[0m*\r\n",
      "processed_EI_reci_all_100                         \u001b[01;32mtest2017062602.mat\u001b[0m*\r\n",
      "processed_EI_reci_all_20                          \u001b[01;32mtest2017062603.mat\u001b[0m*\r\n",
      "processed_EI_reci_all_40                          \u001b[01;32mtest2017062701.mat\u001b[0m*\r\n",
      "processed_EI_reci_all_60                          \u001b[01;32mtest2017062801.mat\u001b[0m*\r\n",
      "processed_EI_reci_all_80                          \u001b[01;32mtest2017062803.mat\u001b[0m*\r\n",
      "processed_I_E                                     \u001b[01;32mtest2017062804.mat\u001b[0m*\r\n",
      "processed_ie                                      \u001b[01;32mtest2017071201.mat\u001b[0m*\r\n",
      "processed_reci                                    \u001b[01;32mtest2017071202.mat\u001b[0m*\r\n",
      "processed_uni                                     \u001b[01;32mtest2017071301.mat\u001b[0m*\r\n",
      "\u001b[01;32mpsc_asso_50_after_53\u001b[0m*                             \u001b[01;32mtest2017071302.mat\u001b[0m*\r\n",
      "\u001b[01;32mpsc_asso_50_after_56\u001b[0m*                             \u001b[01;32mtest2017071401.mat\u001b[0m*\r\n",
      "\u001b[01;32mpsc_asso_50_after_58\u001b[0m*                             \u001b[01;32mtest2017071801.mat\u001b[0m*\r\n",
      "\u001b[01;32mpsc_asso_50_before_53\u001b[0m*                            \u001b[01;32mtest2017071902.mat\u001b[0m*\r\n",
      "\u001b[01;32mpsc_asso_50_before_56\u001b[0m*                            \u001b[01;32mtest2017071903.mat\u001b[0m*\r\n",
      "\u001b[01;32mpsc_asso_50_before_58\u001b[0m*                            \u001b[01;32mtest2017072101.mat\u001b[0m*\r\n",
      "\u001b[01;32mpsc_asso_50_before_60\u001b[0m*                            \u001b[01;32mtest2017072102.mat\u001b[0m*\r\n",
      "\u001b[01;32mpsc_asso_50_before_62\u001b[0m*                            \u001b[01;32mtest2017072103.mat\u001b[0m*\r\n",
      "\u001b[01;32mpsc_asso_50_before_63\u001b[0m*                            \u001b[01;32mtest2017072104.mat\u001b[0m*\r\n",
      "\u001b[01;32mpsc_naspm_after_127\u001b[0m*                              \u001b[01;32mtest2017072105.mat\u001b[0m*\r\n",
      "\u001b[01;32mpsc_naspm_after_128\u001b[0m*                              \u001b[01;32mtest2017072401.mat\u001b[0m*\r\n",
      "\u001b[01;32mpsc_naspm_after_129\u001b[0m*                              \u001b[01;32mtest2017072402.mat\u001b[0m*\r\n",
      "\u001b[01;32mpsc_naspm_after_130\u001b[0m*                              \u001b[01;32mtest2017072403.mat\u001b[0m*\r\n",
      "\u001b[01;32mpsc_naspm_after_132\u001b[0m*                              \u001b[01;32mtest2017072501.mat\u001b[0m*\r\n",
      "\u001b[01;32mpsc_naspm_before_127\u001b[0m*                             \u001b[01;32mtest2017072502.mat\u001b[0m*\r\n",
      "\u001b[01;32mpsc_naspm_before_128\u001b[0m*                             \u001b[01;32mtest2017072503.mat\u001b[0m*\r\n",
      "\u001b[01;32mpsc_naspm_before_129\u001b[0m*                             \u001b[01;32mtest2017072802.mat\u001b[0m*\r\n",
      "\u001b[01;32mpsc_naspm_before_130\u001b[0m*                             \u001b[01;32mtest2017072803.mat\u001b[0m*\r\n",
      "\u001b[01;32mpsc_naspm_before_132\u001b[0m*                             \u001b[01;32mtest2017080401.mat\u001b[0m*\r\n",
      "\u001b[01;32mpsc_non_asso_2Hz_am_slope4_thres2.5_before_124\u001b[0m*   \u001b[01;32mtest2017080901.mat\u001b[0m*\r\n",
      "\u001b[01;32mpsc_non_asso_2Hz_am_slope4_thres2.5_before_125\u001b[0m*   \u001b[01;32mtest2017080902.mat\u001b[0m*\r\n",
      "\u001b[01;32mpsc_non_asso_2Hz_am_slope4_thres2.5_before_126\u001b[0m*   \u001b[01;32mtest2017081701.mat\u001b[0m*\r\n",
      "\u001b[01;32mpsc_non_asso_2Hz_ctl_slope4_thres2.5_before_121\u001b[0m*  \u001b[01;32mtest2017081702.mat\u001b[0m*\r\n",
      "\u001b[01;32mpsc_non_asso_2Hz_ctl_slope4_thres2.5_before_122\u001b[0m*  \u001b[01;32mtest2017081703.mat\u001b[0m*\r\n",
      "\u001b[01;32mpsc_non_asso_2Hz_ctl_slope4_thres2.5_before_123\u001b[0m*  \u001b[01;32mtest2017081801.mat\u001b[0m*\r\n",
      "\u001b[01;32mpsc_non_asso_2Hz_slope4_thres2.5_after_121\u001b[0m*       \u001b[01;32mtest2017081802.mat\u001b[0m*\r\n",
      "\u001b[01;32mpsc_non_asso_2Hz_slope4_thres2.5_after_122\u001b[0m*       \u001b[01;32mtest2017082301.mat\u001b[0m*\r\n",
      "\u001b[01;32mpsc_non_asso_2Hz_slope4_thres2.5_after_123\u001b[0m*       \u001b[01;32mtest2017082302.mat\u001b[0m*\r\n",
      "\u001b[01;32mpsc_non_asso_2Hz_slope4_thres2.5_after_124\u001b[0m*       \u001b[01;32mtest2017082303.mat\u001b[0m*\r\n",
      "\u001b[01;32mpsc_non_asso_2Hz_slope4_thres2.5_after_125\u001b[0m*       \u001b[01;32mtest2017082304.mat\u001b[0m*\r\n",
      "\u001b[01;32mpsc_non_asso_2Hz_slope4_thres2.5_after_126\u001b[0m*       \u001b[01;32mtest2017082401.mat\u001b[0m*\r\n",
      "\u001b[01;32mpsc_non_asso_2Hz_slope4_thres2.5_after_147\u001b[0m*       \u001b[01;32mtest2017082402.mat\u001b[0m*\r\n",
      "\u001b[01;32mpsc_non_asso_2Hz_slope4_thres2.5_after_148\u001b[0m*       \u001b[01;32mtest2017083001.mat\u001b[0m*\r\n",
      "\u001b[01;32mpsc_non_asso_2Hz_slope4_thres2.5_after_150\u001b[0m*       \u001b[01;32mtest2017083101.mat\u001b[0m*\r\n",
      "\u001b[01;32mpsc_non_asso_2Hz_slope4_thres2.5_after_151\u001b[0m*       \u001b[01;32mtest2017090601.mat\u001b[0m*\r\n",
      "\u001b[01;32mpsc_non_asso_2Hz_slope4_thres2.5_after_152\u001b[0m*       \u001b[01;32mtest2017090602.mat\u001b[0m*\r\n",
      "\u001b[01;32mpsc_non_asso_2Hz_slope4_thres2.5_after_153\u001b[0m*       \u001b[01;32mtest2017090703.mat\u001b[0m*\r\n",
      "\u001b[01;32mpsc_non_asso_2Hz_slope4_thres2.5_before_121\u001b[0m*      \u001b[01;32mtest2017091201.mat\u001b[0m*\r\n",
      "\u001b[01;32mpsc_non_asso_2Hz_slope4_thres2.5_before_122\u001b[0m*      \u001b[01;32mtest2017091202.mat\u001b[0m*\r\n",
      "\u001b[01;32mpsc_non_asso_2Hz_slope4_thres2.5_before_123\u001b[0m*      \u001b[01;32mtest2017091203.mat\u001b[0m*\r\n",
      "\u001b[01;32mpsc_non_asso_2Hz_slope4_thres2.5_before_124\u001b[0m*      \u001b[01;32mtest2017091204.mat\u001b[0m*\r\n",
      "\u001b[01;32mpsc_non_asso_2Hz_slope4_thres2.5_before_125\u001b[0m*      \u001b[01;32mtest2017091301.mat\u001b[0m*\r\n",
      "\u001b[01;32mpsc_non_asso_2Hz_slope4_thres2.5_before_126\u001b[0m*      \u001b[01;32mtest2017091501.mat\u001b[0m*\r\n",
      "\u001b[01;32mpsc_non_asso_2Hz_slope4_thres2.5_before_147\u001b[0m*      \u001b[01;32mtest2017091502.mat\u001b[0m*\r\n",
      "\u001b[01;32mpsc_non_asso_2Hz_slope4_thres2.5_before_148\u001b[0m*      \u001b[01;32mtest2017091503.mat\u001b[0m*\r\n",
      "\u001b[01;32mpsc_non_asso_2Hz_slope4_thres2.5_before_150\u001b[0m*      \u001b[01;32mtest2017091801.mat\u001b[0m*\r\n",
      "\u001b[01;32mpsc_non_asso_2Hz_slope4_thres2.5_before_151\u001b[0m*      \u001b[01;32mtest2017091802.mat\u001b[0m*\r\n",
      "\u001b[01;32mpsc_non_asso_2Hz_slope4_thres2.5_before_152\u001b[0m*      \u001b[01;32mtest2017091803.mat\u001b[0m*\r\n",
      "\u001b[01;32mpsc_non_asso_2Hz_slope4_thres2.5_before_153\u001b[0m*      \u001b[01;32mtest2017092001.mat\u001b[0m*\r\n",
      "\u001b[01;32mpsc_non_asso_50Hz_slope4_thres2.5_after_172\u001b[0m*      \u001b[01;32mtest2017092101.mat\u001b[0m*\r\n",
      "\u001b[01;32mpsc_non_asso_50Hz_slope4_thres2.5_after_175\u001b[0m*      \u001b[01;32mtest2017092102.mat\u001b[0m*\r\n",
      "\u001b[01;32mpsc_non_asso_50Hz_slope4_thres2.5_after_36\u001b[0m*       \u001b[01;32mtest2017092201.mat\u001b[0m*\r\n",
      "\u001b[01;32mpsc_non_asso_50Hz_slope4_thres2.5_after_37\u001b[0m*       \u001b[01;32mtest2017092202.mat\u001b[0m*\r\n",
      "\u001b[01;32mpsc_non_asso_50Hz_slope4_thres2.5_after_38\u001b[0m*       \u001b[01;32mtest2017092701.mat\u001b[0m*\r\n",
      "\u001b[01;32mpsc_non_asso_50Hz_slope4_thres2.5_after_39\u001b[0m*       \u001b[01;32mtest2017092702.mat\u001b[0m*\r\n",
      "\u001b[01;32mpsc_non_asso_50Hz_slope4_thres2.5_before_172\u001b[0m*     \u001b[01;32mtest2017092801.mat\u001b[0m*\r\n",
      "\u001b[01;32mpsc_non_asso_50Hz_slope4_thres2.5_before_175\u001b[0m*     \u001b[01;32mtest2017092802.mat\u001b[0m*\r\n",
      "\u001b[01;32mpsc_non_asso_50Hz_slope4_thres2.5_before_36\u001b[0m*      \u001b[01;32mtest2017092901.mat\u001b[0m*\r\n",
      "\u001b[01;32mpsc_non_asso_50Hz_slope4_thres2.5_before_37\u001b[0m*      \u001b[01;32mtest2017102301.mat\u001b[0m*\r\n",
      "\u001b[01;32mpsc_non_asso_50Hz_slope4_thres2.5_before_38\u001b[0m*      \u001b[01;32mtest2017102302.mat\u001b[0m*\r\n",
      "\u001b[01;32mpsc_non_asso_50Hz_slope4_thres2.5_before_39\u001b[0m*      \u001b[01;32mtest2017102501.mat\u001b[0m*\r\n",
      "\u001b[01;32mpsc_non_asso_AM251_after_147\u001b[0m*                     \u001b[01;32mtest2017102601.mat\u001b[0m*\r\n",
      "\u001b[01;32mpsc_non_asso_AM251_after_148\u001b[0m*                     \u001b[01;32mtest2017110601.mat\u001b[0m*\r\n",
      "\u001b[01;32mpsc_non_asso_AM251_after_150\u001b[0m*                     \u001b[01;32mtest2017110701.mat\u001b[0m*\r\n",
      "\u001b[01;32mpsc_non_asso_AM251_after_151\u001b[0m*                     \u001b[01;32mtest2017111001.mat\u001b[0m*\r\n",
      "\u001b[01;32mpsc_non_asso_AM251_after_152\u001b[0m*                     \u001b[01;32mtest2017111002.mat\u001b[0m*\r\n",
      "\u001b[01;32mpsc_non_asso_AM251_after_153\u001b[0m*                     \u001b[01;32mtest2017111301.mat\u001b[0m*\r\n",
      "\u001b[01;32mpsc_non_asso_AM251_before_147\u001b[0m*                    \u001b[01;32mtest2017111302.mat\u001b[0m*\r\n",
      "\u001b[01;32mpsc_non_asso_AM251_before_148\u001b[0m*                    \u001b[01;32mtest2017111401.mat\u001b[0m*\r\n",
      "\u001b[01;32mpsc_non_asso_AM251_before_150\u001b[0m*                    \u001b[01;32mtest2017111402.mat\u001b[0m*\r\n",
      "\u001b[01;32mpsc_non_asso_AM251_before_151\u001b[0m*                    \u001b[01;32mtest2017111501.mat\u001b[0m*\r\n",
      "\u001b[01;32mpsc_non_asso_AM251_before_152\u001b[0m*                    \u001b[01;32mtest2017111601.mat\u001b[0m*\r\n",
      "\u001b[01;32mpsc_non_asso_AM251_before_153\u001b[0m*                    \u001b[01;32mtest2017111602.mat\u001b[0m*\r\n",
      "\u001b[01;32mpsc_non_asso_am_2Hz_slope4_thres2.5_after_147\u001b[0m*    \u001b[01;32mtest2017112801.mat\u001b[0m*\r\n",
      "\u001b[01;32mpsc_non_asso_am_2Hz_slope4_thres2.5_after_148\u001b[0m*    \u001b[01;32mtest2017112901.mat\u001b[0m*\r\n",
      "\u001b[01;32mpsc_non_asso_am_2Hz_slope4_thres2.5_after_150\u001b[0m*    \u001b[01;32mtest2017120502.mat\u001b[0m*\r\n",
      "\u001b[01;32mpsc_non_asso_am_2Hz_slope4_thres2.5_after_151\u001b[0m*    \u001b[01;32mtest2017120701.mat\u001b[0m*\r\n",
      "\u001b[01;32mpsc_non_asso_am_2Hz_slope4_thres2.5_after_152\u001b[0m*    \u001b[01;32mtest2017120702.mat\u001b[0m*\r\n",
      "\u001b[01;32mpsc_non_asso_am_2Hz_slope4_thres2.5_after_153\u001b[0m*    \u001b[01;32mtest2017120801.mat\u001b[0m*\r\n",
      "\u001b[01;32mpsc_non_asso_am_2Hz_slope4_thres2.5_before_147\u001b[0m*   \u001b[01;32mtest2017121101.mat\u001b[0m*\r\n",
      "\u001b[01;32mpsc_non_asso_am_2Hz_slope4_thres2.5_before_148\u001b[0m*   \u001b[01;32mtest2017121102.mat\u001b[0m*\r\n",
      "\u001b[01;32mpsc_non_asso_am_2Hz_slope4_thres2.5_before_150\u001b[0m*   \u001b[01;32mtest2017121201.mat\u001b[0m*\r\n",
      "\u001b[01;32mpsc_non_asso_am_2Hz_slope4_thres2.5_before_151\u001b[0m*   \u001b[01;32mtest2017121401.mat\u001b[0m*\r\n",
      "\u001b[01;32mpsc_non_asso_am_2Hz_slope4_thres2.5_before_152\u001b[0m*   \u001b[01;32mtest2017121501.mat\u001b[0m*\r\n",
      "\u001b[01;32mpsc_non_asso_am_2Hz_slope4_thres2.5_before_153\u001b[0m*   \u001b[01;32mtest2017122001.mat\u001b[0m*\r\n",
      "\u001b[01;32mpsc_post_2Hz_after_121\u001b[0m*                           \u001b[01;32mtest2017122002.mat\u001b[0m*\r\n",
      "\u001b[01;32mpsc_post_2Hz_after_122\u001b[0m*                           \u001b[01;32mtest2017122701.mat\u001b[0m*\r\n",
      "\u001b[01;32mpsc_post_2Hz_after_123\u001b[0m*                           \u001b[01;32mtest2017122702.mat\u001b[0m*\r\n",
      "\u001b[01;32mpsc_post_2Hz_after_124\u001b[0m*                           \u001b[01;32mtest2017122801.mat\u001b[0m*\r\n",
      "\u001b[01;32mpsc_post_2Hz_after_125\u001b[0m*                           \u001b[01;32mtest2017122802.mat\u001b[0m*\r\n",
      "\u001b[01;32mpsc_post_2Hz_after_126\u001b[0m*                           \u001b[01;32mtest2017122901.mat\u001b[0m*\r\n",
      "\u001b[01;32mpsc_post_2Hz_before_121\u001b[0m*                          \u001b[01;32mtest2017122902.mat\u001b[0m*\r\n",
      "\u001b[01;32mpsc_post_2Hz_before_122\u001b[0m*                          \u001b[01;32mtest2017122903.mat\u001b[0m*\r\n",
      "\u001b[01;32mpsc_post_2Hz_before_123\u001b[0m*                          \u001b[01;32mtest2018012801.mat\u001b[0m*\r\n",
      "\u001b[01;32mpsc_post_2Hz_before_124\u001b[0m*                          \u001b[01;32mtest2018012901.mat\u001b[0m*\r\n",
      "\u001b[01;32mpsc_post_2Hz_before_125\u001b[0m*                          \u001b[01;32mtest2018012902.mat\u001b[0m*\r\n",
      "\u001b[01;32mpsc_post_2Hz_before_126\u001b[0m*                          \u001b[01;32mtest2018013002.mat\u001b[0m*\r\n",
      "\u001b[01;32mpsc_test_after_121\u001b[0m*                               \u001b[01;32mtest2018020901.mat\u001b[0m*\r\n",
      "\u001b[01;32mpsc_test_after_122\u001b[0m*                               \u001b[01;32mtest2018021201.mat\u001b[0m*\r\n",
      "\u001b[01;32mpsc_test_after_123\u001b[0m*                               \u001b[01;32mtest2018021301.mat\u001b[0m*\r\n",
      "\u001b[01;32mpsc_test_after_124\u001b[0m*                               \u001b[01;32mtest2018021302.mat\u001b[0m*\r\n",
      "\u001b[01;32mpsc_test_after_125\u001b[0m*                               \u001b[01;32mtest2018021303.mat\u001b[0m*\r\n",
      "\u001b[01;32mpsc_test_after_126\u001b[0m*                               \u001b[01;32mtest2018022801.mat\u001b[0m*\r\n",
      "\u001b[01;32mpsc_test_before_121\u001b[0m*                              \u001b[01;32mtest2018022802.mat\u001b[0m*\r\n",
      "\u001b[01;32mpsc_test_before_122\u001b[0m*                              \u001b[01;32mtest2018030101.mat\u001b[0m*\r\n",
      "\u001b[01;32mpsc_test_before_123\u001b[0m*                              \u001b[01;32mtest2018030102.mat\u001b[0m*\r\n",
      "\u001b[01;32mpsc_test_before_124\u001b[0m*                              \u001b[01;32mtest2018032301.mat\u001b[0m*\r\n",
      "\u001b[01;32mpsc_test_before_125\u001b[0m*                              \u001b[01;32mtest2018032302.mat\u001b[0m*\r\n",
      "\u001b[01;32mpsc_test_before_126\u001b[0m*                              \u001b[01;32mtest2018032801.mat\u001b[0m*\r\n",
      "\u001b[01;32mtest20160127.mat\u001b[0m*                                 \u001b[01;32mtest2018032802.mat\u001b[0m*\r\n",
      "\u001b[01;32mtest2016030301.mat\u001b[0m*                               \u001b[01;32mtest2018052901.mat\u001b[0m*\r\n",
      "\u001b[01;32mtest2016030302.mat\u001b[0m*                               \u001b[01;32mtest2018052902.mat\u001b[0m*\r\n",
      "\u001b[01;32mtest2016032201.mat\u001b[0m*                               \u001b[01;32mtest2018053001.mat\u001b[0m*\r\n",
      "\u001b[01;32mtest2016032202.mat\u001b[0m*                               \u001b[01;32mtest2018053002.mat\u001b[0m*\r\n",
      "\u001b[01;32mtest2016032203.mat\u001b[0m*                               \u001b[01;32mtest2018053101.mat\u001b[0m*\r\n",
      "\u001b[01;32mtest2016032204.mat\u001b[0m*                               \u001b[01;32mtest2018053102.mat\u001b[0m*\r\n",
      "\u001b[01;32mtest2016032206.mat\u001b[0m*                               \u001b[01;32mtest2018053103.mat\u001b[0m*\r\n",
      "\u001b[01;32mtest2016032401.mat\u001b[0m*                               \u001b[01;32mtest2018060101.mat\u001b[0m*\r\n",
      "\u001b[01;32mtest2016032402.mat\u001b[0m*                               \u001b[01;32mtest2018060103.mat\u001b[0m*\r\n",
      "\u001b[01;32mtest2016032403.mat\u001b[0m*                               \u001b[01;32mtest2018060202.mat\u001b[0m*\r\n",
      "\u001b[01;32mtest2016032502.mat\u001b[0m*                               \u001b[01;32mtest2018060203.mat\u001b[0m*\r\n",
      "\u001b[01;32mtest2016032503.mat\u001b[0m*                               \u001b[01;32mtest2018060204.mat\u001b[0m*\r\n",
      "\u001b[01;32mtest2016032901.mat\u001b[0m*                               \u001b[01;32mtest2018060401.mat\u001b[0m*\r\n",
      "\u001b[01;32mtest2016032902.mat\u001b[0m*                               \u001b[01;32mtest2018060403.mat\u001b[0m*\r\n",
      "\u001b[01;32mtest2016032903.mat\u001b[0m*                               \u001b[01;32mtest2018060404.mat\u001b[0m*\r\n",
      "\u001b[01;32mtest2016033001.mat\u001b[0m*                               \u001b[01;32mtest2018060405.mat\u001b[0m*\r\n",
      "\u001b[01;32mtest2016040101.mat\u001b[0m*                               \u001b[01;32mtest2018060501.mat\u001b[0m*\r\n",
      "\u001b[01;32mtest2016040102.mat\u001b[0m*                               \u001b[01;32mtest2018060502.mat\u001b[0m*\r\n",
      "\u001b[01;32mtest2016040302.mat\u001b[0m*                               \u001b[01;32mtest2018060601.mat\u001b[0m*\r\n",
      "\u001b[01;32mtest2016050901.mat\u001b[0m*                               \u001b[01;32mtest2018060602.mat\u001b[0m*\r\n",
      "\u001b[01;32mtest2016051002.mat\u001b[0m*                               \u001b[01;32mtest2018060603.mat\u001b[0m*\r\n",
      "\u001b[01;32mtest2016051003.mat\u001b[0m*\r\n"
     ]
    }
   ],
   "source": [
    "ls"
   ]
  },
  {
   "cell_type": "code",
   "execution_count": 2,
   "metadata": {
    "collapsed": true,
    "deletable": true,
    "editable": true
   },
   "outputs": [],
   "source": [
    "data= pd.read_csv('/data/Good data storage.csv')"
   ]
  },
  {
   "cell_type": "code",
   "execution_count": 6,
   "metadata": {
    "collapsed": false,
    "deletable": true,
    "editable": true
   },
   "outputs": [
    {
     "data": {
      "text/html": [
       "<div>\n",
       "<table border=\"1\" class=\"dataframe\">\n",
       "  <thead>\n",
       "    <tr style=\"text-align: right;\">\n",
       "      <th></th>\n",
       "      <th>File name</th>\n",
       "      <th>Age</th>\n",
       "      <th>Pip number</th>\n",
       "      <th>E-I</th>\n",
       "      <th>Reci</th>\n",
       "      <th>Artifact</th>\n",
       "      <th>IS100</th>\n",
       "      <th>Trial number before</th>\n",
       "      <th>Trial number after</th>\n",
       "      <th>Protocol</th>\n",
       "      <th>Elimi</th>\n",
       "      <th>Notes</th>\n",
       "      <th>Ptl_note</th>\n",
       "    </tr>\n",
       "  </thead>\n",
       "  <tbody>\n",
       "    <tr>\n",
       "      <th>127</th>\n",
       "      <td>2017091301</td>\n",
       "      <td>27</td>\n",
       "      <td>2</td>\n",
       "      <td>1</td>\n",
       "      <td>1</td>\n",
       "      <td>0</td>\n",
       "      <td>1</td>\n",
       "      <td>17,18</td>\n",
       "      <td>19,20</td>\n",
       "      <td>17</td>\n",
       "      <td>0</td>\n",
       "      <td>Reduction</td>\n",
       "      <td>Naspm 100 uM</td>\n",
       "    </tr>\n",
       "    <tr>\n",
       "      <th>128</th>\n",
       "      <td>2017091202</td>\n",
       "      <td>26</td>\n",
       "      <td>2</td>\n",
       "      <td>1</td>\n",
       "      <td>1</td>\n",
       "      <td>0</td>\n",
       "      <td>1</td>\n",
       "      <td>6</td>\n",
       "      <td>7,8,9</td>\n",
       "      <td>17</td>\n",
       "      <td>0</td>\n",
       "      <td>Reduction</td>\n",
       "      <td>Naspm 100 uM</td>\n",
       "    </tr>\n",
       "    <tr>\n",
       "      <th>129</th>\n",
       "      <td>2017092702</td>\n",
       "      <td>28</td>\n",
       "      <td>1</td>\n",
       "      <td>1</td>\n",
       "      <td>1</td>\n",
       "      <td>0</td>\n",
       "      <td>1</td>\n",
       "      <td>33</td>\n",
       "      <td>34</td>\n",
       "      <td>17</td>\n",
       "      <td>0</td>\n",
       "      <td>Reduction</td>\n",
       "      <td>Naspm 100 uM</td>\n",
       "    </tr>\n",
       "    <tr>\n",
       "      <th>130</th>\n",
       "      <td>2017092901</td>\n",
       "      <td>30</td>\n",
       "      <td>2</td>\n",
       "      <td>1</td>\n",
       "      <td>1</td>\n",
       "      <td>0</td>\n",
       "      <td>1</td>\n",
       "      <td>45</td>\n",
       "      <td>46</td>\n",
       "      <td>17</td>\n",
       "      <td>0</td>\n",
       "      <td>Reduction</td>\n",
       "      <td>Naspm 100 uM</td>\n",
       "    </tr>\n",
       "    <tr>\n",
       "      <th>131</th>\n",
       "      <td>2017102601</td>\n",
       "      <td>25</td>\n",
       "      <td>2</td>\n",
       "      <td>1</td>\n",
       "      <td>1</td>\n",
       "      <td>0</td>\n",
       "      <td>1</td>\n",
       "      <td>4</td>\n",
       "      <td>8,9,10,11</td>\n",
       "      <td>17</td>\n",
       "      <td>0</td>\n",
       "      <td>Reduction</td>\n",
       "      <td>Naspm 100 uM</td>\n",
       "    </tr>\n",
       "    <tr>\n",
       "      <th>132</th>\n",
       "      <td>2017102501</td>\n",
       "      <td>24</td>\n",
       "      <td>2</td>\n",
       "      <td>1</td>\n",
       "      <td>1</td>\n",
       "      <td>0</td>\n",
       "      <td>1</td>\n",
       "      <td>10,11,12</td>\n",
       "      <td>13,14,15,16,17,18,19</td>\n",
       "      <td>17</td>\n",
       "      <td>0</td>\n",
       "      <td>Reduction</td>\n",
       "      <td>Naspm 100 uM</td>\n",
       "    </tr>\n",
       "    <tr>\n",
       "      <th>133</th>\n",
       "      <td>2017102301</td>\n",
       "      <td>23</td>\n",
       "      <td>2</td>\n",
       "      <td>1</td>\n",
       "      <td>1</td>\n",
       "      <td>0</td>\n",
       "      <td>1</td>\n",
       "      <td>17,18</td>\n",
       "      <td>19,20,22</td>\n",
       "      <td>17</td>\n",
       "      <td>0</td>\n",
       "      <td>Reduction</td>\n",
       "      <td>Naspm 100 uM</td>\n",
       "    </tr>\n",
       "  </tbody>\n",
       "</table>\n",
       "</div>"
      ],
      "text/plain": [
       "      File name  Age  Pip number  E-I  Reci  Artifact  IS100  \\\n",
       "127  2017091301   27           2    1     1         0      1   \n",
       "128  2017091202   26           2    1     1         0      1   \n",
       "129  2017092702   28           1    1     1         0      1   \n",
       "130  2017092901   30           2    1     1         0      1   \n",
       "131  2017102601   25           2    1     1         0      1   \n",
       "132  2017102501   24           2    1     1         0      1   \n",
       "133  2017102301   23           2    1     1         0      1   \n",
       "\n",
       "    Trial number before    Trial number after  Protocol  Elimi      Notes  \\\n",
       "127               17,18                 19,20        17      0  Reduction   \n",
       "128                   6                 7,8,9        17      0  Reduction   \n",
       "129                  33                    34        17      0  Reduction   \n",
       "130                  45                    46        17      0  Reduction   \n",
       "131                   4             8,9,10,11        17      0  Reduction   \n",
       "132            10,11,12  13,14,15,16,17,18,19        17      0  Reduction   \n",
       "133               17,18              19,20,22        17      0  Reduction   \n",
       "\n",
       "         Ptl_note  \n",
       "127  Naspm 100 uM  \n",
       "128  Naspm 100 uM  \n",
       "129  Naspm 100 uM  \n",
       "130  Naspm 100 uM  \n",
       "131  Naspm 100 uM  \n",
       "132  Naspm 100 uM  \n",
       "133  Naspm 100 uM  "
      ]
     },
     "execution_count": 6,
     "metadata": {},
     "output_type": "execute_result"
    }
   ],
   "source": [
    "data_naspm = data_napsm = data[(data['Ptl_note']=='Naspm 100 uM')]\n",
    "data_naspm"
   ]
  },
  {
   "cell_type": "code",
   "execution_count": 8,
   "metadata": {
    "collapsed": false,
    "deletable": true,
    "editable": true
   },
   "outputs": [
    {
     "data": {
      "text/html": [
       "<div>\n",
       "<table border=\"1\" class=\"dataframe\">\n",
       "  <thead>\n",
       "    <tr style=\"text-align: right;\">\n",
       "      <th></th>\n",
       "      <th>Before</th>\n",
       "      <th>After</th>\n",
       "      <th>File name</th>\n",
       "      <th>elimi</th>\n",
       "      <th>spon_elimi_bef</th>\n",
       "      <th>spon_elimi_aft</th>\n",
       "    </tr>\n",
       "  </thead>\n",
       "  <tbody>\n",
       "    <tr>\n",
       "      <th>127</th>\n",
       "      <td>{'raw_decay_tau': [nan, 0.00142818231927, 0.00...</td>\n",
       "      <td>{'raw_decay_tau': [0.00156031744059, 0.0014592...</td>\n",
       "      <td>2017091301</td>\n",
       "      <td>25</td>\n",
       "      <td>NaN</td>\n",
       "      <td>[32, 33]</td>\n",
       "    </tr>\n",
       "    <tr>\n",
       "      <th>128</th>\n",
       "      <td>{'raw_decay_tau': [0.00121294497731, nan, 0.00...</td>\n",
       "      <td>{'raw_decay_tau': [0.000808956845364, 0.001273...</td>\n",
       "      <td>2017091202</td>\n",
       "      <td>30</td>\n",
       "      <td>NaN</td>\n",
       "      <td>[54, 55, 56, 57, 58]</td>\n",
       "    </tr>\n",
       "    <tr>\n",
       "      <th>129</th>\n",
       "      <td>{'raw_decay_tau': [0.000723293754701, 0.000656...</td>\n",
       "      <td>{'raw_decay_tau': [0.00185466953278, 0.0016600...</td>\n",
       "      <td>2017092702</td>\n",
       "      <td>20</td>\n",
       "      <td>NaN</td>\n",
       "      <td>[17, 24, 31]</td>\n",
       "    </tr>\n",
       "    <tr>\n",
       "      <th>130</th>\n",
       "      <td>{'raw_decay_tau': [0.00112154916799, 0.0020790...</td>\n",
       "      <td>{'raw_decay_tau': [0.00144911018822, 0.0022143...</td>\n",
       "      <td>2017092901</td>\n",
       "      <td>40</td>\n",
       "      <td>NaN</td>\n",
       "      <td>[57, 66]</td>\n",
       "    </tr>\n",
       "    <tr>\n",
       "      <th>132</th>\n",
       "      <td>{'raw_decay_tau': [0.00308636383776, 0.0006431...</td>\n",
       "      <td>{'raw_decay_tau': [0.00104867678132, 0.0012134...</td>\n",
       "      <td>2017102501</td>\n",
       "      <td>40</td>\n",
       "      <td>NaN</td>\n",
       "      <td>[37, 40, 41, 47, 49, 51, 52, 53, 54, 55, 56, 5...</td>\n",
       "    </tr>\n",
       "  </tbody>\n",
       "</table>\n",
       "</div>"
      ],
      "text/plain": [
       "                                                Before  \\\n",
       "127  {'raw_decay_tau': [nan, 0.00142818231927, 0.00...   \n",
       "128  {'raw_decay_tau': [0.00121294497731, nan, 0.00...   \n",
       "129  {'raw_decay_tau': [0.000723293754701, 0.000656...   \n",
       "130  {'raw_decay_tau': [0.00112154916799, 0.0020790...   \n",
       "132  {'raw_decay_tau': [0.00308636383776, 0.0006431...   \n",
       "\n",
       "                                                 After   File name  elimi  \\\n",
       "127  {'raw_decay_tau': [0.00156031744059, 0.0014592...  2017091301     25   \n",
       "128  {'raw_decay_tau': [0.000808956845364, 0.001273...  2017091202     30   \n",
       "129  {'raw_decay_tau': [0.00185466953278, 0.0016600...  2017092702     20   \n",
       "130  {'raw_decay_tau': [0.00144911018822, 0.0022143...  2017092901     40   \n",
       "132  {'raw_decay_tau': [0.00104867678132, 0.0012134...  2017102501     40   \n",
       "\n",
       "     spon_elimi_bef                                     spon_elimi_aft  \n",
       "127             NaN                                           [32, 33]  \n",
       "128             NaN                               [54, 55, 56, 57, 58]  \n",
       "129             NaN                                       [17, 24, 31]  \n",
       "130             NaN                                           [57, 66]  \n",
       "132             NaN  [37, 40, 41, 47, 49, 51, 52, 53, 54, 55, 56, 5...  "
      ]
     },
     "execution_count": 8,
     "metadata": {},
     "output_type": "execute_result"
    }
   ],
   "source": [
    "post_100_naspm = pd.read_pickle('/data/ana_naspm')\n",
    "post_100_naspm"
   ]
  },
  {
   "cell_type": "code",
   "execution_count": 9,
   "metadata": {
    "collapsed": true
   },
   "outputs": [],
   "source": [
    "target = 130\n",
    "psc_naspm_bef = pd.read_pickle('/data/psc_naspm_before_'+str(target))\n",
    "psc_naspm_aft = pd.read_pickle('/data/psc_naspm_after_'+str(target))"
   ]
  },
  {
   "cell_type": "code",
   "execution_count": 22,
   "metadata": {
    "collapsed": false
   },
   "outputs": [
    {
     "data": {
      "text/plain": [
       "[<matplotlib.lines.Line2D at 0x7f9445008a20>]"
      ]
     },
     "execution_count": 22,
     "metadata": {},
     "output_type": "execute_result"
    },
    {
     "data": {
      "image/png": "[encoded data removed]",
      "text/plain": [
       "<matplotlib.figure.Figure at 0x7f94452b3f60>"
      ]
     },
     "metadata": {},
     "output_type": "display_data"
    }
   ],
   "source": [
    "plt.plot(psc_naspm_bef[0][5]['trace'])"
   ]
  },
  {
   "cell_type": "code",
   "execution_count": 71,
   "metadata": {
    "collapsed": false,
    "deletable": true,
    "editable": true
   },
   "outputs": [
    {
     "name": "stdout",
     "output_type": "stream",
     "text": [
      "96 156\n"
     ]
    }
   ],
   "source": [
    "elimi_enter = 60\n",
    "finish = (elimi_enter - 8) * 3\n",
    "if elimi_enter < 40:\n",
    "    start = finish - 30\n",
    "    print(start, finish)\n",
    "else:\n",
    "    start = finish - 60\n",
    "    print(start, finish)"
   ]
  },
  {
   "cell_type": "code",
   "execution_count": 67,
   "metadata": {
    "collapsed": false,
    "deletable": true,
    "editable": true
   },
   "outputs": [],
   "source": [
    "spon_elimi_bef = {}\n",
    "spon_elimi_aft = {}\n",
    "spon_elimi_aft[36] = []   # 66 126\n",
    "spon_elimi_aft[37] = [126,128,130,137,139,141,146,150]  # 36 96\n",
    "spon_elimi_aft[38] = [6,8,11,14,22,27,29]  # 66 126\n",
    "spon_elimi_aft[39] = [14,19,24,25,34,36] # 36 96\n",
    "spon_elimi_aft[172] = [37,41,42,53,62,69,70,72,87,88,92] # 66 126\n",
    "spon_elimi_aft[175] = [51,60,62]# 66 126"
   ]
  },
  {
   "cell_type": "code",
   "execution_count": 68,
   "metadata": {
    "collapsed": false,
    "deletable": true,
    "editable": true
   },
   "outputs": [],
   "source": [
    "choice =37"
   ]
  },
  {
   "cell_type": "code",
   "execution_count": 69,
   "metadata": {
    "collapsed": false,
    "deletable": true,
    "editable": true
   },
   "outputs": [],
   "source": [
    "spon_list = post_50Hz_reci.After.loc[choice]['spon_trace'].copy()"
   ]
  },
  {
   "cell_type": "code",
   "execution_count": 73,
   "metadata": {
    "collapsed": false,
    "deletable": true,
    "editable": true
   },
   "outputs": [],
   "source": [
    "for i in range(len(spon_list)):\n",
    "    plt.figure()\n",
    "    plt.plot(spon_list[i])\n",
    "    plt.title(i)\n",
    "    plt.ylim([-0.5e-10, 0])"
   ]
  },
  {
   "cell_type": "code",
   "execution_count": null,
   "metadata": {
    "collapsed": false,
    "deletable": true,
    "editable": true
   },
   "outputs": [],
   "source": [
    "pop_index = 0\n",
    "while len(spon_elimi_aft[choice]) > 0:\n",
    "    spon_list.pop(spon_elimi_aft[choice][-1])\n",
    "    spon_elimi_aft[choice].pop(-1)"
   ]
  },
  {
   "cell_type": "code",
   "execution_count": null,
   "metadata": {
    "collapsed": false,
    "deletable": true,
    "editable": true
   },
   "outputs": [],
   "source": [
    "spon_trace = -1 * np.hstack(spon_list)"
   ]
  },
  {
   "cell_type": "code",
   "execution_count": null,
   "metadata": {
    "collapsed": false,
    "deletable": true,
    "editable": true
   },
   "outputs": [],
   "source": [
    "plt.plot(spon_trace)"
   ]
  },
  {
   "cell_type": "markdown",
   "metadata": {
    "deletable": true,
    "editable": true
   },
   "source": [
    "### 1. Create preliminary template through fitting response to stimulation"
   ]
  },
  {
   "cell_type": "code",
   "execution_count": null,
   "metadata": {
    "collapsed": false,
    "deletable": true,
    "editable": true
   },
   "outputs": [],
   "source": [
    "# Obtain response\n",
    "template1 = np.mean(np.array(data_am_nonasso.After.loc[choice]['trace_y1']), axis=0)[45:300]\n",
    "template1 = np.squeeze((template1 - np.min(template1))/np.max(template1 - np.min(template1)))\n",
    "template1 = template1[np.argmax(template1):]\n",
    "plt.plot(template1)"
   ]
  },
  {
   "cell_type": "code",
   "execution_count": null,
   "metadata": {
    "collapsed": true,
    "deletable": true,
    "editable": true
   },
   "outputs": [],
   "source": [
    "# fit with double exponential\n",
    "from scipy.optimize import curve_fit\n",
    "\n",
    "def fun_exp(t, decay_tau):\n",
    "    y = np.exp(-1 * t / decay_tau)\n",
    "    return y\n",
    "\n",
    "def fun_2exp(t, a, tau1, tau2):\n",
    "    y = a * np.exp(-1 * t / tau1) + (1-a) * np.exp(-1 * t / tau2)\n",
    "    return y"
   ]
  },
  {
   "cell_type": "code",
   "execution_count": null,
   "metadata": {
    "collapsed": false,
    "deletable": true,
    "editable": true
   },
   "outputs": [],
   "source": [
    "xdata = np.arange(len(template1))\n",
    "ydata = template1\n",
    "popt, pcov = curve_fit(fun_exp, xdata, ydata)"
   ]
  },
  {
   "cell_type": "code",
   "execution_count": null,
   "metadata": {
    "collapsed": false,
    "deletable": true,
    "editable": true
   },
   "outputs": [],
   "source": [
    "pcov, popt"
   ]
  },
  {
   "cell_type": "code",
   "execution_count": null,
   "metadata": {
    "collapsed": false,
    "deletable": true,
    "editable": true
   },
   "outputs": [],
   "source": [
    "temp_predict = fun_exp(xdata, *popt)"
   ]
  },
  {
   "cell_type": "code",
   "execution_count": null,
   "metadata": {
    "collapsed": false,
    "deletable": true,
    "editable": true
   },
   "outputs": [],
   "source": [
    "plt.plot(template1)\n",
    "plt.plot(fun_exp(xdata, *popt), label='raw fit')\n",
    "plt.plot(fun_exp(xdata, *popt*2), label='scale up')\n",
    "plt.plot(fun_exp(xdata, *popt/2), label='scale down')\n",
    "plt.legend()"
   ]
  },
  {
   "cell_type": "code",
   "execution_count": null,
   "metadata": {
    "collapsed": true,
    "deletable": true,
    "editable": true
   },
   "outputs": [],
   "source": [
    "# template1 = np.roll(template1, 10)"
   ]
  },
  {
   "cell_type": "code",
   "execution_count": null,
   "metadata": {
    "collapsed": true,
    "deletable": true,
    "editable": true
   },
   "outputs": [],
   "source": [
    "def func2(t, scale):\n",
    "    return t * scale"
   ]
  },
  {
   "cell_type": "code",
   "execution_count": null,
   "metadata": {
    "collapsed": true,
    "deletable": true,
    "editable": true
   },
   "outputs": [],
   "source": [
    "def exp_fit(f,x,y):\n",
    "    \n",
    "    norm_y = (y - np.min(y)) / np.max(y - np.min(y))\n",
    "    \n",
    "    try: popt, popcv = curve_fit(f, x, norm_y)\n",
    "    except: \n",
    "        return None, None, np.inf\n",
    "        \n",
    "    fit_curve = f(x, *popt) * max(y)\n",
    "    error = np.nanmean(np.square(fit_curve - y))\n",
    "  \n",
    "    return popt, fit_curve, error"
   ]
  },
  {
   "cell_type": "code",
   "execution_count": null,
   "metadata": {
    "collapsed": false,
    "deletable": true,
    "editable": true
   },
   "outputs": [],
   "source": [
    "def findMax(trace, loc, width=50):\n",
    "    start = int(max(loc-width, 0))\n",
    "    end = int(min(loc+width, len(trace)))\n",
    "    return start + np.argmax(trace[start:end])\n",
    "\n",
    "def decay_fit_single(func, trace, reso=25 * 10 ** -6):\n",
    "    xdata = np.arange(len(trace)) * reso\n",
    "    popt1, fit_curve1, error1 = exp_fit(func, xdata, trace)\n",
    "    if len(xdata) >= 300:\n",
    "        popt2, fit_curve2, error2 = exp_fit(func, xdata[:-100], trace[:-100])\n",
    "        # popt3, fit_curve3, error3 = exp_fit(func, xdata[:-200], trace[:-200])\n",
    "        if error2 == min([error1, error2]):\n",
    "            return popt2, fit_curve2, error2\n",
    "        #elif error3 == min([error1, error2, error3]):\n",
    "        #    return popt3, fit_curve3, error3\n",
    "        \n",
    "    return popt1, fit_curve1, error1\n",
    "\n",
    "def decay_model_select(trace, reso=25 * 10 ** -6):\n",
    "    \n",
    "    # Fit with single exponential decay\n",
    "    popt_s, fit_curve_s, error_s = decay_fit_single(fun_exp, trace)\n",
    "    popt_d, fit_curve_d, error_d = decay_fit_single(fun_2exp, trace)\n",
    "    \n",
    "    if error_s < error_d:\n",
    "        if popt_s is not None:\n",
    "            return popt_s[0], fit_curve_s, error_s\n",
    "        else:\n",
    "            return popt_s, fit_curve_s, error_s\n",
    "    else:\n",
    "        if popt_d is not None:\n",
    "            return min(np.abs(popt_d[1:])), fit_curve_d, error_d\n",
    "        else:\n",
    "            return popt_d, fit_curve_d, error_d\n",
    "\n",
    "def onset_fit(trace, reso=25 * 10 ** -6):\n",
    "\n",
    "    onset_trace = trace[:np.argmax(trace)]\n",
    "    high_thres = onset_trace[onset_trace < np.max(trace) * 0.8]\n",
    "    low_thres = onset_trace[onset_trace < np.max(trace) * 0.2]\n",
    "    if len(high_thres) == 0 or len(low_thres) ==0:\n",
    "        return None\n",
    "    high_end = np.where(onset_trace == high_thres[-1])[0]\n",
    "    low_end = np.where(onset_trace == low_thres[0])[0]\n",
    "    \n",
    "    return (high_end - low_end) * reso"
   ]
  },
  {
   "cell_type": "code",
   "execution_count": null,
   "metadata": {
    "collapsed": true,
    "deletable": true,
    "editable": true
   },
   "outputs": [],
   "source": [
    "def psc_search(trace, loc_ori):\n",
    "    \n",
    "    loc = [int(i) for i in loc_ori[0]]\n",
    "    loc = np.append(loc, np.iinfo(np.int32).max)    # If two traces are very close, use the next loc as the end of previous\n",
    "    trace = -1 * trace\n",
    "    psc_seq = []\n",
    "    for i in range(len(loc)-1):\n",
    "        psc = {}\n",
    "        peak_loc = np.argmax(trace[max(int(loc[i])-50, 0):min(int(loc[i])+50, len(trace))])\n",
    "        psc['trace'] = trace[max(loc[i]-50 + peak_loc-50, 0):min([loc[i]-50 + peak_loc+300, loc[i+1]-50, len(trace)])]\n",
    "        if len(psc['trace']) < 200:    # Control the distance of two \n",
    "            continue\n",
    "        psc['amp'] = max(psc['trace']) - np.mean(psc['trace'][:10])\n",
    "        if np.nanmean(psc['trace'][:10]) > 0.5 * psc['amp']:   # Control noisy level\n",
    "            continue\n",
    "        psc['onset_tau'] = onset_fit(psc['trace'])\n",
    "        decay_tau, fitted_curve, error = decay_model_select(psc['trace'][peak_loc:])\n",
    "        psc['decay_tau'] = decay_tau\n",
    "        psc['decay_fit'] = fitted_curve\n",
    "        psc['fit_error'] = error\n",
    "        psc_seq.append(psc)\n",
    "        \n",
    "    return psc_seq"
   ]
  },
  {
   "cell_type": "code",
   "execution_count": null,
   "metadata": {
    "collapsed": true,
    "deletable": true,
    "editable": true
   },
   "outputs": [],
   "source": [
    "def spon_detect(trace, template, plot_low=None, plot_high=None, iffigure=False):\n",
    "    \n",
    "    trace = -1 * trace\n",
    "    \n",
    "    if plot_low is None:\n",
    "        plot_low = 0\n",
    "    \n",
    "    if plot_high is None:\n",
    "        plot_high = len(trace)\n",
    "        \n",
    "    fitted_scale = np.zeros(len(trace)- len(template)+1)\n",
    "    fitted_bias = np.zeros(len(trace)- len(template)+1)\n",
    "\n",
    "    for i in range(len(fitted_scale)):\n",
    "        test_tmp = np.squeeze(trace[i:i+len(template)])\n",
    "        popt2, _ = curve_fit(func2, template, test_tmp)\n",
    "        fitted_scale[i] = popt2[0]\n",
    "    \n",
    "    fitted_trace = np.convolve(fitted_scale, template, mode='full')/np.sum(template)\n",
    "    fitted_trace[np.where(fitted_trace<=0)[0]] = 0\n",
    "    \n",
    "    standard_err = np.sqrt(np.mean(np.square(fitted_trace-trace)))\n",
    "    \n",
    "    detection_cri = np.divide(fitted_trace, standard_err)\n",
    "    \n",
    "    test_diff = np.diff(detection_cri)\n",
    "    loc_diff1 = np.where(test_diff>0.05)[0]\n",
    "    loc_diff1_plot = loc_diff1[(loc_diff1>=plot_low)&(loc_diff1<=plot_high)]\n",
    "    loc_diff1_plot = np.append(loc_diff1_plot, len(loc_diff1_plot))\n",
    "    loc_diff_plot = np.diff(loc_diff1_plot)\n",
    "    \n",
    "    loc_plot = np.where(loc_diff_plot>1)[0]\n",
    "    loc_plot = loc_plot[detection_cri[loc_diff1_plot[loc_plot]]>=2.5]\n",
    "    \n",
    "    # Different template may output different location for the same psc, search around the area\n",
    "    output_loc = []\n",
    "    for i in loc_plot:\n",
    "        output_loc.append(findMax(trace, loc_diff1_plot[i]))\n",
    "    if iffigure:\n",
    "        plt.figure()\n",
    "        plt.plot(detection_cri[plot_low: plot_high])\n",
    "        plt.plot(trace[plot_low: plot_high]*1e11, alpha=0.3)\n",
    "        plt.plot(loc_diff1_plot[loc_plot], np.ones(len(loc_plot)),'*')\n",
    "\n",
    "    return output_loc"
   ]
  },
  {
   "cell_type": "code",
   "execution_count": null,
   "metadata": {
    "collapsed": true,
    "deletable": true,
    "editable": true
   },
   "outputs": [],
   "source": [
    "start = 0\n",
    "length = 5000"
   ]
  },
  {
   "cell_type": "code",
   "execution_count": null,
   "metadata": {
    "collapsed": false,
    "deletable": true,
    "editable": true
   },
   "outputs": [],
   "source": [
    "psc_dic = {}\n",
    "chosen_idx = 2\n",
    "\n",
    "for i in range(len(spon_list)):\n",
    "    # detection locations of PSCs\n",
    "    psc_loc_raw = spon_detect(spon_list[i], fun_exp(xdata, *popt))\n",
    "    psc_loc_up = spon_detect(spon_list[i], fun_exp(xdata, *popt*2))\n",
    "    psc_loc_down = spon_detect(spon_list[i], fun_exp(xdata, *popt/4))\n",
    "    psc_list= list(set(np.concatenate([psc_loc_raw,psc_loc_up, psc_loc_down])))\n",
    "    psc_list.sort()\n",
    "    psc_loc = np.array(psc_list).reshape(1,-1)\n",
    "    # Obtain amplitude, decay, onset time constant of each psc\n",
    "    psc_dic[i] = psc_search(spon_list[i], psc_loc)\n",
    "    \n",
    "    plt.figure()\n",
    "    plt.plot(spon_list[i][start:start+length])\n",
    "    plt.plot(psc_loc[psc_loc<5000], np.zeros(len(psc_loc[psc_loc<5000])), 'r*')"
   ]
  },
  {
   "cell_type": "code",
   "execution_count": null,
   "metadata": {
    "collapsed": false,
    "deletable": true,
    "editable": true
   },
   "outputs": [],
   "source": [
    "#for j in range(len(psc_dic)):\n",
    "#    for i in range(len(psc_dic[j])):\n",
    "#        plt.figure()\n",
    "#        plt.plot(psc_dic[j][i]['trace'])\n",
    "#        plt.title(\"%d th resp, %d th trace, decay=%0.5f, error=%0.5f  \" % (j, i, psc_dic[j][i]['decay_tau'], np.sqrt(psc_dic[j][i]['fit_error'])*10**10))\n",
    "#        plt.plot(np.arange(len(psc_dic[j][i]['decay_fit']))+np.argmax(psc_dic[j][i]['trace']), psc_dic[j][i]['decay_fit'])\n",
    "        # plt.ylim([0,7e-11])"
   ]
  },
  {
   "cell_type": "markdown",
   "metadata": {
    "deletable": true,
    "editable": true
   },
   "source": [
    "### 2. Extract examplary large and isolated events using a high detection threshold"
   ]
  },
  {
   "cell_type": "markdown",
   "metadata": {
    "deletable": true,
    "editable": true
   },
   "source": [
    "### 3. Create a final template by fitting a function to the average of the exemplary events"
   ]
  },
  {
   "cell_type": "markdown",
   "metadata": {
    "deletable": true,
    "editable": true
   },
   "source": [
    "### 4. Extract all events with the final template using a low detection criterion threshold"
   ]
  },
  {
   "cell_type": "markdown",
   "metadata": {
    "deletable": true,
    "editable": true
   },
   "source": [
    "### 5. Eliminate false-positive, add false-negative events"
   ]
  },
  {
   "cell_type": "code",
   "execution_count": null,
   "metadata": {
    "collapsed": false,
    "deletable": true,
    "editable": true
   },
   "outputs": [],
   "source": [
    "# Create"
   ]
  },
  {
   "cell_type": "code",
   "execution_count": null,
   "metadata": {
    "collapsed": true,
    "deletable": true,
    "editable": true
   },
   "outputs": [],
   "source": []
  }
 ],
 "metadata": {
  "kernelspec": {
   "display_name": "Python 3",
   "language": "python",
   "name": "python3"
  },
  "language_info": {
   "codemirror_mode": {
    "name": "ipython",
    "version": 3
   },
   "file_extension": ".py",
   "mimetype": "text/x-python",
   "name": "python",
   "nbconvert_exporter": "python",
   "pygments_lexer": "ipython3",
   "version": "3.5.2"
  }
 },
 "nbformat": 4,
 "nbformat_minor": 2
}
