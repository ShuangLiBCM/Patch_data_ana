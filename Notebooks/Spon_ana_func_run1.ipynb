{
 "cells": [
  {
   "cell_type": "markdown",
   "metadata": {},
   "source": [
    "Detect spontaneous synaptic transmission and parameters."
   ]
  },
  {
   "cell_type": "code",
   "execution_count": 1,
   "metadata": {
    "collapsed": false,
    "deletable": true,
    "editable": true
   },
   "outputs": [],
   "source": [
    "import numpy as np\n",
    "import pandas as pd\n",
    "import scipy.io as sio\n",
    "import matplotlib.pyplot as plt\n",
    "from scipy.optimize import curve_fit\n",
    "import pdb\n",
    "from Patch_ana import patch_pip, spon_ana\n",
    "import seaborn as sns\n",
    "import pickle\n",
    "from matplotlib.backends.backend_pdf import PdfPages\n",
    "plt.style.use('classic')\n",
    "\n",
    "% matplotlib inline\n",
    "# % matplotlib notebook\n",
    "\n",
    "%load_ext autoreload\n",
    "% autoreload 2"
   ]
  },
  {
   "cell_type": "code",
   "execution_count": 2,
   "metadata": {
    "collapsed": false,
    "deletable": true,
    "editable": true
   },
   "outputs": [],
   "source": [
    "data = pd.read_pickle('/data/ana_post_EI_50Hz_reci')"
   ]
  },
  {
   "cell_type": "code",
   "execution_count": 3,
   "metadata": {
    "collapsed": false,
    "deletable": true,
    "editable": true,
    "scrolled": true
   },
   "outputs": [
    {
     "data": {
      "text/html": [
       "<div>\n",
       "<table border=\"1\" class=\"dataframe\">\n",
       "  <thead>\n",
       "    <tr style=\"text-align: right;\">\n",
       "      <th></th>\n",
       "      <th>Before</th>\n",
       "      <th>After</th>\n",
       "      <th>File name</th>\n",
       "      <th>elimi</th>\n",
       "      <th>spon_elimi_bef</th>\n",
       "      <th>spon_elimi_aft</th>\n",
       "    </tr>\n",
       "  </thead>\n",
       "  <tbody>\n",
       "    <tr>\n",
       "      <th>36</th>\n",
       "      <td>{'raw_onset_tau': [0.0004, nan, 0.000475, 0.00...</td>\n",
       "      <td>{'raw_onset_tau': [0.000425, 0.000375, 0.0004,...</td>\n",
       "      <td>2017032701</td>\n",
       "      <td>60</td>\n",
       "      <td>[15, 16, 17, 18, 19, 20, 21, 22, 23, 24, 27, 3...</td>\n",
       "      <td>[]</td>\n",
       "    </tr>\n",
       "    <tr>\n",
       "      <th>37</th>\n",
       "      <td>{'raw_onset_tau': [0.000325, nan, 0.00025, 0.0...</td>\n",
       "      <td>{'raw_onset_tau': [0.000275, 0.0003, nan, 0.00...</td>\n",
       "      <td>2017032802</td>\n",
       "      <td>60</td>\n",
       "      <td>[]</td>\n",
       "      <td>[126, 128, 130, 137, 139, 141, 146, 150]</td>\n",
       "    </tr>\n",
       "    <tr>\n",
       "      <th>38</th>\n",
       "      <td>{'raw_onset_tau': [0.000425, 0.00035, nan, nan...</td>\n",
       "      <td>{'raw_onset_tau': [0.000375, 0.0004, 0.00035, ...</td>\n",
       "      <td>2017032905</td>\n",
       "      <td>20</td>\n",
       "      <td>[9, 10, 22, 29, 30, 32, 33, 36, 37]</td>\n",
       "      <td>[6, 8, 11, 14, 22, 27, 29]</td>\n",
       "    </tr>\n",
       "    <tr>\n",
       "      <th>39</th>\n",
       "      <td>{'raw_onset_tau': [0.00035, 0.000675, 0.000575...</td>\n",
       "      <td>{'raw_onset_tau': [0.000375, 0.00045, 0.0008, ...</td>\n",
       "      <td>2017053102</td>\n",
       "      <td>20</td>\n",
       "      <td>[19, 22, 26, 39]</td>\n",
       "      <td>[14, 19, 24, 25, 34, 36]</td>\n",
       "    </tr>\n",
       "    <tr>\n",
       "      <th>172</th>\n",
       "      <td>{'raw_onset_tau': [nan, nan, nan, 0.000275, 0....</td>\n",
       "      <td>{'raw_onset_tau': [nan, nan, 0.0005, 0.00025, ...</td>\n",
       "      <td>2018032301</td>\n",
       "      <td>40</td>\n",
       "      <td>[0, 1, 4, 8, 10, 19, 26, 29, 30, 31]</td>\n",
       "      <td>[37, 41, 42, 53, 62, 69, 70, 72, 87, 88, 92]</td>\n",
       "    </tr>\n",
       "    <tr>\n",
       "      <th>175</th>\n",
       "      <td>{'raw_onset_tau': [nan, nan, nan, nan, nan, na...</td>\n",
       "      <td>{'raw_onset_tau': [0.000275, nan, nan, 0.00042...</td>\n",
       "      <td>2018032802</td>\n",
       "      <td>30</td>\n",
       "      <td>[23]</td>\n",
       "      <td>[51, 60, 62]</td>\n",
       "    </tr>\n",
       "  </tbody>\n",
       "</table>\n",
       "</div>"
      ],
      "text/plain": [
       "                                                Before  \\\n",
       "36   {'raw_onset_tau': [0.0004, nan, 0.000475, 0.00...   \n",
       "37   {'raw_onset_tau': [0.000325, nan, 0.00025, 0.0...   \n",
       "38   {'raw_onset_tau': [0.000425, 0.00035, nan, nan...   \n",
       "39   {'raw_onset_tau': [0.00035, 0.000675, 0.000575...   \n",
       "172  {'raw_onset_tau': [nan, nan, nan, 0.000275, 0....   \n",
       "175  {'raw_onset_tau': [nan, nan, nan, nan, nan, na...   \n",
       "\n",
       "                                                 After   File name  elimi  \\\n",
       "36   {'raw_onset_tau': [0.000425, 0.000375, 0.0004,...  2017032701     60   \n",
       "37   {'raw_onset_tau': [0.000275, 0.0003, nan, 0.00...  2017032802     60   \n",
       "38   {'raw_onset_tau': [0.000375, 0.0004, 0.00035, ...  2017032905     20   \n",
       "39   {'raw_onset_tau': [0.000375, 0.00045, 0.0008, ...  2017053102     20   \n",
       "172  {'raw_onset_tau': [nan, nan, 0.0005, 0.00025, ...  2018032301     40   \n",
       "175  {'raw_onset_tau': [0.000275, nan, nan, 0.00042...  2018032802     30   \n",
       "\n",
       "                                        spon_elimi_bef  \\\n",
       "36   [15, 16, 17, 18, 19, 20, 21, 22, 23, 24, 27, 3...   \n",
       "37                                                  []   \n",
       "38                 [9, 10, 22, 29, 30, 32, 33, 36, 37]   \n",
       "39                                    [19, 22, 26, 39]   \n",
       "172               [0, 1, 4, 8, 10, 19, 26, 29, 30, 31]   \n",
       "175                                               [23]   \n",
       "\n",
       "                                   spon_elimi_aft  \n",
       "36                                             []  \n",
       "37       [126, 128, 130, 137, 139, 141, 146, 150]  \n",
       "38                     [6, 8, 11, 14, 22, 27, 29]  \n",
       "39                       [14, 19, 24, 25, 34, 36]  \n",
       "172  [37, 41, 42, 53, 62, 69, 70, 72, 87, 88, 92]  \n",
       "175                                  [51, 60, 62]  "
      ]
     },
     "execution_count": 3,
     "metadata": {},
     "output_type": "execute_result"
    }
   ],
   "source": [
    "data"
   ]
  },
  {
   "cell_type": "code",
   "execution_count": 9,
   "metadata": {
    "collapsed": false,
    "deletable": true,
    "editable": true
   },
   "outputs": [],
   "source": [
    "# post_2Hz_reci.index\n",
    "def spon_psc_ana(df, filename, bef_aft_choice='before', ifsave=True, ifTrace_ana=True, div_slope=2, thres=4):\n",
    "\n",
    "    for choice in list(df.index):\n",
    "\n",
    "        if bef_aft_choice == 'before':\n",
    "            spon_list = df.Before.loc[choice]['spon_trace'].copy()\n",
    "            elimi_list = df.loc[choice]['spon_elimi_bef'].copy()\n",
    "            spon_list = spon_ana.pop_Spon_Trace(spon_list, elimi_list)\n",
    "            spon_trace = -1 * np.hstack(spon_list)\n",
    "\n",
    "            plt.figure()\n",
    "            plt.plot(spon_trace)\n",
    "\n",
    "            # Obtain the template\n",
    "            popt, xdata, template = spon_ana.template_Gen(df, index=choice, bef_aft=0)\n",
    "        else:\n",
    "            spon_list = df.After.loc[choice]['spon_trace'].copy()\n",
    "            elimi_list = df.loc[choice]['spon_elimi_aft'].copy()\n",
    "\n",
    "            range_idx = spon_ana.post_bef_end(df.loc[choice].elimi)\n",
    "            spon_list = [spon_list[i] for i in range_idx]\n",
    "            elimi_list = list(np.array(elimi_list) - range_idx[0])\n",
    "\n",
    "            spon_list = spon_ana.pop_Spon_Trace(spon_list, elimi_list)\n",
    "            spon_trace = -1 * np.hstack(spon_list)\n",
    "\n",
    "            plt.figure()\n",
    "            plt.plot(spon_trace)\n",
    "\n",
    "            # Obtain the template\n",
    "            popt, xdata, template = spon_ana.template_Gen(df, index=choice, bef_aft=1)\n",
    "\n",
    "\n",
    "        plt.figure()\n",
    "        plt.plot(template)\n",
    "        plt.plot(spon_ana.fun_exp(xdata, *popt), label='raw fit')\n",
    "        plt.plot(spon_ana.fun_exp(xdata, *popt*2), label='scale up')\n",
    "        plt.plot(spon_ana.fun_exp(xdata, *popt/div_slope), label='scale down')\n",
    "        plt.legend()\n",
    "\n",
    "        psc_dic = {}\n",
    "        psc_loc_track = []\n",
    "        \n",
    "        for i in range(len(spon_list)):\n",
    "            # detection locations of PSCs\n",
    "            psc_loc_raw = spon_ana.spon_detect(spon_list[i], spon_ana.fun_exp(xdata, *popt), thres=thres)\n",
    "            psc_loc_up = spon_ana.spon_detect(spon_list[i], spon_ana.fun_exp(xdata, *popt*2), thres=thres)\n",
    "            psc_loc_down = spon_ana.spon_detect(spon_list[i], spon_ana.fun_exp(xdata, *popt/div_slope), thres=thres)\n",
    "            psc_list= list(set(np.concatenate([psc_loc_raw,psc_loc_up, psc_loc_down])))\n",
    "            psc_list.sort()\n",
    "            psc_loc = np.array(psc_list).reshape(1,-1)\n",
    "            # Obtain amplitude, decay, onset time constant of each psc\n",
    "            psc_loc_track.append(psc_loc)\n",
    "                        \n",
    "            if ifTrace_ana:\n",
    "                psc_dic[i] = spon_ana.psc_search(spon_list[i], psc_loc)\n",
    "\n",
    "        # Save the results for future analysis\n",
    "        if ifsave:\n",
    "            with open('/data/' + filename + '_'+ bef_aft_choice + '_{}'.format(choice), 'wb') as fp:\n",
    "                pickle.dump(psc_dic, fp)\n",
    "\n",
    "            print('saving psc data from %d ...' % choice)\n",
    "        \n",
    "# Visualize each synaptic response\n",
    "#         for j in range(len(psc_dic)):\n",
    "#             for i in range(len(psc_dic[j])):\n",
    "#                 plt.figure()\n",
    "#                 plt.plot(psc_dic[j][i]['trace'])\n",
    "#                 plt.title(\"%d th resp, %d th trace, decay=%s, error=%0.5f  \" % (j, i, psc_dic[j][i]['decay_tau'], psc_dic[j][i]['fit_error']))\n",
    "#                 plt.plot(np.arange(len(psc_dic[j][i]['decay_fit']))+np.argmax(psc_dic[j][i]['trace']), psc_dic[j][i]['decay_fit'])\n",
    "#                 plt.ylim([0,1e-10])\n",
    "                \n",
    "    return spon_list, psc_loc_track"
   ]
  },
  {
   "cell_type": "code",
   "execution_count": 14,
   "metadata": {
    "collapsed": false,
    "deletable": true,
    "editable": true
   },
   "outputs": [],
   "source": [
    "spon_list, psc_loc_track = spon_psc_ana(data, 'psc_non_asso_50Hz_slope4_thres2.5', bef_aft_choice='before', div_slope=4, thres=2.5)"
   ]
  },
  {
   "cell_type": "code",
   "execution_count": 11,
   "metadata": {
    "collapsed": false,
    "deletable": true,
    "editable": true
   },
   "outputs": [
    {
     "data": {
      "text/plain": [
       "[<matplotlib.lines.Line2D at 0x7f393dccaa90>,\n",
       " <matplotlib.lines.Line2D at 0x7f393e3bb208>,\n",
       " <matplotlib.lines.Line2D at 0x7f393e3bb3c8>,\n",
       " <matplotlib.lines.Line2D at 0x7f393e3bb588>,\n",
       " <matplotlib.lines.Line2D at 0x7f393e3bb748>,\n",
       " <matplotlib.lines.Line2D at 0x7f393e3bb908>,\n",
       " <matplotlib.lines.Line2D at 0x7f393e3bbac8>,\n",
       " <matplotlib.lines.Line2D at 0x7f393e3bbc88>,\n",
       " <matplotlib.lines.Line2D at 0x7f393e3bbe48>,\n",
       " <matplotlib.lines.Line2D at 0x7f393e3c3048>,\n",
       " <matplotlib.lines.Line2D at 0x7f393e3c3208>,\n",
       " <matplotlib.lines.Line2D at 0x7f393e3c33c8>,\n",
       " <matplotlib.lines.Line2D at 0x7f393e3c3588>,\n",
       " <matplotlib.lines.Line2D at 0x7f393e3c3748>,\n",
       " <matplotlib.lines.Line2D at 0x7f393e3c3908>,\n",
       " <matplotlib.lines.Line2D at 0x7f393e3c3ac8>,\n",
       " <matplotlib.lines.Line2D at 0x7f393e3c3c88>,\n",
       " <matplotlib.lines.Line2D at 0x7f393e3c3e48>,\n",
       " <matplotlib.lines.Line2D at 0x7f393e089048>,\n",
       " <matplotlib.lines.Line2D at 0x7f393e089208>,\n",
       " <matplotlib.lines.Line2D at 0x7f393e0893c8>]"
      ]
     },
     "execution_count": 11,
     "metadata": {},
     "output_type": "execute_result"
    },
    {
     "data": {
      "image/png": "[encoded data removed]",
      "text/plain": [
       "<matplotlib.figure.Figure at 0x7f393dbbe710>"
      ]
     },
     "metadata": {},
     "output_type": "display_data"
    }
   ],
   "source": [
    "trace_id = 0\n",
    "plt.plot(spon_list[trace_id])\n",
    "plt.plot(psc_loc_track[trace_id], np.zeros(len(psc_loc_track[trace_id])), 'r*')"
   ]
  },
  {
   "cell_type": "code",
   "execution_count": 12,
   "metadata": {
    "collapsed": false,
    "deletable": true,
    "editable": true,
    "scrolled": true
   },
   "outputs": [],
   "source": [
    "# spon_psc_ana(data, 'psc_non_asso_AM251', bef_aft_choice='before')"
   ]
  },
  {
   "cell_type": "code",
   "execution_count": 15,
   "metadata": {
    "collapsed": false,
    "deletable": true,
    "editable": true
   },
   "outputs": [],
   "source": [
    "spon_psc_ana(data, 'psc_non_asso_50Hz_slope4_thres2.5', bef_aft_choice='after', div_slope=4, thres=2.5)"
   ]
  },
  {
   "cell_type": "code",
   "execution_count": null,
   "metadata": {
    "collapsed": true,
    "deletable": true,
    "editable": true
   },
   "outputs": [],
   "source": []
  }
 ],
 "metadata": {
  "kernelspec": {
   "display_name": "Python 3",
   "language": "python",
   "name": "python3"
  },
  "language_info": {
   "codemirror_mode": {
    "name": "ipython",
    "version": 3
   },
   "file_extension": ".py",
   "mimetype": "text/x-python",
   "name": "python",
   "nbconvert_exporter": "python",
   "pygments_lexer": "ipython3",
   "version": "3.5.2"
  }
 },
 "nbformat": 4,
 "nbformat_minor": 2
}
