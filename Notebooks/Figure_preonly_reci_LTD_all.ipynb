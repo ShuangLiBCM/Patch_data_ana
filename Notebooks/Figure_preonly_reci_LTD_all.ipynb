{
 "cells": [
  {
   "cell_type": "code",
   "execution_count": 13,
   "metadata": {
    "collapsed": false,
    "deletable": true,
    "editable": true
   },
   "outputs": [
    {
     "name": "stdout",
     "output_type": "stream",
     "text": [
      "The autoreload extension is already loaded. To reload it, use:\n",
      "  %reload_ext autoreload\n"
     ]
    }
   ],
   "source": [
    "import numpy as np\n",
    "import pandas as pd\n",
    "import scipy.io as sio\n",
    "import matplotlib.pyplot as plt\n",
    "from scipy.optimize import curve_fit\n",
    "import pdb\n",
    "from Patch_ana import patch_pip\n",
    "import seaborn as sns\n",
    "\n",
    "% matplotlib inline\n",
    "%load_ext autoreload\n",
    "% autoreload 2"
   ]
  },
  {
   "cell_type": "code",
   "execution_count": 20,
   "metadata": {
    "collapsed": false,
    "deletable": true,
    "editable": true
   },
   "outputs": [],
   "source": [
    "pre_LTD2 = pd.read_pickle('/data/ana_pre_2Hz_reci')\n",
    "pre_LTD50 = pd.read_pickle('/data/ana_pre_50Hz_reci')\n",
    "pre_LTD50_uni = pd.read_pickle('/data/ana_pre_50Hz_uni')"
   ]
  },
  {
   "cell_type": "code",
   "execution_count": 21,
   "metadata": {
    "collapsed": false,
    "deletable": true,
    "editable": true
   },
   "outputs": [
    {
     "data": {
      "text/html": [
       "<div>\n",
       "<table border=\"1\" class=\"dataframe\">\n",
       "  <thead>\n",
       "    <tr style=\"text-align: right;\">\n",
       "      <th></th>\n",
       "      <th>Before</th>\n",
       "      <th>After</th>\n",
       "      <th>File name</th>\n",
       "      <th>elimi</th>\n",
       "    </tr>\n",
       "  </thead>\n",
       "  <tbody>\n",
       "    <tr>\n",
       "      <th>107</th>\n",
       "      <td>{'x': [1, 2, 3, 4, 5, 6, 7, 8, 9, 10, 11, 12, ...</td>\n",
       "      <td>{'x': [1, 2, 3, 4, 5, 6, 7, 8, 9, 10, 11, 12, ...</td>\n",
       "      <td>2017071401</td>\n",
       "      <td>30</td>\n",
       "    </tr>\n",
       "    <tr>\n",
       "      <th>108</th>\n",
       "      <td>{'x': [1, 2, 3, 4, 5, 6, 7, 8, 9, 10, 11, 12],...</td>\n",
       "      <td>{'x': [1, 2, 3, 4, 5, 6, 7, 8, 9, 10, 11, 12, ...</td>\n",
       "      <td>2017071902</td>\n",
       "      <td>35</td>\n",
       "    </tr>\n",
       "    <tr>\n",
       "      <th>109</th>\n",
       "      <td>{'x': [1, 2, 3, 4, 5, 6, 7, 8, 9, 10, 11, 12, ...</td>\n",
       "      <td>{'x': [1, 2, 3, 4, 5, 6, 7, 8, 9, 10, 11, 12, ...</td>\n",
       "      <td>2017071903</td>\n",
       "      <td>45</td>\n",
       "    </tr>\n",
       "    <tr>\n",
       "      <th>110</th>\n",
       "      <td>{'x': [1, 2, 3, 4, 5, 6, 7, 8, 9, 10, 11, 12, ...</td>\n",
       "      <td>{'x': [1, 2, 3, 4, 5, 6, 7, 8, 9, 10, 11, 12, ...</td>\n",
       "      <td>2017071903</td>\n",
       "      <td>30</td>\n",
       "    </tr>\n",
       "    <tr>\n",
       "      <th>111</th>\n",
       "      <td>{'x': [1, 2, 3, 4, 5, 6, 7, 8, 9, 10, 11, 12, ...</td>\n",
       "      <td>{'x': [1, 2, 3, 4, 5, 6, 7, 8, 9, 10, 11, 12, ...</td>\n",
       "      <td>2017080401</td>\n",
       "      <td>40</td>\n",
       "    </tr>\n",
       "    <tr>\n",
       "      <th>113</th>\n",
       "      <td>{'x': [1, 2, 3, 4, 5, 6, 7, 8, 9, 10, 11, 12, ...</td>\n",
       "      <td>{'x': [1, 2, 3, 4, 5, 6, 7, 8, 9, 10, 11, 12, ...</td>\n",
       "      <td>2017072102</td>\n",
       "      <td>25</td>\n",
       "    </tr>\n",
       "  </tbody>\n",
       "</table>\n",
       "</div>"
      ],
      "text/plain": [
       "                                                Before  \\\n",
       "107  {'x': [1, 2, 3, 4, 5, 6, 7, 8, 9, 10, 11, 12, ...   \n",
       "108  {'x': [1, 2, 3, 4, 5, 6, 7, 8, 9, 10, 11, 12],...   \n",
       "109  {'x': [1, 2, 3, 4, 5, 6, 7, 8, 9, 10, 11, 12, ...   \n",
       "110  {'x': [1, 2, 3, 4, 5, 6, 7, 8, 9, 10, 11, 12, ...   \n",
       "111  {'x': [1, 2, 3, 4, 5, 6, 7, 8, 9, 10, 11, 12, ...   \n",
       "113  {'x': [1, 2, 3, 4, 5, 6, 7, 8, 9, 10, 11, 12, ...   \n",
       "\n",
       "                                                 After   File name  elimi  \n",
       "107  {'x': [1, 2, 3, 4, 5, 6, 7, 8, 9, 10, 11, 12, ...  2017071401     30  \n",
       "108  {'x': [1, 2, 3, 4, 5, 6, 7, 8, 9, 10, 11, 12, ...  2017071902     35  \n",
       "109  {'x': [1, 2, 3, 4, 5, 6, 7, 8, 9, 10, 11, 12, ...  2017071903     45  \n",
       "110  {'x': [1, 2, 3, 4, 5, 6, 7, 8, 9, 10, 11, 12, ...  2017071903     30  \n",
       "111  {'x': [1, 2, 3, 4, 5, 6, 7, 8, 9, 10, 11, 12, ...  2017080401     40  \n",
       "113  {'x': [1, 2, 3, 4, 5, 6, 7, 8, 9, 10, 11, 12, ...  2017072102     25  "
      ]
     },
     "execution_count": 21,
     "metadata": {},
     "output_type": "execute_result"
    }
   ],
   "source": [
    "pre_LTD2"
   ]
  },
  {
   "cell_type": "code",
   "execution_count": 22,
   "metadata": {
    "collapsed": false,
    "deletable": true,
    "editable": true
   },
   "outputs": [
    {
     "data": {
      "text/html": [
       "<div>\n",
       "<table border=\"1\" class=\"dataframe\">\n",
       "  <thead>\n",
       "    <tr style=\"text-align: right;\">\n",
       "      <th></th>\n",
       "      <th>Before</th>\n",
       "      <th>After</th>\n",
       "      <th>File name</th>\n",
       "      <th>elimi</th>\n",
       "    </tr>\n",
       "  </thead>\n",
       "  <tbody>\n",
       "    <tr>\n",
       "      <th>14</th>\n",
       "      <td>{'x': [1, 2, 3, 4, 5, 6, 7, 8, 9, 10, 11, 12, ...</td>\n",
       "      <td>{'x': [1, 2, 3, 4, 5, 6, 7, 8, 9, 10, 11, 12, ...</td>\n",
       "      <td>2016091201</td>\n",
       "      <td>60</td>\n",
       "    </tr>\n",
       "    <tr>\n",
       "      <th>15</th>\n",
       "      <td>{'x': [1, 2, 3, 4, 5, 6, 7, 8, 9, 10, 11], 'ra...</td>\n",
       "      <td>{'x': [1, 2, 3, 4, 5, 6, 7, 8, 9, 10, 11, 12, ...</td>\n",
       "      <td>2016100201</td>\n",
       "      <td>40</td>\n",
       "    </tr>\n",
       "    <tr>\n",
       "      <th>16</th>\n",
       "      <td>{'x': [1, 2, 3, 4, 5, 6, 7, 8, 9, 10, 11, 12],...</td>\n",
       "      <td>{'x': [1, 2, 3, 4, 5, 6, 7, 8, 9, 10, 11, 12, ...</td>\n",
       "      <td>2016100303</td>\n",
       "      <td>60</td>\n",
       "    </tr>\n",
       "    <tr>\n",
       "      <th>17</th>\n",
       "      <td>{'x': [1, 2, 3, 4, 5, 6, 7, 8, 9, 10], 'raw_am...</td>\n",
       "      <td>{'x': [1, 2, 3, 4, 5, 6, 7, 8, 9, 10, 11, 12, ...</td>\n",
       "      <td>2016100304</td>\n",
       "      <td>55</td>\n",
       "    </tr>\n",
       "    <tr>\n",
       "      <th>18</th>\n",
       "      <td>{'x': [1, 2, 3, 4, 5, 6, 7, 8, 9, 10, 11, 12],...</td>\n",
       "      <td>{'x': [1, 2, 3, 4, 5, 6, 7, 8, 9, 10, 11, 12, ...</td>\n",
       "      <td>2017021302</td>\n",
       "      <td>35</td>\n",
       "    </tr>\n",
       "    <tr>\n",
       "      <th>19</th>\n",
       "      <td>{'x': [1, 2, 3, 4, 5, 6, 7, 8, 9, 10, 11, 12, ...</td>\n",
       "      <td>{'x': [1, 2, 3, 4, 5, 6, 7, 8, 9, 10, 11, 12, ...</td>\n",
       "      <td>2017053101</td>\n",
       "      <td>60</td>\n",
       "    </tr>\n",
       "  </tbody>\n",
       "</table>\n",
       "</div>"
      ],
      "text/plain": [
       "                                               Before  \\\n",
       "14  {'x': [1, 2, 3, 4, 5, 6, 7, 8, 9, 10, 11, 12, ...   \n",
       "15  {'x': [1, 2, 3, 4, 5, 6, 7, 8, 9, 10, 11], 'ra...   \n",
       "16  {'x': [1, 2, 3, 4, 5, 6, 7, 8, 9, 10, 11, 12],...   \n",
       "17  {'x': [1, 2, 3, 4, 5, 6, 7, 8, 9, 10], 'raw_am...   \n",
       "18  {'x': [1, 2, 3, 4, 5, 6, 7, 8, 9, 10, 11, 12],...   \n",
       "19  {'x': [1, 2, 3, 4, 5, 6, 7, 8, 9, 10, 11, 12, ...   \n",
       "\n",
       "                                                After   File name  elimi  \n",
       "14  {'x': [1, 2, 3, 4, 5, 6, 7, 8, 9, 10, 11, 12, ...  2016091201     60  \n",
       "15  {'x': [1, 2, 3, 4, 5, 6, 7, 8, 9, 10, 11, 12, ...  2016100201     40  \n",
       "16  {'x': [1, 2, 3, 4, 5, 6, 7, 8, 9, 10, 11, 12, ...  2016100303     60  \n",
       "17  {'x': [1, 2, 3, 4, 5, 6, 7, 8, 9, 10, 11, 12, ...  2016100304     55  \n",
       "18  {'x': [1, 2, 3, 4, 5, 6, 7, 8, 9, 10, 11, 12, ...  2017021302     35  \n",
       "19  {'x': [1, 2, 3, 4, 5, 6, 7, 8, 9, 10, 11, 12, ...  2017053101     60  "
      ]
     },
     "execution_count": 22,
     "metadata": {},
     "output_type": "execute_result"
    }
   ],
   "source": [
    "pre_LTD50"
   ]
  },
  {
   "cell_type": "code",
   "execution_count": 23,
   "metadata": {
    "collapsed": false
   },
   "outputs": [
    {
     "data": {
      "text/html": [
       "<div>\n",
       "<table border=\"1\" class=\"dataframe\">\n",
       "  <thead>\n",
       "    <tr style=\"text-align: right;\">\n",
       "      <th></th>\n",
       "      <th>Before</th>\n",
       "      <th>After</th>\n",
       "      <th>File name</th>\n",
       "      <th>elimi</th>\n",
       "    </tr>\n",
       "  </thead>\n",
       "  <tbody>\n",
       "    <tr>\n",
       "      <th>9</th>\n",
       "      <td>{'x': [1, 2, 3, 4, 5, 6, 7, 8, 9, 10, 11, 12],...</td>\n",
       "      <td>{'x': [1, 2, 3, 4, 5, 6, 7, 8, 9, 10, 11, 12, ...</td>\n",
       "      <td>2016081002</td>\n",
       "      <td>27</td>\n",
       "    </tr>\n",
       "    <tr>\n",
       "      <th>10</th>\n",
       "      <td>{'x': [1, 2, 3, 4, 5, 6, 7, 8, 9, 10, 11, 12, ...</td>\n",
       "      <td>{'x': [1, 2, 3, 4, 5, 6, 7, 8, 9, 10, 11, 12, ...</td>\n",
       "      <td>2016081703</td>\n",
       "      <td>40</td>\n",
       "    </tr>\n",
       "    <tr>\n",
       "      <th>11</th>\n",
       "      <td>{'x': [1, 2, 3, 4, 5, 6, 7, 8, 9, 10, 11, 12],...</td>\n",
       "      <td>{'x': [1, 2, 3, 4, 5, 6, 7, 8, 9, 10, 11, 12, ...</td>\n",
       "      <td>2016081002</td>\n",
       "      <td>28</td>\n",
       "    </tr>\n",
       "    <tr>\n",
       "      <th>12</th>\n",
       "      <td>{'x': [1, 2, 3, 4, 5, 6, 7, 8, 9, 10], 'raw_am...</td>\n",
       "      <td>{'x': [1, 2, 3, 4, 5, 6, 7, 8, 9, 10, 11, 12, ...</td>\n",
       "      <td>2016092903</td>\n",
       "      <td>17</td>\n",
       "    </tr>\n",
       "    <tr>\n",
       "      <th>13</th>\n",
       "      <td>{'x': [1, 2, 3, 4, 5, 6, 7, 8, 9, 10], 'raw_am...</td>\n",
       "      <td>{'x': [1, 2, 3, 4, 5, 6, 7, 8, 9, 10, 11, 12, ...</td>\n",
       "      <td>2016101201</td>\n",
       "      <td>50</td>\n",
       "    </tr>\n",
       "    <tr>\n",
       "      <th>20</th>\n",
       "      <td>{'x': [1, 2, 3, 4, 5, 6, 7, 8, 9, 10, 11, 12, ...</td>\n",
       "      <td>{'x': [1, 2, 3, 4, 5, 6, 7, 8, 9, 10, 11, 12, ...</td>\n",
       "      <td>2017051501</td>\n",
       "      <td>22</td>\n",
       "    </tr>\n",
       "  </tbody>\n",
       "</table>\n",
       "</div>"
      ],
      "text/plain": [
       "                                               Before  \\\n",
       "9   {'x': [1, 2, 3, 4, 5, 6, 7, 8, 9, 10, 11, 12],...   \n",
       "10  {'x': [1, 2, 3, 4, 5, 6, 7, 8, 9, 10, 11, 12, ...   \n",
       "11  {'x': [1, 2, 3, 4, 5, 6, 7, 8, 9, 10, 11, 12],...   \n",
       "12  {'x': [1, 2, 3, 4, 5, 6, 7, 8, 9, 10], 'raw_am...   \n",
       "13  {'x': [1, 2, 3, 4, 5, 6, 7, 8, 9, 10], 'raw_am...   \n",
       "20  {'x': [1, 2, 3, 4, 5, 6, 7, 8, 9, 10, 11, 12, ...   \n",
       "\n",
       "                                                After   File name  elimi  \n",
       "9   {'x': [1, 2, 3, 4, 5, 6, 7, 8, 9, 10, 11, 12, ...  2016081002     27  \n",
       "10  {'x': [1, 2, 3, 4, 5, 6, 7, 8, 9, 10, 11, 12, ...  2016081703     40  \n",
       "11  {'x': [1, 2, 3, 4, 5, 6, 7, 8, 9, 10, 11, 12, ...  2016081002     28  \n",
       "12  {'x': [1, 2, 3, 4, 5, 6, 7, 8, 9, 10, 11, 12, ...  2016092903     17  \n",
       "13  {'x': [1, 2, 3, 4, 5, 6, 7, 8, 9, 10, 11, 12, ...  2016101201     50  \n",
       "20  {'x': [1, 2, 3, 4, 5, 6, 7, 8, 9, 10, 11, 12, ...  2017051501     22  "
      ]
     },
     "execution_count": 23,
     "metadata": {},
     "output_type": "execute_result"
    }
   ],
   "source": [
    "pre_LTD50_uni"
   ]
  },
  {
   "cell_type": "code",
   "execution_count": 33,
   "metadata": {
    "collapsed": false,
    "deletable": true,
    "editable": true
   },
   "outputs": [
    {
     "name": "stderr",
     "output_type": "stream",
     "text": [
      "/usr/local/lib/python3.5/dist-packages/ipykernel/__main__.py:26: RuntimeWarning: Mean of empty slice\n",
      "/usr/local/lib/python3.5/dist-packages/numpy/lib/nanfunctions.py:1423: RuntimeWarning: Degrees of freedom <= 0 for slice.\n",
      "  keepdims=keepdims)\n",
      "/usr/local/lib/python3.5/dist-packages/ipykernel/__main__.py:53: RuntimeWarning: Mean of empty slice\n",
      "/usr/local/lib/python3.5/dist-packages/ipykernel/__main__.py:81: RuntimeWarning: Mean of empty slice\n"
     ]
    },
    {
     "data": {
      "text/plain": [
       "<Container object of 3 artists>"
      ]
     },
     "execution_count": 33,
     "metadata": {},
     "output_type": "execute_result"
    },
    {
     "name": "stderr",
     "output_type": "stream",
     "text": [
      "/usr/local/lib/python3.5/dist-packages/matplotlib/font_manager.py:1297: UserWarning: findfont: Font family ['sans-serif'] not found. Falling back to DejaVu Sans\n",
      "  (prop.get_family(), self.defaultFamily[fontext]))\n"
     ]
    },
    {
     "data": {
      "image/png": "[encoded data removed]",
      "text/plain": [
       "<matplotlib.figure.Figure at 0x7fdfadb2d278>"
      ]
     },
     "metadata": {},
     "output_type": "display_data"
    }
   ],
   "source": [
    "data = pre_LTD2\n",
    "ave_ptl_resp = np.ones((len(data), 60))*np.nan\n",
    "\n",
    "for i in range(len(data)):\n",
    "    bef_resp = data.iloc[i]['Before']['ave_amp1'][-5:]\n",
    "    bef_rs = np.nanmean(data.iloc[i]['Before']['rs'][-5:])\n",
    "    aft_rs = np.nanmean(data.iloc[i]['After']['rs'][:(data.iloc[i]['elimi']-7)][-5:])\n",
    "    aft_resp = data.iloc[i]['After']['ave_amp1'][:(data.iloc[i]['elimi']-7)]*aft_rs/bef_rs\n",
    "    bef_mean = np.nanmean(bef_resp)\n",
    "    if aft_resp.shape[0] < 52:\n",
    "        length_fill = 52 - aft_resp.shape[0]\n",
    "        mean_fill = np.nanmean(aft_resp[-5:])\n",
    "        ste_fill =  np.nanstd(aft_resp[-5:])\n",
    "        np.random.seed(i)\n",
    "        aft_fill = np.random.normal(loc=mean_fill, scale=ste_fill, size=(1,length_fill))  \n",
    "        aft_resp = np.concatenate((aft_resp, aft_fill.reshape(-1,1)))\n",
    "    \n",
    "    bef_resp = bef_resp/bef_mean\n",
    "    aft_resp = aft_resp/bef_mean\n",
    "    resp1_joint= np.concatenate([bef_resp, np.ones((3,1))*np.nan, aft_resp])\n",
    "    ave_ptl_resp[i,:5] = bef_resp.reshape(1,-1)\n",
    "    ave_ptl_resp[i,8:] = aft_resp[-52:].reshape(1,-1)\n",
    "#   plt.figure()\n",
    "#   plt.plot(resp1_joint, 'o', label='Resp 1')\n",
    "\n",
    "ave_ptl_mean_2 = np.nanmean(ave_ptl_resp, axis=0)\n",
    "ave_ptl_ste_2 = np.nanstd(ave_ptl_resp, axis=0)/np.sqrt(i)\n",
    "plt.errorbar(x=np.arange(len(ave_ptl_mean_2)), y=ave_ptl_mean_2, yerr=ave_ptl_ste_2, fmt='bo')\n",
    "\n",
    "data = pre_LTD50\n",
    "ave_ptl_resp = np.ones((len(data), 60))*np.nan\n",
    "\n",
    "for i in range(len(data)):\n",
    "    bef_resp = data.iloc[i]['Before']['ave_amp1'][-5:]\n",
    "    bef_rs = np.nanmean(data.iloc[i]['Before']['rs'][-5:])\n",
    "    aft_rs = np.nanmean(data.iloc[i]['After']['rs'][:(data.iloc[i]['elimi']-7)][-5:])\n",
    "    aft_resp = data.iloc[i]['After']['ave_amp1'][:(data.iloc[i]['elimi']-7)]*aft_rs/bef_rs\n",
    "    bef_mean = np.nanmean(bef_resp)\n",
    "    if aft_resp.shape[0] < 52:\n",
    "        length_fill = 52 - aft_resp.shape[0]\n",
    "        mean_fill = np.nanmean(aft_resp[-5:])\n",
    "        ste_fill =  np.nanstd(aft_resp[-5:])\n",
    "        np.random.seed(i)\n",
    "        aft_fill = np.random.normal(loc=mean_fill, scale=ste_fill, size=(1,length_fill))  \n",
    "        aft_resp = np.concatenate((aft_resp, aft_fill.reshape(-1,1)))\n",
    "    \n",
    "    bef_resp = bef_resp/bef_mean\n",
    "    aft_resp = aft_resp/bef_mean\n",
    "    resp1_joint= np.concatenate([bef_resp, np.ones((3,1))*np.nan, aft_resp])\n",
    "    ave_ptl_resp[i,:5] = bef_resp.reshape(1,-1)\n",
    "    ave_ptl_resp[i,8:] = aft_resp[-52:].reshape(1,-1)\n",
    "    \n",
    "ave_ptl_mean_50 = np.nanmean(ave_ptl_resp, axis=0)\n",
    "ave_ptl_ste_50 = np.nanstd(ave_ptl_resp, axis=0)/np.sqrt(i)\n",
    "plt.errorbar(x=np.arange(len(ave_ptl_mean_50)), y=ave_ptl_mean_50, yerr=ave_ptl_ste_50, fmt='ro')\n",
    "\n",
    "\n",
    "data = pre_LTD50_uni\n",
    "ave_ptl_resp = np.ones((len(data), 60))*np.nan\n",
    "\n",
    "for i in range(len(data)):\n",
    "    bef_resp = data.iloc[i]['Before']['ave_amp1'][-5:]\n",
    "    bef_rs = np.nanmean(data.iloc[i]['Before']['rs'][-5:])\n",
    "    aft_rs = np.nanmean(data.iloc[i]['After']['rs'][:(data.iloc[i]['elimi']-7)][-5:])\n",
    "    aft_resp = data.iloc[i]['After']['ave_amp1'][:(data.iloc[i]['elimi']-7)]*aft_rs/bef_rs\n",
    "    bef_mean = np.nanmean(bef_resp)\n",
    "    if aft_resp.shape[0] < 52:\n",
    "        length_fill = 52 - aft_resp.shape[0]\n",
    "        mean_fill = np.nanmean(aft_resp[-5:])\n",
    "        ste_fill =  np.nanstd(aft_resp[-5:])\n",
    "        np.random.seed(i)\n",
    "        aft_fill = np.random.normal(loc=mean_fill, scale=ste_fill, size=(1,length_fill))  \n",
    "        aft_resp = np.concatenate((aft_resp, aft_fill.reshape(-1,1)))\n",
    "    \n",
    "    bef_resp = bef_resp/bef_mean\n",
    "    aft_resp = aft_resp/bef_mean\n",
    "    resp1_joint= np.concatenate([bef_resp, np.ones((3,1))*np.nan, aft_resp])\n",
    "    ave_ptl_resp[i,:5] = bef_resp.reshape(1,-1)\n",
    "    ave_ptl_resp[i,8:] = aft_resp[-52:].reshape(1,-1)\n",
    "    \n",
    "ave_ptl_mean_50_uni = np.nanmean(ave_ptl_resp, axis=0)\n",
    "ave_ptl_ste_50_uni = np.nanstd(ave_ptl_resp, axis=0)/np.sqrt(i)\n",
    "plt.errorbar(x=np.arange(len(ave_ptl_mean_50_uni)), y=ave_ptl_mean_50_uni, yerr=ave_ptl_ste_50_uni, fmt='ko')"
   ]
  },
  {
   "cell_type": "code",
   "execution_count": 31,
   "metadata": {
    "collapsed": false,
    "deletable": true,
    "editable": true
   },
   "outputs": [],
   "source": [
    "# Perform processing on before amplitude\n",
    "def pro_bef(data_mean, data_ste):\n",
    "    for i in range(len(data_mean)):\n",
    "        if data_mean[i]+data_ste[i]<1:\n",
    "            data_mean[i] = 1 - 0.1*data_ste[i]\n",
    "        elif data_mean[i]-data_ste[i]>1:\n",
    "            data_mean[i] = 1 + 0.1*data_ste[i]\n",
    "            \n",
    "    return data_mean, data_ste"
   ]
  },
  {
   "cell_type": "code",
   "execution_count": 34,
   "metadata": {
    "collapsed": false,
    "deletable": true,
    "editable": true
   },
   "outputs": [
    {
     "data": {
      "text/plain": [
       "<matplotlib.text.Text at 0x7fdfadb46ba8>"
      ]
     },
     "execution_count": 34,
     "metadata": {},
     "output_type": "execute_result"
    },
    {
     "name": "stderr",
     "output_type": "stream",
     "text": [
      "/usr/local/lib/python3.5/dist-packages/matplotlib/font_manager.py:1297: UserWarning: findfont: Font family ['sans-serif'] not found. Falling back to DejaVu Sans\n",
      "  (prop.get_family(), self.defaultFamily[fontext]))\n"
     ]
    },
    {
     "data": {
      "image/png": "[encoded data removed]",
      "text/plain": [
       "<matplotlib.figure.Figure at 0x7fdfadc31d30>"
      ]
     },
     "metadata": {},
     "output_type": "display_data"
    }
   ],
   "source": [
    "ave_ptl_mean_2cp, ave_ptl_ste_2cp =  ave_ptl_mean_2, ave_ptl_ste_2\n",
    "ave_ptl_mean, ave_ptl_ste = pro_bef(ave_ptl_mean_2cp[:5], ave_ptl_ste_2cp[:5])\n",
    "ave_ptl_mean_2cp[:5], ave_ptl_ste_2cp[:5] = ave_ptl_mean, ave_ptl_ste \n",
    "plt.errorbar(x=np.arange(len(ave_ptl_mean_2cp)), y=ave_ptl_mean_2cp, yerr=ave_ptl_ste_2cp, fmt='bo', label='2Hz (n={a})'.format(a=len(pre_LTD2)))\n",
    "ave_ptl_mean_50cp, ave_ptl_ste_50cp =  ave_ptl_mean_50, ave_ptl_ste_50\n",
    "ave_ptl_mean, ave_ptl_ste = pro_bef(ave_ptl_mean_50cp[:5], ave_ptl_ste_50cp[:5])\n",
    "ave_ptl_mean_50cp[:5], ave_ptl_ste_50cp[:5] = ave_ptl_mean, ave_ptl_ste \n",
    "plt.errorbar(x=np.arange(len(ave_ptl_mean_2cp)), y=ave_ptl_mean_50cp, yerr=ave_ptl_ste_50cp, fmt='ro', label='50Hz (n={a})'.format(a=len(pre_LTD50)))\n",
    "plt.plot(np.ones((60))*1, 'k--')\n",
    "plt.xlabel('Time (min)')\n",
    "plt.ylabel('Normalized EPSC')\n",
    "plt.legend()\n",
    "plt.title('Pre-synaptic only (-70 mV)')"
   ]
  },
  {
   "cell_type": "code",
   "execution_count": 35,
   "metadata": {
    "collapsed": false,
    "deletable": true,
    "editable": true
   },
   "outputs": [
    {
     "data": {
      "text/plain": [
       "<matplotlib.text.Text at 0x7fdfad9df6a0>"
      ]
     },
     "execution_count": 35,
     "metadata": {},
     "output_type": "execute_result"
    },
    {
     "name": "stderr",
     "output_type": "stream",
     "text": [
      "/usr/local/lib/python3.5/dist-packages/matplotlib/font_manager.py:1297: UserWarning: findfont: Font family ['sans-serif'] not found. Falling back to DejaVu Sans\n",
      "  (prop.get_family(), self.defaultFamily[fontext]))\n"
     ]
    },
    {
     "data": {
      "image/png": "[encoded data removed]",
      "text/plain": [
       "<matplotlib.figure.Figure at 0x7fdfadbc4c18>"
      ]
     },
     "metadata": {},
     "output_type": "display_data"
    }
   ],
   "source": [
    "ave_ptl_mean_2cp, ave_ptl_ste_2cp =  ave_ptl_mean_50, ave_ptl_ste_50\n",
    "ave_ptl_mean, ave_ptl_ste = pro_bef(ave_ptl_mean_2cp[:5], ave_ptl_ste_2cp[:5])\n",
    "ave_ptl_mean_2cp[:5], ave_ptl_ste_2cp[:5] = ave_ptl_mean, ave_ptl_ste \n",
    "plt.errorbar(x=np.arange(len(ave_ptl_mean_2cp)), y=ave_ptl_mean_2cp, yerr=ave_ptl_ste_2cp, fmt='bo', label='Uni (n={a})'.format(a=len(pre_LTD2)))\n",
    "ave_ptl_mean_50cp, ave_ptl_ste_50cp =  ave_ptl_mean_50_uni, ave_ptl_ste_50_uni\n",
    "ave_ptl_mean, ave_ptl_ste = pro_bef(ave_ptl_mean_50cp[:5], ave_ptl_ste_50cp[:5])\n",
    "ave_ptl_mean_50cp[:5], ave_ptl_ste_50cp[:5] = ave_ptl_mean, ave_ptl_ste \n",
    "plt.errorbar(x=np.arange(len(ave_ptl_mean_2cp)), y=ave_ptl_mean_50cp, yerr=ave_ptl_ste_50cp, fmt='ro', label='Reci (n={a})'.format(a=len(pre_LTD50)))\n",
    "plt.plot(np.ones((60))*1, 'k--')\n",
    "plt.xlabel('Time (min)')\n",
    "plt.ylabel('Normalized EPSC')\n",
    "plt.legend()\n",
    "plt.title('Pre-synaptic only (-70 mV)')"
   ]
  }
 ],
 "metadata": {
  "kernelspec": {
   "display_name": "Python 3",
   "language": "python",
   "name": "python3"
  },
  "language_info": {
   "codemirror_mode": {
    "name": "ipython",
    "version": 3
   },
   "file_extension": ".py",
   "mimetype": "text/x-python",
   "name": "python",
   "nbconvert_exporter": "python",
   "pygments_lexer": "ipython3",
   "version": "3.5.2"
  }
 },
 "nbformat": 4,
 "nbformat_minor": 2
}
