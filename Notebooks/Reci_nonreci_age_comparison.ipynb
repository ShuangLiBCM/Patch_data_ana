{
 "cells": [
  {
   "cell_type": "code",
   "execution_count": 20,
   "metadata": {
    "collapsed": false,
    "deletable": true,
    "editable": true
   },
   "outputs": [
    {
     "name": "stdout",
     "output_type": "stream",
     "text": [
      "The autoreload extension is already loaded. To reload it, use:\n",
      "  %reload_ext autoreload\n"
     ]
    }
   ],
   "source": [
    "import numpy as np\n",
    "import pandas as pd\n",
    "import scipy.io as sio\n",
    "import matplotlib.pyplot as plt\n",
    "from scipy.optimize import curve_fit\n",
    "import pdb\n",
    "from Patch_ana import patch_pip\n",
    "import seaborn as sns\n",
    "from scipy import stats\n",
    "plt.style.use('classic')\n",
    "from matplotlib.backends.backend_pdf import PdfPages\n",
    "\n",
    "% matplotlib inline\n",
    "%load_ext autoreload\n",
    "% autoreload\n",
    "\n",
    "import warnings\n",
    "warnings.filterwarnings(\"ignore\")"
   ]
  },
  {
   "cell_type": "code",
   "execution_count": 21,
   "metadata": {
    "collapsed": false,
    "deletable": true,
    "editable": true
   },
   "outputs": [],
   "source": [
    "data = pd.read_csv('/data/good data storage.csv')"
   ]
  },
  {
   "cell_type": "code",
   "execution_count": 22,
   "metadata": {
    "collapsed": false,
    "deletable": true,
    "editable": true
   },
   "outputs": [],
   "source": [
    "drop_index = [61, 155, 190]\n",
    "for i in drop_index:\n",
    "    data.drop(i, inplace=True)"
   ]
  },
  {
   "cell_type": "code",
   "execution_count": 23,
   "metadata": {
    "collapsed": false,
    "deletable": true,
    "editable": true
   },
   "outputs": [
    {
     "data": {
      "text/plain": [
       "Index(['File name', 'Age', 'Pip number', 'E-I', 'Reci', 'Artifact', 'IS100',\n",
       "       'Trial number before', 'Trial number after', 'Protocol', 'Elimi',\n",
       "       'Notes', 'Ptl_note'],\n",
       "      dtype='object')"
      ]
     },
     "execution_count": 23,
     "metadata": {},
     "output_type": "execute_result"
    }
   ],
   "source": [
    "data.columns"
   ]
  },
  {
   "cell_type": "code",
   "execution_count": 6,
   "metadata": {
    "collapsed": false,
    "deletable": true,
    "editable": true,
    "scrolled": true
   },
   "outputs": [],
   "source": [
    "# age_thres = 23\n",
    "# data_young_uni = data[(data.Age < age_thres)&(data.Reci == 0)&(data['E-I']==1)]\n",
    "# data_young_reci = data[(data.Age < age_thres)&(data.Reci == 1)&(data['E-I']==1)]\n",
    "# data_old_uni = data[(data.Age >= age_thres)&(data.Reci == 0)&(data.IS100==1)&(data['E-I']==1)]\n",
    "# data_old_reci = data[(data.Age >= age_thres)&(data.Reci == 1)&(data.IS100==1)&(data['E-I']==1)]\n",
    "# print(\"data_young_uni:{},data_young_reci:{}\"\n",
    "#       .format(len(data_young_uni),len(data_young_reci)))\n",
    "# print(\"data_old_uni:{},data_old_reci:{}\"\n",
    "#       .format(len(data_old_uni),len(data_old_reci)))"
   ]
  },
  {
   "cell_type": "code",
   "execution_count": 5,
   "metadata": {
    "collapsed": false,
    "deletable": true,
    "editable": true
   },
   "outputs": [
    {
     "name": "stdout",
     "output_type": "stream",
     "text": [
      "data_uni:25,data_reci:121, data_ie:16\n"
     ]
    }
   ],
   "source": [
    "data_ie = data[(data['E-I'] == 0)&(data['IS100'] == 1)]\n",
    "data_uni = data[(data.Reci == 0)&(data['E-I']==1)]\n",
    "data_reci = data[(data.Reci == 1)&(data['E-I']==1)]\n",
    "print(\"data_uni:{},data_reci:{}, data_ie:{}\"\n",
    "      .format(len(data_uni),len(data_reci), len(data_ie)))"
   ]
  },
  {
   "cell_type": "code",
   "execution_count": 6,
   "metadata": {
    "collapsed": false,
    "deletable": true,
    "editable": true
   },
   "outputs": [
    {
     "data": {
      "text/html": [
       "<div>\n",
       "<table border=\"1\" class=\"dataframe\">\n",
       "  <thead>\n",
       "    <tr style=\"text-align: right;\">\n",
       "      <th></th>\n",
       "      <th>File name</th>\n",
       "      <th>Age</th>\n",
       "      <th>Pip number</th>\n",
       "      <th>E-I</th>\n",
       "      <th>Reci</th>\n",
       "      <th>Artifact</th>\n",
       "      <th>IS100</th>\n",
       "      <th>Trial number before</th>\n",
       "      <th>Trial number after</th>\n",
       "      <th>Protocol</th>\n",
       "      <th>Elimi</th>\n",
       "      <th>Notes</th>\n",
       "      <th>Ptl_note</th>\n",
       "    </tr>\n",
       "  </thead>\n",
       "  <tbody>\n",
       "    <tr>\n",
       "      <th>12</th>\n",
       "      <td>2016092903</td>\n",
       "      <td>29</td>\n",
       "      <td>2</td>\n",
       "      <td>1</td>\n",
       "      <td>1</td>\n",
       "      <td>0</td>\n",
       "      <td>1</td>\n",
       "      <td>4,5</td>\n",
       "      <td>7,8</td>\n",
       "      <td>2</td>\n",
       "      <td>0</td>\n",
       "      <td>NaN</td>\n",
       "      <td>50Hz EI preonly</td>\n",
       "    </tr>\n",
       "    <tr>\n",
       "      <th>14</th>\n",
       "      <td>2016091201</td>\n",
       "      <td>28</td>\n",
       "      <td>2</td>\n",
       "      <td>1</td>\n",
       "      <td>1</td>\n",
       "      <td>0</td>\n",
       "      <td>1</td>\n",
       "      <td>16,17,18</td>\n",
       "      <td>21,22,23,24,25</td>\n",
       "      <td>2</td>\n",
       "      <td>13</td>\n",
       "      <td>NaN</td>\n",
       "      <td>50Hz EI preonly</td>\n",
       "    </tr>\n",
       "    <tr>\n",
       "      <th>15</th>\n",
       "      <td>2016100201</td>\n",
       "      <td>26</td>\n",
       "      <td>1</td>\n",
       "      <td>1</td>\n",
       "      <td>1</td>\n",
       "      <td>0</td>\n",
       "      <td>2</td>\n",
       "      <td>3,4</td>\n",
       "      <td>6,7,8</td>\n",
       "      <td>2</td>\n",
       "      <td>0</td>\n",
       "      <td>NaN</td>\n",
       "      <td>50Hz EI preonly</td>\n",
       "    </tr>\n",
       "    <tr>\n",
       "      <th>16</th>\n",
       "      <td>2016100303</td>\n",
       "      <td>27</td>\n",
       "      <td>1</td>\n",
       "      <td>1</td>\n",
       "      <td>1</td>\n",
       "      <td>0</td>\n",
       "      <td>2</td>\n",
       "      <td>4,5</td>\n",
       "      <td>8,9,10,11,12</td>\n",
       "      <td>2</td>\n",
       "      <td>7</td>\n",
       "      <td>Increased PPR</td>\n",
       "      <td>50Hz EI preonly</td>\n",
       "    </tr>\n",
       "    <tr>\n",
       "      <th>17</th>\n",
       "      <td>2016100304</td>\n",
       "      <td>27</td>\n",
       "      <td>2</td>\n",
       "      <td>1</td>\n",
       "      <td>1</td>\n",
       "      <td>0</td>\n",
       "      <td>2</td>\n",
       "      <td>11</td>\n",
       "      <td>13,14,15,16</td>\n",
       "      <td>2</td>\n",
       "      <td>4</td>\n",
       "      <td>Reduced onset tau, incrased decay tau</td>\n",
       "      <td>50Hz EI preonly</td>\n",
       "    </tr>\n",
       "  </tbody>\n",
       "</table>\n",
       "</div>"
      ],
      "text/plain": [
       "     File name  Age  Pip number  E-I  Reci  Artifact  IS100  \\\n",
       "12  2016092903   29           2    1     1         0      1   \n",
       "14  2016091201   28           2    1     1         0      1   \n",
       "15  2016100201   26           1    1     1         0      2   \n",
       "16  2016100303   27           1    1     1         0      2   \n",
       "17  2016100304   27           2    1     1         0      2   \n",
       "\n",
       "   Trial number before Trial number after  Protocol  Elimi  \\\n",
       "12                 4,5                7,8         2      0   \n",
       "14            16,17,18     21,22,23,24,25         2     13   \n",
       "15                 3,4              6,7,8         2      0   \n",
       "16                 4,5       8,9,10,11,12         2      7   \n",
       "17                  11        13,14,15,16         2      4   \n",
       "\n",
       "                                    Notes         Ptl_note  \n",
       "12                                    NaN  50Hz EI preonly  \n",
       "14                                    NaN  50Hz EI preonly  \n",
       "15                                    NaN  50Hz EI preonly  \n",
       "16                          Increased PPR  50Hz EI preonly  \n",
       "17  Reduced onset tau, incrased decay tau  50Hz EI preonly  "
      ]
     },
     "execution_count": 6,
     "metadata": {},
     "output_type": "execute_result"
    }
   ],
   "source": [
    "data[(data.Reci == 1)&(data['E-I']==1)].iloc[0:5]"
   ]
  },
  {
   "cell_type": "code",
   "execution_count": 13,
   "metadata": {
    "collapsed": false,
    "deletable": true,
    "editable": true
   },
   "outputs": [],
   "source": [
    "data_reci = data[(data.Reci == 1)&(data['E-I']==1)]\n",
    "i=6\n",
    "data_reci_tmp = data[(data.Reci == 1)&(data['E-I']==1)].iloc[(i-1)*20:i*20]\n",
    "patch_pip.df_ana(data_reci_tmp, '/data/processed_EI_reci_all_5')"
   ]
  },
  {
   "cell_type": "code",
   "execution_count": 8,
   "metadata": {
    "collapsed": false,
    "deletable": true,
    "editable": true
   },
   "outputs": [],
   "source": [
    "# patch_pip.df_ana(data_reci, '/data/processed_reci')"
   ]
  },
  {
   "cell_type": "code",
   "execution_count": 9,
   "metadata": {
    "collapsed": false,
    "deletable": true,
    "editable": true
   },
   "outputs": [],
   "source": [
    "# patch_pip.df_ana(data_uni, '/data/processed_uni')"
   ]
  },
  {
   "cell_type": "code",
   "execution_count": 10,
   "metadata": {
    "collapsed": false,
    "deletable": true,
    "editable": true
   },
   "outputs": [],
   "source": [
    "# patch_pip.df_ana(data_ie, '/data/processed_ie')"
   ]
  },
  {
   "cell_type": "code",
   "execution_count": 24,
   "metadata": {
    "collapsed": false,
    "deletable": true,
    "editable": true
   },
   "outputs": [],
   "source": [
    "# patch_pip.df_ana(data_young_reci, '/data/prcessed_young_reci')\n",
    "# processed_old_reci = patch_pip.df_ana(data_old_reci, '/data/prcessed_old_reci')\n",
    "# processed_young_reci = pd.read_pickle('/data/processed_young_rbeci')\n",
    "processed_uni = pd.read_pickle('/data/processed_uni')\n",
    "#processed_reci = pd.read_pickle('/data/processed_reci')"
   ]
  },
  {
   "cell_type": "code",
   "execution_count": null,
   "metadata": {
    "collapsed": false,
    "deletable": true,
    "editable": true
   },
   "outputs": [],
   "source": [
    "plt.hist(data_uni.Age)"
   ]
  },
  {
   "cell_type": "code",
   "execution_count": null,
   "metadata": {
    "collapsed": false,
    "deletable": true,
    "editable": true
   },
   "outputs": [],
   "source": [
    "processed_reci.iloc[0].Before.keys()"
   ]
  },
  {
   "cell_type": "code",
   "execution_count": null,
   "metadata": {
    "collapsed": false,
    "deletable": true,
    "editable": true
   },
   "outputs": [],
   "source": [
    "data_reci.iloc[processed_reci.index].head()"
   ]
  },
  {
   "cell_type": "code",
   "execution_count": 25,
   "metadata": {
    "collapsed": false,
    "deletable": true,
    "editable": true
   },
   "outputs": [
    {
     "name": "stdout",
     "output_type": "stream",
     "text": [
      "123\n"
     ]
    }
   ],
   "source": [
    "# Evaluate the difference of each parameter along age\n",
    "# Compare PPR bewteen reci and uni\n",
    "age_reci = []\n",
    "ppr_reci = []\n",
    "rs_reci = []\n",
    "fail_reci = []\n",
    "rin_reci = []\n",
    "onsettau_reci = []\n",
    "decaytau_reci = []\n",
    "\n",
    "for j in range(5):\n",
    "    processed_reci = pd.read_pickle('/data/processed_EI_reci_all_{index}'.format(index=j))\n",
    "    #processed_reci_ppr = processed_reci.copy()\n",
    "    #processed_reci_ppr.drop(159, axis=0, inplace=True)\n",
    "    for i, df, age in zip(processed_reci.Before.index, processed_reci.Before, data_reci.loc[processed_reci.index]['Age']):\n",
    "        if data_reci.loc[i]['IS100'] > 0:\n",
    "            ppr_reci.append(np.nanmean(df['PPR']))       \n",
    "            rs_reci.append(np.nanmean(df['rs']))            \n",
    "            rin_reci.append(np.nanmean(df['ir']))     \n",
    "            fail_reci.append(np.nanmean(df['failure']))\n",
    "            onsettau_reci.append(np.nanmean(df['onset_tau'])) \n",
    "            decaytau_reci.append(np.nanmean(df['decay_tau']))\n",
    "            age_reci.append(np.nanmean(age))\n",
    "            \n",
    "for i, df, age in zip(processed_uni.Before.index, processed_uni.Before, data_uni.loc[processed_uni.index]['Age']):\n",
    "        if data_uni.loc[i]['IS100'] > 0:\n",
    "            ppr_reci.append(np.nanmean(df['PPR']))       \n",
    "            rs_reci.append(np.nanmean(df['rs']))            \n",
    "            rin_reci.append(np.nanmean(df['ir']))     \n",
    "            fail_reci.append(np.nanmean(df['failure']))\n",
    "            onsettau_reci.append(np.nanmean(df['onset_tau'])) \n",
    "            decaytau_reci.append(np.nanmean(df['decay_tau']))\n",
    "            age_reci.append(np.nanmean(age))\n",
    "\n",
    "print(len(age_reci))"
   ]
  },
  {
   "cell_type": "code",
   "execution_count": 26,
   "metadata": {
    "collapsed": false,
    "deletable": true,
    "editable": true
   },
   "outputs": [
    {
     "data": {
      "image/png": "[encoded data removed]",
      "text/plain": [
       "<matplotlib.figure.Figure at 0x7f0d93b09c18>"
      ]
     },
     "metadata": {},
     "output_type": "display_data"
    }
   ],
   "source": [
    "age_reci = np.array(age_reci).reshape(-1,1)\n",
    "ppr_reci = np.array(ppr_reci).reshape(-1,1)\n",
    "age_ppr_ei = pd.DataFrame(data=np.concatenate([age_reci, ppr_reci], axis=1), columns=['age', 'PPR'])\n",
    "age_ppr = age_ppr_ei.groupby(['age'])['PPR'].apply(list)\n",
    "age_arr = []\n",
    "ppr_arr = []\n",
    "for age, ppr in zip(list(age_ppr.index), age_ppr.values):\n",
    "    ppr = np.array(ppr)\n",
    "    ppr[np.where(ppr>2.5)[0]]=np.nan\n",
    "    ppr = ppr[np.logical_not(np.isnan(ppr))]\n",
    "    if age >= 25:\n",
    "        plt.plot(np.ones(len(ppr))*age, ppr, 'ko', alpha=0.5)\n",
    "        age_arr.append(np.ones(len(ppr))*age)\n",
    "        ppr_arr.append(ppr)\n",
    "age_arr = np.hstack(age_arr)\n",
    "ppr_arr = np.hstack(ppr_arr)\n",
    "slope, intercept, r, p, _ = stats.linregress(age_arr, ppr_arr)\n",
    "x = np.arange(min(age_arr), max(age_arr)+1, 1)\n",
    "y = x * slope + intercept\n",
    "plt.plot(x, y, 'k--')\n",
    "plt.title('slope={slope:.2}, r={r:.2}, p={p:.2}'.format(slope=slope, r=r, p=p))\n",
    "with PdfPages('/data/E_I_age_PPR.pdf') as pdf:\n",
    "    pdf.savefig()"
   ]
  },
  {
   "cell_type": "code",
   "execution_count": 27,
   "metadata": {
    "collapsed": false,
    "deletable": true,
    "editable": true
   },
   "outputs": [
    {
     "data": {
      "image/png": "[encoded data removed]",
      "text/plain": [
       "<matplotlib.figure.Figure at 0x7f0d93b09da0>"
      ]
     },
     "metadata": {},
     "output_type": "display_data"
    }
   ],
   "source": [
    "onsettau_reci_arr = np.array(onsettau_reci).reshape(-1,1)\n",
    "age_ppr_ei = pd.DataFrame(data=np.concatenate([age_reci, onsettau_reci_arr], axis=1), columns=['age', 'onset_tau'])\n",
    "age_ppr = age_ppr_ei.groupby(['age'])['onset_tau'].apply(list)\n",
    "age_arr = []\n",
    "ppr_arr = []\n",
    "for age, ppr in zip(list(age_ppr.index), age_ppr.values):\n",
    "    ppr = np.array(ppr)\n",
    "    ppr[np.where(ppr>0.0012)[0]] = np.nan\n",
    "    ppr = ppr[np.logical_not(np.isnan(ppr))]\n",
    "    if age >= 25:\n",
    "        plt.plot(np.ones(len(ppr))*age, ppr, 'ko', alpha=0.5)\n",
    "        age_arr.append(np.ones(len(ppr))*age)\n",
    "        ppr_arr.append(ppr)\n",
    "age_arr = np.hstack(age_arr)\n",
    "ppr_arr = np.hstack(ppr_arr)\n",
    "slope, intercept, r, p, _ = stats.linregress(age_arr, ppr_arr)\n",
    "x = np.arange(min(age_arr), max(age_arr)+1, 1)\n",
    "y = x * slope + intercept\n",
    "plt.plot(x, y, 'k--')\n",
    "plt.title('slope={slope:.2}, r={r:.2}, p={p:.2}'.format(slope=slope, r=r, p=p))\n",
    "with PdfPages('/data/E_I_age_onset_tau.pdf') as pdf:\n",
    "    pdf.savefig()"
   ]
  },
  {
   "cell_type": "code",
   "execution_count": 31,
   "metadata": {
    "collapsed": false,
    "deletable": true,
    "editable": true
   },
   "outputs": [
    {
     "data": {
      "image/png": "[encoded data removed]",
      "text/plain": [
       "<matplotlib.figure.Figure at 0x7f0d93895b70>"
      ]
     },
     "metadata": {},
     "output_type": "display_data"
    }
   ],
   "source": [
    "decaytau_reci_arr = np.array(decaytau_reci).reshape(-1,1)\n",
    "age_ppr_ei = pd.DataFrame(data=np.concatenate([age_reci, decaytau_reci_arr], axis=1), columns=['age', 'decay_tau'])\n",
    "age_ppr = age_ppr_ei.groupby(['age'])['decay_tau'].apply(list)\n",
    "age_arr = []\n",
    "ppr_arr = []\n",
    "for age, ppr in zip(list(age_ppr.index), age_ppr.values):\n",
    "    ppr = np.array(ppr)\n",
    "    ppr[np.where(ppr>0.004)[0]] = np.nan\n",
    "    ppr = ppr[np.logical_not(np.isnan(ppr))]\n",
    "    if age >= 25:\n",
    "        plt.plot(np.ones(len(ppr))*age, ppr, 'ko', alpha=0.5)\n",
    "        age_arr.append(np.ones(len(ppr))*age)\n",
    "        ppr_arr.append(ppr)\n",
    "age_arr = np.hstack(age_arr)\n",
    "ppr_arr = np.hstack(ppr_arr)\n",
    "slope, intercept, r, p, _ = stats.linregress(age_arr, ppr_arr)\n",
    "x = np.arange(min(age_arr), max(age_arr)+1, 1)\n",
    "y = x * slope + intercept\n",
    "plt.plot(x, y, 'k--')\n",
    "plt.title('slope={slope:.2}, r={r:.2}, p={p:.2}'.format(slope=slope, r=r, p=p))\n",
    "with PdfPages('/data/E_I_age_decay_tau.pdf') as pdf:\n",
    "    pdf.savefig()"
   ]
  },
  {
   "cell_type": "code",
   "execution_count": 32,
   "metadata": {
    "collapsed": false,
    "deletable": true,
    "editable": true
   },
   "outputs": [
    {
     "data": {
      "text/plain": [
       "<matplotlib.text.Text at 0x7f0d939607f0>"
      ]
     },
     "execution_count": 32,
     "metadata": {},
     "output_type": "execute_result"
    },
    {
     "data": {
      "image/png": "[encoded data removed]",
      "text/plain": [
       "<matplotlib.figure.Figure at 0x7f0d93c4e390>"
      ]
     },
     "metadata": {},
     "output_type": "display_data"
    }
   ],
   "source": [
    "rin_reci2 = np.array(rin_reci) - (np.array(rs_reci) - 15)/20 * 50\n",
    "rin_reci_arr = np.array(rin_reci2).reshape(-1,1)\n",
    "age_ppr_ei = pd.DataFrame(data=np.concatenate([age_reci, rin_reci_arr], axis=1), columns=['age', 'rin_reci'])\n",
    "age_ppr = age_ppr_ei.groupby(['age'])['rin_reci'].apply(list)\n",
    "age_arr = []\n",
    "ppr_arr = []\n",
    "for age, ppr in zip(list(age_ppr.index), age_ppr.values):\n",
    "    ppr = np.array(ppr)\n",
    "    ppr[np.where(ppr>150)[0]]=np.nan\n",
    "    ppr[np.where(ppr<0)[0]]=np.nan\n",
    "    ppr = ppr[np.logical_not(np.isnan(ppr))]\n",
    "    if age >= 25:\n",
    "        plt.plot(np.ones(len(ppr))*age, ppr, 'ko', alpha=0.5)\n",
    "        age_arr.append(np.ones(len(ppr))*age)\n",
    "        ppr_arr.append(ppr)\n",
    "age_arr = np.hstack(age_arr)\n",
    "ppr_arr = np.hstack(ppr_arr)\n",
    "slope, intercept, r, p, _ = stats.linregress(age_arr, ppr_arr)\n",
    "x = np.arange(min(age_arr), max(age_arr)+1, 1)\n",
    "y = x * slope + intercept\n",
    "plt.plot(x, y, 'k--')\n",
    "plt.title('slope={slope:.2}, r={r:.2}, p={p:.2}'.format(slope=slope, r=r, p=p))\n",
    "# with PdfPages('/data/E_I_age_PPR.pdf') as pdf:\n",
    "#     pdf.savefig()"
   ]
  },
  {
   "cell_type": "code",
   "execution_count": 30,
   "metadata": {
    "collapsed": false,
    "deletable": true,
    "editable": true
   },
   "outputs": [
    {
     "data": {
      "image/png": "[encoded data removed]",
      "text/plain": [
       "<matplotlib.figure.Figure at 0x7f0d9387de48>"
      ]
     },
     "metadata": {},
     "output_type": "display_data"
    }
   ],
   "source": [
    "age_reci = np.array(age_reci).reshape(-1,1)\n",
    "fail_reci_arr = np.array(fail_reci).reshape(-1,1)\n",
    "age_ppr_ei = pd.DataFrame(data=np.concatenate([age_reci, fail_reci_arr], axis=1), columns=['age', 'fail_reci'])\n",
    "age_ppr = age_ppr_ei.groupby(['age'])['fail_reci'].apply(list)\n",
    "age_arr = []\n",
    "ppr_arr = []\n",
    "for age, ppr in zip(list(age_ppr.index), age_ppr.values):\n",
    "    ppr = np.array(ppr)\n",
    "    ppr[np.where(ppr>150)[0]]=np.nan\n",
    "    ppr[np.where(ppr<0)[0]]=np.nan\n",
    "    ppr = ppr[np.logical_not(np.isnan(ppr))]\n",
    "    if age >= 25:\n",
    "        plt.plot(np.ones(len(ppr))*age, ppr, 'ko', alpha=0.5)\n",
    "        age_arr.append(np.ones(len(ppr))*age)\n",
    "        ppr_arr.append(ppr)\n",
    "age_arr = np.hstack(age_arr)\n",
    "ppr_arr = np.hstack(ppr_arr)\n",
    "slope, intercept, r, p, _ = stats.linregress(age_arr, ppr_arr)\n",
    "x = np.arange(min(age_arr), max(age_arr)+1, 1)\n",
    "y = x * slope + intercept\n",
    "plt.plot(x, y, 'k--')\n",
    "plt.title('slope={slope:.2}, r={r:.2}, p={p:.2}'.format(slope=slope, r=r, p=p))\n",
    "plt.ylim([-0.05, 0.4])\n",
    "with PdfPages('/data/E_I_age_fail.pdf') as pdf:\n",
    "    pdf.savefig()"
   ]
  },
  {
   "cell_type": "code",
   "execution_count": null,
   "metadata": {
    "collapsed": false,
    "deletable": true,
    "editable": true
   },
   "outputs": [],
   "source": [
    "data_reci.loc[i]"
   ]
  },
  {
   "cell_type": "code",
   "execution_count": null,
   "metadata": {
    "collapsed": true,
    "deletable": true,
    "editable": true
   },
   "outputs": [],
   "source": [
    "data_reci.loc[i]['Ptl_note']=='50Hz EI preonly'"
   ]
  },
  {
   "cell_type": "code",
   "execution_count": 41,
   "metadata": {
    "collapsed": false,
    "deletable": true,
    "editable": true,
    "scrolled": true
   },
   "outputs": [
    {
     "name": "stdout",
     "output_type": "stream",
     "text": [
      "12 20\n"
     ]
    },
    {
     "data": {
      "text/plain": [
       "RanksumsResult(statistic=-2.8025961989814827, pvalue=0.005069309556701599)"
      ]
     },
     "execution_count": 41,
     "metadata": {},
     "output_type": "execute_result"
    },
    {
     "data": {
      "image/png": "[encoded data removed]",
      "text/plain": [
       "<matplotlib.figure.Figure at 0x7f0d93c1dc50>"
      ]
     },
     "metadata": {},
     "output_type": "display_data"
    }
   ],
   "source": [
    "# Compare PPR bewteen reci and uni\n",
    "ppr_uni = []\n",
    "ppr_uni_std = []\n",
    "rs_uni = []\n",
    "for i, df in zip(processed_uni.Before.index, processed_uni.Before):\n",
    "    if (data_uni.loc[i]['IS100'] == 1) and (np.nanmean(df['rs'])<40):\n",
    "        ppr_uni.append(np.nanmean(df['PPR']))\n",
    "        ppr_uni_std.append(np.nanstd(df['PPR']))\n",
    "        rs_uni.append(np.nanmean(df['rs']))\n",
    "\n",
    "ppr_reci = []\n",
    "ppr_reci_std = []\n",
    "rs_reci = []\n",
    "for j in [3]:\n",
    "    processed_reci = pd.read_pickle('/data/processed_EI_reci_all_{index}'.format(index=j))\n",
    "    #processed_reci_ppr = processed_reci.copy()\n",
    "    #processed_reci_ppr.drop(159, axis=0, inplace=True)\n",
    "\n",
    "    for i, df in zip(processed_reci.Before.index, processed_reci.Before):\n",
    "        if (data_reci.loc[i]['IS100'] >= 1) and (np.nanmean(df['rs'])<40):\n",
    "            ppr_reci.append(np.nanmean(df['PPR']))\n",
    "            ppr_reci_std.append(np.nanstd(df['PPR']))\n",
    "            rs_reci.append(np.nanmean(df['rs']))\n",
    "            \n",
    "ppr_reci_arr = np.array(ppr_reci)\n",
    "ppr_reci_std_arr = np.array(ppr_reci_std)\n",
    "nan_index = np.where(ppr_reci_arr>2.5)[0]\n",
    "ppr_reci_arr[nan_index]=np.nan\n",
    "ppr_reci_std_arr[nan_index]=np.nan\n",
    "\n",
    "print(len(rs_uni), len(rs_reci))\n",
    "plt.errorbar(rs_uni, ppr_uni, ppr_uni_std, fmt='o')\n",
    "plt.errorbar(rs_reci, ppr_reci_arr, ppr_reci_std_arr, fmt='o')\n",
    "stats.ranksums(ppr_uni, ppr_reci_arr)"
   ]
  },
  {
   "cell_type": "code",
   "execution_count": 35,
   "metadata": {
    "collapsed": false,
    "deletable": true,
    "editable": true
   },
   "outputs": [
    {
     "data": {
      "image/png": "[encoded data removed]",
      "text/plain": [
       "<matplotlib.figure.Figure at 0x7f0d939b32b0>"
      ]
     },
     "metadata": {},
     "output_type": "display_data"
    }
   ],
   "source": [
    "ppr_uni_mean = np.nanmean(ppr_uni)\n",
    "ppr_uni_ste = np.nanstd(ppr_uni)/np.sqrt(len(ppr_uni))\n",
    "ppr_reci_mean = np.mean(ppr_reci_arr)\n",
    "ppr_reci_ste = np.nanstd(ppr_reci_arr)/np.sqrt(len(ppr_reci_arr))\n",
    "plt.bar([1,2], [ppr_uni_mean, ppr_reci_mean], align='center', width=0.4)\n",
    "plt.errorbar([1,2], [ppr_uni_mean, ppr_reci_mean], [ppr_uni_ste, ppr_reci_ste])\n",
    "plt.xlim([0,3])\n",
    "plt.ylim([0,2])\n",
    "\n",
    "with PdfPages('/data/PPR_reci_uni.pdf') as pdf:\n",
    "    pdf.savefig()"
   ]
  },
  {
   "cell_type": "code",
   "execution_count": 44,
   "metadata": {
    "collapsed": false,
    "deletable": true,
    "editable": true
   },
   "outputs": [
    {
     "name": "stdout",
     "output_type": "stream",
     "text": [
      "12 20\n"
     ]
    },
    {
     "data": {
      "text/plain": [
       "RanksumsResult(statistic=-1.0315111010140179, pvalue=0.30230120517690851)"
      ]
     },
     "execution_count": 44,
     "metadata": {},
     "output_type": "execute_result"
    },
    {
     "data": {
      "image/png": "[encoded data removed]",
      "text/plain": [
       "<matplotlib.figure.Figure at 0x7f0d93c8eb00>"
      ]
     },
     "metadata": {},
     "output_type": "display_data"
    }
   ],
   "source": [
    "# Compare failure rate bewteen reci and uni\n",
    "ppr_uni = []\n",
    "ppr_uni_std = []\n",
    "rs_uni = []\n",
    "for i, df in zip(processed_uni.Before.index, processed_uni.Before):\n",
    "    if (data_uni.loc[i]['IS100'] == 1) and (np.nanmean(df['rs'])<40):\n",
    "        ppr_uni.append(np.nanmean(df['failure']))\n",
    "        ppr_uni_std.append(np.nanstd(df['failure']))\n",
    "        rs_uni.append(np.nanmean(df['rs']))\n",
    "\n",
    "ppr_reci = []\n",
    "ppr_reci_std = []\n",
    "rs_reci = []\n",
    "for j in [3]:\n",
    "    processed_reci = pd.read_pickle('/data/processed_EI_reci_all_{index}'.format(index=j))\n",
    "    #processed_reci_ppr = processed_reci.copy()\n",
    "    #processed_reci_ppr.drop(159, axis=0, inplace=True)\n",
    "\n",
    "    for i, df in zip(processed_reci.Before.index, processed_reci.Before):\n",
    "        if (data_reci.loc[i]['IS100'] >= 1) and (np.nanmean(df['rs'])<40):\n",
    "            ppr_reci.append(np.nanmean(df['failure']))\n",
    "            ppr_reci_std.append(np.nanstd(df['failure']))\n",
    "            rs_reci.append(np.nanmean(df['rs']))\n",
    "            \n",
    "ppr_reci_arr = np.array(ppr_reci)\n",
    "ppr_reci_std_arr = np.array(ppr_reci_std)\n",
    "nan_index = np.where(ppr_reci_arr>2.5)[0]\n",
    "ppr_reci_arr[nan_index]=np.nan\n",
    "ppr_reci_std_arr[nan_index]=np.nan\n",
    "\n",
    "print(len(rs_uni), len(rs_reci))\n",
    "plt.errorbar(rs_uni, ppr_uni, ppr_uni_std, fmt='o')\n",
    "plt.errorbar(rs_reci, ppr_reci_arr, ppr_reci_std_arr, fmt='o')\n",
    "stats.ranksums(ppr_uni, ppr_reci_arr)"
   ]
  },
  {
   "cell_type": "code",
   "execution_count": 48,
   "metadata": {
    "collapsed": false,
    "deletable": true,
    "editable": true
   },
   "outputs": [
    {
     "data": {
      "image/png": "[encoded data removed]",
      "text/plain": [
       "<matplotlib.figure.Figure at 0x7f0d93542ba8>"
      ]
     },
     "metadata": {},
     "output_type": "display_data"
    }
   ],
   "source": [
    "ppr_uni_mean = np.nanmean(ppr_uni)\n",
    "ppr_uni_ste = np.nanstd(ppr_uni)/np.sqrt(len(ppr_uni))\n",
    "ppr_reci_mean = np.mean(ppr_reci_arr)\n",
    "ppr_reci_ste = np.nanstd(ppr_reci_arr)/np.sqrt(len(ppr_reci_arr))\n",
    "plt.bar([1,2], [ppr_uni_mean, ppr_reci_mean], align='center', width=0.4)\n",
    "plt.errorbar([1,2], [ppr_uni_mean, ppr_reci_mean], [ppr_uni_ste, ppr_reci_ste])\n",
    "plt.xlim([0,3])\n",
    "#plt.ylim([0,2])\n",
    "\n",
    "with PdfPages('/data/Failure_rate_reci_uni.pdf') as pdf:\n",
    "    pdf.savefig()"
   ]
  },
  {
   "cell_type": "code",
   "execution_count": 50,
   "metadata": {
    "collapsed": false,
    "deletable": true,
    "editable": true
   },
   "outputs": [
    {
     "name": "stdout",
     "output_type": "stream",
     "text": [
      "12 20\n"
     ]
    },
    {
     "data": {
      "text/plain": [
       "RanksumsResult(statistic=1.2845232578665129, pvalue=0.19895893109240215)"
      ]
     },
     "execution_count": 50,
     "metadata": {},
     "output_type": "execute_result"
    },
    {
     "data": {
      "image/png": "[encoded data removed]",
      "text/plain": [
       "<matplotlib.figure.Figure at 0x7f0d9392d630>"
      ]
     },
     "metadata": {},
     "output_type": "display_data"
    }
   ],
   "source": [
    "# Compare PPR bewteen reci and uni\n",
    "ppr_uni = []\n",
    "ppr_uni_std = []\n",
    "rs_uni = []\n",
    "for i, df in zip(processed_uni.Before.index, processed_uni.Before):\n",
    "    if (data_uni.loc[i]['IS100'] == 1) and (np.nanmean(df['rs'])<40):\n",
    "        ppr_uni.append(np.nanmean(df['decay_tau']))\n",
    "        ppr_uni_std.append(np.nanstd(df['decay_tau']))\n",
    "        rs_uni.append(np.nanmean(df['rs']))\n",
    "\n",
    "ppr_uni_arr = np.array(ppr_uni)\n",
    "ppr_uni_std_arr = np.array(ppr_uni_std)\n",
    "nan_index = np.where(ppr_uni_arr>0.004)[0]\n",
    "ppr_uni_arr[nan_index]=np.nan\n",
    "ppr_uni_std_arr[nan_index]=np.nan\n",
    "\n",
    "ppr_reci = []\n",
    "ppr_reci_std = []\n",
    "rs_reci = []\n",
    "for j in [3]:\n",
    "    processed_reci = pd.read_pickle('/data/processed_EI_reci_all_{index}'.format(index=j))\n",
    "    #processed_reci_ppr = processed_reci.copy()\n",
    "    #processed_reci_ppr.drop(159, axis=0, inplace=True)\n",
    "\n",
    "    for i, df in zip(processed_reci.Before.index, processed_reci.Before):\n",
    "        if (data_reci.loc[i]['IS100'] >= 1) and (np.nanmean(df['rs'])<40):\n",
    "            ppr_reci.append(np.nanmean(df['decay_tau']))\n",
    "            ppr_reci_std.append(np.nanstd(df['decay_tau']))\n",
    "            rs_reci.append(np.nanmean(df['rs']))\n",
    "            \n",
    "ppr_reci_arr = np.array(ppr_reci)\n",
    "ppr_reci_std_arr = np.array(ppr_reci_std)\n",
    "nan_index = np.where(ppr_reci_arr>0.004)[0]\n",
    "ppr_reci_arr[nan_index]=np.nan\n",
    "ppr_reci_std_arr[nan_index]=np.nan\n",
    "\n",
    "print(len(rs_uni), len(rs_reci))\n",
    "plt.errorbar(rs_uni, ppr_uni_arr, ppr_uni_std_arr, fmt='o')\n",
    "plt.errorbar(rs_reci, ppr_reci_arr, ppr_reci_std_arr, fmt='o')\n",
    "stats.ranksums(ppr_uni, ppr_reci_arr)"
   ]
  },
  {
   "cell_type": "code",
   "execution_count": 51,
   "metadata": {
    "collapsed": false,
    "deletable": true,
    "editable": true
   },
   "outputs": [
    {
     "data": {
      "image/png": "[encoded data removed]",
      "text/plain": [
       "<matplotlib.figure.Figure at 0x7f0d936ed710>"
      ]
     },
     "metadata": {},
     "output_type": "display_data"
    }
   ],
   "source": [
    "ppr_uni_mean = np.nanmean(ppr_uni_arr)\n",
    "ppr_uni_ste = np.nanstd(ppr_uni_arr)/np.sqrt(len(ppr_uni_arr))\n",
    "ppr_reci_mean = np.mean(ppr_reci)\n",
    "ppr_reci_ste = np.nanstd(ppr_reci_arr)/np.sqrt(len(ppr_reci_arr))\n",
    "plt.bar([1,2], [ppr_uni_mean, ppr_reci_mean], align='center', width=0.4)\n",
    "plt.errorbar([1,2], [ppr_uni_mean, ppr_reci_mean], [ppr_uni_ste, ppr_reci_ste])\n",
    "plt.xlim([0,3])\n",
    "#plt.ylim([0,0.1])\n",
    "\n",
    "\n",
    "with PdfPages('/data/Decay_tau_reci_uni.pdf') as pdf:\n",
    "    pdf.savefig()"
   ]
  },
  {
   "cell_type": "code",
   "execution_count": 55,
   "metadata": {
    "collapsed": false,
    "deletable": true,
    "editable": true
   },
   "outputs": [
    {
     "name": "stdout",
     "output_type": "stream",
     "text": [
      "12 20\n"
     ]
    },
    {
     "data": {
      "text/plain": [
       "RanksumsResult(statistic=1.1677484162422844, pvalue=0.24290826090432394)"
      ]
     },
     "execution_count": 55,
     "metadata": {},
     "output_type": "execute_result"
    },
    {
     "data": {
      "image/png": "[encoded data removed]",
      "text/plain": [
       "<matplotlib.figure.Figure at 0x7f0d9358a438>"
      ]
     },
     "metadata": {},
     "output_type": "display_data"
    }
   ],
   "source": [
    "# Compare PPR bewteen reci and uni\n",
    "ppr_uni = []\n",
    "ppr_uni_std = []\n",
    "rs_uni = []\n",
    "for i, df in zip(processed_uni.Before.index, processed_uni.Before):\n",
    "    if (data_uni.loc[i]['IS100'] == 1) and (np.nanmean(df['rs'])<40):\n",
    "        ppr_uni.append(np.nanmean(df['onset_tau']))\n",
    "        ppr_uni_std.append(np.nanstd(df['onset_tau']))\n",
    "        rs_uni.append(np.nanmean(df['rs']))\n",
    "\n",
    "ppr_uni_arr = np.array(ppr_uni)\n",
    "ppr_uni_std_arr = np.array(ppr_uni_std)\n",
    "nan_index = np.where(ppr_uni_arr>0.001)[0]\n",
    "ppr_uni_arr[nan_index]=np.nan\n",
    "ppr_uni_std_arr[nan_index]=np.nan\n",
    "\n",
    "ppr_reci = []\n",
    "ppr_reci_std = []\n",
    "rs_reci = []\n",
    "for j in [0]:\n",
    "    processed_reci = pd.read_pickle('/data/processed_EI_reci_all_{index}'.format(index=j))\n",
    "    #processed_reci_ppr = processed_reci.copy()\n",
    "    #processed_reci_ppr.drop(159, axis=0, inplace=True)\n",
    "\n",
    "    for i, df in zip(processed_reci.Before.index, processed_reci.Before):\n",
    "        if (data_reci.loc[i]['IS100'] >= 1) and (np.nanmean(df['rs'])<40):\n",
    "            ppr_reci.append(np.nanmean(df['onset_tau']))\n",
    "            ppr_reci_std.append(np.nanstd(df['onset_tau']))\n",
    "            rs_reci.append(np.nanmean(df['rs']))\n",
    "            \n",
    "ppr_reci_arr = np.array(ppr_reci)\n",
    "ppr_reci_std_arr = np.array(ppr_reci_std)\n",
    "nan_index = np.where(ppr_reci_arr>0.001)[0]\n",
    "ppr_reci_arr[nan_index]=np.nan\n",
    "ppr_reci_std_arr[nan_index]=np.nan\n",
    "\n",
    "print(len(rs_uni), len(rs_reci))\n",
    "plt.errorbar(rs_uni, ppr_uni_arr, ppr_uni_std_arr, fmt='o')\n",
    "plt.errorbar(rs_reci, ppr_reci_arr, ppr_reci_std_arr, fmt='o')\n",
    "stats.ranksums(ppr_uni, ppr_reci_arr)"
   ]
  },
  {
   "cell_type": "code",
   "execution_count": 56,
   "metadata": {
    "collapsed": false,
    "deletable": true,
    "editable": true
   },
   "outputs": [
    {
     "data": {
      "image/png": "[encoded data removed]",
      "text/plain": [
       "<matplotlib.figure.Figure at 0x7f0d93c5e860>"
      ]
     },
     "metadata": {},
     "output_type": "display_data"
    }
   ],
   "source": [
    "ppr_uni_mean = np.nanmean(ppr_uni_arr)\n",
    "ppr_uni_ste = np.nanstd(ppr_uni_arr)/np.sqrt(len(ppr_uni_arr))\n",
    "ppr_reci_mean = np.mean(ppr_reci)\n",
    "ppr_reci_ste = np.nanstd(ppr_reci_arr)/np.sqrt(len(ppr_reci_arr))\n",
    "plt.bar([1,2], [ppr_uni_mean, ppr_reci_mean], align='center', width=0.4)\n",
    "plt.errorbar([1,2], [ppr_uni_mean, ppr_reci_mean], [ppr_uni_ste, ppr_reci_ste])\n",
    "plt.xlim([0,3])\n",
    "plt.ylim([0,0.001])\n",
    "\n",
    "\n",
    "with PdfPages('/data/Onset_tau_reci_uni.pdf') as pdf:\n",
    "    pdf.savefig()"
   ]
  },
  {
   "cell_type": "code",
   "execution_count": 59,
   "metadata": {
    "collapsed": false,
    "deletable": true,
    "editable": true
   },
   "outputs": [
    {
     "name": "stdout",
     "output_type": "stream",
     "text": [
      "13 20\n"
     ]
    },
    {
     "ename": "RuntimeError",
     "evalue": "xdata and ydata must be the same length",
     "output_type": "error",
     "traceback": [
      "\u001b[0;31m---------------------------------------------------------------------------\u001b[0m",
      "\u001b[0;31mRuntimeError\u001b[0m                              Traceback (most recent call last)",
      "\u001b[0;32m<ipython-input-59-10fab47476bf>\u001b[0m in \u001b[0;36m<module>\u001b[0;34m()\u001b[0m\n\u001b[1;32m     23\u001b[0m \u001b[0mprint\u001b[0m\u001b[0;34m(\u001b[0m\u001b[0mlen\u001b[0m\u001b[0;34m(\u001b[0m\u001b[0mrs_uni\u001b[0m\u001b[0;34m)\u001b[0m\u001b[0;34m,\u001b[0m \u001b[0mlen\u001b[0m\u001b[0;34m(\u001b[0m\u001b[0mrs_reci\u001b[0m\u001b[0;34m)\u001b[0m\u001b[0;34m)\u001b[0m\u001b[0;34m\u001b[0m\u001b[0m\n\u001b[1;32m     24\u001b[0m \u001b[0mplt\u001b[0m\u001b[0;34m.\u001b[0m\u001b[0merrorbar\u001b[0m\u001b[0;34m(\u001b[0m\u001b[0mrs_uni\u001b[0m\u001b[0;34m,\u001b[0m \u001b[0mppr_uni\u001b[0m\u001b[0;34m,\u001b[0m \u001b[0mppr_uni_std\u001b[0m\u001b[0;34m,\u001b[0m \u001b[0mfmt\u001b[0m\u001b[0;34m=\u001b[0m\u001b[0;34m'o'\u001b[0m\u001b[0;34m)\u001b[0m\u001b[0;34m\u001b[0m\u001b[0m\n\u001b[0;32m---> 25\u001b[0;31m \u001b[0mplt\u001b[0m\u001b[0;34m.\u001b[0m\u001b[0merrorbar\u001b[0m\u001b[0;34m(\u001b[0m\u001b[0mrs_reci\u001b[0m\u001b[0;34m,\u001b[0m \u001b[0mppr_reci\u001b[0m\u001b[0;34m,\u001b[0m \u001b[0mppr_reci_std\u001b[0m\u001b[0;34m,\u001b[0m \u001b[0mfmt\u001b[0m\u001b[0;34m=\u001b[0m\u001b[0;34m'o'\u001b[0m\u001b[0;34m)\u001b[0m\u001b[0;34m\u001b[0m\u001b[0m\n\u001b[0m\u001b[1;32m     26\u001b[0m \u001b[0mstats\u001b[0m\u001b[0;34m.\u001b[0m\u001b[0mranksums\u001b[0m\u001b[0;34m(\u001b[0m\u001b[0mppr_uni\u001b[0m\u001b[0;34m,\u001b[0m \u001b[0mppr_reci\u001b[0m\u001b[0;34m)\u001b[0m\u001b[0;34m\u001b[0m\u001b[0m\n",
      "\u001b[0;32m/usr/local/lib/python3.5/dist-packages/matplotlib/pyplot.py\u001b[0m in \u001b[0;36merrorbar\u001b[0;34m(x, y, yerr, xerr, fmt, ecolor, elinewidth, capsize, barsabove, lolims, uplims, xlolims, xuplims, errorevery, capthick, hold, data, **kwargs)\u001b[0m\n\u001b[1;32m   2928\u001b[0m                           \u001b[0mxlolims\u001b[0m\u001b[0;34m=\u001b[0m\u001b[0mxlolims\u001b[0m\u001b[0;34m,\u001b[0m \u001b[0mxuplims\u001b[0m\u001b[0;34m=\u001b[0m\u001b[0mxuplims\u001b[0m\u001b[0;34m,\u001b[0m\u001b[0;34m\u001b[0m\u001b[0m\n\u001b[1;32m   2929\u001b[0m                           \u001b[0merrorevery\u001b[0m\u001b[0;34m=\u001b[0m\u001b[0merrorevery\u001b[0m\u001b[0;34m,\u001b[0m \u001b[0mcapthick\u001b[0m\u001b[0;34m=\u001b[0m\u001b[0mcapthick\u001b[0m\u001b[0;34m,\u001b[0m \u001b[0mdata\u001b[0m\u001b[0;34m=\u001b[0m\u001b[0mdata\u001b[0m\u001b[0;34m,\u001b[0m\u001b[0;34m\u001b[0m\u001b[0m\n\u001b[0;32m-> 2930\u001b[0;31m                           **kwargs)\n\u001b[0m\u001b[1;32m   2931\u001b[0m     \u001b[0;32mfinally\u001b[0m\u001b[0;34m:\u001b[0m\u001b[0;34m\u001b[0m\u001b[0m\n\u001b[1;32m   2932\u001b[0m         \u001b[0max\u001b[0m\u001b[0;34m.\u001b[0m\u001b[0m_hold\u001b[0m \u001b[0;34m=\u001b[0m \u001b[0mwashold\u001b[0m\u001b[0;34m\u001b[0m\u001b[0m\n",
      "\u001b[0;32m/usr/local/lib/python3.5/dist-packages/matplotlib/__init__.py\u001b[0m in \u001b[0;36minner\u001b[0;34m(ax, *args, **kwargs)\u001b[0m\n\u001b[1;32m   1890\u001b[0m                     warnings.warn(msg % (label_namer, func.__name__),\n\u001b[1;32m   1891\u001b[0m                                   RuntimeWarning, stacklevel=2)\n\u001b[0;32m-> 1892\u001b[0;31m             \u001b[0;32mreturn\u001b[0m \u001b[0mfunc\u001b[0m\u001b[0;34m(\u001b[0m\u001b[0max\u001b[0m\u001b[0;34m,\u001b[0m \u001b[0;34m*\u001b[0m\u001b[0margs\u001b[0m\u001b[0;34m,\u001b[0m \u001b[0;34m**\u001b[0m\u001b[0mkwargs\u001b[0m\u001b[0;34m)\u001b[0m\u001b[0;34m\u001b[0m\u001b[0m\n\u001b[0m\u001b[1;32m   1893\u001b[0m         \u001b[0mpre_doc\u001b[0m \u001b[0;34m=\u001b[0m \u001b[0minner\u001b[0m\u001b[0;34m.\u001b[0m\u001b[0m__doc__\u001b[0m\u001b[0;34m\u001b[0m\u001b[0m\n\u001b[1;32m   1894\u001b[0m         \u001b[0;32mif\u001b[0m \u001b[0mpre_doc\u001b[0m \u001b[0;32mis\u001b[0m \u001b[0;32mNone\u001b[0m\u001b[0;34m:\u001b[0m\u001b[0;34m\u001b[0m\u001b[0m\n",
      "\u001b[0;32m/usr/local/lib/python3.5/dist-packages/matplotlib/axes/_axes.py\u001b[0m in \u001b[0;36merrorbar\u001b[0;34m(self, x, y, yerr, xerr, fmt, ecolor, elinewidth, capsize, barsabove, lolims, uplims, xlolims, xuplims, errorevery, capthick, **kwargs)\u001b[0m\n\u001b[1;32m   2902\u001b[0m         \u001b[0;32mif\u001b[0m \u001b[0mplot_line\u001b[0m\u001b[0;34m:\u001b[0m\u001b[0;34m\u001b[0m\u001b[0m\n\u001b[1;32m   2903\u001b[0m             \u001b[0mdata_line\u001b[0m \u001b[0;34m=\u001b[0m \u001b[0mmlines\u001b[0m\u001b[0;34m.\u001b[0m\u001b[0mLine2D\u001b[0m\u001b[0;34m(\u001b[0m\u001b[0mx\u001b[0m\u001b[0;34m,\u001b[0m \u001b[0my\u001b[0m\u001b[0;34m,\u001b[0m \u001b[0;34m**\u001b[0m\u001b[0mplot_line_style\u001b[0m\u001b[0;34m)\u001b[0m\u001b[0;34m\u001b[0m\u001b[0m\n\u001b[0;32m-> 2904\u001b[0;31m             \u001b[0mself\u001b[0m\u001b[0;34m.\u001b[0m\u001b[0madd_line\u001b[0m\u001b[0;34m(\u001b[0m\u001b[0mdata_line\u001b[0m\u001b[0;34m)\u001b[0m\u001b[0;34m\u001b[0m\u001b[0m\n\u001b[0m\u001b[1;32m   2905\u001b[0m \u001b[0;34m\u001b[0m\u001b[0m\n\u001b[1;32m   2906\u001b[0m         \u001b[0mbarcols\u001b[0m \u001b[0;34m=\u001b[0m \u001b[0;34m[\u001b[0m\u001b[0;34m]\u001b[0m\u001b[0;34m\u001b[0m\u001b[0m\n",
      "\u001b[0;32m/usr/local/lib/python3.5/dist-packages/matplotlib/axes/_base.py\u001b[0m in \u001b[0;36madd_line\u001b[0;34m(self, line)\u001b[0m\n\u001b[1;32m   1785\u001b[0m             \u001b[0mline\u001b[0m\u001b[0;34m.\u001b[0m\u001b[0mset_clip_path\u001b[0m\u001b[0;34m(\u001b[0m\u001b[0mself\u001b[0m\u001b[0;34m.\u001b[0m\u001b[0mpatch\u001b[0m\u001b[0;34m)\u001b[0m\u001b[0;34m\u001b[0m\u001b[0m\n\u001b[1;32m   1786\u001b[0m \u001b[0;34m\u001b[0m\u001b[0m\n\u001b[0;32m-> 1787\u001b[0;31m         \u001b[0mself\u001b[0m\u001b[0;34m.\u001b[0m\u001b[0m_update_line_limits\u001b[0m\u001b[0;34m(\u001b[0m\u001b[0mline\u001b[0m\u001b[0;34m)\u001b[0m\u001b[0;34m\u001b[0m\u001b[0m\n\u001b[0m\u001b[1;32m   1788\u001b[0m         \u001b[0;32mif\u001b[0m \u001b[0;32mnot\u001b[0m \u001b[0mline\u001b[0m\u001b[0;34m.\u001b[0m\u001b[0mget_label\u001b[0m\u001b[0;34m(\u001b[0m\u001b[0;34m)\u001b[0m\u001b[0;34m:\u001b[0m\u001b[0;34m\u001b[0m\u001b[0m\n\u001b[1;32m   1789\u001b[0m             \u001b[0mline\u001b[0m\u001b[0;34m.\u001b[0m\u001b[0mset_label\u001b[0m\u001b[0;34m(\u001b[0m\u001b[0;34m'_line%d'\u001b[0m \u001b[0;34m%\u001b[0m \u001b[0mlen\u001b[0m\u001b[0;34m(\u001b[0m\u001b[0mself\u001b[0m\u001b[0;34m.\u001b[0m\u001b[0mlines\u001b[0m\u001b[0;34m)\u001b[0m\u001b[0;34m)\u001b[0m\u001b[0;34m\u001b[0m\u001b[0m\n",
      "\u001b[0;32m/usr/local/lib/python3.5/dist-packages/matplotlib/axes/_base.py\u001b[0m in \u001b[0;36m_update_line_limits\u001b[0;34m(self, line)\u001b[0m\n\u001b[1;32m   1807\u001b[0m         \u001b[0mFigures\u001b[0m \u001b[0mout\u001b[0m \u001b[0mthe\u001b[0m \u001b[0mdata\u001b[0m \u001b[0mlimit\u001b[0m \u001b[0mof\u001b[0m \u001b[0mthe\u001b[0m \u001b[0mgiven\u001b[0m \u001b[0mline\u001b[0m\u001b[0;34m,\u001b[0m \u001b[0mupdating\u001b[0m \u001b[0mself\u001b[0m\u001b[0;34m.\u001b[0m\u001b[0mdataLim\u001b[0m\u001b[0;34m.\u001b[0m\u001b[0;34m\u001b[0m\u001b[0m\n\u001b[1;32m   1808\u001b[0m         \"\"\"\n\u001b[0;32m-> 1809\u001b[0;31m         \u001b[0mpath\u001b[0m \u001b[0;34m=\u001b[0m \u001b[0mline\u001b[0m\u001b[0;34m.\u001b[0m\u001b[0mget_path\u001b[0m\u001b[0;34m(\u001b[0m\u001b[0;34m)\u001b[0m\u001b[0;34m\u001b[0m\u001b[0m\n\u001b[0m\u001b[1;32m   1810\u001b[0m         \u001b[0;32mif\u001b[0m \u001b[0mpath\u001b[0m\u001b[0;34m.\u001b[0m\u001b[0mvertices\u001b[0m\u001b[0;34m.\u001b[0m\u001b[0msize\u001b[0m \u001b[0;34m==\u001b[0m \u001b[0;36m0\u001b[0m\u001b[0;34m:\u001b[0m\u001b[0;34m\u001b[0m\u001b[0m\n\u001b[1;32m   1811\u001b[0m             \u001b[0;32mreturn\u001b[0m\u001b[0;34m\u001b[0m\u001b[0m\n",
      "\u001b[0;32m/usr/local/lib/python3.5/dist-packages/matplotlib/lines.py\u001b[0m in \u001b[0;36mget_path\u001b[0;34m(self)\u001b[0m\n\u001b[1;32m    987\u001b[0m         \"\"\"\n\u001b[1;32m    988\u001b[0m         \u001b[0;32mif\u001b[0m \u001b[0mself\u001b[0m\u001b[0;34m.\u001b[0m\u001b[0m_invalidy\u001b[0m \u001b[0;32mor\u001b[0m \u001b[0mself\u001b[0m\u001b[0;34m.\u001b[0m\u001b[0m_invalidx\u001b[0m\u001b[0;34m:\u001b[0m\u001b[0;34m\u001b[0m\u001b[0m\n\u001b[0;32m--> 989\u001b[0;31m             \u001b[0mself\u001b[0m\u001b[0;34m.\u001b[0m\u001b[0mrecache\u001b[0m\u001b[0;34m(\u001b[0m\u001b[0;34m)\u001b[0m\u001b[0;34m\u001b[0m\u001b[0m\n\u001b[0m\u001b[1;32m    990\u001b[0m         \u001b[0;32mreturn\u001b[0m \u001b[0mself\u001b[0m\u001b[0;34m.\u001b[0m\u001b[0m_path\u001b[0m\u001b[0;34m\u001b[0m\u001b[0m\n\u001b[1;32m    991\u001b[0m \u001b[0;34m\u001b[0m\u001b[0m\n",
      "\u001b[0;32m/usr/local/lib/python3.5/dist-packages/matplotlib/lines.py\u001b[0m in \u001b[0;36mrecache\u001b[0;34m(self, always)\u001b[0m\n\u001b[1;32m    694\u001b[0m \u001b[0;34m\u001b[0m\u001b[0m\n\u001b[1;32m    695\u001b[0m         \u001b[0;32mif\u001b[0m \u001b[0mlen\u001b[0m\u001b[0;34m(\u001b[0m\u001b[0mx\u001b[0m\u001b[0;34m)\u001b[0m \u001b[0;34m!=\u001b[0m \u001b[0mlen\u001b[0m\u001b[0;34m(\u001b[0m\u001b[0my\u001b[0m\u001b[0;34m)\u001b[0m\u001b[0;34m:\u001b[0m\u001b[0;34m\u001b[0m\u001b[0m\n\u001b[0;32m--> 696\u001b[0;31m             \u001b[0;32mraise\u001b[0m \u001b[0mRuntimeError\u001b[0m\u001b[0;34m(\u001b[0m\u001b[0;34m'xdata and ydata must be the same length'\u001b[0m\u001b[0;34m)\u001b[0m\u001b[0;34m\u001b[0m\u001b[0m\n\u001b[0m\u001b[1;32m    697\u001b[0m \u001b[0;34m\u001b[0m\u001b[0m\n\u001b[1;32m    698\u001b[0m         \u001b[0mself\u001b[0m\u001b[0;34m.\u001b[0m\u001b[0m_xy\u001b[0m \u001b[0;34m=\u001b[0m \u001b[0mnp\u001b[0m\u001b[0;34m.\u001b[0m\u001b[0mempty\u001b[0m\u001b[0;34m(\u001b[0m\u001b[0;34m(\u001b[0m\u001b[0mlen\u001b[0m\u001b[0;34m(\u001b[0m\u001b[0mx\u001b[0m\u001b[0;34m)\u001b[0m\u001b[0;34m,\u001b[0m \u001b[0;36m2\u001b[0m\u001b[0;34m)\u001b[0m\u001b[0;34m,\u001b[0m \u001b[0mdtype\u001b[0m\u001b[0;34m=\u001b[0m\u001b[0mnp\u001b[0m\u001b[0;34m.\u001b[0m\u001b[0mfloat_\u001b[0m\u001b[0;34m)\u001b[0m\u001b[0;34m\u001b[0m\u001b[0m\n",
      "\u001b[0;31mRuntimeError\u001b[0m: xdata and ydata must be the same length"
     ]
    },
    {
     "data": {
      "image/png": "[encoded data removed]",
      "text/plain": [
       "<matplotlib.figure.Figure at 0x7f0d93c1de48>"
      ]
     },
     "metadata": {},
     "output_type": "display_data"
    }
   ],
   "source": [
    "# Compare PPR bewteen reci and uni\n",
    "ppr_uni = []\n",
    "ppr_uni_std = []\n",
    "rs_uni = []\n",
    "for i, df in zip(processed_uni.Before.index, processed_uni.Before):\n",
    "    if data_uni.loc[i]['IS100']==1:\n",
    "        ppr_uni.append(np.nanmean(df['PPR']))\n",
    "        ppr_uni_std.append(np.nanstd(df['PPR']))\n",
    "        rs_uni.append(np.nanmean(df['rs']))\n",
    "    \n",
    "ppr_reci = []\n",
    "ppr_reci_std = []\n",
    "for j in range(5):\n",
    "    processed_reci = pd.read_pickle('/data/processed_EI_reci_all_{index}'.format(index=j))\n",
    "#     processed_reci_ppr = processed_reci.copy()\n",
    "#     processed_reci_ppr.drop(159, axis=0, inplace=True)\n",
    "\n",
    "    for i, df in zip(processed_reci.Before.index, processed_reci.Before):\n",
    "        if data_reci.loc[i]['IS100'] == 1:\n",
    "            ppr_reci.append(np.nanmean(df['PPR']))\n",
    "            ppr_reci_std.append(np.nanstd(df['PPR']))\n",
    "\n",
    "print(len(rs_uni), len(rs_reci))\n",
    "plt.errorbar(rs_uni, ppr_uni, ppr_uni_std, fmt='o')\n",
    "plt.errorbar(rs_reci, ppr_reci, ppr_reci_std, fmt='o')\n",
    "stats.ranksums(ppr_uni, ppr_reci)"
   ]
  },
  {
   "cell_type": "code",
   "execution_count": null,
   "metadata": {
    "collapsed": false,
    "deletable": true,
    "editable": true
   },
   "outputs": [],
   "source": [
    "# No difference in Rin, Ronset, Rdecay\n",
    "# Compare PPR bewteen reci and uni\n",
    "ppr_uni = []\n",
    "ppr_uni_std = []\n",
    "rs_uni = []\n",
    "for i, df in zip(processed_uni.Before.index, processed_uni.Before):\n",
    "    if data_uni.loc[i]['IS100']==1:\n",
    "        ppr_uni.append(np.nanmean(df['ir']))\n",
    "        ppr_uni_std.append(np.nanstd(df['ir']))\n",
    "        rs_uni.append(np.nanmean(df['rs']))\n",
    "    \n",
    "ppr_reci = []\n",
    "ppr_reci_std = []\n",
    "rs_reci = []\n",
    "for i, df in zip(processed_reci.Before.index, processed_reci.Before):\n",
    "    if data_reci.loc[i]['IS100']==1:\n",
    "        ppr_reci.append(np.nanmean(df['ir']))\n",
    "        ppr_reci_std.append(np.nanstd(df['ir']))\n",
    "        rs_reci.append(np.nanmean(df['rs']))\n",
    "\n",
    "                \n",
    "ppr_ie = []\n",
    "ppr_ie_std = []\n",
    "rs_ie  = []\n",
    "for i, df in zip(processed_I_E.Before.index, processed_I_E.Before):\n",
    "    if data_ie.loc[i]['IS100']==1:\n",
    "        ppr_ie.append(np.nanmean(df['ir']))\n",
    "        ppr_ie_std.append(np.nanstd(df['ir']))\n",
    "        rs_ie.append(np.nanmean(df['rs']))\n",
    "\n",
    "print(len(rs_uni), len(rs_reci), len(rs_ie))\n",
    "ppr_uni = rs_corr(ppr_uni, rs_uni)\n",
    "ppr_reci =  rs_corr(ppr_reci, rs_reci)\n",
    "ppr_ie = rs_corr(ppr_ie, rs_ie)\n",
    "plt.errorbar(rs_uni, ppr_uni , ppr_uni_std, fmt='o')\n",
    "plt.errorbar(rs_reci, ppr_reci, ppr_reci_std, fmt='o')\n",
    "plt.errorbar(rs_ie, ppr_ie, ppr_ie_std, fmt='o')\n",
    "stats.ranksums(ppr_uni, ppr_reci)\n",
    "#plt.xlim([7,30])\n",
    "# plt.ylim([10, 150])"
   ]
  },
  {
   "cell_type": "code",
   "execution_count": null,
   "metadata": {
    "collapsed": false,
    "deletable": true,
    "editable": true
   },
   "outputs": [],
   "source": [
    "ppr_uni_mean = np.nanmean(ppr_uni)\n",
    "ppr_uni_ste = np.nanstd(ppr_uni)/np.sqrt(np.sum(~np.isnan(ppr_uni)))\n",
    "ppr_reci_mean = np.nanmean(ppr_reci)\n",
    "ppr_reci_ste = np.nanstd(ppr_reci)/np.sqrt(np.sum(~np.isnan(ppr_reci)))\n",
    "plt.bar([1,2], [ppr_uni_mean, ppr_reci_mean], align='center', width=0.4)\n",
    "plt.errorbar([1,2], [ppr_uni_mean, ppr_reci_mean], [ppr_uni_ste, ppr_reci_ste])\n",
    "plt.xlim([0,3])\n",
    "plt.ylim([0,90])\n",
    "\n",
    "with PdfPages('/data/figure_0_8.pdf') as pdf:\n",
    "    pdf.savefig()"
   ]
  },
  {
   "cell_type": "code",
   "execution_count": null,
   "metadata": {
    "collapsed": false,
    "deletable": true,
    "editable": true
   },
   "outputs": [],
   "source": [
    "# No difference in Rin, Ronset, Rdecay\n",
    "# Compare PPR bewteen reci and uni\n",
    "processed_uni_decay = processed_uni.copy()\n",
    "processed_uni_decay.drop([44, 54], axis=0, inplace=1)\n",
    "ppr_uni = []\n",
    "ppr_uni_std = []\n",
    "rs_uni = []\n",
    "for i, df in zip(processed_uni_decay.Before.index, processed_uni.Before):\n",
    "    ppr_uni.append(np.nanmean(df['raw_decay_tau']))\n",
    "    ppr_uni_std.append(np.nanstd(df['raw_decay_tau']))\n",
    "    rs_uni.append(np.nanmean(df['raw_amp1']))\n",
    "    \n",
    "ppr_reci = []\n",
    "ppr_reci_std = []\n",
    "rs_reci = []\n",
    "for i, df in zip(processed_reci.Before.index, processed_reci.Before):\n",
    "    ppr_reci.append(np.nanmean(df['raw_decay_tau']))\n",
    "    ppr_reci_std.append(np.nanstd(df['raw_decay_tau']))\n",
    "    rs_reci.append(np.nanmean(df['raw_amp1']))\n",
    "\n",
    "print(len(rs_uni), len(rs_reci))\n",
    "plt.errorbar(rs_uni, rs_corr(ppr_uni, rs_uni), ppr_uni_std, fmt='o')\n",
    "plt.errorbar(rs_reci, rs_corr(ppr_reci, rs_reci), ppr_reci_std, fmt='o')\n",
    "stats.ranksums(ppr_uni, ppr_reci)\n",
    "#plt.xlim([7,30])\n",
    "# plt.ylim([10, 150])"
   ]
  },
  {
   "cell_type": "code",
   "execution_count": null,
   "metadata": {
    "collapsed": false,
    "deletable": true,
    "editable": true
   },
   "outputs": [],
   "source": [
    "ppr_uni_mean = np.nanmean(ppr_uni)\n",
    "ppr_uni_ste = np.nanstd(ppr_uni)/np.sqrt(np.sum(~np.isnan(ppr_uni)))\n",
    "ppr_reci_mean = np.nanmean(ppr_reci)\n",
    "ppr_reci_ste = np.nanstd(ppr_reci)/np.sqrt(np.sum(~np.isnan(ppr_reci)))\n",
    "plt.bar([1,2], [ppr_uni_mean*1000, ppr_reci_mean*1000], align='center', width=0.4)\n",
    "plt.errorbar([1,2], [ppr_uni_mean*1000, ppr_reci_mean*1000], [ppr_uni_ste*1000, ppr_reci_ste*1000])\n",
    "plt.xlim([0,3])\n",
    "plt.ylim([0,2])\n",
    "\n",
    "with PdfPages('/data/figure_0_9.pdf') as pdf:\n",
    "    pdf.savefig()"
   ]
  },
  {
   "cell_type": "code",
   "execution_count": null,
   "metadata": {
    "collapsed": false,
    "deletable": true,
    "editable": true
   },
   "outputs": [],
   "source": [
    "# No difference in Rin, Ronset, Rdecay\n",
    "# Compare PPR bewteen reci and uni        \n",
    "ppr_uni = []\n",
    "ppr_uni_std = []\n",
    "rs_uni = []\n",
    "for i, df in zip(processed_uni.Before.index, processed_uni.Before):\n",
    "    if data_uni.loc[i]['IS100']==1:\n",
    "        ppr_uni.append(np.nanmean(df['raw_onset_tau']))\n",
    "        ppr_uni_std.append(np.nanstd(df['raw_onset_tau']))\n",
    "        rs_uni.append(np.nanmean(df['raw_amp1']))\n",
    "    \n",
    "ppr_reci = []\n",
    "ppr_reci_std = []\n",
    "rs_reci = []\n",
    "for i, df in zip(processed_reci.Before.index, processed_reci.Before):\n",
    "    if data_reci.loc[i]['IS100']==1:\n",
    "        ppr_reci.append(np.nanmean(df['raw_onset_tau']))\n",
    "        ppr_reci_std.append(np.nanstd(df['raw_onset_tau']))\n",
    "        rs_reci.append(np.nanmean(df['raw_amp1']))\n",
    "\n",
    "print(len(rs_uni), len(rs_reci))\n",
    "plt.errorbar(rs_uni, rs_corr(ppr_uni, rs_uni), ppr_uni_std, fmt='o')\n",
    "plt.errorbar(rs_reci, rs_corr(ppr_reci, rs_reci), ppr_reci_std, fmt='o')\n",
    "stats.ranksums(ppr_uni, ppr_reci)\n",
    "#plt.xlim([7,30])\n",
    "# plt.ylim([10, 150])"
   ]
  },
  {
   "cell_type": "code",
   "execution_count": null,
   "metadata": {
    "collapsed": false,
    "deletable": true,
    "editable": true
   },
   "outputs": [],
   "source": [
    "ppr_uni_mean = np.nanmean(ppr_uni)\n",
    "ppr_uni_ste = np.nanstd(ppr_uni)/np.sqrt(np.sum(~np.isnan(ppr_uni)))\n",
    "ppr_reci_mean = np.nanmean(ppr_reci)\n",
    "ppr_reci_ste = np.nanstd(ppr_reci)/np.sqrt(np.sum(~np.isnan(ppr_reci)))\n",
    "plt.bar([1,2], [ppr_uni_mean*1000, ppr_reci_mean*1000], align='center', width=0.4)\n",
    "plt.errorbar([1,2], [ppr_uni_mean*1000, ppr_reci_mean*1000], [ppr_uni_ste*1000, ppr_reci_ste*1000])\n",
    "plt.xlim([0,3])\n",
    "#plt.ylim([0,0.0008])\n",
    "\n",
    "with PdfPages('/data/figure_0_10.pdf') as pdf:\n",
    "    pdf.savefig()"
   ]
  },
  {
   "cell_type": "code",
   "execution_count": null,
   "metadata": {
    "collapsed": false,
    "deletable": true,
    "editable": true
   },
   "outputs": [],
   "source": [
    "# No difference in Rin, Ronset, Rdecay\n",
    "# Compare PPR bewteen reci and uni\n",
    "def rs_corr(rin, rs):\n",
    "    for i in range(len(rin)):\n",
    "        rin[i] = rin[i] - max([rs[i] - 10, 0]) * 1.5\n",
    "    return rin\n",
    "        \n",
    "ppr_uni = []\n",
    "ppr_uni_std = []\n",
    "rs_uni = []\n",
    "for i, df in zip(processed_uni.Before.index, processed_uni.Before):\n",
    "    if data_uni.loc[i]['IS100']==1:\n",
    "        ppr_uni.append(np.nanmean(df['decay_tau']))\n",
    "        ppr_uni_std.append(np.nanmean(df['decay_tau']))\n",
    "        rs_uni.append(np.nanmean(df['rs']))\n",
    "    \n",
    "ppr_reci = []\n",
    "ppr_reci_std = []\n",
    "rs_reci = []\n",
    "for i, df in zip(processed_reci.Before.index, processed_reci.Before):\n",
    "    if data_reci.loc[i]['IS100']==1:\n",
    "        ppr_reci.append(np.nanmean(df['decay_tau']))\n",
    "        ppr_reci_std.append(np.nanmean(df['decay_tau']))\n",
    "        rs_reci.append(np.nanmean(df['rs']))\n",
    "\n",
    "print(len(rs_uni), len(rs_reci))\n",
    "plt.errorbar(rs_uni, ppr_uni, ppr_uni_std, fmt='o')\n",
    "plt.errorbar(rs_reci, ppr_reci, ppr_reci_std, fmt='o')\n",
    "stats.ranksums(ppr_uni, ppr_reci)\n",
    "#plt.xlim([7,30])\n",
    "# plt.ylim([10, 150])"
   ]
  },
  {
   "cell_type": "code",
   "execution_count": null,
   "metadata": {
    "collapsed": false,
    "deletable": true,
    "editable": true
   },
   "outputs": [],
   "source": [
    "plt.boxplot([ppr_uni, ppr_reci], 0, 'gD')"
   ]
  },
  {
   "cell_type": "code",
   "execution_count": null,
   "metadata": {
    "collapsed": false,
    "deletable": true,
    "editable": true
   },
   "outputs": [],
   "source": [
    "# processed_old_reci = patch_pip.df_ana(data_uni, '/data/prcessed_old_reci')\n",
    "# processed_young_reci = pd.read_pickle('/data/processed_young_reci')\n",
    "# processed_reci = pd.concat([processed_old_reci, processed_young_reci], axis=0)\n",
    "# # Compare PPR bewteen old reci and old uni\n",
    "# ppr_old_uni = []\n",
    "# ppr_old_uni_std = []\n",
    "# rs_old_uni = []\n",
    "# for i in processed_old_uni.Before:\n",
    "#     ppr_old_uni.append(np.nanmean(i['PPR']))\n",
    "#     ppr_old_uni_std.append(np.nanstd(i['PPR']))\n",
    "#     rs_old_uni.append(np.nanmean(i['ave_amp1']))\n",
    "    \n",
    "# # ppr_old_reci = []\n",
    "# # ppr_ord_reci_std = []\n",
    "# # rs_old_reci = []\n",
    "# # for i in processed_reci.Before:\n",
    "# #     ppr_old_reci.append(np.nanmean(i['PPR']))\n",
    "# #     ppr_ord_reci_std.append(np.nanstd(i['PPR']))\n",
    "# #     rs_old_reci.append(np.nanmean(i['ave_amp1']))\n",
    "    \n",
    "# # plt.errorbar(rs_old_uni, ppr_old_uni, ppr_old_uni_std, fmt='o')\n",
    "# # plt.errorbar(rs_old_reci, ppr_old_reci, ppr_ord_reci_std, fmt='o')\n",
    "# # stats.ttest_ind(ppr_old_uni, ppr_old_reci)\n",
    "# # #plt.xlim([7,30])\n",
    "# # # plt.ylim([10, 150])"
   ]
  },
  {
   "cell_type": "code",
   "execution_count": null,
   "metadata": {
    "collapsed": false,
    "deletable": true,
    "editable": true
   },
   "outputs": [],
   "source": [
    "data_E_I = data[(data['E-I']==1)]\n",
    "data_I_E = data[(data['E-I']==0)]\n",
    "print(\"data_E_I:{},data_I_E:{}\"\n",
    "      .format(len(data_E_I),len(data_I_E)))"
   ]
  },
  {
   "cell_type": "code",
   "execution_count": null,
   "metadata": {
    "collapsed": false,
    "deletable": true,
    "editable": true
   },
   "outputs": [],
   "source": [
    "data_E_I.iloc[0]"
   ]
  },
  {
   "cell_type": "code",
   "execution_count": null,
   "metadata": {
    "collapsed": false,
    "deletable": true,
    "editable": true
   },
   "outputs": [],
   "source": [
    "# for i in range(5):\n",
    "#     patch_pip.df_ana(data_E_I.iloc[i*20:(i+1)*20], '/data/processed_E_I_'+str(i))"
   ]
  },
  {
   "cell_type": "code",
   "execution_count": null,
   "metadata": {
    "collapsed": false,
    "deletable": true,
    "editable": true
   },
   "outputs": [],
   "source": [
    "#patch_pip.df_ana(data_E_I, '/data/processed_E_I')\n",
    "#patch_pip.df_ana(data_I_E, '/data/processed_I_E')\n",
    "processed_E_I = pd.read_pickle('/data/processed_E_I_1')\n",
    "processed_I_E = pd.read_pickle('/data/processed_I_E')"
   ]
  },
  {
   "cell_type": "code",
   "execution_count": null,
   "metadata": {
    "collapsed": false,
    "deletable": true,
    "editable": true
   },
   "outputs": [],
   "source": [
    "# Input resistance\n",
    "rin_EI = []\n",
    "rs_EI = []\n",
    "for i in processed_E_I.Before:\n",
    "    rin_EI.append(np.nanmean(i['ir']))\n",
    "    rs_EI.append(np.nanmean(i['rs']))\n",
    "    \n",
    "rin_IE= []\n",
    "rs_IE = []\n",
    "for i in processed_I_E.Before:\n",
    "    rin_IE.append(np.nanmean(i['ir']))\n",
    "    rs_IE.append(np.nanmean(i['rs']))\n",
    "    \n",
    "plt.plot(rs_EI, rin_EI, 'b.')\n",
    "plt.plot(rs_IE, rin_IE, 'r.')\n",
    "#plt.xlim([7,30])\n",
    "#plt.ylim([10, 150])"
   ]
  },
  {
   "cell_type": "code",
   "execution_count": null,
   "metadata": {
    "collapsed": false,
    "deletable": true,
    "editable": true
   },
   "outputs": [],
   "source": [
    "len(rs_IE)"
   ]
  },
  {
   "cell_type": "code",
   "execution_count": null,
   "metadata": {
    "collapsed": false,
    "deletable": true,
    "editable": true
   },
   "outputs": [],
   "source": [
    "# for j in processed_old_uni.Before.index:\n",
    "#     for i in range(len(processed_old_uni.Before.loc[j]['trace_y1'])):\n",
    "#         plt.figure()\n",
    "#         plt.plot(processed_old_uni.Before.loc[j]['trace_y1'][i])\n",
    "#         plt.plot(processed_old_uni.Before.loc[j]['trace_y2'][i])\n",
    "#         plt.title('index{a}:'.format(a=j)+ str(processed_old_uni.Before.loc[j]['PPR'][i]))"
   ]
  },
  {
   "cell_type": "code",
   "execution_count": null,
   "metadata": {
    "collapsed": false,
    "deletable": true,
    "editable": true
   },
   "outputs": [],
   "source": [
    "for j in [159]:\n",
    "    for i in range(len(processed_reci.Before.loc[j]['trace_y1'])):\n",
    "        plt.figure()\n",
    "        plt.plot(processed_reci.Before.loc[j]['trace_y1'][i])\n",
    "        plt.plot(processed_reci.Before.loc[j]['trace_y2'][i])\n",
    "        plt.title('index{a}:'.format(a=j)+ str(processed_reci.Before.loc[j]['PPR'][i]))"
   ]
  },
  {
   "cell_type": "code",
   "execution_count": null,
   "metadata": {
    "collapsed": false,
    "deletable": true,
    "editable": true
   },
   "outputs": [],
   "source": [
    "data_reci_all = data[(data.Reci == 1)&(data.IS100==1)&(data['E-I']==1)]\n",
    "len(data_reci_all)\n",
    "\n",
    "age_list = []\n",
    "PPR_list = []\n",
    "Rin_list = []\n",
    "Rs_list = []\n",
    "data_reci_all = data[(data.Reci == 1)&(data.IS100==1)&(data['E-I']==1)][:30]\n",
    "processed_reci = patch_pip.df_ana(data_reci_all, 'prcessed_reci', if_save=False)\n",
    "for j in processed_reci.index:\n",
    "    age_list.append(data_reci_all.loc[j]['Age'])\n",
    "    PPR_list.append(np.nanmean(processed_reci.Before.loc[j]['PPR']))\n",
    "    Rin_list.append(np.nanmean(processed_reci.Before.loc[j]['ir']))\n",
    "    Rs_list.append(np.nanmean(processed_reci.Before.loc[j]['rs']))\n",
    "\n",
    "data_reci_all = data[(data.Reci == 1)&(data.IS100==1)&(data['E-I']==1)][31:60]\n",
    "processed_reci = patch_pip.df_ana(data_reci_all, 'prcessed_reci', if_save=False)\n",
    "for j in processed_reci.index:\n",
    "    age_list.append(data_reci_all.loc[j]['Age'])\n",
    "    PPR_list.append(np.nanmean(processed_reci.Before.loc[j]['PPR']))\n",
    "    Rin_list.append(np.nanmean(processed_reci.Before.loc[j]['ir']))\n",
    "    Rs_list.append(np.nanmean(processed_reci.Before.loc[j]['rs']))\n",
    "\n",
    "data_reci_all = data[(data.Reci == 1)&(data.IS100==1)&(data['E-I']==1)][61:90]\n",
    "processed_reci = patch_pip.df_ana(data_reci_all, 'prcessed_reci', if_save=False)\n",
    "for j in processed_reci.index:\n",
    "    age_list.append(data_reci_all.loc[j]['Age'])\n",
    "    PPR_list.append(np.nanmean(processed_reci.Before.loc[j]['PPR']))\n",
    "    Rin_list.append(np.nanmean(processed_reci.Before.loc[j]['ir']))\n",
    "    Rs_list.append(np.nanmean(processed_reci.Before.loc[j]['rs']))\n",
    "\n",
    "data_reci_all = data[(data.Reci == 1)&(data.IS100==1)&(data['E-I']==1)][91:102]\n",
    "processed_reci = patch_pip.df_ana(data_reci_all, 'prcessed_reci', if_save=False)\n",
    "for j in processed_reci.index:\n",
    "    age_list.append(data_reci_all.loc[j]['Age'])\n",
    "    PPR_list.append(np.nanmean(processed_reci.Before.loc[j]['PPR']))\n",
    "    Rin_list.append(np.nanmean(processed_reci.Before.loc[j]['ir']))\n",
    "    Rs_list.append(np.nanmean(processed_reci.Before.loc[j]['rs']))\n",
    "\n",
    "df_age_PPR = pd.DataFrame(data=np.vstack([age_list, PPR_list,Rin_list, Rs_list]).transpose(), columns=['age', 'PPR', 'rin', 'rs'])"
   ]
  },
  {
   "cell_type": "code",
   "execution_count": null,
   "metadata": {
    "collapsed": false,
    "deletable": true,
    "editable": true
   },
   "outputs": [],
   "source": [
    "# df_age_PPR.to_csv('/data/age_PPR_reci_rin_rs')\n",
    "df_age_PPR = pd.read_csv('/data/age_PPR_reci_rin_rs')\n",
    "df_age_PPR.drop('Unnamed: 0', axis=1, inplace=True)"
   ]
  },
  {
   "cell_type": "code",
   "execution_count": null,
   "metadata": {
    "collapsed": false,
    "deletable": true,
    "editable": true
   },
   "outputs": [],
   "source": [
    "df_age_PPR.head()"
   ]
  },
  {
   "cell_type": "code",
   "execution_count": null,
   "metadata": {
    "collapsed": false,
    "deletable": true,
    "editable": true
   },
   "outputs": [],
   "source": [
    "# Dependence of PPR on age\n",
    "plt.plot(df_age_PPR.age, df_age_PPR.PPR, '.')"
   ]
  },
  {
   "cell_type": "code",
   "execution_count": null,
   "metadata": {
    "collapsed": true,
    "deletable": true,
    "editable": true
   },
   "outputs": [],
   "source": [
    "import scipy"
   ]
  },
  {
   "cell_type": "code",
   "execution_count": null,
   "metadata": {
    "collapsed": false,
    "deletable": true,
    "editable": true
   },
   "outputs": [],
   "source": [
    "stats.ttest_ind(ppr_old_uni, ppr_old_reci)"
   ]
  },
  {
   "cell_type": "code",
   "execution_count": null,
   "metadata": {
    "collapsed": false,
    "deletable": true,
    "editable": true
   },
   "outputs": [],
   "source": [
    "processed_young_uni = patch_pip.df_ana(data_young_uni, 'prcessed_young_uni', if_save=False)\n",
    "# processed_young_reci = patch_pip.df_ana(data_young_reci, 'prcessed_young_reci', if_save=False)"
   ]
  },
  {
   "cell_type": "code",
   "execution_count": null,
   "metadata": {
    "collapsed": false,
    "deletable": true,
    "editable": true
   },
   "outputs": [],
   "source": [
    "for i, trial in enumerate(processed_young_uni.Before):\n",
    "    plt.plot(trial['trace_rin']-np.mean(trial['trace_rin'][:1000]), label=processed_young_uni.Before.index[i])\n",
    "\n",
    "plt.legend()"
   ]
  },
  {
   "cell_type": "code",
   "execution_count": null,
   "metadata": {
    "collapsed": false,
    "deletable": true,
    "editable": true
   },
   "outputs": [],
   "source": [
    "data_young_uni"
   ]
  },
  {
   "cell_type": "code",
   "execution_count": null,
   "metadata": {
    "collapsed": false,
    "deletable": true,
    "editable": true
   },
   "outputs": [],
   "source": [
    "for df in processed_young_uni.Before:\n",
    "    plt.plot(df['trace_rin'])"
   ]
  },
  {
   "cell_type": "code",
   "execution_count": null,
   "metadata": {
    "collapsed": false,
    "deletable": true,
    "editable": true
   },
   "outputs": [],
   "source": [
    "processed_young_uni.Before"
   ]
  },
  {
   "cell_type": "code",
   "execution_count": null,
   "metadata": {
    "collapsed": false,
    "deletable": true,
    "editable": true
   },
   "outputs": [],
   "source": [
    "patch_pip.df_ana(sample_data,'sample_data')\n",
    "processed_sample_data = pd.read_pickle('sample_data')"
   ]
  },
  {
   "cell_type": "code",
   "execution_count": null,
   "metadata": {
    "collapsed": false,
    "deletable": true,
    "editable": true
   },
   "outputs": [],
   "source": [
    "processed_sample_data.Before.iloc[0].keys()"
   ]
  },
  {
   "cell_type": "code",
   "execution_count": null,
   "metadata": {
    "collapsed": false,
    "deletable": true,
    "editable": true
   },
   "outputs": [],
   "source": [
    "prcessed_test = processed_sample_data.Before.iloc[0]\n",
    "resp1 = np.vstack(prcessed_test['trace_y1'])"
   ]
  },
  {
   "cell_type": "code",
   "execution_count": null,
   "metadata": {
    "collapsed": false,
    "deletable": true,
    "editable": true
   },
   "outputs": [],
   "source": [
    "prcessed_test['raw_decay_tau']"
   ]
  },
  {
   "cell_type": "code",
   "execution_count": null,
   "metadata": {
    "collapsed": false,
    "deletable": true,
    "editable": true,
    "scrolled": false
   },
   "outputs": [],
   "source": [
    "prcessed_test['ir']"
   ]
  },
  {
   "cell_type": "code",
   "execution_count": null,
   "metadata": {
    "collapsed": false,
    "deletable": true,
    "editable": true
   },
   "outputs": [],
   "source": [
    "prcessed_test['raw_decay_tau'].shape"
   ]
  },
  {
   "cell_type": "code",
   "execution_count": null,
   "metadata": {
    "collapsed": false,
    "deletable": true,
    "editable": true
   },
   "outputs": [],
   "source": [
    "len(prcessed_test['decay_tau'])"
   ]
  },
  {
   "cell_type": "code",
   "execution_count": null,
   "metadata": {
    "collapsed": false,
    "deletable": true,
    "editable": true
   },
   "outputs": [],
   "source": [
    "prcessed_test['raw_onset_tau']"
   ]
  },
  {
   "cell_type": "code",
   "execution_count": null,
   "metadata": {
    "collapsed": false,
    "deletable": true,
    "editable": true
   },
   "outputs": [],
   "source": [
    "plt.plot(resp1.mean(axis=0))"
   ]
  },
  {
   "cell_type": "code",
   "execution_count": null,
   "metadata": {
    "collapsed": false,
    "deletable": true,
    "editable": true
   },
   "outputs": [],
   "source": [
    "plt.plot(prcessed_test['trace_y1'])"
   ]
  },
  {
   "cell_type": "code",
   "execution_count": null,
   "metadata": {
    "collapsed": true,
    "deletable": true,
    "editable": true
   },
   "outputs": [],
   "source": [
    "# Write function to analyze input resistance and firing property of each cell\n"
   ]
  },
  {
   "cell_type": "code",
   "execution_count": null,
   "metadata": {
    "collapsed": true,
    "deletable": true,
    "editable": true
   },
   "outputs": [],
   "source": [
    "# Write function to analyze synaptic property, paired pulse ratio, onset decay time constant"
   ]
  },
  {
   "cell_type": "code",
   "execution_count": null,
   "metadata": {
    "collapsed": true,
    "deletable": true,
    "editable": true
   },
   "outputs": [],
   "source": [
    "# Group based on age"
   ]
  }
 ],
 "metadata": {
  "kernelspec": {
   "display_name": "Python 3",
   "language": "python",
   "name": "python3"
  },
  "language_info": {
   "codemirror_mode": {
    "name": "ipython",
    "version": 3
   },
   "file_extension": ".py",
   "mimetype": "text/x-python",
   "name": "python",
   "nbconvert_exporter": "python",
   "pygments_lexer": "ipython3",
   "version": "3.5.2"
  }
 },
 "nbformat": 4,
 "nbformat_minor": 2
}
