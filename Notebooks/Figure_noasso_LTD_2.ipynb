{
 "cells": [
  {
   "cell_type": "code",
   "execution_count": 1,
   "metadata": {
    "collapsed": false,
    "deletable": true,
    "editable": true
   },
   "outputs": [],
   "source": [
    "import numpy as np\n",
    "import pandas as pd\n",
    "import scipy.io as sio\n",
    "import matplotlib.pyplot as plt\n",
    "from scipy.optimize import curve_fit\n",
    "import pdb\n",
    "from Patch_ana import patch_pip\n",
    "import seaborn as sns\n",
    "\n",
    "% matplotlib inline\n",
    "%load_ext autoreload\n",
    "% autoreload"
   ]
  },
  {
   "cell_type": "code",
   "execution_count": 2,
   "metadata": {
    "collapsed": false,
    "deletable": true,
    "editable": true
   },
   "outputs": [
    {
     "data": {
      "text/html": [
       "<div>\n",
       "<table border=\"1\" class=\"dataframe\">\n",
       "  <thead>\n",
       "    <tr style=\"text-align: right;\">\n",
       "      <th></th>\n",
       "      <th>File name</th>\n",
       "      <th>Age</th>\n",
       "      <th>Pip number</th>\n",
       "      <th>E-I</th>\n",
       "      <th>Reci</th>\n",
       "      <th>Artifact</th>\n",
       "      <th>IS100</th>\n",
       "      <th>Trial number before</th>\n",
       "      <th>Trial number after</th>\n",
       "      <th>Protocol</th>\n",
       "      <th>Elimi</th>\n",
       "      <th>Notes</th>\n",
       "      <th>Ptl_note</th>\n",
       "    </tr>\n",
       "  </thead>\n",
       "  <tbody>\n",
       "    <tr>\n",
       "      <th>0</th>\n",
       "      <td>2016072704</td>\n",
       "      <td>27</td>\n",
       "      <td>3</td>\n",
       "      <td>0</td>\n",
       "      <td>0</td>\n",
       "      <td>0</td>\n",
       "      <td>1</td>\n",
       "      <td>26,27,28,29</td>\n",
       "      <td>31,32,33,34,35,36</td>\n",
       "      <td>1</td>\n",
       "      <td>0</td>\n",
       "      <td>NaN</td>\n",
       "      <td>50Hz IE preonly</td>\n",
       "    </tr>\n",
       "    <tr>\n",
       "      <th>1</th>\n",
       "      <td>2017021501</td>\n",
       "      <td>30</td>\n",
       "      <td>3</td>\n",
       "      <td>0</td>\n",
       "      <td>0</td>\n",
       "      <td>0</td>\n",
       "      <td>2</td>\n",
       "      <td>12,13</td>\n",
       "      <td>16,17</td>\n",
       "      <td>1</td>\n",
       "      <td>0</td>\n",
       "      <td>NaN</td>\n",
       "      <td>50Hz IE preonly</td>\n",
       "    </tr>\n",
       "    <tr>\n",
       "      <th>2</th>\n",
       "      <td>2016091403</td>\n",
       "      <td>30</td>\n",
       "      <td>2</td>\n",
       "      <td>0</td>\n",
       "      <td>0</td>\n",
       "      <td>0</td>\n",
       "      <td>1</td>\n",
       "      <td>14,15</td>\n",
       "      <td>17,18</td>\n",
       "      <td>1</td>\n",
       "      <td>1</td>\n",
       "      <td>NaN</td>\n",
       "      <td>50Hz IE preonly</td>\n",
       "    </tr>\n",
       "    <tr>\n",
       "      <th>3</th>\n",
       "      <td>2017062202</td>\n",
       "      <td>24</td>\n",
       "      <td>1</td>\n",
       "      <td>0</td>\n",
       "      <td>0</td>\n",
       "      <td>0</td>\n",
       "      <td>1</td>\n",
       "      <td>30,31,32</td>\n",
       "      <td>34,35</td>\n",
       "      <td>1</td>\n",
       "      <td>0</td>\n",
       "      <td>No change, good data</td>\n",
       "      <td>50Hz IE preonly</td>\n",
       "    </tr>\n",
       "    <tr>\n",
       "      <th>4</th>\n",
       "      <td>2016072902</td>\n",
       "      <td>29</td>\n",
       "      <td>1</td>\n",
       "      <td>0</td>\n",
       "      <td>1</td>\n",
       "      <td>0</td>\n",
       "      <td>0</td>\n",
       "      <td>43</td>\n",
       "      <td>45,46,47,48,49</td>\n",
       "      <td>1</td>\n",
       "      <td>0</td>\n",
       "      <td>NaN</td>\n",
       "      <td>50Hz IE preonly</td>\n",
       "    </tr>\n",
       "  </tbody>\n",
       "</table>\n",
       "</div>"
      ],
      "text/plain": [
       "    File name  Age  Pip number  E-I  Reci  Artifact  IS100  \\\n",
       "0  2016072704   27           3    0     0         0      1   \n",
       "1  2017021501   30           3    0     0         0      2   \n",
       "2  2016091403   30           2    0     0         0      1   \n",
       "3  2017062202   24           1    0     0         0      1   \n",
       "4  2016072902   29           1    0     1         0      0   \n",
       "\n",
       "  Trial number before Trial number after  Protocol  Elimi  \\\n",
       "0         26,27,28,29  31,32,33,34,35,36         1      0   \n",
       "1               12,13              16,17         1      0   \n",
       "2               14,15              17,18         1      1   \n",
       "3            30,31,32              34,35         1      0   \n",
       "4                  43     45,46,47,48,49         1      0   \n",
       "\n",
       "                  Notes         Ptl_note  \n",
       "0                   NaN  50Hz IE preonly  \n",
       "1                   NaN  50Hz IE preonly  \n",
       "2                   NaN  50Hz IE preonly  \n",
       "3  No change, good data  50Hz IE preonly  \n",
       "4                   NaN  50Hz IE preonly  "
      ]
     },
     "execution_count": 2,
     "metadata": {},
     "output_type": "execute_result"
    }
   ],
   "source": [
    "data= pd.read_csv('/data/Good data_store.csv')\n",
    "data.head()"
   ]
  },
  {
   "cell_type": "code",
   "execution_count": 3,
   "metadata": {
    "collapsed": false,
    "deletable": true,
    "editable": true
   },
   "outputs": [
    {
     "name": "stdout",
     "output_type": "stream",
     "text": [
      "/data\n"
     ]
    }
   ],
   "source": [
    "cd /data"
   ]
  },
  {
   "cell_type": "code",
   "execution_count": 4,
   "metadata": {
    "collapsed": false,
    "deletable": true,
    "editable": true
   },
   "outputs": [
    {
     "data": {
      "text/plain": [
       "50Hz EI high freq       12\n",
       "E_I_2Hz_associative     12\n",
       "50Hz EI preonly         12\n",
       "50Hz IE high freq       12\n",
       "EI_low high             10\n",
       "50Hz EI postonly        10\n",
       "EI_antihebbian          10\n",
       "50Hz IE preonly          9\n",
       "50Hz IE postonly         9\n",
       "E_I_2Hz_Associ_2AG       8\n",
       "E_I_preonly_low          7\n",
       "E_I_2Hz_POST_2AG         7\n",
       "No ptl                   7\n",
       "Naspm 100 uM             7\n",
       "E_i_postsynapti_low      6\n",
       "EI_high_low              5\n",
       "50Hz II high freq        5\n",
       "IE_high_low              4\n",
       "IE_high low              4\n",
       "50 Hz II preonly         1\n",
       "pre only after Naspm     1\n",
       "50 hZ II preonly         1\n",
       "Name: Ptl_note, dtype: int64"
      ]
     },
     "execution_count": 4,
     "metadata": {},
     "output_type": "execute_result"
    }
   ],
   "source": [
    "data['Ptl_note'].value_counts()"
   ]
  },
  {
   "cell_type": "code",
   "execution_count": 5,
   "metadata": {
    "collapsed": true,
    "deletable": true,
    "editable": true
   },
   "outputs": [],
   "source": [
    "data_post_2Hz_reci = data[(data['Ptl_note']=='E_i_postsynapti_low')&(data['Reci']==1)]\n",
    "data_post_2Hz_uni = data[(data['Ptl_note']=='E_i_postsynapti_low')&(data['Reci']==0)]"
   ]
  },
  {
   "cell_type": "code",
   "execution_count": 6,
   "metadata": {
    "collapsed": false,
    "deletable": true,
    "editable": true
   },
   "outputs": [
    {
     "data": {
      "text/html": [
       "<div>\n",
       "<table border=\"1\" class=\"dataframe\">\n",
       "  <thead>\n",
       "    <tr style=\"text-align: right;\">\n",
       "      <th></th>\n",
       "      <th>File name</th>\n",
       "      <th>Age</th>\n",
       "      <th>Pip number</th>\n",
       "      <th>E-I</th>\n",
       "      <th>Reci</th>\n",
       "      <th>Artifact</th>\n",
       "      <th>IS100</th>\n",
       "      <th>Trial number before</th>\n",
       "      <th>Trial number after</th>\n",
       "      <th>Protocol</th>\n",
       "      <th>Elimi</th>\n",
       "      <th>Notes</th>\n",
       "      <th>Ptl_note</th>\n",
       "    </tr>\n",
       "  </thead>\n",
       "  <tbody>\n",
       "    <tr>\n",
       "      <th>121</th>\n",
       "      <td>2017081802</td>\n",
       "      <td>30</td>\n",
       "      <td>2</td>\n",
       "      <td>1</td>\n",
       "      <td>1</td>\n",
       "      <td>0</td>\n",
       "      <td>1</td>\n",
       "      <td>24</td>\n",
       "      <td>26,27,28,29</td>\n",
       "      <td>16</td>\n",
       "      <td>0</td>\n",
       "      <td>ltd</td>\n",
       "      <td>E_i_postsynapti_low</td>\n",
       "    </tr>\n",
       "    <tr>\n",
       "      <th>122</th>\n",
       "      <td>2017082302</td>\n",
       "      <td>22</td>\n",
       "      <td>2</td>\n",
       "      <td>1</td>\n",
       "      <td>1</td>\n",
       "      <td>0</td>\n",
       "      <td>1</td>\n",
       "      <td>5</td>\n",
       "      <td>7,8,9</td>\n",
       "      <td>16</td>\n",
       "      <td>0</td>\n",
       "      <td>ltd</td>\n",
       "      <td>E_i_postsynapti_low</td>\n",
       "    </tr>\n",
       "    <tr>\n",
       "      <th>123</th>\n",
       "      <td>2017082304</td>\n",
       "      <td>22</td>\n",
       "      <td>1</td>\n",
       "      <td>1</td>\n",
       "      <td>1</td>\n",
       "      <td>0</td>\n",
       "      <td>1</td>\n",
       "      <td>12,13</td>\n",
       "      <td>15,16</td>\n",
       "      <td>16</td>\n",
       "      <td>0</td>\n",
       "      <td>Ltd</td>\n",
       "      <td>E_i_postsynapti_low</td>\n",
       "    </tr>\n",
       "    <tr>\n",
       "      <th>124</th>\n",
       "      <td>2017082402</td>\n",
       "      <td>23</td>\n",
       "      <td>2</td>\n",
       "      <td>1</td>\n",
       "      <td>1</td>\n",
       "      <td>0</td>\n",
       "      <td>1</td>\n",
       "      <td>26, 27</td>\n",
       "      <td>29, 30, 31, 32</td>\n",
       "      <td>16</td>\n",
       "      <td>0</td>\n",
       "      <td>Ltd</td>\n",
       "      <td>E_i_postsynapti_low</td>\n",
       "    </tr>\n",
       "    <tr>\n",
       "      <th>125</th>\n",
       "      <td>2017083001</td>\n",
       "      <td>29</td>\n",
       "      <td>2</td>\n",
       "      <td>1</td>\n",
       "      <td>1</td>\n",
       "      <td>0</td>\n",
       "      <td>1</td>\n",
       "      <td>6</td>\n",
       "      <td>8,9,10</td>\n",
       "      <td>16</td>\n",
       "      <td>0</td>\n",
       "      <td>ltd</td>\n",
       "      <td>E_i_postsynapti_low</td>\n",
       "    </tr>\n",
       "    <tr>\n",
       "      <th>126</th>\n",
       "      <td>2017083101</td>\n",
       "      <td>30</td>\n",
       "      <td>2</td>\n",
       "      <td>1</td>\n",
       "      <td>1</td>\n",
       "      <td>0</td>\n",
       "      <td>1</td>\n",
       "      <td>64,65</td>\n",
       "      <td>69,70,71,72</td>\n",
       "      <td>16</td>\n",
       "      <td>0</td>\n",
       "      <td>ltd</td>\n",
       "      <td>E_i_postsynapti_low</td>\n",
       "    </tr>\n",
       "  </tbody>\n",
       "</table>\n",
       "</div>"
      ],
      "text/plain": [
       "      File name  Age  Pip number  E-I  Reci  Artifact  IS100  \\\n",
       "121  2017081802   30           2    1     1         0      1   \n",
       "122  2017082302   22           2    1     1         0      1   \n",
       "123  2017082304   22           1    1     1         0      1   \n",
       "124  2017082402   23           2    1     1         0      1   \n",
       "125  2017083001   29           2    1     1         0      1   \n",
       "126  2017083101   30           2    1     1         0      1   \n",
       "\n",
       "    Trial number before Trial number after  Protocol  Elimi Notes  \\\n",
       "121                  24        26,27,28,29        16      0   ltd   \n",
       "122                   5              7,8,9        16      0   ltd   \n",
       "123               12,13              15,16        16      0   Ltd   \n",
       "124              26, 27     29, 30, 31, 32        16      0   Ltd   \n",
       "125                   6             8,9,10        16      0   ltd   \n",
       "126               64,65        69,70,71,72        16      0   ltd   \n",
       "\n",
       "                Ptl_note  \n",
       "121  E_i_postsynapti_low  \n",
       "122  E_i_postsynapti_low  \n",
       "123  E_i_postsynapti_low  \n",
       "124  E_i_postsynapti_low  \n",
       "125  E_i_postsynapti_low  \n",
       "126  E_i_postsynapti_low  "
      ]
     },
     "execution_count": 6,
     "metadata": {},
     "output_type": "execute_result"
    }
   ],
   "source": [
    "data_post_2Hz_reci"
   ]
  },
  {
   "cell_type": "code",
   "execution_count": 8,
   "metadata": {
    "collapsed": false,
    "deletable": true,
    "editable": true
   },
   "outputs": [],
   "source": [
    "# # # Process all the before trial\n",
    "# # isi=1   # Use only the 100 ms\n",
    "# # trial_output = {}\n",
    "\n",
    "# # data_tmp = data_post_2Hz_reci\n",
    "# for j in range(len(data_pre_2Hz_reci)):\n",
    "#     test_name = str(int(data_tmp['File name'].iloc[j]))\n",
    "#     if len(test_name)==12:\n",
    "#         test_name = test_name[:-2]\n",
    "#     test_name = 'test'+ test_name\n",
    "#     test_data = sio.loadmat(test_name)\n",
    "#     test_pip = data_tmp.iloc[j]['Pip number']\n",
    "#     test_trace_idx_bef = data_tmp.iloc[j]['Trial number before']\n",
    "#     test_trace_idx_aft = data_tmp.iloc[j]['Trial number after']\n",
    "#     ifartifact = data_tmp.iloc[j]['Artifact']\n",
    "#     isi = data_tmp.iloc[j]['IS100']\n",
    "#     bef_index = [int(s)-1 for s in str.split(test_trace_idx_bef, ',')]\n",
    "#     aft_index = [int(s)-1 for s in str.split(test_trace_idx_aft, ',')]\n",
    "#     trial_output[data_tmp['File name'].iloc[j].astype(str)]= patch_pip.bef_aft_ana(trial=test_data['test'][0], bef_index=bef_index, aft_index=aft_index, test_pip=test_pip, isi=isi, ifartifact=ifartifact, ave_len=3,  iffigure=0)\n",
    "\n",
    "# # post_2Hz_reci = pd.DataFrame(trial_output, index=['Before', 'After']).transpose()\n",
    "# # post_2Hz_reci.to_pickle('post_2Hz_reci')"
   ]
  },
  {
   "cell_type": "code",
   "execution_count": 9,
   "metadata": {
    "collapsed": false,
    "deletable": true,
    "editable": true
   },
   "outputs": [],
   "source": [
    "post_2Hz_reci = pd.read_pickle('post_2Hz_reci')"
   ]
  },
  {
   "cell_type": "code",
   "execution_count": 10,
   "metadata": {
    "collapsed": false,
    "deletable": true,
    "editable": true
   },
   "outputs": [
    {
     "data": {
      "text/plain": [
       "<matplotlib.figure.Figure at 0x7fb8e3079748>"
      ]
     },
     "metadata": {},
     "output_type": "display_data"
    },
    {
     "name": "stderr",
     "output_type": "stream",
     "text": [
      "/usr/local/lib/python3.5/dist-packages/matplotlib/font_manager.py:1297: UserWarning: findfont: Font family ['sans-serif'] not found. Falling back to DejaVu Sans\n",
      "  (prop.get_family(), self.defaultFamily[fontext]))\n"
     ]
    },
    {
     "data": {
      "image/png": "[encoded data removed]",
      "text/plain": [
       "<matplotlib.figure.Figure at 0x7fb8e3079e80>"
      ]
     },
     "metadata": {},
     "output_type": "display_data"
    },
    {
     "data": {
      "text/plain": [
       "<matplotlib.figure.Figure at 0x7fb8e2f5b5f8>"
      ]
     },
     "metadata": {},
     "output_type": "display_data"
    },
    {
     "data": {
      "image/png": "[encoded data removed]",
      "text/plain": [
       "<matplotlib.figure.Figure at 0x7fb8e2f53eb8>"
      ]
     },
     "metadata": {},
     "output_type": "display_data"
    },
    {
     "data": {
      "text/plain": [
       "<matplotlib.figure.Figure at 0x7fb8e2f35898>"
      ]
     },
     "metadata": {},
     "output_type": "display_data"
    },
    {
     "data": {
      "image/png": "[encoded data removed]",
      "text/plain": [
       "<matplotlib.figure.Figure at 0x7fb8e2f30668>"
      ]
     },
     "metadata": {},
     "output_type": "display_data"
    },
    {
     "data": {
      "text/plain": [
       "<matplotlib.figure.Figure at 0x7fb8e2e35588>"
      ]
     },
     "metadata": {},
     "output_type": "display_data"
    },
    {
     "data": {
      "image/png": "[encoded data removed]",
      "text/plain": [
       "<matplotlib.figure.Figure at 0x7fb8e2e35ac8>"
      ]
     },
     "metadata": {},
     "output_type": "display_data"
    },
    {
     "data": {
      "text/plain": [
       "<matplotlib.figure.Figure at 0x7fb8e2d463c8>"
      ]
     },
     "metadata": {},
     "output_type": "display_data"
    },
    {
     "data": {
      "image/png": "[encoded data removed]",
      "text/plain": [
       "<matplotlib.figure.Figure at 0x7fb8e2d46cf8>"
      ]
     },
     "metadata": {},
     "output_type": "display_data"
    },
    {
     "data": {
      "text/plain": [
       "<matplotlib.figure.Figure at 0x7fb8e2c828d0>"
      ]
     },
     "metadata": {},
     "output_type": "display_data"
    },
    {
     "data": {
      "image/png": "[encoded data removed]",
      "text/plain": [
       "<matplotlib.figure.Figure at 0x7fb8e2c88240>"
      ]
     },
     "metadata": {},
     "output_type": "display_data"
    }
   ],
   "source": [
    "data_ana = post_2Hz_reci\n",
    "ave_ptl_resp = np.zeros((len(post_2Hz_reci), 60))\n",
    "\n",
    "for i in range(len(post_2Hz_reci)):\n",
    "    bef_amp1 = data_ana.iloc[i]['Before']['ave_amp1'][-5:]\n",
    "    aft_amp1 = data_ana.iloc[i]['After']['ave_amp1']\n",
    "    bef_amp2 = data_ana.iloc[i]['Before']['ave_amp2'][-5:]\n",
    "    aft_amp2 = data_ana.iloc[i]['After']['ave_amp2']\n",
    "    bef_rs = data_ana.iloc[i]['Before']['rs'][-5:]\n",
    "    aft_rs = data_ana.iloc[i]['After']['rs']\n",
    "    bef_ir = data_ana.iloc[i]['Before']['ir'][-5:]\n",
    "    aft_ir = data_ana.iloc[i]['After']['ir']\n",
    "    rs_joint= np.concatenate([bef_rs, np.ones((3,1))*np.nan, aft_rs])\n",
    "    ir_joint= np.concatenate([bef_ir, np.ones((3,1))*np.nan, aft_ir])\n",
    "    resp1_joint= np.concatenate([bef_amp1, np.ones((3,1))*np.nan, aft_amp1])\n",
    "    resp2_joint = np.concatenate([bef_amp2, np.ones((3,1))*np.nan, aft_amp2])\n",
    "    ave_ptl_resp[i,:5] = bef_amp1[-5:].reshape(1,-1)\n",
    "    end_trace = np.min((48, len(aft_amp1)))\n",
    "    ave_ptl_resp[i,12:12+end_trace] = aft_amp1[:end_trace].reshape(1,-1)\n",
    "    plt.figure()\n",
    "    fig, ax = plt.subplots(2,1)\n",
    "    ax[0].plot(resp1_joint, 'o', label='Resp 1')\n",
    "    ax[0].plot(resp2_joint, 'o', label='Resp 2')\n",
    "    ax[0].legend(loc='upper right')\n",
    "    ax[1].plot(rs_joint, 'o', label='Rs')\n",
    "    ax[1].plot(ir_joint, 'o', label='Rin')\n",
    "    ax[1].legend(loc='upper right')\n",
    "    \n",
    "ave_ptl_mean = np.nanmean(ave_ptl_resp, axis=0)\n",
    "ave_ptl_ste = np.nanstd(ave_ptl_resp, axis=0)/np.sqrt(i)"
   ]
  },
  {
   "cell_type": "code",
   "execution_count": 11,
   "metadata": {
    "collapsed": false,
    "deletable": true,
    "editable": true
   },
   "outputs": [
    {
     "data": {
      "text/plain": [
       "<Container object of 3 artists>"
      ]
     },
     "execution_count": 11,
     "metadata": {},
     "output_type": "execute_result"
    },
    {
     "name": "stderr",
     "output_type": "stream",
     "text": [
      "/usr/local/lib/python3.5/dist-packages/matplotlib/font_manager.py:1297: UserWarning: findfont: Font family ['sans-serif'] not found. Falling back to DejaVu Sans\n",
      "  (prop.get_family(), self.defaultFamily[fontext]))\n"
     ]
    },
    {
     "data": {
      "image/png": "[encoded data removed]",
      "text/plain": [
       "<matplotlib.figure.Figure at 0x7fb8e306a9b0>"
      ]
     },
     "metadata": {},
     "output_type": "display_data"
    }
   ],
   "source": [
    "plt.errorbar(x=np.arange(len(ave_ptl_mean)), y=ave_ptl_mean, yerr=ave_ptl_ste, fmt='bo')"
   ]
  },
  {
   "cell_type": "code",
   "execution_count": 17,
   "metadata": {
    "collapsed": false,
    "deletable": true,
    "editable": true
   },
   "outputs": [],
   "source": [
    "elimi = np.array([60,55,45,60, 45,40])\n",
    "# elimi_sr = pd.Series(elimi, index=post_2Hz_reci.index)\n",
    "# post_2Hz_reci['elimi']=elimi_sr\n",
    "# post_2Hz_reci.to_pickle('post_2Hz_reci')"
   ]
  },
  {
   "cell_type": "markdown",
   "metadata": {
    "collapsed": true,
    "deletable": true,
    "editable": true
   },
   "source": [
    "Obtain the change of PPR before and after the pairing"
   ]
  },
  {
   "cell_type": "code",
   "execution_count": 92,
   "metadata": {
    "collapsed": false,
    "deletable": true,
    "editable": true
   },
   "outputs": [
    {
     "name": "stderr",
     "output_type": "stream",
     "text": [
      "/usr/local/lib/python3.5/dist-packages/matplotlib/font_manager.py:1297: UserWarning: findfont: Font family ['sans-serif'] not found. Falling back to DejaVu Sans\n",
      "  (prop.get_family(), self.defaultFamily[fontext]))\n"
     ]
    },
    {
     "data": {
      "image/png": "[encoded data removed]",
      "text/plain": [
       "<matplotlib.figure.Figure at 0x7fb8e07d6ef0>"
      ]
     },
     "metadata": {},
     "output_type": "display_data"
    }
   ],
   "source": [
    "for i in range(len(post_2Hz_reci)):\n",
    "    bef_PPR_mean = np.nanmean(post_2Hz_reci.iloc[i]['Before']['PPR'][-5:])\n",
    "    bef_PPR_std = np.nanstd(post_2Hz_reci.iloc[i]['Before']['PPR'][-5:])/np.sqrt(5)\n",
    "    post_end = post_2Hz_reci.iloc[i]['elimi'] - 8\n",
    "    aft_PPR_mean = np.nanmean(post_2Hz_reci.iloc[i]['After']['PPR'][post_end-10:post_end])\n",
    "    aft_PPR_std = np.nanstd(post_2Hz_reci.iloc[i]['After']['PPR'][post_end-10:post_end])/np.sqrt(10)\n",
    "    plt.errorbar(x = [1,2], y=[bef_PPR_mean, aft_PPR_mean], yerr=[bef_PPR_std, aft_PPR_std])"
   ]
  },
  {
   "cell_type": "code",
   "execution_count": 106,
   "metadata": {
    "collapsed": false
   },
   "outputs": [
    {
     "name": "stderr",
     "output_type": "stream",
     "text": [
      "/usr/local/lib/python3.5/dist-packages/matplotlib/font_manager.py:1297: UserWarning: findfont: Font family ['sans-serif'] not found. Falling back to DejaVu Sans\n",
      "  (prop.get_family(), self.defaultFamily[fontext]))\n"
     ]
    },
    {
     "data": {
      "image/png": "[encoded data removed]",
      "text/plain": [
       "<matplotlib.figure.Figure at 0x7fb8e2f87f98>"
      ]
     },
     "metadata": {},
     "output_type": "display_data"
    }
   ],
   "source": [
    "for i in range(len(post_2Hz_reci)):\n",
    "    bef_PPR_mean = np.nanmean(post_2Hz_reci.iloc[i]['Before']['PPR'][-5:])\n",
    "    bef_PPR_std = np.nanstd(post_2Hz_reci.iloc[i]['Before']['PPR'][-5:])\n",
    "    bef_PPR_cv = 1 / np.square(bef_PPR_mean / bef_PPR_std)\n",
    "    post_end = post_2Hz_reci.iloc[i]['elimi'] - 8\n",
    "    aft_PPR_mean = np.nanmean(post_2Hz_reci.iloc[i]['After']['PPR'][post_end-10:post_end])\n",
    "    aft_PPR_std = np.nanstd(post_2Hz_reci.iloc[i]['After']['PPR'][post_end-10:post_end])\n",
    "    aft_PPR_cv = 1 / np.square(aft_PPR_mean / aft_PPR_std)\n",
    "    norm_1_cv2 = \n",
    "    plt.plot(bef_PPR_cv, aft_PPR_cv, 'o')\n",
    "    plt.plot()\n",
    "    \n"
   ]
  },
  {
   "cell_type": "code",
   "execution_count": 98,
   "metadata": {
    "collapsed": false
   },
   "outputs": [
    {
     "data": {
      "text/plain": [
       "2.9590618028225015"
      ]
     },
     "execution_count": 98,
     "metadata": {},
     "output_type": "execute_result"
    }
   ],
   "source": [
    "bef_PPR_cv"
   ]
  },
  {
   "cell_type": "code",
   "execution_count": null,
   "metadata": {
    "collapsed": true
   },
   "outputs": [],
   "source": []
  }
 ],
 "metadata": {
  "kernelspec": {
   "display_name": "Python 3",
   "language": "python",
   "name": "python3"
  },
  "language_info": {
   "codemirror_mode": {
    "name": "ipython",
    "version": 3
   },
   "file_extension": ".py",
   "mimetype": "text/x-python",
   "name": "python",
   "nbconvert_exporter": "python",
   "pygments_lexer": "ipython3",
   "version": "3.5.2"
  }
 },
 "nbformat": 4,
 "nbformat_minor": 2
}
