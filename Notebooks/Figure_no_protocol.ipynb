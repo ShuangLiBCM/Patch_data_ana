{
 "cells": [
  {
   "cell_type": "code",
   "execution_count": 1,
   "metadata": {
    "collapsed": false,
    "deletable": true,
    "editable": true
   },
   "outputs": [],
   "source": [
    "import numpy as np\n",
    "import pandas as pd\n",
    "import scipy.io as sio\n",
    "import matplotlib.pyplot as plt\n",
    "from scipy.optimize import curve_fit\n",
    "import pdb\n",
    "from Patch_ana import patch_pip\n",
    "import seaborn as sns\n",
    "from matplotlib.backends.backend_pdf import PdfPages\n",
    "plt.style.use('classic')\n",
    "\n",
    "% matplotlib inline\n",
    "%load_ext autoreload\n",
    "% autoreload"
   ]
  },
  {
   "cell_type": "code",
   "execution_count": 2,
   "metadata": {
    "collapsed": false,
    "deletable": true,
    "editable": true
   },
   "outputs": [
    {
     "data": {
      "text/html": [
       "<div>\n",
       "<table border=\"1\" class=\"dataframe\">\n",
       "  <thead>\n",
       "    <tr style=\"text-align: right;\">\n",
       "      <th></th>\n",
       "      <th>File name</th>\n",
       "      <th>Age</th>\n",
       "      <th>Pip number</th>\n",
       "      <th>E-I</th>\n",
       "      <th>Reci</th>\n",
       "      <th>Artifact</th>\n",
       "      <th>IS100</th>\n",
       "      <th>Trial number before</th>\n",
       "      <th>Trial number after</th>\n",
       "      <th>Protocol</th>\n",
       "      <th>Elimi</th>\n",
       "      <th>Notes</th>\n",
       "      <th>Ptl_note</th>\n",
       "    </tr>\n",
       "  </thead>\n",
       "  <tbody>\n",
       "    <tr>\n",
       "      <th>0</th>\n",
       "      <td>2016072704</td>\n",
       "      <td>27</td>\n",
       "      <td>3</td>\n",
       "      <td>0</td>\n",
       "      <td>0</td>\n",
       "      <td>0</td>\n",
       "      <td>1</td>\n",
       "      <td>26,27,28,29</td>\n",
       "      <td>31,32,33,34,35</td>\n",
       "      <td>1</td>\n",
       "      <td>0</td>\n",
       "      <td>NaN</td>\n",
       "      <td>50Hz IE preonly</td>\n",
       "    </tr>\n",
       "    <tr>\n",
       "      <th>1</th>\n",
       "      <td>2017021501</td>\n",
       "      <td>30</td>\n",
       "      <td>3</td>\n",
       "      <td>0</td>\n",
       "      <td>0</td>\n",
       "      <td>0</td>\n",
       "      <td>2</td>\n",
       "      <td>12,13</td>\n",
       "      <td>16,17</td>\n",
       "      <td>1</td>\n",
       "      <td>0</td>\n",
       "      <td>NaN</td>\n",
       "      <td>50Hz IE preonly</td>\n",
       "    </tr>\n",
       "    <tr>\n",
       "      <th>2</th>\n",
       "      <td>2016091403</td>\n",
       "      <td>30</td>\n",
       "      <td>2</td>\n",
       "      <td>0</td>\n",
       "      <td>0</td>\n",
       "      <td>0</td>\n",
       "      <td>1</td>\n",
       "      <td>14,15</td>\n",
       "      <td>17,18</td>\n",
       "      <td>1</td>\n",
       "      <td>1</td>\n",
       "      <td>NaN</td>\n",
       "      <td>50Hz IE preonly</td>\n",
       "    </tr>\n",
       "    <tr>\n",
       "      <th>3</th>\n",
       "      <td>2017062202</td>\n",
       "      <td>24</td>\n",
       "      <td>1</td>\n",
       "      <td>0</td>\n",
       "      <td>0</td>\n",
       "      <td>0</td>\n",
       "      <td>1</td>\n",
       "      <td>30,31,32</td>\n",
       "      <td>34,35</td>\n",
       "      <td>1</td>\n",
       "      <td>0</td>\n",
       "      <td>No change, good data</td>\n",
       "      <td>50Hz IE preonly</td>\n",
       "    </tr>\n",
       "    <tr>\n",
       "      <th>4</th>\n",
       "      <td>2016072902</td>\n",
       "      <td>29</td>\n",
       "      <td>1</td>\n",
       "      <td>0</td>\n",
       "      <td>1</td>\n",
       "      <td>0</td>\n",
       "      <td>0</td>\n",
       "      <td>43</td>\n",
       "      <td>45,46,47,48,49</td>\n",
       "      <td>1</td>\n",
       "      <td>0</td>\n",
       "      <td>NaN</td>\n",
       "      <td>50Hz IE preonly</td>\n",
       "    </tr>\n",
       "  </tbody>\n",
       "</table>\n",
       "</div>"
      ],
      "text/plain": [
       "    File name  Age  Pip number  E-I  Reci  Artifact  IS100  \\\n",
       "0  2016072704   27           3    0     0         0      1   \n",
       "1  2017021501   30           3    0     0         0      2   \n",
       "2  2016091403   30           2    0     0         0      1   \n",
       "3  2017062202   24           1    0     0         0      1   \n",
       "4  2016072902   29           1    0     1         0      0   \n",
       "\n",
       "  Trial number before Trial number after  Protocol  Elimi  \\\n",
       "0         26,27,28,29     31,32,33,34,35         1      0   \n",
       "1               12,13              16,17         1      0   \n",
       "2               14,15              17,18         1      1   \n",
       "3            30,31,32              34,35         1      0   \n",
       "4                  43     45,46,47,48,49         1      0   \n",
       "\n",
       "                  Notes         Ptl_note  \n",
       "0                   NaN  50Hz IE preonly  \n",
       "1                   NaN  50Hz IE preonly  \n",
       "2                   NaN  50Hz IE preonly  \n",
       "3  No change, good data  50Hz IE preonly  \n",
       "4                   NaN  50Hz IE preonly  "
      ]
     },
     "execution_count": 2,
     "metadata": {},
     "output_type": "execute_result"
    }
   ],
   "source": [
    "data= pd.read_csv('/data/Good data storage.csv')\n",
    "data.head()"
   ]
  },
  {
   "cell_type": "code",
   "execution_count": 3,
   "metadata": {
    "collapsed": false,
    "deletable": true,
    "editable": true
   },
   "outputs": [],
   "source": [
    "data_np = data[(data['Ptl_note']=='No ptl')]"
   ]
  },
  {
   "cell_type": "code",
   "execution_count": 4,
   "metadata": {
    "collapsed": false,
    "deletable": true,
    "editable": true
   },
   "outputs": [
    {
     "name": "stderr",
     "output_type": "stream",
     "text": [
      "/usr/local/lib/python3.5/dist-packages/ipykernel/__main__.py:1: SettingWithCopyWarning: \n",
      "A value is trying to be set on a copy of a slice from a DataFrame\n",
      "\n",
      "See the caveats in the documentation: http://pandas.pydata.org/pandas-docs/stable/indexing.html#indexing-view-versus-copy\n",
      "  if __name__ == '__main__':\n",
      "/usr/local/lib/python3.5/dist-packages/ipykernel/__main__.py:2: SettingWithCopyWarning: \n",
      "A value is trying to be set on a copy of a slice from a DataFrame\n",
      "\n",
      "See the caveats in the documentation: http://pandas.pydata.org/pandas-docs/stable/indexing.html#indexing-view-versus-copy\n",
      "  from ipykernel import kernelapp as app\n"
     ]
    }
   ],
   "source": [
    "data_np.drop(114, axis=0, inplace=True)\n",
    "data_np.drop(116, axis=0, inplace=True)"
   ]
  },
  {
   "cell_type": "code",
   "execution_count": 5,
   "metadata": {
    "collapsed": false,
    "deletable": true,
    "editable": true
   },
   "outputs": [
    {
     "data": {
      "text/html": [
       "<div>\n",
       "<table border=\"1\" class=\"dataframe\">\n",
       "  <thead>\n",
       "    <tr style=\"text-align: right;\">\n",
       "      <th></th>\n",
       "      <th>File name</th>\n",
       "      <th>Age</th>\n",
       "      <th>Pip number</th>\n",
       "      <th>E-I</th>\n",
       "      <th>Reci</th>\n",
       "      <th>Artifact</th>\n",
       "      <th>IS100</th>\n",
       "      <th>Trial number before</th>\n",
       "      <th>Trial number after</th>\n",
       "      <th>Protocol</th>\n",
       "      <th>Elimi</th>\n",
       "      <th>Notes</th>\n",
       "      <th>Ptl_note</th>\n",
       "    </tr>\n",
       "  </thead>\n",
       "  <tbody>\n",
       "    <tr>\n",
       "      <th>115</th>\n",
       "      <td>2017072403</td>\n",
       "      <td>34</td>\n",
       "      <td>2</td>\n",
       "      <td>1</td>\n",
       "      <td>1</td>\n",
       "      <td>0</td>\n",
       "      <td>1</td>\n",
       "      <td>4,3</td>\n",
       "      <td>4,3</td>\n",
       "      <td>15</td>\n",
       "      <td>0</td>\n",
       "      <td>No Run down for 40 minutes</td>\n",
       "      <td>No ptl</td>\n",
       "    </tr>\n",
       "    <tr>\n",
       "      <th>117</th>\n",
       "      <td>2017072503</td>\n",
       "      <td>35</td>\n",
       "      <td>2</td>\n",
       "      <td>1</td>\n",
       "      <td>1</td>\n",
       "      <td>0</td>\n",
       "      <td>1</td>\n",
       "      <td>10,11,12,13</td>\n",
       "      <td>10,11,12,13</td>\n",
       "      <td>15</td>\n",
       "      <td>0</td>\n",
       "      <td>Run down  initial 20 minutes</td>\n",
       "      <td>No ptl</td>\n",
       "    </tr>\n",
       "    <tr>\n",
       "      <th>118</th>\n",
       "      <td>2017072503</td>\n",
       "      <td>35</td>\n",
       "      <td>2</td>\n",
       "      <td>1</td>\n",
       "      <td>1</td>\n",
       "      <td>0</td>\n",
       "      <td>1</td>\n",
       "      <td>3,4</td>\n",
       "      <td>3,4</td>\n",
       "      <td>15</td>\n",
       "      <td>0</td>\n",
       "      <td>No rundown for 30 minutes</td>\n",
       "      <td>No ptl</td>\n",
       "    </tr>\n",
       "    <tr>\n",
       "      <th>119</th>\n",
       "      <td>2017072802</td>\n",
       "      <td>22</td>\n",
       "      <td>1</td>\n",
       "      <td>1</td>\n",
       "      <td>0</td>\n",
       "      <td>0</td>\n",
       "      <td>1</td>\n",
       "      <td>6</td>\n",
       "      <td>6</td>\n",
       "      <td>15</td>\n",
       "      <td>0</td>\n",
       "      <td>No rundown for 40 minutes</td>\n",
       "      <td>No ptl</td>\n",
       "    </tr>\n",
       "    <tr>\n",
       "      <th>120</th>\n",
       "      <td>2017081801</td>\n",
       "      <td>30</td>\n",
       "      <td>2</td>\n",
       "      <td>0</td>\n",
       "      <td>0</td>\n",
       "      <td>0</td>\n",
       "      <td>1</td>\n",
       "      <td>7,8</td>\n",
       "      <td>7,8</td>\n",
       "      <td>15</td>\n",
       "      <td>0</td>\n",
       "      <td>No rundown for 60 minutes</td>\n",
       "      <td>No ptl</td>\n",
       "    </tr>\n",
       "  </tbody>\n",
       "</table>\n",
       "</div>"
      ],
      "text/plain": [
       "      File name  Age  Pip number  E-I  Reci  Artifact  IS100  \\\n",
       "115  2017072403   34           2    1     1         0      1   \n",
       "117  2017072503   35           2    1     1         0      1   \n",
       "118  2017072503   35           2    1     1         0      1   \n",
       "119  2017072802   22           1    1     0         0      1   \n",
       "120  2017081801   30           2    0     0         0      1   \n",
       "\n",
       "    Trial number before Trial number after  Protocol  Elimi  \\\n",
       "115                 4,3                4,3        15      0   \n",
       "117         10,11,12,13        10,11,12,13        15      0   \n",
       "118                 3,4                3,4        15      0   \n",
       "119                   6                  6        15      0   \n",
       "120                 7,8                7,8        15      0   \n",
       "\n",
       "                            Notes Ptl_note  \n",
       "115    No Run down for 40 minutes   No ptl  \n",
       "117  Run down  initial 20 minutes   No ptl  \n",
       "118     No rundown for 30 minutes   No ptl  \n",
       "119     No rundown for 40 minutes   No ptl  \n",
       "120     No rundown for 60 minutes   No ptl  "
      ]
     },
     "execution_count": 5,
     "metadata": {},
     "output_type": "execute_result"
    }
   ],
   "source": [
    "data_np"
   ]
  },
  {
   "cell_type": "code",
   "execution_count": 6,
   "metadata": {
    "collapsed": false,
    "deletable": true,
    "editable": true
   },
   "outputs": [
    {
     "data": {
      "text/plain": [
       "<matplotlib.figure.Figure at 0x7fdd4fd05cf8>"
      ]
     },
     "metadata": {},
     "output_type": "display_data"
    },
    {
     "data": {
      "image/png": "[encoded data removed]",
      "text/plain": [
       "<matplotlib.figure.Figure at 0x7fdd4855bb00>"
      ]
     },
     "metadata": {},
     "output_type": "display_data"
    },
    {
     "data": {
      "text/plain": [
       "<matplotlib.figure.Figure at 0x7fdd4f9a07b8>"
      ]
     },
     "metadata": {},
     "output_type": "display_data"
    },
    {
     "data": {
      "image/png": "[encoded data removed]",
      "text/plain": [
       "<matplotlib.figure.Figure at 0x7fdd4f9a02e8>"
      ]
     },
     "metadata": {},
     "output_type": "display_data"
    },
    {
     "data": {
      "text/plain": [
       "<matplotlib.figure.Figure at 0x7fdd4f952898>"
      ]
     },
     "metadata": {},
     "output_type": "display_data"
    },
    {
     "data": {
      "image/png": "[encoded data removed]",
      "text/plain": [
       "<matplotlib.figure.Figure at 0x7fdd4f952748>"
      ]
     },
     "metadata": {},
     "output_type": "display_data"
    },
    {
     "data": {
      "text/plain": [
       "<matplotlib.figure.Figure at 0x7fdd4f8b2f28>"
      ]
     },
     "metadata": {},
     "output_type": "display_data"
    },
    {
     "data": {
      "image/png": "[encoded data removed]",
      "text/plain": [
       "<matplotlib.figure.Figure at 0x7fdd4f8a8b70>"
      ]
     },
     "metadata": {},
     "output_type": "display_data"
    },
    {
     "data": {
      "text/plain": [
       "<matplotlib.figure.Figure at 0x7fdd4f7a9240>"
      ]
     },
     "metadata": {},
     "output_type": "display_data"
    },
    {
     "data": {
      "image/png": "[encoded data removed]",
      "text/plain": [
       "<matplotlib.figure.Figure at 0x7fdd4f7a9b70>"
      ]
     },
     "metadata": {},
     "output_type": "display_data"
    }
   ],
   "source": [
    "patch_pip.df_ana(data_np,'/data/data_no_protocol')\n",
    "data_no_ptl = pd.read_pickle('/data/data_no_protocol')\n",
    "ave_ptl_mean, ave_ptl_ste = patch_pip.sample_plot(data_no_ptl)"
   ]
  },
  {
   "cell_type": "code",
   "execution_count": 7,
   "metadata": {
    "collapsed": false,
    "deletable": true,
    "editable": true
   },
   "outputs": [],
   "source": [
    "ave_ptl_base = np.mean(ave_ptl_mean[:5])\n",
    "ave_ptl_mean = ave_ptl_mean/ave_ptl_base\n",
    "ave_ptl_ste = ave_ptl_ste/ave_ptl_base\n",
    "\n",
    "plt_ave_ptl_mean = np.concatenate([ave_ptl_mean[:5],ave_ptl_mean[12:]])\n",
    "plt_ave_ptl_ste = np.concatenate([ave_ptl_ste[:5],ave_ptl_ste[12:]])"
   ]
  },
  {
   "cell_type": "code",
   "execution_count": 8,
   "metadata": {
    "collapsed": false,
    "deletable": true,
    "editable": true
   },
   "outputs": [
    {
     "data": {
      "image/png": "[encoded data removed]",
      "text/plain": [
       "<matplotlib.figure.Figure at 0x7fdd4f5aea90>"
      ]
     },
     "metadata": {},
     "output_type": "display_data"
    }
   ],
   "source": [
    "plt.errorbar(x=np.arange(len(plt_ave_ptl_mean[:42])), y=plt_ave_ptl_mean[:42], yerr=plt_ave_ptl_ste[:42], fmt='bo')\n",
    "plt.plot(np.arange(45), np.ones(45))\n",
    "plt.ylim([0,1.8])\n",
    "\n",
    "with PdfPages('/data/Supp1_1.pdf') as pdf:\n",
    "    pdf.savefig()"
   ]
  },
  {
   "cell_type": "code",
   "execution_count": 11,
   "metadata": {
    "collapsed": false,
    "deletable": true,
    "editable": true
   },
   "outputs": [],
   "source": [
    "elimi = np.array([25, 30, 18, 19, 50])\n",
    "elimi_sr = pd.Series(elimi, index=data_no_ptl.index)\n",
    "data_no_ptl['elimi']=elimi_sr"
   ]
  },
  {
   "cell_type": "code",
   "execution_count": 12,
   "metadata": {
    "collapsed": true,
    "deletable": true,
    "editable": true
   },
   "outputs": [],
   "source": [
    "data_no_ptl.to_pickle('/data/ana_no_ptl')"
   ]
  },
  {
   "cell_type": "code",
   "execution_count": null,
   "metadata": {
    "collapsed": true,
    "deletable": true,
    "editable": true
   },
   "outputs": [],
   "source": []
  }
 ],
 "metadata": {
  "kernelspec": {
   "display_name": "Python 3",
   "language": "python",
   "name": "python3"
  },
  "language_info": {
   "codemirror_mode": {
    "name": "ipython",
    "version": 3
   },
   "file_extension": ".py",
   "mimetype": "text/x-python",
   "name": "python",
   "nbconvert_exporter": "python",
   "pygments_lexer": "ipython3",
   "version": "3.5.2"
  }
 },
 "nbformat": 4,
 "nbformat_minor": 2
}
