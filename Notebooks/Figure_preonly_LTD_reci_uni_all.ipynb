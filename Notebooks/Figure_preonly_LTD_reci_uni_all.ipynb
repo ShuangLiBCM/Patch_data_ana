{
 "cells": [
  {
   "cell_type": "code",
   "execution_count": 1,
   "metadata": {
    "collapsed": false,
    "deletable": true,
    "editable": true
   },
   "outputs": [],
   "source": [
    "import numpy as np\n",
    "import pandas as pd\n",
    "import scipy.io as sio\n",
    "import matplotlib.pyplot as plt\n",
    "from scipy.optimize import curve_fit\n",
    "import pdb\n",
    "from Patch_ana import patch_pip\n",
    "from matplotlib.backends.backend_pdf import PdfPages\n",
    "plt.style.use('classic')\n",
    "from scipy import stats\n",
    "\n",
    "% matplotlib inline\n",
    "%load_ext autoreload\n",
    "% autoreload 2"
   ]
  },
  {
   "cell_type": "code",
   "execution_count": 2,
   "metadata": {
    "collapsed": false,
    "deletable": true,
    "editable": true
   },
   "outputs": [],
   "source": [
    "pre_LTD50 = pd.read_pickle('/data/ana_pre_50Hz_reci')\n",
    "pre_LTD50_uni = pd.read_pickle('/data/ana_pre_50Hz_uni')"
   ]
  },
  {
   "cell_type": "code",
   "execution_count": 3,
   "metadata": {
    "collapsed": false,
    "deletable": true,
    "editable": true
   },
   "outputs": [
    {
     "data": {
      "text/html": [
       "<div>\n",
       "<table border=\"1\" class=\"dataframe\">\n",
       "  <thead>\n",
       "    <tr style=\"text-align: right;\">\n",
       "      <th></th>\n",
       "      <th>Before</th>\n",
       "      <th>After</th>\n",
       "      <th>File name</th>\n",
       "      <th>elimi</th>\n",
       "    </tr>\n",
       "  </thead>\n",
       "  <tbody>\n",
       "    <tr>\n",
       "      <th>9</th>\n",
       "      <td>{'ave_amp1': [[3.81395016054e-11], [2.18881247...</td>\n",
       "      <td>{'ave_amp1': [[5.16536342044e-11], [4.44583092...</td>\n",
       "      <td>2016081002</td>\n",
       "      <td>27</td>\n",
       "    </tr>\n",
       "    <tr>\n",
       "      <th>10</th>\n",
       "      <td>{'ave_amp1': [[3.973423254e-11], [3.5461769724...</td>\n",
       "      <td>{'ave_amp1': [[3.05870655347e-11], [1.47834230...</td>\n",
       "      <td>2016081703</td>\n",
       "      <td>40</td>\n",
       "    </tr>\n",
       "    <tr>\n",
       "      <th>11</th>\n",
       "      <td>{'ave_amp1': [[3.81395016054e-11], [2.18881247...</td>\n",
       "      <td>{'ave_amp1': [[5.16536342044e-11], [4.44583092...</td>\n",
       "      <td>2016081002</td>\n",
       "      <td>28</td>\n",
       "    </tr>\n",
       "    <tr>\n",
       "      <th>13</th>\n",
       "      <td>{'ave_amp1': [[5.40940986465e-11], [4.78685466...</td>\n",
       "      <td>{'ave_amp1': [[1.35991824808e-10], [1.25737633...</td>\n",
       "      <td>2016101201</td>\n",
       "      <td>17</td>\n",
       "    </tr>\n",
       "    <tr>\n",
       "      <th>19</th>\n",
       "      <td>{'ave_amp1': [[1.86808311285e-11], [1.05133954...</td>\n",
       "      <td>{'ave_amp1': [[1.62174888689e-11], [1.94306543...</td>\n",
       "      <td>2017053101</td>\n",
       "      <td>50</td>\n",
       "    </tr>\n",
       "    <tr>\n",
       "      <th>20</th>\n",
       "      <td>{'ave_amp1': [[1.10561546281e-11], [1.10572779...</td>\n",
       "      <td>{'ave_amp1': [[1.28559465131e-11], [7.06719010...</td>\n",
       "      <td>2017051501</td>\n",
       "      <td>22</td>\n",
       "    </tr>\n",
       "  </tbody>\n",
       "</table>\n",
       "</div>"
      ],
      "text/plain": [
       "                                               Before  \\\n",
       "9   {'ave_amp1': [[3.81395016054e-11], [2.18881247...   \n",
       "10  {'ave_amp1': [[3.973423254e-11], [3.5461769724...   \n",
       "11  {'ave_amp1': [[3.81395016054e-11], [2.18881247...   \n",
       "13  {'ave_amp1': [[5.40940986465e-11], [4.78685466...   \n",
       "19  {'ave_amp1': [[1.86808311285e-11], [1.05133954...   \n",
       "20  {'ave_amp1': [[1.10561546281e-11], [1.10572779...   \n",
       "\n",
       "                                                After   File name  elimi  \n",
       "9   {'ave_amp1': [[5.16536342044e-11], [4.44583092...  2016081002     27  \n",
       "10  {'ave_amp1': [[3.05870655347e-11], [1.47834230...  2016081703     40  \n",
       "11  {'ave_amp1': [[5.16536342044e-11], [4.44583092...  2016081002     28  \n",
       "13  {'ave_amp1': [[1.35991824808e-10], [1.25737633...  2016101201     17  \n",
       "19  {'ave_amp1': [[1.62174888689e-11], [1.94306543...  2017053101     50  \n",
       "20  {'ave_amp1': [[1.28559465131e-11], [7.06719010...  2017051501     22  "
      ]
     },
     "execution_count": 3,
     "metadata": {},
     "output_type": "execute_result"
    }
   ],
   "source": [
    "pre_LTD50_uni"
   ]
  },
  {
   "cell_type": "code",
   "execution_count": 4,
   "metadata": {
    "collapsed": false,
    "deletable": true,
    "editable": true
   },
   "outputs": [
    {
     "data": {
      "text/html": [
       "<div>\n",
       "<table border=\"1\" class=\"dataframe\">\n",
       "  <thead>\n",
       "    <tr style=\"text-align: right;\">\n",
       "      <th></th>\n",
       "      <th>Before</th>\n",
       "      <th>After</th>\n",
       "      <th>File name</th>\n",
       "      <th>elimi</th>\n",
       "    </tr>\n",
       "  </thead>\n",
       "  <tbody>\n",
       "    <tr>\n",
       "      <th>12</th>\n",
       "      <td>{'ave_amp1': [[1.40734837352e-11], [4.61177548...</td>\n",
       "      <td>{'ave_amp1': [[8.31744761095e-11], [8.08334420...</td>\n",
       "      <td>2016092903</td>\n",
       "      <td>20</td>\n",
       "    </tr>\n",
       "    <tr>\n",
       "      <th>14</th>\n",
       "      <td>{'ave_amp1': [[3.24286537795e-11], [1.76171132...</td>\n",
       "      <td>{'ave_amp1': [[2.34414125276e-11], [2.49853993...</td>\n",
       "      <td>2016091201</td>\n",
       "      <td>60</td>\n",
       "    </tr>\n",
       "    <tr>\n",
       "      <th>15</th>\n",
       "      <td>{'ave_amp1': [[8.56928709023e-11], [4.07338631...</td>\n",
       "      <td>{'ave_amp1': [[7.85167016647e-11], [4.29222178...</td>\n",
       "      <td>2016100201</td>\n",
       "      <td>35</td>\n",
       "    </tr>\n",
       "    <tr>\n",
       "      <th>16</th>\n",
       "      <td>{'ave_amp1': [[2.9042318897e-11], [2.901295372...</td>\n",
       "      <td>{'ave_amp1': [[8.9056415263e-11], [8.530605857...</td>\n",
       "      <td>2016100303</td>\n",
       "      <td>60</td>\n",
       "    </tr>\n",
       "    <tr>\n",
       "      <th>17</th>\n",
       "      <td>{'ave_amp1': [[3.89644770632e-11], [9.13854401...</td>\n",
       "      <td>{'ave_amp1': [[1.56467255183e-10], [1.29492245...</td>\n",
       "      <td>2016100304</td>\n",
       "      <td>50</td>\n",
       "    </tr>\n",
       "    <tr>\n",
       "      <th>18</th>\n",
       "      <td>{'ave_amp1': [[2.29278890042e-10], [2.19932816...</td>\n",
       "      <td>{'ave_amp1': [[1.49205020432e-10], [1.11578326...</td>\n",
       "      <td>2017021302</td>\n",
       "      <td>35</td>\n",
       "    </tr>\n",
       "  </tbody>\n",
       "</table>\n",
       "</div>"
      ],
      "text/plain": [
       "                                               Before  \\\n",
       "12  {'ave_amp1': [[1.40734837352e-11], [4.61177548...   \n",
       "14  {'ave_amp1': [[3.24286537795e-11], [1.76171132...   \n",
       "15  {'ave_amp1': [[8.56928709023e-11], [4.07338631...   \n",
       "16  {'ave_amp1': [[2.9042318897e-11], [2.901295372...   \n",
       "17  {'ave_amp1': [[3.89644770632e-11], [9.13854401...   \n",
       "18  {'ave_amp1': [[2.29278890042e-10], [2.19932816...   \n",
       "\n",
       "                                                After   File name  elimi  \n",
       "12  {'ave_amp1': [[8.31744761095e-11], [8.08334420...  2016092903     20  \n",
       "14  {'ave_amp1': [[2.34414125276e-11], [2.49853993...  2016091201     60  \n",
       "15  {'ave_amp1': [[7.85167016647e-11], [4.29222178...  2016100201     35  \n",
       "16  {'ave_amp1': [[8.9056415263e-11], [8.530605857...  2016100303     60  \n",
       "17  {'ave_amp1': [[1.56467255183e-10], [1.29492245...  2016100304     50  \n",
       "18  {'ave_amp1': [[1.49205020432e-10], [1.11578326...  2017021302     35  "
      ]
     },
     "execution_count": 4,
     "metadata": {},
     "output_type": "execute_result"
    }
   ],
   "source": [
    "pre_LTD50"
   ]
  },
  {
   "cell_type": "code",
   "execution_count": 5,
   "metadata": {
    "collapsed": false,
    "deletable": true,
    "editable": true
   },
   "outputs": [
    {
     "name": "stderr",
     "output_type": "stream",
     "text": [
      "/src/Patch_ana/Patch_ana/patch_pip.py:500: RuntimeWarning: Mean of empty slice\n",
      "  ave_ptl_mean = np.nanmean(ave_ptl_resp_rm, axis=0)\n",
      "/usr/local/lib/python3.5/dist-packages/numpy/lib/nanfunctions.py:1423: RuntimeWarning: Degrees of freedom <= 0 for slice.\n",
      "  keepdims=keepdims)\n"
     ]
    },
    {
     "data": {
      "text/plain": [
       "<Container object of 3 artists>"
      ]
     },
     "execution_count": 5,
     "metadata": {},
     "output_type": "execute_result"
    },
    {
     "data": {
      "image/png": "[encoded data removed]",
      "text/plain": [
       "<matplotlib.figure.Figure at 0x7fe93989fc88>"
      ]
     },
     "metadata": {},
     "output_type": "display_data"
    }
   ],
   "source": [
    "ave_ptl_resp = np.ones((len(pre_LTD50_uni), 60))*np.nan\n",
    "\n",
    "ave_ptl_mean_2,ave_ptl_ste_2,ave_ptl_2  = patch_pip.samp_ave(pre_LTD50_uni, ave_ptl_resp)\n",
    "ave_ptl_mean_2 = ave_ptl_mean_2[:-12]\n",
    "ave_ptl_ste_2 = ave_ptl_ste_2[:-12]\n",
    "ave_ptl_2 = ave_ptl_2[:, :-12]\n",
    "\n",
    "plt.errorbar(x=np.arange(len(ave_ptl_mean_2)), y=ave_ptl_mean_2, yerr=ave_ptl_ste_2, fmt='bo')\n",
    "\n",
    "ave_ptl_resp = np.ones((len(pre_LTD50), 60))*np.nan\n",
    "ave_ptl_mean_50,ave_ptl_ste_50, ave_ptl_50 = patch_pip.samp_ave(pre_LTD50, ave_ptl_resp)\n",
    "ave_ptl_mean_50 = ave_ptl_mean_50[:-12]\n",
    "ave_ptl_ste_50 = ave_ptl_ste_50[:-12]\n",
    "ave_ptl_50 = ave_ptl_50[:, :-12]\n",
    "\n",
    "plt.errorbar(x=np.arange(len(ave_ptl_mean_50)), y=ave_ptl_mean_50, yerr=ave_ptl_ste_50, fmt='ro')"
   ]
  },
  {
   "cell_type": "code",
   "execution_count": 6,
   "metadata": {
    "collapsed": false,
    "deletable": true,
    "editable": true
   },
   "outputs": [
    {
     "data": {
      "image/png": "[encoded data removed]",
      "text/plain": [
       "<matplotlib.figure.Figure at 0x7fe939cfa3c8>"
      ]
     },
     "metadata": {},
     "output_type": "display_data"
    }
   ],
   "source": [
    "ave_ptl_mean_2cp, ave_ptl_ste_2cp =  ave_ptl_mean_2, ave_ptl_ste_2\n",
    "ave_ptl_mean, ave_ptl_ste = patch_pip.pro_bef(ave_ptl_mean_2cp[:5], ave_ptl_ste_2cp[:5])\n",
    "ave_ptl_mean_2cp[:5], ave_ptl_ste_2cp[:5] = ave_ptl_mean, ave_ptl_ste \n",
    "plt.errorbar(x=np.linspace(-6 * 4/3, len(ave_ptl_mean_2cp) - 6 * 4/3, len(ave_ptl_mean_2cp)), y=ave_ptl_mean_2cp, yerr=ave_ptl_ste_2cp, fmt='bo', label='2Hz (n={a})'.format(a=len(pre_LTD50_uni)))\n",
    "\n",
    "ave_ptl_mean_50cp, ave_ptl_ste_50cp =  ave_ptl_mean_50, ave_ptl_ste_50\n",
    "ave_ptl_mean, ave_ptl_ste= patch_pip.pro_bef(ave_ptl_mean_50cp[:5], ave_ptl_ste_50cp[:5])\n",
    "ave_ptl_mean_50cp[:5], ave_ptl_ste_50cp[:5] = ave_ptl_mean, ave_ptl_ste \n",
    "plt.errorbar(x=np.linspace(-6 * 4/3, len(ave_ptl_mean_50cp)- 6 * 4/3, len(ave_ptl_mean_50cp)), y=ave_ptl_mean_50cp, yerr=ave_ptl_ste_50cp, fmt='ro', label='50Hz (n={a})'.format(a=len(pre_LTD50)))\n",
    "\n",
    "plt.plot(np.ones((50))*1, 'k--')\n",
    "plt.xlabel('Time (min)')\n",
    "plt.ylabel('Normalized EPSC')\n",
    "# plt.legend()\n",
    "plt.ylim([0.2, 2.0])\n",
    "plt.title('Pre-synaptic only (-70 mV)')\n",
    "\n",
    "with PdfPages('/data/Figure5_1.pdf') as pdf:\n",
    "    pdf.savefig()"
   ]
  },
  {
   "cell_type": "code",
   "execution_count": 7,
   "metadata": {
    "collapsed": false,
    "deletable": true,
    "editable": true
   },
   "outputs": [
    {
     "data": {
      "image/png": "[encoded data removed]",
      "text/plain": [
       "<matplotlib.figure.Figure at 0x7fe953fc6080>"
      ]
     },
     "metadata": {},
     "output_type": "display_data"
    }
   ],
   "source": [
    "# Compare amplitude\n",
    "mean_amp_aft_2Hz = np.nanmean(np.nanmean(ave_ptl_2[:, -10:], axis=1))\n",
    "mean_amp_aft_50Hz = np.nanmean(np.nanmean(ave_ptl_50[:, -10:], axis=1))\n",
    "\n",
    "std_amp_aft_2Hz = np.nanstd(np.nanmean(ave_ptl_2[:, -10:], axis=1))/np.sqrt(6)\n",
    "std_amp_aft_50Hz = np.nanstd(np.nanmean(ave_ptl_50[:, -10:], axis=1))/np.sqrt(6)\n",
    "plt.bar([1,2,3], [1, mean_amp_aft_50Hz, mean_amp_aft_2Hz], align='center', width=0.4)\n",
    "plt.errorbar(x=[1,2,3], y=[1, mean_amp_aft_50Hz, mean_amp_aft_2Hz],yerr = [0, std_amp_aft_50Hz, std_amp_aft_2Hz], fmt='')\n",
    "plt.ylim([0,1.5])\n",
    "\n",
    "with PdfPages('/data/Figure5_2.pdf') as pdf:\n",
    "    pdf.savefig()"
   ]
  },
  {
   "cell_type": "code",
   "execution_count": 8,
   "metadata": {
    "collapsed": false,
    "deletable": true,
    "editable": true
   },
   "outputs": [
    {
     "data": {
      "image/png": "[encoded data removed]",
      "text/plain": [
       "<matplotlib.figure.Figure at 0x7fe9399627f0>"
      ]
     },
     "metadata": {},
     "output_type": "display_data"
    }
   ],
   "source": [
    "# Compare PPR\n",
    "mean_PPR_bef = [np.nanmean(pre_LTD50['Before'].loc[i]['PPR']) for i in pre_LTD50['Before'].index]\n",
    "mean_PPR_aft = [np.nanmean(pre_LTD50['After'].loc[i]['PPR'][-10:]) for i in pre_LTD50['After'].index]\n",
    "\n",
    "mean_PPR_ave_bef = np.mean(mean_PPR_bef)\n",
    "mean_PPR_std_bef = np.std(mean_PPR_bef)/np.sqrt(6)\n",
    "mean_PPR_ave_aft = np.mean(mean_PPR_aft)\n",
    "mean_PPR_std_aft = np.std(mean_PPR_aft)/np.sqrt(6)\n",
    "\n",
    "for i, j in zip(mean_PPR_bef, mean_PPR_aft):\n",
    "    plt.plot([0.5,1.5], [i, j], 'bo-', alpha=0.3, markersize=10)\n",
    "plt.errorbar([0.5,1.5], [mean_PPR_ave_bef, mean_PPR_ave_aft], [mean_PPR_std_bef, mean_PPR_std_aft], fmt='r-o', markersize=10)\n",
    "plt.xlim([0,2])\n",
    "plt.ylim([0,3])\n",
    "with PdfPages('/data/Supp1_1.pdf') as pdf:\n",
    "    pdf.savefig()"
   ]
  },
  {
   "cell_type": "code",
   "execution_count": 9,
   "metadata": {
    "collapsed": false,
    "deletable": true,
    "editable": true
   },
   "outputs": [
    {
     "data": {
      "image/png": "[encoded data removed]",
      "text/plain": [
       "<matplotlib.figure.Figure at 0x7fe939c42a58>"
      ]
     },
     "metadata": {},
     "output_type": "display_data"
    }
   ],
   "source": [
    "# Compare PPR\n",
    "mean_PPR_bef = [np.nanmean(pre_LTD50_uni['Before'].loc[i]['PPR']) for i in pre_LTD50_uni['Before'].index]\n",
    "mean_PPR_aft = [np.nanmean(pre_LTD50_uni['After'].loc[i]['PPR'][-10:]) for i in pre_LTD50_uni['After'].index]\n",
    "\n",
    "mean_PPR_ave_bef = np.mean(mean_PPR_bef)\n",
    "mean_PPR_std_bef = np.std(mean_PPR_bef)/np.sqrt(6)\n",
    "mean_PPR_ave_aft = np.mean(mean_PPR_aft)\n",
    "mean_PPR_std_aft = np.std(mean_PPR_aft)/np.sqrt(6)\n",
    "\n",
    "for i, j in zip(mean_PPR_bef, mean_PPR_aft):\n",
    "    plt.plot([0.5,1.5], [i, j], 'bo-', alpha=0.3, markersize=10)\n",
    "plt.errorbar([0.5,1.5], [mean_PPR_ave_bef, mean_PPR_ave_aft], [mean_PPR_std_bef, mean_PPR_std_aft], fmt='r-o', markersize=10)\n",
    "plt.xlim([0,2])\n",
    "plt.ylim([0,3])\n",
    "with PdfPages('/data/Supp1_2.pdf') as pdf:\n",
    "    pdf.savefig()"
   ]
  },
  {
   "cell_type": "code",
   "execution_count": 10,
   "metadata": {
    "collapsed": false,
    "deletable": true,
    "editable": true
   },
   "outputs": [
    {
     "data": {
      "text/plain": [
       "Int64Index([12, 14, 15, 16, 17, 18], dtype='int64')"
      ]
     },
     "execution_count": 10,
     "metadata": {},
     "output_type": "execute_result"
    }
   ],
   "source": [
    "pre_LTD50['Before'].index"
   ]
  },
  {
   "cell_type": "code",
   "execution_count": 11,
   "metadata": {
    "collapsed": false,
    "deletable": true,
    "editable": true
   },
   "outputs": [
    {
     "data": {
      "text/plain": [
       "[<matplotlib.lines.Line2D at 0x7fe9399168d0>]"
      ]
     },
     "execution_count": 11,
     "metadata": {},
     "output_type": "execute_result"
    },
    {
     "data": {
      "image/png": "[encoded data removed]",
      "text/plain": [
       "<matplotlib.figure.Figure at 0x7fe939916a58>"
      ]
     },
     "metadata": {},
     "output_type": "display_data"
    }
   ],
   "source": [
    "test_id = 18\n",
    "plt.plot(pre_LTD50['Before'].loc[test_id]['raw_amp1'])\n",
    "plt.plot(pre_LTD50['After'].loc[test_id]['raw_amp1'])"
   ]
  },
  {
   "cell_type": "code",
   "execution_count": 12,
   "metadata": {
    "collapsed": false,
    "deletable": true,
    "editable": true
   },
   "outputs": [
    {
     "name": "stdout",
     "output_type": "stream",
     "text": [
      "Ttest_relResult(statistic=-1.1900357016065803, pvalue=0.28745130736321611)\n"
     ]
    },
    {
     "data": {
      "image/png": "[encoded data removed]",
      "text/plain": [
       "<matplotlib.figure.Figure at 0x7fe939b306d8>"
      ]
     },
     "metadata": {},
     "output_type": "display_data"
    }
   ],
   "source": [
    "# Compare failure rate\n",
    "mean_fail_bef = [np.sum(pre_LTD50_uni['Before'].loc[i]['failure'])/40 for i in pre_LTD50_uni['Before'].index]\n",
    "mean_fail_aft = [np.sum(pre_LTD50_uni['After'].loc[i]['failure'][-40:])/40 for i in pre_LTD50_uni['After'].index]\n",
    "print(stats.ttest_rel(mean_fail_bef, mean_fail_aft))\n",
    "\n",
    "mean_fail_ave_bef = np.mean(mean_fail_bef)\n",
    "mean_fail_std_bef = np.std(mean_fail_bef)/np.sqrt(6)\n",
    "mean_fail_ave_aft = np.mean(mean_fail_aft)\n",
    "mean_fail_std_aft = np.std(mean_fail_aft)/np.sqrt(6)\n",
    "\n",
    "for i, j in zip(mean_fail_bef, mean_fail_aft):\n",
    "    plt.plot([0.5,1.5], [i, j], 'bo-', alpha=0.3, markersize=10)\n",
    "plt.errorbar([0.5,1.5], [mean_fail_ave_bef, mean_fail_ave_aft], [mean_fail_std_bef, mean_fail_std_aft], fmt='k-o', markersize=10)\n",
    "\n",
    "plt.xlim([0,2])\n",
    "plt.ylim([-0.05,0.3])\n",
    "\n",
    "with PdfPages('/data/Failure_uni.pdf') as pdf:\n",
    "    pdf.savefig()"
   ]
  },
  {
   "cell_type": "code",
   "execution_count": 13,
   "metadata": {
    "collapsed": false,
    "deletable": true,
    "editable": true
   },
   "outputs": [
    {
     "name": "stdout",
     "output_type": "stream",
     "text": [
      "Ttest_relResult(statistic=-3.9545287800622253, pvalue=0.010801724607794617)\n"
     ]
    },
    {
     "data": {
      "image/png": "[encoded data removed]",
      "text/plain": [
       "<matplotlib.figure.Figure at 0x7fe939ae84e0>"
      ]
     },
     "metadata": {},
     "output_type": "display_data"
    }
   ],
   "source": [
    "# Compare failure rate\n",
    "mean_fail_bef = [np.sum(pre_LTD50['Before'].loc[i]['failure'])/40 for i in pre_LTD50['Before'].index]\n",
    "mean_fail_aft = [np.sum(pre_LTD50['After'].loc[i]['failure'][-40:])/40 for i in pre_LTD50['After'].index]\n",
    "print(stats.ttest_rel(mean_fail_bef, mean_fail_aft))\n",
    "\n",
    "mean_fail_ave_bef = np.mean(mean_fail_bef)\n",
    "mean_fail_std_bef = np.std(mean_fail_bef)/np.sqrt(6)\n",
    "mean_fail_ave_aft = np.mean(mean_fail_aft)\n",
    "mean_fail_std_aft = np.std(mean_fail_aft)/np.sqrt(6)\n",
    "\n",
    "for i, j in zip(mean_fail_bef, mean_fail_aft):\n",
    "    plt.plot([0.5,1.5], [i, j], 'bo-', alpha=0.3, markersize=10)\n",
    "plt.errorbar([0.5,1.5], [mean_fail_ave_bef, mean_fail_ave_aft], [mean_fail_std_bef, mean_fail_std_aft], fmt='k-o', markersize=10)\n",
    "\n",
    "plt.xlim([0,2])\n",
    "plt.ylim([-0.05,0.3])\n",
    "\n",
    "with PdfPages('/data/Failure_reci.pdf') as pdf:\n",
    "    pdf.savefig()"
   ]
  },
  {
   "cell_type": "code",
   "execution_count": 19,
   "metadata": {
    "collapsed": false
   },
   "outputs": [
    {
     "data": {
      "text/plain": [
       "[1.0700697756292861,\n",
       " 0.8743056190568973,\n",
       " 1.0416133118051916,\n",
       " 1.0127387255539038,\n",
       " 1.0031011060289736]"
      ]
     },
     "execution_count": 19,
     "metadata": {},
     "output_type": "execute_result"
    }
   ],
   "source": [
    "pi_2"
   ]
  },
  {
   "cell_type": "code",
   "execution_count": 15,
   "metadata": {
    "collapsed": false,
    "deletable": true,
    "editable": true
   },
   "outputs": [
    {
     "name": "stderr",
     "output_type": "stream",
     "text": [
      "/src/Patch_ana/Patch_ana/patch_pip.py:500: RuntimeWarning: Mean of empty slice\n",
      "  ave_ptl_mean = np.nanmean(ave_ptl_resp_rm, axis=0)\n",
      "/usr/local/lib/python3.5/dist-packages/numpy/lib/nanfunctions.py:1423: RuntimeWarning: Degrees of freedom <= 0 for slice.\n",
      "  keepdims=keepdims)\n"
     ]
    },
    {
     "data": {
      "image/png": "[encoded data removed]",
      "text/plain": [
       "<matplotlib.figure.Figure at 0x7fe939a5fe80>"
      ]
     },
     "metadata": {},
     "output_type": "display_data"
    }
   ],
   "source": [
    "# CV analysis\n",
    "r_50, pi_50 = patch_pip.cv_analysis(pre_LTD50, bef_len=15, aft_len=100)\n",
    "\n",
    "plt.errorbar(np.mean(pi_50), np.mean(r_50), np.std(r_50)/np.sqrt(len(r_50)), np.std(pi_50)/np.sqrt(len(pi_50)),  'o', markersize=10)\n",
    "\n",
    "# CV analysis\n",
    "r_2, pi_2 = patch_pip.cv_analysis(pre_LTD50_uni, bef_len=15, aft_len=100)\n",
    "r_2.pop(3)\n",
    "pi_2.pop(3)\n",
    "\n",
    "plt.errorbar(np.mean(pi_2), np.mean(r_2), np.std(r_2)/np.sqrt(len(r_2)), np.std(pi_2)/np.sqrt(len(pi_2)),  'o', markersize=10)\n",
    "\n",
    "plt.plot(np.arange(0, 4, 0.5),np.arange(0, 4, 0.5), 'k--')\n",
    "plt.plot(np.arange(0, 4, 0.5), np.ones(8),'k--')\n",
    "plt.plot(np.ones(8),np.arange(0, 4, 0.5),'k--')\n",
    "plt.xlim([0, 1.5])\n",
    "plt.ylim([0, 1.5])\n",
    "plt.axes().set_aspect('equal')\n",
    "\n",
    "with PdfPages('/data/cv_uni_reci.pdf') as pdf:\n",
    "    pdf.savefig()"
   ]
  },
  {
   "cell_type": "code",
   "execution_count": 16,
   "metadata": {
    "collapsed": false,
    "deletable": true,
    "editable": true
   },
   "outputs": [
    {
     "ename": "NameError",
     "evalue": "name 'pre_LTD2' is not defined",
     "output_type": "error",
     "traceback": [
      "\u001b[0;31m---------------------------------------------------------------------------\u001b[0m",
      "\u001b[0;31mNameError\u001b[0m                                 Traceback (most recent call last)",
      "\u001b[0;32m<ipython-input-16-f6a08ccc7aae>\u001b[0m in \u001b[0;36m<module>\u001b[0;34m()\u001b[0m\n\u001b[1;32m     14\u001b[0m \u001b[0;34m\u001b[0m\u001b[0m\n\u001b[1;32m     15\u001b[0m \u001b[0;31m# CV analysis\u001b[0m\u001b[0;34m\u001b[0m\u001b[0;34m\u001b[0m\u001b[0m\n\u001b[0;32m---> 16\u001b[0;31m \u001b[0mcv_mean_bef\u001b[0m \u001b[0;34m=\u001b[0m \u001b[0;34m[\u001b[0m\u001b[0mnp\u001b[0m\u001b[0;34m.\u001b[0m\u001b[0mnanmean\u001b[0m\u001b[0;34m(\u001b[0m\u001b[0mpre_LTD2\u001b[0m\u001b[0;34m[\u001b[0m\u001b[0;34m'Before'\u001b[0m\u001b[0;34m]\u001b[0m\u001b[0;34m.\u001b[0m\u001b[0mloc\u001b[0m\u001b[0;34m[\u001b[0m\u001b[0mi\u001b[0m\u001b[0;34m]\u001b[0m\u001b[0;34m[\u001b[0m\u001b[0;34m'raw_amp1'\u001b[0m\u001b[0;34m]\u001b[0m\u001b[0;34m[\u001b[0m\u001b[0;34m-\u001b[0m\u001b[0;36m20\u001b[0m\u001b[0;34m:\u001b[0m\u001b[0;34m]\u001b[0m\u001b[0;34m)\u001b[0m \u001b[0;32mfor\u001b[0m \u001b[0mi\u001b[0m \u001b[0;32min\u001b[0m \u001b[0mpre_LTD2\u001b[0m\u001b[0;34m[\u001b[0m\u001b[0;34m'Before'\u001b[0m\u001b[0;34m]\u001b[0m\u001b[0;34m.\u001b[0m\u001b[0mindex\u001b[0m\u001b[0;34m]\u001b[0m\u001b[0;34m\u001b[0m\u001b[0m\n\u001b[0m\u001b[1;32m     17\u001b[0m \u001b[0mcv_mean_aft\u001b[0m \u001b[0;34m=\u001b[0m \u001b[0;34m[\u001b[0m\u001b[0mnp\u001b[0m\u001b[0;34m.\u001b[0m\u001b[0mnanmean\u001b[0m\u001b[0;34m(\u001b[0m\u001b[0mave_ptl_2\u001b[0m\u001b[0;34m[\u001b[0m\u001b[0mi\u001b[0m\u001b[0;34m,\u001b[0m \u001b[0;34m-\u001b[0m\u001b[0;36m10\u001b[0m\u001b[0;34m:\u001b[0m\u001b[0;34m]\u001b[0m\u001b[0;34m)\u001b[0m \u001b[0;34m*\u001b[0m \u001b[0mcv_mean_bef\u001b[0m\u001b[0;34m[\u001b[0m\u001b[0mi\u001b[0m\u001b[0;34m]\u001b[0m \u001b[0;32mfor\u001b[0m \u001b[0mi\u001b[0m \u001b[0;32min\u001b[0m \u001b[0mrange\u001b[0m\u001b[0;34m(\u001b[0m\u001b[0mave_ptl_2\u001b[0m\u001b[0;34m.\u001b[0m\u001b[0mshape\u001b[0m\u001b[0;34m[\u001b[0m\u001b[0;36m0\u001b[0m\u001b[0;34m]\u001b[0m\u001b[0;34m)\u001b[0m\u001b[0;34m]\u001b[0m\u001b[0;34m\u001b[0m\u001b[0m\n\u001b[1;32m     18\u001b[0m \u001b[0;34m\u001b[0m\u001b[0m\n",
      "\u001b[0;31mNameError\u001b[0m: name 'pre_LTD2' is not defined"
     ]
    },
    {
     "data": {
      "image/png": "[encoded data removed]",
      "text/plain": [
       "<matplotlib.figure.Figure at 0x7fe9377a8e80>"
      ]
     },
     "metadata": {},
     "output_type": "display_data"
    }
   ],
   "source": [
    "# CV analysis\n",
    "cv_mean_bef = [np.nanmean(pre_LTD50['Before'].loc[i]['raw_amp1'][-20:]) for i in pre_LTD50['Before'].index]\n",
    "cv_mean_aft = [np.nanmean(ave_ptl_50[i, -10:]) * cv_mean_bef[i] for i in range(ave_ptl_50.shape[0])]\n",
    "               \n",
    "cv_std_bef = [np.nanstd(pre_LTD50['Before'].loc[i]['raw_amp1'][-15:]) for i in pre_LTD50['Before'].index]\n",
    "end_aft = [pre_LTD50['elimi'].values[i] for i in range(len(pre_LTD50))]\n",
    "cv_std_aft = [np.nanstd(pre_LTD50['After'].loc[i]['raw_amp1'][max(end_aft[k]*3-100,0):end_aft[k]*3]) for k,i in enumerate(pre_LTD50['After'].index)]\n",
    "\n",
    "r = [i ** 2/j ** 2 for i, j in zip([k/m for k, m in zip(cv_std_bef,cv_mean_bef)], [k/m for k, m in zip(cv_std_aft,cv_mean_aft)])]\n",
    "pi = [i/j for i, j in zip(cv_mean_aft, cv_mean_bef)]\n",
    "\n",
    "\n",
    "plt.errorbar(np.mean(pi), np.mean(r), np.std(r)/np.sqrt(len(r)), np.std(pi)/np.sqrt(len(pi)),  'o', markersize=10)\n",
    "\n",
    "# CV analysis\n",
    "cv_mean_bef = [np.nanmean(pre_LTD2['Before'].loc[i]['raw_amp1'][-20:]) for i in pre_LTD2['Before'].index]\n",
    "cv_mean_aft = [np.nanmean(ave_ptl_2[i, -10:]) * cv_mean_bef[i] for i in range(ave_ptl_2.shape[0])]\n",
    "               \n",
    "cv_std_bef = [np.nanstd(pre_LTD2['Before'].loc[i]['raw_amp1'][-15:]) for i in pre_LTD2['Before'].index]\n",
    "end_aft = [pre_LTD2['elimi'].values[i] for i in range(len(pre_LTD2))]\n",
    "cv_std_aft = [np.nanstd(pre_LTD2['After'].loc[i]['raw_amp1'][max(end_aft[k]*3-100,0):end_aft[k]*3]) for k,i in enumerate(pre_LTD2['After'].index)]\n",
    "\n",
    "r = [i ** 2/j ** 2 for i, j in zip([k/m for k, m in zip(cv_std_bef,cv_mean_bef)], [k/m for k, m in zip(cv_std_aft,cv_mean_aft)])]\n",
    "pi = [i/j for i, j in zip(cv_mean_aft, cv_mean_bef)]\n",
    "\n",
    "\n",
    "plt.errorbar(np.mean(pi), np.mean(r), np.std(r)/np.sqrt(len(r)), np.std(pi)/np.sqrt(len(pi)),  'o', markersize=10)\n",
    "\n",
    "plt.plot(np.arange(0, 4, 0.5),np.arange(0, 4, 0.5), 'k--')\n",
    "plt.plot(np.arange(0, 4, 0.5), np.ones(8),'k--')\n",
    "plt.plot(np.ones(8),np.arange(0, 4, 0.5),'k--')\n",
    "plt.xlim([0, 1.5])\n",
    "plt.ylim([0, 1.5])\n",
    "plt.axes().set_aspect('equal')\n",
    "with PdfPages('/data/Figure1_7.pdf') as pdf:\n",
    "    pdf.savefig()"
   ]
  },
  {
   "cell_type": "code",
   "execution_count": 17,
   "metadata": {
    "collapsed": false,
    "deletable": true,
    "editable": true
   },
   "outputs": [
    {
     "ename": "NameError",
     "evalue": "name 'ave_ptl_mean_50_uni' is not defined",
     "output_type": "error",
     "traceback": [
      "\u001b[0;31m---------------------------------------------------------------------------\u001b[0m",
      "\u001b[0;31mNameError\u001b[0m                                 Traceback (most recent call last)",
      "\u001b[0;32m<ipython-input-17-1542e29cee74>\u001b[0m in \u001b[0;36m<module>\u001b[0;34m()\u001b[0m\n\u001b[0;32m----> 1\u001b[0;31m \u001b[0mave_ptl_mean_50cp\u001b[0m\u001b[0;34m,\u001b[0m \u001b[0mave_ptl_ste_50cp\u001b[0m \u001b[0;34m=\u001b[0m  \u001b[0mave_ptl_mean_50_uni\u001b[0m\u001b[0;34m,\u001b[0m \u001b[0mave_ptl_ste_50_uni\u001b[0m\u001b[0;34m\u001b[0m\u001b[0m\n\u001b[0m\u001b[1;32m      2\u001b[0m \u001b[0mave_ptl_mean\u001b[0m\u001b[0;34m,\u001b[0m \u001b[0mave_ptl_ste\u001b[0m \u001b[0;34m=\u001b[0m \u001b[0mpatch_pip\u001b[0m\u001b[0;34m.\u001b[0m\u001b[0mpro_bef\u001b[0m\u001b[0;34m(\u001b[0m\u001b[0mave_ptl_mean_50cp\u001b[0m\u001b[0;34m[\u001b[0m\u001b[0;34m:\u001b[0m\u001b[0;36m5\u001b[0m\u001b[0;34m]\u001b[0m\u001b[0;34m,\u001b[0m \u001b[0mave_ptl_ste_50cp\u001b[0m\u001b[0;34m[\u001b[0m\u001b[0;34m:\u001b[0m\u001b[0;36m5\u001b[0m\u001b[0;34m]\u001b[0m\u001b[0;34m)\u001b[0m\u001b[0;34m\u001b[0m\u001b[0m\n\u001b[1;32m      3\u001b[0m \u001b[0mave_ptl_mean_50cp\u001b[0m\u001b[0;34m[\u001b[0m\u001b[0;34m:\u001b[0m\u001b[0;36m5\u001b[0m\u001b[0;34m]\u001b[0m\u001b[0;34m,\u001b[0m \u001b[0mave_ptl_ste_50cp\u001b[0m\u001b[0;34m[\u001b[0m\u001b[0;34m:\u001b[0m\u001b[0;36m5\u001b[0m\u001b[0;34m]\u001b[0m \u001b[0;34m=\u001b[0m \u001b[0mave_ptl_mean\u001b[0m\u001b[0;34m,\u001b[0m \u001b[0mave_ptl_ste\u001b[0m\u001b[0;34m\u001b[0m\u001b[0m\n\u001b[1;32m      4\u001b[0m \u001b[0mplt\u001b[0m\u001b[0;34m.\u001b[0m\u001b[0merrorbar\u001b[0m\u001b[0;34m(\u001b[0m\u001b[0mx\u001b[0m\u001b[0;34m=\u001b[0m\u001b[0mnp\u001b[0m\u001b[0;34m.\u001b[0m\u001b[0marange\u001b[0m\u001b[0;34m(\u001b[0m\u001b[0mlen\u001b[0m\u001b[0;34m(\u001b[0m\u001b[0mave_ptl_mean_2cp\u001b[0m\u001b[0;34m)\u001b[0m\u001b[0;34m)\u001b[0m\u001b[0;34m,\u001b[0m \u001b[0my\u001b[0m\u001b[0;34m=\u001b[0m\u001b[0mave_ptl_mean_50cp\u001b[0m\u001b[0;34m,\u001b[0m \u001b[0myerr\u001b[0m\u001b[0;34m=\u001b[0m\u001b[0mave_ptl_ste_50cp\u001b[0m\u001b[0;34m,\u001b[0m \u001b[0mfmt\u001b[0m\u001b[0;34m=\u001b[0m\u001b[0;34m'ko'\u001b[0m\u001b[0;34m,\u001b[0m \u001b[0mlabel\u001b[0m\u001b[0;34m=\u001b[0m\u001b[0;34m'Uni (n={a})'\u001b[0m\u001b[0;34m.\u001b[0m\u001b[0mformat\u001b[0m\u001b[0;34m(\u001b[0m\u001b[0ma\u001b[0m\u001b[0;34m=\u001b[0m\u001b[0mlen\u001b[0m\u001b[0;34m(\u001b[0m\u001b[0mpre_LTD50_uni\u001b[0m\u001b[0;34m)\u001b[0m\u001b[0;34m)\u001b[0m\u001b[0;34m)\u001b[0m\u001b[0;34m\u001b[0m\u001b[0m\n\u001b[1;32m      5\u001b[0m \u001b[0mplt\u001b[0m\u001b[0;34m.\u001b[0m\u001b[0mplot\u001b[0m\u001b[0;34m(\u001b[0m\u001b[0mnp\u001b[0m\u001b[0;34m.\u001b[0m\u001b[0mones\u001b[0m\u001b[0;34m(\u001b[0m\u001b[0;34m(\u001b[0m\u001b[0;36m60\u001b[0m\u001b[0;34m)\u001b[0m\u001b[0;34m)\u001b[0m\u001b[0;34m*\u001b[0m\u001b[0;36m1\u001b[0m\u001b[0;34m,\u001b[0m \u001b[0;34m'k--'\u001b[0m\u001b[0;34m)\u001b[0m\u001b[0;34m\u001b[0m\u001b[0m\n",
      "\u001b[0;31mNameError\u001b[0m: name 'ave_ptl_mean_50_uni' is not defined"
     ]
    }
   ],
   "source": [
    "ave_ptl_mean_50cp, ave_ptl_ste_50cp =  ave_ptl_mean_50_uni, ave_ptl_ste_50_uni\n",
    "ave_ptl_mean, ave_ptl_ste = patch_pip.pro_bef(ave_ptl_mean_50cp[:5], ave_ptl_ste_50cp[:5])\n",
    "ave_ptl_mean_50cp[:5], ave_ptl_ste_50cp[:5] = ave_ptl_mean, ave_ptl_ste \n",
    "plt.errorbar(x=np.arange(len(ave_ptl_mean_2cp)), y=ave_ptl_mean_50cp, yerr=ave_ptl_ste_50cp, fmt='ko', label='Uni (n={a})'.format(a=len(pre_LTD50_uni)))\n",
    "plt.plot(np.ones((60))*1, 'k--')\n",
    "\n",
    "ave_ptl_mean_2cp, ave_ptl_ste_2cp =  ave_ptl_mean_50, ave_ptl_ste_50\n",
    "ave_ptl_mean, ave_ptl_ste = patch_pip.pro_bef(ave_ptl_mean_2cp[:5], ave_ptl_ste_2cp[:5])\n",
    "ave_ptl_mean_2cp[:5], ave_ptl_ste_2cp[:5] = ave_ptl_mean, ave_ptl_ste \n",
    "plt.errorbar(x=np.arange(len(ave_ptl_mean_2cp)), y=ave_ptl_mean_2cp, yerr=ave_ptl_ste_2cp, fmt='ro', label='Reci (n={a})'.format(a=len(pre_LTD50)))\n",
    "\n",
    "plt.xlabel('Time (min)')\n",
    "plt.ylabel('Normalized EPSC')\n",
    "plt.legend()\n",
    "plt.title('Pre-synaptic only (-70 mV)')\n",
    "plt.axis([0,60,0.2,2])"
   ]
  },
  {
   "cell_type": "code",
   "execution_count": null,
   "metadata": {
    "collapsed": true
   },
   "outputs": [],
   "source": []
  }
 ],
 "metadata": {
  "kernelspec": {
   "display_name": "Python 3",
   "language": "python",
   "name": "python3"
  },
  "language_info": {
   "codemirror_mode": {
    "name": "ipython",
    "version": 3
   },
   "file_extension": ".py",
   "mimetype": "text/x-python",
   "name": "python",
   "nbconvert_exporter": "python",
   "pygments_lexer": "ipython3",
   "version": "3.5.2"
  }
 },
 "nbformat": 4,
 "nbformat_minor": 2
}
