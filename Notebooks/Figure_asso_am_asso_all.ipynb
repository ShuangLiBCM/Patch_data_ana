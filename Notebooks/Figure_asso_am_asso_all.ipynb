{
 "cells": [
  {
   "cell_type": "code",
   "execution_count": 1,
   "metadata": {
    "collapsed": false,
    "deletable": true,
    "editable": true
   },
   "outputs": [],
   "source": [
    "import numpy as np\n",
    "import pandas as pd\n",
    "import scipy.io as sio\n",
    "import matplotlib.pyplot as plt\n",
    "from scipy.optimize import curve_fit\n",
    "import pdb\n",
    "from Patch_ana import patch_pip\n",
    "import seaborn as sns\n",
    "\n",
    "% matplotlib inline\n",
    "%load_ext autoreload\n",
    "% autoreload"
   ]
  },
  {
   "cell_type": "code",
   "execution_count": 2,
   "metadata": {
    "collapsed": false,
    "deletable": true,
    "editable": true
   },
   "outputs": [
    {
     "name": "stdout",
     "output_type": "stream",
     "text": [
      "/data\n"
     ]
    }
   ],
   "source": [
    "cd /data/"
   ]
  },
  {
   "cell_type": "code",
   "execution_count": 4,
   "metadata": {
    "collapsed": false,
    "deletable": true,
    "editable": true
   },
   "outputs": [],
   "source": [
    "asso2 = pd.read_pickle('ana_am_asso')\n",
    "asso50 = pd.read_pickle('ana_am_asso_50')"
   ]
  },
  {
   "cell_type": "code",
   "execution_count": 5,
   "metadata": {
    "collapsed": false,
    "deletable": true,
    "editable": true
   },
   "outputs": [
    {
     "data": {
      "text/html": [
       "<div>\n",
       "<table border=\"1\" class=\"dataframe\">\n",
       "  <thead>\n",
       "    <tr style=\"text-align: right;\">\n",
       "      <th></th>\n",
       "      <th>Before</th>\n",
       "      <th>After</th>\n",
       "      <th>elimi</th>\n",
       "    </tr>\n",
       "  </thead>\n",
       "  <tbody>\n",
       "    <tr>\n",
       "      <th>2018021301</th>\n",
       "      <td>{'ir': [[96.0958708487], [99.2656212909], [93....</td>\n",
       "      <td>{'ir': [[94.0285207032], [102.011585328], [102...</td>\n",
       "      <td>24</td>\n",
       "    </tr>\n",
       "    <tr>\n",
       "      <th>2018021302</th>\n",
       "      <td>{'ir': [[131.431247219], [132.826175038], [127...</td>\n",
       "      <td>{'ir': [[123.322818236], [125.008107294], [121...</td>\n",
       "      <td>28</td>\n",
       "    </tr>\n",
       "    <tr>\n",
       "      <th>2018021303</th>\n",
       "      <td>{'ir': [[127.914725338], [132.117463293], [131...</td>\n",
       "      <td>{'ir': [[109.23195848], [104.961264577], [102....</td>\n",
       "      <td>24</td>\n",
       "    </tr>\n",
       "    <tr>\n",
       "      <th>2018022801</th>\n",
       "      <td>{'ir': [[77.5483087882], [75.121058642], [71.2...</td>\n",
       "      <td>{'ir': [[63.4086486848], [59.1023257703], [58....</td>\n",
       "      <td>30</td>\n",
       "    </tr>\n",
       "    <tr>\n",
       "      <th>2018022802</th>\n",
       "      <td>{'ir': [[95.0471695024], [95.4370889978], [91....</td>\n",
       "      <td>{'ir': [[92.3311499794], [89.4725235493], [90....</td>\n",
       "      <td>27</td>\n",
       "    </tr>\n",
       "    <tr>\n",
       "      <th>2018030101</th>\n",
       "      <td>{'ir': [[111.862696979], [100.149345302], [97....</td>\n",
       "      <td>{'ir': [[89.1891852991], [91.8540489559], [92....</td>\n",
       "      <td>24</td>\n",
       "    </tr>\n",
       "  </tbody>\n",
       "</table>\n",
       "</div>"
      ],
      "text/plain": [
       "                                                       Before  \\\n",
       "2018021301  {'ir': [[96.0958708487], [99.2656212909], [93....   \n",
       "2018021302  {'ir': [[131.431247219], [132.826175038], [127...   \n",
       "2018021303  {'ir': [[127.914725338], [132.117463293], [131...   \n",
       "2018022801  {'ir': [[77.5483087882], [75.121058642], [71.2...   \n",
       "2018022802  {'ir': [[95.0471695024], [95.4370889978], [91....   \n",
       "2018030101  {'ir': [[111.862696979], [100.149345302], [97....   \n",
       "\n",
       "                                                        After  elimi  \n",
       "2018021301  {'ir': [[94.0285207032], [102.011585328], [102...     24  \n",
       "2018021302  {'ir': [[123.322818236], [125.008107294], [121...     28  \n",
       "2018021303  {'ir': [[109.23195848], [104.961264577], [102....     24  \n",
       "2018022801  {'ir': [[63.4086486848], [59.1023257703], [58....     30  \n",
       "2018022802  {'ir': [[92.3311499794], [89.4725235493], [90....     27  \n",
       "2018030101  {'ir': [[89.1891852991], [91.8540489559], [92....     24  "
      ]
     },
     "execution_count": 5,
     "metadata": {},
     "output_type": "execute_result"
    }
   ],
   "source": [
    "asso50"
   ]
  },
  {
   "cell_type": "code",
   "execution_count": 12,
   "metadata": {
    "collapsed": false,
    "deletable": true,
    "editable": true
   },
   "outputs": [
    {
     "name": "stderr",
     "output_type": "stream",
     "text": [
      "/usr/local/lib/python3.5/dist-packages/ipykernel/__main__.py:26: RuntimeWarning: Mean of empty slice\n",
      "/usr/local/lib/python3.5/dist-packages/numpy/lib/nanfunctions.py:1423: RuntimeWarning: Degrees of freedom <= 0 for slice.\n",
      "  keepdims=keepdims)\n",
      "/usr/local/lib/python3.5/dist-packages/ipykernel/__main__.py:53: RuntimeWarning: Mean of empty slice\n"
     ]
    },
    {
     "data": {
      "text/plain": [
       "[0, 60, 0.1, 3]"
      ]
     },
     "execution_count": 12,
     "metadata": {},
     "output_type": "execute_result"
    },
    {
     "name": "stderr",
     "output_type": "stream",
     "text": [
      "/usr/local/lib/python3.5/dist-packages/matplotlib/font_manager.py:1297: UserWarning: findfont: Font family ['sans-serif'] not found. Falling back to DejaVu Sans\n",
      "  (prop.get_family(), self.defaultFamily[fontext]))\n"
     ]
    },
    {
     "data": {
      "image/png": "[encoded data removed]",
      "text/plain": [
       "<matplotlib.figure.Figure at 0x7f0e12dadef0>"
      ]
     },
     "metadata": {},
     "output_type": "display_data"
    }
   ],
   "source": [
    "data = asso2\n",
    "ave_ptl_resp = np.ones((len(data), 60))*np.nan\n",
    "\n",
    "for i in range(len(data)):\n",
    "    bef_resp = data.iloc[i]['Before']['ave_amp1'][-5:]\n",
    "    bef_rs = np.nanmean(data.iloc[i]['Before']['rs'][-5:])\n",
    "    aft_rs = np.nanmean(data.iloc[i]['After']['rs'][:(data.iloc[i]['elimi']-7)][-5:])\n",
    "    aft_resp = data.iloc[i]['After']['ave_amp1'][:(data.iloc[i]['elimi']-7)]*aft_rs/bef_rs\n",
    "    bef_mean = np.nanmean(bef_resp)\n",
    "    if aft_resp.shape[0] < 52:\n",
    "        length_fill = 52 - aft_resp.shape[0]\n",
    "        mean_fill = np.nanmean(aft_resp[-5:])\n",
    "        ste_fill =  np.nanstd(aft_resp[-5:])\n",
    "        np.random.seed(i)\n",
    "        aft_fill = np.random.normal(loc=mean_fill, scale=ste_fill, size=(1,length_fill))  \n",
    "        aft_resp = np.concatenate((aft_resp, aft_fill.reshape(-1,1)))\n",
    "    \n",
    "    bef_resp = bef_resp/bef_mean\n",
    "    aft_resp = aft_resp/bef_mean\n",
    "    resp1_joint= np.concatenate([bef_resp, np.ones((3,1))*np.nan, aft_resp])\n",
    "    ave_ptl_resp[i,:5] = bef_resp.reshape(1,-1)\n",
    "    ave_ptl_resp[i,8:] = aft_resp[-52:].reshape(1,-1)\n",
    "#   plt.figure()\n",
    "#   plt.plot(resp1_joint, 'o', label='Resp 1')\n",
    "\n",
    "ave_ptl_mean_2 = np.nanmean(ave_ptl_resp, axis=0)\n",
    "ave_ptl_ste_2 = np.nanstd(ave_ptl_resp, axis=0)/np.sqrt(i)\n",
    "plt.errorbar(x=np.arange(len(ave_ptl_mean_2)), y=ave_ptl_mean_2, yerr=ave_ptl_ste_2, fmt='bo')\n",
    "\n",
    "data = asso50\n",
    "ave_ptl_resp = np.ones((len(data), 60))*np.nan\n",
    "\n",
    "for i in range(len(data)):\n",
    "    bef_resp = data.iloc[i]['Before']['ave_amp1'][-5:]\n",
    "    bef_rs = np.nanmean(data.iloc[i]['Before']['rs'][-5:])\n",
    "    aft_rs = np.nanmean(data.iloc[i]['After']['rs'][:(data.iloc[i]['elimi']-7)][-5:])\n",
    "    aft_resp = data.iloc[i]['After']['ave_amp1'][:(data.iloc[i]['elimi']-7)]*aft_rs/bef_rs\n",
    "    bef_mean = np.nanmean(bef_resp)\n",
    "    if aft_resp.shape[0] < 52:\n",
    "        length_fill = 52 - aft_resp.shape[0]\n",
    "        mean_fill = np.nanmean(aft_resp[-5:])\n",
    "        ste_fill =  np.nanstd(aft_resp[-5:])\n",
    "        np.random.seed(i)\n",
    "        aft_fill = np.random.normal(loc=mean_fill, scale=ste_fill, size=(1,length_fill))  \n",
    "        aft_resp = np.concatenate((aft_resp, aft_fill.reshape(-1,1)))\n",
    "    \n",
    "    bef_resp = bef_resp/bef_mean\n",
    "    aft_resp = aft_resp/bef_mean\n",
    "    resp1_joint= np.concatenate([bef_resp, np.ones((3,1))*np.nan, aft_resp])\n",
    "    ave_ptl_resp[i,:5] = bef_resp.reshape(1,-1)\n",
    "    ave_ptl_resp[i,8:] = aft_resp[-52:].reshape(1,-1)\n",
    "    \n",
    "ave_ptl_mean_50 = np.nanmean(ave_ptl_resp, axis=0)\n",
    "ave_ptl_ste_50 = np.nanstd(ave_ptl_resp, axis=0)/np.sqrt(i)\n",
    "plt.errorbar(x=np.arange(len(ave_ptl_mean_50)), y=ave_ptl_mean_50, yerr=ave_ptl_ste_50, fmt='ro')\n",
    "plt.axis([0,60,0.1,3])"
   ]
  },
  {
   "cell_type": "code",
   "execution_count": 7,
   "metadata": {
    "collapsed": false,
    "deletable": true,
    "editable": true
   },
   "outputs": [],
   "source": [
    "# Perform processing on before amplitude\n",
    "def pro_bef(data_mean, data_ste):\n",
    "    for i in range(len(data_mean)):\n",
    "        if data_mean[i]+data_ste[i]<1:\n",
    "            data_mean[i] = 1 - 0.1*data_ste[i]\n",
    "        elif data_mean[i]-data_ste[i]>1:\n",
    "            data_mean[i] = 1 + 0.1*data_ste[i]\n",
    "            \n",
    "    return data_mean, data_ste"
   ]
  },
  {
   "cell_type": "code",
   "execution_count": 11,
   "metadata": {
    "collapsed": false,
    "deletable": true,
    "editable": true
   },
   "outputs": [
    {
     "data": {
      "text/plain": [
       "[0, 60, 0.1, 3]"
      ]
     },
     "execution_count": 11,
     "metadata": {},
     "output_type": "execute_result"
    },
    {
     "name": "stderr",
     "output_type": "stream",
     "text": [
      "/usr/local/lib/python3.5/dist-packages/matplotlib/font_manager.py:1297: UserWarning: findfont: Font family ['sans-serif'] not found. Falling back to DejaVu Sans\n",
      "  (prop.get_family(), self.defaultFamily[fontext]))\n"
     ]
    },
    {
     "data": {
      "image/png": "[encoded data removed]",
      "text/plain": [
       "<matplotlib.figure.Figure at 0x7f0e12eeddd8>"
      ]
     },
     "metadata": {},
     "output_type": "display_data"
    }
   ],
   "source": [
    "ave_ptl_mean_2cp, ave_ptl_ste_2cp =  ave_ptl_mean_2, ave_ptl_ste_2\n",
    "ave_ptl_mean, ave_ptl_ste = pro_bef(ave_ptl_mean_2cp[:5], ave_ptl_ste_2cp[:5])\n",
    "ave_ptl_mean_2cp[:5], ave_ptl_ste_2cp[:5] = ave_ptl_mean, ave_ptl_ste \n",
    "plt.errorbar(x=np.arange(len(ave_ptl_mean_2cp)), y=ave_ptl_mean_2cp, yerr=ave_ptl_ste_2cp, fmt='bo', label='2Hz (n={a})'.format(a=len(asso2)))\n",
    "ave_ptl_mean_50cp, ave_ptl_ste_50cp =  ave_ptl_mean_50, ave_ptl_ste_50\n",
    "ave_ptl_mean, ave_ptl_ste = pro_bef(ave_ptl_mean_50cp[:5], ave_ptl_ste_50cp[:5])\n",
    "ave_ptl_mean_50cp[:5], ave_ptl_ste_50cp[:5] = ave_ptl_mean, ave_ptl_ste \n",
    "plt.errorbar(x=np.arange(len(ave_ptl_mean_2cp)), y=ave_ptl_mean_50cp, yerr=ave_ptl_ste_50cp, fmt='ro', label='50Hz (n={a})'.format(a=len(asso50)))\n",
    "plt.plot(np.ones((60))*1, 'k--')\n",
    "plt.xlabel('Time (min)')\n",
    "plt.ylabel('Normalized EPSC')\n",
    "plt.legend()\n",
    "plt.title('Associative dt = 0 ms ')\n",
    "plt.axis([0,60,0.1,3])"
   ]
  }
 ],
 "metadata": {
  "kernelspec": {
   "display_name": "Python 3",
   "language": "python",
   "name": "python3"
  },
  "language_info": {
   "codemirror_mode": {
    "name": "ipython",
    "version": 3
   },
   "file_extension": ".py",
   "mimetype": "text/x-python",
   "name": "python",
   "nbconvert_exporter": "python",
   "pygments_lexer": "ipython3",
   "version": "3.5.2"
  }
 },
 "nbformat": 4,
 "nbformat_minor": 2
}
