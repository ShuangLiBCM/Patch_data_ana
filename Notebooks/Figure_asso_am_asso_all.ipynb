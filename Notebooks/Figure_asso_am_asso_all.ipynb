{
 "cells": [
  {
   "cell_type": "code",
   "execution_count": 1,
   "metadata": {
    "collapsed": false,
    "deletable": true,
    "editable": true
   },
   "outputs": [],
   "source": [
    "import numpy as np\n",
    "import pandas as pd\n",
    "import scipy.io as sio\n",
    "import matplotlib.pyplot as plt\n",
    "from scipy.optimize import curve_fit\n",
    "import pdb\n",
    "from Patch_ana import patch_pip\n",
    "import seaborn as sns\n",
    "from matplotlib.backends.backend_pdf import PdfPages\n",
    "plt.style.use('classic')\n",
    "\n",
    "% matplotlib inline\n",
    "%load_ext autoreload\n",
    "% autoreload"
   ]
  },
  {
   "cell_type": "code",
   "execution_count": 2,
   "metadata": {
    "collapsed": false,
    "deletable": true,
    "editable": true
   },
   "outputs": [],
   "source": [
    "asso2 = pd.read_pickle('/data/ana_am_asso_2')\n",
    "asso50 = pd.read_pickle('/data/ana_am_asso_50')"
   ]
  },
  {
   "cell_type": "code",
   "execution_count": 3,
   "metadata": {
    "collapsed": false,
    "deletable": true,
    "editable": true
   },
   "outputs": [
    {
     "data": {
      "text/html": [
       "<div>\n",
       "<table border=\"1\" class=\"dataframe\">\n",
       "  <thead>\n",
       "    <tr style=\"text-align: right;\">\n",
       "      <th></th>\n",
       "      <th>Before</th>\n",
       "      <th>After</th>\n",
       "      <th>File name</th>\n",
       "      <th>elimi</th>\n",
       "    </tr>\n",
       "  </thead>\n",
       "  <tbody>\n",
       "    <tr>\n",
       "      <th>154</th>\n",
       "      <td>{'x': [1, 2, 3, 4, 5, 6, 7, 8], 'ir': [[141.63...</td>\n",
       "      <td>{'x': [1, 2, 3, 4, 5, 6, 7, 8, 9, 10, 11, 12, ...</td>\n",
       "      <td>2017121201</td>\n",
       "      <td>20</td>\n",
       "    </tr>\n",
       "    <tr>\n",
       "      <th>155</th>\n",
       "      <td>{'x': [1, 2, 3, 4, 5, 6, 7, 8, 9], 'ir': [[114...</td>\n",
       "      <td>{'x': [1, 2, 3, 4, 5, 6, 7, 8, 9, 10, 11, 12, ...</td>\n",
       "      <td>2017121501</td>\n",
       "      <td>30</td>\n",
       "    </tr>\n",
       "    <tr>\n",
       "      <th>158</th>\n",
       "      <td>{'x': [1, 2, 3, 4, 5, 6, 7, 8, 9, 10, 11], 'ir...</td>\n",
       "      <td>{'x': [1, 2, 3, 4, 5, 6, 7, 8, 9, 10, 11, 12, ...</td>\n",
       "      <td>2017122701</td>\n",
       "      <td>20</td>\n",
       "    </tr>\n",
       "    <tr>\n",
       "      <th>159</th>\n",
       "      <td>{'x': [1, 2, 3, 4, 5, 6, 7, 8, 9, 10], 'ir': [...</td>\n",
       "      <td>{'x': [1, 2, 3, 4, 5, 6, 7, 8, 9, 10, 11, 12, ...</td>\n",
       "      <td>2017122801</td>\n",
       "      <td>40</td>\n",
       "    </tr>\n",
       "    <tr>\n",
       "      <th>160</th>\n",
       "      <td>{'x': [1, 2, 3, 4, 5, 6, 7, 8, 9, 10, 11, 12, ...</td>\n",
       "      <td>{'x': [1, 2, 3, 4, 5, 6, 7, 8, 9, 10, 11, 12, ...</td>\n",
       "      <td>2017122902</td>\n",
       "      <td>25</td>\n",
       "    </tr>\n",
       "    <tr>\n",
       "      <th>161</th>\n",
       "      <td>{'x': [1, 2, 3, 4, 5, 6, 7, 8], 'ir': [[92.199...</td>\n",
       "      <td>{'x': [1, 2, 3, 4, 5, 6, 7, 8, 9, 10, 11, 12, ...</td>\n",
       "      <td>2017122903</td>\n",
       "      <td>25</td>\n",
       "    </tr>\n",
       "    <tr>\n",
       "      <th>163</th>\n",
       "      <td>{'x': [1, 2, 3, 4, 5, 6, 7, 8, 9, 10], 'ir': [...</td>\n",
       "      <td>{'x': [1, 2, 3, 4, 5, 6, 7, 8, 9, 10, 11, 12, ...</td>\n",
       "      <td>2018012902</td>\n",
       "      <td>23</td>\n",
       "    </tr>\n",
       "  </tbody>\n",
       "</table>\n",
       "</div>"
      ],
      "text/plain": [
       "                                                Before  \\\n",
       "154  {'x': [1, 2, 3, 4, 5, 6, 7, 8], 'ir': [[141.63...   \n",
       "155  {'x': [1, 2, 3, 4, 5, 6, 7, 8, 9], 'ir': [[114...   \n",
       "158  {'x': [1, 2, 3, 4, 5, 6, 7, 8, 9, 10, 11], 'ir...   \n",
       "159  {'x': [1, 2, 3, 4, 5, 6, 7, 8, 9, 10], 'ir': [...   \n",
       "160  {'x': [1, 2, 3, 4, 5, 6, 7, 8, 9, 10, 11, 12, ...   \n",
       "161  {'x': [1, 2, 3, 4, 5, 6, 7, 8], 'ir': [[92.199...   \n",
       "163  {'x': [1, 2, 3, 4, 5, 6, 7, 8, 9, 10], 'ir': [...   \n",
       "\n",
       "                                                 After   File name  elimi  \n",
       "154  {'x': [1, 2, 3, 4, 5, 6, 7, 8, 9, 10, 11, 12, ...  2017121201     20  \n",
       "155  {'x': [1, 2, 3, 4, 5, 6, 7, 8, 9, 10, 11, 12, ...  2017121501     30  \n",
       "158  {'x': [1, 2, 3, 4, 5, 6, 7, 8, 9, 10, 11, 12, ...  2017122701     20  \n",
       "159  {'x': [1, 2, 3, 4, 5, 6, 7, 8, 9, 10, 11, 12, ...  2017122801     40  \n",
       "160  {'x': [1, 2, 3, 4, 5, 6, 7, 8, 9, 10, 11, 12, ...  2017122902     25  \n",
       "161  {'x': [1, 2, 3, 4, 5, 6, 7, 8, 9, 10, 11, 12, ...  2017122903     25  \n",
       "163  {'x': [1, 2, 3, 4, 5, 6, 7, 8, 9, 10, 11, 12, ...  2018012902     23  "
      ]
     },
     "execution_count": 3,
     "metadata": {},
     "output_type": "execute_result"
    }
   ],
   "source": [
    "asso2"
   ]
  },
  {
   "cell_type": "code",
   "execution_count": 4,
   "metadata": {
    "collapsed": false,
    "deletable": true,
    "editable": true
   },
   "outputs": [
    {
     "data": {
      "text/html": [
       "<div>\n",
       "<table border=\"1\" class=\"dataframe\">\n",
       "  <thead>\n",
       "    <tr style=\"text-align: right;\">\n",
       "      <th></th>\n",
       "      <th>Before</th>\n",
       "      <th>After</th>\n",
       "      <th>File name</th>\n",
       "      <th>elimi</th>\n",
       "    </tr>\n",
       "  </thead>\n",
       "  <tbody>\n",
       "    <tr>\n",
       "      <th>165</th>\n",
       "      <td>{'x': [1, 2, 3, 4, 5, 6, 7, 8, 9], 'ir': [[96....</td>\n",
       "      <td>{'x': [1, 2, 3, 4, 5, 6, 7, 8, 9, 10, 11, 12, ...</td>\n",
       "      <td>2018021301</td>\n",
       "      <td>24</td>\n",
       "    </tr>\n",
       "    <tr>\n",
       "      <th>166</th>\n",
       "      <td>{'x': [1, 2, 3, 4, 5, 6, 7, 8, 9, 10, 11], 'ir...</td>\n",
       "      <td>{'x': [1, 2, 3, 4, 5, 6, 7, 8, 9, 10, 11, 12, ...</td>\n",
       "      <td>2018021302</td>\n",
       "      <td>28</td>\n",
       "    </tr>\n",
       "    <tr>\n",
       "      <th>167</th>\n",
       "      <td>{'x': [1, 2, 3, 4, 5, 6, 7, 8, 9], 'ir': [[127...</td>\n",
       "      <td>{'x': [1, 2, 3, 4, 5, 6, 7, 8, 9, 10, 11, 12, ...</td>\n",
       "      <td>2018021303</td>\n",
       "      <td>24</td>\n",
       "    </tr>\n",
       "    <tr>\n",
       "      <th>168</th>\n",
       "      <td>{'x': [1, 2, 3, 4, 5, 6, 7, 8, 9], 'ir': [[77....</td>\n",
       "      <td>{'x': [1, 2, 3, 4, 5, 6, 7, 8, 9, 10, 11, 12, ...</td>\n",
       "      <td>2018022801</td>\n",
       "      <td>30</td>\n",
       "    </tr>\n",
       "    <tr>\n",
       "      <th>169</th>\n",
       "      <td>{'x': [1, 2, 3, 4, 5, 6, 7, 8, 9], 'ir': [[95....</td>\n",
       "      <td>{'x': [1, 2, 3, 4, 5, 6, 7, 8, 9, 10, 11, 12, ...</td>\n",
       "      <td>2018022802</td>\n",
       "      <td>27</td>\n",
       "    </tr>\n",
       "    <tr>\n",
       "      <th>170</th>\n",
       "      <td>{'x': [1, 2, 3, 4, 5, 6, 7, 8, 9], 'ir': [[111...</td>\n",
       "      <td>{'x': [1, 2, 3, 4, 5, 6, 7, 8, 9, 10, 11, 12, ...</td>\n",
       "      <td>2018030101</td>\n",
       "      <td>24</td>\n",
       "    </tr>\n",
       "    <tr>\n",
       "      <th>171</th>\n",
       "      <td>{'x': [1, 2, 3, 4, 5, 6, 7, 8, 9, 10, 11, 12, ...</td>\n",
       "      <td>{'x': [1, 2, 3, 4, 5, 6, 7, 8, 9, 10, 11, 12, ...</td>\n",
       "      <td>2018030102</td>\n",
       "      <td>20</td>\n",
       "    </tr>\n",
       "  </tbody>\n",
       "</table>\n",
       "</div>"
      ],
      "text/plain": [
       "                                                Before  \\\n",
       "165  {'x': [1, 2, 3, 4, 5, 6, 7, 8, 9], 'ir': [[96....   \n",
       "166  {'x': [1, 2, 3, 4, 5, 6, 7, 8, 9, 10, 11], 'ir...   \n",
       "167  {'x': [1, 2, 3, 4, 5, 6, 7, 8, 9], 'ir': [[127...   \n",
       "168  {'x': [1, 2, 3, 4, 5, 6, 7, 8, 9], 'ir': [[77....   \n",
       "169  {'x': [1, 2, 3, 4, 5, 6, 7, 8, 9], 'ir': [[95....   \n",
       "170  {'x': [1, 2, 3, 4, 5, 6, 7, 8, 9], 'ir': [[111...   \n",
       "171  {'x': [1, 2, 3, 4, 5, 6, 7, 8, 9, 10, 11, 12, ...   \n",
       "\n",
       "                                                 After   File name  elimi  \n",
       "165  {'x': [1, 2, 3, 4, 5, 6, 7, 8, 9, 10, 11, 12, ...  2018021301     24  \n",
       "166  {'x': [1, 2, 3, 4, 5, 6, 7, 8, 9, 10, 11, 12, ...  2018021302     28  \n",
       "167  {'x': [1, 2, 3, 4, 5, 6, 7, 8, 9, 10, 11, 12, ...  2018021303     24  \n",
       "168  {'x': [1, 2, 3, 4, 5, 6, 7, 8, 9, 10, 11, 12, ...  2018022801     30  \n",
       "169  {'x': [1, 2, 3, 4, 5, 6, 7, 8, 9, 10, 11, 12, ...  2018022802     27  \n",
       "170  {'x': [1, 2, 3, 4, 5, 6, 7, 8, 9, 10, 11, 12, ...  2018030101     24  \n",
       "171  {'x': [1, 2, 3, 4, 5, 6, 7, 8, 9, 10, 11, 12, ...  2018030102     20  "
      ]
     },
     "execution_count": 4,
     "metadata": {},
     "output_type": "execute_result"
    }
   ],
   "source": [
    "asso50"
   ]
  },
  {
   "cell_type": "code",
   "execution_count": 5,
   "metadata": {
    "collapsed": false,
    "deletable": true,
    "editable": true
   },
   "outputs": [
    {
     "name": "stderr",
     "output_type": "stream",
     "text": [
      "/src/Patch_ana/Patch_ana/patch_pip.py:500: RuntimeWarning: Mean of empty slice\n",
      "  ave_ptl_mean = np.nanmean(ave_ptl_resp_rm, axis=0)\n",
      "/usr/local/lib/python3.5/dist-packages/numpy/lib/nanfunctions.py:1423: RuntimeWarning: Degrees of freedom <= 0 for slice.\n",
      "  keepdims=keepdims)\n"
     ]
    },
    {
     "data": {
      "text/plain": [
       "<Container object of 3 artists>"
      ]
     },
     "execution_count": 5,
     "metadata": {},
     "output_type": "execute_result"
    },
    {
     "data": {
      "image/png": "[encoded data removed]",
      "text/plain": [
       "<matplotlib.figure.Figure at 0x7fd07b4fd978>"
      ]
     },
     "metadata": {},
     "output_type": "display_data"
    }
   ],
   "source": [
    "ave_ptl_resp = np.ones((len(asso2), 60))*np.nan\n",
    "\n",
    "ave_ptl_mean_2,ave_ptl_ste_2,ave_ptl_2  = patch_pip.samp_ave(asso2, ave_ptl_resp)\n",
    "ave_ptl_mean_2 = ave_ptl_mean_2[:-12]\n",
    "ave_ptl_ste_2 = ave_ptl_ste_2[:-12]\n",
    "ave_ptl_2 = ave_ptl_2[:, :-12]\n",
    "\n",
    "plt.errorbar(x=np.arange(len(ave_ptl_mean_2)), y=ave_ptl_mean_2, yerr=ave_ptl_ste_2, fmt='bo')\n",
    "\n",
    "ave_ptl_resp = np.ones((len(asso50), 60))*np.nan\n",
    "ave_ptl_mean_50,ave_ptl_ste_50, ave_ptl_50 = patch_pip.samp_ave(asso50, ave_ptl_resp)\n",
    "ave_ptl_mean_50 = ave_ptl_mean_50[:-12]\n",
    "ave_ptl_ste_50 = ave_ptl_ste_50[:-12]\n",
    "ave_ptl_50 = ave_ptl_50[:, :-12]\n",
    "\n",
    "plt.errorbar(x=np.arange(len(ave_ptl_mean_50)), y=ave_ptl_mean_50, yerr=ave_ptl_ste_50, fmt='ro')"
   ]
  },
  {
   "cell_type": "code",
   "execution_count": 6,
   "metadata": {
    "collapsed": false,
    "deletable": true,
    "editable": true
   },
   "outputs": [
    {
     "data": {
      "image/png": "[encoded data removed]",
      "text/plain": [
       "<matplotlib.figure.Figure at 0x7fd07b4fd358>"
      ]
     },
     "metadata": {},
     "output_type": "display_data"
    }
   ],
   "source": [
    "ave_ptl_mean_2cp, ave_ptl_ste_2cp =  ave_ptl_mean_2, ave_ptl_ste_2\n",
    "ave_ptl_mean, ave_ptl_ste = patch_pip.pro_bef(ave_ptl_mean_2cp[:5], ave_ptl_ste_2cp[:5])\n",
    "ave_ptl_mean_2cp[:5], ave_ptl_ste_2cp[:5] = ave_ptl_mean, ave_ptl_ste \n",
    "plt.errorbar(x=np.linspace(-6 * 4/3, len(ave_ptl_mean_2cp) - 6 * 4/3, len(ave_ptl_mean_2cp)), y=ave_ptl_mean_2cp, yerr=ave_ptl_ste_2cp, fmt='bo', label='2Hz (n={a})'.format(a=len(asso2)))\n",
    "\n",
    "ave_ptl_mean_50cp, ave_ptl_ste_50cp =  ave_ptl_mean_50, ave_ptl_ste_50\n",
    "ave_ptl_mean, ave_ptl_ste= patch_pip.pro_bef(ave_ptl_mean_50cp[:5], ave_ptl_ste_50cp[:5])\n",
    "ave_ptl_mean_50cp[:5], ave_ptl_ste_50cp[:5] = ave_ptl_mean, ave_ptl_ste \n",
    "plt.errorbar(x=np.linspace(-6 * 4/3, len(ave_ptl_mean_50cp)- 6 * 4/3, len(ave_ptl_mean_50cp)), y=ave_ptl_mean_50cp, yerr=ave_ptl_ste_50cp, fmt='ro', label='50Hz (n={a})'.format(a=len(asso50)))\n",
    "\n",
    "plt.plot(np.ones((50))*1, 'k--')\n",
    "plt.xlabel('Time (min)')\n",
    "plt.ylabel('Normalized EPSC')\n",
    "# plt.legend()\n",
    "plt.ylim([0.2, 2.5])\n",
    "plt.title('Pre-synaptic only (-70 mV)')\n",
    "with PdfPages('/data/Figure4_8.pdf') as pdf:\n",
    "    pdf.savefig()"
   ]
  },
  {
   "cell_type": "code",
   "execution_count": 7,
   "metadata": {
    "collapsed": false,
    "deletable": true,
    "editable": true
   },
   "outputs": [
    {
     "data": {
      "image/png": "[encoded data removed]",
      "text/plain": [
       "<matplotlib.figure.Figure at 0x7fd07bb7fd68>"
      ]
     },
     "metadata": {},
     "output_type": "display_data"
    }
   ],
   "source": [
    "# Compare amplitude\n",
    "mean_amp_aft_2Hz = np.nanmean(np.nanmean(ave_ptl_2[:, -10:], axis=1))\n",
    "mean_amp_aft_50Hz = np.nanmean(np.nanmean(ave_ptl_50[:, -10:], axis=1))\n",
    "\n",
    "std_amp_aft_2Hz = np.nanstd(np.nanmean(ave_ptl_2[:, -10:], axis=1))/np.sqrt(6)\n",
    "std_amp_aft_50Hz = np.nanstd(np.nanmean(ave_ptl_50[:, -10:], axis=1))/np.sqrt(6)\n",
    "plt.bar([1,2,3], [1, mean_amp_aft_2Hz, mean_amp_aft_50Hz], align='center', width=0.4)\n",
    "plt.errorbar(x=[1,2,3], y=[1, mean_amp_aft_2Hz, mean_amp_aft_50Hz],yerr = [0, std_amp_aft_2Hz, std_amp_aft_50Hz], fmt='')\n",
    "plt.ylim([0,2])\n",
    "with PdfPages('/data/Figure4_9.pdf') as pdf:\n",
    "    pdf.savefig()"
   ]
  },
  {
   "cell_type": "code",
   "execution_count": 15,
   "metadata": {
    "collapsed": false,
    "deletable": true,
    "editable": true
   },
   "outputs": [
    {
     "data": {
      "image/png": "[encoded data removed]",
      "text/plain": [
       "<matplotlib.figure.Figure at 0x7fd07b948f60>"
      ]
     },
     "metadata": {},
     "output_type": "display_data"
    }
   ],
   "source": [
    "# Compare PPR\n",
    "mean_PPR_bef = [np.nanmean(asso50['Before'].loc[i]['PPR']) for i in asso50['Before'].index]\n",
    "mean_PPR_aft = [np.nanmean(asso50['After'].loc[i]['PPR'][-10:]) for i in asso50['After'].index]\n",
    "\n",
    "mean_PPR_ave_bef = np.mean(mean_PPR_bef)\n",
    "mean_PPR_std_bef = np.std(mean_PPR_bef)/np.sqrt(6)\n",
    "mean_PPR_ave_aft = np.mean(mean_PPR_aft)\n",
    "mean_PPR_std_aft = np.std(mean_PPR_aft)/np.sqrt(6)\n",
    "\n",
    "for i, j in zip(mean_PPR_bef, mean_PPR_aft):\n",
    "    plt.plot([0.5,1.5], [i, j], 'bo-', alpha=0.3, markersize=10)\n",
    "plt.errorbar([0.5,1.5], [mean_PPR_ave_bef, mean_PPR_ave_aft], [mean_PPR_std_bef, mean_PPR_std_aft], fmt='r-o', markersize=10)\n",
    "plt.xlim([0,2])\n",
    "plt.ylim([0,3])\n",
    "with PdfPages('/data/Figure4_C.pdf') as pdf:\n",
    "    pdf.savefig()"
   ]
  },
  {
   "cell_type": "code",
   "execution_count": 16,
   "metadata": {
    "collapsed": false,
    "deletable": true,
    "editable": true
   },
   "outputs": [
    {
     "data": {
      "image/png": "[encoded data removed]",
      "text/plain": [
       "<matplotlib.figure.Figure at 0x7fd07b838198>"
      ]
     },
     "metadata": {},
     "output_type": "display_data"
    }
   ],
   "source": [
    "# Compare PPR\n",
    "mean_PPR_bef = [np.nanmean(asso2['Before'].loc[i]['PPR']) for i in asso2['Before'].index]\n",
    "mean_PPR_aft = [np.nanmean(asso2['After'].loc[i]['PPR'][-10:]) for i in asso2['After'].index]\n",
    "\n",
    "mean_PPR_ave_bef = np.mean(mean_PPR_bef)\n",
    "mean_PPR_std_bef = np.std(mean_PPR_bef)/np.sqrt(6)\n",
    "mean_PPR_ave_aft = np.mean(mean_PPR_aft)\n",
    "mean_PPR_std_aft = np.std(mean_PPR_aft)/np.sqrt(6)\n",
    "\n",
    "for i, j in zip(mean_PPR_bef, mean_PPR_aft):\n",
    "    plt.plot([0.5,1.5], [i, j], 'bo-', alpha=0.3, markersize=10)\n",
    "plt.errorbar([0.5,1.5], [mean_PPR_ave_bef, mean_PPR_ave_aft], [mean_PPR_std_bef, mean_PPR_std_aft], fmt='r-o', markersize=10)\n",
    "plt.xlim([0,2])\n",
    "plt.ylim([0,3.5])\n",
    "with PdfPages('/data/Figure4_D.pdf') as pdf:\n",
    "    pdf.savefig()"
   ]
  },
  {
   "cell_type": "code",
   "execution_count": 10,
   "metadata": {
    "collapsed": false,
    "deletable": true,
    "editable": true
   },
   "outputs": [
    {
     "data": {
      "image/png": "[encoded data removed]",
      "text/plain": [
       "<matplotlib.figure.Figure at 0x7fd07bb547b8>"
      ]
     },
     "metadata": {},
     "output_type": "display_data"
    }
   ],
   "source": [
    "# Compare failure rate\n",
    "mean_fail_bef = [np.sum(asso50['Before'].loc[i]['failure'])/len(asso50['Before'].loc[i]['failure']) for i in asso50['Before'].index]\n",
    "mean_fail_aft = [np.sum(asso50['After'].loc[i]['failure'][-40:])/40 for i in asso50['After'].index]\n",
    "\n",
    "mean_fail_ave_bef = np.mean(mean_fail_bef)\n",
    "mean_fail_std_bef = np.std(mean_fail_bef)/np.sqrt(len(mean_fail_bef))\n",
    "mean_fail_ave_aft = np.mean(mean_fail_aft)\n",
    "mean_fail_std_aft = np.std(mean_fail_aft)/np.sqrt(len(mean_fail_bef))\n",
    "\n",
    "for i, j in zip(mean_fail_bef, mean_fail_aft):\n",
    "    plt.plot([0.5,1.5], [i, j], 'bo-', alpha=0.3, markersize=10)\n",
    "plt.errorbar([0.5,1.5], [mean_fail_ave_bef, mean_fail_ave_aft], [mean_fail_std_bef, mean_fail_std_aft], fmt='k-o', markersize=10)\n",
    "\n",
    "plt.xlim([0,2])\n",
    "plt.ylim([-0.05,0.35])\n",
    "\n",
    "with PdfPages('/data/Figure4_6.pdf') as pdf:\n",
    "    pdf.savefig()"
   ]
  },
  {
   "cell_type": "code",
   "execution_count": 11,
   "metadata": {
    "collapsed": false,
    "deletable": true,
    "editable": true
   },
   "outputs": [
    {
     "data": {
      "image/png": "[encoded data removed]",
      "text/plain": [
       "<matplotlib.figure.Figure at 0x7fd07baf2390>"
      ]
     },
     "metadata": {},
     "output_type": "display_data"
    }
   ],
   "source": [
    "# Compare failure rate\n",
    "mean_fail_bef = [np.sum(asso2['Before'].loc[i]['failure'])/len(asso2['Before'].loc[i]['failure']) for i in asso2['Before'].index]\n",
    "mean_fail_aft = [np.sum(asso2['After'].loc[i]['failure'][-40:])/40 for i in asso2['After'].index]\n",
    "\n",
    "mean_fail_bef.pop(1)\n",
    "mean_fail_aft.pop(1)\n",
    "\n",
    "mean_fail_ave_bef = np.mean(mean_fail_bef)\n",
    "mean_fail_std_bef = np.std(mean_fail_bef)/np.sqrt(len(mean_fail_bef))\n",
    "mean_fail_ave_aft = np.mean(mean_fail_aft)\n",
    "mean_fail_std_aft = np.std(mean_fail_aft)/np.sqrt(len(mean_fail_bef))\n",
    "\n",
    "for i, j in zip(mean_fail_bef, mean_fail_aft):\n",
    "    plt.plot([0.5,1.5], [i, j], 'bo-', alpha=0.3, markersize=10)\n",
    "plt.errorbar([0.5,1.5], [mean_fail_ave_bef, mean_fail_ave_aft], [mean_fail_std_bef, mean_fail_std_aft], fmt='k-o', markersize=10)\n",
    "\n",
    "plt.xlim([0,2])\n",
    "plt.ylim([-0.05,0.35])\n",
    "\n",
    "with PdfPages('/data/Figure4_7.pdf') as pdf:\n",
    "    pdf.savefig()"
   ]
  },
  {
   "cell_type": "code",
   "execution_count": null,
   "metadata": {
    "collapsed": false,
    "deletable": true,
    "editable": true
   },
   "outputs": [],
   "source": [
    "# CV analysis\n",
    "r_50, pi_50 = patch_pip.cv_analysis(asso50, bef_len=15, aft_len=100)\n",
    "\n",
    "plt.errorbar(np.mean(pi_50), np.mean(r_50), np.std(r_50)/np.sqrt(len(r_50)), np.std(pi_50)/np.sqrt(len(pi_50)),  'o', markersize=10)\n",
    "\n",
    "# CV analysis\n",
    "r_2, pi_2 = patch_pip.cv_analysis(asso2, bef_len=5, aft_len=100)\n",
    "plt.errorbar(np.mean(pi_2), np.mean(r_2), np.std(r_2)/np.sqrt(len(r_2)), np.std(pi_2)/np.sqrt(len(pi_2)),  'o', markersize=10)\n",
    "r_2.pop(0)\n",
    "pi_2.pop(0)\n",
    "\n",
    "plt.plot(np.arange(0, 4, 0.5),np.arange(0, 4, 0.5), 'k--')\n",
    "plt.plot(np.arange(0, 4, 0.5), np.ones(8),'k--')\n",
    "plt.plot(np.ones(8),np.arange(0, 4, 0.5),'k--')\n",
    "plt.axes().set_aspect('equal')\n",
    "with PdfPages('/data/Figure4_12.pdf') as pdf:\n",
    "    pdf.savefig()"
   ]
  },
  {
   "cell_type": "code",
   "execution_count": null,
   "metadata": {
    "collapsed": false,
    "deletable": true,
    "editable": true
   },
   "outputs": [],
   "source": [
    "# CV analysis\n",
    "cv_mean_bef = [np.nanmean(asso50['Before'].loc[i]['raw_amp1'][-20:]) for i in asso50['Before'].index]\n",
    "cv_mean_aft = [np.nanmean(ave_ptl_50[i, -10:]) * cv_mean_bef[i] for i in range(ave_ptl_50.shape[0])]\n",
    "               \n",
    "cv_std_bef = [np.nanstd(asso50['Before'].loc[i]['raw_amp1'][-15:]) for i in asso50['Before'].index]\n",
    "end_aft = [asso50['elimi'].values[i] for i in range(len(asso50))]\n",
    "cv_std_aft = [np.nanstd(asso50['After'].loc[i]['raw_amp1'][max(end_aft[k]*3-70,0):end_aft[k]*3]) for k,i in enumerate(asso50['After'].index)]\n",
    "\n",
    "r = [i ** 2/j ** 2 for i, j in zip([k/m for k, m in zip(cv_std_bef,cv_mean_bef)], [k/m for k, m in zip(cv_std_aft,cv_mean_aft)])]\n",
    "pi = [i/j for i, j in zip(cv_mean_aft, cv_mean_bef)]\n",
    "\n",
    "\n",
    "plt.errorbar(np.mean(pi), np.mean(r), np.std(r)/np.sqrt(len(r)), np.std(pi)/np.sqrt(len(pi)),  'o', markersize=10)\n",
    "\n",
    "# CV analysis\n",
    "cv_mean_bef = [np.nanmean(asso2['Before'].loc[i]['raw_amp1'][-20:]) for i in asso2['Before'].index]\n",
    "cv_mean_aft = [np.nanmean(ave_ptl_2[i, -10:]) * cv_mean_bef[i] for i in range(ave_ptl_2.shape[0])]\n",
    "               \n",
    "cv_std_bef = [np.nanstd(asso2['Before'].loc[i]['raw_amp1'][-15:]) for i in asso2['Before'].index]\n",
    "end_aft = [asso2['elimi'].values[i] for i in range(len(asso2))]\n",
    "cv_std_aft = [np.nanstd(asso2['After'].loc[i]['raw_amp1'][max(end_aft[k]*3-70,0):end_aft[k]*3]) for k,i in enumerate(asso2['After'].index)]\n",
    "\n",
    "r = [i ** 2/j ** 2 for i, j in zip([k/m for k, m in zip(cv_std_bef,cv_mean_bef)], [k/m for k, m in zip(cv_std_aft,cv_mean_aft)])]\n",
    "pi = [i/j for i, j in zip(cv_mean_aft, cv_mean_bef)]\n",
    "r.pop(0)\n",
    "pi.pop(0)\n",
    "\n",
    "plt.errorbar(np.mean(pi), np.mean(r), np.std(r)/np.sqrt(len(r)), np.std(pi)/np.sqrt(len(pi)),  'o', markersize=10)\n",
    "\n",
    "plt.plot(np.arange(0, 4, 0.5),np.arange(0, 4, 0.5), 'k--')\n",
    "plt.plot(np.arange(0, 4, 0.5), np.ones(8),'k--')\n",
    "plt.plot(np.ones(8),np.arange(0, 4, 0.5),'k--')\n",
    "#plt.xlim([0, 3.5])\n",
    "#plt.ylim([0, 3.5])\n",
    "plt.axes().set_aspect('equal')\n",
    "with PdfPages('/data/Figure4_12.pdf') as pdf:\n",
    "    pdf.savefig()"
   ]
  },
  {
   "cell_type": "code",
   "execution_count": null,
   "metadata": {
    "collapsed": false,
    "deletable": true,
    "editable": true
   },
   "outputs": [],
   "source": [
    "ave_ptl_mean_2cp, ave_ptl_ste_2cp =  ave_ptl_mean_2, ave_ptl_ste_2\n",
    "ave_ptl_mean, ave_ptl_ste = pro_bef(ave_ptl_mean_2cp[:5], ave_ptl_ste_2cp[:5])\n",
    "ave_ptl_mean_2cp[:5], ave_ptl_ste_2cp[:5] = ave_ptl_mean, ave_ptl_ste \n",
    "plt.errorbar(x=np.arange(len(ave_ptl_mean_2cp)), y=ave_ptl_mean_2cp, yerr=ave_ptl_ste_2cp, fmt='bo', label='2Hz (n={a})'.format(a=len(asso2)))\n",
    "ave_ptl_mean_50cp, ave_ptl_ste_50cp =  ave_ptl_mean_50, ave_ptl_ste_50\n",
    "ave_ptl_mean, ave_ptl_ste = pro_bef(ave_ptl_mean_50cp[:5], ave_ptl_ste_50cp[:5])\n",
    "ave_ptl_mean_50cp[:5], ave_ptl_ste_50cp[:5] = ave_ptl_mean, ave_ptl_ste \n",
    "plt.errorbar(x=np.arange(len(ave_ptl_mean_2cp)), y=ave_ptl_mean_50cp, yerr=ave_ptl_ste_50cp, fmt='ro', label='50Hz (n={a})'.format(a=len(asso50)))\n",
    "plt.plot(np.ones((60))*1, 'k--')\n",
    "plt.xlabel('Time (min)')\n",
    "plt.ylabel('Normalized EPSC')\n",
    "plt.legend()\n",
    "plt.title('Associative dt = 0 ms ')\n",
    "plt.axis([0,60,0.1,3])"
   ]
  }
 ],
 "metadata": {
  "kernelspec": {
   "display_name": "Python 3",
   "language": "python",
   "name": "python3"
  },
  "language_info": {
   "codemirror_mode": {
    "name": "ipython",
    "version": 3
   },
   "file_extension": ".py",
   "mimetype": "text/x-python",
   "name": "python",
   "nbconvert_exporter": "python",
   "pygments_lexer": "ipython3",
   "version": "3.5.2"
  }
 },
 "nbformat": 4,
 "nbformat_minor": 2
}
