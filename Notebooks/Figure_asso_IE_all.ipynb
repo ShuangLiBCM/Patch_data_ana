{
 "cells": [
  {
   "cell_type": "code",
   "execution_count": 1,
   "metadata": {
    "collapsed": false,
    "deletable": true,
    "editable": true
   },
   "outputs": [],
   "source": [
    "import numpy as np\n",
    "import pandas as pd\n",
    "import scipy.io as sio\n",
    "import matplotlib.pyplot as plt\n",
    "from scipy.optimize import curve_fit\n",
    "import pdb\n",
    "from Patch_ana import patch_pip\n",
    "import seaborn as sns\n",
    "\n",
    "% matplotlib inline\n",
    "%load_ext autoreload\n",
    "% autoreload"
   ]
  },
  {
   "cell_type": "code",
   "execution_count": 2,
   "metadata": {
    "collapsed": false,
    "deletable": true,
    "editable": true
   },
   "outputs": [],
   "source": [
    "asso2 = pd.read_pickle('/data/ana_asso_2Hz_reci')\n",
    "asso50 = pd.read_pickle('/data/ana_asso_50Hz_reci')\n",
    "asso50_uni = pd.read_pickle('/data/ana_asso_50Hz_uni')"
   ]
  },
  {
   "cell_type": "code",
   "execution_count": 3,
   "metadata": {
    "collapsed": false,
    "deletable": true,
    "editable": true
   },
   "outputs": [
    {
     "data": {
      "text/html": [
       "<div>\n",
       "<table border=\"1\" class=\"dataframe\">\n",
       "  <thead>\n",
       "    <tr style=\"text-align: right;\">\n",
       "      <th></th>\n",
       "      <th>Before</th>\n",
       "      <th>After</th>\n",
       "      <th>File name</th>\n",
       "      <th>elimi</th>\n",
       "    </tr>\n",
       "  </thead>\n",
       "  <tbody>\n",
       "    <tr>\n",
       "      <th>139</th>\n",
       "      <td>{'raw_amp2': [1.26492830187e-11, nan, 2.989281...</td>\n",
       "      <td>{'raw_amp2': [nan, 2.2440299524e-11, 1.3805434...</td>\n",
       "      <td>2017111401</td>\n",
       "      <td>50</td>\n",
       "    </tr>\n",
       "    <tr>\n",
       "      <th>140</th>\n",
       "      <td>{'raw_amp2': [1.70250177734e-10, 1.14857567087...</td>\n",
       "      <td>{'raw_amp2': [3.4214526804e-10, 1.81794599519e...</td>\n",
       "      <td>2017111402</td>\n",
       "      <td>35</td>\n",
       "    </tr>\n",
       "    <tr>\n",
       "      <th>141</th>\n",
       "      <td>{'raw_amp2': [4.79077172446e-11, 3.20369207629...</td>\n",
       "      <td>{'raw_amp2': [4.60948423777e-11, 4.16384729287...</td>\n",
       "      <td>2017111501</td>\n",
       "      <td>16</td>\n",
       "    </tr>\n",
       "    <tr>\n",
       "      <th>142</th>\n",
       "      <td>{'raw_amp2': [nan, 1.15237007051e-11, 1.127271...</td>\n",
       "      <td>{'raw_amp2': [4.30126594694e-11, 4.93833020387...</td>\n",
       "      <td>2017111601</td>\n",
       "      <td>50</td>\n",
       "    </tr>\n",
       "    <tr>\n",
       "      <th>143</th>\n",
       "      <td>{'raw_amp2': [2.75535103729e-11, 3.60951734936...</td>\n",
       "      <td>{'raw_amp2': [4.15294459872e-11, 3.86392607797...</td>\n",
       "      <td>2017111601</td>\n",
       "      <td>30</td>\n",
       "    </tr>\n",
       "    <tr>\n",
       "      <th>144</th>\n",
       "      <td>{'raw_amp2': [nan, nan, 2.34582798594e-11, nan...</td>\n",
       "      <td>{'raw_amp2': [5.94031086627e-11, nan, 2.151754...</td>\n",
       "      <td>2017111602</td>\n",
       "      <td>17</td>\n",
       "    </tr>\n",
       "    <tr>\n",
       "      <th>145</th>\n",
       "      <td>{'raw_amp2': [1.16203668535e-10, 1.37506624143...</td>\n",
       "      <td>{'raw_amp2': [2.67010062702e-10, 2.7186269038e...</td>\n",
       "      <td>2017111001</td>\n",
       "      <td>25</td>\n",
       "    </tr>\n",
       "    <tr>\n",
       "      <th>146</th>\n",
       "      <td>{'raw_amp2': [1.45205360184e-10, 8.12202233324...</td>\n",
       "      <td>{'raw_amp2': [1.34173104758e-10, 1.41662378674...</td>\n",
       "      <td>2017111002</td>\n",
       "      <td>25</td>\n",
       "    </tr>\n",
       "  </tbody>\n",
       "</table>\n",
       "</div>"
      ],
      "text/plain": [
       "                                                Before  \\\n",
       "139  {'raw_amp2': [1.26492830187e-11, nan, 2.989281...   \n",
       "140  {'raw_amp2': [1.70250177734e-10, 1.14857567087...   \n",
       "141  {'raw_amp2': [4.79077172446e-11, 3.20369207629...   \n",
       "142  {'raw_amp2': [nan, 1.15237007051e-11, 1.127271...   \n",
       "143  {'raw_amp2': [2.75535103729e-11, 3.60951734936...   \n",
       "144  {'raw_amp2': [nan, nan, 2.34582798594e-11, nan...   \n",
       "145  {'raw_amp2': [1.16203668535e-10, 1.37506624143...   \n",
       "146  {'raw_amp2': [1.45205360184e-10, 8.12202233324...   \n",
       "\n",
       "                                                 After   File name  elimi  \n",
       "139  {'raw_amp2': [nan, 2.2440299524e-11, 1.3805434...  2017111401     50  \n",
       "140  {'raw_amp2': [3.4214526804e-10, 1.81794599519e...  2017111402     35  \n",
       "141  {'raw_amp2': [4.60948423777e-11, 4.16384729287...  2017111501     16  \n",
       "142  {'raw_amp2': [4.30126594694e-11, 4.93833020387...  2017111601     50  \n",
       "143  {'raw_amp2': [4.15294459872e-11, 3.86392607797...  2017111601     30  \n",
       "144  {'raw_amp2': [5.94031086627e-11, nan, 2.151754...  2017111602     17  \n",
       "145  {'raw_amp2': [2.67010062702e-10, 2.7186269038e...  2017111001     25  \n",
       "146  {'raw_amp2': [1.34173104758e-10, 1.41662378674...  2017111002     25  "
      ]
     },
     "execution_count": 3,
     "metadata": {},
     "output_type": "execute_result"
    }
   ],
   "source": [
    "asso2"
   ]
  },
  {
   "cell_type": "code",
   "execution_count": 4,
   "metadata": {
    "collapsed": false,
    "deletable": true,
    "editable": true
   },
   "outputs": [
    {
     "data": {
      "text/html": [
       "<div>\n",
       "<table border=\"1\" class=\"dataframe\">\n",
       "  <thead>\n",
       "    <tr style=\"text-align: right;\">\n",
       "      <th></th>\n",
       "      <th>Before</th>\n",
       "      <th>After</th>\n",
       "      <th>File name</th>\n",
       "      <th>elimi</th>\n",
       "    </tr>\n",
       "  </thead>\n",
       "  <tbody>\n",
       "    <tr>\n",
       "      <th>58</th>\n",
       "      <td>{'raw_amp2': [2.21822569476e-11, 9.4164206679e...</td>\n",
       "      <td>{'raw_amp2': [9.46673029112e-11, 6.84917584839...</td>\n",
       "      <td>2016120202</td>\n",
       "      <td>18</td>\n",
       "    </tr>\n",
       "    <tr>\n",
       "      <th>59</th>\n",
       "      <td>{'raw_amp2': [3.12183220028e-11, 2.03499566457...</td>\n",
       "      <td>{'raw_amp2': [5.38919192837e-11, 7.01893775434...</td>\n",
       "      <td>2016102703</td>\n",
       "      <td>60</td>\n",
       "    </tr>\n",
       "    <tr>\n",
       "      <th>60</th>\n",
       "      <td>{'raw_amp2': [2.47654762438e-11, nan, nan, 3.9...</td>\n",
       "      <td>{'raw_amp2': [2.03893269941e-11, 2.470260007e-...</td>\n",
       "      <td>2016120504</td>\n",
       "      <td>18</td>\n",
       "    </tr>\n",
       "    <tr>\n",
       "      <th>61</th>\n",
       "      <td>{'raw_amp2': [5.11015196081e-11, 9.37833277719...</td>\n",
       "      <td>{'raw_amp2': [4.46787773385e-11, nan, 1.685361...</td>\n",
       "      <td>2017050902</td>\n",
       "      <td>18</td>\n",
       "    </tr>\n",
       "    <tr>\n",
       "      <th>62</th>\n",
       "      <td>{'raw_amp2': [2.99351481624e-11, 2.14278288001...</td>\n",
       "      <td>{'raw_amp2': [5.08176986832e-11, 1.47135963626...</td>\n",
       "      <td>2017051001</td>\n",
       "      <td>60</td>\n",
       "    </tr>\n",
       "    <tr>\n",
       "      <th>63</th>\n",
       "      <td>{'raw_amp2': [3.01016933939e-11, 5.41908023341...</td>\n",
       "      <td>{'raw_amp2': [9.34998255698e-11, 4.86178932261...</td>\n",
       "      <td>2017051002</td>\n",
       "      <td>50</td>\n",
       "    </tr>\n",
       "  </tbody>\n",
       "</table>\n",
       "</div>"
      ],
      "text/plain": [
       "                                               Before  \\\n",
       "58  {'raw_amp2': [2.21822569476e-11, 9.4164206679e...   \n",
       "59  {'raw_amp2': [3.12183220028e-11, 2.03499566457...   \n",
       "60  {'raw_amp2': [2.47654762438e-11, nan, nan, 3.9...   \n",
       "61  {'raw_amp2': [5.11015196081e-11, 9.37833277719...   \n",
       "62  {'raw_amp2': [2.99351481624e-11, 2.14278288001...   \n",
       "63  {'raw_amp2': [3.01016933939e-11, 5.41908023341...   \n",
       "\n",
       "                                                After   File name  elimi  \n",
       "58  {'raw_amp2': [9.46673029112e-11, 6.84917584839...  2016120202     18  \n",
       "59  {'raw_amp2': [5.38919192837e-11, 7.01893775434...  2016102703     60  \n",
       "60  {'raw_amp2': [2.03893269941e-11, 2.470260007e-...  2016120504     18  \n",
       "61  {'raw_amp2': [4.46787773385e-11, nan, 1.685361...  2017050902     18  \n",
       "62  {'raw_amp2': [5.08176986832e-11, 1.47135963626...  2017051001     60  \n",
       "63  {'raw_amp2': [9.34998255698e-11, 4.86178932261...  2017051002     50  "
      ]
     },
     "execution_count": 4,
     "metadata": {},
     "output_type": "execute_result"
    }
   ],
   "source": [
    "asso50"
   ]
  },
  {
   "cell_type": "code",
   "execution_count": 5,
   "metadata": {
    "collapsed": false,
    "deletable": true,
    "editable": true
   },
   "outputs": [
    {
     "data": {
      "text/html": [
       "<div>\n",
       "<table border=\"1\" class=\"dataframe\">\n",
       "  <thead>\n",
       "    <tr style=\"text-align: right;\">\n",
       "      <th></th>\n",
       "      <th>Before</th>\n",
       "      <th>After</th>\n",
       "      <th>File name</th>\n",
       "      <th>elimi</th>\n",
       "    </tr>\n",
       "  </thead>\n",
       "  <tbody>\n",
       "    <tr>\n",
       "      <th>52</th>\n",
       "      <td>{'raw_amp2': [1.5596938858e-11, 2.03049198789e...</td>\n",
       "      <td>{'raw_amp2': [2.97014108857e-11, 2.07763387367...</td>\n",
       "      <td>2016103101</td>\n",
       "      <td>25</td>\n",
       "    </tr>\n",
       "    <tr>\n",
       "      <th>53</th>\n",
       "      <td>{'raw_amp2': [5.67684968478e-11, 5.68020497921...</td>\n",
       "      <td>{'raw_amp2': [6.79334784191e-11, 8.8808347096e...</td>\n",
       "      <td>2016120503</td>\n",
       "      <td>30</td>\n",
       "    </tr>\n",
       "    <tr>\n",
       "      <th>54</th>\n",
       "      <td>{'raw_amp2': [3.58356031949e-11, 2.15720196051...</td>\n",
       "      <td>{'raw_amp2': [1.11781153778e-11, 1.82869894226...</td>\n",
       "      <td>2017050901</td>\n",
       "      <td>30</td>\n",
       "    </tr>\n",
       "    <tr>\n",
       "      <th>55</th>\n",
       "      <td>{'raw_amp2': [nan, 2.82190989634e-11, 5.856691...</td>\n",
       "      <td>{'raw_amp2': [7.95653250069e-11, 5.87719386041...</td>\n",
       "      <td>2017052203</td>\n",
       "      <td>28</td>\n",
       "    </tr>\n",
       "    <tr>\n",
       "      <th>56</th>\n",
       "      <td>{'raw_amp2': [5.59295205257e-11, 4.99437717122...</td>\n",
       "      <td>{'raw_amp2': [6.96828736818e-11, 5.41600902774...</td>\n",
       "      <td>2016092901</td>\n",
       "      <td>30</td>\n",
       "    </tr>\n",
       "  </tbody>\n",
       "</table>\n",
       "</div>"
      ],
      "text/plain": [
       "                                               Before  \\\n",
       "52  {'raw_amp2': [1.5596938858e-11, 2.03049198789e...   \n",
       "53  {'raw_amp2': [5.67684968478e-11, 5.68020497921...   \n",
       "54  {'raw_amp2': [3.58356031949e-11, 2.15720196051...   \n",
       "55  {'raw_amp2': [nan, 2.82190989634e-11, 5.856691...   \n",
       "56  {'raw_amp2': [5.59295205257e-11, 4.99437717122...   \n",
       "\n",
       "                                                After   File name  elimi  \n",
       "52  {'raw_amp2': [2.97014108857e-11, 2.07763387367...  2016103101     25  \n",
       "53  {'raw_amp2': [6.79334784191e-11, 8.8808347096e...  2016120503     30  \n",
       "54  {'raw_amp2': [1.11781153778e-11, 1.82869894226...  2017050901     30  \n",
       "55  {'raw_amp2': [7.95653250069e-11, 5.87719386041...  2017052203     28  \n",
       "56  {'raw_amp2': [6.96828736818e-11, 5.41600902774...  2016092901     30  "
      ]
     },
     "execution_count": 5,
     "metadata": {},
     "output_type": "execute_result"
    }
   ],
   "source": [
    "asso50_uni"
   ]
  },
  {
   "cell_type": "code",
   "execution_count": 6,
   "metadata": {
    "collapsed": false,
    "deletable": true,
    "editable": true
   },
   "outputs": [
    {
     "name": "stderr",
     "output_type": "stream",
     "text": [
      "/src/Patch_ana/Patch_ana/patch_pip.py:471: RuntimeWarning: Mean of empty slice\n",
      "  ave_ptl_mean = np.nanmean(ave_ptl_resp, axis=0)\n",
      "/usr/local/lib/python3.5/dist-packages/numpy/lib/nanfunctions.py:1423: RuntimeWarning: Degrees of freedom <= 0 for slice.\n",
      "  keepdims=keepdims)\n"
     ]
    },
    {
     "data": {
      "text/plain": [
       "<Container object of 3 artists>"
      ]
     },
     "execution_count": 6,
     "metadata": {},
     "output_type": "execute_result"
    },
    {
     "name": "stderr",
     "output_type": "stream",
     "text": [
      "/usr/local/lib/python3.5/dist-packages/matplotlib/font_manager.py:1297: UserWarning: findfont: Font family ['sans-serif'] not found. Falling back to DejaVu Sans\n",
      "  (prop.get_family(), self.defaultFamily[fontext]))\n"
     ]
    },
    {
     "data": {
      "image/png": "[encoded data removed]",
      "text/plain": [
       "<matplotlib.figure.Figure at 0x7f3e90762d68>"
      ]
     },
     "metadata": {},
     "output_type": "display_data"
    }
   ],
   "source": [
    "ave_ptl_resp = np.ones((len(asso2), 60))*np.nan\n",
    "\n",
    "ave_ptl_mean_2,ave_ptl_ste_2 = patch_pip.samp_ave(asso2, ave_ptl_resp)\n",
    "plt.errorbar(x=np.arange(len(ave_ptl_mean_2)), y=ave_ptl_mean_2, yerr=ave_ptl_ste_2, fmt='bo')\n",
    "\n",
    "ave_ptl_resp = np.ones((len(asso50), 60))*np.nan\n",
    "ave_ptl_mean_50,ave_ptl_ste_50 = patch_pip.samp_ave(asso50, ave_ptl_resp)\n",
    "plt.errorbar(x=np.arange(len(ave_ptl_mean_50)), y=ave_ptl_mean_50, yerr=ave_ptl_ste_50, fmt='ro')\n",
    "\n",
    "ave_ptl_resp = np.ones((len(asso50_uni), 60))*np.nan\n",
    "ave_ptl_mean_50_uni,ave_ptl_ste_50_uni = patch_pip.samp_ave(asso50_uni, ave_ptl_resp)\n",
    "plt.errorbar(x=np.arange(len(ave_ptl_mean_50_uni)), y=ave_ptl_mean_50_uni, yerr=ave_ptl_ste_50_uni, fmt='ko')"
   ]
  },
  {
   "cell_type": "code",
   "execution_count": 7,
   "metadata": {
    "collapsed": false,
    "deletable": true,
    "editable": true
   },
   "outputs": [
    {
     "data": {
      "text/plain": [
       "[0, 60, 0.1, 1.7]"
      ]
     },
     "execution_count": 7,
     "metadata": {},
     "output_type": "execute_result"
    },
    {
     "name": "stderr",
     "output_type": "stream",
     "text": [
      "/usr/local/lib/python3.5/dist-packages/matplotlib/font_manager.py:1297: UserWarning: findfont: Font family ['sans-serif'] not found. Falling back to DejaVu Sans\n",
      "  (prop.get_family(), self.defaultFamily[fontext]))\n"
     ]
    },
    {
     "data": {
      "image/png": "[encoded data removed]",
      "text/plain": [
       "<matplotlib.figure.Figure at 0x7f3e472be9e8>"
      ]
     },
     "metadata": {},
     "output_type": "display_data"
    }
   ],
   "source": [
    "ave_ptl_mean_2cp, ave_ptl_ste_2cp =  ave_ptl_mean_2, ave_ptl_ste_2\n",
    "ave_ptl_mean, ave_ptl_ste = patch_pip.pro_bef(ave_ptl_mean_2cp[:5], ave_ptl_ste_2cp[:5])\n",
    "ave_ptl_mean_2cp[:5], ave_ptl_ste_2cp[:5] = ave_ptl_mean, ave_ptl_ste \n",
    "plt.errorbar(x=np.arange(len(ave_ptl_mean_2cp)), y=ave_ptl_mean_2cp, yerr=ave_ptl_ste_2cp, fmt='bo', label='2Hz (n={a})'.format(a=len(asso2)))\n",
    "ave_ptl_mean_50cp, ave_ptl_ste_50cp =  ave_ptl_mean_50, ave_ptl_ste_50\n",
    "ave_ptl_mean, ave_ptl_ste = patch_pip.pro_bef(ave_ptl_mean_50cp[:5], ave_ptl_ste_50cp[:5])\n",
    "ave_ptl_mean_50cp[:5], ave_ptl_ste_50cp[:5] = ave_ptl_mean, ave_ptl_ste \n",
    "plt.errorbar(x=np.arange(len(ave_ptl_mean_2cp)), y=ave_ptl_mean_50cp, yerr=ave_ptl_ste_50cp, fmt='ro', label='50Hz (n={a})'.format(a=len(asso50)))\n",
    "plt.plot(np.ones((60))*1, 'k--')\n",
    "plt.xlabel('Time (min)')\n",
    "plt.ylabel('Normalized EPSC')\n",
    "plt.legend()\n",
    "plt.title('Associative dt = 0 ms ')\n",
    "plt.axis([0,60,0.1,1.7])"
   ]
  },
  {
   "cell_type": "code",
   "execution_count": 8,
   "metadata": {
    "collapsed": false,
    "deletable": true,
    "editable": true
   },
   "outputs": [
    {
     "data": {
      "text/plain": [
       "[0, 60, 0.1, 1.7]"
      ]
     },
     "execution_count": 8,
     "metadata": {},
     "output_type": "execute_result"
    },
    {
     "name": "stderr",
     "output_type": "stream",
     "text": [
      "/usr/local/lib/python3.5/dist-packages/matplotlib/font_manager.py:1297: UserWarning: findfont: Font family ['sans-serif'] not found. Falling back to DejaVu Sans\n",
      "  (prop.get_family(), self.defaultFamily[fontext]))\n"
     ]
    },
    {
     "data": {
      "image/png": "[encoded data removed]",
      "text/plain": [
       "<matplotlib.figure.Figure at 0x7f3e471e9e80>"
      ]
     },
     "metadata": {},
     "output_type": "display_data"
    }
   ],
   "source": [
    "ave_ptl_mean_2cp, ave_ptl_ste_2cp =  ave_ptl_mean_50_uni, ave_ptl_ste_50_uni\n",
    "ave_ptl_mean, ave_ptl_ste = patch_pip.pro_bef(ave_ptl_mean_2cp[:5], ave_ptl_ste_2cp[:5])\n",
    "ave_ptl_mean_2cp[:5], ave_ptl_ste_2cp[:5] = ave_ptl_mean, ave_ptl_ste \n",
    "plt.errorbar(x=np.arange(len(ave_ptl_mean_2cp)), y=ave_ptl_mean_2cp, yerr=ave_ptl_ste_2cp, fmt='ko', label='Uni (n={a})'.format(a=len(asso50_uni)))\n",
    "ave_ptl_mean_50cp, ave_ptl_ste_50cp =  ave_ptl_mean_50, ave_ptl_ste_50\n",
    "ave_ptl_mean, ave_ptl_ste = patch_pip.pro_bef(ave_ptl_mean_50cp[:5], ave_ptl_ste_50cp[:5])\n",
    "ave_ptl_mean_50cp[:5], ave_ptl_ste_50cp[:5] = ave_ptl_mean, ave_ptl_ste \n",
    "plt.errorbar(x=np.arange(len(ave_ptl_mean_2cp)), y=ave_ptl_mean_50cp, yerr=ave_ptl_ste_50cp, fmt='ro', label='Reci (n={a})'.format(a=len(asso50)))\n",
    "plt.plot(np.ones((60))*1, 'k--')\n",
    "plt.xlabel('Time (min)')\n",
    "plt.ylabel('Normalized EPSC')\n",
    "plt.legend()\n",
    "plt.title('Associative dt = 0 ms ')\n",
    "plt.axis([0,60,0.1,1.7])"
   ]
  },
  {
   "cell_type": "code",
   "execution_count": null,
   "metadata": {
    "collapsed": true,
    "deletable": true,
    "editable": true
   },
   "outputs": [],
   "source": []
  }
 ],
 "metadata": {
  "kernelspec": {
   "display_name": "Python 3",
   "language": "python",
   "name": "python3"
  },
  "language_info": {
   "codemirror_mode": {
    "name": "ipython",
    "version": 3
   },
   "file_extension": ".py",
   "mimetype": "text/x-python",
   "name": "python",
   "nbconvert_exporter": "python",
   "pygments_lexer": "ipython3",
   "version": "3.5.2"
  }
 },
 "nbformat": 4,
 "nbformat_minor": 2
}
