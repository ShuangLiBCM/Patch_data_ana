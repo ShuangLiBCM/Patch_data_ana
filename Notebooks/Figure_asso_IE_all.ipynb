{
 "cells": [
  {
   "cell_type": "code",
   "execution_count": 15,
   "metadata": {
    "collapsed": false,
    "deletable": true,
    "editable": true
   },
   "outputs": [
    {
     "name": "stdout",
     "output_type": "stream",
     "text": [
      "The autoreload extension is already loaded. To reload it, use:\n",
      "  %reload_ext autoreload\n"
     ]
    }
   ],
   "source": [
    "import numpy as np\n",
    "import pandas as pd\n",
    "import scipy.io as sio\n",
    "import matplotlib.pyplot as plt\n",
    "from scipy.optimize import curve_fit\n",
    "import pdb\n",
    "from Patch_ana import patch_pip\n",
    "import seaborn as sns\n",
    "from matplotlib.backends.backend_pdf import PdfPages\n",
    "plt.style.use('classic')\n",
    "\n",
    "% matplotlib inline\n",
    "%load_ext autoreload\n",
    "% autoreload"
   ]
  },
  {
   "cell_type": "code",
   "execution_count": 2,
   "metadata": {
    "collapsed": false,
    "deletable": true,
    "editable": true
   },
   "outputs": [],
   "source": [
    "asso_IE50_reci = pd.read_pickle('/data/ana_asso_IE_50Hz_reci')\n",
    "asso_IE50_uni = pd.read_pickle('/data/ana_asso_IE_50Hz_uni')\n",
    "asso_IE50 = pd.read_pickle('/data/ana_asso_IE_50Hz')"
   ]
  },
  {
   "cell_type": "code",
   "execution_count": 3,
   "metadata": {
    "collapsed": false,
    "deletable": true,
    "editable": true
   },
   "outputs": [
    {
     "data": {
      "text/html": [
       "<div>\n",
       "<table border=\"1\" class=\"dataframe\">\n",
       "  <thead>\n",
       "    <tr style=\"text-align: right;\">\n",
       "      <th></th>\n",
       "      <th>Before</th>\n",
       "      <th>After</th>\n",
       "      <th>File name</th>\n",
       "      <th>elimi</th>\n",
       "    </tr>\n",
       "  </thead>\n",
       "  <tbody>\n",
       "    <tr>\n",
       "      <th>45</th>\n",
       "      <td>{'decay_tau': [0.00334779170449, 0.00328880696...</td>\n",
       "      <td>{'decay_tau': [0.00365361540795, 0.00407158981...</td>\n",
       "      <td>2016100202</td>\n",
       "      <td>40</td>\n",
       "    </tr>\n",
       "    <tr>\n",
       "      <th>46</th>\n",
       "      <td>{'decay_tau': [0.00447402170222, 0.00486594568...</td>\n",
       "      <td>{'decay_tau': [0.00454441137367, 0.00483600894...</td>\n",
       "      <td>2016110202</td>\n",
       "      <td>40</td>\n",
       "    </tr>\n",
       "    <tr>\n",
       "      <th>47</th>\n",
       "      <td>{'decay_tau': [0.00295601846652, 0.00358704354...</td>\n",
       "      <td>{'decay_tau': [0.0053999235371, 0.004712013556...</td>\n",
       "      <td>2016111103</td>\n",
       "      <td>40</td>\n",
       "    </tr>\n",
       "    <tr>\n",
       "      <th>48</th>\n",
       "      <td>{'decay_tau': [0.00588643817762, 0.00665804623...</td>\n",
       "      <td>{'decay_tau': [0.00619812147397, 0.00610908988...</td>\n",
       "      <td>2016111802</td>\n",
       "      <td>30</td>\n",
       "    </tr>\n",
       "    <tr>\n",
       "      <th>50</th>\n",
       "      <td>{'decay_tau': [0.00360597307688, 0.00402653018...</td>\n",
       "      <td>{'decay_tau': [0.0035290516827, 0.003856289413...</td>\n",
       "      <td>2016111104</td>\n",
       "      <td>15</td>\n",
       "    </tr>\n",
       "  </tbody>\n",
       "</table>\n",
       "</div>"
      ],
      "text/plain": [
       "                                               Before  \\\n",
       "45  {'decay_tau': [0.00334779170449, 0.00328880696...   \n",
       "46  {'decay_tau': [0.00447402170222, 0.00486594568...   \n",
       "47  {'decay_tau': [0.00295601846652, 0.00358704354...   \n",
       "48  {'decay_tau': [0.00588643817762, 0.00665804623...   \n",
       "50  {'decay_tau': [0.00360597307688, 0.00402653018...   \n",
       "\n",
       "                                                After   File name  elimi  \n",
       "45  {'decay_tau': [0.00365361540795, 0.00407158981...  2016100202     40  \n",
       "46  {'decay_tau': [0.00454441137367, 0.00483600894...  2016110202     40  \n",
       "47  {'decay_tau': [0.0053999235371, 0.004712013556...  2016111103     40  \n",
       "48  {'decay_tau': [0.00619812147397, 0.00610908988...  2016111802     30  \n",
       "50  {'decay_tau': [0.0035290516827, 0.003856289413...  2016111104     15  "
      ]
     },
     "execution_count": 3,
     "metadata": {},
     "output_type": "execute_result"
    }
   ],
   "source": [
    "asso_IE50_reci"
   ]
  },
  {
   "cell_type": "code",
   "execution_count": 4,
   "metadata": {
    "collapsed": false,
    "deletable": true,
    "editable": true
   },
   "outputs": [
    {
     "data": {
      "text/html": [
       "<div>\n",
       "<table border=\"1\" class=\"dataframe\">\n",
       "  <thead>\n",
       "    <tr style=\"text-align: right;\">\n",
       "      <th></th>\n",
       "      <th>Before</th>\n",
       "      <th>After</th>\n",
       "      <th>File name</th>\n",
       "      <th>elimi</th>\n",
       "    </tr>\n",
       "  </thead>\n",
       "  <tbody>\n",
       "    <tr>\n",
       "      <th>40</th>\n",
       "      <td>{'decay_tau': [0.00520168157154, 0.00497147485...</td>\n",
       "      <td>{'decay_tau': [0.00454047765834, 0.00508521489...</td>\n",
       "      <td>2016102702</td>\n",
       "      <td>40</td>\n",
       "    </tr>\n",
       "    <tr>\n",
       "      <th>41</th>\n",
       "      <td>{'decay_tau': [0.00348259795091, 0.00361123581...</td>\n",
       "      <td>{'decay_tau': [0.00384872345028, 0.00429361895...</td>\n",
       "      <td>2016111001</td>\n",
       "      <td>55</td>\n",
       "    </tr>\n",
       "    <tr>\n",
       "      <th>42</th>\n",
       "      <td>{'decay_tau': [0.00468652690829, 0.00379889821...</td>\n",
       "      <td>{'decay_tau': [nan, nan, 0.00488407316983, 0.0...</td>\n",
       "      <td>2016120201</td>\n",
       "      <td>40</td>\n",
       "    </tr>\n",
       "    <tr>\n",
       "      <th>43</th>\n",
       "      <td>{'decay_tau': [0.00228455530349, 0.00221348352...</td>\n",
       "      <td>{'decay_tau': [0.00325667118212, 0.00314984594...</td>\n",
       "      <td>2016120501</td>\n",
       "      <td>50</td>\n",
       "    </tr>\n",
       "    <tr>\n",
       "      <th>44</th>\n",
       "      <td>{'decay_tau': [0.00398801942669, 0.00444855436...</td>\n",
       "      <td>{'decay_tau': [0.00453720425605, 0.00424815992...</td>\n",
       "      <td>2017050901</td>\n",
       "      <td>50</td>\n",
       "    </tr>\n",
       "    <tr>\n",
       "      <th>49</th>\n",
       "      <td>{'decay_tau': [0.00249960485242, 0.00276167693...</td>\n",
       "      <td>{'decay_tau': [nan, 0.00356409645083, 0.003027...</td>\n",
       "      <td>2016100203</td>\n",
       "      <td>15</td>\n",
       "    </tr>\n",
       "    <tr>\n",
       "      <th>51</th>\n",
       "      <td>{'decay_tau': [0.00561143264517, 0.00576544202...</td>\n",
       "      <td>{'decay_tau': [0.00728235483784, 0.00683708323...</td>\n",
       "      <td>2016120403</td>\n",
       "      <td>20</td>\n",
       "    </tr>\n",
       "  </tbody>\n",
       "</table>\n",
       "</div>"
      ],
      "text/plain": [
       "                                               Before  \\\n",
       "40  {'decay_tau': [0.00520168157154, 0.00497147485...   \n",
       "41  {'decay_tau': [0.00348259795091, 0.00361123581...   \n",
       "42  {'decay_tau': [0.00468652690829, 0.00379889821...   \n",
       "43  {'decay_tau': [0.00228455530349, 0.00221348352...   \n",
       "44  {'decay_tau': [0.00398801942669, 0.00444855436...   \n",
       "49  {'decay_tau': [0.00249960485242, 0.00276167693...   \n",
       "51  {'decay_tau': [0.00561143264517, 0.00576544202...   \n",
       "\n",
       "                                                After   File name  elimi  \n",
       "40  {'decay_tau': [0.00454047765834, 0.00508521489...  2016102702     40  \n",
       "41  {'decay_tau': [0.00384872345028, 0.00429361895...  2016111001     55  \n",
       "42  {'decay_tau': [nan, nan, 0.00488407316983, 0.0...  2016120201     40  \n",
       "43  {'decay_tau': [0.00325667118212, 0.00314984594...  2016120501     50  \n",
       "44  {'decay_tau': [0.00453720425605, 0.00424815992...  2017050901     50  \n",
       "49  {'decay_tau': [nan, 0.00356409645083, 0.003027...  2016100203     15  \n",
       "51  {'decay_tau': [0.00728235483784, 0.00683708323...  2016120403     20  "
      ]
     },
     "execution_count": 4,
     "metadata": {},
     "output_type": "execute_result"
    }
   ],
   "source": [
    "asso_IE50_uni"
   ]
  },
  {
   "cell_type": "code",
   "execution_count": 5,
   "metadata": {
    "collapsed": false,
    "deletable": true,
    "editable": true
   },
   "outputs": [
    {
     "data": {
      "text/html": [
       "<div>\n",
       "<table border=\"1\" class=\"dataframe\">\n",
       "  <thead>\n",
       "    <tr style=\"text-align: right;\">\n",
       "      <th></th>\n",
       "      <th>Before</th>\n",
       "      <th>After</th>\n",
       "      <th>File name</th>\n",
       "      <th>elimi</th>\n",
       "    </tr>\n",
       "  </thead>\n",
       "  <tbody>\n",
       "    <tr>\n",
       "      <th>40</th>\n",
       "      <td>{'decay_tau': [0.00520168157154, 0.00497147485...</td>\n",
       "      <td>{'decay_tau': [0.00454047765834, 0.00508521489...</td>\n",
       "      <td>2016102702</td>\n",
       "      <td>40</td>\n",
       "    </tr>\n",
       "    <tr>\n",
       "      <th>41</th>\n",
       "      <td>{'decay_tau': [0.00348259795091, 0.00361123581...</td>\n",
       "      <td>{'decay_tau': [0.00384872345028, 0.00429361895...</td>\n",
       "      <td>2016111001</td>\n",
       "      <td>55</td>\n",
       "    </tr>\n",
       "    <tr>\n",
       "      <th>42</th>\n",
       "      <td>{'decay_tau': [0.00468652690829, 0.00379889821...</td>\n",
       "      <td>{'decay_tau': [nan, nan, 0.00488407316983, 0.0...</td>\n",
       "      <td>2016120201</td>\n",
       "      <td>40</td>\n",
       "    </tr>\n",
       "    <tr>\n",
       "      <th>43</th>\n",
       "      <td>{'decay_tau': [0.00228455530349, 0.00221348352...</td>\n",
       "      <td>{'decay_tau': [0.00325667118212, 0.00314984594...</td>\n",
       "      <td>2016120501</td>\n",
       "      <td>50</td>\n",
       "    </tr>\n",
       "    <tr>\n",
       "      <th>44</th>\n",
       "      <td>{'decay_tau': [0.00398801942669, 0.00444855436...</td>\n",
       "      <td>{'decay_tau': [0.00453720425605, 0.00424815992...</td>\n",
       "      <td>2017050901</td>\n",
       "      <td>50</td>\n",
       "    </tr>\n",
       "    <tr>\n",
       "      <th>49</th>\n",
       "      <td>{'decay_tau': [0.00249960485242, 0.00276167693...</td>\n",
       "      <td>{'decay_tau': [nan, 0.00356409645083, 0.003027...</td>\n",
       "      <td>2016100203</td>\n",
       "      <td>15</td>\n",
       "    </tr>\n",
       "    <tr>\n",
       "      <th>51</th>\n",
       "      <td>{'decay_tau': [0.00561143264517, 0.00576544202...</td>\n",
       "      <td>{'decay_tau': [0.00728235483784, 0.00683708323...</td>\n",
       "      <td>2016120403</td>\n",
       "      <td>20</td>\n",
       "    </tr>\n",
       "    <tr>\n",
       "      <th>45</th>\n",
       "      <td>{'decay_tau': [0.00334779170449, 0.00328880696...</td>\n",
       "      <td>{'decay_tau': [0.00365361540795, 0.00407158981...</td>\n",
       "      <td>2016100202</td>\n",
       "      <td>40</td>\n",
       "    </tr>\n",
       "    <tr>\n",
       "      <th>46</th>\n",
       "      <td>{'decay_tau': [0.00447402170222, 0.00486594568...</td>\n",
       "      <td>{'decay_tau': [0.00454441137367, 0.00483600894...</td>\n",
       "      <td>2016110202</td>\n",
       "      <td>40</td>\n",
       "    </tr>\n",
       "    <tr>\n",
       "      <th>47</th>\n",
       "      <td>{'decay_tau': [0.00295601846652, 0.00358704354...</td>\n",
       "      <td>{'decay_tau': [0.0053999235371, 0.004712013556...</td>\n",
       "      <td>2016111103</td>\n",
       "      <td>40</td>\n",
       "    </tr>\n",
       "    <tr>\n",
       "      <th>48</th>\n",
       "      <td>{'decay_tau': [0.00588643817762, 0.00665804623...</td>\n",
       "      <td>{'decay_tau': [0.00619812147397, 0.00610908988...</td>\n",
       "      <td>2016111802</td>\n",
       "      <td>30</td>\n",
       "    </tr>\n",
       "    <tr>\n",
       "      <th>50</th>\n",
       "      <td>{'decay_tau': [0.00360597307688, 0.00402653018...</td>\n",
       "      <td>{'decay_tau': [0.0035290516827, 0.003856289413...</td>\n",
       "      <td>2016111104</td>\n",
       "      <td>15</td>\n",
       "    </tr>\n",
       "  </tbody>\n",
       "</table>\n",
       "</div>"
      ],
      "text/plain": [
       "                                               Before  \\\n",
       "40  {'decay_tau': [0.00520168157154, 0.00497147485...   \n",
       "41  {'decay_tau': [0.00348259795091, 0.00361123581...   \n",
       "42  {'decay_tau': [0.00468652690829, 0.00379889821...   \n",
       "43  {'decay_tau': [0.00228455530349, 0.00221348352...   \n",
       "44  {'decay_tau': [0.00398801942669, 0.00444855436...   \n",
       "49  {'decay_tau': [0.00249960485242, 0.00276167693...   \n",
       "51  {'decay_tau': [0.00561143264517, 0.00576544202...   \n",
       "45  {'decay_tau': [0.00334779170449, 0.00328880696...   \n",
       "46  {'decay_tau': [0.00447402170222, 0.00486594568...   \n",
       "47  {'decay_tau': [0.00295601846652, 0.00358704354...   \n",
       "48  {'decay_tau': [0.00588643817762, 0.00665804623...   \n",
       "50  {'decay_tau': [0.00360597307688, 0.00402653018...   \n",
       "\n",
       "                                                After   File name  elimi  \n",
       "40  {'decay_tau': [0.00454047765834, 0.00508521489...  2016102702     40  \n",
       "41  {'decay_tau': [0.00384872345028, 0.00429361895...  2016111001     55  \n",
       "42  {'decay_tau': [nan, nan, 0.00488407316983, 0.0...  2016120201     40  \n",
       "43  {'decay_tau': [0.00325667118212, 0.00314984594...  2016120501     50  \n",
       "44  {'decay_tau': [0.00453720425605, 0.00424815992...  2017050901     50  \n",
       "49  {'decay_tau': [nan, 0.00356409645083, 0.003027...  2016100203     15  \n",
       "51  {'decay_tau': [0.00728235483784, 0.00683708323...  2016120403     20  \n",
       "45  {'decay_tau': [0.00365361540795, 0.00407158981...  2016100202     40  \n",
       "46  {'decay_tau': [0.00454441137367, 0.00483600894...  2016110202     40  \n",
       "47  {'decay_tau': [0.0053999235371, 0.004712013556...  2016111103     40  \n",
       "48  {'decay_tau': [0.00619812147397, 0.00610908988...  2016111802     30  \n",
       "50  {'decay_tau': [0.0035290516827, 0.003856289413...  2016111104     15  "
      ]
     },
     "execution_count": 5,
     "metadata": {},
     "output_type": "execute_result"
    }
   ],
   "source": [
    "asso_IE50"
   ]
  },
  {
   "cell_type": "code",
   "execution_count": 6,
   "metadata": {
    "collapsed": false,
    "deletable": true,
    "editable": true
   },
   "outputs": [
    {
     "name": "stderr",
     "output_type": "stream",
     "text": [
      "/src/Patch_ana/Patch_ana/patch_pip.py:489: RuntimeWarning: Mean of empty slice\n",
      "  ave_ptl_mean = np.nanmean(ave_ptl_resp_rm, axis=0)\n",
      "/usr/local/lib/python3.5/dist-packages/numpy/lib/nanfunctions.py:1423: RuntimeWarning: Degrees of freedom <= 0 for slice.\n",
      "  keepdims=keepdims)\n"
     ]
    },
    {
     "data": {
      "text/plain": [
       "<Container object of 3 artists>"
      ]
     },
     "execution_count": 6,
     "metadata": {},
     "output_type": "execute_result"
    },
    {
     "data": {
      "image/png": "[encoded data removed]",
      "text/plain": [
       "<matplotlib.figure.Figure at 0x7fd5f4dcf198>"
      ]
     },
     "metadata": {},
     "output_type": "display_data"
    }
   ],
   "source": [
    "ave_ptl_resp = np.ones((len(asso_IE50), 60))*np.nan\n",
    "\n",
    "ave_ptl_mean_2,ave_ptl_ste_2, ave_ptl_2 = patch_pip.samp_ave(asso_IE50, ave_ptl_resp)\n",
    "ave_ptl_mean_2 = ave_ptl_mean_2[:-12]\n",
    "ave_ptl_ste_2 = ave_ptl_ste_2[:-12]\n",
    "ave_ptl_2 = ave_ptl_2[:, :-12]\n",
    "\n",
    "plt.errorbar(x=np.arange(len(ave_ptl_mean_2)), y=ave_ptl_mean_2, yerr=ave_ptl_ste_2, fmt='bo')"
   ]
  },
  {
   "cell_type": "code",
   "execution_count": 11,
   "metadata": {
    "collapsed": false,
    "deletable": true,
    "editable": true
   },
   "outputs": [
    {
     "data": {
      "text/plain": [
       "<matplotlib.text.Text at 0x7fd5987b3898>"
      ]
     },
     "execution_count": 11,
     "metadata": {},
     "output_type": "execute_result"
    },
    {
     "data": {
      "image/png": "[encoded data removed]",
      "text/plain": [
       "<matplotlib.figure.Figure at 0x7fd598806f98>"
      ]
     },
     "metadata": {},
     "output_type": "display_data"
    }
   ],
   "source": [
    "ave_ptl_mean_2cp, ave_ptl_ste_2cp =  ave_ptl_mean_2, ave_ptl_ste_2\n",
    "ave_ptl_mean, ave_ptl_ste = patch_pip.pro_bef(ave_ptl_mean_2cp[:5], ave_ptl_ste_2cp[:5])\n",
    "ave_ptl_mean_2cp[:5], ave_ptl_ste_2cp[:5] = ave_ptl_mean, ave_ptl_ste \n",
    "plt.errorbar(x=np.linspace(-6 * 4/3, len(ave_ptl_mean_2cp) - 6 * 4/3, len(ave_ptl_mean_2cp)), y=ave_ptl_mean_2cp, yerr=ave_ptl_ste_2cp, fmt='bo', label='2Hz (n={a})'.format(a=len(asso_IE50)))\n",
    "\n",
    "plt.plot(np.ones((50))*1, 'k--')\n",
    "plt.xlabel('Time (min)')\n",
    "plt.ylabel('Normalized EPSC')\n",
    "# plt.legend()\n",
    "plt.ylim([0.2, 1.8])\n",
    "plt.title('Pre-Post-synaptic only')\n"
   ]
  },
  {
   "cell_type": "code",
   "execution_count": 16,
   "metadata": {
    "collapsed": false,
    "deletable": true,
    "editable": true
   },
   "outputs": [
    {
     "data": {
      "text/plain": [
       "(0, 3)"
      ]
     },
     "execution_count": 16,
     "metadata": {},
     "output_type": "execute_result"
    },
    {
     "data": {
      "image/png": "[encoded data removed]",
      "text/plain": [
       "<matplotlib.figure.Figure at 0x7fd5986829b0>"
      ]
     },
     "metadata": {},
     "output_type": "display_data"
    }
   ],
   "source": [
    "# Compare amplitude\n",
    "mean_amp_aft_2Hz = np.nanmean(np.nanmean(ave_ptl_2[:, -10:], axis=1))\n",
    "\n",
    "std_amp_aft_2Hz = np.nanstd(np.nanmean(ave_ptl_2[:, -10:], axis=1))/np.sqrt(6)\n",
    "plt.bar([1,2], [1, mean_amp_aft_2Hz], align='center', width=0.4)\n",
    "plt.errorbar(x=[1,2], y=[1, mean_amp_aft_2Hz],yerr = [0, std_amp_aft_2Hz], fmt='')\n",
    "plt.ylim([0,1.5])\n",
    "plt.xlim([0, 3])\n"
   ]
  },
  {
   "cell_type": "code",
   "execution_count": 19,
   "metadata": {
    "collapsed": false,
    "deletable": true,
    "editable": true
   },
   "outputs": [
    {
     "data": {
      "text/plain": [
       "(0, 3)"
      ]
     },
     "execution_count": 19,
     "metadata": {},
     "output_type": "execute_result"
    },
    {
     "data": {
      "image/png": "[encoded data removed]",
      "text/plain": [
       "<matplotlib.figure.Figure at 0x7fd5983b57b8>"
      ]
     },
     "metadata": {},
     "output_type": "display_data"
    }
   ],
   "source": [
    "# Compare PPR\n",
    "mean_PPR_bef = [np.nanmean(asso_IE50['Before'].loc[i]['PPR']) for i in asso_IE50['Before'].index]\n",
    "mean_PPR_aft = [np.nanmean(asso_IE50['After'].loc[i]['PPR'][-10:]) for i in asso_IE50['After'].index]\n",
    "\n",
    "mean_PPR_ave_bef = np.mean(mean_PPR_bef)\n",
    "mean_PPR_std_bef = np.std(mean_PPR_bef)/np.sqrt(6)\n",
    "mean_PPR_ave_aft = np.mean(mean_PPR_aft)\n",
    "mean_PPR_std_aft = np.std(mean_PPR_aft)/np.sqrt(6)\n",
    "\n",
    "for i, j in zip(mean_PPR_bef, mean_PPR_aft):\n",
    "    plt.plot([0.5,1.5], [i, j], 'ko-', alpha=0.3, markersize=10)\n",
    "plt.errorbar([0.5,1.5], [mean_PPR_ave_bef, mean_PPR_ave_aft], [mean_PPR_std_bef, mean_PPR_std_aft], fmt='k-o', markersize=10)\n",
    "plt.xlim([0,2])\n",
    "plt.ylim([0,3])"
   ]
  },
  {
   "cell_type": "code",
   "execution_count": 20,
   "metadata": {
    "collapsed": false
   },
   "outputs": [
    {
     "data": {
      "image/png": "[encoded data removed]",
      "text/plain": [
       "<matplotlib.figure.Figure at 0x7fd598641278>"
      ]
     },
     "metadata": {},
     "output_type": "display_data"
    }
   ],
   "source": [
    "# Compare failure rate\n",
    "mean_fail_bef = [np.sum(asso_IE50['Before'].loc[i]['failure'])/len(asso_IE50['Before'].loc[i]['failure']) for i in asso_IE50['Before'].index]\n",
    "mean_fail_aft = [np.sum(asso_IE50['After'].loc[i]['failure'][-40:])/40 for i in asso_IE50['After'].index]\n",
    "\n",
    "mean_fail_ave_bef = np.mean(mean_fail_bef)\n",
    "mean_fail_std_bef = np.std(mean_fail_bef)/np.sqrt(6)\n",
    "mean_fail_ave_aft = np.mean(mean_fail_aft)\n",
    "mean_fail_std_aft = np.std(mean_fail_aft)/np.sqrt(6)\n",
    "\n",
    "for i, j in zip(mean_fail_bef, mean_fail_aft):\n",
    "    plt.plot([0.5,1.5], [i, j], 'bo-', alpha=0.3, markersize=10)\n",
    "plt.errorbar([0.5,1.5], [mean_fail_ave_bef, mean_fail_ave_aft], [mean_fail_std_bef, mean_fail_std_aft], fmt='k-o', markersize=10)\n",
    "\n",
    "plt.xlim([0,2])\n",
    "plt.ylim([-0.05,0.5])\n",
    "\n",
    "with PdfPages('/data/Figure3_12.pdf') as pdf:\n",
    "    pdf.savefig()"
   ]
  },
  {
   "cell_type": "code",
   "execution_count": 21,
   "metadata": {
    "collapsed": false
   },
   "outputs": [
    {
     "data": {
      "image/png": "[encoded data removed]",
      "text/plain": [
       "<matplotlib.figure.Figure at 0x7fd59a8d1cc0>"
      ]
     },
     "metadata": {},
     "output_type": "display_data"
    }
   ],
   "source": [
    "# CV analysis\n",
    "cv_mean_bef = [np.nanmean(asso_IE50['Before'].loc[i]['raw_amp1'][-20:]) for i in asso_IE50['Before'].index]\n",
    "cv_mean_aft = [np.nanmean(ave_ptl_2[i, -10:]) * cv_mean_bef[i] for i in range(ave_ptl_2.shape[0])]\n",
    "               \n",
    "cv_std_bef = [np.nanstd(asso_IE50['Before'].loc[i]['raw_amp1'][-5:]) for i in asso_IE50['Before'].index]\n",
    "end_aft = [asso_IE50['elimi'].values[i] for i in range(len(asso_IE50))]\n",
    "cv_std_aft = [np.nanstd(asso_IE50['After'].loc[i]['raw_amp1'][max(end_aft[k]*3-70,0):end_aft[k]*3]) for k,i in enumerate(asso_IE50['After'].index)]\n",
    "\n",
    "r = [i ** 2/j ** 2 for i, j in zip([k/m for k, m in zip(cv_std_bef,cv_mean_bef)], [k/m for k, m in zip(cv_std_aft,cv_mean_aft)])]\n",
    "pi = [i/j for i, j in zip(cv_mean_aft, cv_mean_bef)]\n",
    "\n",
    "\n",
    "plt.errorbar(np.mean(pi), np.mean(r), np.std(r)/np.sqrt(len(r)), np.std(pi)/np.sqrt(len(pi)),  'o', markersize=10)\n",
    "\n",
    "plt.plot(np.arange(0, 4, 0.5),np.arange(0, 4, 0.5), 'k--')\n",
    "plt.plot(np.arange(0, 4, 0.5), np.ones(8),'k--')\n",
    "plt.plot(np.ones(8),np.arange(0, 4, 0.5),'k--')\n",
    "plt.xlim([0, 1.5])\n",
    "plt.ylim([0, 1.5])\n",
    "plt.axes().set_aspect('equal')\n",
    "with PdfPages('/data/Figure3_13.pdf') as pdf:\n",
    "    pdf.savefig()"
   ]
  },
  {
   "cell_type": "code",
   "execution_count": null,
   "metadata": {
    "collapsed": true
   },
   "outputs": [],
   "source": []
  }
 ],
 "metadata": {
  "kernelspec": {
   "display_name": "Python 3",
   "language": "python",
   "name": "python3"
  },
  "language_info": {
   "codemirror_mode": {
    "name": "ipython",
    "version": 3
   },
   "file_extension": ".py",
   "mimetype": "text/x-python",
   "name": "python",
   "nbconvert_exporter": "python",
   "pygments_lexer": "ipython3",
   "version": "3.5.2"
  }
 },
 "nbformat": 4,
 "nbformat_minor": 2
}
