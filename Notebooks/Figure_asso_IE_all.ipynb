{
 "cells": [
  {
   "cell_type": "code",
   "execution_count": 1,
   "metadata": {
    "collapsed": false,
    "deletable": true,
    "editable": true
   },
   "outputs": [],
   "source": [
    "import numpy as np\n",
    "import pandas as pd\n",
    "import scipy.io as sio\n",
    "import matplotlib.pyplot as plt\n",
    "from scipy.optimize import curve_fit\n",
    "import pdb\n",
    "from Patch_ana import patch_pip\n",
    "import seaborn as sns\n",
    "\n",
    "% matplotlib inline\n",
    "%load_ext autoreload\n",
    "% autoreload 2"
   ]
  },
  {
   "cell_type": "code",
   "execution_count": 3,
   "metadata": {
    "collapsed": false,
    "deletable": true,
    "editable": true
   },
   "outputs": [],
   "source": [
    "asso_IE50_reci = pd.read_pickle('/data/ana_asso_IE_50Hz_reci')\n",
    "asso_IE50_uni = pd.read_pickle('/data/ana_asso_IE_50Hz_uni')\n",
    "asso_IE50 = pd.read_pickle('/data/ana_asso_IE_50Hz')"
   ]
  },
  {
   "cell_type": "code",
   "execution_count": 4,
   "metadata": {
    "collapsed": false,
    "deletable": true,
    "editable": true
   },
   "outputs": [
    {
     "data": {
      "text/html": [
       "<div>\n",
       "<table border=\"1\" class=\"dataframe\">\n",
       "  <thead>\n",
       "    <tr style=\"text-align: right;\">\n",
       "      <th></th>\n",
       "      <th>Before</th>\n",
       "      <th>After</th>\n",
       "      <th>File name</th>\n",
       "      <th>elimi</th>\n",
       "    </tr>\n",
       "  </thead>\n",
       "  <tbody>\n",
       "    <tr>\n",
       "      <th>45</th>\n",
       "      <td>{'raw_amp1': [1.53457080344e-11, 4.18009319135...</td>\n",
       "      <td>{'raw_amp1': [3.75126876707e-11, 3.32205082019...</td>\n",
       "      <td>2016100202</td>\n",
       "      <td>40</td>\n",
       "    </tr>\n",
       "    <tr>\n",
       "      <th>46</th>\n",
       "      <td>{'raw_amp1': [3.2058778905e-11, 5.33281711381e...</td>\n",
       "      <td>{'raw_amp1': [4.37389103394e-11, 6.11997659785...</td>\n",
       "      <td>2016110202</td>\n",
       "      <td>40</td>\n",
       "    </tr>\n",
       "    <tr>\n",
       "      <th>47</th>\n",
       "      <td>{'raw_amp1': [3.60684249647e-11, 2.60433046478...</td>\n",
       "      <td>{'raw_amp1': [2.23279222917e-11, 3.16831559829...</td>\n",
       "      <td>2016111103</td>\n",
       "      <td>40</td>\n",
       "    </tr>\n",
       "    <tr>\n",
       "      <th>48</th>\n",
       "      <td>{'raw_amp1': [6.76359594296e-11, 5.47097188749...</td>\n",
       "      <td>{'raw_amp1': [5.42667787554e-11, 6.53925025815...</td>\n",
       "      <td>2016111802</td>\n",
       "      <td>30</td>\n",
       "    </tr>\n",
       "    <tr>\n",
       "      <th>50</th>\n",
       "      <td>{'raw_amp1': [3.44910552585e-11, 3.09786228464...</td>\n",
       "      <td>{'raw_amp1': [3.17341433622e-11, 2.13377039125...</td>\n",
       "      <td>2016111104</td>\n",
       "      <td>15</td>\n",
       "    </tr>\n",
       "  </tbody>\n",
       "</table>\n",
       "</div>"
      ],
      "text/plain": [
       "                                               Before  \\\n",
       "45  {'raw_amp1': [1.53457080344e-11, 4.18009319135...   \n",
       "46  {'raw_amp1': [3.2058778905e-11, 5.33281711381e...   \n",
       "47  {'raw_amp1': [3.60684249647e-11, 2.60433046478...   \n",
       "48  {'raw_amp1': [6.76359594296e-11, 5.47097188749...   \n",
       "50  {'raw_amp1': [3.44910552585e-11, 3.09786228464...   \n",
       "\n",
       "                                                After   File name  elimi  \n",
       "45  {'raw_amp1': [3.75126876707e-11, 3.32205082019...  2016100202     40  \n",
       "46  {'raw_amp1': [4.37389103394e-11, 6.11997659785...  2016110202     40  \n",
       "47  {'raw_amp1': [2.23279222917e-11, 3.16831559829...  2016111103     40  \n",
       "48  {'raw_amp1': [5.42667787554e-11, 6.53925025815...  2016111802     30  \n",
       "50  {'raw_amp1': [3.17341433622e-11, 2.13377039125...  2016111104     15  "
      ]
     },
     "execution_count": 4,
     "metadata": {},
     "output_type": "execute_result"
    }
   ],
   "source": [
    "asso_IE50_reci"
   ]
  },
  {
   "cell_type": "code",
   "execution_count": 5,
   "metadata": {
    "collapsed": false,
    "deletable": true,
    "editable": true
   },
   "outputs": [
    {
     "data": {
      "text/html": [
       "<div>\n",
       "<table border=\"1\" class=\"dataframe\">\n",
       "  <thead>\n",
       "    <tr style=\"text-align: right;\">\n",
       "      <th></th>\n",
       "      <th>Before</th>\n",
       "      <th>After</th>\n",
       "      <th>File name</th>\n",
       "      <th>elimi</th>\n",
       "    </tr>\n",
       "  </thead>\n",
       "  <tbody>\n",
       "    <tr>\n",
       "      <th>40</th>\n",
       "      <td>{'raw_amp1': [3.40151660927e-11, 2.21836780362...</td>\n",
       "      <td>{'raw_amp1': [3.47565605788e-11, 3.72555757808...</td>\n",
       "      <td>2016102702</td>\n",
       "      <td>40</td>\n",
       "    </tr>\n",
       "    <tr>\n",
       "      <th>41</th>\n",
       "      <td>{'raw_amp1': [2.30952293758e-11, 1.93596049984...</td>\n",
       "      <td>{'raw_amp1': [1.45248159235e-11, 9.64690848753...</td>\n",
       "      <td>2016111001</td>\n",
       "      <td>55</td>\n",
       "    </tr>\n",
       "    <tr>\n",
       "      <th>42</th>\n",
       "      <td>{'raw_amp1': [1.14657539819e-11, nan, 3.671953...</td>\n",
       "      <td>{'raw_amp1': [nan, nan, 5.35720283024e-12, nan...</td>\n",
       "      <td>2016120201</td>\n",
       "      <td>40</td>\n",
       "    </tr>\n",
       "    <tr>\n",
       "      <th>43</th>\n",
       "      <td>{'raw_amp1': [6.49198424194e-11, 8.87547636394...</td>\n",
       "      <td>{'raw_amp1': [5.29204832929e-11, 5.32675950859...</td>\n",
       "      <td>2016120501</td>\n",
       "      <td>50</td>\n",
       "    </tr>\n",
       "    <tr>\n",
       "      <th>44</th>\n",
       "      <td>{'raw_amp1': [5.05768648027e-11, 3.17721362823...</td>\n",
       "      <td>{'raw_amp1': [2.6332042819e-11, 2.34569278923e...</td>\n",
       "      <td>2017050901</td>\n",
       "      <td>50</td>\n",
       "    </tr>\n",
       "    <tr>\n",
       "      <th>49</th>\n",
       "      <td>{'raw_amp1': [6.66052493837e-11, 2.41817549971...</td>\n",
       "      <td>{'raw_amp1': [1.11043103197e-11, 1.67567799143...</td>\n",
       "      <td>2016100203</td>\n",
       "      <td>15</td>\n",
       "    </tr>\n",
       "    <tr>\n",
       "      <th>51</th>\n",
       "      <td>{'raw_amp1': [2.65307867855e-11, 3.01850364462...</td>\n",
       "      <td>{'raw_amp1': [3.82449617845e-11, 4.48991544468...</td>\n",
       "      <td>2016120403</td>\n",
       "      <td>20</td>\n",
       "    </tr>\n",
       "  </tbody>\n",
       "</table>\n",
       "</div>"
      ],
      "text/plain": [
       "                                               Before  \\\n",
       "40  {'raw_amp1': [3.40151660927e-11, 2.21836780362...   \n",
       "41  {'raw_amp1': [2.30952293758e-11, 1.93596049984...   \n",
       "42  {'raw_amp1': [1.14657539819e-11, nan, 3.671953...   \n",
       "43  {'raw_amp1': [6.49198424194e-11, 8.87547636394...   \n",
       "44  {'raw_amp1': [5.05768648027e-11, 3.17721362823...   \n",
       "49  {'raw_amp1': [6.66052493837e-11, 2.41817549971...   \n",
       "51  {'raw_amp1': [2.65307867855e-11, 3.01850364462...   \n",
       "\n",
       "                                                After   File name  elimi  \n",
       "40  {'raw_amp1': [3.47565605788e-11, 3.72555757808...  2016102702     40  \n",
       "41  {'raw_amp1': [1.45248159235e-11, 9.64690848753...  2016111001     55  \n",
       "42  {'raw_amp1': [nan, nan, 5.35720283024e-12, nan...  2016120201     40  \n",
       "43  {'raw_amp1': [5.29204832929e-11, 5.32675950859...  2016120501     50  \n",
       "44  {'raw_amp1': [2.6332042819e-11, 2.34569278923e...  2017050901     50  \n",
       "49  {'raw_amp1': [1.11043103197e-11, 1.67567799143...  2016100203     15  \n",
       "51  {'raw_amp1': [3.82449617845e-11, 4.48991544468...  2016120403     20  "
      ]
     },
     "execution_count": 5,
     "metadata": {},
     "output_type": "execute_result"
    }
   ],
   "source": [
    "asso_IE50_uni"
   ]
  },
  {
   "cell_type": "code",
   "execution_count": 6,
   "metadata": {
    "collapsed": false,
    "deletable": true,
    "editable": true
   },
   "outputs": [
    {
     "data": {
      "text/html": [
       "<div>\n",
       "<table border=\"1\" class=\"dataframe\">\n",
       "  <thead>\n",
       "    <tr style=\"text-align: right;\">\n",
       "      <th></th>\n",
       "      <th>Before</th>\n",
       "      <th>After</th>\n",
       "      <th>File name</th>\n",
       "      <th>elimi</th>\n",
       "    </tr>\n",
       "  </thead>\n",
       "  <tbody>\n",
       "    <tr>\n",
       "      <th>40</th>\n",
       "      <td>{'raw_amp1': [3.40151660927e-11, 2.21836780362...</td>\n",
       "      <td>{'raw_amp1': [3.47565605788e-11, 3.72555757808...</td>\n",
       "      <td>2016102702</td>\n",
       "      <td>40</td>\n",
       "    </tr>\n",
       "    <tr>\n",
       "      <th>41</th>\n",
       "      <td>{'raw_amp1': [2.30952293758e-11, 1.93596049984...</td>\n",
       "      <td>{'raw_amp1': [1.45248159235e-11, 9.64690848753...</td>\n",
       "      <td>2016111001</td>\n",
       "      <td>55</td>\n",
       "    </tr>\n",
       "    <tr>\n",
       "      <th>42</th>\n",
       "      <td>{'raw_amp1': [1.14657539819e-11, nan, 3.671953...</td>\n",
       "      <td>{'raw_amp1': [nan, nan, 5.35720283024e-12, nan...</td>\n",
       "      <td>2016120201</td>\n",
       "      <td>40</td>\n",
       "    </tr>\n",
       "    <tr>\n",
       "      <th>43</th>\n",
       "      <td>{'raw_amp1': [6.49198424194e-11, 8.87547636394...</td>\n",
       "      <td>{'raw_amp1': [5.29204832929e-11, 5.32675950859...</td>\n",
       "      <td>2016120501</td>\n",
       "      <td>50</td>\n",
       "    </tr>\n",
       "    <tr>\n",
       "      <th>44</th>\n",
       "      <td>{'raw_amp1': [5.05768648027e-11, 3.17721362823...</td>\n",
       "      <td>{'raw_amp1': [2.6332042819e-11, 2.34569278923e...</td>\n",
       "      <td>2017050901</td>\n",
       "      <td>50</td>\n",
       "    </tr>\n",
       "    <tr>\n",
       "      <th>49</th>\n",
       "      <td>{'raw_amp1': [6.66052493837e-11, 2.41817549971...</td>\n",
       "      <td>{'raw_amp1': [1.11043103197e-11, 1.67567799143...</td>\n",
       "      <td>2016100203</td>\n",
       "      <td>15</td>\n",
       "    </tr>\n",
       "    <tr>\n",
       "      <th>51</th>\n",
       "      <td>{'raw_amp1': [2.65307867855e-11, 3.01850364462...</td>\n",
       "      <td>{'raw_amp1': [3.82449617845e-11, 4.48991544468...</td>\n",
       "      <td>2016120403</td>\n",
       "      <td>20</td>\n",
       "    </tr>\n",
       "    <tr>\n",
       "      <th>45</th>\n",
       "      <td>{'raw_amp1': [1.53457080344e-11, 4.18009319135...</td>\n",
       "      <td>{'raw_amp1': [3.75126876707e-11, 3.32205082019...</td>\n",
       "      <td>2016100202</td>\n",
       "      <td>40</td>\n",
       "    </tr>\n",
       "    <tr>\n",
       "      <th>46</th>\n",
       "      <td>{'raw_amp1': [3.2058778905e-11, 5.33281711381e...</td>\n",
       "      <td>{'raw_amp1': [4.37389103394e-11, 6.11997659785...</td>\n",
       "      <td>2016110202</td>\n",
       "      <td>40</td>\n",
       "    </tr>\n",
       "    <tr>\n",
       "      <th>47</th>\n",
       "      <td>{'raw_amp1': [3.60684249647e-11, 2.60433046478...</td>\n",
       "      <td>{'raw_amp1': [2.23279222917e-11, 3.16831559829...</td>\n",
       "      <td>2016111103</td>\n",
       "      <td>40</td>\n",
       "    </tr>\n",
       "    <tr>\n",
       "      <th>48</th>\n",
       "      <td>{'raw_amp1': [6.76359594296e-11, 5.47097188749...</td>\n",
       "      <td>{'raw_amp1': [5.42667787554e-11, 6.53925025815...</td>\n",
       "      <td>2016111802</td>\n",
       "      <td>30</td>\n",
       "    </tr>\n",
       "    <tr>\n",
       "      <th>50</th>\n",
       "      <td>{'raw_amp1': [3.44910552585e-11, 3.09786228464...</td>\n",
       "      <td>{'raw_amp1': [3.17341433622e-11, 2.13377039125...</td>\n",
       "      <td>2016111104</td>\n",
       "      <td>15</td>\n",
       "    </tr>\n",
       "  </tbody>\n",
       "</table>\n",
       "</div>"
      ],
      "text/plain": [
       "                                               Before  \\\n",
       "40  {'raw_amp1': [3.40151660927e-11, 2.21836780362...   \n",
       "41  {'raw_amp1': [2.30952293758e-11, 1.93596049984...   \n",
       "42  {'raw_amp1': [1.14657539819e-11, nan, 3.671953...   \n",
       "43  {'raw_amp1': [6.49198424194e-11, 8.87547636394...   \n",
       "44  {'raw_amp1': [5.05768648027e-11, 3.17721362823...   \n",
       "49  {'raw_amp1': [6.66052493837e-11, 2.41817549971...   \n",
       "51  {'raw_amp1': [2.65307867855e-11, 3.01850364462...   \n",
       "45  {'raw_amp1': [1.53457080344e-11, 4.18009319135...   \n",
       "46  {'raw_amp1': [3.2058778905e-11, 5.33281711381e...   \n",
       "47  {'raw_amp1': [3.60684249647e-11, 2.60433046478...   \n",
       "48  {'raw_amp1': [6.76359594296e-11, 5.47097188749...   \n",
       "50  {'raw_amp1': [3.44910552585e-11, 3.09786228464...   \n",
       "\n",
       "                                                After   File name  elimi  \n",
       "40  {'raw_amp1': [3.47565605788e-11, 3.72555757808...  2016102702     40  \n",
       "41  {'raw_amp1': [1.45248159235e-11, 9.64690848753...  2016111001     55  \n",
       "42  {'raw_amp1': [nan, nan, 5.35720283024e-12, nan...  2016120201     40  \n",
       "43  {'raw_amp1': [5.29204832929e-11, 5.32675950859...  2016120501     50  \n",
       "44  {'raw_amp1': [2.6332042819e-11, 2.34569278923e...  2017050901     50  \n",
       "49  {'raw_amp1': [1.11043103197e-11, 1.67567799143...  2016100203     15  \n",
       "51  {'raw_amp1': [3.82449617845e-11, 4.48991544468...  2016120403     20  \n",
       "45  {'raw_amp1': [3.75126876707e-11, 3.32205082019...  2016100202     40  \n",
       "46  {'raw_amp1': [4.37389103394e-11, 6.11997659785...  2016110202     40  \n",
       "47  {'raw_amp1': [2.23279222917e-11, 3.16831559829...  2016111103     40  \n",
       "48  {'raw_amp1': [5.42667787554e-11, 6.53925025815...  2016111802     30  \n",
       "50  {'raw_amp1': [3.17341433622e-11, 2.13377039125...  2016111104     15  "
      ]
     },
     "execution_count": 6,
     "metadata": {},
     "output_type": "execute_result"
    }
   ],
   "source": [
    "asso_IE50"
   ]
  },
  {
   "cell_type": "code",
   "execution_count": 8,
   "metadata": {
    "collapsed": false,
    "deletable": true,
    "editable": true
   },
   "outputs": [
    {
     "name": "stderr",
     "output_type": "stream",
     "text": [
      "/src/Patch_ana/Patch_ana/patch_pip.py:471: RuntimeWarning: Mean of empty slice\n",
      "  ave_ptl_mean = np.nanmean(ave_ptl_resp, axis=0)\n",
      "/usr/local/lib/python3.5/dist-packages/numpy/lib/nanfunctions.py:1423: RuntimeWarning: Degrees of freedom <= 0 for slice.\n",
      "  keepdims=keepdims)\n"
     ]
    },
    {
     "data": {
      "text/plain": [
       "<Container object of 3 artists>"
      ]
     },
     "execution_count": 8,
     "metadata": {},
     "output_type": "execute_result"
    },
    {
     "name": "stderr",
     "output_type": "stream",
     "text": [
      "/usr/local/lib/python3.5/dist-packages/matplotlib/font_manager.py:1297: UserWarning: findfont: Font family ['sans-serif'] not found. Falling back to DejaVu Sans\n",
      "  (prop.get_family(), self.defaultFamily[fontext]))\n"
     ]
    },
    {
     "data": {
      "image/png": "[encoded data removed]",
      "text/plain": [
       "<matplotlib.figure.Figure at 0x7fc67c96e080>"
      ]
     },
     "metadata": {},
     "output_type": "display_data"
    }
   ],
   "source": [
    "ave_ptl_resp = np.ones((len(pre_IE50_reci), 60))*np.nan\n",
    "\n",
    "ave_ptl_mean_50reci,ave_ptl_ste_50reci = patch_pip.samp_ave(asso_IE50_reci, ave_ptl_resp)\n",
    "plt.errorbar(x=np.arange(len(ave_ptl_mean_50reci)), y=ave_ptl_mean_50reci, yerr=ave_ptl_ste_50reci, fmt='bo')\n",
    "\n",
    "ave_ptl_resp = np.ones((len(pre_IE50_uni), 60))*np.nan\n",
    "ave_ptl_mean_50uni,ave_ptl_ste_50uni = patch_pip.samp_ave(asso_IE50_uni, ave_ptl_resp)\n",
    "plt.errorbar(x=np.arange(len(ave_ptl_mean_50uni)), y=ave_ptl_mean_50uni, yerr=ave_ptl_ste_50uni, fmt='ro')"
   ]
  },
  {
   "cell_type": "code",
   "execution_count": 9,
   "metadata": {
    "collapsed": false,
    "deletable": true,
    "editable": true
   },
   "outputs": [
    {
     "name": "stderr",
     "output_type": "stream",
     "text": [
      "/src/Patch_ana/Patch_ana/patch_pip.py:471: RuntimeWarning: Mean of empty slice\n",
      "  ave_ptl_mean = np.nanmean(ave_ptl_resp, axis=0)\n",
      "/usr/local/lib/python3.5/dist-packages/numpy/lib/nanfunctions.py:1423: RuntimeWarning: Degrees of freedom <= 0 for slice.\n",
      "  keepdims=keepdims)\n"
     ]
    },
    {
     "data": {
      "text/plain": [
       "<Container object of 3 artists>"
      ]
     },
     "execution_count": 9,
     "metadata": {},
     "output_type": "execute_result"
    },
    {
     "name": "stderr",
     "output_type": "stream",
     "text": [
      "/usr/local/lib/python3.5/dist-packages/matplotlib/font_manager.py:1297: UserWarning: findfont: Font family ['sans-serif'] not found. Falling back to DejaVu Sans\n",
      "  (prop.get_family(), self.defaultFamily[fontext]))\n"
     ]
    },
    {
     "data": {
      "image/png": "[encoded data removed]",
      "text/plain": [
       "<matplotlib.figure.Figure at 0x7fc67c9b3ac8>"
      ]
     },
     "metadata": {},
     "output_type": "display_data"
    }
   ],
   "source": [
    "ave_ptl_resp = np.ones((len(asso_IE50), 60))*np.nan\n",
    "ave_ptl_mean_50,ave_ptl_ste_50 = patch_pip.samp_ave(asso_IE50, ave_ptl_resp)\n",
    "plt.errorbar(x=np.arange(len(ave_ptl_mean_50)), y=ave_ptl_mean_50, yerr=ave_ptl_ste_50, fmt='ko')"
   ]
  },
  {
   "cell_type": "code",
   "execution_count": 13,
   "metadata": {
    "collapsed": false,
    "deletable": true,
    "editable": true
   },
   "outputs": [
    {
     "data": {
      "text/plain": [
       "[0, 60, 0.2, 1.6]"
      ]
     },
     "execution_count": 13,
     "metadata": {},
     "output_type": "execute_result"
    },
    {
     "name": "stderr",
     "output_type": "stream",
     "text": [
      "/usr/local/lib/python3.5/dist-packages/matplotlib/font_manager.py:1297: UserWarning: findfont: Font family ['sans-serif'] not found. Falling back to DejaVu Sans\n",
      "  (prop.get_family(), self.defaultFamily[fontext]))\n"
     ]
    },
    {
     "data": {
      "image/png": "[encoded data removed]",
      "text/plain": [
       "<matplotlib.figure.Figure at 0x7fc67a5dca58>"
      ]
     },
     "metadata": {},
     "output_type": "display_data"
    }
   ],
   "source": [
    "ave_ptl_mean_2cp, ave_ptl_ste_2cp =  ave_ptl_mean_50reci,ave_ptl_ste_50reci \n",
    "ave_ptl_mean, ave_ptl_ste = patch_pip.pro_bef(ave_ptl_mean_2cp[:5], ave_ptl_ste_2cp[:5])\n",
    "ave_ptl_mean_2cp[:5], ave_ptl_ste_2cp[:5] = ave_ptl_mean, ave_ptl_ste \n",
    "plt.errorbar(x=np.arange(len(ave_ptl_mean_2cp)), y=ave_ptl_mean_2cp, yerr=ave_ptl_ste_2cp, fmt='ro', label='Reci (n={a})'.format(a=len(pre_IE50_reci)))\n",
    "\n",
    "ave_ptl_mean_50cp, ave_ptl_ste_50cp =  ave_ptl_mean_50uni,ave_ptl_ste_50uni\n",
    "ave_ptl_mean, ave_ptl_ste= patch_pip.pro_bef(ave_ptl_mean_50cp[:5], ave_ptl_ste_50cp[:5])\n",
    "ave_ptl_mean_50cp[:5], ave_ptl_ste_50cp[:5] = ave_ptl_mean, ave_ptl_ste \n",
    "plt.errorbar(x=np.arange(len(ave_ptl_mean_50cp)), y=ave_ptl_mean_50cp, yerr=ave_ptl_ste_50cp, fmt='ko', label='Uni (n={a})'.format(a=len(pre_IE50_uni)))\n",
    "\n",
    "plt.plot(np.ones((60))*1, 'k--')\n",
    "plt.xlabel('Time (min)')\n",
    "plt.ylabel('Normalized EPSC')\n",
    "plt.legend()\n",
    "plt.title('IE Associative 50Hz')\n",
    "plt.axis([0,60,0.2,1.6])"
   ]
  },
  {
   "cell_type": "code",
   "execution_count": 11,
   "metadata": {
    "collapsed": false,
    "deletable": true,
    "editable": true
   },
   "outputs": [
    {
     "data": {
      "text/plain": [
       "[0, 60, 0.2, 1.6]"
      ]
     },
     "execution_count": 11,
     "metadata": {},
     "output_type": "execute_result"
    },
    {
     "name": "stderr",
     "output_type": "stream",
     "text": [
      "/usr/local/lib/python3.5/dist-packages/matplotlib/font_manager.py:1297: UserWarning: findfont: Font family ['sans-serif'] not found. Falling back to DejaVu Sans\n",
      "  (prop.get_family(), self.defaultFamily[fontext]))\n"
     ]
    },
    {
     "data": {
      "image/png": "[encoded data removed]",
      "text/plain": [
       "<matplotlib.figure.Figure at 0x7fc67c9b3a20>"
      ]
     },
     "metadata": {},
     "output_type": "display_data"
    }
   ],
   "source": [
    "ave_ptl_mean_50cp, ave_ptl_ste_50cp =  ave_ptl_mean_50,ave_ptl_ste_50\n",
    "ave_ptl_mean, ave_ptl_ste= patch_pip.pro_bef(ave_ptl_mean_50cp[:5], ave_ptl_ste_50cp[:5])\n",
    "ave_ptl_mean_50cp[:5], ave_ptl_ste_50cp[:5] = ave_ptl_mean, ave_ptl_ste \n",
    "plt.errorbar(x=np.arange(len(ave_ptl_mean_50cp)), y=ave_ptl_mean_50cp, yerr=ave_ptl_ste_50cp, fmt='ko', label='(n={a})'.format(a=len(pre_IE50)))\n",
    "\n",
    "plt.plot(np.ones((60))*1, 'k--')\n",
    "plt.xlabel('Time (min)')\n",
    "plt.ylabel('Normalized EPSC')\n",
    "plt.legend()\n",
    "plt.title('Post-synaptic only (-70 mV)')\n",
    "plt.axis([0,60,0.2,1.6])"
   ]
  }
 ],
 "metadata": {
  "kernelspec": {
   "display_name": "Python 3",
   "language": "python",
   "name": "python3"
  },
  "language_info": {
   "codemirror_mode": {
    "name": "ipython",
    "version": 3
   },
   "file_extension": ".py",
   "mimetype": "text/x-python",
   "name": "python",
   "nbconvert_exporter": "python",
   "pygments_lexer": "ipython3",
   "version": "3.5.2"
  }
 },
 "nbformat": 4,
 "nbformat_minor": 2
}
