{
 "cells": [
  {
   "cell_type": "code",
   "execution_count": 2,
   "metadata": {
    "collapsed": false,
    "deletable": true,
    "editable": true
   },
   "outputs": [],
   "source": [
    "import numpy as np\n",
    "import pandas as pd\n",
    "import scipy.io as sio\n",
    "import matplotlib.pyplot as plt\n",
    "from scipy.optimize import curve_fit\n",
    "import pdb\n",
    "from Patch_ana import patch_pip\n",
    "import seaborn as sns\n",
    "\n",
    "% matplotlib inline\n",
    "%load_ext autoreload\n",
    "% autoreload"
   ]
  },
  {
   "cell_type": "code",
   "execution_count": 3,
   "metadata": {
    "collapsed": false,
    "deletable": true,
    "editable": true
   },
   "outputs": [
    {
     "data": {
      "text/html": [
       "<div>\n",
       "<table border=\"1\" class=\"dataframe\">\n",
       "  <thead>\n",
       "    <tr style=\"text-align: right;\">\n",
       "      <th></th>\n",
       "      <th>File name</th>\n",
       "      <th>Age</th>\n",
       "      <th>Pip number</th>\n",
       "      <th>E-I</th>\n",
       "      <th>Reci</th>\n",
       "      <th>Artifact</th>\n",
       "      <th>IS100</th>\n",
       "      <th>Trial number before</th>\n",
       "      <th>Trial number after</th>\n",
       "      <th>Protocol</th>\n",
       "      <th>Elimi</th>\n",
       "      <th>Notes</th>\n",
       "      <th>Ptl_note</th>\n",
       "    </tr>\n",
       "  </thead>\n",
       "  <tbody>\n",
       "    <tr>\n",
       "      <th>0</th>\n",
       "      <td>2016072704</td>\n",
       "      <td>27</td>\n",
       "      <td>3</td>\n",
       "      <td>0</td>\n",
       "      <td>0</td>\n",
       "      <td>0</td>\n",
       "      <td>1</td>\n",
       "      <td>26,27,28,29</td>\n",
       "      <td>31,32,33,34,35,36</td>\n",
       "      <td>1</td>\n",
       "      <td>0</td>\n",
       "      <td>NaN</td>\n",
       "      <td>50Hz IE preonly</td>\n",
       "    </tr>\n",
       "    <tr>\n",
       "      <th>1</th>\n",
       "      <td>2017021501</td>\n",
       "      <td>30</td>\n",
       "      <td>3</td>\n",
       "      <td>0</td>\n",
       "      <td>0</td>\n",
       "      <td>0</td>\n",
       "      <td>2</td>\n",
       "      <td>12,13</td>\n",
       "      <td>16,17</td>\n",
       "      <td>1</td>\n",
       "      <td>0</td>\n",
       "      <td>NaN</td>\n",
       "      <td>50Hz IE preonly</td>\n",
       "    </tr>\n",
       "    <tr>\n",
       "      <th>2</th>\n",
       "      <td>2016091403</td>\n",
       "      <td>30</td>\n",
       "      <td>2</td>\n",
       "      <td>0</td>\n",
       "      <td>0</td>\n",
       "      <td>0</td>\n",
       "      <td>1</td>\n",
       "      <td>14,15</td>\n",
       "      <td>17,18</td>\n",
       "      <td>1</td>\n",
       "      <td>1</td>\n",
       "      <td>NaN</td>\n",
       "      <td>50Hz IE preonly</td>\n",
       "    </tr>\n",
       "    <tr>\n",
       "      <th>3</th>\n",
       "      <td>2017062202</td>\n",
       "      <td>24</td>\n",
       "      <td>1</td>\n",
       "      <td>0</td>\n",
       "      <td>0</td>\n",
       "      <td>0</td>\n",
       "      <td>1</td>\n",
       "      <td>30,31,32</td>\n",
       "      <td>34,35</td>\n",
       "      <td>1</td>\n",
       "      <td>0</td>\n",
       "      <td>No change, good data</td>\n",
       "      <td>50Hz IE preonly</td>\n",
       "    </tr>\n",
       "    <tr>\n",
       "      <th>4</th>\n",
       "      <td>2016072902</td>\n",
       "      <td>29</td>\n",
       "      <td>1</td>\n",
       "      <td>0</td>\n",
       "      <td>1</td>\n",
       "      <td>0</td>\n",
       "      <td>0</td>\n",
       "      <td>43</td>\n",
       "      <td>45,46,47,48,49</td>\n",
       "      <td>1</td>\n",
       "      <td>0</td>\n",
       "      <td>NaN</td>\n",
       "      <td>50Hz IE preonly</td>\n",
       "    </tr>\n",
       "  </tbody>\n",
       "</table>\n",
       "</div>"
      ],
      "text/plain": [
       "    File name  Age  Pip number  E-I  Reci  Artifact  IS100  \\\n",
       "0  2016072704   27           3    0     0         0      1   \n",
       "1  2017021501   30           3    0     0         0      2   \n",
       "2  2016091403   30           2    0     0         0      1   \n",
       "3  2017062202   24           1    0     0         0      1   \n",
       "4  2016072902   29           1    0     1         0      0   \n",
       "\n",
       "  Trial number before Trial number after  Protocol  Elimi  \\\n",
       "0         26,27,28,29  31,32,33,34,35,36         1      0   \n",
       "1               12,13              16,17         1      0   \n",
       "2               14,15              17,18         1      1   \n",
       "3            30,31,32              34,35         1      0   \n",
       "4                  43     45,46,47,48,49         1      0   \n",
       "\n",
       "                  Notes         Ptl_note  \n",
       "0                   NaN  50Hz IE preonly  \n",
       "1                   NaN  50Hz IE preonly  \n",
       "2                   NaN  50Hz IE preonly  \n",
       "3  No change, good data  50Hz IE preonly  \n",
       "4                   NaN  50Hz IE preonly  "
      ]
     },
     "execution_count": 3,
     "metadata": {},
     "output_type": "execute_result"
    }
   ],
   "source": [
    "data= pd.read_csv('/data/Good data_store.csv')\n",
    "data.head()"
   ]
  },
  {
   "cell_type": "code",
   "execution_count": 4,
   "metadata": {
    "collapsed": false,
    "deletable": true,
    "editable": true
   },
   "outputs": [
    {
     "name": "stdout",
     "output_type": "stream",
     "text": [
      "/data\n"
     ]
    }
   ],
   "source": [
    "cd /data"
   ]
  },
  {
   "cell_type": "markdown",
   "metadata": {
    "deletable": true,
    "editable": true
   },
   "source": [
    "### Figure: PPR and Age relationship"
   ]
  },
  {
   "cell_type": "code",
   "execution_count": 5,
   "metadata": {
    "collapsed": false,
    "deletable": true,
    "editable": true
   },
   "outputs": [
    {
     "data": {
      "text/plain": [
       "1    103\n",
       "2     55\n",
       "0      4\n",
       "Name: IS100, dtype: int64"
      ]
     },
     "execution_count": 5,
     "metadata": {},
     "output_type": "execute_result"
    }
   ],
   "source": [
    "data['IS100'].value_counts()"
   ]
  },
  {
   "cell_type": "markdown",
   "metadata": {
    "deletable": true,
    "editable": true
   },
   "source": [
    "Given that we have most data in isi=100 ms, we will use this to illustrate the relationship between PPR and Age"
   ]
  },
  {
   "cell_type": "code",
   "execution_count": 6,
   "metadata": {
    "collapsed": true,
    "deletable": true,
    "editable": true
   },
   "outputs": [],
   "source": [
    "data_is100_ie = data[(data['IS100']==1)&(data['E-I']==0)]\n",
    "data_is100_ei = data[(data['IS100']==1)&(data['E-I']==1)]"
   ]
  },
  {
   "cell_type": "code",
   "execution_count": 7,
   "metadata": {
    "collapsed": false,
    "deletable": true,
    "editable": true
   },
   "outputs": [],
   "source": [
    "# data_is100[data_is100['Age'] == 32]"
   ]
  },
  {
   "cell_type": "code",
   "execution_count": 8,
   "metadata": {
    "collapsed": false,
    "deletable": true,
    "editable": true,
    "scrolled": true
   },
   "outputs": [
    {
     "data": {
      "text/plain": [
       "22     4\n",
       "23     6\n",
       "24     5\n",
       "25     8\n",
       "26     6\n",
       "27     9\n",
       "28     9\n",
       "29    10\n",
       "30    10\n",
       "31     5\n",
       "32     3\n",
       "33     1\n",
       "34     5\n",
       "35     4\n",
       "Name: Age, dtype: int64"
      ]
     },
     "execution_count": 8,
     "metadata": {},
     "output_type": "execute_result"
    }
   ],
   "source": [
    "data_is100_ei['Age'].value_counts().sort_index()"
   ]
  },
  {
   "cell_type": "code",
   "execution_count": 9,
   "metadata": {
    "collapsed": false,
    "deletable": true,
    "editable": true,
    "scrolled": true
   },
   "outputs": [],
   "source": [
    "# Obtain the sorted age index\n",
    "age_idx_ei = data_is100_ei['Age'].value_counts().sort_index().index\n",
    "age_idx_ie = data_is100_ie['Age'].value_counts().sort_index().index"
   ]
  },
  {
   "cell_type": "code",
   "execution_count": 10,
   "metadata": {
    "collapsed": false,
    "deletable": true,
    "editable": true
   },
   "outputs": [],
   "source": [
    "# Process all the before trial\n",
    "isi=1   # Use only the 100 ms\n",
    "trial_output = {}\n",
    "\n",
    "for i in range(len(age_idx_ei)):\n",
    "    data_tmp =  data_is100_ei[data_is100_ei['Age'] == age_idx_ei[i]]\n",
    "    PPR = []\n",
    "    rs = []\n",
    "    ir = []\n",
    "    amp1 = []\n",
    "    for j in range(len(data_tmp)):\n",
    "        test_name = 'test'+ data_tmp['File name'].iloc[j].astype(str)\n",
    "        test_data = sio.loadmat(test_name)\n",
    "        test_pip = data_tmp.iloc[j]['Pip number']\n",
    "        test_trace_idx = data_tmp.iloc[j]['Trial number before']\n",
    "        ifartifact = data_tmp.iloc[j]['Artifact']\n",
    "        bef_index = [int(s)-1 for s in str.split(test_trace_idx, ',')]\n",
    "        trial_output[data_tmp['File name'].iloc[j].astype(str)]= patch_pip.sing_trial_ana(trial=test_data['test'][0], index=bef_index, isi=isi,test_pip=test_pip, ifartifact=ifartifact, ave_len=3, iffigure=0)\n",
    "        \n",
    "short_data = pd.DataFrame(trial_output).transpose()\n",
    "short_data.to_pickle('short_term_plasticity_EI')"
   ]
  },
  {
   "cell_type": "code",
   "execution_count": 11,
   "metadata": {
    "collapsed": false
   },
   "outputs": [
    {
     "name": "stderr",
     "output_type": "stream",
     "text": [
      "/src/Patch_ana/Patch_ana/patch_pip.py:330: RuntimeWarning: Mean of empty slice\n",
      "  output['onset_tau'] = np.nanmean(onset_tau)\n",
      "/src/Patch_ana/Patch_ana/patch_pip.py:331: RuntimeWarning: Mean of empty slice\n",
      "  output['decay_tau'] = np.nanmean(decay_tau)\n"
     ]
    }
   ],
   "source": [
    "# Process all the before trial\n",
    "isi=1   # Use only the 100 ms\n",
    "trial_output = {}\n",
    "\n",
    "for i in range(len(age_idx_ie)):\n",
    "    data_tmp =  data_is100_ie[data_is100_ie['Age'] == age_idx_ie[i]]\n",
    "    PPR = []\n",
    "    rs = []\n",
    "    ir = []\n",
    "    amp1 = []\n",
    "    for j in range(len(data_tmp)):\n",
    "        test_name = 'test'+ data_tmp['File name'].iloc[j].astype(str)\n",
    "        test_data = sio.loadmat(test_name)\n",
    "        test_pip = data_tmp.iloc[j]['Pip number']\n",
    "        test_trace_idx = data_tmp.iloc[j]['Trial number before']\n",
    "        bef_index = [int(s)-1 for s in str.split(test_trace_idx, ',')]\n",
    "        trial_output[data_tmp['File name'].iloc[j].astype(str)]= patch_pip.sing_trial_ana(trial=test_data['test'][0], index=bef_index, isi=isi,test_pip=test_pip, ave_len=3, iffigure=0)\n",
    "        \n",
    "short_data = pd.DataFrame(trial_output).transpose()\n",
    "short_data.to_pickle('short_term_plasticity_IE')"
   ]
  },
  {
   "cell_type": "code",
   "execution_count": 12,
   "metadata": {
    "collapsed": false,
    "deletable": true,
    "editable": true
   },
   "outputs": [],
   "source": [
    "short_data_ei = pd.read_pickle('short_term_plasticity_EI')\n",
    "short_data_ie = pd.read_pickle('short_term_plasticity_IE')"
   ]
  },
  {
   "cell_type": "code",
   "execution_count": 13,
   "metadata": {
    "collapsed": false,
    "deletable": true,
    "editable": true
   },
   "outputs": [
    {
     "data": {
      "text/html": [
       "<div>\n",
       "<table border=\"1\" class=\"dataframe\">\n",
       "  <thead>\n",
       "    <tr style=\"text-align: right;\">\n",
       "      <th></th>\n",
       "      <th>PPR</th>\n",
       "      <th>ave_all</th>\n",
       "      <th>ave_amp1</th>\n",
       "      <th>ave_amp2</th>\n",
       "      <th>decay_tau</th>\n",
       "      <th>ir</th>\n",
       "      <th>onset_tau</th>\n",
       "      <th>raw_amp1</th>\n",
       "      <th>raw_amp2</th>\n",
       "      <th>resp1_region</th>\n",
       "      <th>resp2_region</th>\n",
       "      <th>rs</th>\n",
       "      <th>x</th>\n",
       "    </tr>\n",
       "  </thead>\n",
       "  <tbody>\n",
       "    <tr>\n",
       "      <th>2016072902</th>\n",
       "      <td>[[1.28876282667], [1.39348695847], [1.38344771...</td>\n",
       "      <td>[[5.47929210672e-11, 8.77189607397e-11, 1.2064...</td>\n",
       "      <td>[[9.75319952337e-11], [8.34325453411e-11], [7....</td>\n",
       "      <td>[[1.25695609868e-10], [1.16262163845e-10], [1....</td>\n",
       "      <td>1.4699</td>\n",
       "      <td>[[53.3280247898], [53.034127662], [50.90761215...</td>\n",
       "      <td>0.56</td>\n",
       "      <td>[1.08866192831e-10, 1.17820711618e-10, 5.91192...</td>\n",
       "      <td>[1.48062284732e-10, 1.36356827441e-10, 8.52999...</td>\n",
       "      <td>[12502, 12503, 12504, 12505, 12506, 12507, 125...</td>\n",
       "      <td>[15032, 15033, 15034, 15035, 15036, 15037, 150...</td>\n",
       "      <td>[[22.0777154188], [21.8323005667], [22.1205637...</td>\n",
       "      <td>[1, 2, 3, 4, 5, 6, 7, 8, 9, 10, 11, 12]</td>\n",
       "    </tr>\n",
       "    <tr>\n",
       "      <th>2016081703</th>\n",
       "      <td>[[1.53338860462], [2.09275010931], [3.06788668...</td>\n",
       "      <td>[[4.49815732432e-13, 6.22979368015e-14, 2.9838...</td>\n",
       "      <td>[[3.973423254e-11], [3.54617697244e-11], [2.20...</td>\n",
       "      <td>[[6.09280193903e-11], [7.42126224671e-11], [6....</td>\n",
       "      <td>2.57062</td>\n",
       "      <td>[[78.4083615685], [72.9411998598], [75.2715301...</td>\n",
       "      <td>0.5575</td>\n",
       "      <td>[4.25538736038e-11, 1.35087758433e-11, 7.36519...</td>\n",
       "      <td>[1.03552384228e-10, 7.8100022381e-11, 2.753733...</td>\n",
       "      <td>[12502, 12503, 12504, 12505, 12506, 12507, 125...</td>\n",
       "      <td>[15032, 15033, 15034, 15035, 15036, 15037, 150...</td>\n",
       "      <td>[[29.6852383834], [31.5029724442], [32.8214736...</td>\n",
       "      <td>[1, 2, 3, 4, 5, 6, 7, 8, 9, 10, 11, 12, 13, 14...</td>\n",
       "    </tr>\n",
       "    <tr>\n",
       "      <th>2016091201</th>\n",
       "      <td>[[1.20672641583], [2.65389660155], [1.00702368...</td>\n",
       "      <td>[[9.04581213349e-13, 8.2921649888e-13, 7.34662...</td>\n",
       "      <td>[[3.24286537795e-11], [1.76171132044e-11], [4....</td>\n",
       "      <td>[[3.91325131454e-11], [4.67539968623e-11], [4....</td>\n",
       "      <td>2.50803</td>\n",
       "      <td>[[97.848730215], [90.1787339449], [88.45998071...</td>\n",
       "      <td>0.563077</td>\n",
       "      <td>[2.87252717053e-11, 7.0065117172e-11, 3.384681...</td>\n",
       "      <td>[6.21767208707e-11, 1.6219564626e-11, 4.630605...</td>\n",
       "      <td>[12502, 12503, 12504, 12505, 12506, 12507, 125...</td>\n",
       "      <td>[15032, 15033, 15034, 15035, 15036, 15037, 150...</td>\n",
       "      <td>[[25.2396445268], [24.7783443862], [24.7792607...</td>\n",
       "      <td>[1, 2, 3, 4, 5, 6, 7, 8, 9, 10, 11, 12, 13]</td>\n",
       "    </tr>\n",
       "    <tr>\n",
       "      <th>2016092901</th>\n",
       "      <td>[[0.652953942162], [0.574974729772], [0.647854...</td>\n",
       "      <td>[[4.94096504618e-12, 6.66442808513e-12, 8.2586...</td>\n",
       "      <td>[[1.07267983432e-10], [1.16351289957e-10], [1....</td>\n",
       "      <td>[[7.004105265e-11], [6.6899051502e-11], [6.909...</td>\n",
       "      <td>4.89602</td>\n",
       "      <td>[[90.9907171666], [96.2559280158], [97.1503028...</td>\n",
       "      <td>0.862857</td>\n",
       "      <td>[9.81292234716e-11, 1.19288831711e-10, 8.78765...</td>\n",
       "      <td>[5.59295205257e-11, 4.99437717122e-11, 1.03026...</td>\n",
       "      <td>[12502, 12503, 12504, 12505, 12506, 12507, 125...</td>\n",
       "      <td>[15032, 15033, 15034, 15035, 15036, 15037, 150...</td>\n",
       "      <td>[[13.4193275723], [13.3697251428], [13.4760541...</td>\n",
       "      <td>[1, 2, 3, 4, 5, 6, 7]</td>\n",
       "    </tr>\n",
       "    <tr>\n",
       "      <th>2016092903</th>\n",
       "      <td>[[3.88297265591], [1.21698428507], [0.69620254...</td>\n",
       "      <td>[[3.48331639225e-12, 3.1360443041e-11, 6.48939...</td>\n",
       "      <td>[[1.40734837352e-11], [4.6117754899e-11], [7.9...</td>\n",
       "      <td>[[5.46469525171e-11], [5.61245829749e-11], [5....</td>\n",
       "      <td>1.44692</td>\n",
       "      <td>[[74.0944489332], [77.6152729596], [78.5501702...</td>\n",
       "      <td>0.56</td>\n",
       "      <td>[nan, 1.78216157756e-11, nan, nan, 5.016984863...</td>\n",
       "      <td>[6.24588229616e-11, 5.03416393448e-11, 5.59592...</td>\n",
       "      <td>[12502, 12503, 12504, 12505, 12506, 12507, 125...</td>\n",
       "      <td>[15032, 15033, 15034, 15035, 15036, 15037, 150...</td>\n",
       "      <td>[[19.6673233592], [19.5035903627], [19.4625362...</td>\n",
       "      <td>[1, 2, 3, 4, 5, 6, 7, 8, 9, 10]</td>\n",
       "    </tr>\n",
       "  </tbody>\n",
       "</table>\n",
       "</div>"
      ],
      "text/plain": [
       "                                                          PPR  \\\n",
       "2016072902  [[1.28876282667], [1.39348695847], [1.38344771...   \n",
       "2016081703  [[1.53338860462], [2.09275010931], [3.06788668...   \n",
       "2016091201  [[1.20672641583], [2.65389660155], [1.00702368...   \n",
       "2016092901  [[0.652953942162], [0.574974729772], [0.647854...   \n",
       "2016092903  [[3.88297265591], [1.21698428507], [0.69620254...   \n",
       "\n",
       "                                                      ave_all  \\\n",
       "2016072902  [[5.47929210672e-11, 8.77189607397e-11, 1.2064...   \n",
       "2016081703  [[4.49815732432e-13, 6.22979368015e-14, 2.9838...   \n",
       "2016091201  [[9.04581213349e-13, 8.2921649888e-13, 7.34662...   \n",
       "2016092901  [[4.94096504618e-12, 6.66442808513e-12, 8.2586...   \n",
       "2016092903  [[3.48331639225e-12, 3.1360443041e-11, 6.48939...   \n",
       "\n",
       "                                                     ave_amp1  \\\n",
       "2016072902  [[9.75319952337e-11], [8.34325453411e-11], [7....   \n",
       "2016081703  [[3.973423254e-11], [3.54617697244e-11], [2.20...   \n",
       "2016091201  [[3.24286537795e-11], [1.76171132044e-11], [4....   \n",
       "2016092901  [[1.07267983432e-10], [1.16351289957e-10], [1....   \n",
       "2016092903  [[1.40734837352e-11], [4.6117754899e-11], [7.9...   \n",
       "\n",
       "                                                     ave_amp2 decay_tau  \\\n",
       "2016072902  [[1.25695609868e-10], [1.16262163845e-10], [1....    1.4699   \n",
       "2016081703  [[6.09280193903e-11], [7.42126224671e-11], [6....   2.57062   \n",
       "2016091201  [[3.91325131454e-11], [4.67539968623e-11], [4....   2.50803   \n",
       "2016092901  [[7.004105265e-11], [6.6899051502e-11], [6.909...   4.89602   \n",
       "2016092903  [[5.46469525171e-11], [5.61245829749e-11], [5....   1.44692   \n",
       "\n",
       "                                                           ir onset_tau  \\\n",
       "2016072902  [[53.3280247898], [53.034127662], [50.90761215...      0.56   \n",
       "2016081703  [[78.4083615685], [72.9411998598], [75.2715301...    0.5575   \n",
       "2016091201  [[97.848730215], [90.1787339449], [88.45998071...  0.563077   \n",
       "2016092901  [[90.9907171666], [96.2559280158], [97.1503028...  0.862857   \n",
       "2016092903  [[74.0944489332], [77.6152729596], [78.5501702...      0.56   \n",
       "\n",
       "                                                     raw_amp1  \\\n",
       "2016072902  [1.08866192831e-10, 1.17820711618e-10, 5.91192...   \n",
       "2016081703  [4.25538736038e-11, 1.35087758433e-11, 7.36519...   \n",
       "2016091201  [2.87252717053e-11, 7.0065117172e-11, 3.384681...   \n",
       "2016092901  [9.81292234716e-11, 1.19288831711e-10, 8.78765...   \n",
       "2016092903  [nan, 1.78216157756e-11, nan, nan, 5.016984863...   \n",
       "\n",
       "                                                     raw_amp2  \\\n",
       "2016072902  [1.48062284732e-10, 1.36356827441e-10, 8.52999...   \n",
       "2016081703  [1.03552384228e-10, 7.8100022381e-11, 2.753733...   \n",
       "2016091201  [6.21767208707e-11, 1.6219564626e-11, 4.630605...   \n",
       "2016092901  [5.59295205257e-11, 4.99437717122e-11, 1.03026...   \n",
       "2016092903  [6.24588229616e-11, 5.03416393448e-11, 5.59592...   \n",
       "\n",
       "                                                 resp1_region  \\\n",
       "2016072902  [12502, 12503, 12504, 12505, 12506, 12507, 125...   \n",
       "2016081703  [12502, 12503, 12504, 12505, 12506, 12507, 125...   \n",
       "2016091201  [12502, 12503, 12504, 12505, 12506, 12507, 125...   \n",
       "2016092901  [12502, 12503, 12504, 12505, 12506, 12507, 125...   \n",
       "2016092903  [12502, 12503, 12504, 12505, 12506, 12507, 125...   \n",
       "\n",
       "                                                 resp2_region  \\\n",
       "2016072902  [15032, 15033, 15034, 15035, 15036, 15037, 150...   \n",
       "2016081703  [15032, 15033, 15034, 15035, 15036, 15037, 150...   \n",
       "2016091201  [15032, 15033, 15034, 15035, 15036, 15037, 150...   \n",
       "2016092901  [15032, 15033, 15034, 15035, 15036, 15037, 150...   \n",
       "2016092903  [15032, 15033, 15034, 15035, 15036, 15037, 150...   \n",
       "\n",
       "                                                           rs  \\\n",
       "2016072902  [[22.0777154188], [21.8323005667], [22.1205637...   \n",
       "2016081703  [[29.6852383834], [31.5029724442], [32.8214736...   \n",
       "2016091201  [[25.2396445268], [24.7783443862], [24.7792607...   \n",
       "2016092901  [[13.4193275723], [13.3697251428], [13.4760541...   \n",
       "2016092903  [[19.6673233592], [19.5035903627], [19.4625362...   \n",
       "\n",
       "                                                            x  \n",
       "2016072902            [1, 2, 3, 4, 5, 6, 7, 8, 9, 10, 11, 12]  \n",
       "2016081703  [1, 2, 3, 4, 5, 6, 7, 8, 9, 10, 11, 12, 13, 14...  \n",
       "2016091201        [1, 2, 3, 4, 5, 6, 7, 8, 9, 10, 11, 12, 13]  \n",
       "2016092901                              [1, 2, 3, 4, 5, 6, 7]  \n",
       "2016092903                    [1, 2, 3, 4, 5, 6, 7, 8, 9, 10]  "
      ]
     },
     "execution_count": 13,
     "metadata": {},
     "output_type": "execute_result"
    }
   ],
   "source": [
    "short_data_ei.head()"
   ]
  },
  {
   "cell_type": "code",
   "execution_count": 14,
   "metadata": {
    "collapsed": false,
    "deletable": true,
    "editable": true
   },
   "outputs": [],
   "source": [
    "# Combined analysis\n",
    "PPR_ei_mean = np.zeros(len(age_idx_ei))\n",
    "PPR_ei_std = np.zeros(len(age_idx_ei))\n",
    "onset_ei_mean = np.zeros(len(age_idx_ei))\n",
    "onset_ei_std = np.zeros(len(age_idx_ei))\n",
    "decay_ei_mean = np.zeros(len(age_idx_ei))\n",
    "decay_ei_std = np.zeros(len(age_idx_ei))\n",
    "\n",
    "for i in range(len(age_idx_ei)):\n",
    "    data_tmp =  data_is100_ei[data_is100_ei['Age'] == age_idx_ei[i]]\n",
    "    PPR = []\n",
    "    rs = []\n",
    "    ir = []\n",
    "    amp1 = []\n",
    "    onset = []\n",
    "    decay = []\n",
    "    for j in range(len(data_tmp)):\n",
    "        test_name = data_tmp['File name'].iloc[j]\n",
    "        trial_tmp = short_data_ei.loc[str(test_name)]\n",
    "        PPR.append(np.nanmean(trial_tmp['PPR']))\n",
    "        rs.append(trial_tmp['rs'])\n",
    "        ir.append(trial_tmp['ir'])\n",
    "        amp1.append(trial_tmp['ave_all'])\n",
    "        onset.append(trial_tmp['onset_tau'])\n",
    "        decay.append(trial_tmp['decay_tau'])\n",
    "     \n",
    "    decay_ei_mean[i] = np.nanmean(decay)\n",
    "    decay_ei_std[i] = np.nanstd(decay)/np.sqrt(len(PPR))\n",
    "    onset_ei_mean[i] = np.nanmean(onset)\n",
    "    onset_ei_std[i] = np.nanstd(onset)/np.sqrt(len(PPR))\n",
    "    PPR_ei_mean[i] = np.nanmean(PPR)\n",
    "    PPR_ei_std[i] = np.nanstd(PPR)/np.sqrt(len(PPR))"
   ]
  },
  {
   "cell_type": "code",
   "execution_count": 15,
   "metadata": {
    "collapsed": false
   },
   "outputs": [
    {
     "name": "stderr",
     "output_type": "stream",
     "text": [
      "/usr/local/lib/python3.5/dist-packages/ipykernel/__main__.py:19: RuntimeWarning: Mean of empty slice\n"
     ]
    }
   ],
   "source": [
    "# Combined analysis\n",
    "PPR_ie_mean = np.zeros(len(age_idx_ie))\n",
    "PPR_ie_std = np.zeros(len(age_idx_ie))\n",
    "onset_ie_mean = np.zeros(len(age_idx_ie))\n",
    "onset_ie_std = np.zeros(len(age_idx_ie))\n",
    "decay_ie_mean = np.zeros(len(age_idx_ie))\n",
    "decay_ie_std = np.zeros(len(age_idx_ie))\n",
    "\n",
    "for i in range(len(age_idx_ie)):\n",
    "    data_tmp =  data_is100_ie[data_is100_ie['Age'] == age_idx_ie[i]]\n",
    "    PPR = []\n",
    "    rs = []\n",
    "    ir = []\n",
    "    onset = []\n",
    "    decay = []\n",
    "    for j in range(len(data_tmp)):\n",
    "        test_name = data_tmp['File name'].iloc[j]\n",
    "        trial_tmp = short_data_ie.loc[str(test_name)]\n",
    "        PPR.append(np.nanmean(trial_tmp['PPR']))\n",
    "        rs.append(trial_tmp['rs'])\n",
    "        ir.append(trial_tmp['ir'])\n",
    "        onset.append(trial_tmp['onset_tau'])\n",
    "        decay.append(trial_tmp['decay_tau'])\n",
    "        amp1.append(trial_tmp['ave_all'])\n",
    "    \n",
    "    decay_ie_mean[i] = np.nanmean(decay)\n",
    "    decay_ie_std[i] = np.nanstd(decay)/np.sqrt(len(PPR))\n",
    "    onset_ie_mean[i] = np.nanmean(onset)\n",
    "    onset_ie_std[i] = np.nanstd(onset)/np.sqrt(len(PPR))\n",
    "    PPR_ie_mean[i] = np.nanmean(PPR)\n",
    "    PPR_ie_std[i] = np.nanstd(PPR)/np.sqrt(len(PPR))"
   ]
  },
  {
   "cell_type": "code",
   "execution_count": 16,
   "metadata": {
    "collapsed": false,
    "deletable": true,
    "editable": true
   },
   "outputs": [],
   "source": [
    "# Perform linear regression on the PPR mean\n",
    "show_len_ei = np.concatenate((np.arange(0,len(age_idx_ei)-3), np.array([len(age_idx_ei)-2,len(age_idx_ei)-1])))\n",
    "show_len_ie = np.arange(1,len(age_idx_ie)-1)\n",
    "from scipy.stats import linregress\n",
    "slope, intercept, r_value, p_value, std_err = linregress(age_idx_ei[show_len_ei],PPR_ei_mean[show_len_ei])"
   ]
  },
  {
   "cell_type": "code",
   "execution_count": 17,
   "metadata": {
    "collapsed": false,
    "deletable": true,
    "editable": true
   },
   "outputs": [
    {
     "name": "stderr",
     "output_type": "stream",
     "text": [
      "/usr/local/lib/python3.5/dist-packages/matplotlib/axes/_axes.py:545: UserWarning: No labelled objects found. Use label='...' kwarg on individual plots.\n",
      "  warnings.warn(\"No labelled objects found. \"\n"
     ]
    },
    {
     "data": {
      "text/plain": [
       "<matplotlib.text.Text at 0x7f33bc854978>"
      ]
     },
     "execution_count": 17,
     "metadata": {},
     "output_type": "execute_result"
    },
    {
     "name": "stderr",
     "output_type": "stream",
     "text": [
      "/usr/local/lib/python3.5/dist-packages/matplotlib/font_manager.py:1297: UserWarning: findfont: Font family ['sans-serif'] not found. Falling back to DejaVu Sans\n",
      "  (prop.get_family(), self.defaultFamily[fontext]))\n"
     ]
    },
    {
     "data": {
      "image/png": "[encoded data removed]",
      "text/plain": [
       "<matplotlib.figure.Figure at 0x7f33ba415080>"
      ]
     },
     "metadata": {},
     "output_type": "display_data"
    }
   ],
   "source": [
    "# plt.plot(age_idx[show_len], slope * age_idx[show_len] + intercept, 'g', alpha=0.4, label='p=%.3f'%p_value)\n",
    "fig, ax = plt.subplots(1,2,sharey=True)\n",
    "fig.set_figwidth(10)\n",
    "ax[0].errorbar(x=age_idx_ei[show_len_ei], y=PPR_ei_mean[show_len_ei], yerr=PPR_ei_std[show_len_ei], fmt='--')\n",
    "ax[1].errorbar(x=age_idx_ie[show_len_ie], y=PPR_ie_mean[show_len_ie], yerr=PPR_ie_std[show_len_ie], fmt='--')\n",
    "ax[0].legend(loc='upper left')\n",
    "ax[0].set_title('E-I')\n",
    "ax[1].set_title('I-E')\n",
    "ax[0].set_xlabel('Age(postnatal days)')\n",
    "ax[1].set_xlabel('Age(postnatal days)')\n",
    "ax[0].set_ylabel('PPR at 100 ms')"
   ]
  },
  {
   "cell_type": "code",
   "execution_count": 18,
   "metadata": {
    "collapsed": false,
    "deletable": true,
    "editable": true
   },
   "outputs": [
    {
     "data": {
      "text/plain": [
       "<matplotlib.text.Text at 0x7f33ba617940>"
      ]
     },
     "execution_count": 18,
     "metadata": {},
     "output_type": "execute_result"
    },
    {
     "name": "stderr",
     "output_type": "stream",
     "text": [
      "/usr/local/lib/python3.5/dist-packages/matplotlib/font_manager.py:1297: UserWarning: findfont: Font family ['sans-serif'] not found. Falling back to DejaVu Sans\n",
      "  (prop.get_family(), self.defaultFamily[fontext]))\n"
     ]
    },
    {
     "data": {
      "image/png": "[encoded data removed]",
      "text/plain": [
       "<matplotlib.figure.Figure at 0x7f33ba634128>"
      ]
     },
     "metadata": {},
     "output_type": "display_data"
    }
   ],
   "source": [
    "# Visualize example trace between paired pulse facilitation and depression\n",
    "fig, ax = plt.subplots(1,2)\n",
    "fig.set_figwidth(10)\n",
    "\n",
    "data_is100_age22 = data_is100_ei[data_is100_ei['Age'] == 22].iloc[2]\n",
    "name_tmp = data_is100_age22['File name']\n",
    "trace = np.mean(short_data_ei.loc[str(name_tmp)]['ave_all'], axis=0)\n",
    "x_resp1 = np.arange(len(trace[short_data_ei.loc[str(name_tmp)]['resp1_region'][31:400]]))/25\n",
    "ax[0].plot(x_resp1,trace[short_data_ei.loc[str(name_tmp)]['resp1_region'][31:400]] * 1e12, label='Resp 1')\n",
    "ax[0].plot(x_resp1,trace[short_data_ei.loc[str(name_tmp)]['resp2_region'][:len(x_resp1)]]* 1e12, label='Resp 2')\n",
    "ax[0].legend()\n",
    "ax[0].set_xlabel('Time (ms)')\n",
    "ax[0].set_ylabel('EPSC (pA)')\n",
    "ax[0].set_title('Age P22 Example (PPR=%0.2f)'%(np.nanmean(short_data_ei.loc[str(name_tmp)]['PPR'])))\n",
    "\n",
    "data_is100_age22 = data_is100_ei[data_is100_ei['Age'] == 30].iloc[4]\n",
    "\n",
    "name_tmp = data_is100_age22['File name']\n",
    "trace = np.mean(short_data_ei.loc[str(name_tmp)]['ave_all'], axis=0)\n",
    "x_resp1 = np.arange(len(trace[short_data_ei.loc[str(name_tmp)]['resp1_region'][28:400]]))/25\n",
    "ax[1].plot(x_resp1,trace[short_data_ei.loc[str(name_tmp)]['resp1_region'][28:400]] * 1e12, label='Resp 1')\n",
    "ax[1].plot(x_resp1,trace[short_data_ei.loc[str(name_tmp)]['resp2_region'][:len(x_resp1)]]* 1e12, label='Resp 2')\n",
    "ax[1].legend()\n",
    "ax[1].set_xlabel('Time (ms)')\n",
    "ax[1].set_ylabel('EPSC (pA)')\n",
    "ax[1].set_title('Age P30 Example (PPR=%0.2f)'%(np.nanmean(short_data_ei.loc[str(name_tmp)]['PPR'])))"
   ]
  },
  {
   "cell_type": "code",
   "execution_count": 21,
   "metadata": {
    "collapsed": false
   },
   "outputs": [
    {
     "name": "stderr",
     "output_type": "stream",
     "text": [
      "/usr/local/lib/python3.5/dist-packages/matplotlib/axes/_axes.py:545: UserWarning: No labelled objects found. Use label='...' kwarg on individual plots.\n",
      "  warnings.warn(\"No labelled objects found. \"\n"
     ]
    },
    {
     "data": {
      "text/plain": [
       "<matplotlib.text.Text at 0x7f33ba5eba20>"
      ]
     },
     "execution_count": 21,
     "metadata": {},
     "output_type": "execute_result"
    },
    {
     "name": "stderr",
     "output_type": "stream",
     "text": [
      "/usr/local/lib/python3.5/dist-packages/matplotlib/font_manager.py:1297: UserWarning: findfont: Font family ['sans-serif'] not found. Falling back to DejaVu Sans\n",
      "  (prop.get_family(), self.defaultFamily[fontext]))\n"
     ]
    },
    {
     "data": {
      "image/png": "[encoded data removed]",
      "text/plain": [
       "<matplotlib.figure.Figure at 0x7f33ba65e908>"
      ]
     },
     "metadata": {},
     "output_type": "display_data"
    }
   ],
   "source": [
    "# plt.plot(age_idx[show_len], slope * age_idx[show_len] + intercept, 'g', alpha=0.4, label='p=%.3f'%p_value)\n",
    "show_len_ei = np.arange(1,len(age_idx_ei)-1)\n",
    "show_len_ie = np.arange(1,len(age_idx_ie)-1)\n",
    "\n",
    "fig, ax = plt.subplots(1,2,sharey=True)\n",
    "fig.set_figwidth(10)\n",
    "ax[0].errorbar(x=age_idx_ei[show_len_ei], y=onset_ei_mean[show_len_ei], yerr=onset_ei_std[show_len_ei], fmt='--')\n",
    "ax[1].errorbar(x=age_idx_ie[show_len_ie], y=onset_ie_mean[show_len_ie], yerr=onset_ie_std[show_len_ie], fmt='--')\n",
    "ax[0].legend(loc='upper left')\n",
    "ax[0].set_title('E-I')\n",
    "ax[1].set_title('I-E')\n",
    "ax[0].set_xlabel('Age(postnatal days)')\n",
    "ax[1].set_xlabel('Age(postnatal days)')\n",
    "ax[0].set_ylabel('Onset time constant (ms)')"
   ]
  },
  {
   "cell_type": "code",
   "execution_count": 22,
   "metadata": {
    "collapsed": false
   },
   "outputs": [
    {
     "name": "stderr",
     "output_type": "stream",
     "text": [
      "/usr/local/lib/python3.5/dist-packages/matplotlib/axes/_axes.py:545: UserWarning: No labelled objects found. Use label='...' kwarg on individual plots.\n",
      "  warnings.warn(\"No labelled objects found. \"\n"
     ]
    },
    {
     "data": {
      "text/plain": [
       "<matplotlib.text.Text at 0x7f33ba491940>"
      ]
     },
     "execution_count": 22,
     "metadata": {},
     "output_type": "execute_result"
    },
    {
     "name": "stderr",
     "output_type": "stream",
     "text": [
      "/usr/local/lib/python3.5/dist-packages/matplotlib/font_manager.py:1297: UserWarning: findfont: Font family ['sans-serif'] not found. Falling back to DejaVu Sans\n",
      "  (prop.get_family(), self.defaultFamily[fontext]))\n"
     ]
    },
    {
     "data": {
      "image/png": "[encoded data removed]",
      "text/plain": [
       "<matplotlib.figure.Figure at 0x7f33ba4380b8>"
      ]
     },
     "metadata": {},
     "output_type": "display_data"
    }
   ],
   "source": [
    "# plt.plot(age_idx[show_len], slope * age_idx[show_len] + intercept, 'g', alpha=0.4, label='p=%.3f'%p_value)\n",
    "fig, ax = plt.subplots(1,2,sharey=True)\n",
    "fig.set_figwidth(10)\n",
    "ax[0].errorbar(x=age_idx_ei[show_len_ei], y=decay_ei_mean[show_len_ei], yerr=decay_ei_std[show_len_ei], fmt='--')\n",
    "ax[1].errorbar(x=age_idx_ie[show_len_ie], y=decay_ie_mean[show_len_ie], yerr=decay_ie_std[show_len_ie], fmt='--')\n",
    "ax[0].legend(loc='upper left')\n",
    "ax[0].set_title('E-I')\n",
    "ax[1].set_title('I-E')\n",
    "ax[0].set_xlabel('Age(postnatal days)')\n",
    "ax[1].set_xlabel('Age(postnatal days)')\n",
    "ax[0].set_ylabel('Decay time constant (ms)')"
   ]
  },
  {
   "cell_type": "code",
   "execution_count": null,
   "metadata": {
    "collapsed": true
   },
   "outputs": [],
   "source": []
  }
 ],
 "metadata": {
  "kernelspec": {
   "display_name": "Python 3",
   "language": "python",
   "name": "python3"
  },
  "language_info": {
   "codemirror_mode": {
    "name": "ipython",
    "version": 3
   },
   "file_extension": ".py",
   "mimetype": "text/x-python",
   "name": "python",
   "nbconvert_exporter": "python",
   "pygments_lexer": "ipython3",
   "version": "3.5.2"
  }
 },
 "nbformat": 4,
 "nbformat_minor": 2
}
