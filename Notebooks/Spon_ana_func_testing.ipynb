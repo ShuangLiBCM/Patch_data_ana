{
 "cells": [
  {
   "cell_type": "code",
   "execution_count": 1,
   "metadata": {
    "collapsed": false,
    "deletable": true,
    "editable": true
   },
   "outputs": [],
   "source": [
    "import numpy as np\n",
    "import pandas as pd\n",
    "import scipy.io as sio\n",
    "import matplotlib.pyplot as plt\n",
    "from scipy.optimize import curve_fit\n",
    "import pdb\n",
    "from Patch_ana import patch_pip, spon_ana\n",
    "import seaborn as sns\n",
    "import pickle\n",
    "from matplotlib.backends.backend_pdf import PdfPages\n",
    "plt.style.use('classic')\n",
    "\n",
    "% matplotlib inline\n",
    "# % matplotlib notebook\n",
    "\n",
    "%load_ext autoreload\n",
    "% autoreload"
   ]
  },
  {
   "cell_type": "code",
   "execution_count": 2,
   "metadata": {
    "collapsed": false,
    "deletable": true,
    "editable": true
   },
   "outputs": [],
   "source": [
    "post_2Hz_reci = pd.read_pickle('/data/ana_post_2Hz_reci')"
   ]
  },
  {
   "cell_type": "code",
   "execution_count": 3,
   "metadata": {
    "collapsed": false,
    "scrolled": true
   },
   "outputs": [
    {
     "data": {
      "text/html": [
       "<div>\n",
       "<table border=\"1\" class=\"dataframe\">\n",
       "  <thead>\n",
       "    <tr style=\"text-align: right;\">\n",
       "      <th></th>\n",
       "      <th>Before</th>\n",
       "      <th>After</th>\n",
       "      <th>File name</th>\n",
       "      <th>elimi</th>\n",
       "      <th>spon_elimi_bef</th>\n",
       "    </tr>\n",
       "  </thead>\n",
       "  <tbody>\n",
       "    <tr>\n",
       "      <th>121</th>\n",
       "      <td>{'resp1_region': [12502, 12503, 12504, 12505, ...</td>\n",
       "      <td>{'resp1_region': [12502, 12503, 12504, 12505, ...</td>\n",
       "      <td>2017081802</td>\n",
       "      <td>30</td>\n",
       "      <td>[0, 1, 15, 20, 21, 22, 25, 32, 39, 42, 78]</td>\n",
       "    </tr>\n",
       "    <tr>\n",
       "      <th>122</th>\n",
       "      <td>{'resp1_region': [12502, 12503, 12504, 12505, ...</td>\n",
       "      <td>{'resp1_region': [12502, 12503, 12504, 12505, ...</td>\n",
       "      <td>2017082302</td>\n",
       "      <td>50</td>\n",
       "      <td>[0, 3, 24, 25, 26, 37, 47, 50]</td>\n",
       "    </tr>\n",
       "    <tr>\n",
       "      <th>123</th>\n",
       "      <td>{'resp1_region': [12502, 12503, 12504, 12505, ...</td>\n",
       "      <td>{'resp1_region': [12502, 12503, 12504, 12505, ...</td>\n",
       "      <td>2017082304</td>\n",
       "      <td>40</td>\n",
       "      <td>[16, 18, 19]</td>\n",
       "    </tr>\n",
       "    <tr>\n",
       "      <th>124</th>\n",
       "      <td>{'resp1_region': [12502, 12503, 12504, 12505, ...</td>\n",
       "      <td>{'resp1_region': [12502, 12503, 12504, 12505, ...</td>\n",
       "      <td>2017082402</td>\n",
       "      <td>40</td>\n",
       "      <td>[0, 2, 4, 10, 35, 54]</td>\n",
       "    </tr>\n",
       "    <tr>\n",
       "      <th>125</th>\n",
       "      <td>{'resp1_region': [12502, 12503, 12504, 12505, ...</td>\n",
       "      <td>{'resp1_region': [12502, 12503, 12504, 12505, ...</td>\n",
       "      <td>2017083001</td>\n",
       "      <td>45</td>\n",
       "      <td>[0, 9, 20, 22, 25, 31, 35, 49, 52, 56, 59]</td>\n",
       "    </tr>\n",
       "    <tr>\n",
       "      <th>126</th>\n",
       "      <td>{'resp1_region': [12502, 12503, 12504, 12505, ...</td>\n",
       "      <td>{'resp1_region': [12502, 12503, 12504, 12505, ...</td>\n",
       "      <td>2017083101</td>\n",
       "      <td>30</td>\n",
       "      <td>[3, 5, 12, 13, 14, 15, 16, 19, 24, 44, 50, 67,...</td>\n",
       "    </tr>\n",
       "  </tbody>\n",
       "</table>\n",
       "</div>"
      ],
      "text/plain": [
       "                                                Before  \\\n",
       "121  {'resp1_region': [12502, 12503, 12504, 12505, ...   \n",
       "122  {'resp1_region': [12502, 12503, 12504, 12505, ...   \n",
       "123  {'resp1_region': [12502, 12503, 12504, 12505, ...   \n",
       "124  {'resp1_region': [12502, 12503, 12504, 12505, ...   \n",
       "125  {'resp1_region': [12502, 12503, 12504, 12505, ...   \n",
       "126  {'resp1_region': [12502, 12503, 12504, 12505, ...   \n",
       "\n",
       "                                                 After   File name  elimi  \\\n",
       "121  {'resp1_region': [12502, 12503, 12504, 12505, ...  2017081802     30   \n",
       "122  {'resp1_region': [12502, 12503, 12504, 12505, ...  2017082302     50   \n",
       "123  {'resp1_region': [12502, 12503, 12504, 12505, ...  2017082304     40   \n",
       "124  {'resp1_region': [12502, 12503, 12504, 12505, ...  2017082402     40   \n",
       "125  {'resp1_region': [12502, 12503, 12504, 12505, ...  2017083001     45   \n",
       "126  {'resp1_region': [12502, 12503, 12504, 12505, ...  2017083101     30   \n",
       "\n",
       "                                        spon_elimi_bef  \n",
       "121         [0, 1, 15, 20, 21, 22, 25, 32, 39, 42, 78]  \n",
       "122                     [0, 3, 24, 25, 26, 37, 47, 50]  \n",
       "123                                       [16, 18, 19]  \n",
       "124                              [0, 2, 4, 10, 35, 54]  \n",
       "125         [0, 9, 20, 22, 25, 31, 35, 49, 52, 56, 59]  \n",
       "126  [3, 5, 12, 13, 14, 15, 16, 19, 24, 44, 50, 67,...  "
      ]
     },
     "execution_count": 3,
     "metadata": {},
     "output_type": "execute_result"
    }
   ],
   "source": [
    "post_2Hz_reci"
   ]
  },
  {
   "cell_type": "code",
   "execution_count": 4,
   "metadata": {
    "collapsed": false,
    "deletable": true,
    "editable": true
   },
   "outputs": [],
   "source": [
    "# spon_elimi_bef = post_2Hz_reco.spon_elimi_bef\n",
    "# spon_elimi_aft = {}\n",
    "# spon_elimi_bef[121] = [0, 1, 15, 20, 21, 22, 25, 32, 39, 42, 78]\n",
    "# spon_elimi_bef[122] = [0, 3, 24, 25, 26, 37, 47, 50]\n",
    "# spon_elimi_bef[123] = [16, 18, 19]\n",
    "# spon_elimi_bef[124] = [0, 2, 4, 10, 35, 54]\n",
    "# spon_elimi_bef[125] = [0, 9, 20, 22, 25, 31, 35, 49, 52, 56, 59]\n",
    "# spon_elimi_bef[126] = [3, 5, 12, 13, 14, 15, 16, 19, 24, 44, 50, 67, 68, 70]"
   ]
  },
  {
   "cell_type": "code",
   "execution_count": 5,
   "metadata": {
    "collapsed": false
   },
   "outputs": [
    {
     "data": {
      "text/plain": [
       "[121, 122, 123, 124, 125, 126]"
      ]
     },
     "execution_count": 5,
     "metadata": {},
     "output_type": "execute_result"
    }
   ],
   "source": [
    "list(post_2Hz_reci.index)"
   ]
  },
  {
   "cell_type": "code",
   "execution_count": 6,
   "metadata": {
    "collapsed": false
   },
   "outputs": [
    {
     "ename": "NameError",
     "evalue": "name 'choice' is not defined",
     "output_type": "error",
     "traceback": [
      "\u001b[0;31m---------------------------------------------------------------------------\u001b[0m",
      "\u001b[0;31mNameError\u001b[0m                                 Traceback (most recent call last)",
      "\u001b[0;32m<ipython-input-6-b1c09d135f4e>\u001b[0m in \u001b[0;36m<module>\u001b[0;34m()\u001b[0m\n\u001b[0;32m----> 1\u001b[0;31m \u001b[0;32mwith\u001b[0m \u001b[0mopen\u001b[0m\u001b[0;34m(\u001b[0m\u001b[0;34m'/data/psc_test_{}'\u001b[0m\u001b[0;34m.\u001b[0m\u001b[0mformat\u001b[0m\u001b[0;34m(\u001b[0m\u001b[0mchoice\u001b[0m\u001b[0;34m)\u001b[0m\u001b[0;34m,\u001b[0m \u001b[0;34m'wb'\u001b[0m\u001b[0;34m)\u001b[0m \u001b[0;32mas\u001b[0m \u001b[0mfp\u001b[0m\u001b[0;34m:\u001b[0m\u001b[0;34m\u001b[0m\u001b[0m\n\u001b[0m\u001b[1;32m      2\u001b[0m     \u001b[0mpickle\u001b[0m\u001b[0;34m.\u001b[0m\u001b[0mdump\u001b[0m\u001b[0;34m(\u001b[0m\u001b[0mpsc_dic\u001b[0m\u001b[0;34m,\u001b[0m \u001b[0mfp\u001b[0m\u001b[0;34m)\u001b[0m\u001b[0;34m\u001b[0m\u001b[0m\n",
      "\u001b[0;31mNameError\u001b[0m: name 'choice' is not defined"
     ]
    }
   ],
   "source": [
    "with open('/data/psc_test_{}'.format(choice), 'wb') as fp:\n",
    "    pickle.dump(psc_dic, fp)"
   ]
  },
  {
   "cell_type": "code",
   "execution_count": null,
   "metadata": {
    "collapsed": false,
    "deletable": true,
    "editable": true
   },
   "outputs": [],
   "source": [
    "# post_2Hz_reci.index\n",
    "for choice in post_2Hz_reci.index:\n",
    "    spon_list = post_2Hz_reci.Before.loc[choice]['spon_trace'].copy()\n",
    "    elimi_list = post_2Hz_reci.loc[choice]['spon_elimi_bef'].copy()\n",
    "    spon_list = spon_ana.pop_Spon_Trace(spon_list, elimi_list)\n",
    "    spon_trace = -1 * np.hstack(spon_list)\n",
    "    \n",
    "    plt.figure()\n",
    "    plt.plot(spon_trace)\n",
    "    \n",
    "    # Obtain the template\n",
    "    popt, xdata, template = spon_ana.template_Gen(post_2Hz_reci, index=choice, bef_aft=0)\n",
    "    \n",
    "    plt.figure()\n",
    "    plt.plot(template)\n",
    "    plt.plot(spon_ana.fun_exp(xdata, *popt), label='raw fit')\n",
    "    plt.plot(spon_ana.fun_exp(xdata, *popt*2), label='scale up')\n",
    "    plt.plot(spon_ana.fun_exp(xdata, *popt/2), label='scale down')\n",
    "    plt.legend()\n",
    "    \n",
    "    psc_dic = {}\n",
    "\n",
    "    for i in range(len(spon_list)):\n",
    "        # detection locations of PSCs\n",
    "        psc_loc_raw = spon_ana.spon_detect(spon_list[i], spon_ana.fun_exp(xdata, *popt))\n",
    "        psc_loc_up = spon_ana.spon_detect(spon_list[i], spon_ana.fun_exp(xdata, *popt*2))\n",
    "        psc_loc_down = spon_ana.spon_detect(spon_list[i], spon_ana.fun_exp(xdata, *popt/2))\n",
    "        psc_list= list(set(np.concatenate([psc_loc_raw,psc_loc_up, psc_loc_down])))\n",
    "        psc_list.sort()\n",
    "        psc_loc = np.array(psc_list).reshape(1,-1)\n",
    "        # Obtain amplitude, decay, onset time constant of each psc\n",
    "        psc_dic[i] = spon_ana.psc_search(spon_list[i], psc_loc)\n",
    "        \n",
    "    with open('/data/psc_test_{}'.format(choice), 'wb') as fp:\n",
    "        pickle.dump(psc_dic, fp)\n",
    "    \n",
    "    print('saving psc data from %d ...' % choice)\n",
    "    \n",
    "    for j in range(len(psc_dic)):\n",
    "        for i in range(len(psc_dic[j])):\n",
    "            plt.figure()\n",
    "            plt.plot(psc_dic[j][i]['trace'])\n",
    "            plt.title(\"%d th resp, %d th trace, decay=%0.5f, error=%0.5f  \" % (j, i, psc_dic[j][i]['decay_tau'], np.sqrt(psc_dic[j][i]['fit_error'])*10**10))\n",
    "            plt.plot(np.arange(len(psc_dic[j][i]['decay_fit']))+np.argmax(psc_dic[j][i]['trace']), psc_dic[j][i]['decay_fit'])"
   ]
  },
  {
   "cell_type": "markdown",
   "metadata": {
    "deletable": true,
    "editable": true
   },
   "source": [
    "### 1. Create preliminary template through fitting response to stimulation"
   ]
  },
  {
   "cell_type": "code",
   "execution_count": null,
   "metadata": {
    "collapsed": true,
    "deletable": true,
    "editable": true
   },
   "outputs": [],
   "source": [
    "with open('/data/psc_test_{}'.format(choice), 'rb') as fp:\n",
    "    psc_dic = pickle.load(fp)"
   ]
  },
  {
   "cell_type": "code",
   "execution_count": null,
   "metadata": {
    "collapsed": false,
    "deletable": true,
    "editable": true
   },
   "outputs": [],
   "source": [
    "amp = []\n",
    "decay_tau = []\n",
    "onset_tau = []\n",
    "for j in range(len(psc_dic)):\n",
    "    for i in range(len(psc_dic[j])):\n",
    "        amp.append(psc_dic[j][i]['amp'])\n",
    "        decay_tau.append(psc_dic[j][i]['decay_tau'])\n",
    "        onset_tau.append(psc_dic[j][i]['onset_tau'])"
   ]
  },
  {
   "cell_type": "code",
   "execution_count": null,
   "metadata": {
    "collapsed": false,
    "deletable": true,
    "editable": true
   },
   "outputs": [],
   "source": [
    "amp_data = np.array(amp)\n",
    "decay_tau_data = np.array(decay_tau)\n",
    "onset_tau_data = np.array(onset_tau)"
   ]
  },
  {
   "cell_type": "code",
   "execution_count": null,
   "metadata": {
    "collapsed": false,
    "deletable": true,
    "editable": true,
    "scrolled": true
   },
   "outputs": [],
   "source": [
    "plt.plot(amp_data, decay_tau, 'o', alpha=0.3)\n",
    "plt.ylim([0, 0.005])"
   ]
  },
  {
   "cell_type": "code",
   "execution_count": null,
   "metadata": {
    "collapsed": false,
    "deletable": true,
    "editable": true
   },
   "outputs": [],
   "source": [
    "plt.hist(decay_tau, range=(0,0.005), bins=100)"
   ]
  },
  {
   "cell_type": "code",
   "execution_count": null,
   "metadata": {
    "collapsed": false,
    "deletable": true,
    "editable": true
   },
   "outputs": [],
   "source": [
    "plt.plot(amp_data, onset_tau, 'o')"
   ]
  },
  {
   "cell_type": "code",
   "execution_count": null,
   "metadata": {
    "collapsed": true,
    "deletable": true,
    "editable": true
   },
   "outputs": [],
   "source": [
    "from mpl_toolkits.mplot3d import Axes3D"
   ]
  },
  {
   "cell_type": "code",
   "execution_count": null,
   "metadata": {
    "collapsed": false,
    "deletable": true,
    "editable": true
   },
   "outputs": [],
   "source": [
    "fig = plt.figure()\n",
    "ax = fig.add_subplot(111, projection='3d')\n",
    "ax.scatter(np.array(onset_tau), np.array(decay_tau), np.array(amp_data))\n",
    "plt.show()"
   ]
  },
  {
   "cell_type": "markdown",
   "metadata": {
    "deletable": true,
    "editable": true
   },
   "source": [
    "### 2. Extract examplary large and isolated events using a high detection threshold"
   ]
  },
  {
   "cell_type": "markdown",
   "metadata": {
    "deletable": true,
    "editable": true
   },
   "source": [
    "### 3. Create a final template by fitting a function to the average of the exemplary events"
   ]
  },
  {
   "cell_type": "markdown",
   "metadata": {
    "deletable": true,
    "editable": true
   },
   "source": [
    "### 4. Extract all events with the final template using a low detection criterion threshold"
   ]
  },
  {
   "cell_type": "markdown",
   "metadata": {
    "deletable": true,
    "editable": true
   },
   "source": [
    "### 5. Eliminate false-positive, add false-negative events"
   ]
  },
  {
   "cell_type": "code",
   "execution_count": null,
   "metadata": {
    "collapsed": false,
    "deletable": true,
    "editable": true
   },
   "outputs": [],
   "source": [
    "# Create"
   ]
  },
  {
   "cell_type": "code",
   "execution_count": null,
   "metadata": {
    "collapsed": true,
    "deletable": true,
    "editable": true
   },
   "outputs": [],
   "source": []
  }
 ],
 "metadata": {
  "kernelspec": {
   "display_name": "Python 3",
   "language": "python",
   "name": "python3"
  },
  "language_info": {
   "codemirror_mode": {
    "name": "ipython",
    "version": 3
   },
   "file_extension": ".py",
   "mimetype": "text/x-python",
   "name": "python",
   "nbconvert_exporter": "python",
   "pygments_lexer": "ipython3",
   "version": "3.5.2"
  }
 },
 "nbformat": 4,
 "nbformat_minor": 2
}
