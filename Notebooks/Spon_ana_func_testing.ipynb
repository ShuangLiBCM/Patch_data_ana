{
 "cells": [
  {
   "cell_type": "code",
   "execution_count": 61,
   "metadata": {
    "collapsed": false,
    "deletable": true,
    "editable": true
   },
   "outputs": [
    {
     "name": "stdout",
     "output_type": "stream",
     "text": [
      "The autoreload extension is already loaded. To reload it, use:\n",
      "  %reload_ext autoreload\n"
     ]
    }
   ],
   "source": [
    "import numpy as np\n",
    "import pandas as pd\n",
    "import scipy.io as sio\n",
    "import matplotlib.pyplot as plt\n",
    "from scipy.optimize import curve_fit\n",
    "import pdb\n",
    "from Patch_ana import patch_pip, spon_ana\n",
    "import seaborn as sns\n",
    "import pickle\n",
    "from matplotlib.backends.backend_pdf import PdfPages\n",
    "plt.style.use('classic')\n",
    "\n",
    "% matplotlib inline\n",
    "# % matplotlib notebook\n",
    "\n",
    "%load_ext autoreload\n",
    "% autoreload 2"
   ]
  },
  {
   "cell_type": "code",
   "execution_count": 58,
   "metadata": {
    "collapsed": false,
    "deletable": true,
    "editable": true
   },
   "outputs": [],
   "source": [
    "post_2Hz_reci = pd.read_pickle('/data/ana_post_2Hz_reci')"
   ]
  },
  {
   "cell_type": "code",
   "execution_count": 14,
   "metadata": {
    "collapsed": false,
    "deletable": true,
    "editable": true,
    "scrolled": true
   },
   "outputs": [
    {
     "data": {
      "text/html": [
       "<div>\n",
       "<table border=\"1\" class=\"dataframe\">\n",
       "  <thead>\n",
       "    <tr style=\"text-align: right;\">\n",
       "      <th></th>\n",
       "      <th>Before</th>\n",
       "      <th>After</th>\n",
       "      <th>File name</th>\n",
       "      <th>elimi</th>\n",
       "      <th>spon_elimi_bef</th>\n",
       "      <th>spon_elimi_aft</th>\n",
       "    </tr>\n",
       "  </thead>\n",
       "  <tbody>\n",
       "    <tr>\n",
       "      <th>121</th>\n",
       "      <td>{'ave_amp1': [[4.80637267564e-11], [1.87817988...</td>\n",
       "      <td>{'ave_amp1': [[4.25482222695e-11], [4.15985512...</td>\n",
       "      <td>2017081802</td>\n",
       "      <td>30</td>\n",
       "      <td>[0, 1, 15, 20, 21, 22, 25, 32, 39, 42, 78]</td>\n",
       "      <td>[52, 57, 64, 65]</td>\n",
       "    </tr>\n",
       "    <tr>\n",
       "      <th>122</th>\n",
       "      <td>{'ave_amp1': [[9.19310355367e-11], [6.84142632...</td>\n",
       "      <td>{'ave_amp1': [[7.71111564184e-11], [6.49876114...</td>\n",
       "      <td>2017082302</td>\n",
       "      <td>50</td>\n",
       "      <td>[0, 3, 24, 25, 26, 37, 47, 50]</td>\n",
       "      <td>[67, 73, 80, 81, 82, 84, 88, 90, 96, 101, 116,...</td>\n",
       "    </tr>\n",
       "    <tr>\n",
       "      <th>123</th>\n",
       "      <td>{'ave_amp1': [[9.69784397064e-11], [8.21152440...</td>\n",
       "      <td>{'ave_amp1': [[4.01764970795e-11], [4.81833983...</td>\n",
       "      <td>2017082304</td>\n",
       "      <td>40</td>\n",
       "      <td>[16, 18, 19]</td>\n",
       "      <td>[38, 44, 50, 56, 57, 71, 84, 88, 95]</td>\n",
       "    </tr>\n",
       "    <tr>\n",
       "      <th>124</th>\n",
       "      <td>{'ave_amp1': [[3.5281256566e-11], [6.337313946...</td>\n",
       "      <td>{'ave_amp1': [[5.70692305462e-11], [5.37819591...</td>\n",
       "      <td>2017082402</td>\n",
       "      <td>40</td>\n",
       "      <td>[0, 2, 4, 10, 35, 54]</td>\n",
       "      <td>[37]</td>\n",
       "    </tr>\n",
       "    <tr>\n",
       "      <th>125</th>\n",
       "      <td>{'ave_amp1': [[9.15554304815e-11], [1.06799826...</td>\n",
       "      <td>{'ave_amp1': [[5.10411496332e-11], [4.89674547...</td>\n",
       "      <td>2017083001</td>\n",
       "      <td>45</td>\n",
       "      <td>[0, 9, 20, 22, 25, 31, 35, 49, 52, 56, 59]</td>\n",
       "      <td>[57, 63, 67, 70, 71, 80, 104]</td>\n",
       "    </tr>\n",
       "    <tr>\n",
       "      <th>126</th>\n",
       "      <td>{'ave_amp1': [[9.03576852971e-12], [1.56598111...</td>\n",
       "      <td>{'ave_amp1': [[1.4636456127e-11], [1.187144359...</td>\n",
       "      <td>2017083101</td>\n",
       "      <td>30</td>\n",
       "      <td>[3, 5, 12, 13, 14, 15, 16, 19, 24, 44, 50, 67,...</td>\n",
       "      <td>[37, 39, 45, 46, 59, 60]</td>\n",
       "    </tr>\n",
       "  </tbody>\n",
       "</table>\n",
       "</div>"
      ],
      "text/plain": [
       "                                                Before  \\\n",
       "121  {'ave_amp1': [[4.80637267564e-11], [1.87817988...   \n",
       "122  {'ave_amp1': [[9.19310355367e-11], [6.84142632...   \n",
       "123  {'ave_amp1': [[9.69784397064e-11], [8.21152440...   \n",
       "124  {'ave_amp1': [[3.5281256566e-11], [6.337313946...   \n",
       "125  {'ave_amp1': [[9.15554304815e-11], [1.06799826...   \n",
       "126  {'ave_amp1': [[9.03576852971e-12], [1.56598111...   \n",
       "\n",
       "                                                 After   File name  elimi  \\\n",
       "121  {'ave_amp1': [[4.25482222695e-11], [4.15985512...  2017081802     30   \n",
       "122  {'ave_amp1': [[7.71111564184e-11], [6.49876114...  2017082302     50   \n",
       "123  {'ave_amp1': [[4.01764970795e-11], [4.81833983...  2017082304     40   \n",
       "124  {'ave_amp1': [[5.70692305462e-11], [5.37819591...  2017082402     40   \n",
       "125  {'ave_amp1': [[5.10411496332e-11], [4.89674547...  2017083001     45   \n",
       "126  {'ave_amp1': [[1.4636456127e-11], [1.187144359...  2017083101     30   \n",
       "\n",
       "                                        spon_elimi_bef  \\\n",
       "121         [0, 1, 15, 20, 21, 22, 25, 32, 39, 42, 78]   \n",
       "122                     [0, 3, 24, 25, 26, 37, 47, 50]   \n",
       "123                                       [16, 18, 19]   \n",
       "124                              [0, 2, 4, 10, 35, 54]   \n",
       "125         [0, 9, 20, 22, 25, 31, 35, 49, 52, 56, 59]   \n",
       "126  [3, 5, 12, 13, 14, 15, 16, 19, 24, 44, 50, 67,...   \n",
       "\n",
       "                                        spon_elimi_aft  \n",
       "121                                   [52, 57, 64, 65]  \n",
       "122  [67, 73, 80, 81, 82, 84, 88, 90, 96, 101, 116,...  \n",
       "123               [38, 44, 50, 56, 57, 71, 84, 88, 95]  \n",
       "124                                               [37]  \n",
       "125                      [57, 63, 67, 70, 71, 80, 104]  \n",
       "126                           [37, 39, 45, 46, 59, 60]  "
      ]
     },
     "execution_count": 14,
     "metadata": {},
     "output_type": "execute_result"
    }
   ],
   "source": [
    "post_2Hz_reci"
   ]
  },
  {
   "cell_type": "code",
   "execution_count": 68,
   "metadata": {
    "collapsed": false,
    "deletable": true,
    "editable": true
   },
   "outputs": [],
   "source": [
    "# post_2Hz_reci.index\n",
    "bef_aft_choice = 'after'\n",
    "\n",
    "# list(post_2Hz_reci.index)\n",
    "\n",
    "for choice in list(post_2Hz_reci.index):\n",
    "    \n",
    "    if bef_aft_choice == 'before':\n",
    "        spon_list = post_2Hz_reci.Before.loc[choice]['spon_trace'].copy()\n",
    "        elimi_list = post_2Hz_reci.loc[choice]['spon_elimi_bef'].copy()\n",
    "        spon_list = spon_ana.pop_Spon_Trace(spon_list, elimi_list)\n",
    "        spon_trace = -1 * np.hstack(spon_list)\n",
    "\n",
    "        plt.figure()\n",
    "        plt.plot(spon_trace)\n",
    "\n",
    "        # Obtain the template\n",
    "        popt, xdata, template = spon_ana.template_Gen(post_2Hz_reci, index=choice, bef_aft=0)\n",
    "    else:\n",
    "        spon_list = post_2Hz_reci.After.loc[choice]['spon_trace'].copy()\n",
    "        elimi_list = post_2Hz_reci.loc[choice]['spon_elimi_aft'].copy()\n",
    "        \n",
    "        range_idx = spon_ana.post_bef_end(post_2Hz_reci.loc[choice].elimi)\n",
    "        spon_list = [spon_list[i] for i in range_idx]\n",
    "        elimi_list = list(np.array(elimi_list) - range_idx[0])\n",
    "        \n",
    "        spon_list = spon_ana.pop_Spon_Trace(spon_list, elimi_list)\n",
    "        spon_trace = -1 * np.hstack(spon_list)\n",
    "\n",
    "        plt.figure()\n",
    "        plt.plot(spon_trace)\n",
    "\n",
    "        # Obtain the template\n",
    "        popt, xdata, template = spon_ana.template_Gen(post_2Hz_reci, index=choice, bef_aft=1)\n",
    "\n",
    "\n",
    "    plt.figure()\n",
    "    plt.plot(template)\n",
    "    plt.plot(spon_ana.fun_exp(xdata, *popt), label='raw fit')\n",
    "    plt.plot(spon_ana.fun_exp(xdata, *popt*2), label='scale up')\n",
    "    plt.plot(spon_ana.fun_exp(xdata, *popt/2), label='scale down')\n",
    "    plt.legend()\n",
    "    \n",
    "    psc_dic = {}\n",
    "    \n",
    "    for i in range(len(spon_list)):\n",
    "        # detection locations of PSCs\n",
    "        psc_loc_raw = spon_ana.spon_detect(spon_list[i], spon_ana.fun_exp(xdata, *popt))\n",
    "        psc_loc_up = spon_ana.spon_detect(spon_list[i], spon_ana.fun_exp(xdata, *popt*2))\n",
    "        psc_loc_down = spon_ana.spon_detect(spon_list[i], spon_ana.fun_exp(xdata, *popt/2))\n",
    "        psc_list= list(set(np.concatenate([psc_loc_raw,psc_loc_up, psc_loc_down])))\n",
    "        psc_list.sort()\n",
    "        psc_loc = np.array(psc_list).reshape(1,-1)\n",
    "        # Obtain amplitude, decay, onset time constant of each psc\n",
    "        psc_dic[i] = spon_ana.psc_search(spon_list[i], psc_loc)\n",
    "    \n",
    "    # Save the results for future analysis\n",
    "    with open('/data/psc_test_' + bef_aft_choice + '_{}'.format(choice), 'wb') as fp:\n",
    "            pickle.dump(psc_dic, fp)\n",
    "            \n",
    "    print('saving psc data from %d ...' % choice)\n",
    "    \n",
    "    for j in range(len(psc_dic)):\n",
    "         for i in range(len(psc_dic[j])):\n",
    "            plt.figure()\n",
    "            plt.plot(psc_dic[j][i]['trace'])\n",
    "            plt.title(\"%d th resp, %d th trace, decay=%s, error=%0.5f  \" % (j, i, psc_dic[j][i]['decay_tau'], psc_dic[j][i]['fit_error']*10**23))\n",
    "            plt.plot(np.arange(len(psc_dic[j][i]['decay_fit']))+np.argmax(psc_dic[j][i]['trace']), psc_dic[j][i]['decay_fit'])"
   ]
  },
  {
   "cell_type": "code",
   "execution_count": 50,
   "metadata": {
    "collapsed": true
   },
   "outputs": [],
   "source": [
    "a = 0.02\n",
    "b = 0.0005 * 10 ** -10"
   ]
  },
  {
   "cell_type": "code",
   "execution_count": 51,
   "metadata": {
    "collapsed": false
   },
   "outputs": [
    {
     "data": {
      "text/plain": [
       "5e-14"
      ]
     },
     "execution_count": 51,
     "metadata": {},
     "output_type": "execute_result"
    }
   ],
   "source": [
    "b"
   ]
  },
  {
   "cell_type": "code",
   "execution_count": 52,
   "metadata": {
    "collapsed": false
   },
   "outputs": [
    {
     "data": {
      "text/plain": [
       "False"
      ]
     },
     "execution_count": 52,
     "metadata": {},
     "output_type": "execute_result"
    }
   ],
   "source": [
    "b > 0.05 * 10 ** -10"
   ]
  },
  {
   "cell_type": "code",
   "execution_count": 53,
   "metadata": {
    "collapsed": true
   },
   "outputs": [],
   "source": [
    "if a < 0.0003 or a > 0.01 or b > 0.05 * 10 ** -10:\n",
    "    a = None"
   ]
  },
  {
   "cell_type": "code",
   "execution_count": 54,
   "metadata": {
    "collapsed": false
   },
   "outputs": [
    {
     "name": "stdout",
     "output_type": "stream",
     "text": [
      "None\n"
     ]
    }
   ],
   "source": [
    "print(a)"
   ]
  },
  {
   "cell_type": "markdown",
   "metadata": {
    "deletable": true,
    "editable": true
   },
   "source": [
    "\n",
    "### 1. Create preliminary template through fitting response to stimulation"
   ]
  },
  {
   "cell_type": "code",
   "execution_count": null,
   "metadata": {
    "collapsed": true,
    "deletable": true,
    "editable": true
   },
   "outputs": [],
   "source": [
    "with open('/data/psc_test_{}'.format(choice), 'rb') as fp:\n",
    "    psc_dic = pickle.load(fp)"
   ]
  },
  {
   "cell_type": "code",
   "execution_count": null,
   "metadata": {
    "collapsed": false,
    "deletable": true,
    "editable": true
   },
   "outputs": [],
   "source": [
    "amp = []\n",
    "decay_tau = []\n",
    "onset_tau = []\n",
    "for j in range(len(psc_dic)):\n",
    "    for i in range(len(psc_dic[j])):\n",
    "        amp.append(psc_dic[j][i]['amp'])\n",
    "        decay_tau.append(psc_dic[j][i]['decay_tau'])\n",
    "        onset_tau.append(psc_dic[j][i]['onset_tau'])"
   ]
  },
  {
   "cell_type": "code",
   "execution_count": null,
   "metadata": {
    "collapsed": false,
    "deletable": true,
    "editable": true
   },
   "outputs": [],
   "source": [
    "amp_data = np.array(amp)\n",
    "decay_tau_data = np.array(decay_tau)\n",
    "onset_tau_data = np.array(onset_tau)"
   ]
  },
  {
   "cell_type": "code",
   "execution_count": null,
   "metadata": {
    "collapsed": false,
    "deletable": true,
    "editable": true,
    "scrolled": true
   },
   "outputs": [],
   "source": [
    "plt.plot(amp_data, decay_tau, 'o', alpha=0.3)\n",
    "plt.ylim([0, 0.005])"
   ]
  },
  {
   "cell_type": "code",
   "execution_count": null,
   "metadata": {
    "collapsed": false,
    "deletable": true,
    "editable": true
   },
   "outputs": [],
   "source": [
    "plt.hist(decay_tau, range=(0,0.005), bins=100)"
   ]
  },
  {
   "cell_type": "code",
   "execution_count": null,
   "metadata": {
    "collapsed": false,
    "deletable": true,
    "editable": true
   },
   "outputs": [],
   "source": [
    "plt.plot(amp_data, onset_tau, 'o')"
   ]
  },
  {
   "cell_type": "code",
   "execution_count": null,
   "metadata": {
    "collapsed": true,
    "deletable": true,
    "editable": true
   },
   "outputs": [],
   "source": [
    "from mpl_toolkits.mplot3d import Axes3D"
   ]
  },
  {
   "cell_type": "code",
   "execution_count": null,
   "metadata": {
    "collapsed": false,
    "deletable": true,
    "editable": true
   },
   "outputs": [],
   "source": [
    "fig = plt.figure()\n",
    "ax = fig.add_subplot(111, projection='3d')\n",
    "ax.scatter(np.array(onset_tau), np.array(decay_tau), np.array(amp_data))\n",
    "plt.show()"
   ]
  },
  {
   "cell_type": "markdown",
   "metadata": {
    "deletable": true,
    "editable": true
   },
   "source": [
    "### 2. Extract examplary large and isolated events using a high detection threshold"
   ]
  },
  {
   "cell_type": "markdown",
   "metadata": {
    "deletable": true,
    "editable": true
   },
   "source": [
    "### 3. Create a final template by fitting a function to the average of the exemplary events"
   ]
  },
  {
   "cell_type": "markdown",
   "metadata": {
    "deletable": true,
    "editable": true
   },
   "source": [
    "### 4. Extract all events with the final template using a low detection criterion threshold"
   ]
  },
  {
   "cell_type": "markdown",
   "metadata": {
    "deletable": true,
    "editable": true
   },
   "source": [
    "### 5. Eliminate false-positive, add false-negative events"
   ]
  },
  {
   "cell_type": "code",
   "execution_count": null,
   "metadata": {
    "collapsed": false,
    "deletable": true,
    "editable": true
   },
   "outputs": [],
   "source": [
    "# Create"
   ]
  },
  {
   "cell_type": "code",
   "execution_count": null,
   "metadata": {
    "collapsed": true,
    "deletable": true,
    "editable": true
   },
   "outputs": [],
   "source": []
  }
 ],
 "metadata": {
  "kernelspec": {
   "display_name": "Python 3",
   "language": "python",
   "name": "python3"
  },
  "language_info": {
   "codemirror_mode": {
    "name": "ipython",
    "version": 3
   },
   "file_extension": ".py",
   "mimetype": "text/x-python",
   "name": "python",
   "nbconvert_exporter": "python",
   "pygments_lexer": "ipython3",
   "version": "3.5.2"
  }
 },
 "nbformat": 4,
 "nbformat_minor": 2
}
