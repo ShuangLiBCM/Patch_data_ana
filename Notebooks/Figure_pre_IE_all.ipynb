{
 "cells": [
  {
   "cell_type": "code",
   "execution_count": 1,
   "metadata": {
    "collapsed": false,
    "deletable": true,
    "editable": true
   },
   "outputs": [],
   "source": [
    "import numpy as np\n",
    "import pandas as pd\n",
    "import scipy.io as sio\n",
    "import matplotlib.pyplot as plt\n",
    "from scipy.optimize import curve_fit\n",
    "import pdb\n",
    "from Patch_ana import patch_pip\n",
    "import seaborn as sns\n",
    "\n",
    "% matplotlib inline\n",
    "%load_ext autoreload\n",
    "% autoreload 2"
   ]
  },
  {
   "cell_type": "code",
   "execution_count": 2,
   "metadata": {
    "collapsed": false,
    "deletable": true,
    "editable": true
   },
   "outputs": [],
   "source": [
    "pre_IE50_reci = pd.read_pickle('/data/ana_pre_IE50Hz_reci')\n",
    "pre_IE50_uni = pd.read_pickle('/data/ana_pre_IE50Hz_uni')\n",
    "pre_IE50 = pd.read_pickle('/data/ana_pre_IE50Hz')"
   ]
  },
  {
   "cell_type": "code",
   "execution_count": 3,
   "metadata": {
    "collapsed": false,
    "deletable": true,
    "editable": true
   },
   "outputs": [
    {
     "data": {
      "text/html": [
       "<div>\n",
       "<table border=\"1\" class=\"dataframe\">\n",
       "  <thead>\n",
       "    <tr style=\"text-align: right;\">\n",
       "      <th></th>\n",
       "      <th>Before</th>\n",
       "      <th>After</th>\n",
       "      <th>File name</th>\n",
       "      <th>elimi</th>\n",
       "    </tr>\n",
       "  </thead>\n",
       "  <tbody>\n",
       "    <tr>\n",
       "      <th>4</th>\n",
       "      <td>{'decay_tau': nan, 'rs': [[15.5560224323], [15...</td>\n",
       "      <td>{'decay_tau': 4.13714540846, 'rs': [[16.780527...</td>\n",
       "      <td>2016072902</td>\n",
       "      <td>45</td>\n",
       "    </tr>\n",
       "    <tr>\n",
       "      <th>5</th>\n",
       "      <td>{'decay_tau': 4.34500030865, 'rs': [[24.967662...</td>\n",
       "      <td>{'decay_tau': 4.40551943029, 'rs': [[21.273010...</td>\n",
       "      <td>2017021501</td>\n",
       "      <td>12</td>\n",
       "    </tr>\n",
       "    <tr>\n",
       "      <th>6</th>\n",
       "      <td>{'decay_tau': 3.34594833643, 'rs': [[23.002870...</td>\n",
       "      <td>{'decay_tau': 4.34076610923, 'rs': [[24.875724...</td>\n",
       "      <td>2016092601</td>\n",
       "      <td>28</td>\n",
       "    </tr>\n",
       "    <tr>\n",
       "      <th>7</th>\n",
       "      <td>{'decay_tau': 2.25464491984, 'rs': [[27.947969...</td>\n",
       "      <td>{'decay_tau': 2.51990530904, 'rs': [[31.088208...</td>\n",
       "      <td>2016091502</td>\n",
       "      <td>33</td>\n",
       "    </tr>\n",
       "    <tr>\n",
       "      <th>8</th>\n",
       "      <td>{'decay_tau': 7.06532970903, 'rs': [[10.287032...</td>\n",
       "      <td>{'decay_tau': 7.69740390875, 'rs': [[11.297689...</td>\n",
       "      <td>2017052201</td>\n",
       "      <td>24</td>\n",
       "    </tr>\n",
       "  </tbody>\n",
       "</table>\n",
       "</div>"
      ],
      "text/plain": [
       "                                              Before  \\\n",
       "4  {'decay_tau': nan, 'rs': [[15.5560224323], [15...   \n",
       "5  {'decay_tau': 4.34500030865, 'rs': [[24.967662...   \n",
       "6  {'decay_tau': 3.34594833643, 'rs': [[23.002870...   \n",
       "7  {'decay_tau': 2.25464491984, 'rs': [[27.947969...   \n",
       "8  {'decay_tau': 7.06532970903, 'rs': [[10.287032...   \n",
       "\n",
       "                                               After   File name  elimi  \n",
       "4  {'decay_tau': 4.13714540846, 'rs': [[16.780527...  2016072902     45  \n",
       "5  {'decay_tau': 4.40551943029, 'rs': [[21.273010...  2017021501     12  \n",
       "6  {'decay_tau': 4.34076610923, 'rs': [[24.875724...  2016092601     28  \n",
       "7  {'decay_tau': 2.51990530904, 'rs': [[31.088208...  2016091502     33  \n",
       "8  {'decay_tau': 7.69740390875, 'rs': [[11.297689...  2017052201     24  "
      ]
     },
     "execution_count": 3,
     "metadata": {},
     "output_type": "execute_result"
    }
   ],
   "source": [
    "pre_IE50_reci"
   ]
  },
  {
   "cell_type": "code",
   "execution_count": 4,
   "metadata": {
    "collapsed": false,
    "deletable": true,
    "editable": true
   },
   "outputs": [
    {
     "data": {
      "text/html": [
       "<div>\n",
       "<table border=\"1\" class=\"dataframe\">\n",
       "  <thead>\n",
       "    <tr style=\"text-align: right;\">\n",
       "      <th></th>\n",
       "      <th>Before</th>\n",
       "      <th>After</th>\n",
       "      <th>File name</th>\n",
       "      <th>elimi</th>\n",
       "    </tr>\n",
       "  </thead>\n",
       "  <tbody>\n",
       "    <tr>\n",
       "      <th>0</th>\n",
       "      <td>{'decay_tau': 5.2595252958, 'rs': [[12.6963667...</td>\n",
       "      <td>{'decay_tau': 5.4684468045, 'rs': [[12.9812187...</td>\n",
       "      <td>2016072704</td>\n",
       "      <td>50</td>\n",
       "    </tr>\n",
       "    <tr>\n",
       "      <th>1</th>\n",
       "      <td>{'decay_tau': 3.94198560233, 'rs': [[13.489467...</td>\n",
       "      <td>{'decay_tau': 4.52838396706, 'rs': [[14.879163...</td>\n",
       "      <td>2017021501</td>\n",
       "      <td>32</td>\n",
       "    </tr>\n",
       "    <tr>\n",
       "      <th>2</th>\n",
       "      <td>{'decay_tau': 5.35508977262, 'rs': [[26.859411...</td>\n",
       "      <td>{'decay_tau': 6.32915862553, 'rs': [[21.376039...</td>\n",
       "      <td>2016091403</td>\n",
       "      <td>30</td>\n",
       "    </tr>\n",
       "    <tr>\n",
       "      <th>3</th>\n",
       "      <td>{'decay_tau': 4.56033729332, 'rs': [[9.6923805...</td>\n",
       "      <td>{'decay_tau': 5.68145593184, 'rs': [[10.401712...</td>\n",
       "      <td>2017062202</td>\n",
       "      <td>50</td>\n",
       "    </tr>\n",
       "  </tbody>\n",
       "</table>\n",
       "</div>"
      ],
      "text/plain": [
       "                                              Before  \\\n",
       "0  {'decay_tau': 5.2595252958, 'rs': [[12.6963667...   \n",
       "1  {'decay_tau': 3.94198560233, 'rs': [[13.489467...   \n",
       "2  {'decay_tau': 5.35508977262, 'rs': [[26.859411...   \n",
       "3  {'decay_tau': 4.56033729332, 'rs': [[9.6923805...   \n",
       "\n",
       "                                               After   File name  elimi  \n",
       "0  {'decay_tau': 5.4684468045, 'rs': [[12.9812187...  2016072704     50  \n",
       "1  {'decay_tau': 4.52838396706, 'rs': [[14.879163...  2017021501     32  \n",
       "2  {'decay_tau': 6.32915862553, 'rs': [[21.376039...  2016091403     30  \n",
       "3  {'decay_tau': 5.68145593184, 'rs': [[10.401712...  2017062202     50  "
      ]
     },
     "execution_count": 4,
     "metadata": {},
     "output_type": "execute_result"
    }
   ],
   "source": [
    "pre_IE50_uni"
   ]
  },
  {
   "cell_type": "code",
   "execution_count": 5,
   "metadata": {
    "collapsed": false,
    "deletable": true,
    "editable": true
   },
   "outputs": [
    {
     "data": {
      "text/html": [
       "<div>\n",
       "<table border=\"1\" class=\"dataframe\">\n",
       "  <thead>\n",
       "    <tr style=\"text-align: right;\">\n",
       "      <th></th>\n",
       "      <th>Before</th>\n",
       "      <th>After</th>\n",
       "      <th>File name</th>\n",
       "      <th>elimi</th>\n",
       "    </tr>\n",
       "  </thead>\n",
       "  <tbody>\n",
       "    <tr>\n",
       "      <th>0</th>\n",
       "      <td>{'decay_tau': 5.2595252958, 'rs': [[12.6963667...</td>\n",
       "      <td>{'decay_tau': 5.4684468045, 'rs': [[12.9812187...</td>\n",
       "      <td>2016072704</td>\n",
       "      <td>50</td>\n",
       "    </tr>\n",
       "    <tr>\n",
       "      <th>1</th>\n",
       "      <td>{'decay_tau': 3.94198560233, 'rs': [[13.489467...</td>\n",
       "      <td>{'decay_tau': 4.52838396706, 'rs': [[14.879163...</td>\n",
       "      <td>2017021501</td>\n",
       "      <td>32</td>\n",
       "    </tr>\n",
       "    <tr>\n",
       "      <th>2</th>\n",
       "      <td>{'decay_tau': 5.35508977262, 'rs': [[26.859411...</td>\n",
       "      <td>{'decay_tau': 6.32915862553, 'rs': [[21.376039...</td>\n",
       "      <td>2016091403</td>\n",
       "      <td>30</td>\n",
       "    </tr>\n",
       "    <tr>\n",
       "      <th>3</th>\n",
       "      <td>{'decay_tau': 4.56033729332, 'rs': [[9.6923805...</td>\n",
       "      <td>{'decay_tau': 5.68145593184, 'rs': [[10.401712...</td>\n",
       "      <td>2017062202</td>\n",
       "      <td>50</td>\n",
       "    </tr>\n",
       "    <tr>\n",
       "      <th>4</th>\n",
       "      <td>{'decay_tau': nan, 'rs': [[15.5560224323], [15...</td>\n",
       "      <td>{'decay_tau': 4.13714540846, 'rs': [[16.780527...</td>\n",
       "      <td>2016072902</td>\n",
       "      <td>45</td>\n",
       "    </tr>\n",
       "    <tr>\n",
       "      <th>5</th>\n",
       "      <td>{'decay_tau': 4.34500030865, 'rs': [[24.967662...</td>\n",
       "      <td>{'decay_tau': 4.40551943029, 'rs': [[21.273010...</td>\n",
       "      <td>2017021501</td>\n",
       "      <td>12</td>\n",
       "    </tr>\n",
       "    <tr>\n",
       "      <th>6</th>\n",
       "      <td>{'decay_tau': 3.34594833643, 'rs': [[23.002870...</td>\n",
       "      <td>{'decay_tau': 4.34076610923, 'rs': [[24.875724...</td>\n",
       "      <td>2016092601</td>\n",
       "      <td>28</td>\n",
       "    </tr>\n",
       "    <tr>\n",
       "      <th>7</th>\n",
       "      <td>{'decay_tau': 2.25464491984, 'rs': [[27.947969...</td>\n",
       "      <td>{'decay_tau': 2.51990530904, 'rs': [[31.088208...</td>\n",
       "      <td>2016091502</td>\n",
       "      <td>33</td>\n",
       "    </tr>\n",
       "    <tr>\n",
       "      <th>8</th>\n",
       "      <td>{'decay_tau': 7.06532970903, 'rs': [[10.287032...</td>\n",
       "      <td>{'decay_tau': 7.69740390875, 'rs': [[11.297689...</td>\n",
       "      <td>2017052201</td>\n",
       "      <td>24</td>\n",
       "    </tr>\n",
       "  </tbody>\n",
       "</table>\n",
       "</div>"
      ],
      "text/plain": [
       "                                              Before  \\\n",
       "0  {'decay_tau': 5.2595252958, 'rs': [[12.6963667...   \n",
       "1  {'decay_tau': 3.94198560233, 'rs': [[13.489467...   \n",
       "2  {'decay_tau': 5.35508977262, 'rs': [[26.859411...   \n",
       "3  {'decay_tau': 4.56033729332, 'rs': [[9.6923805...   \n",
       "4  {'decay_tau': nan, 'rs': [[15.5560224323], [15...   \n",
       "5  {'decay_tau': 4.34500030865, 'rs': [[24.967662...   \n",
       "6  {'decay_tau': 3.34594833643, 'rs': [[23.002870...   \n",
       "7  {'decay_tau': 2.25464491984, 'rs': [[27.947969...   \n",
       "8  {'decay_tau': 7.06532970903, 'rs': [[10.287032...   \n",
       "\n",
       "                                               After   File name  elimi  \n",
       "0  {'decay_tau': 5.4684468045, 'rs': [[12.9812187...  2016072704     50  \n",
       "1  {'decay_tau': 4.52838396706, 'rs': [[14.879163...  2017021501     32  \n",
       "2  {'decay_tau': 6.32915862553, 'rs': [[21.376039...  2016091403     30  \n",
       "3  {'decay_tau': 5.68145593184, 'rs': [[10.401712...  2017062202     50  \n",
       "4  {'decay_tau': 4.13714540846, 'rs': [[16.780527...  2016072902     45  \n",
       "5  {'decay_tau': 4.40551943029, 'rs': [[21.273010...  2017021501     12  \n",
       "6  {'decay_tau': 4.34076610923, 'rs': [[24.875724...  2016092601     28  \n",
       "7  {'decay_tau': 2.51990530904, 'rs': [[31.088208...  2016091502     33  \n",
       "8  {'decay_tau': 7.69740390875, 'rs': [[11.297689...  2017052201     24  "
      ]
     },
     "execution_count": 5,
     "metadata": {},
     "output_type": "execute_result"
    }
   ],
   "source": [
    "pre_IE50"
   ]
  },
  {
   "cell_type": "code",
   "execution_count": 6,
   "metadata": {
    "collapsed": false,
    "deletable": true,
    "editable": true
   },
   "outputs": [
    {
     "name": "stderr",
     "output_type": "stream",
     "text": [
      "/src/Patch_ana/Patch_ana/patch_pip.py:456: RuntimeWarning: Mean of empty slice\n",
      "  bef_mean = np.nanmean(bef_resp)\n",
      "/src/Patch_ana/Patch_ana/patch_pip.py:471: RuntimeWarning: Mean of empty slice\n",
      "  ave_ptl_mean = np.nanmean(ave_ptl_resp, axis=0)\n",
      "/usr/local/lib/python3.5/dist-packages/numpy/lib/nanfunctions.py:1423: RuntimeWarning: Degrees of freedom <= 0 for slice.\n",
      "  keepdims=keepdims)\n"
     ]
    },
    {
     "data": {
      "text/plain": [
       "<Container object of 3 artists>"
      ]
     },
     "execution_count": 6,
     "metadata": {},
     "output_type": "execute_result"
    },
    {
     "name": "stderr",
     "output_type": "stream",
     "text": [
      "/usr/local/lib/python3.5/dist-packages/matplotlib/font_manager.py:1297: UserWarning: findfont: Font family ['sans-serif'] not found. Falling back to DejaVu Sans\n",
      "  (prop.get_family(), self.defaultFamily[fontext]))\n"
     ]
    },
    {
     "data": {
      "image/png": "[encoded data removed]",
      "text/plain": [
       "<matplotlib.figure.Figure at 0x7f389976bb38>"
      ]
     },
     "metadata": {},
     "output_type": "display_data"
    }
   ],
   "source": [
    "ave_ptl_resp = np.ones((len(pre_IE50_reci), 60))*np.nan\n",
    "\n",
    "ave_ptl_mean_50reci,ave_ptl_ste_50reci = patch_pip.samp_ave(pre_IE50_reci, ave_ptl_resp)\n",
    "plt.errorbar(x=np.arange(len(ave_ptl_mean_50reci)), y=ave_ptl_mean_50reci, yerr=ave_ptl_ste_50reci, fmt='bo')\n",
    "\n",
    "ave_ptl_resp = np.ones((len(pre_IE50_uni), 60))*np.nan\n",
    "ave_ptl_mean_50uni,ave_ptl_ste_50uni = patch_pip.samp_ave(pre_IE50_uni, ave_ptl_resp)\n",
    "plt.errorbar(x=np.arange(len(ave_ptl_mean_50uni)), y=ave_ptl_mean_50uni, yerr=ave_ptl_ste_50uni, fmt='ro')"
   ]
  },
  {
   "cell_type": "code",
   "execution_count": 12,
   "metadata": {
    "collapsed": false,
    "deletable": true,
    "editable": true
   },
   "outputs": [
    {
     "name": "stderr",
     "output_type": "stream",
     "text": [
      "/src/Patch_ana/Patch_ana/patch_pip.py:456: RuntimeWarning: Mean of empty slice\n",
      "  bef_mean = np.nanmean(bef_resp)\n",
      "/src/Patch_ana/Patch_ana/patch_pip.py:471: RuntimeWarning: Mean of empty slice\n",
      "  ave_ptl_mean = np.nanmean(ave_ptl_resp, axis=0)\n",
      "/usr/local/lib/python3.5/dist-packages/numpy/lib/nanfunctions.py:1423: RuntimeWarning: Degrees of freedom <= 0 for slice.\n",
      "  keepdims=keepdims)\n"
     ]
    },
    {
     "data": {
      "text/plain": [
       "<Container object of 3 artists>"
      ]
     },
     "execution_count": 12,
     "metadata": {},
     "output_type": "execute_result"
    },
    {
     "name": "stderr",
     "output_type": "stream",
     "text": [
      "/usr/local/lib/python3.5/dist-packages/matplotlib/font_manager.py:1297: UserWarning: findfont: Font family ['sans-serif'] not found. Falling back to DejaVu Sans\n",
      "  (prop.get_family(), self.defaultFamily[fontext]))\n"
     ]
    },
    {
     "data": {
      "image/png": "[encoded data removed]",
      "text/plain": [
       "<matplotlib.figure.Figure at 0x7f38976b5ac8>"
      ]
     },
     "metadata": {},
     "output_type": "display_data"
    }
   ],
   "source": [
    "ave_ptl_resp = np.ones((len(pre_IE50), 60))*np.nan\n",
    "ave_ptl_mean_50,ave_ptl_ste_50 = patch_pip.samp_ave(pre_IE50, ave_ptl_resp)\n",
    "plt.errorbar(x=np.arange(len(ave_ptl_mean_50)), y=ave_ptl_mean_50, yerr=ave_ptl_ste_50, fmt='ko')"
   ]
  },
  {
   "cell_type": "code",
   "execution_count": 13,
   "metadata": {
    "collapsed": false,
    "deletable": true,
    "editable": true
   },
   "outputs": [
    {
     "data": {
      "text/plain": [
       "[0, 60, 0.2, 2]"
      ]
     },
     "execution_count": 13,
     "metadata": {},
     "output_type": "execute_result"
    },
    {
     "name": "stderr",
     "output_type": "stream",
     "text": [
      "/usr/local/lib/python3.5/dist-packages/matplotlib/font_manager.py:1297: UserWarning: findfont: Font family ['sans-serif'] not found. Falling back to DejaVu Sans\n",
      "  (prop.get_family(), self.defaultFamily[fontext]))\n"
     ]
    },
    {
     "data": {
      "image/png": "[encoded data removed]",
      "text/plain": [
       "<matplotlib.figure.Figure at 0x7f38dcaf37f0>"
      ]
     },
     "metadata": {},
     "output_type": "display_data"
    }
   ],
   "source": [
    "ave_ptl_mean_2cp, ave_ptl_ste_2cp =  ave_ptl_mean_50reci,ave_ptl_ste_50reci \n",
    "ave_ptl_mean, ave_ptl_ste = patch_pip.pro_bef(ave_ptl_mean_2cp[:5], ave_ptl_ste_2cp[:5])\n",
    "ave_ptl_mean_2cp[:5], ave_ptl_ste_2cp[:5] = ave_ptl_mean, ave_ptl_ste \n",
    "plt.errorbar(x=np.arange(len(ave_ptl_mean_2cp)), y=ave_ptl_mean_2cp, yerr=ave_ptl_ste_2cp, fmt='ro', label='Reci (n={a})'.format(a=len(pre_IE50_reci)))\n",
    "\n",
    "ave_ptl_mean_50cp, ave_ptl_ste_50cp =  ave_ptl_mean_50uni,ave_ptl_ste_50uni\n",
    "ave_ptl_mean, ave_ptl_ste= patch_pip.pro_bef(ave_ptl_mean_50cp[:5], ave_ptl_ste_50cp[:5])\n",
    "ave_ptl_mean_50cp[:5], ave_ptl_ste_50cp[:5] = ave_ptl_mean, ave_ptl_ste \n",
    "plt.errorbar(x=np.arange(len(ave_ptl_mean_50cp)), y=ave_ptl_mean_50cp, yerr=ave_ptl_ste_50cp, fmt='ko', label='Uni (n={a})'.format(a=len(pre_IE50_uni)))\n",
    "\n",
    "plt.plot(np.ones((60))*1, 'k--')\n",
    "plt.xlabel('Time (min)')\n",
    "plt.ylabel('Normalized EPSC')\n",
    "plt.legend()\n",
    "plt.title('Pre-synaptic only (-70 mV)')\n",
    "plt.axis([0,60,0.2,2])"
   ]
  },
  {
   "cell_type": "code",
   "execution_count": 14,
   "metadata": {
    "collapsed": false,
    "deletable": true,
    "editable": true
   },
   "outputs": [
    {
     "data": {
      "text/plain": [
       "[0, 60, 0.2, 2]"
      ]
     },
     "execution_count": 14,
     "metadata": {},
     "output_type": "execute_result"
    },
    {
     "name": "stderr",
     "output_type": "stream",
     "text": [
      "/usr/local/lib/python3.5/dist-packages/matplotlib/font_manager.py:1297: UserWarning: findfont: Font family ['sans-serif'] not found. Falling back to DejaVu Sans\n",
      "  (prop.get_family(), self.defaultFamily[fontext]))\n"
     ]
    },
    {
     "data": {
      "image/png": "[encoded data removed]",
      "text/plain": [
       "<matplotlib.figure.Figure at 0x7f3897604cf8>"
      ]
     },
     "metadata": {},
     "output_type": "display_data"
    }
   ],
   "source": [
    "ave_ptl_mean_50cp, ave_ptl_ste_50cp =  ave_ptl_mean_50,ave_ptl_ste_50\n",
    "ave_ptl_mean, ave_ptl_ste= patch_pip.pro_bef(ave_ptl_mean_50cp[:5], ave_ptl_ste_50cp[:5])\n",
    "ave_ptl_mean_50cp[:5], ave_ptl_ste_50cp[:5] = ave_ptl_mean, ave_ptl_ste \n",
    "plt.errorbar(x=np.arange(len(ave_ptl_mean_50cp)), y=ave_ptl_mean_50cp, yerr=ave_ptl_ste_50cp, fmt='ko', label='(n={a})'.format(a=len(pre_IE50)))\n",
    "\n",
    "plt.plot(np.ones((60))*1, 'k--')\n",
    "plt.xlabel('Time (min)')\n",
    "plt.ylabel('Normalized EPSC')\n",
    "plt.legend()\n",
    "plt.title('Pre-synaptic only (-70 mV)')\n",
    "plt.axis([0,60,0.2,2])"
   ]
  },
  {
   "cell_type": "code",
   "execution_count": 15,
   "metadata": {
    "collapsed": false,
    "deletable": true,
    "editable": true
   },
   "outputs": [
    {
     "data": {
      "text/plain": [
       "<Container object of 3 artists>"
      ]
     },
     "execution_count": 15,
     "metadata": {},
     "output_type": "execute_result"
    },
    {
     "name": "stderr",
     "output_type": "stream",
     "text": [
      "/usr/local/lib/python3.5/dist-packages/matplotlib/font_manager.py:1297: UserWarning: findfont: Font family ['sans-serif'] not found. Falling back to DejaVu Sans\n",
      "  (prop.get_family(), self.defaultFamily[fontext]))\n"
     ]
    },
    {
     "data": {
      "image/png": "[encoded data removed]",
      "text/plain": [
       "<matplotlib.figure.Figure at 0x7f3897615358>"
      ]
     },
     "metadata": {},
     "output_type": "display_data"
    }
   ],
   "source": [
    "plt.errorbar(x=np.arange(len(ave_ptl_mean_50)), y=ave_ptl_mean_50, yerr=ave_ptl_ste_50, fmt='ko')"
   ]
  }
 ],
 "metadata": {
  "kernelspec": {
   "display_name": "Python 3",
   "language": "python",
   "name": "python3"
  },
  "language_info": {
   "codemirror_mode": {
    "name": "ipython",
    "version": 3
   },
   "file_extension": ".py",
   "mimetype": "text/x-python",
   "name": "python",
   "nbconvert_exporter": "python",
   "pygments_lexer": "ipython3",
   "version": "3.5.2"
  }
 },
 "nbformat": 4,
 "nbformat_minor": 2
}
