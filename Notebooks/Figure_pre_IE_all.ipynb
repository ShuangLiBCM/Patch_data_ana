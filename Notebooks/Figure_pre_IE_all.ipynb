{
 "cells": [
  {
   "cell_type": "code",
   "execution_count": 8,
   "metadata": {
    "collapsed": false,
    "deletable": true,
    "editable": true
   },
   "outputs": [
    {
     "name": "stdout",
     "output_type": "stream",
     "text": [
      "The autoreload extension is already loaded. To reload it, use:\n",
      "  %reload_ext autoreload\n"
     ]
    }
   ],
   "source": [
    "import numpy as np\n",
    "import pandas as pd\n",
    "import scipy.io as sio\n",
    "import matplotlib.pyplot as plt\n",
    "from scipy.optimize import curve_fit\n",
    "import pdb\n",
    "from Patch_ana import patch_pip\n",
    "import seaborn as sns\n",
    "plt.style.use('classic')\n",
    "from matplotlib.backends.backend_pdf import PdfPages\n",
    "\n",
    "% matplotlib inline\n",
    "%load_ext autoreload\n",
    "% autoreload"
   ]
  },
  {
   "cell_type": "code",
   "execution_count": 2,
   "metadata": {
    "collapsed": false,
    "deletable": true,
    "editable": true
   },
   "outputs": [],
   "source": [
    "pre_IE50 = pd.read_pickle('/data/ana_pre_IE50Hz_reci')\n",
    "pre_IE50_uni = pd.read_pickle('/data/ana_pre_IE50Hz_uni')"
   ]
  },
  {
   "cell_type": "code",
   "execution_count": 3,
   "metadata": {
    "collapsed": false,
    "deletable": true,
    "editable": true
   },
   "outputs": [
    {
     "data": {
      "text/html": [
       "<div>\n",
       "<table border=\"1\" class=\"dataframe\">\n",
       "  <thead>\n",
       "    <tr style=\"text-align: right;\">\n",
       "      <th></th>\n",
       "      <th>Before</th>\n",
       "      <th>After</th>\n",
       "      <th>File name</th>\n",
       "      <th>elimi</th>\n",
       "    </tr>\n",
       "  </thead>\n",
       "  <tbody>\n",
       "    <tr>\n",
       "      <th>0</th>\n",
       "      <td>{'ave_amp1': [[5.68476578538e-11], [7.45159758...</td>\n",
       "      <td>{'ave_amp1': [[6.23432533056e-11], [5.94223867...</td>\n",
       "      <td>2016072704</td>\n",
       "      <td>50</td>\n",
       "    </tr>\n",
       "    <tr>\n",
       "      <th>1</th>\n",
       "      <td>{'ave_amp1': [[1.42224837347e-11], [1.22472488...</td>\n",
       "      <td>{'ave_amp1': [[1.11218275045e-11], [1.22465824...</td>\n",
       "      <td>2017021501</td>\n",
       "      <td>32</td>\n",
       "    </tr>\n",
       "    <tr>\n",
       "      <th>2</th>\n",
       "      <td>{'ave_amp1': [[5.86400229671e-11], [5.17263879...</td>\n",
       "      <td>{'ave_amp1': [[5.11370040594e-11], [4.87416342...</td>\n",
       "      <td>2016091403</td>\n",
       "      <td>30</td>\n",
       "    </tr>\n",
       "    <tr>\n",
       "      <th>3</th>\n",
       "      <td>{'ave_amp1': [[3.42060895077e-11], [3.78376990...</td>\n",
       "      <td>{'ave_amp1': [[3.86477072928e-11], [3.04041543...</td>\n",
       "      <td>2017062202</td>\n",
       "      <td>50</td>\n",
       "    </tr>\n",
       "  </tbody>\n",
       "</table>\n",
       "</div>"
      ],
      "text/plain": [
       "                                              Before  \\\n",
       "0  {'ave_amp1': [[5.68476578538e-11], [7.45159758...   \n",
       "1  {'ave_amp1': [[1.42224837347e-11], [1.22472488...   \n",
       "2  {'ave_amp1': [[5.86400229671e-11], [5.17263879...   \n",
       "3  {'ave_amp1': [[3.42060895077e-11], [3.78376990...   \n",
       "\n",
       "                                               After   File name  elimi  \n",
       "0  {'ave_amp1': [[6.23432533056e-11], [5.94223867...  2016072704     50  \n",
       "1  {'ave_amp1': [[1.11218275045e-11], [1.22465824...  2017021501     32  \n",
       "2  {'ave_amp1': [[5.11370040594e-11], [4.87416342...  2016091403     30  \n",
       "3  {'ave_amp1': [[3.86477072928e-11], [3.04041543...  2017062202     50  "
      ]
     },
     "execution_count": 3,
     "metadata": {},
     "output_type": "execute_result"
    }
   ],
   "source": [
    "pre_IE50_uni"
   ]
  },
  {
   "cell_type": "code",
   "execution_count": 4,
   "metadata": {
    "collapsed": false,
    "deletable": true,
    "editable": true
   },
   "outputs": [
    {
     "data": {
      "text/html": [
       "<div>\n",
       "<table border=\"1\" class=\"dataframe\">\n",
       "  <thead>\n",
       "    <tr style=\"text-align: right;\">\n",
       "      <th></th>\n",
       "      <th>Before</th>\n",
       "      <th>After</th>\n",
       "      <th>File name</th>\n",
       "      <th>elimi</th>\n",
       "    </tr>\n",
       "  </thead>\n",
       "  <tbody>\n",
       "    <tr>\n",
       "      <th>0</th>\n",
       "      <td>{'ave_amp1': [[5.68476578538e-11], [7.45159758...</td>\n",
       "      <td>{'ave_amp1': [[6.23432533056e-11], [5.94223867...</td>\n",
       "      <td>2016072704</td>\n",
       "      <td>45.0</td>\n",
       "    </tr>\n",
       "    <tr>\n",
       "      <th>1</th>\n",
       "      <td>{'ave_amp1': [[1.42224837347e-11], [1.22472488...</td>\n",
       "      <td>{'ave_amp1': [[1.11218275045e-11], [1.22465824...</td>\n",
       "      <td>2017021501</td>\n",
       "      <td>12.0</td>\n",
       "    </tr>\n",
       "    <tr>\n",
       "      <th>2</th>\n",
       "      <td>{'ave_amp1': [[5.86400229671e-11], [5.17263879...</td>\n",
       "      <td>{'ave_amp1': [[5.11370040594e-11], [4.87416342...</td>\n",
       "      <td>2016091403</td>\n",
       "      <td>17.5</td>\n",
       "    </tr>\n",
       "    <tr>\n",
       "      <th>3</th>\n",
       "      <td>{'ave_amp1': [[3.42060895077e-11], [3.78376990...</td>\n",
       "      <td>{'ave_amp1': [[3.86477072928e-11], [3.04041543...</td>\n",
       "      <td>2017062202</td>\n",
       "      <td>33.0</td>\n",
       "    </tr>\n",
       "    <tr>\n",
       "      <th>4</th>\n",
       "      <td>{'ave_amp1': [[nan], [nan], [nan], [nan], [nan...</td>\n",
       "      <td>{'ave_amp1': [[5.15066646924e-11], [5.55679047...</td>\n",
       "      <td>2016072902</td>\n",
       "      <td>50.0</td>\n",
       "    </tr>\n",
       "    <tr>\n",
       "      <th>5</th>\n",
       "      <td>{'ave_amp1': [[8.67642586693e-12], [9.44589884...</td>\n",
       "      <td>{'ave_amp1': [[nan], [1.14973767216e-11], [1.0...</td>\n",
       "      <td>2017021501</td>\n",
       "      <td>45.0</td>\n",
       "    </tr>\n",
       "    <tr>\n",
       "      <th>6</th>\n",
       "      <td>{'ave_amp1': [[1.04873792918e-11], [1.24278900...</td>\n",
       "      <td>{'ave_amp1': [[1.57942963456e-11], [1.47588224...</td>\n",
       "      <td>2016092601</td>\n",
       "      <td>32.0</td>\n",
       "    </tr>\n",
       "    <tr>\n",
       "      <th>7</th>\n",
       "      <td>{'ave_amp1': [[1.34764265807e-10], [1.40731204...</td>\n",
       "      <td>{'ave_amp1': [[1.24417153201e-10], [1.32735676...</td>\n",
       "      <td>2016091502</td>\n",
       "      <td>20.0</td>\n",
       "    </tr>\n",
       "    <tr>\n",
       "      <th>8</th>\n",
       "      <td>{'ave_amp1': [[6.872697909e-11], [6.5993311303...</td>\n",
       "      <td>{'ave_amp1': [[7.43084679591e-11], [6.88233121...</td>\n",
       "      <td>2017052201</td>\n",
       "      <td>30.0</td>\n",
       "    </tr>\n",
       "  </tbody>\n",
       "</table>\n",
       "</div>"
      ],
      "text/plain": [
       "                                              Before  \\\n",
       "0  {'ave_amp1': [[5.68476578538e-11], [7.45159758...   \n",
       "1  {'ave_amp1': [[1.42224837347e-11], [1.22472488...   \n",
       "2  {'ave_amp1': [[5.86400229671e-11], [5.17263879...   \n",
       "3  {'ave_amp1': [[3.42060895077e-11], [3.78376990...   \n",
       "4  {'ave_amp1': [[nan], [nan], [nan], [nan], [nan...   \n",
       "5  {'ave_amp1': [[8.67642586693e-12], [9.44589884...   \n",
       "6  {'ave_amp1': [[1.04873792918e-11], [1.24278900...   \n",
       "7  {'ave_amp1': [[1.34764265807e-10], [1.40731204...   \n",
       "8  {'ave_amp1': [[6.872697909e-11], [6.5993311303...   \n",
       "\n",
       "                                               After   File name  elimi  \n",
       "0  {'ave_amp1': [[6.23432533056e-11], [5.94223867...  2016072704   45.0  \n",
       "1  {'ave_amp1': [[1.11218275045e-11], [1.22465824...  2017021501   12.0  \n",
       "2  {'ave_amp1': [[5.11370040594e-11], [4.87416342...  2016091403   17.5  \n",
       "3  {'ave_amp1': [[3.86477072928e-11], [3.04041543...  2017062202   33.0  \n",
       "4  {'ave_amp1': [[5.15066646924e-11], [5.55679047...  2016072902   50.0  \n",
       "5  {'ave_amp1': [[nan], [1.14973767216e-11], [1.0...  2017021501   45.0  \n",
       "6  {'ave_amp1': [[1.57942963456e-11], [1.47588224...  2016092601   32.0  \n",
       "7  {'ave_amp1': [[1.24417153201e-10], [1.32735676...  2016091502   20.0  \n",
       "8  {'ave_amp1': [[7.43084679591e-11], [6.88233121...  2017052201   30.0  "
      ]
     },
     "execution_count": 4,
     "metadata": {},
     "output_type": "execute_result"
    }
   ],
   "source": [
    "pre_IE50"
   ]
  },
  {
   "cell_type": "code",
   "execution_count": 5,
   "metadata": {
    "collapsed": false,
    "deletable": true,
    "editable": true
   },
   "outputs": [
    {
     "name": "stderr",
     "output_type": "stream",
     "text": [
      "/src/Patch_ana/Patch_ana/patch_pip.py:465: RuntimeWarning: Mean of empty slice\n",
      "  bef_mean = np.nanmean(bef_resp)\n",
      "/usr/local/lib/python3.5/dist-packages/numpy/lib/function_base.py:3858: RuntimeWarning: All-NaN slice encountered\n",
      "  r = func(a, **kwargs)\n",
      "/src/Patch_ana/Patch_ana/patch_pip.py:489: RuntimeWarning: Mean of empty slice\n",
      "  ave_ptl_mean = np.nanmean(ave_ptl_resp_rm, axis=0)\n",
      "/usr/local/lib/python3.5/dist-packages/numpy/lib/nanfunctions.py:1423: RuntimeWarning: Degrees of freedom <= 0 for slice.\n",
      "  keepdims=keepdims)\n"
     ]
    },
    {
     "data": {
      "text/plain": [
       "<Container object of 3 artists>"
      ]
     },
     "execution_count": 5,
     "metadata": {},
     "output_type": "execute_result"
    },
    {
     "data": {
      "image/png": "[encoded data removed]",
      "text/plain": [
       "<matplotlib.figure.Figure at 0x7f2eeb741eb8>"
      ]
     },
     "metadata": {},
     "output_type": "display_data"
    }
   ],
   "source": [
    "ave_ptl_resp = np.ones((len(pre_IE50), 60))*np.nan\n",
    "\n",
    "ave_ptl_mean_2,ave_ptl_ste_2,ave_ptl_2  = patch_pip.samp_ave(pre_IE50, ave_ptl_resp)\n",
    "ave_ptl_mean_2 = ave_ptl_mean_2[:-12]\n",
    "ave_ptl_ste_2 = ave_ptl_ste_2[:-12]\n",
    "ave_ptl_2 = ave_ptl_2[:, :-12]\n",
    "\n",
    "plt.errorbar(x=np.arange(len(ave_ptl_mean_2)), y=ave_ptl_mean_2, yerr=ave_ptl_ste_2, fmt='bo')"
   ]
  },
  {
   "cell_type": "code",
   "execution_count": 13,
   "metadata": {
    "collapsed": false,
    "deletable": true,
    "editable": true
   },
   "outputs": [
    {
     "data": {
      "image/png": "[encoded data removed]",
      "text/plain": [
       "<matplotlib.figure.Figure at 0x7f2ee93ae198>"
      ]
     },
     "metadata": {},
     "output_type": "display_data"
    }
   ],
   "source": [
    "ave_ptl_mean_2cp, ave_ptl_ste_2cp =  ave_ptl_mean_2, ave_ptl_ste_2\n",
    "ave_ptl_mean, ave_ptl_ste = patch_pip.pro_bef(ave_ptl_mean_2cp[:5], ave_ptl_ste_2cp[:5])\n",
    "ave_ptl_mean_2cp[:5], ave_ptl_ste_2cp[:5] = ave_ptl_mean, ave_ptl_ste \n",
    "plt.errorbar(x=np.linspace(-6 * 4/3, len(ave_ptl_mean_2cp) - 6 * 4/3, len(ave_ptl_mean_2cp)), y=ave_ptl_mean_2cp, yerr=ave_ptl_ste_2cp, fmt='bo', label='2Hz (n={a})'.format(a=len(pre_IE50)))\n",
    "\n",
    "plt.plot(np.ones((50))*1, 'k--')\n",
    "plt.xlabel('Time (min)')\n",
    "plt.ylabel('Normalized EPSC')\n",
    "# plt.legend()\n",
    "plt.ylim([0.2, 1.8])\n",
    "plt.title('Pre-synaptic only (-70 mV)')\n",
    "\n",
    "with PdfPages('/data/Figure5_1.pdf') as pdf:\n",
    "    pdf.savefig()"
   ]
  },
  {
   "cell_type": "code",
   "execution_count": 14,
   "metadata": {
    "collapsed": false,
    "deletable": true,
    "editable": true
   },
   "outputs": [
    {
     "name": "stderr",
     "output_type": "stream",
     "text": [
      "/usr/local/lib/python3.5/dist-packages/ipykernel/__main__.py:2: RuntimeWarning: Mean of empty slice\n",
      "  from ipykernel import kernelapp as app\n",
      "/usr/local/lib/python3.5/dist-packages/ipykernel/__main__.py:4: RuntimeWarning: Mean of empty slice\n"
     ]
    },
    {
     "data": {
      "image/png": "[encoded data removed]",
      "text/plain": [
       "<matplotlib.figure.Figure at 0x7f2ee92f7b00>"
      ]
     },
     "metadata": {},
     "output_type": "display_data"
    }
   ],
   "source": [
    "# Compare amplitude\n",
    "mean_amp_aft_2Hz = np.nanmean(np.nanmean(ave_ptl_2[:, -10:], axis=1))\n",
    "\n",
    "std_amp_aft_2Hz = np.nanstd(np.nanmean(ave_ptl_2[:, -10:], axis=1))/np.sqrt(6)\n",
    "plt.bar([1,2], [1, mean_amp_aft_2Hz], align='center', width=0.4)\n",
    "plt.errorbar(x=[1,2], y=[1, mean_amp_aft_2Hz],yerr = [0, std_amp_aft_2Hz], fmt='')\n",
    "plt.ylim([0,1.5])\n",
    "plt.xlim([0,3])\n",
    "with PdfPages('/data/Figure5_2.pdf') as pdf:\n",
    "    pdf.savefig()"
   ]
  },
  {
   "cell_type": "code",
   "execution_count": 16,
   "metadata": {
    "collapsed": false,
    "deletable": true,
    "editable": true
   },
   "outputs": [
    {
     "name": "stderr",
     "output_type": "stream",
     "text": [
      "/usr/local/lib/python3.5/dist-packages/ipykernel/__main__.py:2: RuntimeWarning: Mean of empty slice\n",
      "  from ipykernel import kernelapp as app\n"
     ]
    },
    {
     "data": {
      "image/png": "[encoded data removed]",
      "text/plain": [
       "<matplotlib.figure.Figure at 0x7f2ee91f0860>"
      ]
     },
     "metadata": {},
     "output_type": "display_data"
    }
   ],
   "source": [
    "# Compare PPR\n",
    "mean_PPR_bef = [np.nanmean(pre_IE50['Before'].loc[i]['PPR']) for i in pre_IE50['Before'].index]\n",
    "mean_PPR_aft = [np.nanmean(pre_IE50['After'].loc[i]['PPR'][-10:]) for i in pre_IE50['After'].index]\n",
    "\n",
    "mean_PPR_ave_bef = np.mean(mean_PPR_bef)\n",
    "mean_PPR_std_bef = np.std(mean_PPR_bef)/np.sqrt(6)\n",
    "mean_PPR_ave_aft = np.mean(mean_PPR_aft)\n",
    "mean_PPR_std_aft = np.std(mean_PPR_aft)/np.sqrt(6)\n",
    "\n",
    "for i, j in zip(mean_PPR_bef, mean_PPR_aft):\n",
    "    plt.plot([0.5,1.5], [i, j], 'bo-', alpha=0.3, markersize=10)\n",
    "plt.errorbar([0.5,1.5], [mean_PPR_ave_bef, mean_PPR_ave_aft], [mean_PPR_std_bef, mean_PPR_std_aft], fmt='r-o', markersize=10)\n",
    "plt.xlim([0,2])\n",
    "with PdfPages('/data/Supp2_1.pdf') as pdf:\n",
    "    pdf.savefig()"
   ]
  },
  {
   "cell_type": "code",
   "execution_count": 20,
   "metadata": {
    "collapsed": false
   },
   "outputs": [
    {
     "data": {
      "image/png": "[encoded data removed]",
      "text/plain": [
       "<matplotlib.figure.Figure at 0x7f2ee90eaf60>"
      ]
     },
     "metadata": {},
     "output_type": "display_data"
    }
   ],
   "source": [
    "# Compare failure rate\n",
    "mean_fail_bef = [np.sum(pre_IE50['Before'].loc[i]['failure'])/len(pre_IE50['Before'].loc[i]['failure']) for i in pre_IE50['Before'].index]\n",
    "mean_fail_aft = [np.sum(pre_IE50['After'].loc[i]['failure'][-40:])/40 for i in pre_IE50['After'].index]\n",
    "\n",
    "mean_fail_ave_bef = np.mean(mean_fail_bef)\n",
    "mean_fail_std_bef = np.std(mean_fail_bef)/np.sqrt(6)\n",
    "mean_fail_ave_aft = np.mean(mean_fail_aft)\n",
    "mean_fail_std_aft = np.std(mean_fail_aft)/np.sqrt(6)\n",
    "\n",
    "for i, j in zip(mean_fail_bef, mean_fail_aft):\n",
    "    plt.plot([0.5,1.5], [i, j], 'bo-', alpha=0.3, markersize=10)\n",
    "plt.errorbar([0.5,1.5], [mean_fail_ave_bef, mean_fail_ave_aft], [mean_fail_std_bef, mean_fail_std_aft], fmt='k-o', markersize=10)\n",
    "\n",
    "plt.xlim([0,2])\n",
    "# plt.ylim([-0.05,0.15])\n",
    "\n",
    "with PdfPages('/data/Figure5_2.pdf') as pdf:\n",
    "    pdf.savefig()"
   ]
  },
  {
   "cell_type": "code",
   "execution_count": 31,
   "metadata": {
    "collapsed": false,
    "deletable": true,
    "editable": true
   },
   "outputs": [
    {
     "name": "stderr",
     "output_type": "stream",
     "text": [
      "/usr/local/lib/python3.5/dist-packages/ipykernel/__main__.py:3: RuntimeWarning: Mean of empty slice\n",
      "  app.launch_new_instance()\n",
      "/usr/local/lib/python3.5/dist-packages/numpy/lib/nanfunctions.py:1423: RuntimeWarning: Degrees of freedom <= 0 for slice.\n",
      "  keepdims=keepdims)\n"
     ]
    },
    {
     "data": {
      "image/png": "[encoded data removed]",
      "text/plain": [
       "<matplotlib.figure.Figure at 0x7f2eeb7105f8>"
      ]
     },
     "metadata": {},
     "output_type": "display_data"
    }
   ],
   "source": [
    "# CV analysis\n",
    "cv_mean_bef = [np.nanmean(pre_IE50['Before'].loc[i]['raw_amp1'][-30:]) for i in pre_IE50['Before'].index]\n",
    "cv_mean_aft = [np.nanmean(ave_ptl_2[i, -10:]) * cv_mean_bef[i] for i in range(ave_ptl_2.shape[0])]\n",
    "               \n",
    "cv_std_bef = [np.nanstd(pre_IE50['Before'].loc[i]['raw_amp1'][-35:]) for i in pre_IE50['Before'].index]\n",
    "end_aft = [int(pre_IE50['elimi'].values[i]) for i in range(len(pre_IE50))]\n",
    "cv_std_aft = [np.nanstd(pre_IE50['After'].loc[i]['raw_amp1'][max(end_aft[k]*3-70,0):end_aft[k]*3]) for k,i in enumerate(pre_IE50['After'].index)]\n",
    "\n",
    "r = [i ** 2/j ** 2 for i, j in zip([k/m for k, m in zip(cv_std_bef,cv_mean_bef)], [k/m for k, m in zip(cv_std_aft,cv_mean_aft)])]\n",
    "pi = [i/j for i, j in zip(cv_mean_aft, cv_mean_bef)]\n",
    "\n",
    "\n",
    "plt.errorbar(np.nanmean(pi), np.nanmean(r), np.nanstd(r)/np.sqrt(len(r)), np.nanstd(pi)/np.sqrt(len(pi)),  'o', markersize=10)\n",
    "\n",
    "plt.plot(np.arange(0, 4, 0.5),np.arange(0, 4, 0.5), 'k--')\n",
    "plt.plot(np.arange(0, 4, 0.5), np.ones(8),'k--')\n",
    "plt.plot(np.ones(8),np.arange(0, 4, 0.5),'k--')\n",
    "#plt.xlim([0, 3.5])\n",
    "#plt.ylim([0, 3.5])\n",
    "plt.axes().set_aspect('equal')\n",
    "with PdfPages('/data/Figure5_3.pdf') as pdf:\n",
    "    pdf.savefig()"
   ]
  }
 ],
 "metadata": {
  "kernelspec": {
   "display_name": "Python 3",
   "language": "python",
   "name": "python3"
  },
  "language_info": {
   "codemirror_mode": {
    "name": "ipython",
    "version": 3
   },
   "file_extension": ".py",
   "mimetype": "text/x-python",
   "name": "python",
   "nbconvert_exporter": "python",
   "pygments_lexer": "ipython3",
   "version": "3.5.2"
  }
 },
 "nbformat": 4,
 "nbformat_minor": 2
}
