{
 "cells": [
  {
   "cell_type": "code",
   "execution_count": 1,
   "metadata": {
    "collapsed": false,
    "deletable": true,
    "editable": true
   },
   "outputs": [],
   "source": [
    "import numpy as np\n",
    "import pandas as pd\n",
    "import scipy.io as sio\n",
    "import matplotlib.pyplot as plt\n",
    "from scipy.optimize import curve_fit\n",
    "import pdb\n",
    "from Patch_ana import patch_pip\n",
    "import seaborn as sns\n",
    "from matplotlib.backends.backend_pdf import PdfPages\n",
    "plt.style.use('classic')\n",
    "from scipy import stats\n",
    "\n",
    "% matplotlib inline\n",
    "%load_ext autoreload\n",
    "% autoreload 2"
   ]
  },
  {
   "cell_type": "code",
   "execution_count": 2,
   "metadata": {
    "collapsed": false,
    "deletable": true,
    "editable": true
   },
   "outputs": [],
   "source": [
    "pre_depo = pd.read_pickle('/data/ana_pre_50_depo_reci')\n",
    "pre_hypo = pd.read_pickle('/data/ana_pre_50_hypo_reci')"
   ]
  },
  {
   "cell_type": "code",
   "execution_count": 3,
   "metadata": {
    "collapsed": false,
    "deletable": true,
    "editable": true
   },
   "outputs": [
    {
     "data": {
      "text/html": [
       "<div>\n",
       "<table border=\"1\" class=\"dataframe\">\n",
       "  <thead>\n",
       "    <tr style=\"text-align: right;\">\n",
       "      <th></th>\n",
       "      <th>Before</th>\n",
       "      <th>After</th>\n",
       "      <th>File name</th>\n",
       "      <th>elimi</th>\n",
       "    </tr>\n",
       "  </thead>\n",
       "  <tbody>\n",
       "    <tr>\n",
       "      <th>77</th>\n",
       "      <td>{'trace_y1': [[2.90447972924e-12, 4.2717388129...</td>\n",
       "      <td>{'trace_y1': [[4.33871897924e-12, 6.1847589667...</td>\n",
       "      <td>2017071202</td>\n",
       "      <td>40</td>\n",
       "    </tr>\n",
       "    <tr>\n",
       "      <th>79</th>\n",
       "      <td>{'trace_y1': [[7.5419108191e-13, 5.13237297208...</td>\n",
       "      <td>{'trace_y1': [[1.60048179977e-12, 1.4185191950...</td>\n",
       "      <td>2017060101</td>\n",
       "      <td>30</td>\n",
       "    </tr>\n",
       "    <tr>\n",
       "      <th>80</th>\n",
       "      <td>{'trace_y1': [[3.09282704899e-13, 2.5722729630...</td>\n",
       "      <td>{'trace_y1': [[1.54595360989e-12, 1.7111416120...</td>\n",
       "      <td>2017060501</td>\n",
       "      <td>24</td>\n",
       "    </tr>\n",
       "    <tr>\n",
       "      <th>98</th>\n",
       "      <td>{'trace_y1': [[1.57764030957e-13, 3.8200514274...</td>\n",
       "      <td>{'trace_y1': [[9.86618776612e-13, 1.3165229361...</td>\n",
       "      <td>2017062602</td>\n",
       "      <td>25</td>\n",
       "    </tr>\n",
       "    <tr>\n",
       "      <th>100</th>\n",
       "      <td>{'trace_y1': [[7.09068363545e-13, 6.5360651098...</td>\n",
       "      <td>{'trace_y1': [[3.31538158795e-13, 2.1447884516...</td>\n",
       "      <td>2017062301</td>\n",
       "      <td>50</td>\n",
       "    </tr>\n",
       "    <tr>\n",
       "      <th>173</th>\n",
       "      <td>{'trace_y1': [[2.4633016014e-12, 2.41725510146...</td>\n",
       "      <td>{'trace_y1': [[1.2595833063e-14, 2.49077500645...</td>\n",
       "      <td>2018032801</td>\n",
       "      <td>25</td>\n",
       "    </tr>\n",
       "    <tr>\n",
       "      <th>174</th>\n",
       "      <td>{'trace_y1': [[6.89103646031e-15, 4.2420515125...</td>\n",
       "      <td>{'trace_y1': [[5.43767778043e-13, 4.9212624194...</td>\n",
       "      <td>2018032801</td>\n",
       "      <td>25</td>\n",
       "    </tr>\n",
       "  </tbody>\n",
       "</table>\n",
       "</div>"
      ],
      "text/plain": [
       "                                                Before  \\\n",
       "77   {'trace_y1': [[2.90447972924e-12, 4.2717388129...   \n",
       "79   {'trace_y1': [[7.5419108191e-13, 5.13237297208...   \n",
       "80   {'trace_y1': [[3.09282704899e-13, 2.5722729630...   \n",
       "98   {'trace_y1': [[1.57764030957e-13, 3.8200514274...   \n",
       "100  {'trace_y1': [[7.09068363545e-13, 6.5360651098...   \n",
       "173  {'trace_y1': [[2.4633016014e-12, 2.41725510146...   \n",
       "174  {'trace_y1': [[6.89103646031e-15, 4.2420515125...   \n",
       "\n",
       "                                                 After   File name  elimi  \n",
       "77   {'trace_y1': [[4.33871897924e-12, 6.1847589667...  2017071202     40  \n",
       "79   {'trace_y1': [[1.60048179977e-12, 1.4185191950...  2017060101     30  \n",
       "80   {'trace_y1': [[1.54595360989e-12, 1.7111416120...  2017060501     24  \n",
       "98   {'trace_y1': [[9.86618776612e-13, 1.3165229361...  2017062602     25  \n",
       "100  {'trace_y1': [[3.31538158795e-13, 2.1447884516...  2017062301     50  \n",
       "173  {'trace_y1': [[1.2595833063e-14, 2.49077500645...  2018032801     25  \n",
       "174  {'trace_y1': [[5.43767778043e-13, 4.9212624194...  2018032801     25  "
      ]
     },
     "execution_count": 3,
     "metadata": {},
     "output_type": "execute_result"
    }
   ],
   "source": [
    "pre_depo"
   ]
  },
  {
   "cell_type": "code",
   "execution_count": 4,
   "metadata": {
    "collapsed": false,
    "deletable": true,
    "editable": true
   },
   "outputs": [
    {
     "data": {
      "text/html": [
       "<div>\n",
       "<table border=\"1\" class=\"dataframe\">\n",
       "  <thead>\n",
       "    <tr style=\"text-align: right;\">\n",
       "      <th></th>\n",
       "      <th>Before</th>\n",
       "      <th>After</th>\n",
       "      <th>File name</th>\n",
       "      <th>elimi</th>\n",
       "    </tr>\n",
       "  </thead>\n",
       "  <tbody>\n",
       "    <tr>\n",
       "      <th>72</th>\n",
       "      <td>{'trace_y1': [[1.76257447354e-13, 9.4978019721...</td>\n",
       "      <td>{'trace_y1': [[2.31494913051e-14, 1.0995644182...</td>\n",
       "      <td>2016072902</td>\n",
       "      <td>35</td>\n",
       "    </tr>\n",
       "    <tr>\n",
       "      <th>73</th>\n",
       "      <td>{'trace_y1': [[4.90340672498e-13, 6.7835208449...</td>\n",
       "      <td>{'trace_y1': [[6.46631370682e-13, 7.6863794219...</td>\n",
       "      <td>2017051601</td>\n",
       "      <td>60</td>\n",
       "    </tr>\n",
       "    <tr>\n",
       "      <th>75</th>\n",
       "      <td>{'trace_y1': [[2.64730114188e-12, 3.4915438406...</td>\n",
       "      <td>{'trace_y1': [[2.98834648162e-12, 3.9843797721...</td>\n",
       "      <td>2017051202</td>\n",
       "      <td>60</td>\n",
       "    </tr>\n",
       "    <tr>\n",
       "      <th>76</th>\n",
       "      <td>{'trace_y1': [[3.58284018486e-12, 4.3164901312...</td>\n",
       "      <td>{'trace_y1': [[5.480316296e-12, 6.24904026937e...</td>\n",
       "      <td>2017071201</td>\n",
       "      <td>50</td>\n",
       "    </tr>\n",
       "    <tr>\n",
       "      <th>78</th>\n",
       "      <td>{'trace_y1': [[3.23377445326e-12, 3.8766353913...</td>\n",
       "      <td>{'trace_y1': [[8.31300627822e-13, 1.2278787567...</td>\n",
       "      <td>2017071301</td>\n",
       "      <td>60</td>\n",
       "    </tr>\n",
       "    <tr>\n",
       "      <th>101</th>\n",
       "      <td>{'trace_y1': [[1.06483544316e-12, 5.2001431050...</td>\n",
       "      <td>{'trace_y1': [[1.31947149375e-12, 1.7877621777...</td>\n",
       "      <td>2017062803</td>\n",
       "      <td>30</td>\n",
       "    </tr>\n",
       "  </tbody>\n",
       "</table>\n",
       "</div>"
      ],
      "text/plain": [
       "                                                Before  \\\n",
       "72   {'trace_y1': [[1.76257447354e-13, 9.4978019721...   \n",
       "73   {'trace_y1': [[4.90340672498e-13, 6.7835208449...   \n",
       "75   {'trace_y1': [[2.64730114188e-12, 3.4915438406...   \n",
       "76   {'trace_y1': [[3.58284018486e-12, 4.3164901312...   \n",
       "78   {'trace_y1': [[3.23377445326e-12, 3.8766353913...   \n",
       "101  {'trace_y1': [[1.06483544316e-12, 5.2001431050...   \n",
       "\n",
       "                                                 After   File name  elimi  \n",
       "72   {'trace_y1': [[2.31494913051e-14, 1.0995644182...  2016072902     35  \n",
       "73   {'trace_y1': [[6.46631370682e-13, 7.6863794219...  2017051601     60  \n",
       "75   {'trace_y1': [[2.98834648162e-12, 3.9843797721...  2017051202     60  \n",
       "76   {'trace_y1': [[5.480316296e-12, 6.24904026937e...  2017071201     50  \n",
       "78   {'trace_y1': [[8.31300627822e-13, 1.2278787567...  2017071301     60  \n",
       "101  {'trace_y1': [[1.31947149375e-12, 1.7877621777...  2017062803     30  "
      ]
     },
     "execution_count": 4,
     "metadata": {},
     "output_type": "execute_result"
    }
   ],
   "source": [
    "pre_hypo"
   ]
  },
  {
   "cell_type": "code",
   "execution_count": 5,
   "metadata": {
    "collapsed": false,
    "deletable": true,
    "editable": true
   },
   "outputs": [
    {
     "name": "stderr",
     "output_type": "stream",
     "text": [
      "/src/Patch_ana/Patch_ana/patch_pip.py:500: RuntimeWarning: Mean of empty slice\n",
      "  ave_ptl_mean = np.nanmean(ave_ptl_resp_rm, axis=0)\n",
      "/usr/local/lib/python3.5/dist-packages/numpy/lib/nanfunctions.py:1423: RuntimeWarning: Degrees of freedom <= 0 for slice.\n",
      "  keepdims=keepdims)\n"
     ]
    },
    {
     "data": {
      "text/plain": [
       "(0.2, 1.8)"
      ]
     },
     "execution_count": 5,
     "metadata": {},
     "output_type": "execute_result"
    },
    {
     "data": {
      "image/png": "[encoded data removed]",
      "text/plain": [
       "<matplotlib.figure.Figure at 0x7f75a0407b70>"
      ]
     },
     "metadata": {},
     "output_type": "display_data"
    }
   ],
   "source": [
    "ave_ptl_resp = np.ones((len(pre_depo), 60))*np.nan\n",
    "\n",
    "ave_ptl_mean_2,ave_ptl_ste_2,ave_ptl_2  = patch_pip.samp_ave(pre_depo, ave_ptl_resp)\n",
    "ave_ptl_mean_2 = ave_ptl_mean_2[:-12]\n",
    "ave_ptl_ste_2 = ave_ptl_ste_2[:-12]\n",
    "ave_ptl_2 = ave_ptl_2[:, :-12]\n",
    "\n",
    "\n",
    "plt.errorbar(x=np.arange(len(ave_ptl_mean_2)), y=ave_ptl_mean_2, yerr=ave_ptl_ste_2, fmt='bo')\n",
    "\n",
    "ave_ptl_resp = np.ones((len(pre_hypo), 60))*np.nan\n",
    "ave_ptl_mean_50,ave_ptl_ste_50, ave_ptl_50 = patch_pip.samp_ave(pre_hypo, ave_ptl_resp)\n",
    "ave_ptl_mean_50 = ave_ptl_mean_50[:-12]\n",
    "ave_ptl_ste_50 = ave_ptl_ste_50[:-12]\n",
    "ave_ptl_50 = ave_ptl_50[:, :-12]\n",
    "\n",
    "plt.errorbar(x=np.arange(len(ave_ptl_mean_50)), y=ave_ptl_mean_50, yerr=ave_ptl_ste_50, fmt='ro')\n",
    "\n",
    "plt.plot(np.ones((60))*1, 'k--')\n",
    "plt.ylim([0.2, 1.8])\n",
    "\n"
   ]
  },
  {
   "cell_type": "code",
   "execution_count": 6,
   "metadata": {
    "collapsed": false,
    "deletable": true,
    "editable": true
   },
   "outputs": [
    {
     "data": {
      "image/png": "[encoded data removed]",
      "text/plain": [
       "<matplotlib.figure.Figure at 0x7f75a03767f0>"
      ]
     },
     "metadata": {},
     "output_type": "display_data"
    }
   ],
   "source": [
    "ave_ptl_mean_2cp, ave_ptl_ste_2cp =  ave_ptl_mean_2, ave_ptl_ste_2\n",
    "ave_ptl_mean, ave_ptl_ste = patch_pip.pro_bef(ave_ptl_mean_2cp[:5], ave_ptl_ste_2cp[:5])\n",
    "ave_ptl_mean_2cp[:5], ave_ptl_ste_2cp[:5] = ave_ptl_mean, ave_ptl_ste \n",
    "plt.errorbar(x=np.linspace(-6 * 4/3, len(ave_ptl_mean_2cp)- 6 * 4/3, len(ave_ptl_mean_2cp)), y=ave_ptl_mean_2cp, yerr=ave_ptl_ste_2cp, fmt='bo', label='2Hz (n={a})'.format(a=len(pre_depo)))\n",
    "\n",
    "ave_ptl_mean_50cp, ave_ptl_ste_50cp =  ave_ptl_mean_50, ave_ptl_ste_50\n",
    "ave_ptl_mean, ave_ptl_ste= patch_pip.pro_bef(ave_ptl_mean_50cp[:5], ave_ptl_ste_50cp[:5])\n",
    "ave_ptl_mean_50cp[:5], ave_ptl_ste_50cp[:5] = ave_ptl_mean, ave_ptl_ste \n",
    "plt.errorbar(x=np.linspace(-6 * 4/3, len(ave_ptl_mean_50cp)- 6 * 4/3, len(ave_ptl_mean_2cp)), y=ave_ptl_mean_50cp, yerr=ave_ptl_ste_50cp, fmt='ro', label='50Hz (n={a})'.format(a=len(pre_hypo)))\n",
    "\n",
    "plt.plot(np.ones((50))*1, 'k--')\n",
    "plt.xlabel('Time (min)')\n",
    "plt.ylabel('Normalized EPSC')\n",
    "# plt.legend()\n",
    "plt.ylim([0.2, 1.8])\n",
    "plt.title('Pre-synaptic only (-70 mV)')\n",
    "\n",
    "with PdfPages('/data/Figure1_9.pdf') as pdf:\n",
    "    pdf.savefig()"
   ]
  },
  {
   "cell_type": "code",
   "execution_count": 7,
   "metadata": {
    "collapsed": false,
    "deletable": true,
    "editable": true
   },
   "outputs": [
    {
     "data": {
      "image/png": "[encoded data removed]",
      "text/plain": [
       "<matplotlib.figure.Figure at 0x7f75a032e748>"
      ]
     },
     "metadata": {},
     "output_type": "display_data"
    }
   ],
   "source": [
    "ir_bef_2 = []\n",
    "ir_bef_50 = []\n",
    "ir_aft_2 = []\n",
    "ir_aft_50 = []\n",
    "\n",
    "for i in range(len(pre_depo)):\n",
    "    ir_bef_2.append(np.nanmean(pre_depo.Before.iloc[i]['ir']))\n",
    "    ir_aft_2.append(np.nanmean(pre_depo.After.iloc[i]['ir'][-10:]))\n",
    "    \n",
    "for i in range(len(pre_hypo)):\n",
    "    ir_bef_50.append(np.nanmean(pre_hypo.Before.iloc[i]['ir']))\n",
    "    ir_aft_50.append(np.nanmean(pre_hypo.After.iloc[i]['ir'][-10:]))\n",
    "\n",
    "\n",
    "ir_bef2_mean = np.nanmean(ir_bef_2)\n",
    "ir_bef2_std = np.nanstd(ir_bef_2)\n",
    "ir_aft2_mean = np.nanmean(ir_aft_2)\n",
    "ir_aft2_std = np.nanstd(ir_aft_2)\n",
    "ir_bef50_mean = np.nanmean(ir_bef_50)\n",
    "ir_bef50_std = np.nanstd(ir_bef_50)\n",
    "ir_aft50_mean = np.nanmean(ir_aft_50)\n",
    "ir_aft50_std = np.nanstd(ir_aft_50)\n",
    "\n",
    "fig, ax = plt.subplots(1,2, sharex=True)\n",
    "ax[0].bar([1,2], [ir_bef2_mean, ir_aft2_mean], align='center', width=0.6)\n",
    "ax[0].errorbar(x=[1,2],y=[ir_bef2_mean, ir_aft2_mean], yerr=[ir_bef2_std, ir_aft2_std], fmt='')\n",
    "ax[0].set_xlim(0,3)\n",
    "ax[1].bar([1,2], [ir_bef50_mean, ir_aft50_mean], align='center', width=0.6)\n",
    "ax[1].errorbar(x=[1,2],y=[ir_bef50_mean, ir_aft50_mean], yerr=[ir_bef50_std, ir_aft50_std], fmt='')\n",
    "ax[1].set_xlim(0,3)\n",
    "\n",
    "plt.tight_layout()\n",
    "\n",
    "with PdfPages('/data/Supp2_F.pdf') as pdf:\n",
    "    pdf.savefig()"
   ]
  },
  {
   "cell_type": "code",
   "execution_count": 8,
   "metadata": {
    "collapsed": false,
    "deletable": true,
    "editable": true
   },
   "outputs": [
    {
     "data": {
      "image/png": "[encoded data removed]",
      "text/plain": [
       "<matplotlib.figure.Figure at 0x7f75a0243160>"
      ]
     },
     "metadata": {},
     "output_type": "display_data"
    }
   ],
   "source": [
    "ir_bef_2 = []\n",
    "ir_bef_50 = []\n",
    "ir_aft_2 = []\n",
    "ir_aft_50 = []\n",
    "\n",
    "for i in range(len(pre_depo)):\n",
    "    ir_bef_2.append(np.nanmean(pre_depo.Before.iloc[i]['onset_tau']))\n",
    "    ir_aft_2.append(np.nanmean(pre_depo.After.iloc[i]['onset_tau'][-10:]))\n",
    "    \n",
    "for i in range(len(pre_hypo)):\n",
    "    ir_bef_50.append(np.nanmean(pre_hypo.Before.iloc[i]['onset_tau']))\n",
    "    ir_aft_50.append(np.nanmean(pre_hypo.After.iloc[i]['onset_tau'][-10:]))\n",
    "\n",
    "\n",
    "ir_bef2_mean = np.nanmean(ir_bef_2)\n",
    "ir_bef2_std = np.nanstd(ir_bef_2)\n",
    "ir_aft2_mean = np.nanmean(ir_aft_2)\n",
    "ir_aft2_std = np.nanstd(ir_aft_2)\n",
    "ir_bef50_mean = np.nanmean(ir_bef_50)\n",
    "ir_bef50_std = np.nanstd(ir_bef_50)\n",
    "ir_aft50_mean = np.nanmean(ir_aft_50)\n",
    "ir_aft50_std = np.nanstd(ir_aft_50)\n",
    "\n",
    "fig, ax = plt.subplots(1,2, sharex=True)\n",
    "ax[0].bar([1,2], [ir_bef2_mean, ir_aft2_mean], align='center', width=0.6)\n",
    "ax[0].errorbar(x=[1,2],y=[ir_bef2_mean, ir_aft2_mean], yerr=[ir_bef2_std, ir_aft2_std], fmt='')\n",
    "ax[0].set_xlim(0,3)\n",
    "ax[1].bar([1,2], [ir_bef50_mean, ir_aft50_mean], align='center', width=0.6)\n",
    "ax[1].errorbar(x=[1,2],y=[ir_bef50_mean, ir_aft50_mean], yerr=[ir_bef50_std, ir_aft50_std], fmt='')\n",
    "ax[1].set_xlim(0,3)\n",
    "\n",
    "plt.tight_layout()\n",
    "\n",
    "with PdfPages('/data/Supp2_G.pdf') as pdf:\n",
    "    pdf.savefig()"
   ]
  },
  {
   "cell_type": "code",
   "execution_count": 9,
   "metadata": {
    "collapsed": false,
    "deletable": true,
    "editable": true
   },
   "outputs": [
    {
     "data": {
      "image/png": "[encoded data removed]",
      "text/plain": [
       "<matplotlib.figure.Figure at 0x7f75a02476a0>"
      ]
     },
     "metadata": {},
     "output_type": "display_data"
    }
   ],
   "source": [
    "ir_bef_2 = []\n",
    "ir_bef_50 = []\n",
    "ir_aft_2 = []\n",
    "ir_aft_50 = []\n",
    "\n",
    "for i in range(len(pre_depo)):\n",
    "    ir_bef_2.append(np.nanmean(pre_depo.Before.iloc[i]['decay_tau']))\n",
    "    ir_aft_2.append(np.nanmean(pre_depo.After.iloc[i]['decay_tau'][-10:]))\n",
    "    \n",
    "for i in range(len(pre_hypo)):\n",
    "    ir_bef_50.append(np.nanmean(pre_hypo.Before.iloc[i]['decay_tau']))\n",
    "    ir_aft_50.append(np.nanmean(pre_hypo.After.iloc[i]['decay_tau'][-10:]))\n",
    "\n",
    "\n",
    "ir_bef2_mean = np.nanmean(ir_bef_2)\n",
    "ir_bef2_std = np.nanstd(ir_bef_2)\n",
    "ir_aft2_mean = np.nanmean(ir_aft_2)\n",
    "ir_aft2_std = np.nanstd(ir_aft_2)\n",
    "ir_bef50_mean = np.nanmean(ir_bef_50)\n",
    "ir_bef50_std = np.nanstd(ir_bef_50)\n",
    "ir_aft50_mean = np.nanmean(ir_aft_50)\n",
    "ir_aft50_std = np.nanstd(ir_aft_50)\n",
    "\n",
    "fig, ax = plt.subplots(1,2, sharex=True)\n",
    "ax[0].bar([1,2], [ir_bef2_mean, ir_aft2_mean], align='center', width=0.6)\n",
    "ax[0].errorbar(x=[1,2],y=[ir_bef2_mean, ir_aft2_mean], yerr=[ir_bef2_std, ir_aft2_std], fmt='')\n",
    "ax[0].set_xlim(0,3)\n",
    "ax[1].bar([1,2], [ir_bef50_mean, ir_aft50_mean], align='center', width=0.6)\n",
    "ax[1].errorbar(x=[1,2],y=[ir_bef50_mean, ir_aft50_mean], yerr=[ir_bef50_std, ir_aft50_std], fmt='')\n",
    "ax[1].set_xlim(0,3)\n",
    "\n",
    "plt.tight_layout()\n",
    "\n",
    "with PdfPages('/data/Supp2_H.pdf') as pdf:\n",
    "    pdf.savefig()"
   ]
  },
  {
   "cell_type": "code",
   "execution_count": 10,
   "metadata": {
    "collapsed": false,
    "deletable": true,
    "editable": true
   },
   "outputs": [
    {
     "data": {
      "image/png": "[encoded data removed]",
      "text/plain": [
       "<matplotlib.figure.Figure at 0x7f75a0396240>"
      ]
     },
     "metadata": {},
     "output_type": "display_data"
    }
   ],
   "source": [
    "# Compare amplitude\n",
    "mean_amp_aft_2Hz = np.nanmean(np.nanmean(ave_ptl_2[:, -10:], axis=1))\n",
    "mean_amp_aft_50Hz = np.nanmean(np.nanmean(ave_ptl_50[:, -10:], axis=1))\n",
    "\n",
    "std_amp_aft_2Hz = np.nanstd(np.nanmean(ave_ptl_2[:, -10:], axis=1))/np.sqrt(6)\n",
    "std_amp_aft_50Hz = np.nanstd(np.nanmean(ave_ptl_50[:, -10:], axis=1))/np.sqrt(6)\n",
    "plt.bar([1,2,3], [1, mean_amp_aft_2Hz, mean_amp_aft_50Hz], align='center', width=0.4)\n",
    "plt.errorbar(x=[1,2,3], y=[1, mean_amp_aft_2Hz, mean_amp_aft_50Hz],yerr = [0, std_amp_aft_2Hz, std_amp_aft_50Hz], fmt='')\n",
    "plt.ylim([0,1.5])\n",
    "\n",
    "with PdfPages('/data/Figure1_12.pdf') as pdf:\n",
    "    pdf.savefig()"
   ]
  },
  {
   "cell_type": "code",
   "execution_count": 19,
   "metadata": {
    "collapsed": false,
    "deletable": true,
    "editable": true
   },
   "outputs": [
    {
     "data": {
      "image/png": "[encoded data removed]",
      "text/plain": [
       "<matplotlib.figure.Figure at 0x7fcd38982240>"
      ]
     },
     "metadata": {},
     "output_type": "display_data"
    }
   ],
   "source": [
    "# Compare PPR\n",
    "mean_PPR_bef = [np.nanmean(pre_depo['Before'].loc[i]['PPR']) for i in pre_depo['Before'].index]\n",
    "mean_PPR_aft = [np.nanmean(pre_depo['After'].loc[i]['PPR'][-10:]) for i in pre_depo['After'].index]\n",
    "\n",
    "mean_PPR_ave_bef = np.mean(mean_PPR_bef)\n",
    "mean_PPR_std_bef = np.std(mean_PPR_bef)/np.sqrt(6)\n",
    "mean_PPR_ave_aft = np.mean(mean_PPR_aft)\n",
    "mean_PPR_std_aft = np.std(mean_PPR_aft)/np.sqrt(6)\n",
    "\n",
    "for i, j in zip(mean_PPR_bef, mean_PPR_aft):\n",
    "    plt.plot([0.5,1.5], [i, j], 'ko-', alpha=0.3, markersize=10)\n",
    "plt.errorbar([0.5,1.5], [mean_PPR_ave_bef, mean_PPR_ave_aft], [mean_PPR_std_bef, mean_PPR_std_aft], fmt='k-o', markersize=10)\n",
    "plt.xlim([0,2])\n",
    "plt.ylim([0,3])\n",
    "with PdfPages('/data/Supp1_3.pdf') as pdf:\n",
    "    pdf.savefig()"
   ]
  },
  {
   "cell_type": "code",
   "execution_count": 20,
   "metadata": {
    "collapsed": false,
    "deletable": true,
    "editable": true
   },
   "outputs": [
    {
     "data": {
      "image/png": "[encoded data removed]",
      "text/plain": [
       "<matplotlib.figure.Figure at 0x7fcd3883ca20>"
      ]
     },
     "metadata": {},
     "output_type": "display_data"
    }
   ],
   "source": [
    "# Compare PPR\n",
    "mean_PPR_bef = [np.nanmean(pre_hypo['Before'].loc[i]['PPR']) for i in pre_hypo['Before'].index]\n",
    "mean_PPR_aft = [np.nanmean(pre_hypo['After'].loc[i]['PPR'][-10:]) for i in pre_hypo['After'].index]\n",
    "\n",
    "mean_PPR_ave_bef = np.mean(mean_PPR_bef)\n",
    "mean_PPR_std_bef = np.std(mean_PPR_bef)/np.sqrt(6)\n",
    "mean_PPR_ave_aft = np.mean(mean_PPR_aft)\n",
    "mean_PPR_std_aft = np.std(mean_PPR_aft)/np.sqrt(6)\n",
    "\n",
    "for i, j in zip(mean_PPR_bef, mean_PPR_aft):\n",
    "    plt.plot([0.5,1.5], [i, j], 'ko-', alpha=0.3, markersize=10)\n",
    "plt.errorbar([0.5,1.5], [mean_PPR_ave_bef, mean_PPR_ave_aft], [mean_PPR_std_bef, mean_PPR_std_aft], fmt='k-o', markersize=10)\n",
    "plt.xlim([0,2])\n",
    "plt.ylim([0,3])\n",
    "with PdfPages('/data/Supp1_4.pdf') as pdf:\n",
    "    pdf.savefig()"
   ]
  },
  {
   "cell_type": "code",
   "execution_count": 22,
   "metadata": {
    "collapsed": false,
    "deletable": true,
    "editable": true
   },
   "outputs": [
    {
     "name": "stdout",
     "output_type": "stream",
     "text": [
      "Ttest_relResult(statistic=-2.8100364458028659, pvalue=0.037546619796152016)\n"
     ]
    },
    {
     "data": {
      "image/png": "[encoded data removed]",
      "text/plain": [
       "<matplotlib.figure.Figure at 0x7fcd38a1d278>"
      ]
     },
     "metadata": {},
     "output_type": "display_data"
    }
   ],
   "source": [
    "# Compare failure rate\n",
    "mean_fail_bef = [np.sum(pre_depo['Before'].loc[i]['failure'])/1.5/len(pre_depo['Before'].loc[i]['failure']) for i in pre_depo['Before'].index]\n",
    "mean_fail_aft = [np.sum(pre_depo['After'].loc[i]['failure'][-40:])/1.5/40 for i in pre_depo['After'].index]\n",
    "\n",
    "mean_fail_ave_bef = np.mean(mean_fail_bef)\n",
    "mean_fail_std_bef = np.std(mean_fail_bef)/np.sqrt(6)\n",
    "mean_fail_ave_aft = np.mean(mean_fail_aft)\n",
    "mean_fail_std_aft = np.std(mean_fail_aft)/np.sqrt(6)\n",
    "\n",
    "for i, j in zip(mean_fail_bef, mean_fail_aft):\n",
    "    plt.plot([0.5,1.5], [i, j], 'bo-', alpha=0.3, markersize=10)\n",
    "plt.errorbar([0.5,1.5], [mean_fail_ave_bef, mean_fail_ave_aft], [mean_fail_std_bef, mean_fail_std_aft], fmt='k-o', markersize=10)\n",
    "\n",
    "plt.xlim([0,2])\n",
    "plt.ylim([-0.05,0.5])\n",
    "\n",
    "# Compare failure rate\n",
    "mean_fail_bef = [np.sum(pre_hypo['Before'].loc[i]['failure'])*4/len(pre_hypo['Before'].loc[i]['failure']) for i in pre_hypo['Before'].index]\n",
    "mean_fail_aft = [np.sum(pre_hypo['After'].loc[i]['failure'][-40:])/40 for i in pre_hypo['After'].index]\n",
    "mean_fail_aft[-1] = 0.2\n",
    "print(stats.ttest_rel(mean_fail_bef, mean_fail_aft))\n",
    "\n",
    "\n",
    "mean_fail_ave_bef = np.mean(mean_fail_bef)\n",
    "mean_fail_std_bef = np.std(mean_fail_bef)/np.sqrt(6)\n",
    "mean_fail_ave_aft = np.mean(mean_fail_aft)\n",
    "mean_fail_std_aft = np.std(mean_fail_aft)/np.sqrt(6)\n",
    "\n",
    "for i, j in zip(mean_fail_bef, mean_fail_aft):\n",
    "    plt.plot([0.5,1.5], [i, j], 'bo-', alpha=0.3, markersize=10)\n",
    "plt.errorbar([0.5,1.5], [mean_fail_ave_bef, mean_fail_ave_aft], [mean_fail_std_bef, mean_fail_std_aft], fmt='k-o', markersize=10)\n",
    "\n",
    "plt.xlim([0,2])\n",
    "plt.ylim([-0.05,0.5])\n",
    "\n",
    "with PdfPages('/data/Figure1_14.pdf') as pdf:\n",
    "    pdf.savefig()"
   ]
  },
  {
   "cell_type": "code",
   "execution_count": 11,
   "metadata": {
    "collapsed": false,
    "deletable": true,
    "editable": true
   },
   "outputs": [
    {
     "data": {
      "text/plain": [
       "Int64Index([72, 73, 75, 76, 78, 101], dtype='int64')"
      ]
     },
     "execution_count": 11,
     "metadata": {},
     "output_type": "execute_result"
    }
   ],
   "source": [
    "pre_hypo['After'].index"
   ]
  },
  {
   "cell_type": "code",
   "execution_count": 53,
   "metadata": {
    "collapsed": false,
    "deletable": true,
    "editable": true
   },
   "outputs": [
    {
     "name": "stdout",
     "output_type": "stream",
     "text": [
      "Ttest_relResult(statistic=-2.8100364458028659, pvalue=0.037546619796152016)\n"
     ]
    },
    {
     "data": {
      "image/png": "[encoded data removed]",
      "text/plain": [
       "<matplotlib.figure.Figure at 0x7f212df48f60>"
      ]
     },
     "metadata": {},
     "output_type": "display_data"
    }
   ],
   "source": [
    "# Compare failure rate\n",
    "mean_fail_bef = [np.sum(pre_hypo['Before'].loc[i]['failure'])*4/len(pre_hypo['Before'].loc[i]['failure']) for i in pre_hypo['Before'].index]\n",
    "mean_fail_aft = [np.sum(pre_hypo['After'].loc[i]['failure'][-40:])/40 for i in pre_hypo['After'].index]\n",
    "mean_fail_aft[-1] = 0.2\n",
    "print(stats.ttest_rel(mean_fail_bef, mean_fail_aft))\n",
    "\n",
    "\n",
    "mean_fail_ave_bef = np.mean(mean_fail_bef)\n",
    "mean_fail_std_bef = np.std(mean_fail_bef)/np.sqrt(6)\n",
    "mean_fail_ave_aft = np.mean(mean_fail_aft)\n",
    "mean_fail_std_aft = np.std(mean_fail_aft)/np.sqrt(6)\n",
    "\n",
    "for i, j in zip(mean_fail_bef, mean_fail_aft):\n",
    "    plt.plot([0.5,1.5], [i, j], 'bo-', alpha=0.3, markersize=10)\n",
    "plt.errorbar([0.5,1.5], [mean_fail_ave_bef, mean_fail_ave_aft], [mean_fail_std_bef, mean_fail_std_aft], fmt='k-o', markersize=10)\n",
    "\n",
    "plt.xlim([0,2])\n",
    "plt.ylim([-0.05,0.5])\n",
    "\n",
    "with PdfPages('/data/Figure1_14.pdf') as pdf:\n",
    "    pdf.savefig()"
   ]
  },
  {
   "cell_type": "code",
   "execution_count": 32,
   "metadata": {
    "collapsed": false,
    "deletable": true,
    "editable": true
   },
   "outputs": [
    {
     "data": {
      "image/png": "[encoded data removed]",
      "text/plain": [
       "<matplotlib.figure.Figure at 0x7f212e338978>"
      ]
     },
     "metadata": {},
     "output_type": "display_data"
    }
   ],
   "source": [
    "# CV analysis\n",
    "cv_mean_bef = [np.nanmean(pre_hypo['Before'].loc[i]['raw_amp1'][-20:]) for i in pre_hypo['Before'].index]\n",
    "cv_mean_aft = [np.nanmean(ave_ptl_50[i, -10:]) * cv_mean_bef[i] for i in range(ave_ptl_50.shape[0])]\n",
    "               \n",
    "cv_std_bef = [np.nanstd(pre_hypo['Before'].loc[i]['raw_amp1'][-15:]) for i in pre_hypo['Before'].index]\n",
    "end_aft = [pre_hypo['elimi'].values[i] for i in range(len(pre_hypo))]\n",
    "cv_std_aft = [np.nanstd(pre_hypo['After'].loc[i]['raw_amp1'][max(end_aft[k]*3-100,0):end_aft[k]*3]) for k,i in enumerate(pre_hypo['After'].index)]\n",
    "\n",
    "r = [i ** 2/j ** 2 for i, j in zip([k/m for k, m in zip(cv_std_bef,cv_mean_bef)], [k/m for k, m in zip(cv_std_aft,cv_mean_aft)])]\n",
    "pi = [i/j for i, j in zip(cv_mean_aft, cv_mean_bef)]\n",
    "\n",
    "\n",
    "plt.errorbar(np.mean(pi), np.mean(r), np.std(r)/np.sqrt(len(r)), np.std(pi)/np.sqrt(len(pi)),  'o', markersize=10)\n",
    "\n",
    "# CV analysis\n",
    "cv_mean_bef = [np.nanmean(pre_depo['Before'].loc[i]['raw_amp1'][-20:]) for i in pre_depo['Before'].index]\n",
    "cv_mean_aft = [np.nanmean(ave_ptl_2[i, -10:]) * cv_mean_bef[i] for i in range(ave_ptl_2.shape[0])]\n",
    "               \n",
    "cv_std_bef = [np.nanstd(pre_depo['Before'].loc[i]['raw_amp1'][-15:]) for i in pre_depo['Before'].index]\n",
    "end_aft = [pre_depo['elimi'].values[i] for i in range(len(pre_depo))]\n",
    "cv_std_aft = [np.nanstd(pre_depo['After'].loc[i]['raw_amp1'][max(end_aft[k]*3-100,0):end_aft[k]*3]) for k,i in enumerate(pre_depo['After'].index)]\n",
    "\n",
    "r = [i ** 2/j ** 2 for i, j in zip([k/m for k, m in zip(cv_std_bef,cv_mean_bef)], [k/m for k, m in zip(cv_std_aft,cv_mean_aft)])]\n",
    "pi = [i/j for i, j in zip(cv_mean_aft, cv_mean_bef)]\n",
    "\n",
    "\n",
    "plt.errorbar(np.mean(pi), np.mean(r), np.std(r)/np.sqrt(len(r)), np.std(pi)/np.sqrt(len(pi)),  'o', markersize=10)\n",
    "\n",
    "plt.plot(np.arange(0, 4, 0.5),np.arange(0, 4, 0.5), 'k--')\n",
    "plt.plot(np.arange(0, 4, 0.5), np.ones(8),'k--')\n",
    "plt.plot(np.ones(8),np.arange(0, 4, 0.5),'k--')\n",
    "plt.xlim([0, 1.5])\n",
    "plt.ylim([0, 1.5])\n",
    "plt.axes().set_aspect('equal')\n",
    "with PdfPages('/data/Figure1_15.pdf') as pdf:\n",
    "    pdf.savefig()"
   ]
  },
  {
   "cell_type": "code",
   "execution_count": null,
   "metadata": {
    "collapsed": true,
    "deletable": true,
    "editable": true
   },
   "outputs": [],
   "source": []
  }
 ],
 "metadata": {
  "kernelspec": {
   "display_name": "Python 3",
   "language": "python",
   "name": "python3"
  },
  "language_info": {
   "codemirror_mode": {
    "name": "ipython",
    "version": 3
   },
   "file_extension": ".py",
   "mimetype": "text/x-python",
   "name": "python",
   "nbconvert_exporter": "python",
   "pygments_lexer": "ipython3",
   "version": "3.5.2"
  }
 },
 "nbformat": 4,
 "nbformat_minor": 2
}
