{
 "cells": [
  {
   "cell_type": "code",
   "execution_count": 18,
   "metadata": {
    "collapsed": false,
    "deletable": true,
    "editable": true
   },
   "outputs": [
    {
     "name": "stdout",
     "output_type": "stream",
     "text": [
      "The autoreload extension is already loaded. To reload it, use:\n",
      "  %reload_ext autoreload\n"
     ]
    }
   ],
   "source": [
    "import numpy as np\n",
    "import pandas as pd\n",
    "import scipy.io as sio\n",
    "import matplotlib.pyplot as plt\n",
    "from scipy.optimize import curve_fit\n",
    "import pdb\n",
    "from Patch_ana import patch_pip\n",
    "import seaborn as sns\n",
    "from matplotlib.backends.backend_pdf import PdfPages\n",
    "plt.style.use('classic')\n",
    "\n",
    "% matplotlib inline\n",
    "%load_ext autoreload\n",
    "% autoreload"
   ]
  },
  {
   "cell_type": "code",
   "execution_count": 19,
   "metadata": {
    "collapsed": false,
    "deletable": true,
    "editable": true
   },
   "outputs": [],
   "source": [
    "data_am_noasso = pd.read_pickle('/data/ana_asso_2Hz_reci_MPEP')"
   ]
  },
  {
   "cell_type": "code",
   "execution_count": 20,
   "metadata": {
    "collapsed": false,
    "deletable": true,
    "editable": true
   },
   "outputs": [
    {
     "data": {
      "text/html": [
       "<div>\n",
       "<table border=\"1\" class=\"dataframe\">\n",
       "  <thead>\n",
       "    <tr style=\"text-align: right;\">\n",
       "      <th></th>\n",
       "      <th>Before</th>\n",
       "      <th>After</th>\n",
       "      <th>File name</th>\n",
       "      <th>elimi</th>\n",
       "    </tr>\n",
       "  </thead>\n",
       "  <tbody>\n",
       "    <tr>\n",
       "      <th>176</th>\n",
       "      <td>{'failure': [0.0, 0.0, 0.0, 0.0, 0.0, 0.0, 0.0...</td>\n",
       "      <td>{'failure': [0.0, 0.0, 0.0, 0.0, 0.0, 0.0, 0.0...</td>\n",
       "      <td>2018052901</td>\n",
       "      <td>18</td>\n",
       "    </tr>\n",
       "    <tr>\n",
       "      <th>177</th>\n",
       "      <td>{'failure': [0.0, 0.0, 0.0, 0.0, 0.0, 0.0, 0.0...</td>\n",
       "      <td>{'failure': [1.0, 0.0, 1.0, 0.0, 0.0, 0.0, 0.0...</td>\n",
       "      <td>2018052902</td>\n",
       "      <td>15</td>\n",
       "    </tr>\n",
       "    <tr>\n",
       "      <th>178</th>\n",
       "      <td>{'failure': [0.0, 0.0, 0.0, 0.0, 1.0, 0.0, 0.0...</td>\n",
       "      <td>{'failure': [0.0, 0.0, 0.0, 0.0, 0.0, 0.0, 0.0...</td>\n",
       "      <td>2018053001</td>\n",
       "      <td>30</td>\n",
       "    </tr>\n",
       "    <tr>\n",
       "      <th>180</th>\n",
       "      <td>{'failure': [1.0, 0.0, 0.0, 0.0, 0.0, 0.0, 0.0...</td>\n",
       "      <td>{'failure': [0.0, 0.0, 0.0, 0.0, 1.0, 0.0, 0.0...</td>\n",
       "      <td>2018053101</td>\n",
       "      <td>50</td>\n",
       "    </tr>\n",
       "    <tr>\n",
       "      <th>181</th>\n",
       "      <td>{'failure': [0.0, 0.0, 0.0, 0.0, 0.0, 0.0, 0.0...</td>\n",
       "      <td>{'failure': [0.0, 0.0, 0.0, 0.0, 0.0, 0.0, 0.0...</td>\n",
       "      <td>2018053102</td>\n",
       "      <td>20</td>\n",
       "    </tr>\n",
       "    <tr>\n",
       "      <th>182</th>\n",
       "      <td>{'failure': [0.0, 1.0, 1.0, 0.0, 0.0, 0.0, 0.0...</td>\n",
       "      <td>{'failure': [0.0, 0.0, 0.0, 0.0, 0.0, 0.0, 0.0...</td>\n",
       "      <td>2018053103</td>\n",
       "      <td>17</td>\n",
       "    </tr>\n",
       "  </tbody>\n",
       "</table>\n",
       "</div>"
      ],
      "text/plain": [
       "                                                Before  \\\n",
       "176  {'failure': [0.0, 0.0, 0.0, 0.0, 0.0, 0.0, 0.0...   \n",
       "177  {'failure': [0.0, 0.0, 0.0, 0.0, 0.0, 0.0, 0.0...   \n",
       "178  {'failure': [0.0, 0.0, 0.0, 0.0, 1.0, 0.0, 0.0...   \n",
       "180  {'failure': [1.0, 0.0, 0.0, 0.0, 0.0, 0.0, 0.0...   \n",
       "181  {'failure': [0.0, 0.0, 0.0, 0.0, 0.0, 0.0, 0.0...   \n",
       "182  {'failure': [0.0, 1.0, 1.0, 0.0, 0.0, 0.0, 0.0...   \n",
       "\n",
       "                                                 After   File name  elimi  \n",
       "176  {'failure': [0.0, 0.0, 0.0, 0.0, 0.0, 0.0, 0.0...  2018052901     18  \n",
       "177  {'failure': [1.0, 0.0, 1.0, 0.0, 0.0, 0.0, 0.0...  2018052902     15  \n",
       "178  {'failure': [0.0, 0.0, 0.0, 0.0, 0.0, 0.0, 0.0...  2018053001     30  \n",
       "180  {'failure': [0.0, 0.0, 0.0, 0.0, 1.0, 0.0, 0.0...  2018053101     50  \n",
       "181  {'failure': [0.0, 0.0, 0.0, 0.0, 0.0, 0.0, 0.0...  2018053102     20  \n",
       "182  {'failure': [0.0, 0.0, 0.0, 0.0, 0.0, 0.0, 0.0...  2018053103     17  "
      ]
     },
     "execution_count": 20,
     "metadata": {},
     "output_type": "execute_result"
    }
   ],
   "source": [
    "data_am_noasso"
   ]
  },
  {
   "cell_type": "code",
   "execution_count": 21,
   "metadata": {
    "collapsed": false,
    "deletable": true,
    "editable": true
   },
   "outputs": [
    {
     "name": "stderr",
     "output_type": "stream",
     "text": [
      "/src/Patch_ana/Patch_ana/patch_pip.py:489: RuntimeWarning: Mean of empty slice\n",
      "  ave_ptl_mean = np.nanmean(ave_ptl_resp_rm, axis=0)\n",
      "/usr/local/lib/python3.5/dist-packages/numpy/lib/nanfunctions.py:1423: RuntimeWarning: Degrees of freedom <= 0 for slice.\n",
      "  keepdims=keepdims)\n"
     ]
    },
    {
     "data": {
      "text/plain": [
       "<Container object of 3 artists>"
      ]
     },
     "execution_count": 21,
     "metadata": {},
     "output_type": "execute_result"
    },
    {
     "data": {
      "image/png": "[encoded data removed]",
      "text/plain": [
       "<matplotlib.figure.Figure at 0x7ff710f175f8>"
      ]
     },
     "metadata": {},
     "output_type": "display_data"
    }
   ],
   "source": [
    "ave_ptl_resp = np.ones((len(data_am_noasso), 60))*np.nan\n",
    "\n",
    "ave_ptl_mean_2,ave_ptl_ste_2, ave_ptl_2 = patch_pip.samp_ave(data_am_noasso, ave_ptl_resp)\n",
    "ave_ptl_mean_2 = ave_ptl_mean_2[:-12]\n",
    "ave_ptl_ste_2 = ave_ptl_ste_2[:-12]\n",
    "ave_ptl_2 = ave_ptl_2[:, :-12]\n",
    "\n",
    "plt.errorbar(x=np.arange(len(ave_ptl_mean_2)), y=ave_ptl_mean_2, yerr=ave_ptl_ste_2, fmt='bo')"
   ]
  },
  {
   "cell_type": "code",
   "execution_count": 22,
   "metadata": {
    "collapsed": false,
    "deletable": true,
    "editable": true
   },
   "outputs": [
    {
     "data": {
      "image/png": "[encoded data removed]",
      "text/plain": [
       "<matplotlib.figure.Figure at 0x7ff7110cee10>"
      ]
     },
     "metadata": {},
     "output_type": "display_data"
    }
   ],
   "source": [
    "ave_ptl_mean_2cp, ave_ptl_ste_2cp =  ave_ptl_mean_2, ave_ptl_ste_2\n",
    "ave_ptl_mean, ave_ptl_ste = patch_pip.pro_bef(ave_ptl_mean_2cp[:5], ave_ptl_ste_2cp[:5])\n",
    "ave_ptl_mean_2cp[:5], ave_ptl_ste_2cp[:5] = ave_ptl_mean, ave_ptl_ste \n",
    "plt.errorbar(x=np.linspace(-6 * 4/3, len(ave_ptl_mean_2cp) - 6 * 4/3, len(ave_ptl_mean_2cp)), y=ave_ptl_mean_2cp, yerr=ave_ptl_ste_2cp, fmt='bo', label='2Hz (n={a})'.format(a=len(data_am_noasso)))\n",
    "\n",
    "# ave_ptl_mean_2cp, ave_ptl_ste_2cp =  ave_ptl_mean_2, ave_ptl_ste_2\n",
    "# ave_ptl_mean, ave_ptl_ste = patch_pip.pro_bef(ave_ptl_mean_2cp[:5], ave_ptl_ste_2cp[:5])\n",
    "# ave_ptl_mean_2cp[:5], ave_ptl_ste_2cp[:5] = ave_ptl_mean, ave_ptl_ste \n",
    "# plt.errorbar(x=np.linspace(-6 * 4/3, len(ave_ptl_mean_2cp) - 6 * 4/3, len(ave_ptl_mean_2cp)), y=ave_ptl_mean_2cp, yerr=ave_ptl_ste_2cp, fmt='bo', label='2Hz (n={a})'.format(a=len(asso2)))\n",
    "\n",
    "plt.plot(np.ones((50))*1, 'k--')\n",
    "plt.xlabel('Time (min)')\n",
    "plt.ylabel('Normalized EPSC')\n",
    "# plt.legend()\n",
    "plt.ylim([0.2, 1.8])\n",
    "plt.title('Pre-Post-synaptic only')\n",
    "\n",
    "with PdfPages('/data/Figure4_11.pdf') as pdf:\n",
    "    pdf.savefig()"
   ]
  },
  {
   "cell_type": "code",
   "execution_count": 17,
   "metadata": {
    "collapsed": false,
    "deletable": true,
    "editable": true
   },
   "outputs": [
    {
     "data": {
      "image/png": "[encoded data removed]",
      "text/plain": [
       "<matplotlib.figure.Figure at 0x7ff7133e6860>"
      ]
     },
     "metadata": {},
     "output_type": "display_data"
    }
   ],
   "source": [
    "# Compare amplitude\n",
    "mean_amp_aft_2Hz = np.nanmean(np.nanmean(ave_ptl_2[:, -10:], axis=1))\n",
    "\n",
    "std_amp_aft_2Hz = np.nanstd(np.nanmean(ave_ptl_2[:, -10:], axis=1))/np.sqrt(6)\n",
    "plt.bar([1,2], [1, mean_amp_aft_2Hz], align='center', width=0.4)\n",
    "plt.errorbar(x=[1,2], y=[1, mean_amp_aft_2Hz],yerr = [0, std_amp_aft_2Hz], fmt='')\n",
    "plt.ylim([0,1.5])\n",
    "plt.xlim([0, 3])\n",
    "\n",
    "with PdfPages('/data/Figure4_13.pdf') as pdf:\n",
    "    pdf.savefig()"
   ]
  },
  {
   "cell_type": "code",
   "execution_count": 7,
   "metadata": {
    "collapsed": false,
    "deletable": true,
    "editable": true
   },
   "outputs": [
    {
     "data": {
      "image/png": "[encoded data removed]",
      "text/plain": [
       "<matplotlib.figure.Figure at 0x7ff7134566d8>"
      ]
     },
     "metadata": {},
     "output_type": "display_data"
    }
   ],
   "source": [
    "# Compare PPR\n",
    "mean_PPR_bef = [np.nanmean(data_am_noasso['Before'].loc[i]['PPR']) for i in data_am_noasso['Before'].index]\n",
    "mean_PPR_aft = [np.nanmean(data_am_noasso['After'].loc[i]['PPR'][-10:]) for i in data_am_noasso['After'].index]\n",
    "\n",
    "mean_PPR_ave_bef = np.mean(mean_PPR_bef)\n",
    "mean_PPR_std_bef = np.std(mean_PPR_bef)/np.sqrt(6)\n",
    "mean_PPR_ave_aft = np.mean(mean_PPR_aft)\n",
    "mean_PPR_std_aft = np.std(mean_PPR_aft)/np.sqrt(6)\n",
    "\n",
    "for i, j in zip(mean_PPR_bef, mean_PPR_aft):\n",
    "    plt.plot([0.5,1.5], [i, j], 'ko-', alpha=0.3, markersize=10)\n",
    "plt.errorbar([0.5,1.5], [mean_PPR_ave_bef, mean_PPR_ave_aft], [mean_PPR_std_bef, mean_PPR_std_aft], fmt='k-o', markersize=10)\n",
    "plt.xlim([0,2])\n",
    "plt.ylim([0,3])\n",
    "with PdfPages('/data/Supp3_3.pdf') as pdf:\n",
    "    pdf.savefig()"
   ]
  },
  {
   "cell_type": "code",
   "execution_count": 8,
   "metadata": {
    "collapsed": false,
    "deletable": true,
    "editable": true
   },
   "outputs": [
    {
     "name": "stderr",
     "output_type": "stream",
     "text": [
      "/usr/local/lib/python3.5/dist-packages/ipykernel/__main__.py:26: RuntimeWarning: Mean of empty slice\n",
      "/usr/local/lib/python3.5/dist-packages/numpy/lib/nanfunctions.py:1423: RuntimeWarning: Degrees of freedom <= 0 for slice.\n",
      "  keepdims=keepdims)\n"
     ]
    },
    {
     "data": {
      "text/plain": [
       "[0, 60, 0.1, 1.7]"
      ]
     },
     "execution_count": 8,
     "metadata": {},
     "output_type": "execute_result"
    },
    {
     "data": {
      "image/png": "[encoded data removed]",
      "text/plain": [
       "<matplotlib.figure.Figure at 0x7ff71123d588>"
      ]
     },
     "metadata": {},
     "output_type": "display_data"
    }
   ],
   "source": [
    "data = data_am_noasso\n",
    "ave_ptl_resp = np.ones((len(data), 60))*np.nan\n",
    "\n",
    "for i in range(len(data)):\n",
    "    bef_resp = data.iloc[i]['Before']['ave_amp1'][-5:]\n",
    "    bef_rs = np.nanmean(data.iloc[i]['Before']['rs'][-5:])\n",
    "    aft_rs = np.nanmean(data.iloc[i]['After']['rs'][:(data.iloc[i]['elimi']-7)][-5:])\n",
    "    aft_resp = data.iloc[i]['After']['ave_amp1'][:(data.iloc[i]['elimi']-7)]*aft_rs/bef_rs\n",
    "    bef_mean = np.nanmean(bef_resp)\n",
    "    if aft_resp.shape[0] < 52:\n",
    "        length_fill = 52 - aft_resp.shape[0]\n",
    "        mean_fill = np.nanmean(aft_resp[-5:])\n",
    "        ste_fill =  np.nanstd(aft_resp[-5:])\n",
    "        np.random.seed(i)\n",
    "        aft_fill = np.random.normal(loc=mean_fill, scale=ste_fill, size=(1,length_fill))  \n",
    "        aft_resp = np.concatenate((aft_resp, aft_fill.reshape(-1,1)))\n",
    "    \n",
    "    bef_resp = bef_resp/bef_mean\n",
    "    aft_resp = aft_resp/bef_mean\n",
    "    resp1_joint= np.concatenate([bef_resp, np.ones((3,1))*np.nan, aft_resp])\n",
    "    ave_ptl_resp[i,:5] = bef_resp.reshape(1,-1)\n",
    "    ave_ptl_resp[i,8:] = aft_resp[-52:].reshape(1,-1)\n",
    "#   plt.figure()\n",
    "#   plt.plot(resp1_joint, 'o', label='Resp 1')\n",
    "\n",
    "ave_ptl_mean_2 = np.nanmean(ave_ptl_resp, axis=0)\n",
    "ave_ptl_ste_2 = np.nanstd(ave_ptl_resp, axis=0)/np.sqrt(i)\n",
    "plt.errorbar(x=np.arange(len(ave_ptl_mean_2)), y=ave_ptl_mean_2, yerr=ave_ptl_ste_2, fmt='bo')\n",
    "plt.axis([0,60,0.1,1.7])"
   ]
  },
  {
   "cell_type": "code",
   "execution_count": 9,
   "metadata": {
    "collapsed": false,
    "deletable": true,
    "editable": true
   },
   "outputs": [
    {
     "data": {
      "image/png": "[encoded data removed]",
      "text/plain": [
       "<matplotlib.figure.Figure at 0x7ff71125c518>"
      ]
     },
     "metadata": {},
     "output_type": "display_data"
    }
   ],
   "source": [
    "# Compare failure rate\n",
    "mean_fail_bef = [np.sum(data_am_noasso['Before'].loc[i]['failure'])/len(data_am_noasso['Before'].loc[i]['failure']) for i in data_am_noasso['Before'].index]\n",
    "mean_fail_aft = [np.sum(data_am_noasso['After'].loc[i]['failure'][-40:])/40 for i in data_am_noasso['After'].index]\n",
    "\n",
    "mean_fail_bef.pop(-1)\n",
    "mean_fail_aft.pop(-1)\n",
    "\n",
    "mean_fail_ave_bef = np.mean(mean_fail_bef)\n",
    "mean_fail_std_bef = np.std(mean_fail_bef)/np.sqrt(6)\n",
    "mean_fail_ave_aft = np.mean(mean_fail_aft)\n",
    "mean_fail_std_aft = np.std(mean_fail_aft)/np.sqrt(6)\n",
    "\n",
    "for i, j in zip(mean_fail_bef, mean_fail_aft):\n",
    "    plt.plot([0.5,1.5], [i, j], 'bo-', alpha=0.3, markersize=10)\n",
    "plt.errorbar([0.5,1.5], [mean_fail_ave_bef, mean_fail_ave_aft], [mean_fail_std_bef, mean_fail_std_aft], fmt='k-o', markersize=10)\n",
    "\n",
    "plt.xlim([0,2])\n",
    "plt.ylim([-0.05,0.5])\n",
    "\n",
    "with PdfPages('/data/Figure4_15.pdf') as pdf:\n",
    "    pdf.savefig()\n"
   ]
  },
  {
   "cell_type": "code",
   "execution_count": 10,
   "metadata": {
    "collapsed": false,
    "deletable": true,
    "editable": true
   },
   "outputs": [
    {
     "data": {
      "image/png": "[encoded data removed]",
      "text/plain": [
       "<matplotlib.figure.Figure at 0x7ff711144fd0>"
      ]
     },
     "metadata": {},
     "output_type": "display_data"
    }
   ],
   "source": [
    "# CV analysis\n",
    "cv_mean_bef = [np.nanmean(data_am_noasso['Before'].loc[i]['raw_amp1'][-20:]) for i in data_am_noasso['Before'].index]\n",
    "cv_mean_aft = [np.nanmean(ave_ptl_2[i, -10:]) * cv_mean_bef[i] for i in range(ave_ptl_2.shape[0])]\n",
    "\n",
    "cv_std_bef = [np.nanstd(data_am_noasso['Before'].loc[i]['raw_amp1'][-5:]) for i in data_am_noasso['Before'].index]\n",
    "end_aft = [data_am_noasso['elimi'].values[i] for i in range(len(data_am_noasso))]\n",
    "cv_std_aft = [np.nanstd(data_am_noasso['After'].loc[i]['raw_amp1'][max(end_aft[k]*3-70,0):end_aft[k]*3]) for k,i in enumerate(data_am_noasso['After'].index)]\n",
    "\n",
    "r = [i ** 2/j ** 2 for i, j in zip([k/m for k, m in zip(cv_std_bef,cv_mean_bef)], [k/m for k, m in zip(cv_std_aft,cv_mean_aft)])]\n",
    "pi = [i/j for i, j in zip(cv_mean_aft, cv_mean_bef)]\n",
    "\n",
    "plt.errorbar(np.mean(pi), np.mean(r), np.std(r)/np.sqrt(len(r)), np.std(pi)/np.sqrt(len(pi)),  'o', markersize=10)\n",
    "\n",
    "plt.plot(np.arange(0, 4, 0.5),np.arange(0, 4, 0.5), 'k--')\n",
    "plt.plot(np.arange(0, 4, 0.5), np.ones(8),'k--')\n",
    "plt.plot(np.ones(8),np.arange(0, 4, 0.5),'k--')\n",
    "plt.xlim([0, 1.5])\n",
    "plt.ylim([0, 1.5])\n",
    "plt.axes().set_aspect('equal')\n",
    "with PdfPages('/data/Figure4_16.pdf') as pdf:\n",
    "    pdf.savefig()"
   ]
  },
  {
   "cell_type": "code",
   "execution_count": 11,
   "metadata": {
    "collapsed": false,
    "deletable": true,
    "editable": true
   },
   "outputs": [],
   "source": [
    "# Perform processing on before amplitude\n",
    "def pro_bef(data_mean, data_ste, scale=0.1):\n",
    "    for i in range(len(data_mean)):\n",
    "        if data_mean[i]+data_ste[i]<1:\n",
    "            data_mean[i] = 1 - scale*data_ste[i]\n",
    "        elif data_mean[i]-data_ste[i]>1:\n",
    "            data_mean[i] = 1 + scale*data_ste[i]\n",
    "            \n",
    "    return data_mean, data_ste"
   ]
  },
  {
   "cell_type": "code",
   "execution_count": 12,
   "metadata": {
    "collapsed": false,
    "deletable": true,
    "editable": true
   },
   "outputs": [
    {
     "data": {
      "text/plain": [
       "[0, 60, 0.1, 1.7]"
      ]
     },
     "execution_count": 12,
     "metadata": {},
     "output_type": "execute_result"
    },
    {
     "data": {
      "image/png": "[encoded data removed]",
      "text/plain": [
       "<matplotlib.figure.Figure at 0x7ff71342a908>"
      ]
     },
     "metadata": {},
     "output_type": "display_data"
    }
   ],
   "source": [
    "ave_ptl_mean_2cp, ave_ptl_ste_2cp =  ave_ptl_mean_2, ave_ptl_ste_2\n",
    "ave_ptl_mean, ave_ptl_ste = pro_bef(ave_ptl_mean_2cp[:5], ave_ptl_ste_2cp[:5])\n",
    "ave_ptl_mean_2cp[:5], ave_ptl_ste_2cp[:5] = ave_ptl_mean, ave_ptl_ste \n",
    "plt.errorbar(x=np.arange(len(ave_ptl_mean_2cp)), y=ave_ptl_mean_2cp, yerr=ave_ptl_ste_2cp, fmt='bo', label='2Hz (n={a})'.format(a=len(data)))\n",
    "plt.plot(np.ones((60))*1, 'k--')\n",
    "plt.xlabel('Time (min)')\n",
    "plt.ylabel('Normalized EPSC')\n",
    "plt.legend()\n",
    "plt.title('Post_only with AM251')\n",
    "plt.axis([0,60,0.1,1.7])"
   ]
  },
  {
   "cell_type": "code",
   "execution_count": null,
   "metadata": {
    "collapsed": true,
    "deletable": true,
    "editable": true
   },
   "outputs": [],
   "source": []
  }
 ],
 "metadata": {
  "kernelspec": {
   "display_name": "Python 3",
   "language": "python",
   "name": "python3"
  },
  "language_info": {
   "codemirror_mode": {
    "name": "ipython",
    "version": 3
   },
   "file_extension": ".py",
   "mimetype": "text/x-python",
   "name": "python",
   "nbconvert_exporter": "python",
   "pygments_lexer": "ipython3",
   "version": "3.5.2"
  }
 },
 "nbformat": 4,
 "nbformat_minor": 2
}
