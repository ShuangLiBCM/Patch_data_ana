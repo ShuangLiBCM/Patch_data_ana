{
 "cells": [
  {
   "cell_type": "code",
   "execution_count": 1,
   "metadata": {
    "collapsed": false,
    "deletable": true,
    "editable": true
   },
   "outputs": [],
   "source": [
    "import numpy as np\n",
    "import pandas as pd\n",
    "import scipy.io as sio\n",
    "import matplotlib.pyplot as plt\n",
    "from scipy.optimize import curve_fit\n",
    "import pdb\n",
    "from Patch_ana import patch_pip\n",
    "import seaborn as sns\n",
    "\n",
    "% matplotlib inline\n",
    "%load_ext autoreload\n",
    "% autoreload"
   ]
  },
  {
   "cell_type": "code",
   "execution_count": 2,
   "metadata": {
    "collapsed": false,
    "deletable": true,
    "editable": true
   },
   "outputs": [
    {
     "data": {
      "text/html": [
       "<div>\n",
       "<table border=\"1\" class=\"dataframe\">\n",
       "  <thead>\n",
       "    <tr style=\"text-align: right;\">\n",
       "      <th></th>\n",
       "      <th>File name</th>\n",
       "      <th>Age</th>\n",
       "      <th>Pip number</th>\n",
       "      <th>E-I</th>\n",
       "      <th>Reci</th>\n",
       "      <th>Artifact</th>\n",
       "      <th>IS100</th>\n",
       "      <th>Trial number before</th>\n",
       "      <th>Trial number after</th>\n",
       "      <th>Protocol</th>\n",
       "      <th>Elimi</th>\n",
       "      <th>Notes</th>\n",
       "      <th>Ptl_note</th>\n",
       "    </tr>\n",
       "  </thead>\n",
       "  <tbody>\n",
       "    <tr>\n",
       "      <th>0</th>\n",
       "      <td>2016072704</td>\n",
       "      <td>27</td>\n",
       "      <td>3</td>\n",
       "      <td>0</td>\n",
       "      <td>0</td>\n",
       "      <td>0</td>\n",
       "      <td>1</td>\n",
       "      <td>26,27,28,29</td>\n",
       "      <td>31,32,33,34,35,36</td>\n",
       "      <td>1</td>\n",
       "      <td>0</td>\n",
       "      <td>NaN</td>\n",
       "      <td>50Hz IE preonly</td>\n",
       "    </tr>\n",
       "    <tr>\n",
       "      <th>1</th>\n",
       "      <td>2017021501</td>\n",
       "      <td>30</td>\n",
       "      <td>3</td>\n",
       "      <td>0</td>\n",
       "      <td>0</td>\n",
       "      <td>0</td>\n",
       "      <td>2</td>\n",
       "      <td>12,13</td>\n",
       "      <td>16,17</td>\n",
       "      <td>1</td>\n",
       "      <td>0</td>\n",
       "      <td>NaN</td>\n",
       "      <td>50Hz IE preonly</td>\n",
       "    </tr>\n",
       "    <tr>\n",
       "      <th>2</th>\n",
       "      <td>2016091403</td>\n",
       "      <td>30</td>\n",
       "      <td>2</td>\n",
       "      <td>0</td>\n",
       "      <td>0</td>\n",
       "      <td>0</td>\n",
       "      <td>1</td>\n",
       "      <td>14,15</td>\n",
       "      <td>17,18</td>\n",
       "      <td>1</td>\n",
       "      <td>1</td>\n",
       "      <td>NaN</td>\n",
       "      <td>50Hz IE preonly</td>\n",
       "    </tr>\n",
       "    <tr>\n",
       "      <th>3</th>\n",
       "      <td>2017062202</td>\n",
       "      <td>24</td>\n",
       "      <td>1</td>\n",
       "      <td>0</td>\n",
       "      <td>0</td>\n",
       "      <td>0</td>\n",
       "      <td>1</td>\n",
       "      <td>30,31,32</td>\n",
       "      <td>34,35</td>\n",
       "      <td>1</td>\n",
       "      <td>0</td>\n",
       "      <td>No change, good data</td>\n",
       "      <td>50Hz IE preonly</td>\n",
       "    </tr>\n",
       "    <tr>\n",
       "      <th>4</th>\n",
       "      <td>2016072902</td>\n",
       "      <td>29</td>\n",
       "      <td>1</td>\n",
       "      <td>0</td>\n",
       "      <td>1</td>\n",
       "      <td>0</td>\n",
       "      <td>0</td>\n",
       "      <td>43</td>\n",
       "      <td>45,46,47,48,49</td>\n",
       "      <td>1</td>\n",
       "      <td>0</td>\n",
       "      <td>NaN</td>\n",
       "      <td>50Hz IE preonly</td>\n",
       "    </tr>\n",
       "  </tbody>\n",
       "</table>\n",
       "</div>"
      ],
      "text/plain": [
       "    File name  Age  Pip number  E-I  Reci  Artifact  IS100  \\\n",
       "0  2016072704   27           3    0     0         0      1   \n",
       "1  2017021501   30           3    0     0         0      2   \n",
       "2  2016091403   30           2    0     0         0      1   \n",
       "3  2017062202   24           1    0     0         0      1   \n",
       "4  2016072902   29           1    0     1         0      0   \n",
       "\n",
       "  Trial number before Trial number after  Protocol  Elimi  \\\n",
       "0         26,27,28,29  31,32,33,34,35,36         1      0   \n",
       "1               12,13              16,17         1      0   \n",
       "2               14,15              17,18         1      1   \n",
       "3            30,31,32              34,35         1      0   \n",
       "4                  43     45,46,47,48,49         1      0   \n",
       "\n",
       "                  Notes         Ptl_note  \n",
       "0                   NaN  50Hz IE preonly  \n",
       "1                   NaN  50Hz IE preonly  \n",
       "2                   NaN  50Hz IE preonly  \n",
       "3  No change, good data  50Hz IE preonly  \n",
       "4                   NaN  50Hz IE preonly  "
      ]
     },
     "execution_count": 2,
     "metadata": {},
     "output_type": "execute_result"
    }
   ],
   "source": [
    "data= pd.read_csv('/data/Good data_store.csv')\n",
    "data.head()"
   ]
  },
  {
   "cell_type": "code",
   "execution_count": 3,
   "metadata": {
    "collapsed": false,
    "deletable": true,
    "editable": true
   },
   "outputs": [
    {
     "name": "stdout",
     "output_type": "stream",
     "text": [
      "/data\n"
     ]
    }
   ],
   "source": [
    "cd /data"
   ]
  },
  {
   "cell_type": "code",
   "execution_count": 4,
   "metadata": {
    "collapsed": false,
    "deletable": true,
    "editable": true
   },
   "outputs": [
    {
     "data": {
      "text/plain": [
       "50Hz EI high freq       12\n",
       "E_I_2Hz_associative     12\n",
       "50Hz IE high freq       12\n",
       "50Hz EI preonly         12\n",
       "EI_antihebbian          10\n",
       "50Hz EI postonly        10\n",
       "EI_low high             10\n",
       "50Hz IE postonly         9\n",
       "50Hz IE preonly          9\n",
       "E_I_2Hz_Associ_2AG       8\n",
       "No ptl                   7\n",
       "E_I_preonly_low          7\n",
       "E_I_2Hz_POST_2AG         7\n",
       "E_i_postsynapti_low      6\n",
       " Naspm 100 uM            5\n",
       "EI_high_low              5\n",
       "50Hz II high freq        5\n",
       "IE_high low              4\n",
       "IE_high_low              4\n",
       "Naspm 100 uM             2\n",
       "pre only after Naspm     1\n",
       "50 Hz II preonly         1\n",
       "50 hZ II preonly         1\n",
       "Name: Ptl_note, dtype: int64"
      ]
     },
     "execution_count": 4,
     "metadata": {},
     "output_type": "execute_result"
    }
   ],
   "source": [
    "data['Ptl_note'].value_counts()"
   ]
  },
  {
   "cell_type": "code",
   "execution_count": 19,
   "metadata": {
    "collapsed": false,
    "deletable": true,
    "editable": true
   },
   "outputs": [],
   "source": [
    "data_am_nonasso = data[(data['Ptl_note']=='E_I_2Hz_POST_2AG')]"
   ]
  },
  {
   "cell_type": "code",
   "execution_count": 20,
   "metadata": {
    "collapsed": false
   },
   "outputs": [
    {
     "name": "stderr",
     "output_type": "stream",
     "text": [
      "/usr/local/lib/python3.5/dist-packages/ipykernel/__main__.py:1: SettingWithCopyWarning: \n",
      "A value is trying to be set on a copy of a slice from a DataFrame\n",
      "\n",
      "See the caveats in the documentation: http://pandas.pydata.org/pandas-docs/stable/indexing.html#indexing-view-versus-copy\n",
      "  if __name__ == '__main__':\n"
     ]
    }
   ],
   "source": [
    "data_am_nonasso.drop(149, axis=0, inplace=True)"
   ]
  },
  {
   "cell_type": "code",
   "execution_count": 21,
   "metadata": {
    "collapsed": false,
    "deletable": true,
    "editable": true
   },
   "outputs": [
    {
     "data": {
      "text/html": [
       "<div>\n",
       "<table border=\"1\" class=\"dataframe\">\n",
       "  <thead>\n",
       "    <tr style=\"text-align: right;\">\n",
       "      <th></th>\n",
       "      <th>File name</th>\n",
       "      <th>Age</th>\n",
       "      <th>Pip number</th>\n",
       "      <th>E-I</th>\n",
       "      <th>Reci</th>\n",
       "      <th>Artifact</th>\n",
       "      <th>IS100</th>\n",
       "      <th>Trial number before</th>\n",
       "      <th>Trial number after</th>\n",
       "      <th>Protocol</th>\n",
       "      <th>Elimi</th>\n",
       "      <th>Notes</th>\n",
       "      <th>Ptl_note</th>\n",
       "    </tr>\n",
       "  </thead>\n",
       "  <tbody>\n",
       "    <tr>\n",
       "      <th>147</th>\n",
       "      <td>2017112801</td>\n",
       "      <td>30</td>\n",
       "      <td>2</td>\n",
       "      <td>1</td>\n",
       "      <td>1</td>\n",
       "      <td>0</td>\n",
       "      <td>1</td>\n",
       "      <td>5,6</td>\n",
       "      <td>8,9,10,11</td>\n",
       "      <td>20</td>\n",
       "      <td>5</td>\n",
       "      <td>Weak LTD</td>\n",
       "      <td>E_I_2Hz_POST_2AG</td>\n",
       "    </tr>\n",
       "    <tr>\n",
       "      <th>148</th>\n",
       "      <td>2017112901</td>\n",
       "      <td>30</td>\n",
       "      <td>2</td>\n",
       "      <td>1</td>\n",
       "      <td>1</td>\n",
       "      <td>0</td>\n",
       "      <td>1</td>\n",
       "      <td>43</td>\n",
       "      <td>45,46,47,48,49</td>\n",
       "      <td>20</td>\n",
       "      <td>0</td>\n",
       "      <td>Weak LTD</td>\n",
       "      <td>E_I_2Hz_POST_2AG</td>\n",
       "    </tr>\n",
       "    <tr>\n",
       "      <th>150</th>\n",
       "      <td>2017120701</td>\n",
       "      <td>24</td>\n",
       "      <td>2</td>\n",
       "      <td>1</td>\n",
       "      <td>1</td>\n",
       "      <td>0</td>\n",
       "      <td>1</td>\n",
       "      <td>33,34</td>\n",
       "      <td>36,37,38,39</td>\n",
       "      <td>20</td>\n",
       "      <td>5</td>\n",
       "      <td>No change</td>\n",
       "      <td>E_I_2Hz_POST_2AG</td>\n",
       "    </tr>\n",
       "    <tr>\n",
       "      <th>151</th>\n",
       "      <td>2017120702</td>\n",
       "      <td>24</td>\n",
       "      <td>3</td>\n",
       "      <td>1</td>\n",
       "      <td>1</td>\n",
       "      <td>0</td>\n",
       "      <td>1</td>\n",
       "      <td>21,22</td>\n",
       "      <td>24,25,26,27,28,29</td>\n",
       "      <td>20</td>\n",
       "      <td>5</td>\n",
       "      <td>No change</td>\n",
       "      <td>E_I_2Hz_POST_2AG</td>\n",
       "    </tr>\n",
       "    <tr>\n",
       "      <th>152</th>\n",
       "      <td>2017121101</td>\n",
       "      <td>27</td>\n",
       "      <td>2</td>\n",
       "      <td>1</td>\n",
       "      <td>1</td>\n",
       "      <td>0</td>\n",
       "      <td>1</td>\n",
       "      <td>5,6,7,8,9</td>\n",
       "      <td>11,12,13,14</td>\n",
       "      <td>20</td>\n",
       "      <td>3</td>\n",
       "      <td>No change</td>\n",
       "      <td>E_I_2Hz_POST_2AG</td>\n",
       "    </tr>\n",
       "    <tr>\n",
       "      <th>153</th>\n",
       "      <td>2017121102</td>\n",
       "      <td>27</td>\n",
       "      <td>3</td>\n",
       "      <td>1</td>\n",
       "      <td>1</td>\n",
       "      <td>0</td>\n",
       "      <td>1</td>\n",
       "      <td>24,25,26,27,28</td>\n",
       "      <td>30,31,32,33</td>\n",
       "      <td>20</td>\n",
       "      <td>0</td>\n",
       "      <td>No change</td>\n",
       "      <td>E_I_2Hz_POST_2AG</td>\n",
       "    </tr>\n",
       "  </tbody>\n",
       "</table>\n",
       "</div>"
      ],
      "text/plain": [
       "      File name  Age  Pip number  E-I  Reci  Artifact  IS100  \\\n",
       "147  2017112801   30           2    1     1         0      1   \n",
       "148  2017112901   30           2    1     1         0      1   \n",
       "150  2017120701   24           2    1     1         0      1   \n",
       "151  2017120702   24           3    1     1         0      1   \n",
       "152  2017121101   27           2    1     1         0      1   \n",
       "153  2017121102   27           3    1     1         0      1   \n",
       "\n",
       "    Trial number before Trial number after  Protocol  Elimi      Notes  \\\n",
       "147                 5,6          8,9,10,11        20      5   Weak LTD   \n",
       "148                  43     45,46,47,48,49        20      0   Weak LTD   \n",
       "150               33,34        36,37,38,39        20      5  No change   \n",
       "151               21,22  24,25,26,27,28,29        20      5  No change   \n",
       "152           5,6,7,8,9        11,12,13,14        20      3  No change   \n",
       "153      24,25,26,27,28        30,31,32,33        20      0  No change   \n",
       "\n",
       "             Ptl_note  \n",
       "147  E_I_2Hz_POST_2AG  \n",
       "148  E_I_2Hz_POST_2AG  \n",
       "150  E_I_2Hz_POST_2AG  \n",
       "151  E_I_2Hz_POST_2AG  \n",
       "152  E_I_2Hz_POST_2AG  \n",
       "153  E_I_2Hz_POST_2AG  "
      ]
     },
     "execution_count": 21,
     "metadata": {},
     "output_type": "execute_result"
    }
   ],
   "source": [
    "data_am_nonasso"
   ]
  },
  {
   "cell_type": "code",
   "execution_count": 22,
   "metadata": {
    "collapsed": false,
    "deletable": true,
    "editable": true
   },
   "outputs": [],
   "source": [
    "# # Process all the before trial\n",
    "isi=1   # Use only the 100 ms\n",
    "trial_output = {}\n",
    "\n",
    "data_tmp = data_am_nonasso\n",
    "for j in range(len(data_tmp)):\n",
    "    test_name = str(int(data_tmp['File name'].iloc[j]))\n",
    "    if len(test_name)==12:\n",
    "        test_name = test_name[:-2]\n",
    "    test_name = 'test'+ test_name\n",
    "    test_data = sio.loadmat(test_name)\n",
    "    test_pip = data_tmp.iloc[j]['Pip number']\n",
    "    test_trace_idx_bef = data_tmp.iloc[j]['Trial number before']\n",
    "    test_trace_idx_aft = data_tmp.iloc[j]['Trial number after']\n",
    "    ifartifact = data_tmp.iloc[j]['Artifact']\n",
    "    isi = data_tmp.iloc[j]['IS100']\n",
    "    bef_index = [int(s)-1 for s in str.split(test_trace_idx_bef, ',')]\n",
    "    aft_index = [int(s)-1 for s in str.split(test_trace_idx_aft, ',')]\n",
    "    trial_output[data_tmp['File name'].iloc[j].astype(str)]= patch_pip.bef_aft_ana(trial=test_data['test'][0], bef_index=bef_index, aft_index=aft_index, test_pip=test_pip, isi=isi, ifartifact=ifartifact, ave_len=3,  iffigure=0)\n",
    "\n",
    "data_am_nonasso = pd.DataFrame(trial_output, index=['Before', 'After']).transpose()\n",
    "data_am_nonasso.to_pickle('data_am_nonasso')"
   ]
  },
  {
   "cell_type": "code",
   "execution_count": 23,
   "metadata": {
    "collapsed": true,
    "deletable": true,
    "editable": true
   },
   "outputs": [],
   "source": [
    "data_am_nonasso = pd.read_pickle('data_am_nonasso')"
   ]
  },
  {
   "cell_type": "code",
   "execution_count": 24,
   "metadata": {
    "collapsed": false,
    "deletable": true,
    "editable": true
   },
   "outputs": [
    {
     "data": {
      "text/plain": [
       "<matplotlib.figure.Figure at 0x7fa2360df128>"
      ]
     },
     "metadata": {},
     "output_type": "display_data"
    },
    {
     "name": "stderr",
     "output_type": "stream",
     "text": [
      "/usr/local/lib/python3.5/dist-packages/matplotlib/font_manager.py:1297: UserWarning: findfont: Font family ['sans-serif'] not found. Falling back to DejaVu Sans\n",
      "  (prop.get_family(), self.defaultFamily[fontext]))\n"
     ]
    },
    {
     "data": {
      "image/png": "[encoded data removed]",
      "text/plain": [
       "<matplotlib.figure.Figure at 0x7fa236112be0>"
      ]
     },
     "metadata": {},
     "output_type": "display_data"
    },
    {
     "data": {
      "text/plain": [
       "<matplotlib.figure.Figure at 0x7fa235f06a58>"
      ]
     },
     "metadata": {},
     "output_type": "display_data"
    },
    {
     "data": {
      "image/png": "[encoded data removed]",
      "text/plain": [
       "<matplotlib.figure.Figure at 0x7fa235ed5940>"
      ]
     },
     "metadata": {},
     "output_type": "display_data"
    },
    {
     "data": {
      "text/plain": [
       "<matplotlib.figure.Figure at 0x7fa235f93550>"
      ]
     },
     "metadata": {},
     "output_type": "display_data"
    },
    {
     "data": {
      "image/png": "[encoded data removed]",
      "text/plain": [
       "<matplotlib.figure.Figure at 0x7fa235f93ac8>"
      ]
     },
     "metadata": {},
     "output_type": "display_data"
    },
    {
     "data": {
      "text/plain": [
       "<matplotlib.figure.Figure at 0x7fa235ecc5f8>"
      ]
     },
     "metadata": {},
     "output_type": "display_data"
    },
    {
     "data": {
      "image/png": "[encoded data removed]",
      "text/plain": [
       "<matplotlib.figure.Figure at 0x7fa235eccf28>"
      ]
     },
     "metadata": {},
     "output_type": "display_data"
    },
    {
     "data": {
      "text/plain": [
       "<matplotlib.figure.Figure at 0x7fa235f81e10>"
      ]
     },
     "metadata": {},
     "output_type": "display_data"
    },
    {
     "data": {
      "image/png": "[encoded data removed]",
      "text/plain": [
       "<matplotlib.figure.Figure at 0x7fa235ef10b8>"
      ]
     },
     "metadata": {},
     "output_type": "display_data"
    },
    {
     "data": {
      "text/plain": [
       "<matplotlib.figure.Figure at 0x7fa233ce56d8>"
      ]
     },
     "metadata": {},
     "output_type": "display_data"
    },
    {
     "data": {
      "image/png": "[encoded data removed]",
      "text/plain": [
       "<matplotlib.figure.Figure at 0x7fa233ce5a20>"
      ]
     },
     "metadata": {},
     "output_type": "display_data"
    }
   ],
   "source": [
    "data_ana = data_am_nonasso\n",
    "ave_ptl_resp = np.zeros((len(data_ana), 60))\n",
    "\n",
    "for i in range(len(data_ana)):\n",
    "    bef_amp1 = data_ana.iloc[i]['Before']['ave_amp1'][-5:]\n",
    "    aft_amp1 = data_ana.iloc[i]['After']['ave_amp1']\n",
    "    bef_amp2 = data_ana.iloc[i]['Before']['ave_amp2'][-5:]\n",
    "    aft_amp2 = data_ana.iloc[i]['After']['ave_amp2']\n",
    "    bef_rs = data_ana.iloc[i]['Before']['rs'][-5:]\n",
    "    aft_rs = data_ana.iloc[i]['After']['rs']\n",
    "    bef_ir = data_ana.iloc[i]['Before']['ir'][-5:]\n",
    "    aft_ir = data_ana.iloc[i]['After']['ir']\n",
    "    rs_joint= np.concatenate([bef_rs, np.ones((3,1))*np.nan, aft_rs])\n",
    "    ir_joint= np.concatenate([bef_ir, np.ones((3,1))*np.nan, aft_ir])\n",
    "    resp1_joint= np.concatenate([bef_amp1, np.ones((3,1))*np.nan, aft_amp1])\n",
    "    resp2_joint = np.concatenate([bef_amp2, np.ones((3,1))*np.nan, aft_amp2])\n",
    "    ave_ptl_resp[i,:5] = bef_amp1[-5:].reshape(1,-1)\n",
    "    end_trace = np.min((48, len(aft_amp1)))\n",
    "    ave_ptl_resp[i,12:12+end_trace] = aft_amp1[:end_trace].reshape(1,-1)\n",
    "    plt.figure()\n",
    "    fig, ax = plt.subplots(2,1)\n",
    "    ax[0].plot(resp1_joint, 'o', label='Resp 1')\n",
    "    ax[0].plot(resp2_joint, 'o', label='Resp 2')\n",
    "    ax[0].legend(loc='upper right')\n",
    "    ax[1].plot(rs_joint, 'o', label='Rs')\n",
    "    ax[1].plot(ir_joint, 'o', label='Rin')\n",
    "    ax[1].legend(loc='upper right')\n",
    "    \n",
    "ave_ptl_mean = np.nanmean(ave_ptl_resp, axis=0)\n",
    "ave_ptl_ste = np.nanstd(ave_ptl_resp, axis=0)/np.sqrt(i)"
   ]
  },
  {
   "cell_type": "code",
   "execution_count": 25,
   "metadata": {
    "collapsed": false,
    "deletable": true,
    "editable": true
   },
   "outputs": [
    {
     "data": {
      "text/plain": [
       "<Container object of 3 artists>"
      ]
     },
     "execution_count": 25,
     "metadata": {},
     "output_type": "execute_result"
    },
    {
     "name": "stderr",
     "output_type": "stream",
     "text": [
      "/usr/local/lib/python3.5/dist-packages/matplotlib/font_manager.py:1297: UserWarning: findfont: Font family ['sans-serif'] not found. Falling back to DejaVu Sans\n",
      "  (prop.get_family(), self.defaultFamily[fontext]))\n"
     ]
    },
    {
     "data": {
      "image/png": "[encoded data removed]",
      "text/plain": [
       "<matplotlib.figure.Figure at 0x7fa2362a9dd8>"
      ]
     },
     "metadata": {},
     "output_type": "display_data"
    }
   ],
   "source": [
    "plt.errorbar(x=np.arange(len(ave_ptl_mean)), y=ave_ptl_mean, yerr=ave_ptl_ste, fmt='bo')"
   ]
  },
  {
   "cell_type": "code",
   "execution_count": 27,
   "metadata": {
    "collapsed": false,
    "deletable": true,
    "editable": true
   },
   "outputs": [],
   "source": [
    "elimi = np.array([30,30,30, 30, 35, 17])\n",
    "elimi_sr = pd.Series(elimi, index=data_am_nonasso.index)\n",
    "data_am_nonasso['elimi']=elimi_sr"
   ]
  },
  {
   "cell_type": "code",
   "execution_count": 28,
   "metadata": {
    "collapsed": true,
    "deletable": true,
    "editable": true
   },
   "outputs": [],
   "source": [
    "data_am_nonasso.to_pickle('ana_am_nonasso')"
   ]
  },
  {
   "cell_type": "code",
   "execution_count": null,
   "metadata": {
    "collapsed": true,
    "deletable": true,
    "editable": true
   },
   "outputs": [],
   "source": []
  }
 ],
 "metadata": {
  "kernelspec": {
   "display_name": "Python 3",
   "language": "python",
   "name": "python3"
  },
  "language_info": {
   "codemirror_mode": {
    "name": "ipython",
    "version": 3
   },
   "file_extension": ".py",
   "mimetype": "text/x-python",
   "name": "python",
   "nbconvert_exporter": "python",
   "pygments_lexer": "ipython3",
   "version": "3.5.2"
  }
 },
 "nbformat": 4,
 "nbformat_minor": 2
}
