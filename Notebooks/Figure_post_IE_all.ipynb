{
 "cells": [
  {
   "cell_type": "code",
   "execution_count": 1,
   "metadata": {
    "collapsed": false,
    "deletable": true,
    "editable": true
   },
   "outputs": [],
   "source": [
    "import numpy as np\n",
    "import pandas as pd\n",
    "import scipy.io as sio\n",
    "import matplotlib.pyplot as plt\n",
    "from scipy.optimize import curve_fit\n",
    "import pdb\n",
    "from Patch_ana import patch_pip\n",
    "import seaborn as sns\n",
    "\n",
    "% matplotlib inline\n",
    "%load_ext autoreload\n",
    "% autoreload 2"
   ]
  },
  {
   "cell_type": "code",
   "execution_count": 2,
   "metadata": {
    "collapsed": false,
    "deletable": true,
    "editable": true
   },
   "outputs": [],
   "source": [
    "pre_IE50_reci = pd.read_pickle('/data/ana_post_IE50Hz_reci')\n",
    "pre_IE50_uni = pd.read_pickle('/data/ana_post_IE50Hz_uni')\n",
    "pre_IE50 = pd.read_pickle('/data/ana_post_IE50Hz')"
   ]
  },
  {
   "cell_type": "code",
   "execution_count": 3,
   "metadata": {
    "collapsed": false,
    "deletable": true,
    "editable": true
   },
   "outputs": [
    {
     "data": {
      "text/html": [
       "<div>\n",
       "<table border=\"1\" class=\"dataframe\">\n",
       "  <thead>\n",
       "    <tr style=\"text-align: right;\">\n",
       "      <th></th>\n",
       "      <th>Before</th>\n",
       "      <th>After</th>\n",
       "      <th>File name</th>\n",
       "      <th>elimi</th>\n",
       "    </tr>\n",
       "  </thead>\n",
       "  <tbody>\n",
       "    <tr>\n",
       "      <th>25</th>\n",
       "      <td>{'rs': [[9.02640397835], [8.76712012442], [8.5...</td>\n",
       "      <td>{'rs': [[7.20642199664], [7.19112389162], [7.1...</td>\n",
       "      <td>2017032202</td>\n",
       "      <td>20</td>\n",
       "    </tr>\n",
       "    <tr>\n",
       "      <th>26</th>\n",
       "      <td>{'rs': [[9.95058101283], [9.76072764448], [9.6...</td>\n",
       "      <td>{'rs': [[11.9252212025], [16.2093571135], [10....</td>\n",
       "      <td>2017032403</td>\n",
       "      <td>25</td>\n",
       "    </tr>\n",
       "    <tr>\n",
       "      <th>27</th>\n",
       "      <td>{'rs': [[10.5663134789], [10.5119989745], [10....</td>\n",
       "      <td>{'rs': [[11.1585920206], [11.4148170524], [11....</td>\n",
       "      <td>2017032902</td>\n",
       "      <td>25</td>\n",
       "    </tr>\n",
       "    <tr>\n",
       "      <th>28</th>\n",
       "      <td>{'rs': [[nan], [nan], [nan], [9.29331587509], ...</td>\n",
       "      <td>{'rs': [[9.35859652493], [9.46787951188], [9.4...</td>\n",
       "      <td>2017042701</td>\n",
       "      <td>10</td>\n",
       "    </tr>\n",
       "    <tr>\n",
       "      <th>29</th>\n",
       "      <td>{'rs': [[8.54513659771], [8.4050431087], [8.35...</td>\n",
       "      <td>{'rs': [[8.95261158559], [8.97534077975], [9.0...</td>\n",
       "      <td>2017032203</td>\n",
       "      <td>15</td>\n",
       "    </tr>\n",
       "  </tbody>\n",
       "</table>\n",
       "</div>"
      ],
      "text/plain": [
       "                                               Before  \\\n",
       "25  {'rs': [[9.02640397835], [8.76712012442], [8.5...   \n",
       "26  {'rs': [[9.95058101283], [9.76072764448], [9.6...   \n",
       "27  {'rs': [[10.5663134789], [10.5119989745], [10....   \n",
       "28  {'rs': [[nan], [nan], [nan], [9.29331587509], ...   \n",
       "29  {'rs': [[8.54513659771], [8.4050431087], [8.35...   \n",
       "\n",
       "                                                After   File name  elimi  \n",
       "25  {'rs': [[7.20642199664], [7.19112389162], [7.1...  2017032202     20  \n",
       "26  {'rs': [[11.9252212025], [16.2093571135], [10....  2017032403     25  \n",
       "27  {'rs': [[11.1585920206], [11.4148170524], [11....  2017032902     25  \n",
       "28  {'rs': [[9.35859652493], [9.46787951188], [9.4...  2017042701     10  \n",
       "29  {'rs': [[8.95261158559], [8.97534077975], [9.0...  2017032203     15  "
      ]
     },
     "execution_count": 3,
     "metadata": {},
     "output_type": "execute_result"
    }
   ],
   "source": [
    "pre_IE50_reci"
   ]
  },
  {
   "cell_type": "code",
   "execution_count": 4,
   "metadata": {
    "collapsed": false,
    "deletable": true,
    "editable": true
   },
   "outputs": [
    {
     "data": {
      "text/html": [
       "<div>\n",
       "<table border=\"1\" class=\"dataframe\">\n",
       "  <thead>\n",
       "    <tr style=\"text-align: right;\">\n",
       "      <th></th>\n",
       "      <th>Before</th>\n",
       "      <th>After</th>\n",
       "      <th>File name</th>\n",
       "      <th>elimi</th>\n",
       "    </tr>\n",
       "  </thead>\n",
       "  <tbody>\n",
       "    <tr>\n",
       "      <th>21</th>\n",
       "      <td>{'rs': [[7.18475307623], [7.17279118289], [7.2...</td>\n",
       "      <td>{'rs': [[6.95086141981], [6.91487127097], [6.8...</td>\n",
       "      <td>2017032901</td>\n",
       "      <td>20</td>\n",
       "    </tr>\n",
       "    <tr>\n",
       "      <th>22</th>\n",
       "      <td>{'rs': [[10.0068216917], [10.4775174982], [10....</td>\n",
       "      <td>{'rs': [[10.5971954741], [10.4820175917], [10....</td>\n",
       "      <td>2017042401</td>\n",
       "      <td>15</td>\n",
       "    </tr>\n",
       "    <tr>\n",
       "      <th>23</th>\n",
       "      <td>{'rs': [[nan], [11.6428388831], [11.2472687155...</td>\n",
       "      <td>{'rs': [[11.4797907157], [11.452967448], [11.3...</td>\n",
       "      <td>2017042402</td>\n",
       "      <td>20</td>\n",
       "    </tr>\n",
       "    <tr>\n",
       "      <th>24</th>\n",
       "      <td>{'rs': [[12.4609466874], [13.4809876462], [14....</td>\n",
       "      <td>{'rs': [[14.5593916022], [15.3314123046], [15....</td>\n",
       "      <td>2017062203</td>\n",
       "      <td>35</td>\n",
       "    </tr>\n",
       "  </tbody>\n",
       "</table>\n",
       "</div>"
      ],
      "text/plain": [
       "                                               Before  \\\n",
       "21  {'rs': [[7.18475307623], [7.17279118289], [7.2...   \n",
       "22  {'rs': [[10.0068216917], [10.4775174982], [10....   \n",
       "23  {'rs': [[nan], [11.6428388831], [11.2472687155...   \n",
       "24  {'rs': [[12.4609466874], [13.4809876462], [14....   \n",
       "\n",
       "                                                After   File name  elimi  \n",
       "21  {'rs': [[6.95086141981], [6.91487127097], [6.8...  2017032901     20  \n",
       "22  {'rs': [[10.5971954741], [10.4820175917], [10....  2017042401     15  \n",
       "23  {'rs': [[11.4797907157], [11.452967448], [11.3...  2017042402     20  \n",
       "24  {'rs': [[14.5593916022], [15.3314123046], [15....  2017062203     35  "
      ]
     },
     "execution_count": 4,
     "metadata": {},
     "output_type": "execute_result"
    }
   ],
   "source": [
    "pre_IE50_uni"
   ]
  },
  {
   "cell_type": "code",
   "execution_count": 5,
   "metadata": {
    "collapsed": false,
    "deletable": true,
    "editable": true
   },
   "outputs": [
    {
     "data": {
      "text/html": [
       "<div>\n",
       "<table border=\"1\" class=\"dataframe\">\n",
       "  <thead>\n",
       "    <tr style=\"text-align: right;\">\n",
       "      <th></th>\n",
       "      <th>Before</th>\n",
       "      <th>After</th>\n",
       "      <th>File name</th>\n",
       "      <th>elimi</th>\n",
       "    </tr>\n",
       "  </thead>\n",
       "  <tbody>\n",
       "    <tr>\n",
       "      <th>21</th>\n",
       "      <td>{'rs': [[7.18475307623], [7.17279118289], [7.2...</td>\n",
       "      <td>{'rs': [[6.95086141981], [6.91487127097], [6.8...</td>\n",
       "      <td>2017032901</td>\n",
       "      <td>20</td>\n",
       "    </tr>\n",
       "    <tr>\n",
       "      <th>22</th>\n",
       "      <td>{'rs': [[10.0068216917], [10.4775174982], [10....</td>\n",
       "      <td>{'rs': [[10.5971954741], [10.4820175917], [10....</td>\n",
       "      <td>2017042401</td>\n",
       "      <td>20</td>\n",
       "    </tr>\n",
       "    <tr>\n",
       "      <th>23</th>\n",
       "      <td>{'rs': [[nan], [11.6428388831], [11.2472687155...</td>\n",
       "      <td>{'rs': [[11.4797907157], [11.452967448], [11.3...</td>\n",
       "      <td>2017042402</td>\n",
       "      <td>20</td>\n",
       "    </tr>\n",
       "    <tr>\n",
       "      <th>24</th>\n",
       "      <td>{'rs': [[12.4609466874], [13.4809876462], [14....</td>\n",
       "      <td>{'rs': [[14.5593916022], [15.3314123046], [15....</td>\n",
       "      <td>2017062203</td>\n",
       "      <td>35</td>\n",
       "    </tr>\n",
       "    <tr>\n",
       "      <th>25</th>\n",
       "      <td>{'rs': [[9.02640397835], [8.76712012442], [8.5...</td>\n",
       "      <td>{'rs': [[7.20642199664], [7.19112389162], [7.1...</td>\n",
       "      <td>2017032202</td>\n",
       "      <td>20</td>\n",
       "    </tr>\n",
       "    <tr>\n",
       "      <th>26</th>\n",
       "      <td>{'rs': [[9.95058101283], [9.76072764448], [9.6...</td>\n",
       "      <td>{'rs': [[11.9252212025], [16.2093571135], [10....</td>\n",
       "      <td>2017032403</td>\n",
       "      <td>25</td>\n",
       "    </tr>\n",
       "    <tr>\n",
       "      <th>27</th>\n",
       "      <td>{'rs': [[10.5663134789], [10.5119989745], [10....</td>\n",
       "      <td>{'rs': [[11.1585920206], [11.4148170524], [11....</td>\n",
       "      <td>2017032902</td>\n",
       "      <td>25</td>\n",
       "    </tr>\n",
       "    <tr>\n",
       "      <th>28</th>\n",
       "      <td>{'rs': [[nan], [nan], [nan], [9.29331587509], ...</td>\n",
       "      <td>{'rs': [[9.35859652493], [9.46787951188], [9.4...</td>\n",
       "      <td>2017042701</td>\n",
       "      <td>10</td>\n",
       "    </tr>\n",
       "    <tr>\n",
       "      <th>29</th>\n",
       "      <td>{'rs': [[8.54513659771], [8.4050431087], [8.35...</td>\n",
       "      <td>{'rs': [[8.95261158559], [8.97534077975], [9.0...</td>\n",
       "      <td>2017032203</td>\n",
       "      <td>15</td>\n",
       "    </tr>\n",
       "  </tbody>\n",
       "</table>\n",
       "</div>"
      ],
      "text/plain": [
       "                                               Before  \\\n",
       "21  {'rs': [[7.18475307623], [7.17279118289], [7.2...   \n",
       "22  {'rs': [[10.0068216917], [10.4775174982], [10....   \n",
       "23  {'rs': [[nan], [11.6428388831], [11.2472687155...   \n",
       "24  {'rs': [[12.4609466874], [13.4809876462], [14....   \n",
       "25  {'rs': [[9.02640397835], [8.76712012442], [8.5...   \n",
       "26  {'rs': [[9.95058101283], [9.76072764448], [9.6...   \n",
       "27  {'rs': [[10.5663134789], [10.5119989745], [10....   \n",
       "28  {'rs': [[nan], [nan], [nan], [9.29331587509], ...   \n",
       "29  {'rs': [[8.54513659771], [8.4050431087], [8.35...   \n",
       "\n",
       "                                                After   File name  elimi  \n",
       "21  {'rs': [[6.95086141981], [6.91487127097], [6.8...  2017032901     20  \n",
       "22  {'rs': [[10.5971954741], [10.4820175917], [10....  2017042401     20  \n",
       "23  {'rs': [[11.4797907157], [11.452967448], [11.3...  2017042402     20  \n",
       "24  {'rs': [[14.5593916022], [15.3314123046], [15....  2017062203     35  \n",
       "25  {'rs': [[7.20642199664], [7.19112389162], [7.1...  2017032202     20  \n",
       "26  {'rs': [[11.9252212025], [16.2093571135], [10....  2017032403     25  \n",
       "27  {'rs': [[11.1585920206], [11.4148170524], [11....  2017032902     25  \n",
       "28  {'rs': [[9.35859652493], [9.46787951188], [9.4...  2017042701     10  \n",
       "29  {'rs': [[8.95261158559], [8.97534077975], [9.0...  2017032203     15  "
      ]
     },
     "execution_count": 5,
     "metadata": {},
     "output_type": "execute_result"
    }
   ],
   "source": [
    "pre_IE50"
   ]
  },
  {
   "cell_type": "code",
   "execution_count": 6,
   "metadata": {
    "collapsed": false,
    "deletable": true,
    "editable": true
   },
   "outputs": [
    {
     "name": "stderr",
     "output_type": "stream",
     "text": [
      "/src/Patch_ana/Patch_ana/patch_pip.py:471: RuntimeWarning: Mean of empty slice\n",
      "  ave_ptl_mean = np.nanmean(ave_ptl_resp, axis=0)\n",
      "/usr/local/lib/python3.5/dist-packages/numpy/lib/nanfunctions.py:1423: RuntimeWarning: Degrees of freedom <= 0 for slice.\n",
      "  keepdims=keepdims)\n"
     ]
    },
    {
     "data": {
      "text/plain": [
       "<Container object of 3 artists>"
      ]
     },
     "execution_count": 6,
     "metadata": {},
     "output_type": "execute_result"
    },
    {
     "name": "stderr",
     "output_type": "stream",
     "text": [
      "/usr/local/lib/python3.5/dist-packages/matplotlib/font_manager.py:1297: UserWarning: findfont: Font family ['sans-serif'] not found. Falling back to DejaVu Sans\n",
      "  (prop.get_family(), self.defaultFamily[fontext]))\n"
     ]
    },
    {
     "data": {
      "image/png": "[encoded data removed]",
      "text/plain": [
       "<matplotlib.figure.Figure at 0x7f3d45a3d5c0>"
      ]
     },
     "metadata": {},
     "output_type": "display_data"
    }
   ],
   "source": [
    "ave_ptl_resp = np.ones((len(pre_IE50_reci), 60))*np.nan\n",
    "\n",
    "ave_ptl_mean_50reci,ave_ptl_ste_50reci = patch_pip.samp_ave(pre_IE50_reci, ave_ptl_resp)\n",
    "plt.errorbar(x=np.arange(len(ave_ptl_mean_50reci)), y=ave_ptl_mean_50reci, yerr=ave_ptl_ste_50reci, fmt='bo')\n",
    "\n",
    "ave_ptl_resp = np.ones((len(pre_IE50_uni), 60))*np.nan\n",
    "ave_ptl_mean_50uni,ave_ptl_ste_50uni = patch_pip.samp_ave(pre_IE50_uni, ave_ptl_resp)\n",
    "plt.errorbar(x=np.arange(len(ave_ptl_mean_50uni)), y=ave_ptl_mean_50uni, yerr=ave_ptl_ste_50uni, fmt='ro')"
   ]
  },
  {
   "cell_type": "code",
   "execution_count": 12,
   "metadata": {
    "collapsed": false,
    "deletable": true,
    "editable": true
   },
   "outputs": [
    {
     "name": "stderr",
     "output_type": "stream",
     "text": [
      "/src/Patch_ana/Patch_ana/patch_pip.py:471: RuntimeWarning: Mean of empty slice\n",
      "  ave_ptl_mean = np.nanmean(ave_ptl_resp, axis=0)\n",
      "/usr/local/lib/python3.5/dist-packages/numpy/lib/nanfunctions.py:1423: RuntimeWarning: Degrees of freedom <= 0 for slice.\n",
      "  keepdims=keepdims)\n"
     ]
    },
    {
     "data": {
      "text/plain": [
       "<Container object of 3 artists>"
      ]
     },
     "execution_count": 12,
     "metadata": {},
     "output_type": "execute_result"
    },
    {
     "name": "stderr",
     "output_type": "stream",
     "text": [
      "/usr/local/lib/python3.5/dist-packages/matplotlib/font_manager.py:1297: UserWarning: findfont: Font family ['sans-serif'] not found. Falling back to DejaVu Sans\n",
      "  (prop.get_family(), self.defaultFamily[fontext]))\n"
     ]
    },
    {
     "data": {
      "image/png": "[encoded data removed]",
      "text/plain": [
       "<matplotlib.figure.Figure at 0x7f3d4393c7f0>"
      ]
     },
     "metadata": {},
     "output_type": "display_data"
    }
   ],
   "source": [
    "ave_ptl_resp = np.ones((len(pre_IE50), 60))*np.nan\n",
    "ave_ptl_mean_50,ave_ptl_ste_50 = patch_pip.samp_ave(pre_IE50, ave_ptl_resp)\n",
    "plt.errorbar(x=np.arange(len(ave_ptl_mean_50)), y=ave_ptl_mean_50, yerr=ave_ptl_ste_50, fmt='ko')"
   ]
  },
  {
   "cell_type": "code",
   "execution_count": 17,
   "metadata": {
    "collapsed": false,
    "deletable": true,
    "editable": true
   },
   "outputs": [
    {
     "data": {
      "text/plain": [
       "[0, 60, 0.2, 1.6]"
      ]
     },
     "execution_count": 17,
     "metadata": {},
     "output_type": "execute_result"
    },
    {
     "name": "stderr",
     "output_type": "stream",
     "text": [
      "/usr/local/lib/python3.5/dist-packages/matplotlib/font_manager.py:1297: UserWarning: findfont: Font family ['sans-serif'] not found. Falling back to DejaVu Sans\n",
      "  (prop.get_family(), self.defaultFamily[fontext]))\n"
     ]
    },
    {
     "data": {
      "image/png": "[encoded data removed]",
      "text/plain": [
       "<matplotlib.figure.Figure at 0x7f3d88dee4a8>"
      ]
     },
     "metadata": {},
     "output_type": "display_data"
    }
   ],
   "source": [
    "ave_ptl_mean_2cp, ave_ptl_ste_2cp =  ave_ptl_mean_50reci,ave_ptl_ste_50reci \n",
    "ave_ptl_mean, ave_ptl_ste = patch_pip.pro_bef(ave_ptl_mean_2cp[:5], ave_ptl_ste_2cp[:5])\n",
    "ave_ptl_mean_2cp[:5], ave_ptl_ste_2cp[:5] = ave_ptl_mean, ave_ptl_ste \n",
    "plt.errorbar(x=np.arange(len(ave_ptl_mean_2cp)), y=ave_ptl_mean_2cp, yerr=ave_ptl_ste_2cp, fmt='ro', label='Reci (n={a})'.format(a=len(pre_IE50_reci)))\n",
    "\n",
    "ave_ptl_mean_50cp, ave_ptl_ste_50cp =  ave_ptl_mean_50uni,ave_ptl_ste_50uni\n",
    "ave_ptl_mean, ave_ptl_ste= patch_pip.pro_bef(ave_ptl_mean_50cp[:5], ave_ptl_ste_50cp[:5])\n",
    "ave_ptl_mean_50cp[:5], ave_ptl_ste_50cp[:5] = ave_ptl_mean, ave_ptl_ste \n",
    "plt.errorbar(x=np.arange(len(ave_ptl_mean_50cp)), y=ave_ptl_mean_50cp, yerr=ave_ptl_ste_50cp, fmt='ko', label='Uni (n={a})'.format(a=len(pre_IE50_uni)))\n",
    "\n",
    "plt.plot(np.ones((60))*1, 'k--')\n",
    "plt.xlabel('Time (min)')\n",
    "plt.ylabel('Normalized EPSC')\n",
    "plt.legend()\n",
    "plt.title('Post-synaptic only (-70 mV)')\n",
    "plt.axis([0,60,0.2,1.6])"
   ]
  },
  {
   "cell_type": "code",
   "execution_count": 16,
   "metadata": {
    "collapsed": false,
    "deletable": true,
    "editable": true
   },
   "outputs": [
    {
     "data": {
      "text/plain": [
       "[0, 60, 0.2, 1.6]"
      ]
     },
     "execution_count": 16,
     "metadata": {},
     "output_type": "execute_result"
    },
    {
     "name": "stderr",
     "output_type": "stream",
     "text": [
      "/usr/local/lib/python3.5/dist-packages/matplotlib/font_manager.py:1297: UserWarning: findfont: Font family ['sans-serif'] not found. Falling back to DejaVu Sans\n",
      "  (prop.get_family(), self.defaultFamily[fontext]))\n"
     ]
    },
    {
     "data": {
      "image/png": "[encoded data removed]",
      "text/plain": [
       "<matplotlib.figure.Figure at 0x7f3d88e27208>"
      ]
     },
     "metadata": {},
     "output_type": "display_data"
    }
   ],
   "source": [
    "ave_ptl_mean_50cp, ave_ptl_ste_50cp =  ave_ptl_mean_50,ave_ptl_ste_50\n",
    "ave_ptl_mean, ave_ptl_ste= patch_pip.pro_bef(ave_ptl_mean_50cp[:5], ave_ptl_ste_50cp[:5])\n",
    "ave_ptl_mean_50cp[:5], ave_ptl_ste_50cp[:5] = ave_ptl_mean, ave_ptl_ste \n",
    "plt.errorbar(x=np.arange(len(ave_ptl_mean_50cp)), y=ave_ptl_mean_50cp, yerr=ave_ptl_ste_50cp, fmt='ko', label='(n={a})'.format(a=len(pre_IE50)))\n",
    "\n",
    "plt.plot(np.ones((60))*1, 'k--')\n",
    "plt.xlabel('Time (min)')\n",
    "plt.ylabel('Normalized EPSC')\n",
    "plt.legend()\n",
    "plt.title('Post-synaptic only (-70 mV)')\n",
    "plt.axis([0,60,0.2,1.6])"
   ]
  },
  {
   "cell_type": "code",
   "execution_count": 15,
   "metadata": {
    "collapsed": false,
    "deletable": true,
    "editable": true
   },
   "outputs": [
    {
     "data": {
      "text/plain": [
       "<Container object of 3 artists>"
      ]
     },
     "execution_count": 15,
     "metadata": {},
     "output_type": "execute_result"
    },
    {
     "name": "stderr",
     "output_type": "stream",
     "text": [
      "/usr/local/lib/python3.5/dist-packages/matplotlib/font_manager.py:1297: UserWarning: findfont: Font family ['sans-serif'] not found. Falling back to DejaVu Sans\n",
      "  (prop.get_family(), self.defaultFamily[fontext]))\n"
     ]
    },
    {
     "data": {
      "image/png": "[encoded data removed]",
      "text/plain": [
       "<matplotlib.figure.Figure at 0x7f3d438ee898>"
      ]
     },
     "metadata": {},
     "output_type": "display_data"
    }
   ],
   "source": [
    "plt.errorbar(x=np.arange(len(ave_ptl_mean_50)), y=ave_ptl_mean_50, yerr=ave_ptl_ste_50, fmt='ko')"
   ]
  }
 ],
 "metadata": {
  "kernelspec": {
   "display_name": "Python 3",
   "language": "python",
   "name": "python3"
  },
  "language_info": {
   "codemirror_mode": {
    "name": "ipython",
    "version": 3
   },
   "file_extension": ".py",
   "mimetype": "text/x-python",
   "name": "python",
   "nbconvert_exporter": "python",
   "pygments_lexer": "ipython3",
   "version": "3.5.2"
  }
 },
 "nbformat": 4,
 "nbformat_minor": 2
}
