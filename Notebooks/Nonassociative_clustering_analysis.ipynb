{
 "cells": [
  {
   "cell_type": "markdown",
   "metadata": {
    "collapsed": true,
    "deletable": true,
    "editable": true
   },
   "source": [
    "Analyze the effect of high dose naspm on spontaneous synaptic transmission"
   ]
  },
  {
   "cell_type": "code",
   "execution_count": 1,
   "metadata": {
    "collapsed": false,
    "deletable": true,
    "editable": true
   },
   "outputs": [],
   "source": [
    "import numpy as np\n",
    "import pandas as pd\n",
    "import scipy.io as sio\n",
    "import matplotlib.pyplot as plt\n",
    "from scipy.optimize import curve_fit\n",
    "import pdb\n",
    "from Patch_ana import patch_pip, spon_ana\n",
    "import seaborn as sns\n",
    "import pickle\n",
    "from matplotlib.backends.backend_pdf import PdfPages\n",
    "plt.style.use('classic')\n",
    "\n",
    "% matplotlib inline\n",
    "# % matplotlib notebook\n",
    "\n",
    "%load_ext autoreload\n",
    "% autoreload 2"
   ]
  },
  {
   "cell_type": "code",
   "execution_count": 53,
   "metadata": {
    "collapsed": false
   },
   "outputs": [
    {
     "name": "stdout",
     "output_type": "stream",
     "text": [
      "/data\n"
     ]
    }
   ],
   "source": [
    "cd /data"
   ]
  },
  {
   "cell_type": "code",
   "execution_count": 54,
   "metadata": {
    "collapsed": false
   },
   "outputs": [
    {
     "name": "stdout",
     "output_type": "stream",
     "text": [
      "Decay_tau_reci_uni.pdf                            \u001b[0m\u001b[01;32mtest2016051004.mat\u001b[0m*\r\n",
      "E_I_age_PPR.pdf                                   \u001b[01;32mtest2016051005.mat\u001b[0m*\r\n",
      "E_I_age_decay_tau.pdf                             \u001b[01;32mtest2016051006.mat\u001b[0m*\r\n",
      "E_I_age_fail.pdf                                  \u001b[01;32mtest2016051501.mat\u001b[0m*\r\n",
      "E_I_age_onset_tau.pdf                             \u001b[01;32mtest2016051801.mat\u001b[0m*\r\n",
      "Failure_rate_reci_uni.pdf                         \u001b[01;32mtest2016051802.mat\u001b[0m*\r\n",
      "Failure_reci.pdf                                  \u001b[01;32mtest2016051804.mat\u001b[0m*\r\n",
      "Failure_uni.pdf                                   \u001b[01;32mtest2016051805.mat\u001b[0m*\r\n",
      "Figure0_3.pdf                                     \u001b[01;32mtest2016051806.mat\u001b[0m*\r\n",
      "Figure0_4.pdf                                     \u001b[01;32mtest2016051808.mat\u001b[0m*\r\n",
      "Figure0_5.pdf                                     \u001b[01;32mtest2016051809.mat\u001b[0m*\r\n",
      "Figure0_6.pdf                                     \u001b[01;32mtest2016052301.mat\u001b[0m*\r\n",
      "Figure0_7.pdf                                     \u001b[01;32mtest2016052302.mat\u001b[0m*\r\n",
      "\u001b[01;32mFigure1A_1.pdf\u001b[0m*                                   \u001b[01;32mtest2016052303.mat\u001b[0m*\r\n",
      "\u001b[01;32mFigure1A_10.pdf\u001b[0m*                                  \u001b[01;32mtest2016052304.mat\u001b[0m*\r\n",
      "\u001b[01;32mFigure1A_11.pdf\u001b[0m*                                  \u001b[01;32mtest2016060801.mat\u001b[0m*\r\n",
      "\u001b[01;32mFigure1A_12.pdf\u001b[0m*                                  \u001b[01;32mtest2016061001.mat\u001b[0m*\r\n",
      "\u001b[01;32mFigure1A_13.pdf\u001b[0m*                                  \u001b[01;32mtest2016061002.mat\u001b[0m*\r\n",
      "\u001b[01;32mFigure1A_14.pdf\u001b[0m*                                  \u001b[01;32mtest2016061003.mat\u001b[0m*\r\n",
      "\u001b[01;32mFigure1A_15.pdf\u001b[0m*                                  \u001b[01;32mtest2016061401.mat\u001b[0m*\r\n",
      "\u001b[01;32mFigure1A_16.pdf\u001b[0m*                                  \u001b[01;32mtest2016061402.mat\u001b[0m*\r\n",
      "\u001b[01;32mFigure1A_2.pdf\u001b[0m*                                   \u001b[01;32mtest2016062801.mat\u001b[0m*\r\n",
      "\u001b[01;32mFigure1A_3.pdf\u001b[0m*                                   \u001b[01;32mtest2016062802.mat\u001b[0m*\r\n",
      "\u001b[01;32mFigure1A_4.pdf\u001b[0m*                                   \u001b[01;32mtest2016062803.mat\u001b[0m*\r\n",
      "\u001b[01;32mFigure1A_5.pdf\u001b[0m*                                   \u001b[01;32mtest2016071504.mat\u001b[0m*\r\n",
      "\u001b[01;32mFigure1A_6.pdf\u001b[0m*                                   \u001b[01;32mtest2016071505.mat\u001b[0m*\r\n",
      "\u001b[01;32mFigure1A_7.pdf\u001b[0m*                                   \u001b[01;32mtest2016071603.mat\u001b[0m*\r\n",
      "\u001b[01;32mFigure1A_8.pdf\u001b[0m*                                   \u001b[01;32mtest2016072501.mat\u001b[0m*\r\n",
      "\u001b[01;32mFigure1A_9.pdf\u001b[0m*                                   \u001b[01;32mtest2016072701.mat\u001b[0m*\r\n",
      "\u001b[01;32mFigure1_1.pdf\u001b[0m*                                    \u001b[01;32mtest2016072702.mat\u001b[0m*\r\n",
      "\u001b[01;32mFigure1_12.pdf\u001b[0m*                                   \u001b[01;32mtest2016072703.mat\u001b[0m*\r\n",
      "\u001b[01;32mFigure1_13.pdf\u001b[0m*                                   \u001b[01;32mtest2016072704.mat\u001b[0m*\r\n",
      "\u001b[01;32mFigure1_14.pdf\u001b[0m*                                   \u001b[01;32mtest2016072705.mat\u001b[0m*\r\n",
      "\u001b[01;32mFigure1_15.pdf\u001b[0m*                                   \u001b[01;32mtest2016072901.mat\u001b[0m*\r\n",
      "\u001b[01;32mFigure1_4.pdf\u001b[0m*                                    \u001b[01;32mtest2016072902.mat\u001b[0m*\r\n",
      "\u001b[01;32mFigure1_5.pdf\u001b[0m*                                    \u001b[01;32mtest2016081001.mat\u001b[0m*\r\n",
      "\u001b[01;32mFigure1_6.pdf\u001b[0m*                                    \u001b[01;32mtest2016081002.mat\u001b[0m*\r\n",
      "\u001b[01;32mFigure1_7.pdf\u001b[0m*                                    \u001b[01;32mtest2016081701.mat\u001b[0m*\r\n",
      "\u001b[01;32mFigure1_9.pdf\u001b[0m*                                    \u001b[01;32mtest2016081703.mat\u001b[0m*\r\n",
      "\u001b[01;32mFigure1a_8\u001b[0m*                                       \u001b[01;32mtest2016081704.mat\u001b[0m*\r\n",
      "\u001b[01;32mFigure2_1.pdf\u001b[0m*                                    \u001b[01;32mtest2016081801.mat\u001b[0m*\r\n",
      "\u001b[01;32mFigure2_2.pdf\u001b[0m*                                    \u001b[01;32mtest2016081802.mat\u001b[0m*\r\n",
      "\u001b[01;32mFigure2_3.pdf\u001b[0m*                                    \u001b[01;32mtest2016081901.mat\u001b[0m*\r\n",
      "\u001b[01;32mFigure2_4.pdf\u001b[0m*                                    \u001b[01;32mtest2016081902.mat\u001b[0m*\r\n",
      "\u001b[01;32mFigure2_5.pdf\u001b[0m*                                    \u001b[01;32mtest2016082101.mat\u001b[0m*\r\n",
      "\u001b[01;32mFigure2_6.pdf\u001b[0m*                                    \u001b[01;32mtest2016082102.mat\u001b[0m*\r\n",
      "\u001b[01;32mFigure2_7.pdf\u001b[0m*                                    \u001b[01;32mtest2016082601.mat\u001b[0m*\r\n",
      "\u001b[01;32mFigure2_8.pdf\u001b[0m*                                    \u001b[01;32mtest2016091201.mat\u001b[0m*\r\n",
      "\u001b[01;32mFigure2_9.pdf\u001b[0m*                                    \u001b[01;32mtest2016091401.mat\u001b[0m*\r\n",
      "\u001b[01;32mFigure3_1.pdf\u001b[0m*                                    \u001b[01;32mtest2016091402.mat\u001b[0m*\r\n",
      "\u001b[01;32mFigure3_10.pdf\u001b[0m*                                   \u001b[01;32mtest2016091403.mat\u001b[0m*\r\n",
      "\u001b[01;32mFigure3_11.pdf\u001b[0m*                                   \u001b[01;32mtest2016091502.mat\u001b[0m*\r\n",
      "\u001b[01;32mFigure3_12.pdf\u001b[0m*                                   \u001b[01;32mtest2016092601.mat\u001b[0m*\r\n",
      "\u001b[01;32mFigure3_13.pdf\u001b[0m*                                   \u001b[01;32mtest2016092801.mat\u001b[0m*\r\n",
      "\u001b[01;32mFigure3_2.pdf\u001b[0m*                                    \u001b[01;32mtest2016092802.mat\u001b[0m*\r\n",
      "\u001b[01;32mFigure3_2_2.pdf\u001b[0m*                                  \u001b[01;32mtest2016092805.mat\u001b[0m*\r\n",
      "\u001b[01;32mFigure3_3.pdf\u001b[0m*                                    \u001b[01;32mtest2016092901.mat\u001b[0m*\r\n",
      "\u001b[01;32mFigure3_4.pdf\u001b[0m*                                    \u001b[01;32mtest2016092903.mat\u001b[0m*\r\n",
      "\u001b[01;32mFigure3_5.pdf\u001b[0m*                                    \u001b[01;32mtest2016093001.mat\u001b[0m*\r\n",
      "\u001b[01;32mFigure3_6.pdf\u001b[0m*                                    \u001b[01;32mtest2016093003.mat\u001b[0m*\r\n",
      "\u001b[01;32mFigure3_7.pdf\u001b[0m*                                    \u001b[01;32mtest2016100201.mat\u001b[0m*\r\n",
      "\u001b[01;32mFigure3_8.pdf\u001b[0m*                                    \u001b[01;32mtest2016100202.mat\u001b[0m*\r\n",
      "\u001b[01;32mFigure4_1.pdf\u001b[0m*                                    \u001b[01;32mtest2016100203.mat\u001b[0m*\r\n",
      "\u001b[01;32mFigure4_10.pdf\u001b[0m*                                   \u001b[01;32mtest2016100302.mat\u001b[0m*\r\n",
      "\u001b[01;32mFigure4_11.pdf\u001b[0m*                                   \u001b[01;32mtest2016100303.mat\u001b[0m*\r\n",
      "\u001b[01;32mFigure4_12.pdf\u001b[0m*                                   \u001b[01;32mtest2016100304.mat\u001b[0m*\r\n",
      "\u001b[01;32mFigure4_13.pdf\u001b[0m*                                   \u001b[01;32mtest2016100701.mat\u001b[0m*\r\n",
      "\u001b[01;32mFigure4_15.pdf\u001b[0m*                                   \u001b[01;32mtest2016100702.mat\u001b[0m*\r\n",
      "\u001b[01;32mFigure4_16.pdf\u001b[0m*                                   \u001b[01;32mtest2016101201.mat\u001b[0m*\r\n",
      "\u001b[01;32mFigure4_2.pdf\u001b[0m*                                    \u001b[01;32mtest2016101202.mat\u001b[0m*\r\n",
      "\u001b[01;32mFigure4_20.pdf\u001b[0m*                                   \u001b[01;32mtest2016101301.mat\u001b[0m*\r\n",
      "\u001b[01;32mFigure4_21.pdf\u001b[0m*                                   \u001b[01;32mtest2016101302.mat\u001b[0m*\r\n",
      "\u001b[01;32mFigure4_3.pdf\u001b[0m*                                    \u001b[01;32mtest2016101503.mat\u001b[0m*\r\n",
      "\u001b[01;32mFigure4_4.pdf\u001b[0m*                                    \u001b[01;32mtest2016101701.mat\u001b[0m*\r\n",
      "\u001b[01;32mFigure4_5.pdf\u001b[0m*                                    \u001b[01;32mtest2016101902.mat\u001b[0m*\r\n",
      "\u001b[01;32mFigure4_6.pdf\u001b[0m*                                    \u001b[01;32mtest2016102001.mat\u001b[0m*\r\n",
      "\u001b[01;32mFigure4_7.pdf\u001b[0m*                                    \u001b[01;32mtest2016102101.mat\u001b[0m*\r\n",
      "\u001b[01;32mFigure4_8.pdf\u001b[0m*                                    \u001b[01;32mtest2016102601.mat\u001b[0m*\r\n",
      "\u001b[01;32mFigure4_9.pdf\u001b[0m*                                    \u001b[01;32mtest2016102701.mat\u001b[0m*\r\n",
      "\u001b[01;32mFigure5_1.pdf\u001b[0m*                                    \u001b[01;32mtest2016102702.mat\u001b[0m*\r\n",
      "\u001b[01;32mFigure5_2.pdf\u001b[0m*                                    \u001b[01;32mtest2016102703.mat\u001b[0m*\r\n",
      "\u001b[01;32mFigure5_3.pdf\u001b[0m*                                    \u001b[01;32mtest2016103101.mat\u001b[0m*\r\n",
      "\u001b[01;32mFigure5_4.pdf\u001b[0m*                                    \u001b[01;32mtest2016110101.mat\u001b[0m*\r\n",
      "Figure5_5.pdf                                     \u001b[01;32mtest2016110102.mat\u001b[0m*\r\n",
      "\u001b[01;32mGood data storage.csv\u001b[0m*                            \u001b[01;32mtest2016110103.mat\u001b[0m*\r\n",
      "\u001b[01;32mGood data_store.csv\u001b[0m*                              \u001b[01;32mtest2016110201.mat\u001b[0m*\r\n",
      "Onset_tau_reci_uni.pdf                            \u001b[01;32mtest2016110202.mat\u001b[0m*\r\n",
      "PPR_reci_uni.pdf                                  \u001b[01;32mtest2016110203.mat\u001b[0m*\r\n",
      "\u001b[01;32mSupp1_1.pdf\u001b[0m*                                      \u001b[01;32mtest2016111001.mat\u001b[0m*\r\n",
      "\u001b[01;32mSupp1_2.pdf\u001b[0m*                                      \u001b[01;32mtest2016111101.mat\u001b[0m*\r\n",
      "\u001b[01;32mSupp1_3.pdf\u001b[0m*                                      \u001b[01;32mtest2016111103.mat\u001b[0m*\r\n",
      "\u001b[01;32mSupp1_4.pdf\u001b[0m*                                      \u001b[01;32mtest2016111104.mat\u001b[0m*\r\n",
      "\u001b[01;32mSupp1_5.pdf\u001b[0m*                                      \u001b[01;32mtest2016111801.mat\u001b[0m*\r\n",
      "\u001b[01;32mSupp2_1.pdf\u001b[0m*                                      \u001b[01;32mtest2016111802.mat\u001b[0m*\r\n",
      "Supp2_B.p df                                      \u001b[01;32mtest2016111803.mat\u001b[0m*\r\n",
      "Supp2_B.pdf                                       \u001b[01;32mtest2016111804.mat\u001b[0m*\r\n",
      "Supp2_C.pdf                                       \u001b[01;32mtest2016120201.mat\u001b[0m*\r\n",
      "Supp2_D.pdf                                       \u001b[01;32mtest2016120202.mat\u001b[0m*\r\n",
      "Supp2_F.pdf                                       \u001b[01;32mtest2016120203.mat\u001b[0m*\r\n",
      "Supp2_G.pdf                                       \u001b[01;32mtest2016120301.mat\u001b[0m*\r\n",
      "Supp2_H.pdf                                       \u001b[01;32mtest2016120401.mat\u001b[0m*\r\n",
      "Supp2_I.pdf                                       \u001b[01;32mtest2016120402.mat\u001b[0m*\r\n",
      "Supp2_J1.pdf                                      \u001b[01;32mtest2016120403.mat\u001b[0m*\r\n",
      "Supp2_J2.pdf                                      \u001b[01;32mtest2016120501.mat\u001b[0m*\r\n",
      "Supp2_J3.pdf                                      \u001b[01;32mtest2016120502.mat\u001b[0m*\r\n",
      "\u001b[01;32mSupp3_1.pdf\u001b[0m*                                      \u001b[01;32mtest2016120503.mat\u001b[0m*\r\n",
      "\u001b[01;32mSupp3_2.pdf\u001b[0m*                                      \u001b[01;32mtest2016120504.mat\u001b[0m*\r\n",
      "\u001b[01;32mSupp3_3.pdf\u001b[0m*                                      \u001b[01;32mtest2017011701.mat\u001b[0m*\r\n",
      "\u001b[01;32mSupp4_1.pdf\u001b[0m*                                      \u001b[01;32mtest2017011801.mat\u001b[0m*\r\n",
      "\u001b[01;32mSupp4_2.pdf\u001b[0m*                                      \u001b[01;32mtest2017011803.mat\u001b[0m*\r\n",
      "age_PPR_reci                                      \u001b[01;32mtest2017011901.mat\u001b[0m*\r\n",
      "age_PPR_reci_rin_rs                               \u001b[01;32mtest2017021301.mat\u001b[0m*\r\n",
      "\u001b[01;32mana_am_asso\u001b[0m*                                      \u001b[01;32mtest2017021302.mat\u001b[0m*\r\n",
      "\u001b[01;32mana_am_asso_2\u001b[0m*                                    \u001b[01;32mtest2017021401.mat\u001b[0m*\r\n",
      "\u001b[01;32mana_am_asso_50\u001b[0m*                                   \u001b[01;32mtest2017021501.mat\u001b[0m*\r\n",
      "\u001b[01;32mana_am_nonasso\u001b[0m*                                   \u001b[01;32mtest2017021502.mat\u001b[0m*\r\n",
      "\u001b[01;32mana_asso_2Hz_reci\u001b[0m*                                \u001b[01;32mtest2017022301.mat\u001b[0m*\r\n",
      "\u001b[01;32mana_asso_2Hz_reci_MPEP\u001b[0m*                           \u001b[01;32mtest2017032102.mat\u001b[0m*\r\n",
      "\u001b[01;32mana_asso_50Hz_reci\u001b[0m*                               \u001b[01;32mtest2017032103.mat\u001b[0m*\r\n",
      "\u001b[01;32mana_asso_50Hz_uni\u001b[0m*                                \u001b[01;32mtest2017032202.mat\u001b[0m*\r\n",
      "\u001b[01;32mana_asso_EI_50Hz_reci\u001b[0m*                            \u001b[01;32mtest2017032203.mat\u001b[0m*\r\n",
      "\u001b[01;32mana_asso_IE_50Hz\u001b[0m*                                 \u001b[01;32mtest2017032206.mat\u001b[0m*\r\n",
      "\u001b[01;32mana_asso_IE_50Hz_reci\u001b[0m*                            \u001b[01;32mtest2017032207.mat\u001b[0m*\r\n",
      "\u001b[01;32mana_asso_IE_50Hz_uni\u001b[0m*                             \u001b[01;32mtest2017032301.mat\u001b[0m*\r\n",
      "\u001b[01;32mana_naspm\u001b[0m*                                        \u001b[01;32mtest2017032401.mat\u001b[0m*\r\n",
      "\u001b[01;32mana_naspm_loc_con\u001b[0m*                                \u001b[01;32mtest2017032402.mat\u001b[0m*\r\n",
      "\u001b[01;32mana_naspm_low_con\u001b[0m*                                \u001b[01;32mtest2017032403.mat\u001b[0m*\r\n",
      "\u001b[01;32mana_no_ptl\u001b[0m*                                       \u001b[01;32mtest2017032701.mat\u001b[0m*\r\n",
      "\u001b[01;32mana_post_2Hz_reci\u001b[0m*                                \u001b[01;32mtest2017032703.mat\u001b[0m*\r\n",
      "\u001b[01;32mana_post_50Hz_reci\u001b[0m*                               \u001b[01;32mtest2017032801.mat\u001b[0m*\r\n",
      "\u001b[01;32mana_post_50Hz_uni\u001b[0m*                                \u001b[01;32mtest2017032802.mat\u001b[0m*\r\n",
      "\u001b[01;32mana_post_EI_50Hz_reci\u001b[0m*                            \u001b[01;32mtest2017032803.mat\u001b[0m*\r\n",
      "\u001b[01;32mana_post_EI_50Hz_uni\u001b[0m*                             \u001b[01;32mtest2017032901.mat\u001b[0m*\r\n",
      "\u001b[01;32mana_post_IE50Hz\u001b[0m*                                  \u001b[01;32mtest2017032902.mat\u001b[0m*\r\n",
      "\u001b[01;32mana_post_IE50Hz_reci\u001b[0m*                             \u001b[01;32mtest2017032903.mat\u001b[0m*\r\n",
      "\u001b[01;32mana_post_IE50Hz_uni\u001b[0m*                              \u001b[01;32mtest2017032905.mat\u001b[0m*\r\n",
      "\u001b[01;32mana_pre_2Hz_reci\u001b[0m*                                 \u001b[01;32mtest2017041701.mat\u001b[0m*\r\n",
      "\u001b[01;32mana_pre_50Hz_reci\u001b[0m*                                \u001b[01;32mtest2017041702.mat\u001b[0m*\r\n",
      "\u001b[01;32mana_pre_50Hz_uni\u001b[0m*                                 \u001b[01;32mtest2017041801.mat\u001b[0m*\r\n",
      "\u001b[01;32mana_pre_50_depo_reci\u001b[0m*                             \u001b[01;32mtest2017041901.mat\u001b[0m*\r\n",
      "\u001b[01;32mana_pre_50_hypo_reci\u001b[0m*                             \u001b[01;32mtest2017041905.mat\u001b[0m*\r\n",
      "\u001b[01;32mana_pre_IE50Hz\u001b[0m*                                   \u001b[01;32mtest2017042101.mat\u001b[0m*\r\n",
      "\u001b[01;32mana_pre_IE50Hz_reci\u001b[0m*                              \u001b[01;32mtest2017042102.mat\u001b[0m*\r\n",
      "\u001b[01;32mana_pre_IE50Hz_uni\u001b[0m*                               \u001b[01;32mtest2017042401.mat\u001b[0m*\r\n",
      "cv_uni_reci.pdf                                   \u001b[01;32mtest2017042402.mat\u001b[0m*\r\n",
      "\u001b[01;32mdata_E_I_time_constant\u001b[0m*                           \u001b[01;32mtest2017042403.mat\u001b[0m*\r\n",
      "\u001b[01;32mdata_IE50Hz_uni\u001b[0m*                                  \u001b[01;32mtest2017042501.mat\u001b[0m*\r\n",
      "\u001b[01;32mdata_I_I_time_constant\u001b[0m*                           \u001b[01;32mtest2017042502.mat\u001b[0m*\r\n",
      "\u001b[01;32mdata_am_asso\u001b[0m*                                     \u001b[01;32mtest2017042503.mat\u001b[0m*\r\n",
      "\u001b[01;32mdata_am_asso_2Hz_reci\u001b[0m*                            \u001b[01;32mtest2017042601.mat\u001b[0m*\r\n",
      "\u001b[01;32mdata_am_asso_50\u001b[0m*                                  \u001b[01;32mtest2017042602.mat\u001b[0m*\r\n",
      "\u001b[01;32mdata_am_asso_50Hz_reci\u001b[0m*                           \u001b[01;32mtest2017042603.mat\u001b[0m*\r\n",
      "\u001b[01;32mdata_am_nonasso\u001b[0m*                                  \u001b[01;32mtest2017042701.mat\u001b[0m*\r\n",
      "\u001b[01;32mdata_asso_2Hz_MPEP\u001b[0m*                               \u001b[01;32mtest2017042702.mat\u001b[0m*\r\n",
      "\u001b[01;32mdata_asso_2Hz_reci\u001b[0m*                               \u001b[01;32mtest2017050901.mat\u001b[0m*\r\n",
      "\u001b[01;32mdata_asso_50Hz_reci\u001b[0m*                              \u001b[01;32mtest2017050902.mat\u001b[0m*\r\n",
      "\u001b[01;32mdata_asso_50Hz_uni\u001b[0m*                               \u001b[01;32mtest2017051001.mat\u001b[0m*\r\n",
      "\u001b[01;32mdata_asso_IE_50Hz_reci\u001b[0m*                           \u001b[01;32mtest2017051002.mat\u001b[0m*\r\n",
      "\u001b[01;32mdata_asso_IE_50Hz_uni\u001b[0m*                            \u001b[01;32mtest2017051201.mat\u001b[0m*\r\n",
      "\u001b[01;32mdata_no_protocol\u001b[0m*                                 \u001b[01;32mtest2017051202.mat\u001b[0m*\r\n",
      "\u001b[01;32mdata_np\u001b[0m*                                          \u001b[01;32mtest2017051203.mat\u001b[0m*\r\n",
      "\u001b[01;32mdata_post_2Hz_reci\u001b[0m*                               \u001b[01;32mtest2017051501.mat\u001b[0m*\r\n",
      "\u001b[01;32mdata_post_50Hz_reci\u001b[0m*                              \u001b[01;32mtest2017051502.mat\u001b[0m*\r\n",
      "\u001b[01;32mdata_post_50Hz_uni\u001b[0m*                               \u001b[01;32mtest2017051503.mat\u001b[0m*\r\n",
      "\u001b[01;32mdata_post_EI_50Hz_reci\u001b[0m*                           \u001b[01;32mtest2017051601.mat\u001b[0m*\r\n",
      "\u001b[01;32mdata_post_EI_50Hz_uni\u001b[0m*                            \u001b[01;32mtest2017052201.mat\u001b[0m*\r\n",
      "\u001b[01;32mdata_post_IE50Hz_reci\u001b[0m*                            \u001b[01;32mtest2017052202.mat\u001b[0m*\r\n",
      "\u001b[01;32mdata_post_IE50Hz_uni\u001b[0m*                             \u001b[01;32mtest2017052203.mat\u001b[0m*\r\n",
      "\u001b[01;32mdata_pre2Hz_reci\u001b[0m*                                 \u001b[01;32mtest2017052301.mat\u001b[0m*\r\n",
      "\u001b[01;32mdata_pre_2Hz_reci\u001b[0m*                                \u001b[01;32mtest2017052302.mat\u001b[0m*\r\n",
      "\u001b[01;32mdata_pre_50Hz_reci\u001b[0m*                               \u001b[01;32mtest2017053101.mat\u001b[0m*\r\n",
      "\u001b[01;32mdata_pre_50Hz_uni\u001b[0m*                                \u001b[01;32mtest2017053102.mat\u001b[0m*\r\n",
      "\u001b[01;32mdata_pre_50Hz_uni (Whitespace Conflict)\u001b[0m*          \u001b[01;32mtest2017060101.mat\u001b[0m*\r\n",
      "\u001b[01;32mdata_pre_50_depo_reci\u001b[0m*                            \u001b[01;32mtest2017060102.mat\u001b[0m*\r\n",
      "\u001b[01;32mdata_pre_50_hypo_reci\u001b[0m*                            \u001b[01;32mtest2017060201.mat\u001b[0m*\r\n",
      "\u001b[01;32mdata_pre_EI_depo_reci\u001b[0m*                            \u001b[01;32mtest2017060501.mat\u001b[0m*\r\n",
      "\u001b[01;32mdata_pre_IE50Hz_reci\u001b[0m*                             \u001b[01;32mtest2017060502.mat\u001b[0m*\r\n",
      "\u001b[01;32mdata_pre_IE50Hz_uni\u001b[0m*                              \u001b[01;32mtest2017060801.mat\u001b[0m*\r\n",
      "\u001b[01;32mdata_pre_naspm_reci\u001b[0m*                              \u001b[01;32mtest2017060802.mat\u001b[0m*\r\n",
      "\u001b[01;32mdata_pre_naspm_reci_low_con\u001b[0m*                      \u001b[01;32mtest2017060803.mat\u001b[0m*\r\n",
      "figure_0_10.pdf                                   \u001b[01;32mtest2017062101.mat\u001b[0m*\r\n",
      "figure_0_7.pdf                                    \u001b[01;32mtest2017062201.mat\u001b[0m*\r\n",
      "figure_0_8.pdf                                    \u001b[01;32mtest2017062202.mat\u001b[0m*\r\n",
      "figure_0_9.pdf                                    \u001b[01;32mtest2017062203.mat\u001b[0m*\r\n",
      "\u001b[01;32mpre_2Hz_reci\u001b[0m*                                     \u001b[01;32mtest2017062301.mat\u001b[0m*\r\n",
      "\u001b[01;32mpre_50Hz_reci\u001b[0m*                                    \u001b[01;32mtest2017062304.mat\u001b[0m*\r\n",
      "processed_EI_reci_all_0                           \u001b[01;32mtest2017062601.mat\u001b[0m*\r\n",
      "processed_EI_reci_all_100                         \u001b[01;32mtest2017062602.mat\u001b[0m*\r\n",
      "processed_EI_reci_all_20                          \u001b[01;32mtest2017062603.mat\u001b[0m*\r\n",
      "processed_EI_reci_all_40                          \u001b[01;32mtest2017062701.mat\u001b[0m*\r\n",
      "processed_EI_reci_all_60                          \u001b[01;32mtest2017062801.mat\u001b[0m*\r\n",
      "processed_EI_reci_all_80                          \u001b[01;32mtest2017062803.mat\u001b[0m*\r\n",
      "processed_I_E                                     \u001b[01;32mtest2017062804.mat\u001b[0m*\r\n",
      "processed_ie                                      \u001b[01;32mtest2017071201.mat\u001b[0m*\r\n",
      "processed_reci                                    \u001b[01;32mtest2017071202.mat\u001b[0m*\r\n",
      "processed_uni                                     \u001b[01;32mtest2017071301.mat\u001b[0m*\r\n",
      "\u001b[01;32mpsc_asso_50_after_53\u001b[0m*                             \u001b[01;32mtest2017071302.mat\u001b[0m*\r\n",
      "\u001b[01;32mpsc_asso_50_after_56\u001b[0m*                             \u001b[01;32mtest2017071401.mat\u001b[0m*\r\n",
      "\u001b[01;32mpsc_asso_50_after_58\u001b[0m*                             \u001b[01;32mtest2017071801.mat\u001b[0m*\r\n",
      "\u001b[01;32mpsc_asso_50_before_53\u001b[0m*                            \u001b[01;32mtest2017071902.mat\u001b[0m*\r\n",
      "\u001b[01;32mpsc_asso_50_before_56\u001b[0m*                            \u001b[01;32mtest2017071903.mat\u001b[0m*\r\n",
      "\u001b[01;32mpsc_asso_50_before_58\u001b[0m*                            \u001b[01;32mtest2017072101.mat\u001b[0m*\r\n",
      "\u001b[01;32mpsc_asso_50_before_60\u001b[0m*                            \u001b[01;32mtest2017072102.mat\u001b[0m*\r\n",
      "\u001b[01;32mpsc_asso_50_before_62\u001b[0m*                            \u001b[01;32mtest2017072103.mat\u001b[0m*\r\n",
      "\u001b[01;32mpsc_asso_50_before_63\u001b[0m*                            \u001b[01;32mtest2017072104.mat\u001b[0m*\r\n",
      "\u001b[01;32mpsc_naspm_after_127\u001b[0m*                              \u001b[01;32mtest2017072105.mat\u001b[0m*\r\n",
      "\u001b[01;32mpsc_naspm_after_128\u001b[0m*                              \u001b[01;32mtest2017072401.mat\u001b[0m*\r\n",
      "\u001b[01;32mpsc_naspm_after_129\u001b[0m*                              \u001b[01;32mtest2017072402.mat\u001b[0m*\r\n",
      "\u001b[01;32mpsc_naspm_after_130\u001b[0m*                              \u001b[01;32mtest2017072403.mat\u001b[0m*\r\n",
      "\u001b[01;32mpsc_naspm_after_132\u001b[0m*                              \u001b[01;32mtest2017072501.mat\u001b[0m*\r\n",
      "\u001b[01;32mpsc_naspm_before_127\u001b[0m*                             \u001b[01;32mtest2017072502.mat\u001b[0m*\r\n",
      "\u001b[01;32mpsc_naspm_before_128\u001b[0m*                             \u001b[01;32mtest2017072503.mat\u001b[0m*\r\n",
      "\u001b[01;32mpsc_naspm_before_129\u001b[0m*                             \u001b[01;32mtest2017072802.mat\u001b[0m*\r\n",
      "\u001b[01;32mpsc_naspm_before_130\u001b[0m*                             \u001b[01;32mtest2017072803.mat\u001b[0m*\r\n",
      "\u001b[01;32mpsc_naspm_before_132\u001b[0m*                             \u001b[01;32mtest2017080401.mat\u001b[0m*\r\n",
      "\u001b[01;32mpsc_non_asso_2Hz_am_slope4_thres2.5_before_124\u001b[0m*   \u001b[01;32mtest2017080901.mat\u001b[0m*\r\n",
      "\u001b[01;32mpsc_non_asso_2Hz_am_slope4_thres2.5_before_125\u001b[0m*   \u001b[01;32mtest2017080902.mat\u001b[0m*\r\n",
      "\u001b[01;32mpsc_non_asso_2Hz_am_slope4_thres2.5_before_126\u001b[0m*   \u001b[01;32mtest2017081701.mat\u001b[0m*\r\n",
      "\u001b[01;32mpsc_non_asso_2Hz_ctl_slope4_thres2.5_before_121\u001b[0m*  \u001b[01;32mtest2017081702.mat\u001b[0m*\r\n",
      "\u001b[01;32mpsc_non_asso_2Hz_ctl_slope4_thres2.5_before_122\u001b[0m*  \u001b[01;32mtest2017081703.mat\u001b[0m*\r\n",
      "\u001b[01;32mpsc_non_asso_2Hz_ctl_slope4_thres2.5_before_123\u001b[0m*  \u001b[01;32mtest2017081801.mat\u001b[0m*\r\n",
      "\u001b[01;32mpsc_non_asso_2Hz_slope4_thres2.5_after_121\u001b[0m*       \u001b[01;32mtest2017081802.mat\u001b[0m*\r\n",
      "\u001b[01;32mpsc_non_asso_2Hz_slope4_thres2.5_after_122\u001b[0m*       \u001b[01;32mtest2017082301.mat\u001b[0m*\r\n",
      "\u001b[01;32mpsc_non_asso_2Hz_slope4_thres2.5_after_123\u001b[0m*       \u001b[01;32mtest2017082302.mat\u001b[0m*\r\n",
      "\u001b[01;32mpsc_non_asso_2Hz_slope4_thres2.5_after_124\u001b[0m*       \u001b[01;32mtest2017082303.mat\u001b[0m*\r\n",
      "\u001b[01;32mpsc_non_asso_2Hz_slope4_thres2.5_after_125\u001b[0m*       \u001b[01;32mtest2017082304.mat\u001b[0m*\r\n",
      "\u001b[01;32mpsc_non_asso_2Hz_slope4_thres2.5_after_126\u001b[0m*       \u001b[01;32mtest2017082401.mat\u001b[0m*\r\n",
      "\u001b[01;32mpsc_non_asso_2Hz_slope4_thres2.5_after_147\u001b[0m*       \u001b[01;32mtest2017082402.mat\u001b[0m*\r\n",
      "\u001b[01;32mpsc_non_asso_2Hz_slope4_thres2.5_after_148\u001b[0m*       \u001b[01;32mtest2017083001.mat\u001b[0m*\r\n",
      "\u001b[01;32mpsc_non_asso_2Hz_slope4_thres2.5_after_150\u001b[0m*       \u001b[01;32mtest2017083101.mat\u001b[0m*\r\n",
      "\u001b[01;32mpsc_non_asso_2Hz_slope4_thres2.5_after_151\u001b[0m*       \u001b[01;32mtest2017090601.mat\u001b[0m*\r\n",
      "\u001b[01;32mpsc_non_asso_2Hz_slope4_thres2.5_after_152\u001b[0m*       \u001b[01;32mtest2017090602.mat\u001b[0m*\r\n",
      "\u001b[01;32mpsc_non_asso_2Hz_slope4_thres2.5_after_153\u001b[0m*       \u001b[01;32mtest2017090703.mat\u001b[0m*\r\n",
      "\u001b[01;32mpsc_non_asso_2Hz_slope4_thres2.5_before_121\u001b[0m*      \u001b[01;32mtest2017091201.mat\u001b[0m*\r\n",
      "\u001b[01;32mpsc_non_asso_2Hz_slope4_thres2.5_before_122\u001b[0m*      \u001b[01;32mtest2017091202.mat\u001b[0m*\r\n",
      "\u001b[01;32mpsc_non_asso_2Hz_slope4_thres2.5_before_123\u001b[0m*      \u001b[01;32mtest2017091203.mat\u001b[0m*\r\n",
      "\u001b[01;32mpsc_non_asso_2Hz_slope4_thres2.5_before_124\u001b[0m*      \u001b[01;32mtest2017091204.mat\u001b[0m*\r\n",
      "\u001b[01;32mpsc_non_asso_2Hz_slope4_thres2.5_before_125\u001b[0m*      \u001b[01;32mtest2017091301.mat\u001b[0m*\r\n",
      "\u001b[01;32mpsc_non_asso_2Hz_slope4_thres2.5_before_126\u001b[0m*      \u001b[01;32mtest2017091501.mat\u001b[0m*\r\n",
      "\u001b[01;32mpsc_non_asso_2Hz_slope4_thres2.5_before_147\u001b[0m*      \u001b[01;32mtest2017091502.mat\u001b[0m*\r\n",
      "\u001b[01;32mpsc_non_asso_2Hz_slope4_thres2.5_before_148\u001b[0m*      \u001b[01;32mtest2017091503.mat\u001b[0m*\r\n",
      "\u001b[01;32mpsc_non_asso_2Hz_slope4_thres2.5_before_150\u001b[0m*      \u001b[01;32mtest2017091801.mat\u001b[0m*\r\n",
      "\u001b[01;32mpsc_non_asso_2Hz_slope4_thres2.5_before_151\u001b[0m*      \u001b[01;32mtest2017091802.mat\u001b[0m*\r\n",
      "\u001b[01;32mpsc_non_asso_2Hz_slope4_thres2.5_before_152\u001b[0m*      \u001b[01;32mtest2017091803.mat\u001b[0m*\r\n",
      "\u001b[01;32mpsc_non_asso_2Hz_slope4_thres2.5_before_153\u001b[0m*      \u001b[01;32mtest2017092001.mat\u001b[0m*\r\n",
      "\u001b[01;32mpsc_non_asso_50Hz_slope4_thres2.5_after_172\u001b[0m*      \u001b[01;32mtest2017092101.mat\u001b[0m*\r\n",
      "\u001b[01;32mpsc_non_asso_50Hz_slope4_thres2.5_after_175\u001b[0m*      \u001b[01;32mtest2017092102.mat\u001b[0m*\r\n",
      "\u001b[01;32mpsc_non_asso_50Hz_slope4_thres2.5_after_36\u001b[0m*       \u001b[01;32mtest2017092201.mat\u001b[0m*\r\n",
      "\u001b[01;32mpsc_non_asso_50Hz_slope4_thres2.5_after_37\u001b[0m*       \u001b[01;32mtest2017092202.mat\u001b[0m*\r\n",
      "\u001b[01;32mpsc_non_asso_50Hz_slope4_thres2.5_after_38\u001b[0m*       \u001b[01;32mtest2017092701.mat\u001b[0m*\r\n",
      "\u001b[01;32mpsc_non_asso_50Hz_slope4_thres2.5_after_39\u001b[0m*       \u001b[01;32mtest2017092702.mat\u001b[0m*\r\n",
      "\u001b[01;32mpsc_non_asso_50Hz_slope4_thres2.5_before_172\u001b[0m*     \u001b[01;32mtest2017092801.mat\u001b[0m*\r\n",
      "\u001b[01;32mpsc_non_asso_50Hz_slope4_thres2.5_before_175\u001b[0m*     \u001b[01;32mtest2017092802.mat\u001b[0m*\r\n",
      "\u001b[01;32mpsc_non_asso_50Hz_slope4_thres2.5_before_36\u001b[0m*      \u001b[01;32mtest2017092901.mat\u001b[0m*\r\n",
      "\u001b[01;32mpsc_non_asso_50Hz_slope4_thres2.5_before_37\u001b[0m*      \u001b[01;32mtest2017102301.mat\u001b[0m*\r\n",
      "\u001b[01;32mpsc_non_asso_50Hz_slope4_thres2.5_before_38\u001b[0m*      \u001b[01;32mtest2017102302.mat\u001b[0m*\r\n",
      "\u001b[01;32mpsc_non_asso_50Hz_slope4_thres2.5_before_39\u001b[0m*      \u001b[01;32mtest2017102501.mat\u001b[0m*\r\n",
      "\u001b[01;32mpsc_non_asso_AM251_after_147\u001b[0m*                     \u001b[01;32mtest2017102601.mat\u001b[0m*\r\n",
      "\u001b[01;32mpsc_non_asso_AM251_after_148\u001b[0m*                     \u001b[01;32mtest2017110601.mat\u001b[0m*\r\n",
      "\u001b[01;32mpsc_non_asso_AM251_after_150\u001b[0m*                     \u001b[01;32mtest2017110701.mat\u001b[0m*\r\n",
      "\u001b[01;32mpsc_non_asso_AM251_after_151\u001b[0m*                     \u001b[01;32mtest2017111001.mat\u001b[0m*\r\n",
      "\u001b[01;32mpsc_non_asso_AM251_after_152\u001b[0m*                     \u001b[01;32mtest2017111002.mat\u001b[0m*\r\n",
      "\u001b[01;32mpsc_non_asso_AM251_after_153\u001b[0m*                     \u001b[01;32mtest2017111301.mat\u001b[0m*\r\n",
      "\u001b[01;32mpsc_non_asso_AM251_before_147\u001b[0m*                    \u001b[01;32mtest2017111302.mat\u001b[0m*\r\n",
      "\u001b[01;32mpsc_non_asso_AM251_before_148\u001b[0m*                    \u001b[01;32mtest2017111401.mat\u001b[0m*\r\n",
      "\u001b[01;32mpsc_non_asso_AM251_before_150\u001b[0m*                    \u001b[01;32mtest2017111402.mat\u001b[0m*\r\n",
      "\u001b[01;32mpsc_non_asso_AM251_before_151\u001b[0m*                    \u001b[01;32mtest2017111501.mat\u001b[0m*\r\n",
      "\u001b[01;32mpsc_non_asso_AM251_before_152\u001b[0m*                    \u001b[01;32mtest2017111601.mat\u001b[0m*\r\n",
      "\u001b[01;32mpsc_non_asso_AM251_before_153\u001b[0m*                    \u001b[01;32mtest2017111602.mat\u001b[0m*\r\n",
      "\u001b[01;32mpsc_non_asso_am_2Hz_slope4_thres2.5_after_147\u001b[0m*    \u001b[01;32mtest2017112801.mat\u001b[0m*\r\n",
      "\u001b[01;32mpsc_non_asso_am_2Hz_slope4_thres2.5_after_148\u001b[0m*    \u001b[01;32mtest2017112901.mat\u001b[0m*\r\n",
      "\u001b[01;32mpsc_non_asso_am_2Hz_slope4_thres2.5_after_150\u001b[0m*    \u001b[01;32mtest2017120502.mat\u001b[0m*\r\n",
      "\u001b[01;32mpsc_non_asso_am_2Hz_slope4_thres2.5_after_151\u001b[0m*    \u001b[01;32mtest2017120701.mat\u001b[0m*\r\n",
      "\u001b[01;32mpsc_non_asso_am_2Hz_slope4_thres2.5_after_152\u001b[0m*    \u001b[01;32mtest2017120702.mat\u001b[0m*\r\n",
      "\u001b[01;32mpsc_non_asso_am_2Hz_slope4_thres2.5_after_153\u001b[0m*    \u001b[01;32mtest2017120801.mat\u001b[0m*\r\n",
      "\u001b[01;32mpsc_non_asso_am_2Hz_slope4_thres2.5_before_147\u001b[0m*   \u001b[01;32mtest2017121101.mat\u001b[0m*\r\n",
      "\u001b[01;32mpsc_non_asso_am_2Hz_slope4_thres2.5_before_148\u001b[0m*   \u001b[01;32mtest2017121102.mat\u001b[0m*\r\n",
      "\u001b[01;32mpsc_non_asso_am_2Hz_slope4_thres2.5_before_150\u001b[0m*   \u001b[01;32mtest2017121201.mat\u001b[0m*\r\n",
      "\u001b[01;32mpsc_non_asso_am_2Hz_slope4_thres2.5_before_151\u001b[0m*   \u001b[01;32mtest2017121401.mat\u001b[0m*\r\n",
      "\u001b[01;32mpsc_non_asso_am_2Hz_slope4_thres2.5_before_152\u001b[0m*   \u001b[01;32mtest2017121501.mat\u001b[0m*\r\n",
      "\u001b[01;32mpsc_non_asso_am_2Hz_slope4_thres2.5_before_153\u001b[0m*   \u001b[01;32mtest2017122001.mat\u001b[0m*\r\n",
      "\u001b[01;32mpsc_post_2Hz_after_121\u001b[0m*                           \u001b[01;32mtest2017122002.mat\u001b[0m*\r\n",
      "\u001b[01;32mpsc_post_2Hz_after_122\u001b[0m*                           \u001b[01;32mtest2017122701.mat\u001b[0m*\r\n",
      "\u001b[01;32mpsc_post_2Hz_after_123\u001b[0m*                           \u001b[01;32mtest2017122702.mat\u001b[0m*\r\n",
      "\u001b[01;32mpsc_post_2Hz_after_124\u001b[0m*                           \u001b[01;32mtest2017122801.mat\u001b[0m*\r\n",
      "\u001b[01;32mpsc_post_2Hz_after_125\u001b[0m*                           \u001b[01;32mtest2017122802.mat\u001b[0m*\r\n",
      "\u001b[01;32mpsc_post_2Hz_after_126\u001b[0m*                           \u001b[01;32mtest2017122901.mat\u001b[0m*\r\n",
      "\u001b[01;32mpsc_post_2Hz_before_121\u001b[0m*                          \u001b[01;32mtest2017122902.mat\u001b[0m*\r\n",
      "\u001b[01;32mpsc_post_2Hz_before_122\u001b[0m*                          \u001b[01;32mtest2017122903.mat\u001b[0m*\r\n",
      "\u001b[01;32mpsc_post_2Hz_before_123\u001b[0m*                          \u001b[01;32mtest2018012801.mat\u001b[0m*\r\n",
      "\u001b[01;32mpsc_post_2Hz_before_124\u001b[0m*                          \u001b[01;32mtest2018012901.mat\u001b[0m*\r\n",
      "\u001b[01;32mpsc_post_2Hz_before_125\u001b[0m*                          \u001b[01;32mtest2018012902.mat\u001b[0m*\r\n",
      "\u001b[01;32mpsc_post_2Hz_before_126\u001b[0m*                          \u001b[01;32mtest2018013002.mat\u001b[0m*\r\n",
      "\u001b[01;32mpsc_test_after_121\u001b[0m*                               \u001b[01;32mtest2018020901.mat\u001b[0m*\r\n",
      "\u001b[01;32mpsc_test_after_122\u001b[0m*                               \u001b[01;32mtest2018021201.mat\u001b[0m*\r\n",
      "\u001b[01;32mpsc_test_after_123\u001b[0m*                               \u001b[01;32mtest2018021301.mat\u001b[0m*\r\n",
      "\u001b[01;32mpsc_test_after_124\u001b[0m*                               \u001b[01;32mtest2018021302.mat\u001b[0m*\r\n",
      "\u001b[01;32mpsc_test_after_125\u001b[0m*                               \u001b[01;32mtest2018021303.mat\u001b[0m*\r\n",
      "\u001b[01;32mpsc_test_after_126\u001b[0m*                               \u001b[01;32mtest2018022801.mat\u001b[0m*\r\n",
      "\u001b[01;32mpsc_test_before_121\u001b[0m*                              \u001b[01;32mtest2018022802.mat\u001b[0m*\r\n",
      "\u001b[01;32mpsc_test_before_122\u001b[0m*                              \u001b[01;32mtest2018030101.mat\u001b[0m*\r\n",
      "\u001b[01;32mpsc_test_before_123\u001b[0m*                              \u001b[01;32mtest2018030102.mat\u001b[0m*\r\n",
      "\u001b[01;32mpsc_test_before_124\u001b[0m*                              \u001b[01;32mtest2018032301.mat\u001b[0m*\r\n",
      "\u001b[01;32mpsc_test_before_125\u001b[0m*                              \u001b[01;32mtest2018032302.mat\u001b[0m*\r\n",
      "\u001b[01;32mpsc_test_before_126\u001b[0m*                              \u001b[01;32mtest2018032801.mat\u001b[0m*\r\n",
      "\u001b[01;32mtest20160127.mat\u001b[0m*                                 \u001b[01;32mtest2018032802.mat\u001b[0m*\r\n",
      "\u001b[01;32mtest2016030301.mat\u001b[0m*                               \u001b[01;32mtest2018052901.mat\u001b[0m*\r\n",
      "\u001b[01;32mtest2016030302.mat\u001b[0m*                               \u001b[01;32mtest2018052902.mat\u001b[0m*\r\n",
      "\u001b[01;32mtest2016032201.mat\u001b[0m*                               \u001b[01;32mtest2018053001.mat\u001b[0m*\r\n",
      "\u001b[01;32mtest2016032202.mat\u001b[0m*                               \u001b[01;32mtest2018053002.mat\u001b[0m*\r\n",
      "\u001b[01;32mtest2016032203.mat\u001b[0m*                               \u001b[01;32mtest2018053101.mat\u001b[0m*\r\n",
      "\u001b[01;32mtest2016032204.mat\u001b[0m*                               \u001b[01;32mtest2018053102.mat\u001b[0m*\r\n",
      "\u001b[01;32mtest2016032206.mat\u001b[0m*                               \u001b[01;32mtest2018053103.mat\u001b[0m*\r\n",
      "\u001b[01;32mtest2016032401.mat\u001b[0m*                               \u001b[01;32mtest2018060101.mat\u001b[0m*\r\n",
      "\u001b[01;32mtest2016032402.mat\u001b[0m*                               \u001b[01;32mtest2018060103.mat\u001b[0m*\r\n",
      "\u001b[01;32mtest2016032403.mat\u001b[0m*                               \u001b[01;32mtest2018060202.mat\u001b[0m*\r\n",
      "\u001b[01;32mtest2016032502.mat\u001b[0m*                               \u001b[01;32mtest2018060203.mat\u001b[0m*\r\n",
      "\u001b[01;32mtest2016032503.mat\u001b[0m*                               \u001b[01;32mtest2018060204.mat\u001b[0m*\r\n",
      "\u001b[01;32mtest2016032901.mat\u001b[0m*                               \u001b[01;32mtest2018060401.mat\u001b[0m*\r\n",
      "\u001b[01;32mtest2016032902.mat\u001b[0m*                               \u001b[01;32mtest2018060403.mat\u001b[0m*\r\n",
      "\u001b[01;32mtest2016032903.mat\u001b[0m*                               \u001b[01;32mtest2018060404.mat\u001b[0m*\r\n",
      "\u001b[01;32mtest2016033001.mat\u001b[0m*                               \u001b[01;32mtest2018060405.mat\u001b[0m*\r\n",
      "\u001b[01;32mtest2016040101.mat\u001b[0m*                               \u001b[01;32mtest2018060501.mat\u001b[0m*\r\n",
      "\u001b[01;32mtest2016040102.mat\u001b[0m*                               \u001b[01;32mtest2018060502.mat\u001b[0m*\r\n",
      "\u001b[01;32mtest2016040302.mat\u001b[0m*                               \u001b[01;32mtest2018060601.mat\u001b[0m*\r\n",
      "\u001b[01;32mtest2016050901.mat\u001b[0m*                               \u001b[01;32mtest2018060602.mat\u001b[0m*\r\n",
      "\u001b[01;32mtest2016051002.mat\u001b[0m*                               \u001b[01;32mtest2018060603.mat\u001b[0m*\r\n",
      "\u001b[01;32mtest2016051003.mat\u001b[0m*\r\n"
     ]
    }
   ],
   "source": [
    "ls"
   ]
  },
  {
   "cell_type": "code",
   "execution_count": 70,
   "metadata": {
    "collapsed": false,
    "deletable": true,
    "editable": true
   },
   "outputs": [],
   "source": [
    "target = 125\n",
    "psc_naspm_bef = pd.read_pickle('/data/psc_non_asso_2Hz_slope4_thres2.5_before_'+str(target))\n",
    "psc_naspm_aft = pd.read_pickle('/data/psc_non_asso_2Hz_slope4_thres2.5_after_'+str(target))"
   ]
  },
  {
   "cell_type": "code",
   "execution_count": 71,
   "metadata": {
    "collapsed": false,
    "deletable": true,
    "editable": true
   },
   "outputs": [],
   "source": [
    "psc_naspm_stim = pd.read_pickle('/data/ana_post_2Hz_reci')"
   ]
  },
  {
   "cell_type": "code",
   "execution_count": 72,
   "metadata": {
    "collapsed": false,
    "deletable": true,
    "editable": true
   },
   "outputs": [
    {
     "data": {
      "text/html": [
       "<div>\n",
       "<table border=\"1\" class=\"dataframe\">\n",
       "  <thead>\n",
       "    <tr style=\"text-align: right;\">\n",
       "      <th></th>\n",
       "      <th>Before</th>\n",
       "      <th>After</th>\n",
       "      <th>File name</th>\n",
       "      <th>elimi</th>\n",
       "      <th>spon_elimi_bef</th>\n",
       "      <th>spon_elimi_aft</th>\n",
       "    </tr>\n",
       "  </thead>\n",
       "  <tbody>\n",
       "    <tr>\n",
       "      <th>121</th>\n",
       "      <td>{'trace_y1': [[1.06718570617e-12, 1.9225931177...</td>\n",
       "      <td>{'trace_y1': [[8.98784491851e-13, 1.9378377103...</td>\n",
       "      <td>2017081802</td>\n",
       "      <td>30</td>\n",
       "      <td>[0, 1, 15, 20, 21, 22, 25, 32, 39, 42, 78]</td>\n",
       "      <td>[52, 57, 64, 65]</td>\n",
       "    </tr>\n",
       "    <tr>\n",
       "      <th>122</th>\n",
       "      <td>{'trace_y1': [[3.88133921644e-12, 4.6779176446...</td>\n",
       "      <td>{'trace_y1': [[1.6089824765e-12, 2.09339359883...</td>\n",
       "      <td>2017082302</td>\n",
       "      <td>50</td>\n",
       "      <td>[0, 3, 24, 25, 26, 37, 47, 50]</td>\n",
       "      <td>[67, 73, 80, 81, 82, 84, 88, 90, 96, 101, 116,...</td>\n",
       "    </tr>\n",
       "    <tr>\n",
       "      <th>123</th>\n",
       "      <td>{'trace_y1': [[3.01452594813e-13, 9.6920802909...</td>\n",
       "      <td>{'trace_y1': [[2.36300190311e-13, 1.4672657971...</td>\n",
       "      <td>2017082304</td>\n",
       "      <td>40</td>\n",
       "      <td>[16, 18, 19]</td>\n",
       "      <td>[38, 44, 50, 56, 57, 71, 84, 88, 95]</td>\n",
       "    </tr>\n",
       "    <tr>\n",
       "      <th>124</th>\n",
       "      <td>{'trace_y1': [[3.24200114778e-12, 3.9289471339...</td>\n",
       "      <td>{'trace_y1': [[2.20848524723e-12, 2.7797074834...</td>\n",
       "      <td>2017082402</td>\n",
       "      <td>40</td>\n",
       "      <td>[0, 2, 4, 10, 35, 54]</td>\n",
       "      <td>[37]</td>\n",
       "    </tr>\n",
       "    <tr>\n",
       "      <th>125</th>\n",
       "      <td>{'trace_y1': [[4.85948500603e-13, 1.4763201741...</td>\n",
       "      <td>{'trace_y1': [[3.58226665576e-12, 5.5946305424...</td>\n",
       "      <td>2017083001</td>\n",
       "      <td>45</td>\n",
       "      <td>[0, 9, 20, 22, 25, 31, 35, 49, 52, 56, 59]</td>\n",
       "      <td>[57, 63, 67, 70, 71, 80, 104]</td>\n",
       "    </tr>\n",
       "    <tr>\n",
       "      <th>126</th>\n",
       "      <td>{'trace_y1': [[6.5937641816e-14, 3.67299532041...</td>\n",
       "      <td>{'trace_y1': [[1.25534775954e-12, 1.1279376111...</td>\n",
       "      <td>2017083101</td>\n",
       "      <td>30</td>\n",
       "      <td>[3, 5, 12, 13, 14, 15, 16, 19, 24, 44, 50, 67,...</td>\n",
       "      <td>[37, 39, 45, 46, 59, 60]</td>\n",
       "    </tr>\n",
       "  </tbody>\n",
       "</table>\n",
       "</div>"
      ],
      "text/plain": [
       "                                                Before  \\\n",
       "121  {'trace_y1': [[1.06718570617e-12, 1.9225931177...   \n",
       "122  {'trace_y1': [[3.88133921644e-12, 4.6779176446...   \n",
       "123  {'trace_y1': [[3.01452594813e-13, 9.6920802909...   \n",
       "124  {'trace_y1': [[3.24200114778e-12, 3.9289471339...   \n",
       "125  {'trace_y1': [[4.85948500603e-13, 1.4763201741...   \n",
       "126  {'trace_y1': [[6.5937641816e-14, 3.67299532041...   \n",
       "\n",
       "                                                 After   File name  elimi  \\\n",
       "121  {'trace_y1': [[8.98784491851e-13, 1.9378377103...  2017081802     30   \n",
       "122  {'trace_y1': [[1.6089824765e-12, 2.09339359883...  2017082302     50   \n",
       "123  {'trace_y1': [[2.36300190311e-13, 1.4672657971...  2017082304     40   \n",
       "124  {'trace_y1': [[2.20848524723e-12, 2.7797074834...  2017082402     40   \n",
       "125  {'trace_y1': [[3.58226665576e-12, 5.5946305424...  2017083001     45   \n",
       "126  {'trace_y1': [[1.25534775954e-12, 1.1279376111...  2017083101     30   \n",
       "\n",
       "                                        spon_elimi_bef  \\\n",
       "121         [0, 1, 15, 20, 21, 22, 25, 32, 39, 42, 78]   \n",
       "122                     [0, 3, 24, 25, 26, 37, 47, 50]   \n",
       "123                                       [16, 18, 19]   \n",
       "124                              [0, 2, 4, 10, 35, 54]   \n",
       "125         [0, 9, 20, 22, 25, 31, 35, 49, 52, 56, 59]   \n",
       "126  [3, 5, 12, 13, 14, 15, 16, 19, 24, 44, 50, 67,...   \n",
       "\n",
       "                                        spon_elimi_aft  \n",
       "121                                   [52, 57, 64, 65]  \n",
       "122  [67, 73, 80, 81, 82, 84, 88, 90, 96, 101, 116,...  \n",
       "123               [38, 44, 50, 56, 57, 71, 84, 88, 95]  \n",
       "124                                               [37]  \n",
       "125                      [57, 63, 67, 70, 71, 80, 104]  \n",
       "126                           [37, 39, 45, 46, 59, 60]  "
      ]
     },
     "execution_count": 72,
     "metadata": {},
     "output_type": "execute_result"
    }
   ],
   "source": [
    "psc_naspm_stim"
   ]
  },
  {
   "cell_type": "code",
   "execution_count": 73,
   "metadata": {
    "collapsed": false,
    "deletable": true,
    "editable": true
   },
   "outputs": [
    {
     "data": {
      "text/plain": [
       "dict_keys(['trace_y1', 'x', 'ir', 'PPR', 'trace_y2', 'resp1_region', 'failure', 'rs', 'raw_amp2', 'onset_tau', 'spon_trace', 'ave_amp2', 'ave_all', 'raw_amp1', 'resp2_region', 'ave_amp1', 'decay_tau'])"
      ]
     },
     "execution_count": 73,
     "metadata": {},
     "output_type": "execute_result"
    }
   ],
   "source": [
    "target = 125\n",
    "psc_naspm_stim.loc[target].Before.keys()"
   ]
  },
  {
   "cell_type": "code",
   "execution_count": 74,
   "metadata": {
    "collapsed": false,
    "deletable": true,
    "editable": true
   },
   "outputs": [],
   "source": [
    "decay_tau_stim_bef = np.array(psc_naspm_stim.loc[target].Before['decay_tau'])\n",
    "decay_tau_stim_aft = np.array(psc_naspm_stim.loc[target].After['decay_tau'])\n",
    "\n",
    "decay_tau_stim_bef = decay_tau_stim_bef[~np.isnan(decay_tau_stim_bef)]\n",
    "decay_tau_stim_aft = decay_tau_stim_aft[~np.isnan(decay_tau_stim_aft)]"
   ]
  },
  {
   "cell_type": "code",
   "execution_count": 75,
   "metadata": {
    "collapsed": true,
    "deletable": true,
    "editable": true
   },
   "outputs": [],
   "source": [
    "amp_stim_bef = np.array(psc_naspm_stim.loc[target].Before['raw_amp1'])\n",
    "amp_stim_aft = np.array(psc_naspm_stim.loc[target].After['raw_amp1'])\n",
    "\n",
    "amp_stim_bef = amp_stim_bef[~np.isnan(amp_stim_bef)]\n",
    "amp_stim_aft = amp_stim_aft[~np.isnan(amp_stim_aft)]"
   ]
  },
  {
   "cell_type": "code",
   "execution_count": 76,
   "metadata": {
    "collapsed": false,
    "deletable": true,
    "editable": true
   },
   "outputs": [
    {
     "data": {
      "text/plain": [
       "-6.999412527594683"
      ]
     },
     "execution_count": 76,
     "metadata": {},
     "output_type": "execute_result"
    }
   ],
   "source": [
    "np.log(np.min(decay_tau_stim_bef))"
   ]
  },
  {
   "cell_type": "code",
   "execution_count": 77,
   "metadata": {
    "collapsed": false,
    "deletable": true,
    "editable": true
   },
   "outputs": [],
   "source": [
    "para_bef, para_aft = spon_ana.pair_amp_tau(psc_naspm_bef, psc_naspm_aft)"
   ]
  },
  {
   "cell_type": "code",
   "execution_count": 78,
   "metadata": {
    "collapsed": true,
    "deletable": true,
    "editable": true
   },
   "outputs": [],
   "source": [
    "log_amp_bef = np.log(para_bef['amp'])\n",
    "log_amp_aft = np.log(para_aft['amp'])\n",
    "log_decay_bef = np.log(para_bef['decay_tau'])\n",
    "log_decay_aft = np.log(para_aft['decay_tau'])"
   ]
  },
  {
   "cell_type": "code",
   "execution_count": 79,
   "metadata": {
    "collapsed": false,
    "deletable": true,
    "editable": true
   },
   "outputs": [
    {
     "data": {
      "text/plain": [
       "<matplotlib.axes._subplots.AxesSubplot at 0x7eff256fd588>"
      ]
     },
     "execution_count": 79,
     "metadata": {},
     "output_type": "execute_result"
    },
    {
     "data": {
      "image/png": "[encoded data removed]",
      "text/plain": [
       "<matplotlib.figure.Figure at 0x7eff256b9668>"
      ]
     },
     "metadata": {},
     "output_type": "display_data"
    }
   ],
   "source": [
    "sns.distplot(amp_stim_bef)\n",
    "sns.distplot(amp_stim_aft)\n",
    "# plt.xlim([0, 1.4e-10])"
   ]
  },
  {
   "cell_type": "code",
   "execution_count": 80,
   "metadata": {
    "collapsed": false,
    "deletable": true,
    "editable": true
   },
   "outputs": [
    {
     "data": {
      "text/plain": [
       "(0, 1.4e-10)"
      ]
     },
     "execution_count": 80,
     "metadata": {},
     "output_type": "execute_result"
    },
    {
     "data": {
      "image/png": "[encoded data removed]",
      "text/plain": [
       "<matplotlib.figure.Figure at 0x7eff2556a278>"
      ]
     },
     "metadata": {},
     "output_type": "display_data"
    }
   ],
   "source": [
    "sns.distplot(para_bef['amp'])\n",
    "sns.distplot(para_aft['amp'])\n",
    "plt.xlim([0, 1.4e-10])"
   ]
  },
  {
   "cell_type": "code",
   "execution_count": 81,
   "metadata": {
    "collapsed": false,
    "deletable": true,
    "editable": true
   },
   "outputs": [
    {
     "data": {
      "text/plain": [
       "<matplotlib.axes._subplots.AxesSubplot at 0x7eff25958470>"
      ]
     },
     "execution_count": 81,
     "metadata": {},
     "output_type": "execute_result"
    },
    {
     "data": {
      "image/png": "[encoded data removed]",
      "text/plain": [
       "<matplotlib.figure.Figure at 0x7eff2622c400>"
      ]
     },
     "metadata": {},
     "output_type": "display_data"
    }
   ],
   "source": [
    "sns.distplot(para_bef['onset_tau'])\n",
    "sns.distplot(para_aft['onset_tau'])"
   ]
  },
  {
   "cell_type": "code",
   "execution_count": 82,
   "metadata": {
    "collapsed": false,
    "deletable": true,
    "editable": true
   },
   "outputs": [
    {
     "data": {
      "text/plain": [
       "580"
      ]
     },
     "execution_count": 82,
     "metadata": {},
     "output_type": "execute_result"
    }
   ],
   "source": [
    "len(log_decay_bef)"
   ]
  },
  {
   "cell_type": "code",
   "execution_count": 83,
   "metadata": {
    "collapsed": false,
    "deletable": true,
    "editable": true
   },
   "outputs": [
    {
     "data": {
      "text/plain": [
       "611"
      ]
     },
     "execution_count": 83,
     "metadata": {},
     "output_type": "execute_result"
    }
   ],
   "source": [
    "len(log_decay_aft)"
   ]
  },
  {
   "cell_type": "code",
   "execution_count": 84,
   "metadata": {
    "collapsed": false,
    "deletable": true,
    "editable": true,
    "scrolled": true
   },
   "outputs": [
    {
     "name": "stderr",
     "output_type": "stream",
     "text": [
      "/usr/local/lib/python3.5/dist-packages/matplotlib/axes/_axes.py:545: UserWarning: No labelled objects found. Use label='...' kwarg on individual plots.\n",
      "  warnings.warn(\"No labelled objects found. \"\n"
     ]
    },
    {
     "data": {
      "image/png": "[encoded data removed]",
      "text/plain": [
       "<matplotlib.figure.Figure at 0x7eff25426e10>"
      ]
     },
     "metadata": {},
     "output_type": "display_data"
    }
   ],
   "source": [
    "plt.plot(log_decay_bef,log_amp_bef, 'o', alpha=0.2)\n",
    "plt.plot(log_decay_aft,log_amp_aft, 'ro', alpha=0.2)\n",
    "plt.ylim([-26,-21])\n",
    "plt.xlabel('log(decay_tau)')\n",
    "plt.ylabel('log(amplitude)')\n",
    "\n",
    "plt.legend()\n",
    "# with PdfPages('/data/Figure3_10.pdf') as pdf:\n",
    "#     pdf.savefig()"
   ]
  },
  {
   "cell_type": "code",
   "execution_count": null,
   "metadata": {
    "collapsed": false,
    "deletable": true,
    "editable": true
   },
   "outputs": [],
   "source": [
    "len(np.where(log_decay_bef<-7.5)[0])"
   ]
  },
  {
   "cell_type": "code",
   "execution_count": null,
   "metadata": {
    "collapsed": false,
    "deletable": true,
    "editable": true
   },
   "outputs": [],
   "source": [
    "len(np.where(log_decay_aft<-7.5)[0])"
   ]
  },
  {
   "cell_type": "code",
   "execution_count": null,
   "metadata": {
    "collapsed": false,
    "deletable": true,
    "editable": true
   },
   "outputs": [],
   "source": [
    "sns.distplot(log_decay_bef, bins=3)\n",
    "sns.distplot(log_decay_aft, bins=3)"
   ]
  },
  {
   "cell_type": "code",
   "execution_count": null,
   "metadata": {
    "collapsed": false,
    "deletable": true,
    "editable": true
   },
   "outputs": [],
   "source": [
    "bin_edge_bef, cdf_amp_bef = spon_ana.cdf_gen(para_bef['amp'])\n",
    "bin_edge_aft, cdf_amp_aft = spon_ana.cdf_gen(para_aft['amp'])\n",
    "plt.plot(bin_edge_bef, cdf_amp_bef)\n",
    "plt.plot(bin_edge_aft, cdf_amp_aft)"
   ]
  },
  {
   "cell_type": "code",
   "execution_count": null,
   "metadata": {
    "collapsed": false,
    "deletable": true,
    "editable": true
   },
   "outputs": [],
   "source": [
    "bin_edge_bef, cdf_amp_bef = spon_ana.cdf_gen(log_decay_bef)\n",
    "bin_edge_aft, cdf_amp_aft = spon_ana.cdf_gen(log_decay_aft)\n",
    "plt.plot(bin_edge_bef, cdf_amp_bef)\n",
    "plt.plot(bin_edge_aft, cdf_amp_aft,'r')\n",
    "plt.xlim([-8.5, -5.5])"
   ]
  },
  {
   "cell_type": "code",
   "execution_count": null,
   "metadata": {
    "collapsed": false,
    "deletable": true,
    "editable": true
   },
   "outputs": [],
   "source": [
    "import scipy\n",
    "scipy.stats.ranksums(para_bef['decay_tau'], para_aft['decay_tau'])"
   ]
  }
 ],
 "metadata": {
  "kernelspec": {
   "display_name": "Python 3",
   "language": "python",
   "name": "python3"
  },
  "language_info": {
   "codemirror_mode": {
    "name": "ipython",
    "version": 3
   },
   "file_extension": ".py",
   "mimetype": "text/x-python",
   "name": "python",
   "nbconvert_exporter": "python",
   "pygments_lexer": "ipython3",
   "version": "3.5.2"
  }
 },
 "nbformat": 4,
 "nbformat_minor": 2
}
