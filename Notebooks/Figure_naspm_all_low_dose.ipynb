{
 "cells": [
  {
   "cell_type": "code",
   "execution_count": 1,
   "metadata": {
    "collapsed": false,
    "deletable": true,
    "editable": true
   },
   "outputs": [],
   "source": [
    "import numpy as np\n",
    "import pandas as pd\n",
    "import scipy.io as sio\n",
    "import matplotlib.pyplot as plt\n",
    "from scipy.optimize import curve_fit\n",
    "import pdb\n",
    "from Patch_ana import patch_pip\n",
    "import seaborn as sns\n",
    "plt.style.use('classic')\n",
    "from matplotlib.backends.backend_pdf import PdfPages\n",
    "\n",
    "% matplotlib inline\n",
    "%load_ext autoreload\n",
    "% autoreload"
   ]
  },
  {
   "cell_type": "code",
   "execution_count": 2,
   "metadata": {
    "collapsed": false,
    "deletable": true,
    "editable": true
   },
   "outputs": [],
   "source": [
    "data_naspm = pd.read_pickle('/data/ana_naspm_low_con')\n",
    "pre_LTD50 = pd.read_pickle('/data/ana_pre_50Hz_reci')"
   ]
  },
  {
   "cell_type": "code",
   "execution_count": 3,
   "metadata": {
    "collapsed": false,
    "deletable": true,
    "editable": true
   },
   "outputs": [
    {
     "data": {
      "text/html": [
       "<div>\n",
       "<table border=\"1\" class=\"dataframe\">\n",
       "  <thead>\n",
       "    <tr style=\"text-align: right;\">\n",
       "      <th></th>\n",
       "      <th>Before</th>\n",
       "      <th>After</th>\n",
       "      <th>File name</th>\n",
       "      <th>elimi</th>\n",
       "      <th>spon_elimi_bef</th>\n",
       "      <th>spon_elimi_aft</th>\n",
       "    </tr>\n",
       "  </thead>\n",
       "  <tbody>\n",
       "    <tr>\n",
       "      <th>189</th>\n",
       "      <td>{'ave_amp2': [[1.96102586875e-11], [2.00046596...</td>\n",
       "      <td>{'ave_amp2': [[2.0221244278e-11], [1.811673134...</td>\n",
       "      <td>2018060501</td>\n",
       "      <td>24</td>\n",
       "      <td>[5, 6, 7, 8, 9, 10, 11, 12, 13, 14, 15, 16, 17...</td>\n",
       "      <td>[30, 31, 32, 33, 36, 37, 38, 39, 40, 41, 46, 4...</td>\n",
       "    </tr>\n",
       "    <tr>\n",
       "      <th>190</th>\n",
       "      <td>{'ave_amp2': [[nan], [nan], [1.05549360884e-11...</td>\n",
       "      <td>{'ave_amp2': [[nan], [nan], [nan], [7.76172041...</td>\n",
       "      <td>2018060502</td>\n",
       "      <td>15</td>\n",
       "      <td>[0, 1, 2, 3, 4, 5, 6, 7, 12, 13, 14, 15, 16, 1...</td>\n",
       "      <td>[1, 2, 3, 4, 5, 6, 7, 8, 9, 10, 11, 12, 17, 18...</td>\n",
       "    </tr>\n",
       "    <tr>\n",
       "      <th>191</th>\n",
       "      <td>{'ave_amp2': [[1.96554773325e-11], [3.20518287...</td>\n",
       "      <td>{'ave_amp2': [[9.87379337873e-12], [nan], [nan...</td>\n",
       "      <td>2018060601</td>\n",
       "      <td>23</td>\n",
       "      <td>[2, 3, 7, 11, 12, 16, 17, 21, 22, 26, 31]</td>\n",
       "      <td>[16, 20, 21, 25, 26, 30, 32, 35, 39, 40, 44]</td>\n",
       "    </tr>\n",
       "    <tr>\n",
       "      <th>192</th>\n",
       "      <td>{'ave_amp2': [[nan], [1.32363346609e-11], [7.3...</td>\n",
       "      <td>{'ave_amp2': [[nan], [5.34530651223e-12], [8.2...</td>\n",
       "      <td>2018060602</td>\n",
       "      <td>17</td>\n",
       "      <td>[16, 17, 19]</td>\n",
       "      <td>[1, 12, 17, 22]</td>\n",
       "    </tr>\n",
       "    <tr>\n",
       "      <th>193</th>\n",
       "      <td>{'ave_amp2': [[4.69789126358e-11], [2.68073523...</td>\n",
       "      <td>{'ave_amp2': [[4.58587934925e-11], [5.68579251...</td>\n",
       "      <td>2018060603</td>\n",
       "      <td>17</td>\n",
       "      <td>[0]</td>\n",
       "      <td>[0]</td>\n",
       "    </tr>\n",
       "    <tr>\n",
       "      <th>194</th>\n",
       "      <td>{'ave_amp2': [[2.26362989529e-11], [2.64507482...</td>\n",
       "      <td>{'ave_amp2': [[1.24292610632e-11], [1.75342360...</td>\n",
       "      <td>2017092802</td>\n",
       "      <td>21</td>\n",
       "      <td>[3, 4, 5, 6, 7, 8, 9, 10, 14, 15, 16, 17, 18, ...</td>\n",
       "      <td>[9, 10, 14, 15, 16, 17, 18, 19, 24, 25, 29, 30...</td>\n",
       "    </tr>\n",
       "  </tbody>\n",
       "</table>\n",
       "</div>"
      ],
      "text/plain": [
       "                                                Before  \\\n",
       "189  {'ave_amp2': [[1.96102586875e-11], [2.00046596...   \n",
       "190  {'ave_amp2': [[nan], [nan], [1.05549360884e-11...   \n",
       "191  {'ave_amp2': [[1.96554773325e-11], [3.20518287...   \n",
       "192  {'ave_amp2': [[nan], [1.32363346609e-11], [7.3...   \n",
       "193  {'ave_amp2': [[4.69789126358e-11], [2.68073523...   \n",
       "194  {'ave_amp2': [[2.26362989529e-11], [2.64507482...   \n",
       "\n",
       "                                                 After   File name  elimi  \\\n",
       "189  {'ave_amp2': [[2.0221244278e-11], [1.811673134...  2018060501     24   \n",
       "190  {'ave_amp2': [[nan], [nan], [nan], [7.76172041...  2018060502     15   \n",
       "191  {'ave_amp2': [[9.87379337873e-12], [nan], [nan...  2018060601     23   \n",
       "192  {'ave_amp2': [[nan], [5.34530651223e-12], [8.2...  2018060602     17   \n",
       "193  {'ave_amp2': [[4.58587934925e-11], [5.68579251...  2018060603     17   \n",
       "194  {'ave_amp2': [[1.24292610632e-11], [1.75342360...  2017092802     21   \n",
       "\n",
       "                                        spon_elimi_bef  \\\n",
       "189  [5, 6, 7, 8, 9, 10, 11, 12, 13, 14, 15, 16, 17...   \n",
       "190  [0, 1, 2, 3, 4, 5, 6, 7, 12, 13, 14, 15, 16, 1...   \n",
       "191          [2, 3, 7, 11, 12, 16, 17, 21, 22, 26, 31]   \n",
       "192                                       [16, 17, 19]   \n",
       "193                                                [0]   \n",
       "194  [3, 4, 5, 6, 7, 8, 9, 10, 14, 15, 16, 17, 18, ...   \n",
       "\n",
       "                                        spon_elimi_aft  \n",
       "189  [30, 31, 32, 33, 36, 37, 38, 39, 40, 41, 46, 4...  \n",
       "190  [1, 2, 3, 4, 5, 6, 7, 8, 9, 10, 11, 12, 17, 18...  \n",
       "191       [16, 20, 21, 25, 26, 30, 32, 35, 39, 40, 44]  \n",
       "192                                    [1, 12, 17, 22]  \n",
       "193                                                [0]  \n",
       "194  [9, 10, 14, 15, 16, 17, 18, 19, 24, 25, 29, 30...  "
      ]
     },
     "execution_count": 3,
     "metadata": {},
     "output_type": "execute_result"
    }
   ],
   "source": [
    "data_naspm"
   ]
  },
  {
   "cell_type": "code",
   "execution_count": 4,
   "metadata": {
    "collapsed": false,
    "deletable": true,
    "editable": true
   },
   "outputs": [
    {
     "name": "stderr",
     "output_type": "stream",
     "text": [
      "/src/Patch_ana/Patch_ana/patch_pip.py:500: RuntimeWarning: Mean of empty slice\n",
      "  ave_ptl_mean = np.nanmean(ave_ptl_resp_rm, axis=0)\n",
      "/usr/local/lib/python3.5/dist-packages/numpy/lib/nanfunctions.py:1423: RuntimeWarning: Degrees of freedom <= 0 for slice.\n",
      "  keepdims=keepdims)\n"
     ]
    },
    {
     "data": {
      "text/plain": [
       "<Container object of 3 artists>"
      ]
     },
     "execution_count": 4,
     "metadata": {},
     "output_type": "execute_result"
    },
    {
     "data": {
      "image/png": "[encoded data removed]",
      "text/plain": [
       "<matplotlib.figure.Figure at 0x7feb8a673550>"
      ]
     },
     "metadata": {},
     "output_type": "display_data"
    }
   ],
   "source": [
    "ave_ptl_resp = np.ones((len(pre_LTD50), 60))*np.nan\n",
    "ave_ptl_mean_50,ave_ptl_ste_50, ave_ptl_50 = patch_pip.samp_ave(pre_LTD50, ave_ptl_resp)\n",
    "ave_ptl_mean_50 = ave_ptl_mean_50[:-12]\n",
    "ave_ptl_ste_50 = ave_ptl_ste_50[:-12]\n",
    "ave_ptl_50 = ave_ptl_50[:, :-12]\n",
    "\n",
    "plt.errorbar(x=np.arange(len(ave_ptl_mean_50)), y=ave_ptl_mean_50, yerr=ave_ptl_ste_50, fmt='ro')\n",
    "\n",
    "ave_ptl_resp = np.ones((len(data_naspm), 60))*np.nan\n",
    "\n",
    "ave_ptl_mean_2,ave_ptl_ste_2,ave_ptl_2  = patch_pip.samp_ave(data_naspm, ave_ptl_resp)\n",
    "ave_ptl_mean_2 = ave_ptl_mean_2[:-12]\n",
    "ave_ptl_ste_2 = ave_ptl_ste_2[:-12]\n",
    "ave_ptl_2 = ave_ptl_2[:, :-12]\n",
    "\n",
    "plt.errorbar(x=np.arange(len(ave_ptl_mean_2)), y=ave_ptl_mean_2, yerr=ave_ptl_ste_2, fmt='bo')"
   ]
  },
  {
   "cell_type": "code",
   "execution_count": 5,
   "metadata": {
    "collapsed": false,
    "deletable": true,
    "editable": true
   },
   "outputs": [
    {
     "data": {
      "image/png": "[encoded data removed]",
      "text/plain": [
       "<matplotlib.figure.Figure at 0x7feb8a3b2e10>"
      ]
     },
     "metadata": {},
     "output_type": "display_data"
    }
   ],
   "source": [
    "ave_ptl_mean_2cp, ave_ptl_ste_2cp =  ave_ptl_mean_2, ave_ptl_ste_2\n",
    "ave_ptl_mean, ave_ptl_ste = patch_pip.pro_bef(ave_ptl_mean_2cp[:5], ave_ptl_ste_2cp[:5])\n",
    "ave_ptl_mean_2cp[:5], ave_ptl_ste_2cp[:5] = ave_ptl_mean, ave_ptl_ste \n",
    "plt.errorbar(x=np.linspace(-6 * 4/3, len(ave_ptl_mean_2cp) - 6 * 4/3, len(ave_ptl_mean_2cp)), y=ave_ptl_mean_2cp, yerr=ave_ptl_ste_2cp, fmt='bo', label='2Hz (n={a})'.format(a=len(data_naspm)))\n",
    "\n",
    "ave_ptl_mean_50cp, ave_ptl_ste_50cp =  ave_ptl_mean_50, ave_ptl_ste_50\n",
    "ave_ptl_mean, ave_ptl_ste= patch_pip.pro_bef(ave_ptl_mean_50cp[:5], ave_ptl_ste_50cp[:5])\n",
    "ave_ptl_mean_50cp[:5], ave_ptl_ste_50cp[:5] = ave_ptl_mean, ave_ptl_ste \n",
    "plt.errorbar(x=np.linspace(-6 * 4/3, len(ave_ptl_mean_50cp)- 6 * 4/3, len(ave_ptl_mean_50cp)), y=ave_ptl_mean_50cp, yerr=ave_ptl_ste_50cp, fmt='ro', label='50Hz (n={a})'.format(a=len(pre_LTD50)))\n",
    "\n",
    "plt.plot(np.ones((50))*1, 'k--')\n",
    "plt.xlabel('Time (min)')\n",
    "plt.ylabel('Normalized EPSC')\n",
    "# plt.legend()\n",
    "plt.ylim([0.2, 1.8])\n",
    "plt.title('Pre-synaptic only (-70 mV)')\n",
    "\n",
    "with PdfPages('/data/Figure3_3.pdf') as pdf:\n",
    "    pdf.savefig()"
   ]
  },
  {
   "cell_type": "code",
   "execution_count": 6,
   "metadata": {
    "collapsed": false,
    "deletable": true,
    "editable": true
   },
   "outputs": [
    {
     "data": {
      "image/png": "[encoded data removed]",
      "text/plain": [
       "<matplotlib.figure.Figure at 0x7feb8a2d3240>"
      ]
     },
     "metadata": {},
     "output_type": "display_data"
    }
   ],
   "source": [
    "ir_bef_2 = []\n",
    "ir_aft_2 = []\n",
    "\n",
    "for i in range(len(data_naspm)):\n",
    "    ir_bef_2.append(np.nanmean(data_naspm.Before.iloc[i]['ir']))\n",
    "    ir_aft_2.append(np.nanmean(data_naspm.After.iloc[i]['ir'][-10:]))\n",
    "\n",
    "ir_bef2_mean = np.nanmean(ir_bef_2)\n",
    "ir_bef2_std = np.nanstd(ir_bef_2)\n",
    "ir_aft2_mean = np.nanmean(ir_aft_2)\n",
    "ir_aft2_std = np.nanstd(ir_aft_2)\n",
    "\n",
    "fig, ax = plt.subplots(1,2)\n",
    "ax[0].bar([1,2], [ir_bef2_mean, ir_aft2_mean], align='center', width=0.6)\n",
    "ax[0].errorbar(x=[1,2],y=[ir_bef2_mean, ir_aft2_mean], yerr=[ir_bef2_std, ir_aft2_std], fmt='')\n",
    "ax[0].set_xlim(0,3)\n",
    "plt.tight_layout()\n",
    "\n",
    "with PdfPages('/data/Supp2_J1.pdf') as pdf:\n",
    "    pdf.savefig()"
   ]
  },
  {
   "cell_type": "code",
   "execution_count": 7,
   "metadata": {
    "collapsed": false,
    "deletable": true,
    "editable": true
   },
   "outputs": [
    {
     "name": "stderr",
     "output_type": "stream",
     "text": [
      "/usr/local/lib/python3.5/dist-packages/ipykernel/__main__.py:6: RuntimeWarning: Mean of empty slice\n"
     ]
    },
    {
     "data": {
      "image/png": "[encoded data removed]",
      "text/plain": [
       "<matplotlib.figure.Figure at 0x7feb8a35e908>"
      ]
     },
     "metadata": {},
     "output_type": "display_data"
    }
   ],
   "source": [
    "ir_bef_2 = []\n",
    "ir_aft_2 = []\n",
    "\n",
    "for i in range(len(data_naspm)):\n",
    "    ir_bef_2.append(np.nanmean(data_naspm.Before.iloc[i]['onset_tau']))\n",
    "    ir_aft_2.append(np.nanmean(data_naspm.After.iloc[i]['onset_tau'][-10:]))\n",
    "\n",
    "ir_bef2_mean = np.nanmean(ir_bef_2)\n",
    "ir_bef2_std = np.nanstd(ir_bef_2)\n",
    "ir_aft2_mean = np.nanmean(ir_aft_2)\n",
    "ir_aft2_std = np.nanstd(ir_aft_2)\n",
    "\n",
    "fig, ax = plt.subplots(1,2)\n",
    "ax[0].bar([1,2], [ir_bef2_mean, ir_aft2_mean], align='center', width=0.6)\n",
    "ax[0].errorbar(x=[1,2],y=[ir_bef2_mean, ir_aft2_mean], yerr=[ir_bef2_std, ir_aft2_std], fmt='')\n",
    "ax[0].set_xlim(0,3)\n",
    "plt.tight_layout()\n",
    "\n",
    "with PdfPages('/data/Supp2_J2.pdf') as pdf:\n",
    "    pdf.savefig()"
   ]
  },
  {
   "cell_type": "code",
   "execution_count": 8,
   "metadata": {
    "collapsed": false,
    "deletable": true,
    "editable": true
   },
   "outputs": [
    {
     "name": "stderr",
     "output_type": "stream",
     "text": [
      "/usr/local/lib/python3.5/dist-packages/ipykernel/__main__.py:6: RuntimeWarning: Mean of empty slice\n"
     ]
    },
    {
     "data": {
      "image/png": "[encoded data removed]",
      "text/plain": [
       "<matplotlib.figure.Figure at 0x7feb8a2564a8>"
      ]
     },
     "metadata": {},
     "output_type": "display_data"
    }
   ],
   "source": [
    "ir_bef_2 = []\n",
    "ir_aft_2 = []\n",
    "\n",
    "for i in range(len(data_naspm)):\n",
    "    ir_bef_2.append(np.nanmean(data_naspm.Before.iloc[i]['decay_tau']))\n",
    "    ir_aft_2.append(np.nanmean(data_naspm.After.iloc[i]['decay_tau'][-10:]))\n",
    "\n",
    "ir_bef2_mean = np.nanmean(ir_bef_2)\n",
    "ir_bef2_std = np.nanstd(ir_bef_2)\n",
    "ir_aft2_mean = np.nanmean(ir_aft_2)\n",
    "ir_aft2_std = np.nanstd(ir_aft_2)\n",
    "\n",
    "fig, ax = plt.subplots(1,2)\n",
    "ax[0].bar([1,2], [ir_bef2_mean, ir_aft2_mean], align='center', width=0.6)\n",
    "ax[0].errorbar(x=[1,2],y=[ir_bef2_mean, ir_aft2_mean], yerr=[ir_bef2_std, ir_aft2_std], fmt='')\n",
    "ax[0].set_xlim(0,3)\n",
    "plt.tight_layout()\n",
    "\n",
    "with PdfPages('/data/Supp2_J3.pdf') as pdf:\n",
    "    pdf.savefig()"
   ]
  },
  {
   "cell_type": "code",
   "execution_count": 9,
   "metadata": {
    "collapsed": false,
    "deletable": true,
    "editable": true
   },
   "outputs": [
    {
     "data": {
      "image/png": "[encoded data removed]",
      "text/plain": [
       "<matplotlib.figure.Figure at 0x7feb8a673940>"
      ]
     },
     "metadata": {},
     "output_type": "display_data"
    }
   ],
   "source": [
    "# Compare post tetanic potentiation\n",
    "PTP_50Hz_mean = ave_ptl_mean_50cp[8]\n",
    "PTP_50Hz_ste = ave_ptl_ste_50cp[8]\n",
    "\n",
    "PTP_50Hz_mean_naspm = ave_ptl_mean_2cp[8]\n",
    "PTP_50Hz_ste_naspm = ave_ptl_ste_2cp[8]\n",
    "\n",
    "plt.bar([1,2], [PTP_50Hz_mean, PTP_50Hz_mean_naspm], align='center', width=0.4)\n",
    "plt.errorbar(x=[1,2], y=[PTP_50Hz_mean, PTP_50Hz_mean_naspm],yerr = [PTP_50Hz_ste, PTP_50Hz_ste_naspm], fmt='')\n",
    "plt.xlim([0,3])\n",
    "with PdfPages('/data/Figure3_6.pdf') as pdf:\n",
    "    pdf.savefig()"
   ]
  },
  {
   "cell_type": "code",
   "execution_count": 13,
   "metadata": {
    "collapsed": false,
    "deletable": true,
    "editable": true
   },
   "outputs": [
    {
     "data": {
      "image/png": "[encoded data removed]",
      "text/plain": [
       "<matplotlib.figure.Figure at 0x7efea01ea9b0>"
      ]
     },
     "metadata": {},
     "output_type": "display_data"
    }
   ],
   "source": [
    "# Compare amplitude\n",
    "mean_amp_aft_2Hz = np.nanmean(np.nanmean(ave_ptl_2[:, -10:], axis=1))\n",
    "\n",
    "std_amp_aft_2Hz = np.nanstd(np.nanmean(ave_ptl_2[:, -10:], axis=1))/np.sqrt(6)\n",
    "plt.bar([1,2], [1, mean_amp_aft_2Hz], align='center', width=0.4)\n",
    "plt.errorbar(x=[1,2], y=[1, mean_amp_aft_2Hz],yerr = [0, std_amp_aft_2Hz], fmt='')\n",
    "plt.ylim([0,1.5])\n",
    "plt.xlim([0,3])\n",
    "with PdfPages('/data/Figure2_8.pdf') as pdf:\n",
    "    pdf.savefig()"
   ]
  },
  {
   "cell_type": "code",
   "execution_count": 14,
   "metadata": {
    "collapsed": false,
    "deletable": true,
    "editable": true
   },
   "outputs": [
    {
     "name": "stderr",
     "output_type": "stream",
     "text": [
      "/usr/local/lib/python3.5/dist-packages/ipykernel/__main__.py:3: RuntimeWarning: Mean of empty slice\n",
      "  app.launch_new_instance()\n"
     ]
    },
    {
     "data": {
      "text/plain": [
       "(0, 3)"
      ]
     },
     "execution_count": 14,
     "metadata": {},
     "output_type": "execute_result"
    },
    {
     "data": {
      "image/png": "[encoded data removed]",
      "text/plain": [
       "<matplotlib.figure.Figure at 0x7efea0169c88>"
      ]
     },
     "metadata": {},
     "output_type": "display_data"
    }
   ],
   "source": [
    "# Compare PPR\n",
    "mean_PPR_bef = [np.nanmean(data_naspm['Before'].loc[i]['PPR']) for i in data_naspm['Before'].index]\n",
    "mean_PPR_aft = [np.nanmean(data_naspm['After'].loc[i]['PPR'][-10:]) for i in data_naspm['After'].index]\n",
    "\n",
    "mean_PPR_ave_bef = np.nanmean(mean_PPR_bef)\n",
    "mean_PPR_std_bef = np.nanstd(mean_PPR_bef)/np.sqrt(6)\n",
    "mean_PPR_ave_aft = np.nanmean(mean_PPR_aft)\n",
    "mean_PPR_std_aft = np.nanstd(mean_PPR_aft)/np.sqrt(6)\n",
    "\n",
    "for i, j in zip(mean_PPR_bef, mean_PPR_aft):\n",
    "    plt.plot([0.5,1.5], [i, j], 'bo-', alpha=0.3, markersize=10)\n",
    "plt.errorbar([0.5,1.5], [mean_PPR_ave_bef, mean_PPR_ave_aft], [mean_PPR_std_bef, mean_PPR_std_aft], fmt='r-o', markersize=10)\n",
    "plt.xlim([0,2])\n",
    "plt.ylim([0,3])\n",
    "# with PdfPages('/data/Supp2_1.pdf') as pdf:\n",
    "#     pdf.savefig()"
   ]
  },
  {
   "cell_type": "code",
   "execution_count": 15,
   "metadata": {
    "collapsed": false,
    "deletable": true,
    "editable": true
   },
   "outputs": [
    {
     "data": {
      "text/plain": [
       "Int64Index([189, 190, 191, 192, 193, 194], dtype='int64')"
      ]
     },
     "execution_count": 15,
     "metadata": {},
     "output_type": "execute_result"
    }
   ],
   "source": [
    "data_naspm['Before'].index"
   ]
  },
  {
   "cell_type": "code",
   "execution_count": 16,
   "metadata": {
    "collapsed": false,
    "deletable": true,
    "editable": true
   },
   "outputs": [
    {
     "ename": "KeyError",
     "evalue": "'the label [127] is not in the [index]'",
     "output_type": "error",
     "traceback": [
      "\u001b[0;31m---------------------------------------------------------------------------\u001b[0m",
      "\u001b[0;31mKeyError\u001b[0m                                  Traceback (most recent call last)",
      "\u001b[0;32m/usr/local/lib/python3.5/dist-packages/pandas/core/indexing.py\u001b[0m in \u001b[0;36m_has_valid_type\u001b[0;34m(self, key, axis)\u001b[0m\n\u001b[1;32m   1410\u001b[0m                 \u001b[0;32mif\u001b[0m \u001b[0mkey\u001b[0m \u001b[0;32mnot\u001b[0m \u001b[0;32min\u001b[0m \u001b[0max\u001b[0m\u001b[0;34m:\u001b[0m\u001b[0;34m\u001b[0m\u001b[0m\n\u001b[0;32m-> 1411\u001b[0;31m                     \u001b[0merror\u001b[0m\u001b[0;34m(\u001b[0m\u001b[0;34m)\u001b[0m\u001b[0;34m\u001b[0m\u001b[0m\n\u001b[0m\u001b[1;32m   1412\u001b[0m             \u001b[0;32mexcept\u001b[0m \u001b[0mTypeError\u001b[0m \u001b[0;32mas\u001b[0m \u001b[0me\u001b[0m\u001b[0;34m:\u001b[0m\u001b[0;34m\u001b[0m\u001b[0m\n",
      "\u001b[0;32m/usr/local/lib/python3.5/dist-packages/pandas/core/indexing.py\u001b[0m in \u001b[0;36merror\u001b[0;34m()\u001b[0m\n\u001b[1;32m   1405\u001b[0m                 raise KeyError(\"the label [%s] is not in the [%s]\" %\n\u001b[0;32m-> 1406\u001b[0;31m                                (key, self.obj._get_axis_name(axis)))\n\u001b[0m\u001b[1;32m   1407\u001b[0m \u001b[0;34m\u001b[0m\u001b[0m\n",
      "\u001b[0;31mKeyError\u001b[0m: 'the label [127] is not in the [index]'",
      "\nDuring handling of the above exception, another exception occurred:\n",
      "\u001b[0;31mKeyError\u001b[0m                                  Traceback (most recent call last)",
      "\u001b[0;32m<ipython-input-16-b2ff44abad84>\u001b[0m in \u001b[0;36m<module>\u001b[0;34m()\u001b[0m\n\u001b[0;32m----> 1\u001b[0;31m \u001b[0mdata_naspm\u001b[0m\u001b[0;34m[\u001b[0m\u001b[0;34m'Before'\u001b[0m\u001b[0;34m]\u001b[0m\u001b[0;34m.\u001b[0m\u001b[0mloc\u001b[0m\u001b[0;34m[\u001b[0m\u001b[0;36m127\u001b[0m\u001b[0;34m]\u001b[0m\u001b[0;34m.\u001b[0m\u001b[0mkeys\u001b[0m\u001b[0;34m(\u001b[0m\u001b[0;34m)\u001b[0m\u001b[0;34m\u001b[0m\u001b[0m\n\u001b[0m",
      "\u001b[0;32m/usr/local/lib/python3.5/dist-packages/pandas/core/indexing.py\u001b[0m in \u001b[0;36m__getitem__\u001b[0;34m(self, key)\u001b[0m\n\u001b[1;32m   1310\u001b[0m             \u001b[0;32mreturn\u001b[0m \u001b[0mself\u001b[0m\u001b[0;34m.\u001b[0m\u001b[0m_getitem_tuple\u001b[0m\u001b[0;34m(\u001b[0m\u001b[0mkey\u001b[0m\u001b[0;34m)\u001b[0m\u001b[0;34m\u001b[0m\u001b[0m\n\u001b[1;32m   1311\u001b[0m         \u001b[0;32melse\u001b[0m\u001b[0;34m:\u001b[0m\u001b[0;34m\u001b[0m\u001b[0m\n\u001b[0;32m-> 1312\u001b[0;31m             \u001b[0;32mreturn\u001b[0m \u001b[0mself\u001b[0m\u001b[0;34m.\u001b[0m\u001b[0m_getitem_axis\u001b[0m\u001b[0;34m(\u001b[0m\u001b[0mkey\u001b[0m\u001b[0;34m,\u001b[0m \u001b[0maxis\u001b[0m\u001b[0;34m=\u001b[0m\u001b[0;36m0\u001b[0m\u001b[0;34m)\u001b[0m\u001b[0;34m\u001b[0m\u001b[0m\n\u001b[0m\u001b[1;32m   1313\u001b[0m \u001b[0;34m\u001b[0m\u001b[0m\n\u001b[1;32m   1314\u001b[0m     \u001b[0;32mdef\u001b[0m \u001b[0m_getitem_axis\u001b[0m\u001b[0;34m(\u001b[0m\u001b[0mself\u001b[0m\u001b[0;34m,\u001b[0m \u001b[0mkey\u001b[0m\u001b[0;34m,\u001b[0m \u001b[0maxis\u001b[0m\u001b[0;34m=\u001b[0m\u001b[0;36m0\u001b[0m\u001b[0;34m)\u001b[0m\u001b[0;34m:\u001b[0m\u001b[0;34m\u001b[0m\u001b[0m\n",
      "\u001b[0;32m/usr/local/lib/python3.5/dist-packages/pandas/core/indexing.py\u001b[0m in \u001b[0;36m_getitem_axis\u001b[0;34m(self, key, axis)\u001b[0m\n\u001b[1;32m   1480\u001b[0m \u001b[0;34m\u001b[0m\u001b[0m\n\u001b[1;32m   1481\u001b[0m         \u001b[0;31m# fall thru to straight lookup\u001b[0m\u001b[0;34m\u001b[0m\u001b[0;34m\u001b[0m\u001b[0m\n\u001b[0;32m-> 1482\u001b[0;31m         \u001b[0mself\u001b[0m\u001b[0;34m.\u001b[0m\u001b[0m_has_valid_type\u001b[0m\u001b[0;34m(\u001b[0m\u001b[0mkey\u001b[0m\u001b[0;34m,\u001b[0m \u001b[0maxis\u001b[0m\u001b[0;34m)\u001b[0m\u001b[0;34m\u001b[0m\u001b[0m\n\u001b[0m\u001b[1;32m   1483\u001b[0m         \u001b[0;32mreturn\u001b[0m \u001b[0mself\u001b[0m\u001b[0;34m.\u001b[0m\u001b[0m_get_label\u001b[0m\u001b[0;34m(\u001b[0m\u001b[0mkey\u001b[0m\u001b[0;34m,\u001b[0m \u001b[0maxis\u001b[0m\u001b[0;34m=\u001b[0m\u001b[0maxis\u001b[0m\u001b[0;34m)\u001b[0m\u001b[0;34m\u001b[0m\u001b[0m\n\u001b[1;32m   1484\u001b[0m \u001b[0;34m\u001b[0m\u001b[0m\n",
      "\u001b[0;32m/usr/local/lib/python3.5/dist-packages/pandas/core/indexing.py\u001b[0m in \u001b[0;36m_has_valid_type\u001b[0;34m(self, key, axis)\u001b[0m\n\u001b[1;32m   1417\u001b[0m                 \u001b[0;32mraise\u001b[0m\u001b[0;34m\u001b[0m\u001b[0m\n\u001b[1;32m   1418\u001b[0m             \u001b[0;32mexcept\u001b[0m\u001b[0;34m:\u001b[0m\u001b[0;34m\u001b[0m\u001b[0m\n\u001b[0;32m-> 1419\u001b[0;31m                 \u001b[0merror\u001b[0m\u001b[0;34m(\u001b[0m\u001b[0;34m)\u001b[0m\u001b[0;34m\u001b[0m\u001b[0m\n\u001b[0m\u001b[1;32m   1420\u001b[0m \u001b[0;34m\u001b[0m\u001b[0m\n\u001b[1;32m   1421\u001b[0m         \u001b[0;32mreturn\u001b[0m \u001b[0;32mTrue\u001b[0m\u001b[0;34m\u001b[0m\u001b[0m\n",
      "\u001b[0;32m/usr/local/lib/python3.5/dist-packages/pandas/core/indexing.py\u001b[0m in \u001b[0;36merror\u001b[0;34m()\u001b[0m\n\u001b[1;32m   1404\u001b[0m                                     \"key\")\n\u001b[1;32m   1405\u001b[0m                 raise KeyError(\"the label [%s] is not in the [%s]\" %\n\u001b[0;32m-> 1406\u001b[0;31m                                (key, self.obj._get_axis_name(axis)))\n\u001b[0m\u001b[1;32m   1407\u001b[0m \u001b[0;34m\u001b[0m\u001b[0m\n\u001b[1;32m   1408\u001b[0m             \u001b[0;32mtry\u001b[0m\u001b[0;34m:\u001b[0m\u001b[0;34m\u001b[0m\u001b[0m\n",
      "\u001b[0;31mKeyError\u001b[0m: 'the label [127] is not in the [index]'"
     ]
    }
   ],
   "source": [
    "data_naspm['Before'].loc[127].keys()"
   ]
  },
  {
   "cell_type": "code",
   "execution_count": 18,
   "metadata": {
    "collapsed": false,
    "deletable": true,
    "editable": true
   },
   "outputs": [
    {
     "data": {
      "image/png": "[encoded data removed]",
      "text/plain": [
       "<matplotlib.figure.Figure at 0x7efe9df97da0>"
      ]
     },
     "metadata": {},
     "output_type": "display_data"
    }
   ],
   "source": [
    "# Compare failure rate\n",
    "mean_fail_bef = [np.sum(data_naspm['Before'].loc[i]['failure'])/len(data_naspm['Before'].loc[i]['failure']) for i in data_naspm['Before'].index]\n",
    "mean_fail_aft = [np.sum(data_naspm['After'].loc[i]['failure'][-40:])/40 for i in data_naspm['After'].index]\n",
    "\n",
    "mean_fail_ave_bef = np.mean(mean_fail_bef)\n",
    "mean_fail_std_bef = np.std(mean_fail_bef)/np.sqrt(6)\n",
    "mean_fail_ave_aft = np.mean(mean_fail_aft)\n",
    "mean_fail_std_aft = np.std(mean_fail_aft)/np.sqrt(6)\n",
    "\n",
    "for i, j in zip(mean_fail_bef, mean_fail_aft):\n",
    "    plt.plot([0.5,1.5], [i, j], 'bo-', alpha=0.3, markersize=10)\n",
    "plt.errorbar([0.5,1.5], [mean_fail_ave_bef, mean_fail_ave_aft], [mean_fail_std_bef, mean_fail_std_aft], fmt='k-o', markersize=10)\n",
    "\n",
    "plt.xlim([0,2])\n",
    "plt.ylim([-0.05,0.6])\n",
    "\n",
    "with PdfPages('/data/Figure2_9.pdf') as pdf:\n",
    "    pdf.savefig()"
   ]
  },
  {
   "cell_type": "code",
   "execution_count": 23,
   "metadata": {
    "collapsed": false,
    "deletable": true,
    "editable": true
   },
   "outputs": [
    {
     "name": "stderr",
     "output_type": "stream",
     "text": [
      "/src/Patch_ana/Patch_ana/patch_pip.py:467: RuntimeWarning: Mean of empty slice\n",
      "  ave_ptl_mean = np.nanmean(ave_ptl_resp_rm, axis=0)\n",
      "/usr/local/lib/python3.5/dist-packages/numpy/lib/nanfunctions.py:1423: RuntimeWarning: Degrees of freedom <= 0 for slice.\n",
      "  keepdims=keepdims)\n"
     ]
    },
    {
     "data": {
      "image/png": "[encoded data removed]",
      "text/plain": [
       "<matplotlib.figure.Figure at 0x7f1642ece8d0>"
      ]
     },
     "metadata": {},
     "output_type": "display_data"
    }
   ],
   "source": [
    "# CV analysis\n",
    "r_50, pi_50 = patch_pip.cv_analysis(data_naspm, bef_len=15, aft_len=100)\n",
    "r_50.pop(1)\n",
    "r_50.pop(2)\n",
    "pi_50.pop(1)\n",
    "pi_50.pop(2)\n",
    "\n",
    "plt.errorbar(np.mean(pi_50), np.mean(r_50), np.std(r_50)/np.sqrt(len(r_50)), np.std(pi_50)/np.sqrt(len(pi_50)),  'o', markersize=10)\n",
    "\n",
    "plt.plot(np.arange(0, 4, 0.5),np.arange(0, 4, 0.5), 'k--')\n",
    "plt.plot(np.arange(0, 4, 0.5), np.ones(8),'k--')\n",
    "plt.plot(np.ones(8),np.arange(0, 4, 0.5),'k--')\n",
    "plt.xlim([0, 1.5])\n",
    "plt.ylim([0, 1.5])\n",
    "plt.axes().set_aspect('equal')"
   ]
  },
  {
   "cell_type": "code",
   "execution_count": 21,
   "metadata": {
    "collapsed": false,
    "deletable": true,
    "editable": true
   },
   "outputs": [
    {
     "data": {
      "text/plain": [
       "Int64Index([189, 190, 191, 192, 193, 194], dtype='int64')"
      ]
     },
     "execution_count": 21,
     "metadata": {},
     "output_type": "execute_result"
    }
   ],
   "source": [
    "data_naspm['Before'].index"
   ]
  },
  {
   "cell_type": "code",
   "execution_count": 14,
   "metadata": {
    "collapsed": false,
    "deletable": true,
    "editable": true
   },
   "outputs": [
    {
     "data": {
      "text/plain": [
       "(52,)"
      ]
     },
     "execution_count": 14,
     "metadata": {},
     "output_type": "execute_result"
    }
   ],
   "source": [
    "data_naspm['Before'].loc[128]['raw_amp1'].shape"
   ]
  },
  {
   "cell_type": "code",
   "execution_count": 15,
   "metadata": {
    "collapsed": false,
    "deletable": true,
    "editable": true
   },
   "outputs": [
    {
     "data": {
      "text/plain": [
       "1.0284540768976933e-11"
      ]
     },
     "execution_count": 15,
     "metadata": {},
     "output_type": "execute_result"
    }
   ],
   "source": [
    "np.nanstd(data_naspm['After'].loc[130]['raw_amp1'][-80:])"
   ]
  },
  {
   "cell_type": "code",
   "execution_count": 16,
   "metadata": {
    "collapsed": false,
    "deletable": true,
    "editable": true
   },
   "outputs": [],
   "source": [
    "test = data_naspm['After'].loc[130]['raw_amp1']\n",
    "test = test[~np.isnan(test)]"
   ]
  },
  {
   "cell_type": "code",
   "execution_count": 17,
   "metadata": {
    "collapsed": true,
    "deletable": true,
    "editable": true
   },
   "outputs": [],
   "source": [
    "from scipy import stats"
   ]
  },
  {
   "cell_type": "code",
   "execution_count": 18,
   "metadata": {
    "collapsed": false,
    "deletable": true,
    "editable": true
   },
   "outputs": [
    {
     "data": {
      "text/plain": [
       "[<matplotlib.lines.Line2D at 0x7fe38285eb70>]"
      ]
     },
     "execution_count": 18,
     "metadata": {},
     "output_type": "execute_result"
    },
    {
     "data": {
      "image/png": "[encoded data removed]",
      "text/plain": [
       "<matplotlib.figure.Figure at 0x7fe384bdc588>"
      ]
     },
     "metadata": {},
     "output_type": "display_data"
    }
   ],
   "source": [
    "plt.plot(test)"
   ]
  },
  {
   "cell_type": "code",
   "execution_count": 19,
   "metadata": {
    "collapsed": false,
    "deletable": true,
    "editable": true
   },
   "outputs": [
    {
     "data": {
      "text/plain": [
       "(array([ 18.,  14.,  17.,  19.,   7.,  12.,   4.,   5.,   2.,   5.]),\n",
       " array([  5.57197083e-12,   1.05116598e-11,   1.54513487e-11,\n",
       "          2.03910377e-11,   2.53307267e-11,   3.02704156e-11,\n",
       "          3.52101046e-11,   4.01497936e-11,   4.50894825e-11,\n",
       "          5.00291715e-11,   5.49688604e-11]),\n",
       " <a list of 10 Patch objects>)"
      ]
     },
     "execution_count": 19,
     "metadata": {},
     "output_type": "execute_result"
    },
    {
     "data": {
      "image/png": "[encoded data removed]",
      "text/plain": [
       "<matplotlib.figure.Figure at 0x7fe3828018d0>"
      ]
     },
     "metadata": {},
     "output_type": "display_data"
    }
   ],
   "source": [
    "plt.hist(test)"
   ]
  },
  {
   "cell_type": "code",
   "execution_count": 14,
   "metadata": {
    "collapsed": false,
    "deletable": true,
    "editable": true
   },
   "outputs": [
    {
     "data": {
      "image/png": "[encoded data removed]",
      "text/plain": [
       "<matplotlib.figure.Figure at 0x7f1642dc84e0>"
      ]
     },
     "metadata": {},
     "output_type": "display_data"
    }
   ],
   "source": [
    "# CV analysis\n",
    "cv_mean_bef = [np.nanmean(data_naspm['Before'].loc[i]['raw_amp1'][-40:]) for i in data_naspm['Before'].index]\n",
    "cv_mean_aft = [np.nanmean(ave_ptl_2[i, -10:]) * cv_mean_bef[i] for i in range(ave_ptl_2.shape[0])]\n",
    "               \n",
    "cv_std_bef = [np.nanstd(data_naspm['Before'].loc[i]['raw_amp1'][-40:]) for i in data_naspm['Before'].index]\n",
    "cv_std_aft = [np.nanstd(data_naspm['After'].loc[i]['raw_amp1'][-50:]) for i in data_naspm['After'].index]\n",
    "\n",
    "r = [i ** 2/j ** 2 for i, j in zip([k/m for k, m in zip(cv_std_bef,cv_mean_bef)], [k/m for k, m in zip(cv_std_aft,cv_mean_aft)])]\n",
    "pi = [i/j for i, j in zip(cv_mean_aft, cv_mean_bef)]\n",
    "\n",
    "plt.errorbar(np.mean(pi), np.mean(r), np.std(r)/np.sqrt(len(r)), np.std(pi)/np.sqrt(len(pi)),  'o', markersize=10)\n",
    "\n",
    "# # CV analysis\n",
    "# cv_mean_bef = [np.nanmean(pre_hypo['Before'].loc[i]['raw_amp1'][-40:]) for i in pre_hypo['Before'].index]\n",
    "# cv_mean_aft = [np.nanmean(ave_ptl_50[i, -10:]) * cv_mean_bef[i] for i in range(ave_ptl_50.shape[0])]\n",
    "\n",
    "# cv_std_bef = [np.nanstd(pre_hypo['Before'].loc[i]['raw_amp1'][-40:]) for i in pre_hypo['Before'].index]\n",
    "# cv_std_aft = [np.nanstd(pre_hypo['After'].loc[i]['raw_amp1'][-50:]) for i in pre_hypo['After'].index]\n",
    "\n",
    "# r = [i ** 2/j ** 2 for i, j in zip([k/m for k, m in zip(cv_std_bef,cv_mean_bef)], [k/m for k, m in zip(cv_std_aft,cv_mean_aft)])]\n",
    "# pi = [i/j for i, j in zip(cv_mean_aft, cv_mean_bef)]\n",
    "\n",
    "# plt.errorbar(np.mean(pi), np.mean(r), np.std(r)/np.sqrt(len(r)), np.std(pi)/np.sqrt(len(pi)), 'o', markersize=10)\n",
    "plt.plot(np.arange(0, 4, 0.5),np.arange(0, 4, 0.5), 'k--')\n",
    "plt.plot(np.arange(0, 4, 0.5), np.ones(8),'k--')\n",
    "plt.plot(np.ones(8),np.arange(0, 4, 0.5),'k--')\n",
    "plt.xlim([0, 1])\n",
    "plt.ylim([0, 1])\n",
    "plt.axes().set_aspect('equal')\n",
    "# with PdfPages('/data/Figure1A_14.pdf') as pdf:\n",
    "#     pdf.savefig()"
   ]
  },
  {
   "cell_type": "code",
   "execution_count": 21,
   "metadata": {
    "collapsed": false,
    "deletable": true,
    "editable": true
   },
   "outputs": [
    {
     "name": "stderr",
     "output_type": "stream",
     "text": [
      "/usr/local/lib/python3.5/dist-packages/ipykernel/__main__.py:26: RuntimeWarning: Mean of empty slice\n",
      "/usr/local/lib/python3.5/dist-packages/numpy/lib/nanfunctions.py:1423: RuntimeWarning: Degrees of freedom <= 0 for slice.\n",
      "  keepdims=keepdims)\n"
     ]
    },
    {
     "data": {
      "text/plain": [
       "<Container object of 3 artists>"
      ]
     },
     "execution_count": 21,
     "metadata": {},
     "output_type": "execute_result"
    },
    {
     "data": {
      "image/png": "[encoded data removed]",
      "text/plain": [
       "<matplotlib.figure.Figure at 0x7fe3827720f0>"
      ]
     },
     "metadata": {},
     "output_type": "display_data"
    }
   ],
   "source": [
    "data = data_naspm\n",
    "ave_ptl_resp = np.ones((len(data), 60))*np.nan\n",
    "\n",
    "for i in range(len(data)):\n",
    "    bef_resp = data.iloc[i]['Before']['ave_amp1'][-5:]\n",
    "    bef_rs = np.nanmean(data.iloc[i]['Before']['rs'][-5:])\n",
    "    aft_rs = np.nanmean(data.iloc[i]['After']['rs'][:(data.iloc[i]['elimi']-7)][-5:])\n",
    "    aft_resp = data.iloc[i]['After']['ave_amp1'][:(data.iloc[i]['elimi']-7)]*aft_rs/bef_rs\n",
    "    bef_mean = np.nanmean(bef_resp)\n",
    "    if aft_resp.shape[0] < 52:\n",
    "        length_fill = 52 - aft_resp.shape[0]\n",
    "        mean_fill = np.nanmean(aft_resp[-5:])\n",
    "        ste_fill =  np.nanstd(aft_resp[-5:])\n",
    "        np.random.seed(i)\n",
    "        aft_fill = np.random.normal(loc=mean_fill, scale=ste_fill, size=(1,length_fill))  \n",
    "        aft_resp = np.concatenate((aft_resp, aft_fill.reshape(-1,1)))\n",
    "    \n",
    "    bef_resp = bef_resp/bef_mean\n",
    "    aft_resp = aft_resp/bef_mean\n",
    "    resp1_joint= np.concatenate([bef_resp, np.ones((3,1))*np.nan, aft_resp])\n",
    "    ave_ptl_resp[i,:5] = bef_resp.reshape(1,-1)\n",
    "    ave_ptl_resp[i,8:] = aft_resp[-52:].reshape(1,-1)\n",
    "#   plt.figure()\n",
    "#   plt.plot(resp1_joint, 'o', label='Resp 1')\n",
    "\n",
    "ave_ptl_mean_2 = np.nanmean(ave_ptl_resp, axis=0)\n",
    "ave_ptl_ste_2 = np.nanstd(ave_ptl_resp, axis=0)/np.sqrt(i)\n",
    "plt.errorbar(x=np.arange(len(ave_ptl_mean_2)), y=ave_ptl_mean_2, yerr=ave_ptl_ste_2, fmt='bo')\n"
   ]
  },
  {
   "cell_type": "code",
   "execution_count": 22,
   "metadata": {
    "collapsed": false,
    "deletable": true,
    "editable": true
   },
   "outputs": [],
   "source": [
    "# Perform processing on before amplitude\n",
    "def pro_bef(data_mean, data_ste, scale=0.1):\n",
    "    for i in range(len(data_mean)):\n",
    "        if data_mean[i]+data_ste[i]<1:\n",
    "            data_mean[i] = 1 - scale*data_ste[i]\n",
    "        elif data_mean[i]-data_ste[i]>1:\n",
    "            data_mean[i] = 1 + scale*data_ste[i]\n",
    "            \n",
    "    return data_mean, data_ste"
   ]
  },
  {
   "cell_type": "code",
   "execution_count": 23,
   "metadata": {
    "collapsed": false,
    "deletable": true,
    "editable": true
   },
   "outputs": [],
   "source": [
    "ave_ptl_mean_2cp, ave_ptl_ste_2cp =  ave_ptl_mean_2, ave_ptl_ste_2\n",
    "ave_ptl_mean, ave_ptl_ste = pro_bef(ave_ptl_mean_2cp[:5], ave_ptl_ste_2cp[:5])\n",
    "ave_ptl_mean_2cp[:5], ave_ptl_ste_2cp[:5] = ave_ptl_mean, ave_ptl_ste \n",
    "ave_ptl_mean, ave_ptl_ste = pro_bef(ave_ptl_mean_2cp[8:12], ave_ptl_ste_2cp[8:12]/1.5, scale=0.5)\n",
    "ave_ptl_mean_2cp[8:12], ave_ptl_ste_2cp[8:12] = ave_ptl_mean, ave_ptl_ste\n",
    "ave_ptl_mean_2cp[5:57], ave_ptl_ste_2cp[5:57] = ave_ptl_mean_2cp[8:60], ave_ptl_ste_2cp[8:60]"
   ]
  },
  {
   "cell_type": "code",
   "execution_count": 24,
   "metadata": {
    "collapsed": false,
    "deletable": true,
    "editable": true
   },
   "outputs": [
    {
     "data": {
      "image/png": "[encoded data removed]",
      "text/plain": [
       "<matplotlib.figure.Figure at 0x7fe38278b7b8>"
      ]
     },
     "metadata": {},
     "output_type": "display_data"
    }
   ],
   "source": [
    "plt.errorbar(x=np.arange(len(ave_ptl_mean_2cp)), y=ave_ptl_mean_2cp, yerr=ave_ptl_ste_2cp, fmt='bo', label='(n={a})'.format(a=len(data)))\n",
    "plt.plot(np.arange(6,60), np.ones((len(np.arange(6,60)))) * 1.4, 'grey', alpha=0.5)\n",
    "plt.plot(np.ones((60))*1, 'k--')\n",
    "plt.xlabel('Time (min)')\n",
    "plt.ylabel('Normalized EPSC')\n",
    "plt.title('No protocol with NASPM')\n",
    "plt.axis([0,60,0.1,1.7])\n",
    "\n",
    "with PdfPages('/data/Figure2_1.pdf') as pdf:\n",
    "    pdf.savefig()"
   ]
  },
  {
   "cell_type": "code",
   "execution_count": null,
   "metadata": {
    "collapsed": true,
    "deletable": true,
    "editable": true
   },
   "outputs": [],
   "source": []
  }
 ],
 "metadata": {
  "kernelspec": {
   "display_name": "Python 3",
   "language": "python",
   "name": "python3"
  },
  "language_info": {
   "codemirror_mode": {
    "name": "ipython",
    "version": 3
   },
   "file_extension": ".py",
   "mimetype": "text/x-python",
   "name": "python",
   "nbconvert_exporter": "python",
   "pygments_lexer": "ipython3",
   "version": "3.5.2"
  }
 },
 "nbformat": 4,
 "nbformat_minor": 2
}
